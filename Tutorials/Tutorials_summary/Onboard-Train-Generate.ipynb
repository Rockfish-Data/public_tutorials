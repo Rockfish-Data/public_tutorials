{
 "cells": [
  {
   "cell_type": "markdown",
   "metadata": {
    "application/vnd.databricks.v1+cell": {
     "cellMetadata": {},
     "inputWidgets": {},
     "nuid": "059e0f1f-b337-4630-8747-ad7684bbe96d",
     "showTitle": false,
     "tableResultSettingsMap": {},
     "title": ""
    }
   },
   "source": [
    "INSTALL ROCKFISH SDK"
   ]
  },
  {
   "cell_type": "code",
   "execution_count": 0,
   "metadata": {
    "application/vnd.databricks.v1+cell": {
     "cellMetadata": {},
     "inputWidgets": {},
     "nuid": "d0c742ba-ea09-4ac1-afe0-57f339bbdc7f",
     "showTitle": false,
     "tableResultSettingsMap": {},
     "title": ""
    }
   },
   "outputs": [],
   "source": [
    "# GENERATE SYNTHETIC DATASET USING ROCKFISH\n",
    "\n",
    "%pip install -U 'rockfish[labs]' -f 'https://docs142.rockfish.ai/packages/index.html' \n",
    "%restart_python"
   ]
  },
  {
   "cell_type": "markdown",
   "metadata": {
    "application/vnd.databricks.v1+cell": {
     "cellMetadata": {},
     "inputWidgets": {},
     "nuid": "2bc54801-efff-4452-b3b2-0b09f56c0101",
     "showTitle": false,
     "tableResultSettingsMap": {},
     "title": ""
    }
   },
   "source": [
    "SETUP ROCKFISH ENVIRONMENT VARIABLES"
   ]
  },
  {
   "cell_type": "code",
   "execution_count": 0,
   "metadata": {
    "application/vnd.databricks.v1+cell": {
     "cellMetadata": {
      "byteLimit": 2048000,
      "rowLimit": 10000
     },
     "inputWidgets": {},
     "nuid": "aecffede-4771-47b6-9e19-8b6fc22254ce",
     "showTitle": false,
     "tableResultSettingsMap": {},
     "title": ""
    }
   },
   "outputs": [
    {
     "output_type": "stream",
     "name": "stdout",
     "output_type": "stream",
     "text": [
      "env: ROCKFISH_API_KEY=api_key\n"
     ]
    }
   ],
   "source": [
    "# Rockfish Environment Key & API URL\n",
    "import rockfish as rf\n",
    "import rockfish.actions as ra\n",
    "import rockfish.labs as rl\n",
    "#api_key = \"<ENTER YOUR API_KEY HERE>\"\n",
    "#api_url = \"<ENTER YOUR API_URL HERE>\"\n",
    "%env ROCKFISH_API_KEY=api_key\n",
    "conn = rf.Connection.remote(api_url, api_key)"
   ]
  },
  {
   "cell_type": "markdown",
   "metadata": {
    "application/vnd.databricks.v1+cell": {
     "cellMetadata": {},
     "inputWidgets": {},
     "nuid": "a1fb94ee-2f0e-493a-bf31-7a3a7cba11bd",
     "showTitle": false,
     "tableResultSettingsMap": {},
     "title": ""
    }
   },
   "source": [
    "Read Input Data into a dataframe."
   ]
  },
  {
   "cell_type": "code",
   "execution_count": 0,
   "metadata": {
    "application/vnd.databricks.v1+cell": {
     "cellMetadata": {},
     "inputWidgets": {},
     "nuid": "8a503b27-71b8-4ad9-9a96-07c9175a2634",
     "showTitle": false,
     "tableResultSettingsMap": {},
     "title": ""
    }
   },
   "outputs": [],
   "source": [
    "import pandas as pd\n",
    "\n",
    "# Read a CSV file\n",
    "#df = pd.read_csv('<PATH_TO_SAMPLE_DATA_CSV>')"
   ]
  },
  {
   "cell_type": "markdown",
   "metadata": {
    "application/vnd.databricks.v1+cell": {
     "cellMetadata": {},
     "inputWidgets": {},
     "nuid": "f6f0491c-1a90-4c08-8352-b284ae5629fb",
     "showTitle": false,
     "tableResultSettingsMap": {},
     "title": ""
    }
   },
   "source": [
    "GENERATE SYNTHETIC DATA **Onboard Train and Generate** using **Rockfish GenAI** Models."
   ]
  },
  {
   "cell_type": "code",
   "execution_count": 0,
   "metadata": {
    "application/vnd.databricks.v1+cell": {
     "cellMetadata": {},
     "inputWidgets": {},
     "nuid": "eb6d4ca7-220e-49aa-9329-4a6bddb420b0",
     "showTitle": false,
     "tableResultSettingsMap": {},
     "title": ""
    }
   },
   "outputs": [],
   "source": [
    "#Onboard\n",
    "# Perform any necessary feature engineering or preprocessing\n",
    "dataset = rf.Dataset.from_pandas(\"<NAME_OF_DATASET>\",df)\n",
    "\n",
    "categorical_fields = (\n",
    "    df.select_dtypes(include=[\"object\"]).columns\n",
    ")\n",
    "print(categorical_fields)\n",
    "\n",
    "config = {\n",
    "    \"encoder\": {\n",
    "        \"metadata\": [\n",
    "            {\"field\": field, \"type\": \"categorical\"}\n",
    "            for field in categorical_fields\n",
    "        ]\n",
    "        + [\n",
    "            {\"field\": field, \"type\": \"continuous\"}\n",
    "            for field in dataset.table.column_names\n",
    "            if field not in categorical_fields\n",
    "        ],\n",
    "    },\n",
    "    \"tabular-gan\": {\n",
    "        \"epochs\": 20,\n",
    "        \"records\": 100000,\n",
    "    }\n",
    "}\n",
    "print(dataset.table.column_names)"
   ]
  },
  {
   "cell_type": "code",
   "execution_count": 0,
   "metadata": {
    "application/vnd.databricks.v1+cell": {
     "cellMetadata": {},
     "inputWidgets": {},
     "nuid": "9190d7d9-afb1-432b-a811-ab070678af36",
     "showTitle": false,
     "tableResultSettingsMap": {},
     "title": ""
    }
   },
   "outputs": [],
   "source": [
    "#Train\n",
    "train = ra.TrainTabGAN(config)\n",
    "\n",
    "builder = rf.WorkflowBuilder()\n",
    "builder.add_dataset(dataset)\n",
    "builder.add_action(train, parents=[dataset])\n",
    "workflow = await builder.start(conn)\n",
    "print(f\"Workflow: {workflow.id()}\")\n",
    "\n",
    "async for log in workflow.logs():\n",
    "    print(log) \n",
    "\n",
    "model = await workflow.models().nth(0)\n",
    "await model.add_labels(conn)\n",
    "model"
   ]
  },
  {
   "cell_type": "code",
   "execution_count": 0,
   "metadata": {
    "application/vnd.databricks.v1+cell": {
     "cellMetadata": {},
     "inputWidgets": {},
     "nuid": "732d67fe-18f1-4f91-ae97-b519a8eef9a2",
     "showTitle": false,
     "tableResultSettingsMap": {},
     "title": ""
    }
   },
   "outputs": [],
   "source": [
    "#Generate\n",
    "generate = ra.GenerateTabGAN(config)\n",
    "save = ra.DatasetSave({\"name\": \"synthetic\"})\n",
    "builder = rf.WorkflowBuilder()\n",
    "builder.add_model(model)\n",
    "builder.add_action(generate, parents=[model])\n",
    "builder.add_action(save, parents=[generate])\n",
    "workflow = await builder.start(conn)\n",
    "print(f\"Workflow: {workflow.id()}\")\n",
    "\n",
    "syn = None\n",
    "async for sds in workflow.datasets():\n",
    "    syn = await sds.to_local(conn)"
   ]
  },
  {
   "cell_type": "markdown",
   "metadata": {
    "application/vnd.databricks.v1+cell": {
     "cellMetadata": {},
     "inputWidgets": {},
     "nuid": "3eddcfdd-3cbc-43d7-8789-5c2a7b55bf9a",
     "showTitle": false,
     "tableResultSettingsMap": {},
     "title": ""
    }
   },
   "source": [
    "Synthetic Data Assessor"
   ]
  },
  {
   "cell_type": "code",
   "execution_count": 0,
   "metadata": {
    "application/vnd.databricks.v1+cell": {
     "cellMetadata": {},
     "inputWidgets": {},
     "nuid": "46deb49d-8ab1-4f83-947e-83537c2e6ece",
     "showTitle": false,
     "tableResultSettingsMap": {},
     "title": ""
    }
   },
   "outputs": [],
   "source": [
    "for col in dataset.table.column_names:\n",
    "    source_agg = rf.metrics.count_all(dataset, col, nlargest=10)\n",
    "    syn_agg = rf.metrics.count_all(syn, col, nlargest=10)\n",
    "    rl.vis.plot_bar([source_agg, syn_agg], col, f\"{col}_count\")"
   ]
  }
 ],
 "metadata": {
  "application/vnd.databricks.v1+notebook": {
   "dashboards": [],
   "environmentMetadata": {
    "base_environment": "",
    "client": "1"
   },
   "language": "python",
   "notebookMetadata": {
    "pythonIndentUnit": 4
   },
   "notebookName": "Onboard-Train-Generate",
   "widgets": {}
  },
  "language_info": {
   "name": "python"
  }
 },
 "nbformat": 4,
 "nbformat_minor": 0
}