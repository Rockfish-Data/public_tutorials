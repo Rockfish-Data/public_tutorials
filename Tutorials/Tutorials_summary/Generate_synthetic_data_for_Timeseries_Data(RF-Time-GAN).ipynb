{
  "cells": [
    {
      "cell_type": "code",
      "execution_count": null,
      "id": "64c0d8a8",
      "metadata": {
        "id": "64c0d8a8"
      },
      "outputs": [],
      "source": [
        "%%capture\n",
        "%pip install -U 'rockfish[labs]' -f 'https://docs142.rockfish.ai/packages/index.html'"
      ]
    },
    {
      "cell_type": "code",
      "execution_count": null,
      "id": "71b6977e",
      "metadata": {
        "id": "71b6977e"
      },
      "outputs": [],
      "source": [
        "import rockfish as rf\n",
        "import rockfish.actions as ra\n",
        "import rockfish.labs as rl"
      ]
    },
    {
      "cell_type": "markdown",
      "id": "2619057e",
      "metadata": {},
      "source": [
        "Please replace `YOUR_API_KEY` with the assigned API key string. Note that it should be without quotes.\n",
        "\n",
        "For example, if the assigned API Key is `abcd1234`, you can do the following\n",
        "```python\n",
        "%env ROCKFISH_API_KEY=abcd1234\n",
        "conn = rf.Connection.from_env()\n",
        "```\n",
        "If you do not have API Key, please reach out to support@rockfish.ai."
      ]
    },
    {
      "cell_type": "code",
      "execution_count": null,
      "id": "712ac74c",
      "metadata": {
        "id": "712ac74c"
      },
      "outputs": [],
      "source": [
        "%env ROCKFISH_API_KEY=YOUR_API_KEY\n",
        "conn = rf.Connection.from_env()"
      ]
    },
    {
      "cell_type": "code",
      "execution_count": null,
      "id": "9828d37e",
      "metadata": {
        "id": "9828d37e"
      },
      "outputs": [],
      "source": [
        "# download our example of timeseries data: finance.csv\n",
        "!wget --no-clobber https://docs142.rockfish.ai/tutorials/finance.csv"
      ]
    },
    {
      "cell_type": "code",
      "execution_count": null,
      "id": "5b9f8764",
      "metadata": {
        "id": "5b9f8764"
      },
      "outputs": [],
      "source": [
        "dataset = rf.Dataset.from_csv(\"finance\", \"finance.csv\")\n",
        "dataset.to_pandas()"
      ]
    },
    {
      "cell_type": "code",
      "execution_count": null,
      "id": "248b1e82",
      "metadata": {
        "id": "248b1e82"
      },
      "outputs": [],
      "source": [
        "config = ra.TrainTimeGAN.Config(\n",
        "    encoder=ra.TrainTimeGAN.DatasetConfig(\n",
        "        timestamp=ra.TrainTimeGAN.TimestampConfig(field=\"timestamp\"),\n",
        "        metadata=[\n",
        "            ra.TrainTimeGAN.FieldConfig(field=\"customer\", type=\"session\"),\n",
        "            ra.TrainTimeGAN.FieldConfig(field=\"age\", type=\"categorical\"),\n",
        "            ra.TrainTimeGAN.FieldConfig(field=\"gender\", type=\"categorical\"),\n",
        "        ],\n",
        "        measurements=[\n",
        "            ra.TrainTimeGAN.FieldConfig(field=\"merchant\", type=\"categorical\"),\n",
        "            ra.TrainTimeGAN.FieldConfig(field=\"category\", type=\"categorical\"),\n",
        "            ra.TrainTimeGAN.FieldConfig(field=\"amount\"),\n",
        "            ra.TrainTimeGAN.FieldConfig(field=\"fraud\", type=\"categorical\"),\n",
        "        ],\n",
        "    ),\n",
        "    doppelganger=ra.TrainTimeGAN.DGConfig(\n",
        "        sample_len=19, epoch=10, epoch_checkpoint_freq=10, batch_size=64, sessions=3765\n",
        "    ),\n",
        ")\n",
        "\n",
        "# create train action\n",
        "train = ra.TrainTimeGAN(config)"
      ]
    },
    {
      "cell_type": "code",
      "execution_count": null,
      "id": "14dc3fc5",
      "metadata": {
        "id": "14dc3fc5"
      },
      "outputs": [],
      "source": [
        "builder = rf.WorkflowBuilder()\n",
        "builder.add_dataset(dataset)\n",
        "builder.add_action(train, parents=[dataset])\n",
        "workflow = await builder.start(conn)\n",
        "print(f\"Workflow: {workflow.id()}\")"
      ]
    },
    {
      "cell_type": "code",
      "execution_count": null,
      "id": "99d8eb87",
      "metadata": {
        "id": "99d8eb87"
      },
      "outputs": [],
      "source": [
        "async for progress in workflow.progress().notebook():\n",
        "    pass"
      ]
    },
    {
      "cell_type": "code",
      "execution_count": null,
      "id": "28eb4982",
      "metadata": {
        "id": "28eb4982"
      },
      "outputs": [],
      "source": [
        "model = await workflow.models().last()\n",
        "model"
      ]
    },
    {
      "cell_type": "code",
      "execution_count": null,
      "id": "e0e74ad3",
      "metadata": {
        "id": "e0e74ad3"
      },
      "outputs": [],
      "source": [
        "generate = ra.GenerateTimeGAN(config)\n",
        "save = ra.DatasetSave({\"name\": \"synthetic\"})\n",
        "builder = rf.WorkflowBuilder()\n",
        "builder.add_model(model)\n",
        "builder.add_action(generate, parents=[model])\n",
        "builder.add_action(save, parents=[generate])\n",
        "workflow = await builder.start(conn)\n",
        "print(f\"Workflow: {workflow.id()}\")"
      ]
    },
    {
      "cell_type": "code",
      "execution_count": null,
      "id": "f776b814",
      "metadata": {
        "id": "f776b814"
      },
      "outputs": [],
      "source": [
        "async for progress in workflow.progress().notebook():\n",
        "    pass"
      ]
    },
    {
      "cell_type": "code",
      "execution_count": null,
      "id": "e7f0c1a7",
      "metadata": {
        "id": "e7f0c1a7"
      },
      "outputs": [],
      "source": [
        "syn = None\n",
        "async for sds in workflow.datasets():\n",
        "    syn = await sds.to_local(conn)\n",
        "syn.to_pandas()"
      ]
    },
    {
      "cell_type": "markdown",
      "id": "d49b9a01",
      "metadata": {
        "id": "d49b9a01"
      },
      "source": [
        "### Evaluation"
      ]
    },
    {
      "cell_type": "code",
      "execution_count": null,
      "id": "ad5070ea",
      "metadata": {
        "id": "ad5070ea"
      },
      "outputs": [],
      "source": [
        "source_data = rf.Dataset.from_pandas(\"source\", dataset.to_pandas())\n",
        "syn_data = rf.Dataset.from_pandas(\n",
        "    \"rf-dg\", syn.to_pandas().rename(columns={\"session_key\": \"customer\"})\n",
        ")\n",
        "schema_metadata = rf.arrow.SchemaMetadata(metadata=[\"customer\", \"age\", \"gender\"])\n",
        "source_data.table = rf.arrow.replace_schema_metadata(source_data.table, schema_metadata)\n",
        "syn_data.table = syn_data.table.select(source_data.table.column_names)\n",
        "syn_data.table = rf.arrow.replace_schema_metadata(syn_data.table, schema_metadata)\n",
        "\n",
        "syn_data.table = syn_data.table.cast(source_data.table.schema, safe = False)"
      ]
    },
    {
      "cell_type": "markdown",
      "id": "e428ad7c",
      "metadata": {
        "id": "e428ad7c"
      },
      "source": [
        "**1. session length**"
      ]
    },
    {
      "cell_type": "code",
      "execution_count": null,
      "id": "a8bb1516",
      "metadata": {
        "id": "a8bb1516"
      },
      "outputs": [],
      "source": [
        "source_sess = rf.metrics.session_length(source_data)\n",
        "syn_sess = rf.metrics.session_length(syn_data)\n",
        "rf.labs.vis.plot_kde([source_sess, syn_sess], \"session_length\")"
      ]
    },
    {
      "cell_type": "markdown",
      "id": "1b59cf6f",
      "metadata": {
        "id": "1b59cf6f"
      },
      "source": [
        "**2. interarrival time**\n",
        "\n",
        "Here the unit for duration is in seconds"
      ]
    },
    {
      "cell_type": "code",
      "execution_count": null,
      "id": "e5a2fabd",
      "metadata": {
        "id": "e5a2fabd"
      },
      "outputs": [],
      "source": [
        "timestamp = \"timestamp\"\n",
        "source_interarrival = rf.metrics.interarrivals(source_data, timestamp)\n",
        "syn_interarrival = rf.metrics.interarrivals(syn_data, timestamp)\n",
        "rf.labs.vis.plot_kde(\n",
        "    [source_interarrival, syn_interarrival], \"interarrival\", duration_unit=\"s\"\n",
        ")"
      ]
    },
    {
      "cell_type": "markdown",
      "id": "8a7422b2",
      "metadata": {
        "id": "8a7422b2"
      },
      "source": [
        "**3. numerical columns**"
      ]
    },
    {
      "cell_type": "code",
      "execution_count": null,
      "id": "5ba21ea6",
      "metadata": {
        "id": "5ba21ea6"
      },
      "outputs": [],
      "source": [
        "rf.labs.vis.plot_kde([source_data, syn_data], \"amount\")"
      ]
    },
    {
      "cell_type": "markdown",
      "id": "87535dfb",
      "metadata": {
        "id": "87535dfb"
      },
      "source": [
        "**4. categorical columns**\n",
        "\n",
        "If there is a large categorical column containing over 10 categories, we plot the Top10 bars for users to compare.\n",
        "\n",
        "NB. If you want to show more than Top10, update the number of `nlargest`"
      ]
    },
    {
      "cell_type": "code",
      "execution_count": null,
      "id": "0658944c",
      "metadata": {
        "id": "0658944c"
      },
      "outputs": [],
      "source": [
        "for col in [\"age\", \"gender\", \"merchant\", \"category\", \"fraud\"]:\n",
        "    source_agg = rf.metrics.count_all(dataset, col, nlargest=10)\n",
        "    syn_agg = rf.metrics.count_all(syn_data, col, nlargest=10)\n",
        "    rf.labs.vis.plot_bar([source_agg, syn_agg], col, f\"{col}_count\")"
      ]
    }
  ],
  "metadata": {
    "colab": {
      "provenance": []
    },
    "jupytext": {
      "main_language": "python"
    },
    "kernelspec": {
      "display_name": "Python 3",
      "name": "python3"
    },
    "language_info": {
      "codemirror_mode": {
        "name": "ipython",
        "version": 3
      },
      "file_extension": ".py",
      "mimetype": "text/x-python",
      "name": "python",
      "nbconvert_exporter": "python",
      "pygments_lexer": "ipython3",
      "version": "3.12.4"
    }
  },
  "nbformat": 4,
  "nbformat_minor": 5
}
