{
  "cells": [
    {
      "cell_type": "code",
      "execution_count": 1,
      "metadata": {
        "id": "hgVdjEBIGUub"
      },
      "outputs": [],
      "source": [
        "%%capture\n",
        "%pip install -U 'rockfish[labs]' -f 'https://packages.rockfish.ai'"
      ]
    },
    {
      "cell_type": "code",
      "execution_count": 2,
      "metadata": {
        "id": "lplEGc_Syjdf"
      },
      "outputs": [],
      "source": [
        "import rockfish as rf\n",
        "import rockfish.actions as ra\n",
        "import rockfish.labs as rl\n",
        "import warnings\n",
        "\n",
        "warnings.filterwarnings(\"ignore\")"
      ]
    },
    {
      "cell_type": "markdown",
      "metadata": {},
      "source": [
        "Please replace `YOUR_API_KEY` with the assigned API key string. Note that it should be without quotes.\n",
        "\n",
        "For example, if the assigned API Key is `abcd1234`, you can do the following\n",
        "\n",
        "```python\n",
        "%env ROCKFISH_API_KEY=abcd1234\n",
        "conn = rf.Connection.from_env()\n",
        "```\n",
        "\n",
        "If you do not have API Key, please reach out to support@rockfish.ai.\n"
      ]
    },
    {
      "cell_type": "code",
      "execution_count": null,
      "metadata": {
        "id": "zfprA7dZyjaw"
      },
      "outputs": [],
      "source": [
        "%env ROCKFISH_API_KEY=YOUR_API_KEY\n",
        "conn = rf.Connection.from_env()"
      ]
    },
    {
      "cell_type": "code",
      "execution_count": 4,
      "metadata": {
        "colab": {
          "base_uri": "https://localhost:8080/"
        },
        "id": "22x8RaE4yjYS",
        "outputId": "21e9a929-8f71-4dd2-960b-ee004aa2292a"
      },
      "outputs": [
        {
          "name": "stdout",
          "output_type": "stream",
          "text": [
            "File ‘pcap.csv’ already there; not retrieving.\n",
            "\n"
          ]
        }
      ],
      "source": [
        "# download our example of timeseries data: pcap.csv\n",
        "!wget --no-clobber https://docs.rockfish.ai/tutorials/pcap.csv"
      ]
    },
    {
      "cell_type": "code",
      "execution_count": 5,
      "metadata": {
        "colab": {
          "base_uri": "https://localhost:8080/",
          "height": 424
        },
        "id": "rLqODOndyjVo",
        "outputId": "6adb87b6-96c8-487a-f83d-c8a7cec373d7"
      },
      "outputs": [
        {
          "data": {
            "text/html": [
              "<div>\n",
              "<style scoped>\n",
              "    .dataframe tbody tr th:only-of-type {\n",
              "        vertical-align: middle;\n",
              "    }\n",
              "\n",
              "    .dataframe tbody tr th {\n",
              "        vertical-align: top;\n",
              "    }\n",
              "\n",
              "    .dataframe thead th {\n",
              "        text-align: right;\n",
              "    }\n",
              "</style>\n",
              "<table border=\"1\" class=\"dataframe\">\n",
              "  <thead>\n",
              "    <tr style=\"text-align: right;\">\n",
              "      <th></th>\n",
              "      <th>srcip</th>\n",
              "      <th>dstip</th>\n",
              "      <th>srcport</th>\n",
              "      <th>dstport</th>\n",
              "      <th>proto</th>\n",
              "      <th>timestamp</th>\n",
              "      <th>pkt_len</th>\n",
              "    </tr>\n",
              "  </thead>\n",
              "  <tbody>\n",
              "    <tr>\n",
              "      <th>0</th>\n",
              "      <td>244.3.253.224</td>\n",
              "      <td>244.3.160.239</td>\n",
              "      <td>3396</td>\n",
              "      <td>80</td>\n",
              "      <td>6</td>\n",
              "      <td>2009-12-17 16:27:36.075494</td>\n",
              "      <td>40</td>\n",
              "    </tr>\n",
              "    <tr>\n",
              "      <th>1</th>\n",
              "      <td>41.177.26.91</td>\n",
              "      <td>68.157.168.194</td>\n",
              "      <td>80</td>\n",
              "      <td>65003</td>\n",
              "      <td>6</td>\n",
              "      <td>2009-12-17 16:27:36.075515</td>\n",
              "      <td>1500</td>\n",
              "    </tr>\n",
              "    <tr>\n",
              "      <th>2</th>\n",
              "      <td>41.177.26.91</td>\n",
              "      <td>68.157.168.194</td>\n",
              "      <td>80</td>\n",
              "      <td>65003</td>\n",
              "      <td>6</td>\n",
              "      <td>2009-12-17 16:27:36.075519</td>\n",
              "      <td>940</td>\n",
              "    </tr>\n",
              "    <tr>\n",
              "      <th>3</th>\n",
              "      <td>41.177.26.91</td>\n",
              "      <td>68.157.168.194</td>\n",
              "      <td>80</td>\n",
              "      <td>65003</td>\n",
              "      <td>6</td>\n",
              "      <td>2009-12-17 16:27:36.075553</td>\n",
              "      <td>1500</td>\n",
              "    </tr>\n",
              "    <tr>\n",
              "      <th>4</th>\n",
              "      <td>41.177.26.91</td>\n",
              "      <td>68.157.168.194</td>\n",
              "      <td>80</td>\n",
              "      <td>65003</td>\n",
              "      <td>6</td>\n",
              "      <td>2009-12-17 16:27:36.075603</td>\n",
              "      <td>1500</td>\n",
              "    </tr>\n",
              "    <tr>\n",
              "      <th>...</th>\n",
              "      <td>...</td>\n",
              "      <td>...</td>\n",
              "      <td>...</td>\n",
              "      <td>...</td>\n",
              "      <td>...</td>\n",
              "      <td>...</td>\n",
              "      <td>...</td>\n",
              "    </tr>\n",
              "    <tr>\n",
              "      <th>95</th>\n",
              "      <td>68.157.168.194</td>\n",
              "      <td>41.177.26.91</td>\n",
              "      <td>45615</td>\n",
              "      <td>80</td>\n",
              "      <td>6</td>\n",
              "      <td>2009-12-17 16:27:36.099423</td>\n",
              "      <td>60</td>\n",
              "    </tr>\n",
              "    <tr>\n",
              "      <th>96</th>\n",
              "      <td>41.177.26.91</td>\n",
              "      <td>68.157.168.194</td>\n",
              "      <td>80</td>\n",
              "      <td>45615</td>\n",
              "      <td>6</td>\n",
              "      <td>2009-12-17 16:27:36.099891</td>\n",
              "      <td>64</td>\n",
              "    </tr>\n",
              "    <tr>\n",
              "      <th>97</th>\n",
              "      <td>41.177.3.203</td>\n",
              "      <td>41.177.3.224</td>\n",
              "      <td>58381</td>\n",
              "      <td>1791</td>\n",
              "      <td>6</td>\n",
              "      <td>2009-12-17 16:27:36.100508</td>\n",
              "      <td>40</td>\n",
              "    </tr>\n",
              "    <tr>\n",
              "      <th>98</th>\n",
              "      <td>244.3.41.84</td>\n",
              "      <td>244.3.31.67</td>\n",
              "      <td>2626</td>\n",
              "      <td>1592</td>\n",
              "      <td>6</td>\n",
              "      <td>2009-12-17 16:27:36.105025</td>\n",
              "      <td>237</td>\n",
              "    </tr>\n",
              "    <tr>\n",
              "      <th>99</th>\n",
              "      <td>244.3.31.67</td>\n",
              "      <td>244.3.41.84</td>\n",
              "      <td>1592</td>\n",
              "      <td>2626</td>\n",
              "      <td>6</td>\n",
              "      <td>2009-12-17 16:27:36.105664</td>\n",
              "      <td>230</td>\n",
              "    </tr>\n",
              "  </tbody>\n",
              "</table>\n",
              "<p>100 rows × 7 columns</p>\n",
              "</div>"
            ],
            "text/plain": [
              "             srcip           dstip  srcport  dstport  proto  \\\n",
              "0    244.3.253.224   244.3.160.239     3396       80      6   \n",
              "1     41.177.26.91  68.157.168.194       80    65003      6   \n",
              "2     41.177.26.91  68.157.168.194       80    65003      6   \n",
              "3     41.177.26.91  68.157.168.194       80    65003      6   \n",
              "4     41.177.26.91  68.157.168.194       80    65003      6   \n",
              "..             ...             ...      ...      ...    ...   \n",
              "95  68.157.168.194    41.177.26.91    45615       80      6   \n",
              "96    41.177.26.91  68.157.168.194       80    45615      6   \n",
              "97    41.177.3.203    41.177.3.224    58381     1791      6   \n",
              "98     244.3.41.84     244.3.31.67     2626     1592      6   \n",
              "99     244.3.31.67     244.3.41.84     1592     2626      6   \n",
              "\n",
              "                    timestamp  pkt_len  \n",
              "0  2009-12-17 16:27:36.075494       40  \n",
              "1  2009-12-17 16:27:36.075515     1500  \n",
              "2  2009-12-17 16:27:36.075519      940  \n",
              "3  2009-12-17 16:27:36.075553     1500  \n",
              "4  2009-12-17 16:27:36.075603     1500  \n",
              "..                        ...      ...  \n",
              "95 2009-12-17 16:27:36.099423       60  \n",
              "96 2009-12-17 16:27:36.099891       64  \n",
              "97 2009-12-17 16:27:36.100508       40  \n",
              "98 2009-12-17 16:27:36.105025      237  \n",
              "99 2009-12-17 16:27:36.105664      230  \n",
              "\n",
              "[100 rows x 7 columns]"
            ]
          },
          "execution_count": 5,
          "metadata": {},
          "output_type": "execute_result"
        }
      ],
      "source": [
        "dataset = rf.Dataset.from_csv(\"DC pcap\", \"pcap.csv\")\n",
        "dataset.to_pandas()"
      ]
    },
    {
      "cell_type": "code",
      "execution_count": null,
      "metadata": {},
      "outputs": [],
      "source": [
        "train_config = ra.TrainTimeTransformer.Config(\n",
        "    encoder=ra.TrainTimeTransformer.DatasetConfig(\n",
        "        timestamp=ra.TrainTimeTransformer.TimestampConfig(field=\"timestamp\"),\n",
        "        metadata=[\n",
        "            ra.TrainTimeTransformer.FieldConfig(\n",
        "                field=\"srcip\", type=\"categorical\"\n",
        "            ),\n",
        "            ra.TrainTimeTransformer.FieldConfig(\n",
        "                field=\"dstip\", type=\"categorical\"\n",
        "            ),\n",
        "            ra.TrainTimeTransformer.FieldConfig(\n",
        "                field=\"srcport\", type=\"categorical\"\n",
        "            ),\n",
        "            ra.TrainTimeTransformer.FieldConfig(\n",
        "                field=\"dstport\", type=\"categorical\"\n",
        "            ),\n",
        "            ra.TrainTimeTransformer.FieldConfig(\n",
        "                field=\"proto\", type=\"categorical\"\n",
        "            ),\n",
        "        ],\n",
        "        measurements=[\n",
        "            ra.TrainTimeTransformer.FieldConfig(field=\"pkt_len\"),\n",
        "        ],\n",
        "    ),\n",
        "    rtf=ra.TrainTimeTransformer.TrainConfig(\n",
        "        num_bootstrap=2,\n",
        "        parent=ra.TrainTimeTransformer.ParentConfig(\n",
        "            epochs=1,\n",
        "            gpt2_config=ra.TrainTimeTransformer.GPT2Config(\n",
        "                layer=1, head=1, embed=1\n",
        "            ),\n",
        "        ),\n",
        "        child=ra.TrainTimeTransformer.ChildConfig(\n",
        "            epochs=1, output_max_length=2048\n",
        "        ),\n",
        "    ),\n",
        ")\n",
        "# create train action\n",
        "train = ra.TrainTimeTransformer(train_config)"
      ]
    },
    {
      "cell_type": "code",
      "execution_count": 16,
      "metadata": {
        "colab": {
          "base_uri": "https://localhost:8080/"
        },
        "id": "h2_N4q1ny6TD",
        "outputId": "d6e35d90-8a3b-416f-ee45-e07f449152d2"
      },
      "outputs": [
        {
          "name": "stdout",
          "output_type": "stream",
          "text": [
            "Workflow: 75S2AZxVU1SL34iK6va0ef\n"
          ]
        }
      ],
      "source": [
        "builder = rf.WorkflowBuilder()\n",
        "builder.add_dataset(dataset)\n",
        "builder.add_action(train, parents=[dataset])\n",
        "workflow = await builder.start(conn)\n",
        "print(f\"Workflow: {workflow.id()}\")"
      ]
    },
    {
      "cell_type": "code",
      "execution_count": 17,
      "metadata": {
        "colab": {
          "base_uri": "https://localhost:8080/"
        },
        "id": "jSNt3HEfy6Qa",
        "outputId": "db53c24b-079e-40f2-d972-cf618964fc97"
      },
      "outputs": [
        {
          "name": "stdout",
          "output_type": "stream",
          "text": [
            "2025-02-27T23:24:52Z dataset-load: INFO Downloading dataset '26hHoPLs92KaH4gToL4Zsh'\n",
            "2025-02-27T23:24:53Z dataset-load: INFO Downloaded dataset '26hHoPLs92KaH4gToL4Zsh' with 100 rows\n",
            "2025-02-27T23:24:53Z train-time-transformer: INFO Start training...\n",
            "2025-02-27T23:24:59Z train-time-transformer: INFO Epoch 1 completed.\n",
            "2025-02-27T23:24:59Z train-time-transformer: INFO Start training relational model...\n",
            "2025-02-27T23:25:32Z train-time-transformer: INFO Training completed. The Model ID is 21113308-f562-11ef-9da2-1a1838b36913\n"
          ]
        }
      ],
      "source": [
        "async for log in workflow.logs():\n",
        "    print(log)"
      ]
    },
    {
      "cell_type": "code",
      "execution_count": 18,
      "metadata": {
        "colab": {
          "base_uri": "https://localhost:8080/"
        },
        "id": "dutE6-cLy6OF",
        "outputId": "8c44feaf-d542-4b0d-c33b-748836afbdb7"
      },
      "outputs": [
        {
          "data": {
            "text/plain": [
              "Model(id='21113308-f562-11ef-9da2-1a1838b36913', labels={'workflow_id': '75S2AZxVU1SL34iK6va0ef'}, create_time=datetime.datetime(2025, 2, 27, 23, 25, 28, tzinfo=datetime.timezone.utc), size_bytes=389512704)"
            ]
          },
          "execution_count": 18,
          "metadata": {},
          "output_type": "execute_result"
        }
      ],
      "source": [
        "model = await workflow.models().last()\n",
        "model"
      ]
    },
    {
      "cell_type": "code",
      "execution_count": null,
      "metadata": {
        "colab": {
          "base_uri": "https://localhost:8080/"
        },
        "id": "EmFFNTRwy6LF",
        "outputId": "3958a697-958f-4171-a901-001bbffc08f8"
      },
      "outputs": [
        {
          "name": "stdout",
          "output_type": "stream",
          "text": [
            "Workflow: 53B5VPmZ4tOM2BEAyEMH4h\n"
          ]
        }
      ],
      "source": [
        "generate_config = ra.GenerateTimeTransformer.Config()\n",
        "generate = ra.GenerateTimeTransformer(generate_config)\n",
        "save = ra.DatasetSave(name=\"synthetic\")\n",
        "target = ra.SessionTarget(target=30)\n",
        "builder = rf.WorkflowBuilder()\n",
        "builder.add_model(model)\n",
        "builder.add_action(generate, parents=[model, target])\n",
        "builder.add_action(target, parents=[generate])\n",
        "builder.add_action(save, parents=[generate])\n",
        "workflow = await builder.start(conn)\n",
        "print(f\"Workflow: {workflow.id()}\")"
      ]
    },
    {
      "cell_type": "code",
      "execution_count": 39,
      "metadata": {
        "colab": {
          "base_uri": "https://localhost:8080/"
        },
        "id": "5_riQ8Iuy6Iv",
        "outputId": "82db41e5-6f62-4497-8955-a98dd8f69e2d"
      },
      "outputs": [
        {
          "name": "stdout",
          "output_type": "stream",
          "text": [
            "2025-02-28T00:24:35Z generate-time-transformer: INFO Starting download of Model 21113308-f562-11ef-9da2-1a1838b36913\n",
            "2025-02-28T00:24:54Z generate-time-transformer: INFO Finished download of Model 21113308-f562-11ef-9da2-1a1838b36913\n",
            "2025-02-28T00:24:54Z generate-time-transformer: INFO Start generating samples...\n",
            "2025-02-28T00:24:56Z generate-time-transformer: INFO Finish generating samples...\n",
            "2025-02-28T00:24:57Z session-target: INFO Grouping on: ['session_key']\n",
            "2025-02-28T00:24:57Z dataset-save: INFO using field 'session_key' to concatenate tables\n",
            "2025-02-28T00:24:57Z session-target: INFO new=19 total=19 needs=11\n",
            "2025-02-28T00:24:57Z generate-time-transformer: INFO Starting download of Model 21113308-f562-11ef-9da2-1a1838b36913\n",
            "2025-02-28T00:24:57Z dataset-save: INFO Saved dataset '2PWWtvFU6WwFlFeIvsqNC7' with 154 rows\n",
            "2025-02-28T00:25:23Z generate-time-transformer: INFO Finished download of Model 21113308-f562-11ef-9da2-1a1838b36913\n",
            "2025-02-28T00:25:23Z generate-time-transformer: INFO Start generating samples...\n",
            "2025-02-28T00:25:26Z generate-time-transformer: INFO Finish generating samples...\n",
            "2025-02-28T00:25:26Z dataset-save: INFO using field 'session_key' to concatenate tables\n",
            "2025-02-28T00:25:26Z session-target: INFO Grouping on: ['session_key']\n",
            "2025-02-28T00:25:26Z session-target: INFO new=17 total=36 needs=-6\n"
          ]
        }
      ],
      "source": [
        "async for log in workflow.logs():\n",
        "    print(log)"
      ]
    },
    {
      "cell_type": "code",
      "execution_count": 40,
      "metadata": {
        "colab": {
          "base_uri": "https://localhost:8080/",
          "height": 424
        },
        "id": "ifeaOMP6zXT3",
        "outputId": "b2e11bdb-918d-4409-e242-bcb8ebcac665"
      },
      "outputs": [
        {
          "data": {
            "text/html": [
              "<div>\n",
              "<style scoped>\n",
              "    .dataframe tbody tr th:only-of-type {\n",
              "        vertical-align: middle;\n",
              "    }\n",
              "\n",
              "    .dataframe tbody tr th {\n",
              "        vertical-align: top;\n",
              "    }\n",
              "\n",
              "    .dataframe thead th {\n",
              "        text-align: right;\n",
              "    }\n",
              "</style>\n",
              "<table border=\"1\" class=\"dataframe\">\n",
              "  <thead>\n",
              "    <tr style=\"text-align: right;\">\n",
              "      <th></th>\n",
              "      <th>srcip</th>\n",
              "      <th>dstip</th>\n",
              "      <th>srcport</th>\n",
              "      <th>dstport</th>\n",
              "      <th>proto</th>\n",
              "      <th>timestamp</th>\n",
              "      <th>pkt_len</th>\n",
              "      <th>session_key</th>\n",
              "    </tr>\n",
              "  </thead>\n",
              "  <tbody>\n",
              "    <tr>\n",
              "      <th>0</th>\n",
              "      <td>41.177.241.46</td>\n",
              "      <td>41.177.3.224</td>\n",
              "      <td>190</td>\n",
              "      <td>1356</td>\n",
              "      <td>6</td>\n",
              "      <td>2009-12-17 16:27:36</td>\n",
              "      <td>1183</td>\n",
              "      <td>20</td>\n",
              "    </tr>\n",
              "    <tr>\n",
              "      <th>1</th>\n",
              "      <td>41.177.241.46</td>\n",
              "      <td>41.177.3.224</td>\n",
              "      <td>190</td>\n",
              "      <td>1356</td>\n",
              "      <td>6</td>\n",
              "      <td>2009-12-17 16:27:36</td>\n",
              "      <td>1140</td>\n",
              "      <td>20</td>\n",
              "    </tr>\n",
              "    <tr>\n",
              "      <th>2</th>\n",
              "      <td>41.177.241.46</td>\n",
              "      <td>41.177.3.224</td>\n",
              "      <td>190</td>\n",
              "      <td>1356</td>\n",
              "      <td>6</td>\n",
              "      <td>2009-12-17 16:27:36</td>\n",
              "      <td>441</td>\n",
              "      <td>20</td>\n",
              "    </tr>\n",
              "    <tr>\n",
              "      <th>3</th>\n",
              "      <td>41.177.241.46</td>\n",
              "      <td>41.177.3.224</td>\n",
              "      <td>190</td>\n",
              "      <td>1356</td>\n",
              "      <td>6</td>\n",
              "      <td>2009-12-17 16:27:36</td>\n",
              "      <td>1040</td>\n",
              "      <td>20</td>\n",
              "    </tr>\n",
              "    <tr>\n",
              "      <th>4</th>\n",
              "      <td>41.177.241.46</td>\n",
              "      <td>41.177.3.224</td>\n",
              "      <td>190</td>\n",
              "      <td>1356</td>\n",
              "      <td>6</td>\n",
              "      <td>2009-12-17 16:27:36</td>\n",
              "      <td>1574</td>\n",
              "      <td>20</td>\n",
              "    </tr>\n",
              "    <tr>\n",
              "      <th>...</th>\n",
              "      <td>...</td>\n",
              "      <td>...</td>\n",
              "      <td>...</td>\n",
              "      <td>...</td>\n",
              "      <td>...</td>\n",
              "      <td>...</td>\n",
              "      <td>...</td>\n",
              "      <td>...</td>\n",
              "    </tr>\n",
              "    <tr>\n",
              "      <th>242</th>\n",
              "      <td>244.3.153.25</td>\n",
              "      <td>244.3.31.67</td>\n",
              "      <td>8686</td>\n",
              "      <td>1853</td>\n",
              "      <td>6</td>\n",
              "      <td>2009-12-17 16:27:36</td>\n",
              "      <td>1643</td>\n",
              "      <td>19</td>\n",
              "    </tr>\n",
              "    <tr>\n",
              "      <th>243</th>\n",
              "      <td>244.3.153.25</td>\n",
              "      <td>244.3.31.67</td>\n",
              "      <td>8686</td>\n",
              "      <td>1853</td>\n",
              "      <td>6</td>\n",
              "      <td>2009-12-17 16:27:36</td>\n",
              "      <td>91</td>\n",
              "      <td>19</td>\n",
              "    </tr>\n",
              "    <tr>\n",
              "      <th>244</th>\n",
              "      <td>244.3.153.25</td>\n",
              "      <td>244.3.31.67</td>\n",
              "      <td>8686</td>\n",
              "      <td>1853</td>\n",
              "      <td>6</td>\n",
              "      <td>2009-12-17 16:27:36</td>\n",
              "      <td>1020</td>\n",
              "      <td>19</td>\n",
              "    </tr>\n",
              "    <tr>\n",
              "      <th>245</th>\n",
              "      <td>244.3.153.25</td>\n",
              "      <td>244.3.31.67</td>\n",
              "      <td>8686</td>\n",
              "      <td>1853</td>\n",
              "      <td>6</td>\n",
              "      <td>2009-12-17 16:27:36</td>\n",
              "      <td>40</td>\n",
              "      <td>19</td>\n",
              "    </tr>\n",
              "    <tr>\n",
              "      <th>246</th>\n",
              "      <td>244.3.153.25</td>\n",
              "      <td>244.3.31.67</td>\n",
              "      <td>8686</td>\n",
              "      <td>1853</td>\n",
              "      <td>6</td>\n",
              "      <td>2009-12-17 16:27:36</td>\n",
              "      <td>180</td>\n",
              "      <td>19</td>\n",
              "    </tr>\n",
              "  </tbody>\n",
              "</table>\n",
              "<p>247 rows × 8 columns</p>\n",
              "</div>"
            ],
            "text/plain": [
              "             srcip         dstip  srcport  dstport  proto           timestamp  \\\n",
              "0    41.177.241.46  41.177.3.224      190     1356      6 2009-12-17 16:27:36   \n",
              "1    41.177.241.46  41.177.3.224      190     1356      6 2009-12-17 16:27:36   \n",
              "2    41.177.241.46  41.177.3.224      190     1356      6 2009-12-17 16:27:36   \n",
              "3    41.177.241.46  41.177.3.224      190     1356      6 2009-12-17 16:27:36   \n",
              "4    41.177.241.46  41.177.3.224      190     1356      6 2009-12-17 16:27:36   \n",
              "..             ...           ...      ...      ...    ...                 ...   \n",
              "242   244.3.153.25   244.3.31.67     8686     1853      6 2009-12-17 16:27:36   \n",
              "243   244.3.153.25   244.3.31.67     8686     1853      6 2009-12-17 16:27:36   \n",
              "244   244.3.153.25   244.3.31.67     8686     1853      6 2009-12-17 16:27:36   \n",
              "245   244.3.153.25   244.3.31.67     8686     1853      6 2009-12-17 16:27:36   \n",
              "246   244.3.153.25   244.3.31.67     8686     1853      6 2009-12-17 16:27:36   \n",
              "\n",
              "     pkt_len  session_key  \n",
              "0       1183           20  \n",
              "1       1140           20  \n",
              "2        441           20  \n",
              "3       1040           20  \n",
              "4       1574           20  \n",
              "..       ...          ...  \n",
              "242     1643           19  \n",
              "243       91           19  \n",
              "244     1020           19  \n",
              "245       40           19  \n",
              "246      180           19  \n",
              "\n",
              "[247 rows x 8 columns]"
            ]
          },
          "execution_count": 40,
          "metadata": {},
          "output_type": "execute_result"
        }
      ],
      "source": [
        "syn = await workflow.datasets().concat(conn)\n",
        "syn.to_pandas()"
      ]
    },
    {
      "cell_type": "markdown",
      "metadata": {
        "id": "5b8-_h-rzunG"
      },
      "source": [
        "# Evaluate the synthetic dataset\n"
      ]
    },
    {
      "cell_type": "code",
      "execution_count": 34,
      "metadata": {},
      "outputs": [],
      "source": [
        "# assign metadata fields or session_key to both datasets in order to compute\n",
        "# session related metrics\n",
        "dataset = dataset.with_table_metadata(\n",
        "    rf.TableMetadata(metadata=\"srcip dstip srcport dstport proto\".split())\n",
        ")\n",
        "syn = syn.with_table_metadata(rf.TableMetadata(metadata=[\"session_key\"]))"
      ]
    },
    {
      "cell_type": "markdown",
      "metadata": {
        "id": "AYKdYxQRz5DB"
      },
      "source": [
        "**Numerical columns**\n"
      ]
    },
    {
      "cell_type": "code",
      "execution_count": 35,
      "metadata": {
        "colab": {
          "base_uri": "https://localhost:8080/",
          "height": 501
        },
        "id": "hD8iKjTUzXLe",
        "outputId": "8f14adec-1d3e-4420-ac1f-926fe020aec8"
      },
      "outputs": [
        {
          "data": {
            "text/plain": [
              "<seaborn.axisgrid.FacetGrid at 0x311e31490>"
            ]
          },
          "execution_count": 35,
          "metadata": {},
          "output_type": "execute_result"
        },
        {
          "data": {
            "image/png": "[encoded data removed]",
            "text/plain": [
              "<Figure size 615.125x500 with 1 Axes>"
            ]
          },
          "metadata": {},
          "output_type": "display_data"
        }
      ],
      "source": [
        "col = \"pkt_len\"\n",
        "rf.labs.vis.plot_kde([dataset, syn], col)"
      ]
    },
    {
      "cell_type": "markdown",
      "metadata": {
        "id": "iuy9lvU00T8A"
      },
      "source": [
        "**Categorical columns**\n"
      ]
    },
    {
      "cell_type": "code",
      "execution_count": 36,
      "metadata": {
        "colab": {
          "base_uri": "https://localhost:8080/",
          "height": 1000
        },
        "id": "016Kj3kh0TbM",
        "outputId": "c89791b1-39cc-40ef-d9b7-40fbe34f89ed"
      },
      "outputs": [
        {
          "data": {
            "image/png": "[encoded data removed]",
            "text/plain": [
              "<Figure size 615.125x500 with 1 Axes>"
            ]
          },
          "metadata": {},
          "output_type": "display_data"
        },
        {
          "data": {
            "image/png": "[encoded data removed]",
            "text/plain": [
              "<Figure size 615.125x500 with 1 Axes>"
            ]
          },
          "metadata": {},
          "output_type": "display_data"
        }
      ],
      "source": [
        "for col in [\"proto\", \"srcport\"]:\n",
        "    source_agg = rf.metrics.count_all(dataset, col, nlargest=5)\n",
        "    syn_agg = rf.metrics.count_all(syn, col, nlargest=5)\n",
        "    rf.labs.vis.plot_bar([source_agg, syn_agg], col, f\"{col}_count\")"
      ]
    }
  ],
  "metadata": {
    "colab": {
      "provenance": []
    },
    "kernelspec": {
      "display_name": "rockfish",
      "language": "python",
      "name": "python3"
    },
    "language_info": {
      "codemirror_mode": {
        "name": "ipython",
        "version": 3
      },
      "file_extension": ".py",
      "mimetype": "text/x-python",
      "name": "python",
      "nbconvert_exporter": "python",
      "pygments_lexer": "ipython3",
      "version": "3.11.8"
    }
  },
  "nbformat": 4,
  "nbformat_minor": 0
}
