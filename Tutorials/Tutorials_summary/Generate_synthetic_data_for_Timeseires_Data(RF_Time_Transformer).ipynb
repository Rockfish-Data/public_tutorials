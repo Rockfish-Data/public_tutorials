{
  "cells": [
    {
      "cell_type": "code",
      "execution_count": 1,
      "metadata": {
        "id": "hgVdjEBIGUub"
      },
      "outputs": [],
      "source": [
        "%%capture\n",
        "%pip install -U 'rockfish[labs]' -f 'https://packages.rockfish.ai'"
      ]
    },
    {
      "cell_type": "code",
      "execution_count": 2,
      "metadata": {
        "id": "lplEGc_Syjdf"
      },
      "outputs": [],
      "source": [
        "import rockfish as rf\n",
        "import rockfish.actions as ra\n",
        "import rockfish.labs as rl"
      ]
    },
    {
      "cell_type": "markdown",
      "metadata": {},
      "source": [
        "Please replace `YOUR_API_KEY` with the assigned API key string. Note that it should be without quotes.\n",
        "\n",
        "For example, if the assigned API Key is `abcd1234`, you can do the following\n",
        "\n",
        "```python\n",
        "%env ROCKFISH_API_KEY=abcd1234\n",
        "conn = rf.Connection.from_env()\n",
        "```\n",
        "\n",
        "If you do not have API Key, please reach out to support@rockfish.ai.\n"
      ]
    },
    {
      "cell_type": "code",
      "execution_count": 3,
      "metadata": {
        "id": "zfprA7dZyjaw"
      },
      "outputs": [],
      "source": [
        "%env ROCKFISH_API_KEY=YOUR_API_KEY\n",
        "conn = rf.Connection.from_env()"
      ]
    },
    {
      "cell_type": "code",
      "execution_count": 4,
      "metadata": {
        "colab": {
          "base_uri": "https://localhost:8080/"
        },
        "id": "22x8RaE4yjYS",
        "outputId": "21e9a929-8f71-4dd2-960b-ee004aa2292a"
      },
      "outputs": [
        {
          "name": "stdout",
          "output_type": "stream",
          "text": [
            "--2024-12-12 18:56:59--  https://docs.rockfish.ai/tutorials/pcap.csv\n",
            "Resolving docs.rockfish.ai (docs.rockfish.ai)... 2600:9000:249b:d600:3:1cb5:3480:93a1, 2600:9000:249b:5800:3:1cb5:3480:93a1, 2600:9000:249b:ea00:3:1cb5:3480:93a1, ...\n",
            "Connecting to docs.rockfish.ai (docs.rockfish.ai)|2600:9000:249b:d600:3:1cb5:3480:93a1|:443... connected.\n"
          ]
        },
        {
          "name": "stderr",
          "output_type": "stream",
          "text": [
            "WARNING: All log messages before absl::InitializeLog() is called are written to STDERR\n",
            "I0000 00:00:1734058619.616208 8428882 fork_posix.cc:77] Other threads are currently calling into gRPC, skipping fork() handlers\n"
          ]
        },
        {
          "name": "stdout",
          "output_type": "stream",
          "text": [
            "HTTP request sent, awaiting response... 200 OK\n",
            "Length: 7043 (6.9K) [text/csv]\n",
            "Saving to: ‘pcap.csv’\n",
            "\n",
            "pcap.csv            100%[===================>]   6.88K  --.-KB/s    in 0s      \n",
            "\n",
            "2024-12-12 18:57:00 (517 MB/s) - ‘pcap.csv’ saved [7043/7043]\n",
            "\n"
          ]
        }
      ],
      "source": [
        "# download our example of timeseries data: pcap.csv\n",
        "!wget --no-clobber https://docs.rockfish.ai/tutorials/pcap.csv"
      ]
    },
    {
      "cell_type": "code",
      "execution_count": 5,
      "metadata": {
        "colab": {
          "base_uri": "https://localhost:8080/",
          "height": 424
        },
        "id": "rLqODOndyjVo",
        "outputId": "6adb87b6-96c8-487a-f83d-c8a7cec373d7"
      },
      "outputs": [
        {
          "data": {
            "text/html": [
              "<div>\n",
              "<style scoped>\n",
              "    .dataframe tbody tr th:only-of-type {\n",
              "        vertical-align: middle;\n",
              "    }\n",
              "\n",
              "    .dataframe tbody tr th {\n",
              "        vertical-align: top;\n",
              "    }\n",
              "\n",
              "    .dataframe thead th {\n",
              "        text-align: right;\n",
              "    }\n",
              "</style>\n",
              "<table border=\"1\" class=\"dataframe\">\n",
              "  <thead>\n",
              "    <tr style=\"text-align: right;\">\n",
              "      <th></th>\n",
              "      <th>srcip</th>\n",
              "      <th>dstip</th>\n",
              "      <th>srcport</th>\n",
              "      <th>dstport</th>\n",
              "      <th>proto</th>\n",
              "      <th>timestamp</th>\n",
              "      <th>pkt_len</th>\n",
              "    </tr>\n",
              "  </thead>\n",
              "  <tbody>\n",
              "    <tr>\n",
              "      <th>0</th>\n",
              "      <td>244.3.253.224</td>\n",
              "      <td>244.3.160.239</td>\n",
              "      <td>3396</td>\n",
              "      <td>80</td>\n",
              "      <td>6</td>\n",
              "      <td>2009-12-17 16:27:36.075494</td>\n",
              "      <td>40</td>\n",
              "    </tr>\n",
              "    <tr>\n",
              "      <th>1</th>\n",
              "      <td>41.177.26.91</td>\n",
              "      <td>68.157.168.194</td>\n",
              "      <td>80</td>\n",
              "      <td>65003</td>\n",
              "      <td>6</td>\n",
              "      <td>2009-12-17 16:27:36.075515</td>\n",
              "      <td>1500</td>\n",
              "    </tr>\n",
              "    <tr>\n",
              "      <th>2</th>\n",
              "      <td>41.177.26.91</td>\n",
              "      <td>68.157.168.194</td>\n",
              "      <td>80</td>\n",
              "      <td>65003</td>\n",
              "      <td>6</td>\n",
              "      <td>2009-12-17 16:27:36.075519</td>\n",
              "      <td>940</td>\n",
              "    </tr>\n",
              "    <tr>\n",
              "      <th>3</th>\n",
              "      <td>41.177.26.91</td>\n",
              "      <td>68.157.168.194</td>\n",
              "      <td>80</td>\n",
              "      <td>65003</td>\n",
              "      <td>6</td>\n",
              "      <td>2009-12-17 16:27:36.075553</td>\n",
              "      <td>1500</td>\n",
              "    </tr>\n",
              "    <tr>\n",
              "      <th>4</th>\n",
              "      <td>41.177.26.91</td>\n",
              "      <td>68.157.168.194</td>\n",
              "      <td>80</td>\n",
              "      <td>65003</td>\n",
              "      <td>6</td>\n",
              "      <td>2009-12-17 16:27:36.075603</td>\n",
              "      <td>1500</td>\n",
              "    </tr>\n",
              "    <tr>\n",
              "      <th>...</th>\n",
              "      <td>...</td>\n",
              "      <td>...</td>\n",
              "      <td>...</td>\n",
              "      <td>...</td>\n",
              "      <td>...</td>\n",
              "      <td>...</td>\n",
              "      <td>...</td>\n",
              "    </tr>\n",
              "    <tr>\n",
              "      <th>95</th>\n",
              "      <td>68.157.168.194</td>\n",
              "      <td>41.177.26.91</td>\n",
              "      <td>45615</td>\n",
              "      <td>80</td>\n",
              "      <td>6</td>\n",
              "      <td>2009-12-17 16:27:36.099423</td>\n",
              "      <td>60</td>\n",
              "    </tr>\n",
              "    <tr>\n",
              "      <th>96</th>\n",
              "      <td>41.177.26.91</td>\n",
              "      <td>68.157.168.194</td>\n",
              "      <td>80</td>\n",
              "      <td>45615</td>\n",
              "      <td>6</td>\n",
              "      <td>2009-12-17 16:27:36.099891</td>\n",
              "      <td>64</td>\n",
              "    </tr>\n",
              "    <tr>\n",
              "      <th>97</th>\n",
              "      <td>41.177.3.203</td>\n",
              "      <td>41.177.3.224</td>\n",
              "      <td>58381</td>\n",
              "      <td>1791</td>\n",
              "      <td>6</td>\n",
              "      <td>2009-12-17 16:27:36.100508</td>\n",
              "      <td>40</td>\n",
              "    </tr>\n",
              "    <tr>\n",
              "      <th>98</th>\n",
              "      <td>244.3.41.84</td>\n",
              "      <td>244.3.31.67</td>\n",
              "      <td>2626</td>\n",
              "      <td>1592</td>\n",
              "      <td>6</td>\n",
              "      <td>2009-12-17 16:27:36.105025</td>\n",
              "      <td>237</td>\n",
              "    </tr>\n",
              "    <tr>\n",
              "      <th>99</th>\n",
              "      <td>244.3.31.67</td>\n",
              "      <td>244.3.41.84</td>\n",
              "      <td>1592</td>\n",
              "      <td>2626</td>\n",
              "      <td>6</td>\n",
              "      <td>2009-12-17 16:27:36.105664</td>\n",
              "      <td>230</td>\n",
              "    </tr>\n",
              "  </tbody>\n",
              "</table>\n",
              "<p>100 rows × 7 columns</p>\n",
              "</div>"
            ],
            "text/plain": [
              "             srcip           dstip  srcport  dstport  proto  \\\n",
              "0    244.3.253.224   244.3.160.239     3396       80      6   \n",
              "1     41.177.26.91  68.157.168.194       80    65003      6   \n",
              "2     41.177.26.91  68.157.168.194       80    65003      6   \n",
              "3     41.177.26.91  68.157.168.194       80    65003      6   \n",
              "4     41.177.26.91  68.157.168.194       80    65003      6   \n",
              "..             ...             ...      ...      ...    ...   \n",
              "95  68.157.168.194    41.177.26.91    45615       80      6   \n",
              "96    41.177.26.91  68.157.168.194       80    45615      6   \n",
              "97    41.177.3.203    41.177.3.224    58381     1791      6   \n",
              "98     244.3.41.84     244.3.31.67     2626     1592      6   \n",
              "99     244.3.31.67     244.3.41.84     1592     2626      6   \n",
              "\n",
              "                    timestamp  pkt_len  \n",
              "0  2009-12-17 16:27:36.075494       40  \n",
              "1  2009-12-17 16:27:36.075515     1500  \n",
              "2  2009-12-17 16:27:36.075519      940  \n",
              "3  2009-12-17 16:27:36.075553     1500  \n",
              "4  2009-12-17 16:27:36.075603     1500  \n",
              "..                        ...      ...  \n",
              "95 2009-12-17 16:27:36.099423       60  \n",
              "96 2009-12-17 16:27:36.099891       64  \n",
              "97 2009-12-17 16:27:36.100508       40  \n",
              "98 2009-12-17 16:27:36.105025      237  \n",
              "99 2009-12-17 16:27:36.105664      230  \n",
              "\n",
              "[100 rows x 7 columns]"
            ]
          },
          "execution_count": 5,
          "metadata": {},
          "output_type": "execute_result"
        }
      ],
      "source": [
        "dataset = rf.Dataset.from_csv(\"DC pcap\", \"pcap.csv\")\n",
        "dataset.to_pandas()"
      ]
    },
    {
      "cell_type": "code",
      "execution_count": 6,
      "metadata": {},
      "outputs": [],
      "source": [
        "config = {\n",
        "    \"encoder\": {\n",
        "        \"timestamp\": {\"field\": \"timestamp\"},\n",
        "        \"metadata\": [\n",
        "            {\"field\": \"srcip\", \"type\": \"categorical\"},\n",
        "            {\"field\": \"dstip\", \"type\": \"categorical\"},\n",
        "            {\"field\": \"srcport\", \"type\": \"categorical\"},\n",
        "            {\"field\": \"dstport\", \"type\": \"categorical\"},\n",
        "            {\"field\": \"proto\", \"type\": \"categorical\"},\n",
        "        ],\n",
        "        \"measurements\": [{\"field\": \"pkt_len\", \"type\": \"continuous\"}],\n",
        "    },\n",
        "    \"rtf\": {\n",
        "        \"mode\": \"relational\",\n",
        "        \"num_bootstrap\": 2,\n",
        "        \"parent\": {\n",
        "            \"epochs\": 1,\n",
        "            \"transformer\": {\n",
        "                \"gpt2_config\": {\"layer\": 1, \"head\": 1, \"embed\": 1}\n",
        "            },\n",
        "        },\n",
        "        \"child\": {\"output_max_length\": 2048, \"epochs\": 1},\n",
        "    },\n",
        "}\n",
        "# create train action\n",
        "train = ra.TrainTransformer(config)"
      ]
    },
    {
      "cell_type": "code",
      "execution_count": 7,
      "metadata": {
        "colab": {
          "base_uri": "https://localhost:8080/"
        },
        "id": "h2_N4q1ny6TD",
        "outputId": "d6e35d90-8a3b-416f-ee45-e07f449152d2"
      },
      "outputs": [
        {
          "name": "stdout",
          "output_type": "stream",
          "text": [
            "Workflow: 6fYaeBSSucXLeWm2N4CFPq\n"
          ]
        }
      ],
      "source": [
        "builder = rf.WorkflowBuilder()\n",
        "builder.add_dataset(dataset)\n",
        "builder.add_action(train, parents=[dataset])\n",
        "workflow = await builder.start(conn)\n",
        "print(f\"Workflow: {workflow.id()}\")"
      ]
    },
    {
      "cell_type": "code",
      "execution_count": 8,
      "metadata": {
        "colab": {
          "base_uri": "https://localhost:8080/"
        },
        "id": "jSNt3HEfy6Qa",
        "outputId": "db53c24b-079e-40f2-d972-cf618964fc97"
      },
      "outputs": [
        {
          "name": "stdout",
          "output_type": "stream",
          "text": [
            "2024-12-13T02:57:01Z dataset-load: INFO Loading dataset '6TdfNC92dLmUacF0QxriKJ' with 100 rows\n",
            "2024-12-13T02:57:01Z train-transformer: INFO Start training...\n",
            "2024-12-13T02:57:03Z train-transformer: INFO Epoch 1 completed.\n",
            "2024-12-13T02:57:34Z train-transformer: INFO Training completed. The Model ID is fdecbd74-b8fd-11ef-b309-ea33642f8b3f\n"
          ]
        }
      ],
      "source": [
        "async for log in workflow.logs():\n",
        "    print(log)"
      ]
    },
    {
      "cell_type": "code",
      "execution_count": 9,
      "metadata": {
        "colab": {
          "base_uri": "https://localhost:8080/"
        },
        "id": "dutE6-cLy6OF",
        "outputId": "8c44feaf-d542-4b0d-c33b-748836afbdb7"
      },
      "outputs": [
        {
          "data": {
            "text/plain": [
              "Model(id='fdecbd74-b8fd-11ef-b309-ea33642f8b3f', labels={'workflow_id': '6fYaeBSSucXLeWm2N4CFPq'}, create_time=datetime.datetime(2024, 12, 13, 2, 57, 29, tzinfo=datetime.timezone.utc), size_bytes=389512192)"
            ]
          },
          "execution_count": 9,
          "metadata": {},
          "output_type": "execute_result"
        }
      ],
      "source": [
        "model = await workflow.models().last()\n",
        "model"
      ]
    },
    {
      "cell_type": "code",
      "execution_count": 10,
      "metadata": {
        "colab": {
          "base_uri": "https://localhost:8080/"
        },
        "id": "EmFFNTRwy6LF",
        "outputId": "3958a697-958f-4171-a901-001bbffc08f8"
      },
      "outputs": [
        {
          "name": "stdout",
          "output_type": "stream",
          "text": [
            "Workflow: 4JTfwD8efLkKcdBhZKbvd8\n"
          ]
        }
      ],
      "source": [
        "generate = ra.GenerateTransformer(config)\n",
        "save = ra.DatasetSave({\"name\": \"Synthetic\"})\n",
        "builder = rf.WorkflowBuilder()\n",
        "builder.add_model(model)\n",
        "builder.add_action(generate, parents=[model])\n",
        "builder.add_action(save, parents=[generate])\n",
        "workflow = await builder.start(conn)\n",
        "print(f\"Workflow: {workflow.id()}\")"
      ]
    },
    {
      "cell_type": "code",
      "execution_count": 11,
      "metadata": {
        "colab": {
          "base_uri": "https://localhost:8080/"
        },
        "id": "5_riQ8Iuy6Iv",
        "outputId": "82db41e5-6f62-4497-8955-a98dd8f69e2d"
      },
      "outputs": [
        {
          "name": "stdout",
          "output_type": "stream",
          "text": [
            "2024-12-13T02:57:38Z generate-transformer: INFO Starting download of Model fdecbd74-b8fd-11ef-b309-ea33642f8b3f\n",
            "2024-12-13T02:57:59Z generate-transformer: INFO Finished download of Model fdecbd74-b8fd-11ef-b309-ea33642f8b3f\n",
            "2024-12-13T02:58:00Z generate-transformer: INFO Start generating samples...\n",
            "2024-12-13T02:58:02Z generate-transformer: INFO Finish generating samples...\n",
            "2024-12-13T02:58:12Z dataset-save: INFO using field 'session_key' to concatenate tables\n",
            "2024-12-13T02:58:12Z dataset-save: INFO Saved dataset 'hy2197E7xPbeg6sWOknZ7' with 155 rows\n"
          ]
        }
      ],
      "source": [
        "async for log in workflow.logs():\n",
        "    print(log)"
      ]
    },
    {
      "cell_type": "code",
      "execution_count": 12,
      "metadata": {
        "colab": {
          "base_uri": "https://localhost:8080/",
          "height": 424
        },
        "id": "ifeaOMP6zXT3",
        "outputId": "b2e11bdb-918d-4409-e242-bcb8ebcac665"
      },
      "outputs": [
        {
          "data": {
            "text/html": [
              "<div>\n",
              "<style scoped>\n",
              "    .dataframe tbody tr th:only-of-type {\n",
              "        vertical-align: middle;\n",
              "    }\n",
              "\n",
              "    .dataframe tbody tr th {\n",
              "        vertical-align: top;\n",
              "    }\n",
              "\n",
              "    .dataframe thead th {\n",
              "        text-align: right;\n",
              "    }\n",
              "</style>\n",
              "<table border=\"1\" class=\"dataframe\">\n",
              "  <thead>\n",
              "    <tr style=\"text-align: right;\">\n",
              "      <th></th>\n",
              "      <th>pkt_len</th>\n",
              "      <th>timestamp</th>\n",
              "      <th>srcip</th>\n",
              "      <th>dstip</th>\n",
              "      <th>srcport</th>\n",
              "      <th>dstport</th>\n",
              "      <th>proto</th>\n",
              "      <th>session_key</th>\n",
              "    </tr>\n",
              "  </thead>\n",
              "  <tbody>\n",
              "    <tr>\n",
              "      <th>0</th>\n",
              "      <td>1040</td>\n",
              "      <td>2009-12-17 16:27:36</td>\n",
              "      <td>41.177.241.46</td>\n",
              "      <td>151.77.15.152</td>\n",
              "      <td>190</td>\n",
              "      <td>720</td>\n",
              "      <td>16</td>\n",
              "      <td>0</td>\n",
              "    </tr>\n",
              "    <tr>\n",
              "      <th>1</th>\n",
              "      <td>1175</td>\n",
              "      <td>2009-12-17 16:27:36</td>\n",
              "      <td>41.177.241.46</td>\n",
              "      <td>151.77.15.152</td>\n",
              "      <td>190</td>\n",
              "      <td>720</td>\n",
              "      <td>16</td>\n",
              "      <td>0</td>\n",
              "    </tr>\n",
              "    <tr>\n",
              "      <th>2</th>\n",
              "      <td>1025</td>\n",
              "      <td>2009-12-17 16:27:36</td>\n",
              "      <td>41.177.241.46</td>\n",
              "      <td>151.77.15.152</td>\n",
              "      <td>190</td>\n",
              "      <td>720</td>\n",
              "      <td>16</td>\n",
              "      <td>0</td>\n",
              "    </tr>\n",
              "    <tr>\n",
              "      <th>3</th>\n",
              "      <td>1140</td>\n",
              "      <td>2009-12-17 16:27:36</td>\n",
              "      <td>41.177.241.46</td>\n",
              "      <td>151.77.15.152</td>\n",
              "      <td>190</td>\n",
              "      <td>720</td>\n",
              "      <td>16</td>\n",
              "      <td>0</td>\n",
              "    </tr>\n",
              "    <tr>\n",
              "      <th>4</th>\n",
              "      <td>1000</td>\n",
              "      <td>2009-12-17 16:27:36</td>\n",
              "      <td>41.177.241.46</td>\n",
              "      <td>151.77.15.152</td>\n",
              "      <td>190</td>\n",
              "      <td>720</td>\n",
              "      <td>16</td>\n",
              "      <td>0</td>\n",
              "    </tr>\n",
              "    <tr>\n",
              "      <th>...</th>\n",
              "      <td>...</td>\n",
              "      <td>...</td>\n",
              "      <td>...</td>\n",
              "      <td>...</td>\n",
              "      <td>...</td>\n",
              "      <td>...</td>\n",
              "      <td>...</td>\n",
              "      <td>...</td>\n",
              "    </tr>\n",
              "    <tr>\n",
              "      <th>150</th>\n",
              "      <td>20</td>\n",
              "      <td>2009-12-17 16:27:36</td>\n",
              "      <td>41.177.241.61</td>\n",
              "      <td>244.3.160.239</td>\n",
              "      <td>63421</td>\n",
              "      <td>390</td>\n",
              "      <td>6</td>\n",
              "      <td>19</td>\n",
              "    </tr>\n",
              "    <tr>\n",
              "      <th>151</th>\n",
              "      <td>43</td>\n",
              "      <td>2009-12-17 16:27:36</td>\n",
              "      <td>41.177.241.61</td>\n",
              "      <td>244.3.160.239</td>\n",
              "      <td>63421</td>\n",
              "      <td>390</td>\n",
              "      <td>6</td>\n",
              "      <td>19</td>\n",
              "    </tr>\n",
              "    <tr>\n",
              "      <th>152</th>\n",
              "      <td>1097</td>\n",
              "      <td>2009-12-17 16:27:36</td>\n",
              "      <td>41.177.241.61</td>\n",
              "      <td>244.3.160.239</td>\n",
              "      <td>63421</td>\n",
              "      <td>390</td>\n",
              "      <td>6</td>\n",
              "      <td>19</td>\n",
              "    </tr>\n",
              "    <tr>\n",
              "      <th>153</th>\n",
              "      <td>290</td>\n",
              "      <td>2009-12-17 16:27:36</td>\n",
              "      <td>41.177.241.61</td>\n",
              "      <td>244.3.160.239</td>\n",
              "      <td>63421</td>\n",
              "      <td>390</td>\n",
              "      <td>6</td>\n",
              "      <td>19</td>\n",
              "    </tr>\n",
              "    <tr>\n",
              "      <th>154</th>\n",
              "      <td>1030</td>\n",
              "      <td>2009-12-17 16:27:36</td>\n",
              "      <td>41.177.241.61</td>\n",
              "      <td>244.3.160.239</td>\n",
              "      <td>63421</td>\n",
              "      <td>390</td>\n",
              "      <td>6</td>\n",
              "      <td>19</td>\n",
              "    </tr>\n",
              "  </tbody>\n",
              "</table>\n",
              "<p>155 rows × 8 columns</p>\n",
              "</div>"
            ],
            "text/plain": [
              "     pkt_len           timestamp          srcip          dstip  srcport  \\\n",
              "0       1040 2009-12-17 16:27:36  41.177.241.46  151.77.15.152      190   \n",
              "1       1175 2009-12-17 16:27:36  41.177.241.46  151.77.15.152      190   \n",
              "2       1025 2009-12-17 16:27:36  41.177.241.46  151.77.15.152      190   \n",
              "3       1140 2009-12-17 16:27:36  41.177.241.46  151.77.15.152      190   \n",
              "4       1000 2009-12-17 16:27:36  41.177.241.46  151.77.15.152      190   \n",
              "..       ...                 ...            ...            ...      ...   \n",
              "150       20 2009-12-17 16:27:36  41.177.241.61  244.3.160.239    63421   \n",
              "151       43 2009-12-17 16:27:36  41.177.241.61  244.3.160.239    63421   \n",
              "152     1097 2009-12-17 16:27:36  41.177.241.61  244.3.160.239    63421   \n",
              "153      290 2009-12-17 16:27:36  41.177.241.61  244.3.160.239    63421   \n",
              "154     1030 2009-12-17 16:27:36  41.177.241.61  244.3.160.239    63421   \n",
              "\n",
              "     dstport  proto  session_key  \n",
              "0        720     16            0  \n",
              "1        720     16            0  \n",
              "2        720     16            0  \n",
              "3        720     16            0  \n",
              "4        720     16            0  \n",
              "..       ...    ...          ...  \n",
              "150      390      6           19  \n",
              "151      390      6           19  \n",
              "152      390      6           19  \n",
              "153      390      6           19  \n",
              "154      390      6           19  \n",
              "\n",
              "[155 rows x 8 columns]"
            ]
          },
          "execution_count": 12,
          "metadata": {},
          "output_type": "execute_result"
        }
      ],
      "source": [
        "syn = None\n",
        "async for sds in workflow.datasets():\n",
        "    syn = await sds.to_local(conn)\n",
        "syn.to_pandas()"
      ]
    },
    {
      "cell_type": "markdown",
      "metadata": {
        "id": "5b8-_h-rzunG"
      },
      "source": [
        "# Evaluate the synthetic dataset\n"
      ]
    },
    {
      "cell_type": "code",
      "execution_count": 13,
      "metadata": {
        "id": "qRk9lD5MzXQz"
      },
      "outputs": [],
      "source": [
        "source_data = rf.Dataset.from_pandas(\"source\", dataset.to_pandas())\n",
        "syn_data = rf.Dataset.from_pandas(\n",
        "    \"rt-rtf-ts\",\n",
        "    syn.to_pandas()[\n",
        "        \"srcip dstip srcport dstport proto timestamp pkt_len\".split()\n",
        "    ],\n",
        ")\n",
        "schema_metadata = rf.arrow.SchemaMetadata(\n",
        "    metadata=\"srcip dstip srcport dstport proto\".split()\n",
        ")\n",
        "source_data.table = rf.arrow.replace_schema_metadata(\n",
        "    source_data.table, schema_metadata\n",
        ")\n",
        "syn_data.table = rf.arrow.replace_schema_metadata(\n",
        "    syn_data.table, schema_metadata\n",
        ")\n",
        "syn_data.table = syn_data.table.cast(source_data.table.schema)"
      ]
    },
    {
      "cell_type": "markdown",
      "metadata": {
        "id": "AYKdYxQRz5DB"
      },
      "source": [
        "**Numerical columns**\n"
      ]
    },
    {
      "cell_type": "code",
      "execution_count": 14,
      "metadata": {
        "colab": {
          "base_uri": "https://localhost:8080/",
          "height": 501
        },
        "id": "hD8iKjTUzXLe",
        "outputId": "8f14adec-1d3e-4420-ac1f-926fe020aec8"
      },
      "outputs": [
        {
          "data": {
            "text/plain": [
              "<seaborn.axisgrid.FacetGrid at 0x1040ccbf0>"
            ]
          },
          "execution_count": 14,
          "metadata": {},
          "output_type": "execute_result"
        },
        {
          "data": {
            "image/png": "[encoded data removed]",
            "text/plain": [
              "<Figure size 601x500 with 1 Axes>"
            ]
          },
          "metadata": {},
          "output_type": "display_data"
        }
      ],
      "source": [
        "col = \"pkt_len\"\n",
        "rf.labs.vis.plot_kde([source_data, syn_data], col)"
      ]
    },
    {
      "cell_type": "markdown",
      "metadata": {
        "id": "iuy9lvU00T8A"
      },
      "source": [
        "**Categorical columns**\n"
      ]
    },
    {
      "cell_type": "code",
      "execution_count": 15,
      "metadata": {
        "colab": {
          "base_uri": "https://localhost:8080/",
          "height": 1000
        },
        "id": "016Kj3kh0TbM",
        "outputId": "c89791b1-39cc-40ef-d9b7-40fbe34f89ed"
      },
      "outputs": [
        {
          "data": {
            "image/png": "[encoded data removed]",
            "text/plain": [
              "<Figure size 601x500 with 1 Axes>"
            ]
          },
          "metadata": {},
          "output_type": "display_data"
        },
        {
          "data": {
            "image/png": "[encoded data removed]",
            "text/plain": [
              "<Figure size 601x500 with 1 Axes>"
            ]
          },
          "metadata": {},
          "output_type": "display_data"
        }
      ],
      "source": [
        "for col in [\"proto\", \"srcport\"]:\n",
        "    source_agg = rf.metrics.count_all(source_data, col, nlargest=5)\n",
        "    syn_agg = rf.metrics.count_all(syn_data, col, nlargest=5)\n",
        "    rf.labs.vis.plot_bar([source_agg, syn_agg], col, f\"{col}_count\")"
      ]
    }
  ],
  "metadata": {
    "colab": {
      "provenance": []
    },
    "kernelspec": {
      "display_name": "colab",
      "language": "python",
      "name": "python3"
    },
    "language_info": {
      "codemirror_mode": {
        "name": "ipython",
        "version": 3
      },
      "file_extension": ".py",
      "mimetype": "text/x-python",
      "name": "python",
      "nbconvert_exporter": "python",
      "pygments_lexer": "ipython3",
      "version": "3.12.4"
    }
  },
  "nbformat": 4,
  "nbformat_minor": 0
}
