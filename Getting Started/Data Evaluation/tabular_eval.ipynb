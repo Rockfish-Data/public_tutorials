{
 "cells": [
  {
   "cell_type": "code",
   "execution_count": 1,
   "metadata": {},
   "outputs": [],
   "source": [
    "%%capture\n",
    "%pip install -U 'rockfish[labs]' -f 'https://docs142.rockfish.ai/packages/index.html'"
   ]
  },
  {
   "cell_type": "code",
   "execution_count": 2,
   "metadata": {},
   "outputs": [],
   "source": [
    "import pandas as pd\n",
    "import random\n",
    "\n",
    "import rockfish as rf\n",
    "import rockfish.labs as rl"
   ]
  },
  {
   "cell_type": "code",
   "execution_count": 3,
   "metadata": {},
   "outputs": [],
   "source": [
    "def generate_data(num_rows, rng):\n",
    "    numerical_1 = [rng.uniform(1, 100) for _ in range(num_rows)]\n",
    "    numerical_2 = [rng.random() * 10 for _ in range(num_rows)]\n",
    "    categorical_1 = rng.choices([\"A\", \"B\", \"C\"], weights=[1, 1, 2], k=num_rows)\n",
    "    categorical_2 = rng.choices([\"X\", \"Y\", \"Z\"], weights=[1, 2, 3], k=num_rows)\n",
    "\n",
    "    data = {\n",
    "        \"numerical_1\": numerical_1,\n",
    "        \"numerical_2\": numerical_2,\n",
    "        \"categorical_1\": categorical_1,\n",
    "        \"categorical_2\": categorical_2,\n",
    "    }\n",
    "    return pd.DataFrame(data)\n",
    "\n",
    "rng = random.Random(42)\n",
    "data = rf.Dataset.from_pandas(\"sample1\", generate_data(100, rng))\n",
    "syn = rf.Dataset.from_pandas(\"sample2\", generate_data(100, rng))"
   ]
  },
  {
   "cell_type": "markdown",
   "metadata": {},
   "source": [
    "### Overall Fidelity Score"
   ]
  },
  {
   "cell_type": "code",
   "execution_count": 4,
   "metadata": {},
   "outputs": [
    {
     "data": {
      "text/plain": [
       "0.9299999999999999"
      ]
     },
     "execution_count": 4,
     "metadata": {},
     "output_type": "execute_result"
    }
   ],
   "source": [
    "# get the default weighted average score on marginal distribution\n",
    "rf.labs.metrics.marginal_dist_score(dataset=data, syn=syn)"
   ]
  },
  {
   "cell_type": "markdown",
   "metadata": {},
   "source": [
    "### Mechanisms Across Different Perspectives\n"
   ]
  },
  {
   "cell_type": "code",
   "execution_count": null,
   "metadata": {},
   "outputs": [],
   "source": []
  },
  {
   "cell_type": "code",
   "execution_count": null,
   "metadata": {},
   "outputs": [],
   "source": []
  }
 ],
 "metadata": {
  "kernelspec": {
   "display_name": "rockfish",
   "language": "python",
   "name": "python3"
  },
  "language_info": {
   "codemirror_mode": {
    "name": "ipython",
    "version": 3
   },
   "file_extension": ".py",
   "mimetype": "text/x-python",
   "name": "python",
   "nbconvert_exporter": "python",
   "pygments_lexer": "ipython3",
   "version": "3.12.4"
  }
 },
 "nbformat": 4,
 "nbformat_minor": 2
}
