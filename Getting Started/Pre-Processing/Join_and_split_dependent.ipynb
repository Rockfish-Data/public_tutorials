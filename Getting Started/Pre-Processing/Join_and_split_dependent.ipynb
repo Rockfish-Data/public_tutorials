{
 "cells": [
  {
   "cell_type": "code",
   "execution_count": 1,
   "metadata": {
    "ExecuteTime": {
     "end_time": "2024-12-12T22:28:04.219778Z",
     "start_time": "2024-12-12T22:28:01.032450Z"
    },
    "id": "JRA0zwf6EICX"
   },
   "outputs": [],
   "source": [
    "%%capture\n",
    "%pip install -U 'rockfish[labs]' -f 'https://packages.rockfish.ai'"
   ]
  },
  {
   "cell_type": "code",
   "execution_count": 2,
   "metadata": {
    "ExecuteTime": {
     "end_time": "2024-12-12T22:28:05.619171Z",
     "start_time": "2024-12-12T22:28:04.223162Z"
    },
    "id": "SS9uVPUpETyJ"
   },
   "outputs": [],
   "source": [
    "import rockfish as rf\n",
    "import rockfish.actions as ra\n",
    "import rockfish.labs as rl"
   ]
  },
  {
   "cell_type": "markdown",
   "metadata": {},
   "source": [
    "Please replace `YOUR_API_KEY` with the assigned API key string. Note that it should be without quotes.\n",
    "\n",
    "For example, if the assigned API Key is `abcd1234`, you can do the following\n",
    "\n",
    "```python\n",
    "%env ROCKFISH_API_KEY=abcd1234\n",
    "conn = rf.Connection.from_env()\n",
    "```\n",
    "\n",
    "If you do not have API Key, please reach out to support@rockfish.ai.\n"
   ]
  },
  {
   "cell_type": "code",
   "execution_count": 10,
   "metadata": {
    "ExecuteTime": {
     "end_time": "2024-12-12T22:28:05.672521Z",
     "start_time": "2024-12-12T22:28:05.665232Z"
    },
    "id": "cAKCIort9ilu"
   },
   "outputs": [
    {
     "name": "stdout",
     "output_type": "stream",
     "text": [
      "env: ROCKFISH_API_KEY=YOUR_API_KEY\n"
     ]
    }
   ],
   "source": [
    "%env ROCKFISH_API_KEY=YOUR_API_KEY\n",
    "conn = rf.Connection.from_env()\n",
    "conn = rf.Connection.from_config(\"staging\")"
   ]
  },
  {
   "cell_type": "code",
   "execution_count": 4,
   "metadata": {
    "ExecuteTime": {
     "end_time": "2024-12-12T22:28:06.152067Z",
     "start_time": "2024-12-12T22:28:05.676233Z"
    },
    "colab": {
     "base_uri": "https://localhost:8080/"
    },
    "id": "7GvaKb_aEdwM",
    "outputId": "431515a9-10a7-4268-90c6-2a78d187b6b2"
   },
   "outputs": [
    {
     "name": "stdout",
     "output_type": "stream",
     "text": [
      "--2025-02-06 18:34:08--  https://docs.rockfish.ai/tutorials/finance.csv\n",
      "Resolving docs.rockfish.ai (docs.rockfish.ai)... "
     ]
    },
    {
     "name": "stderr",
     "output_type": "stream",
     "text": [
      "WARNING: All log messages before absl::InitializeLog() is called are written to STDERR\n",
      "I0000 00:00:1738895648.022114 19789770 fork_posix.cc:77] Other threads are currently calling into gRPC, skipping fork() handlers\n"
     ]
    },
    {
     "name": "stdout",
     "output_type": "stream",
     "text": [
      "2600:9000:2146:2200:3:1cb5:3480:93a1, 2600:9000:2146:8600:3:1cb5:3480:93a1, 2600:9000:2146:5000:3:1cb5:3480:93a1, ...\n",
      "Connecting to docs.rockfish.ai (docs.rockfish.ai)|2600:9000:2146:2200:3:1cb5:3480:93a1|:443... connected.\n",
      "HTTP request sent, awaiting response... 200 OK\n",
      "Length: 3444556 (3.3M) [text/csv]\n",
      "Saving to: ‘finance.csv’\n",
      "\n",
      "finance.csv         100%[===================>]   3.28M  16.0MB/s    in 0.2s    \n",
      "\n",
      "2025-02-06 18:34:08 (16.0 MB/s) - ‘finance.csv’ saved [3444556/3444556]\n",
      "\n"
     ]
    }
   ],
   "source": [
    "# download our example of timeseries data: finance.csv\n",
    "!wget --no-clobber https://docs.rockfish.ai/tutorials/finance.csv"
   ]
  },
  {
   "cell_type": "code",
   "execution_count": 11,
   "metadata": {
    "ExecuteTime": {
     "end_time": "2024-12-12T22:28:06.182549Z",
     "start_time": "2024-12-12T22:28:06.159376Z"
    },
    "colab": {
     "base_uri": "https://localhost:8080/",
     "height": 424
    },
    "id": "9WkBz993EjIM",
    "outputId": "1f7fe299-f81d-4e30-ef98-2effeaefc8ee"
   },
   "outputs": [
    {
     "data": {
      "text/html": [
       "<div>\n",
       "<style scoped>\n",
       "    .dataframe tbody tr th:only-of-type {\n",
       "        vertical-align: middle;\n",
       "    }\n",
       "\n",
       "    .dataframe tbody tr th {\n",
       "        vertical-align: top;\n",
       "    }\n",
       "\n",
       "    .dataframe thead th {\n",
       "        text-align: right;\n",
       "    }\n",
       "</style>\n",
       "<table border=\"1\" class=\"dataframe\">\n",
       "  <thead>\n",
       "    <tr style=\"text-align: right;\">\n",
       "      <th></th>\n",
       "      <th>customer</th>\n",
       "      <th>age</th>\n",
       "      <th>gender</th>\n",
       "      <th>merchant</th>\n",
       "      <th>category</th>\n",
       "      <th>amount</th>\n",
       "      <th>fraud</th>\n",
       "      <th>timestamp</th>\n",
       "    </tr>\n",
       "  </thead>\n",
       "  <tbody>\n",
       "    <tr>\n",
       "      <th>0</th>\n",
       "      <td>C1093826151</td>\n",
       "      <td>4</td>\n",
       "      <td>M</td>\n",
       "      <td>M348934600</td>\n",
       "      <td>transportation</td>\n",
       "      <td>4.55</td>\n",
       "      <td>0</td>\n",
       "      <td>2023-01-01</td>\n",
       "    </tr>\n",
       "    <tr>\n",
       "      <th>1</th>\n",
       "      <td>C575345520</td>\n",
       "      <td>2</td>\n",
       "      <td>F</td>\n",
       "      <td>M348934600</td>\n",
       "      <td>transportation</td>\n",
       "      <td>76.67</td>\n",
       "      <td>0</td>\n",
       "      <td>2023-01-01</td>\n",
       "    </tr>\n",
       "    <tr>\n",
       "      <th>2</th>\n",
       "      <td>C1787537369</td>\n",
       "      <td>2</td>\n",
       "      <td>M</td>\n",
       "      <td>M1823072687</td>\n",
       "      <td>transportation</td>\n",
       "      <td>48.02</td>\n",
       "      <td>0</td>\n",
       "      <td>2023-01-01</td>\n",
       "    </tr>\n",
       "    <tr>\n",
       "      <th>3</th>\n",
       "      <td>C1732307957</td>\n",
       "      <td>5</td>\n",
       "      <td>F</td>\n",
       "      <td>M348934600</td>\n",
       "      <td>transportation</td>\n",
       "      <td>55.06</td>\n",
       "      <td>0</td>\n",
       "      <td>2023-01-01</td>\n",
       "    </tr>\n",
       "    <tr>\n",
       "      <th>4</th>\n",
       "      <td>C842799656</td>\n",
       "      <td>1</td>\n",
       "      <td>F</td>\n",
       "      <td>M348934600</td>\n",
       "      <td>transportation</td>\n",
       "      <td>25.62</td>\n",
       "      <td>0</td>\n",
       "      <td>2023-01-01</td>\n",
       "    </tr>\n",
       "    <tr>\n",
       "      <th>...</th>\n",
       "      <td>...</td>\n",
       "      <td>...</td>\n",
       "      <td>...</td>\n",
       "      <td>...</td>\n",
       "      <td>...</td>\n",
       "      <td>...</td>\n",
       "      <td>...</td>\n",
       "      <td>...</td>\n",
       "    </tr>\n",
       "    <tr>\n",
       "      <th>49995</th>\n",
       "      <td>C1971105040</td>\n",
       "      <td>3</td>\n",
       "      <td>M</td>\n",
       "      <td>M348934600</td>\n",
       "      <td>transportation</td>\n",
       "      <td>67.91</td>\n",
       "      <td>0</td>\n",
       "      <td>2023-01-20</td>\n",
       "    </tr>\n",
       "    <tr>\n",
       "      <th>49996</th>\n",
       "      <td>C51444479</td>\n",
       "      <td>3</td>\n",
       "      <td>M</td>\n",
       "      <td>M348934600</td>\n",
       "      <td>transportation</td>\n",
       "      <td>32.27</td>\n",
       "      <td>0</td>\n",
       "      <td>2023-01-20</td>\n",
       "    </tr>\n",
       "    <tr>\n",
       "      <th>49997</th>\n",
       "      <td>C1096642744</td>\n",
       "      <td>5</td>\n",
       "      <td>M</td>\n",
       "      <td>M1535107174</td>\n",
       "      <td>wellnessandbeauty</td>\n",
       "      <td>149.70</td>\n",
       "      <td>0</td>\n",
       "      <td>2023-01-20</td>\n",
       "    </tr>\n",
       "    <tr>\n",
       "      <th>49998</th>\n",
       "      <td>C1166683343</td>\n",
       "      <td>2</td>\n",
       "      <td>F</td>\n",
       "      <td>M1823072687</td>\n",
       "      <td>transportation</td>\n",
       "      <td>24.78</td>\n",
       "      <td>0</td>\n",
       "      <td>2023-01-20</td>\n",
       "    </tr>\n",
       "    <tr>\n",
       "      <th>49999</th>\n",
       "      <td>C344209010</td>\n",
       "      <td>5</td>\n",
       "      <td>F</td>\n",
       "      <td>M348934600</td>\n",
       "      <td>transportation</td>\n",
       "      <td>19.80</td>\n",
       "      <td>0</td>\n",
       "      <td>2023-01-20</td>\n",
       "    </tr>\n",
       "  </tbody>\n",
       "</table>\n",
       "<p>50000 rows × 8 columns</p>\n",
       "</div>"
      ],
      "text/plain": [
       "          customer age gender     merchant           category  amount  fraud  \\\n",
       "0      C1093826151   4      M   M348934600     transportation    4.55      0   \n",
       "1       C575345520   2      F   M348934600     transportation   76.67      0   \n",
       "2      C1787537369   2      M  M1823072687     transportation   48.02      0   \n",
       "3      C1732307957   5      F   M348934600     transportation   55.06      0   \n",
       "4       C842799656   1      F   M348934600     transportation   25.62      0   \n",
       "...            ...  ..    ...          ...                ...     ...    ...   \n",
       "49995  C1971105040   3      M   M348934600     transportation   67.91      0   \n",
       "49996    C51444479   3      M   M348934600     transportation   32.27      0   \n",
       "49997  C1096642744   5      M  M1535107174  wellnessandbeauty  149.70      0   \n",
       "49998  C1166683343   2      F  M1823072687     transportation   24.78      0   \n",
       "49999   C344209010   5      F   M348934600     transportation   19.80      0   \n",
       "\n",
       "       timestamp  \n",
       "0     2023-01-01  \n",
       "1     2023-01-01  \n",
       "2     2023-01-01  \n",
       "3     2023-01-01  \n",
       "4     2023-01-01  \n",
       "...          ...  \n",
       "49995 2023-01-20  \n",
       "49996 2023-01-20  \n",
       "49997 2023-01-20  \n",
       "49998 2023-01-20  \n",
       "49999 2023-01-20  \n",
       "\n",
       "[50000 rows x 8 columns]"
      ]
     },
     "execution_count": 11,
     "metadata": {},
     "output_type": "execute_result"
    }
   ],
   "source": [
    "dataset = rf.Dataset.from_csv(\"finance\", \"finance.csv\")\n",
    "dataset.to_pandas()"
   ]
  },
  {
   "cell_type": "markdown",
   "metadata": {
    "id": "ZnCqqO5m-9-i"
   },
   "source": [
    "Get valid merchant-category pairs present in the train dataset:\n"
   ]
  },
  {
   "cell_type": "code",
   "execution_count": 12,
   "metadata": {
    "ExecuteTime": {
     "end_time": "2024-12-12T22:28:06.218488Z",
     "start_time": "2024-12-12T22:28:06.204359Z"
    },
    "id": "rPlpKqYn9jpw"
   },
   "outputs": [],
   "source": [
    "df = dataset.to_pandas()\n",
    "merchant_to_category = {}\n",
    "for mer, cat in zip(df[\"merchant\"], df[\"category\"]):\n",
    "    valid_cats = merchant_to_category.get(mer, [])\n",
    "    if cat not in valid_cats:\n",
    "        valid_cats.append(cat)\n",
    "    merchant_to_category[mer] = valid_cats"
   ]
  },
  {
   "cell_type": "markdown",
   "metadata": {
    "id": "hbnPqSq3_EPo"
   },
   "source": [
    "These will be used to confirm that the synthetic dataset also has valid merchant-category pairs.\n"
   ]
  },
  {
   "cell_type": "markdown",
   "metadata": {
    "id": "T57V8QMfcPsr"
   },
   "source": [
    "### Join Dependent Fields\n"
   ]
  },
  {
   "cell_type": "code",
   "execution_count": 13,
   "metadata": {
    "ExecuteTime": {
     "end_time": "2024-12-12T22:28:06.237384Z",
     "start_time": "2024-12-12T22:28:06.235641Z"
    },
    "id": "AhHbqVMgEv_w"
   },
   "outputs": [],
   "source": [
    "join_fields = ra.JoinFields(fields=[\"merchant\", \"category\"])"
   ]
  },
  {
   "cell_type": "markdown",
   "metadata": {
    "id": "TTG93PYPcT8K"
   },
   "source": [
    "### Train Model\n"
   ]
  },
  {
   "cell_type": "code",
   "execution_count": 14,
   "metadata": {
    "ExecuteTime": {
     "end_time": "2024-12-12T22:28:06.254266Z",
     "start_time": "2024-12-12T22:28:06.251926Z"
    },
    "id": "dFQsdRvCGpD-"
   },
   "outputs": [],
   "source": [
    "config = ra.TrainTimeGAN.Config(\n",
    "    encoder=ra.TrainTimeGAN.DatasetConfig(\n",
    "        timestamp=ra.TrainTimeGAN.TimestampConfig(field=\"timestamp\"),\n",
    "        metadata=[\n",
    "            ra.TrainTimeGAN.FieldConfig(field=\"age\", type=\"categorical\"),\n",
    "            ra.TrainTimeGAN.FieldConfig(field=\"customer\", type=\"session\"),\n",
    "        ],\n",
    "        measurements=[\n",
    "            ra.TrainTimeGAN.FieldConfig(\n",
    "                field=\"merchant;category\", type=\"categorical\"\n",
    "            ),\n",
    "            ra.TrainTimeGAN.FieldConfig(field=\"amount\", type=\"continuous\"),\n",
    "            ra.TrainTimeGAN.FieldConfig(field=\"fraud\", type=\"categorical\"),\n",
    "        ],\n",
    "    ),\n",
    "    doppelganger=ra.TrainTimeGAN.DGConfig(\n",
    "        epoch=10,\n",
    "        epoch_checkpoint_freq=5,\n",
    "        sample_len=2,\n",
    "        batch_size=1255,\n",
    "    ),\n",
    ")\n",
    "train = ra.TrainTimeGAN(config)"
   ]
  },
  {
   "cell_type": "code",
   "execution_count": 15,
   "metadata": {
    "ExecuteTime": {
     "end_time": "2024-12-12T22:28:06.932189Z",
     "start_time": "2024-12-12T22:28:06.278350Z"
    },
    "colab": {
     "base_uri": "https://localhost:8080/"
    },
    "id": "N_WEG9m6J0m9",
    "outputId": "794a55f3-996e-48a1-ee01-77ddd8993811"
   },
   "outputs": [
    {
     "name": "stdout",
     "output_type": "stream",
     "text": [
      "Workflow: 1FQWRivF7EkRvt3wHqojH5\n"
     ]
    }
   ],
   "source": [
    "builder = rf.WorkflowBuilder()\n",
    "builder.add_path(dataset, join_fields, train)\n",
    "workflow = await builder.start(conn)\n",
    "print(f\"Workflow: {workflow.id()}\")"
   ]
  },
  {
   "cell_type": "code",
   "execution_count": 16,
   "metadata": {
    "ExecuteTime": {
     "end_time": "2024-12-12T22:28:39.706502Z",
     "start_time": "2024-12-12T22:28:06.940020Z"
    },
    "colab": {
     "base_uri": "https://localhost:8080/",
     "height": 49,
     "referenced_widgets": [
      "d3fc97c14ec547cc89c8c3667cd498c3",
      "6a032143a7bc40a99dd0d30e4cf98426",
      "7290c770152347ac83bb58c117c5b8ec",
      "bd95f09eea9e4d689a743ed781ab9592",
      "5dc27d57eee64d539f9456f55f97156b",
      "3277ea36259c4cc09a3a6f0a230421d7",
      "7d2a1afc62cd46ea9d0d4251005b41b0",
      "f555b6785ab24dfebe86d1cd81879ab8",
      "0af1476b5d7d45f19a3abb218a1471a9",
      "37b7451529e54a8bb07a3834659410cf",
      "2c2c1499057a486292c376f87fb40c33"
     ]
    },
    "collapsed": true,
    "id": "m38QXMBhJ9H9",
    "outputId": "1dcb27e5-812d-4c15-f2c8-a936fd5e36f7"
   },
   "outputs": [
    {
     "name": "stdout",
     "output_type": "stream",
     "text": [
      "2025-02-07T02:34:51Z dataset-load: INFO Downloading dataset '580AroRT3pFgGjSxb6pffV'\n",
      "2025-02-07T02:34:51Z dataset-load: INFO Downloaded dataset '580AroRT3pFgGjSxb6pffV' with 50000 rows\n",
      "2025-02-07T02:34:57Z train-time-gan: INFO Starting DG training job\n",
      "2025-02-07T02:34:58Z train-time-gan: INFO Epoch 1 completed.\n",
      "2025-02-07T02:34:58Z train-time-gan: INFO Epoch 2 completed.\n",
      "2025-02-07T02:34:58Z train-time-gan: INFO Epoch 3 completed.\n",
      "2025-02-07T02:34:59Z train-time-gan: INFO Epoch 4 completed.\n",
      "2025-02-07T02:34:59Z train-time-gan: INFO Epoch 5 completed.\n",
      "2025-02-07T02:35:00Z train-time-gan: INFO Epoch 6 completed.\n",
      "2025-02-07T02:35:00Z train-time-gan: INFO Epoch 7 completed.\n",
      "2025-02-07T02:35:01Z train-time-gan: INFO Epoch 8 completed.\n",
      "2025-02-07T02:35:01Z train-time-gan: INFO Epoch 9 completed.\n",
      "2025-02-07T02:35:02Z train-time-gan: INFO Epoch 10 completed.\n",
      "2025-02-07T02:35:05Z train-time-gan: INFO Training completed. Uploaded model 2357df37-e4fc-11ef-a569-c275ba02a948\n"
     ]
    }
   ],
   "source": [
    "async for log in workflow.logs():\n",
    "    print(log)"
   ]
  },
  {
   "cell_type": "markdown",
   "metadata": {
    "id": "iencLp9fcXLE"
   },
   "source": [
    "### Generate Synthetic Data And Split Dependent Fields\n"
   ]
  },
  {
   "cell_type": "code",
   "execution_count": 17,
   "metadata": {
    "ExecuteTime": {
     "end_time": "2024-12-12T22:28:40.442195Z",
     "start_time": "2024-12-12T22:28:39.722117Z"
    },
    "colab": {
     "base_uri": "https://localhost:8080/"
    },
    "id": "glMocaqybuWp",
    "outputId": "e5ecacff-7e99-40a1-a2b9-8fe0f0c57d78"
   },
   "outputs": [
    {
     "data": {
      "text/plain": [
       "Model(id='2357df37-e4fc-11ef-a569-c275ba02a948', labels={'workflow_id': '1FQWRivF7EkRvt3wHqojH5'}, create_time=datetime.datetime(2025, 2, 7, 2, 35, 4, tzinfo=datetime.timezone.utc), size_bytes=35407360)"
      ]
     },
     "execution_count": 17,
     "metadata": {},
     "output_type": "execute_result"
    }
   ],
   "source": [
    "model = await workflow.models().last()\n",
    "model"
   ]
  },
  {
   "cell_type": "code",
   "execution_count": 22,
   "metadata": {
    "ExecuteTime": {
     "end_time": "2024-12-12T22:28:40.459461Z",
     "start_time": "2024-12-12T22:28:40.456226Z"
    },
    "id": "meRijyelIhd7"
   },
   "outputs": [],
   "source": [
    "generate = ra.GenerateTimeGAN()\n",
    "target = ra.SessionTarget(\n",
    "    target=None\n",
    ")  # user can specify the target session to generate. Default is None, which means generate the same number of sessions as the input dataset\n",
    "split_field = ra.SplitField(field=\"merchant;category\")\n",
    "save = ra.DatasetSave(name=\"synthetic\")"
   ]
  },
  {
   "cell_type": "code",
   "execution_count": 31,
   "metadata": {
    "ExecuteTime": {
     "end_time": "2024-12-12T22:28:40.568553Z",
     "start_time": "2024-12-12T22:28:40.469753Z"
    },
    "colab": {
     "base_uri": "https://localhost:8080/"
    },
    "id": "W1Tb4CXvbs2Z",
    "outputId": "e4448df5-53b0-41f6-ec22-b9856cc10d8d"
   },
   "outputs": [
    {
     "name": "stdout",
     "output_type": "stream",
     "text": [
      "Workflow: 4Kl8ix4lT847r2UN5mF1vq\n"
     ]
    }
   ],
   "source": [
    "builder = rf.WorkflowBuilder()\n",
    "builder.add_model(model)\n",
    "builder.add_action(generate, parents=[model, target])\n",
    "builder.add_action(split_field, parents=[generate])\n",
    "builder.add_action(target, parents=[split_field])\n",
    "builder.add_action(save, parents=[split_field])\n",
    "workflow = await builder.start(conn)\n",
    "print(f\"Workflow: {workflow.id()}\")"
   ]
  },
  {
   "cell_type": "code",
   "execution_count": 32,
   "metadata": {
    "ExecuteTime": {
     "end_time": "2024-12-12T22:28:44.141797Z",
     "start_time": "2024-12-12T22:28:40.575805Z"
    },
    "colab": {
     "base_uri": "https://localhost:8080/"
    },
    "id": "tIoPUPdrb7IH",
    "outputId": "946e01e1-cf46-4648-d92d-4edc0d511d25"
   },
   "outputs": [
    {
     "name": "stdout",
     "output_type": "stream",
     "text": [
      "2025-02-07T03:20:17Z session-target: INFO Grouping on: ['session_key']\n",
      "2025-02-07T03:20:17Z session-target: INFO new=1000 total=1000 needs=2765\n",
      "2025-02-07T03:20:17Z dataset-save: INFO using field 'session_key' to concatenate tables\n",
      "2025-02-07T03:20:18Z session-target: INFO Grouping on: ['session_key']\n",
      "2025-02-07T03:20:17Z dataset-save: INFO Saved dataset 'l5EsNDBZSyczcF8bu2kKp' with 3467 rows\n",
      "2025-02-07T03:20:14Z generate-time-gan: INFO Downloading model with model_id='2357df37-e4fc-11ef-a569-c275ba02a948'...\n",
      "2025-02-07T03:20:18Z session-target: INFO new=1000 total=2000 needs=1765\n",
      "2025-02-07T03:20:16Z generate-time-gan: INFO Generating 1000 sessions...\n",
      "2025-02-07T03:20:18Z dataset-save: INFO using field 'session_key' to concatenate tables\n",
      "2025-02-07T03:20:17Z generate-time-gan: INFO Model found in cache\n",
      "2025-02-07T03:20:17Z generate-time-gan: INFO Generating 1000 sessions...\n",
      "2025-02-07T03:20:18Z generate-time-gan: INFO Model found in cache\n",
      "2025-02-07T03:20:18Z generate-time-gan: INFO Generating 1000 sessions...\n",
      "2025-02-07T03:20:19Z session-target: INFO Grouping on: ['session_key']\n",
      "2025-02-07T03:20:19Z dataset-save: INFO using field 'session_key' to concatenate tables\n",
      "2025-02-07T03:20:19Z session-target: INFO new=1000 total=3000 needs=765\n",
      "2025-02-07T03:20:19Z generate-time-gan: INFO Model found in cache\n",
      "2025-02-07T03:20:19Z generate-time-gan: INFO Generating 1000 sessions...\n",
      "2025-02-07T03:20:20Z session-target: INFO Grouping on: ['session_key']\n",
      "2025-02-07T03:20:20Z dataset-save: INFO using field 'session_key' to concatenate tables\n",
      "2025-02-07T03:20:20Z session-target: INFO new=1000 total=4000 needs=-235\n"
     ]
    }
   ],
   "source": [
    "async for log in workflow.logs():\n",
    "    print(log)"
   ]
  },
  {
   "cell_type": "code",
   "execution_count": 33,
   "metadata": {
    "ExecuteTime": {
     "end_time": "2024-12-12T22:28:45.052564Z",
     "start_time": "2024-12-12T22:28:44.147922Z"
    },
    "colab": {
     "base_uri": "https://localhost:8080/",
     "height": 424
    },
    "id": "07prAeuTI7Sl",
    "outputId": "c1f3c73f-f483-48c2-c86a-f8ae6e1c7541"
   },
   "outputs": [
    {
     "data": {
      "text/html": [
       "<div>\n",
       "<style scoped>\n",
       "    .dataframe tbody tr th:only-of-type {\n",
       "        vertical-align: middle;\n",
       "    }\n",
       "\n",
       "    .dataframe tbody tr th {\n",
       "        vertical-align: top;\n",
       "    }\n",
       "\n",
       "    .dataframe thead th {\n",
       "        text-align: right;\n",
       "    }\n",
       "</style>\n",
       "<table border=\"1\" class=\"dataframe\">\n",
       "  <thead>\n",
       "    <tr style=\"text-align: right;\">\n",
       "      <th></th>\n",
       "      <th>timestamp</th>\n",
       "      <th>amount</th>\n",
       "      <th>age</th>\n",
       "      <th>fraud</th>\n",
       "      <th>merchant</th>\n",
       "      <th>category</th>\n",
       "      <th>session_key</th>\n",
       "    </tr>\n",
       "  </thead>\n",
       "  <tbody>\n",
       "    <tr>\n",
       "      <th>0</th>\n",
       "      <td>2023-01-03 08:36:38.355</td>\n",
       "      <td>1191.104658</td>\n",
       "      <td>4</td>\n",
       "      <td>0</td>\n",
       "      <td>M1823072687</td>\n",
       "      <td>transportation</td>\n",
       "      <td>1000.0</td>\n",
       "    </tr>\n",
       "    <tr>\n",
       "      <th>1</th>\n",
       "      <td>2023-01-21 13:24:46.500</td>\n",
       "      <td>1097.819749</td>\n",
       "      <td>4</td>\n",
       "      <td>0</td>\n",
       "      <td>M1842530320</td>\n",
       "      <td>tech</td>\n",
       "      <td>1000.0</td>\n",
       "    </tr>\n",
       "    <tr>\n",
       "      <th>2</th>\n",
       "      <td>2023-01-19 23:55:30.924</td>\n",
       "      <td>1064.472810</td>\n",
       "      <td>4</td>\n",
       "      <td>0</td>\n",
       "      <td>M1294758098</td>\n",
       "      <td>leisure</td>\n",
       "      <td>1001.0</td>\n",
       "    </tr>\n",
       "    <tr>\n",
       "      <th>3</th>\n",
       "      <td>2023-01-23 12:01:37.665</td>\n",
       "      <td>1274.412752</td>\n",
       "      <td>4</td>\n",
       "      <td>1</td>\n",
       "      <td>M1294758098</td>\n",
       "      <td>leisure</td>\n",
       "      <td>1001.0</td>\n",
       "    </tr>\n",
       "    <tr>\n",
       "      <th>4</th>\n",
       "      <td>2023-01-27 01:26:33.155</td>\n",
       "      <td>1112.339081</td>\n",
       "      <td>4</td>\n",
       "      <td>0</td>\n",
       "      <td>M1294758098</td>\n",
       "      <td>leisure</td>\n",
       "      <td>1001.0</td>\n",
       "    </tr>\n",
       "    <tr>\n",
       "      <th>...</th>\n",
       "      <td>...</td>\n",
       "      <td>...</td>\n",
       "      <td>...</td>\n",
       "      <td>...</td>\n",
       "      <td>...</td>\n",
       "      <td>...</td>\n",
       "      <td>...</td>\n",
       "    </tr>\n",
       "    <tr>\n",
       "      <th>13267</th>\n",
       "      <td>2023-01-01 20:07:26.623</td>\n",
       "      <td>1004.975746</td>\n",
       "      <td>3</td>\n",
       "      <td>0</td>\n",
       "      <td>M1313686961</td>\n",
       "      <td>contents</td>\n",
       "      <td>997.0</td>\n",
       "    </tr>\n",
       "    <tr>\n",
       "      <th>13268</th>\n",
       "      <td>2023-01-04 06:54:26.417</td>\n",
       "      <td>1891.922095</td>\n",
       "      <td>3</td>\n",
       "      <td>0</td>\n",
       "      <td>M348875670</td>\n",
       "      <td>hotelservices</td>\n",
       "      <td>998.0</td>\n",
       "    </tr>\n",
       "    <tr>\n",
       "      <th>13269</th>\n",
       "      <td>2023-01-08 04:58:02.557</td>\n",
       "      <td>1815.738493</td>\n",
       "      <td>3</td>\n",
       "      <td>1</td>\n",
       "      <td>M1400236507</td>\n",
       "      <td>home</td>\n",
       "      <td>998.0</td>\n",
       "    </tr>\n",
       "    <tr>\n",
       "      <th>13270</th>\n",
       "      <td>2023-01-02 17:10:48.277</td>\n",
       "      <td>447.251147</td>\n",
       "      <td>2</td>\n",
       "      <td>0</td>\n",
       "      <td>M1352454843</td>\n",
       "      <td>hotelservices</td>\n",
       "      <td>999.0</td>\n",
       "    </tr>\n",
       "    <tr>\n",
       "      <th>13271</th>\n",
       "      <td>2023-01-04 10:35:11.932</td>\n",
       "      <td>470.431719</td>\n",
       "      <td>2</td>\n",
       "      <td>0</td>\n",
       "      <td>M1741626453</td>\n",
       "      <td>sportsandtoys</td>\n",
       "      <td>999.0</td>\n",
       "    </tr>\n",
       "  </tbody>\n",
       "</table>\n",
       "<p>13272 rows × 7 columns</p>\n",
       "</div>"
      ],
      "text/plain": [
       "                    timestamp       amount age  fraud     merchant  \\\n",
       "0     2023-01-03 08:36:38.355  1191.104658   4      0  M1823072687   \n",
       "1     2023-01-21 13:24:46.500  1097.819749   4      0  M1842530320   \n",
       "2     2023-01-19 23:55:30.924  1064.472810   4      0  M1294758098   \n",
       "3     2023-01-23 12:01:37.665  1274.412752   4      1  M1294758098   \n",
       "4     2023-01-27 01:26:33.155  1112.339081   4      0  M1294758098   \n",
       "...                       ...          ...  ..    ...          ...   \n",
       "13267 2023-01-01 20:07:26.623  1004.975746   3      0  M1313686961   \n",
       "13268 2023-01-04 06:54:26.417  1891.922095   3      0   M348875670   \n",
       "13269 2023-01-08 04:58:02.557  1815.738493   3      1  M1400236507   \n",
       "13270 2023-01-02 17:10:48.277   447.251147   2      0  M1352454843   \n",
       "13271 2023-01-04 10:35:11.932   470.431719   2      0  M1741626453   \n",
       "\n",
       "             category  session_key  \n",
       "0      transportation       1000.0  \n",
       "1                tech       1000.0  \n",
       "2             leisure       1001.0  \n",
       "3             leisure       1001.0  \n",
       "4             leisure       1001.0  \n",
       "...               ...          ...  \n",
       "13267        contents        997.0  \n",
       "13268   hotelservices        998.0  \n",
       "13269            home        998.0  \n",
       "13270   hotelservices        999.0  \n",
       "13271   sportsandtoys        999.0  \n",
       "\n",
       "[13272 rows x 7 columns]"
      ]
     },
     "execution_count": 33,
     "metadata": {},
     "output_type": "execute_result"
    }
   ],
   "source": [
    "syn = None\n",
    "async for sds in workflow.datasets():\n",
    "    syn = await sds.to_local(conn)\n",
    "syn.to_pandas()"
   ]
  },
  {
   "cell_type": "markdown",
   "metadata": {
    "id": "JKWH6zSPB2p4"
   },
   "source": [
    "### Evaluate Synthetic Dataset\n"
   ]
  },
  {
   "cell_type": "markdown",
   "metadata": {
    "id": "bFyhA6NxBzEm"
   },
   "source": [
    "Check if synthetic dataset has valid merchant-category pairs:\n"
   ]
  },
  {
   "cell_type": "code",
   "execution_count": 34,
   "metadata": {
    "ExecuteTime": {
     "end_time": "2024-12-12T22:28:45.080936Z",
     "start_time": "2024-12-12T22:28:45.078193Z"
    },
    "id": "xX2lqs4PB7aw"
   },
   "outputs": [],
   "source": [
    "syn_df = syn.to_pandas()"
   ]
  },
  {
   "cell_type": "code",
   "execution_count": 35,
   "metadata": {
    "ExecuteTime": {
     "end_time": "2024-12-12T22:28:45.108746Z",
     "start_time": "2024-12-12T22:28:45.105968Z"
    },
    "id": "W2i64Hz-CA13"
   },
   "outputs": [],
   "source": [
    "for mer, cat in zip(syn_df[\"merchant\"], syn_df[\"category\"]):\n",
    "    assert cat in merchant_to_category.get(mer)"
   ]
  }
 ],
 "metadata": {
  "accelerator": "GPU",
  "colab": {
   "gpuType": "T4",
   "provenance": []
  },
  "kernelspec": {
   "display_name": "colab",
   "language": "python",
   "name": "python3"
  },
  "language_info": {
   "codemirror_mode": {
    "name": "ipython",
    "version": 3
   },
   "file_extension": ".py",
   "mimetype": "text/x-python",
   "name": "python",
   "nbconvert_exporter": "python",
   "pygments_lexer": "ipython3",
   "version": "3.12.4"
  },
  "widgets": {
   "application/vnd.jupyter.widget-state+json": {
    "0af1476b5d7d45f19a3abb218a1471a9": {
     "model_module": "@jupyter-widgets/controls",
     "model_module_version": "1.5.0",
     "model_name": "ProgressStyleModel",
     "state": {
      "_model_module": "@jupyter-widgets/controls",
      "_model_module_version": "1.5.0",
      "_model_name": "ProgressStyleModel",
      "_view_count": null,
      "_view_module": "@jupyter-widgets/base",
      "_view_module_version": "1.2.0",
      "_view_name": "StyleView",
      "bar_color": null,
      "description_width": ""
     }
    },
    "2c2c1499057a486292c376f87fb40c33": {
     "model_module": "@jupyter-widgets/controls",
     "model_module_version": "1.5.0",
     "model_name": "DescriptionStyleModel",
     "state": {
      "_model_module": "@jupyter-widgets/controls",
      "_model_module_version": "1.5.0",
      "_model_name": "DescriptionStyleModel",
      "_view_count": null,
      "_view_module": "@jupyter-widgets/base",
      "_view_module_version": "1.2.0",
      "_view_name": "StyleView",
      "description_width": ""
     }
    },
    "3277ea36259c4cc09a3a6f0a230421d7": {
     "model_module": "@jupyter-widgets/base",
     "model_module_version": "1.2.0",
     "model_name": "LayoutModel",
     "state": {
      "_model_module": "@jupyter-widgets/base",
      "_model_module_version": "1.2.0",
      "_model_name": "LayoutModel",
      "_view_count": null,
      "_view_module": "@jupyter-widgets/base",
      "_view_module_version": "1.2.0",
      "_view_name": "LayoutView",
      "align_content": null,
      "align_items": null,
      "align_self": null,
      "border": null,
      "bottom": null,
      "display": null,
      "flex": null,
      "flex_flow": null,
      "grid_area": null,
      "grid_auto_columns": null,
      "grid_auto_flow": null,
      "grid_auto_rows": null,
      "grid_column": null,
      "grid_gap": null,
      "grid_row": null,
      "grid_template_areas": null,
      "grid_template_columns": null,
      "grid_template_rows": null,
      "height": null,
      "justify_content": null,
      "justify_items": null,
      "left": null,
      "margin": null,
      "max_height": null,
      "max_width": null,
      "min_height": null,
      "min_width": null,
      "object_fit": null,
      "object_position": null,
      "order": null,
      "overflow": null,
      "overflow_x": null,
      "overflow_y": null,
      "padding": null,
      "right": null,
      "top": null,
      "visibility": null,
      "width": null
     }
    },
    "37b7451529e54a8bb07a3834659410cf": {
     "model_module": "@jupyter-widgets/base",
     "model_module_version": "1.2.0",
     "model_name": "LayoutModel",
     "state": {
      "_model_module": "@jupyter-widgets/base",
      "_model_module_version": "1.2.0",
      "_model_name": "LayoutModel",
      "_view_count": null,
      "_view_module": "@jupyter-widgets/base",
      "_view_module_version": "1.2.0",
      "_view_name": "LayoutView",
      "align_content": null,
      "align_items": null,
      "align_self": null,
      "border": null,
      "bottom": null,
      "display": null,
      "flex": null,
      "flex_flow": null,
      "grid_area": null,
      "grid_auto_columns": null,
      "grid_auto_flow": null,
      "grid_auto_rows": null,
      "grid_column": null,
      "grid_gap": null,
      "grid_row": null,
      "grid_template_areas": null,
      "grid_template_columns": null,
      "grid_template_rows": null,
      "height": null,
      "justify_content": null,
      "justify_items": null,
      "left": null,
      "margin": null,
      "max_height": null,
      "max_width": null,
      "min_height": null,
      "min_width": null,
      "object_fit": null,
      "object_position": null,
      "order": null,
      "overflow": null,
      "overflow_x": null,
      "overflow_y": null,
      "padding": null,
      "right": null,
      "top": null,
      "visibility": null,
      "width": null
     }
    },
    "5dc27d57eee64d539f9456f55f97156b": {
     "model_module": "@jupyter-widgets/base",
     "model_module_version": "1.2.0",
     "model_name": "LayoutModel",
     "state": {
      "_model_module": "@jupyter-widgets/base",
      "_model_module_version": "1.2.0",
      "_model_name": "LayoutModel",
      "_view_count": null,
      "_view_module": "@jupyter-widgets/base",
      "_view_module_version": "1.2.0",
      "_view_name": "LayoutView",
      "align_content": null,
      "align_items": null,
      "align_self": null,
      "border": null,
      "bottom": null,
      "display": null,
      "flex": null,
      "flex_flow": null,
      "grid_area": null,
      "grid_auto_columns": null,
      "grid_auto_flow": null,
      "grid_auto_rows": null,
      "grid_column": null,
      "grid_gap": null,
      "grid_row": null,
      "grid_template_areas": null,
      "grid_template_columns": null,
      "grid_template_rows": null,
      "height": null,
      "justify_content": null,
      "justify_items": null,
      "left": null,
      "margin": null,
      "max_height": null,
      "max_width": null,
      "min_height": null,
      "min_width": null,
      "object_fit": null,
      "object_position": null,
      "order": null,
      "overflow": null,
      "overflow_x": null,
      "overflow_y": null,
      "padding": null,
      "right": null,
      "top": null,
      "visibility": null,
      "width": null
     }
    },
    "6a032143a7bc40a99dd0d30e4cf98426": {
     "model_module": "@jupyter-widgets/controls",
     "model_module_version": "1.5.0",
     "model_name": "HTMLModel",
     "state": {
      "_dom_classes": [],
      "_model_module": "@jupyter-widgets/controls",
      "_model_module_version": "1.5.0",
      "_model_name": "HTMLModel",
      "_view_count": null,
      "_view_module": "@jupyter-widgets/controls",
      "_view_module_version": "1.5.0",
      "_view_name": "HTMLView",
      "description": "",
      "description_tooltip": null,
      "layout": "IPY_MODEL_3277ea36259c4cc09a3a6f0a230421d7",
      "placeholder": "​",
      "style": "IPY_MODEL_7d2a1afc62cd46ea9d0d4251005b41b0",
      "value": "100%"
     }
    },
    "7290c770152347ac83bb58c117c5b8ec": {
     "model_module": "@jupyter-widgets/controls",
     "model_module_version": "1.5.0",
     "model_name": "FloatProgressModel",
     "state": {
      "_dom_classes": [],
      "_model_module": "@jupyter-widgets/controls",
      "_model_module_version": "1.5.0",
      "_model_name": "FloatProgressModel",
      "_view_count": null,
      "_view_module": "@jupyter-widgets/controls",
      "_view_module_version": "1.5.0",
      "_view_name": "ProgressView",
      "bar_style": "success",
      "description": "",
      "description_tooltip": null,
      "layout": "IPY_MODEL_f555b6785ab24dfebe86d1cd81879ab8",
      "max": 20,
      "min": 0,
      "orientation": "horizontal",
      "style": "IPY_MODEL_0af1476b5d7d45f19a3abb218a1471a9",
      "value": 20
     }
    },
    "7d2a1afc62cd46ea9d0d4251005b41b0": {
     "model_module": "@jupyter-widgets/controls",
     "model_module_version": "1.5.0",
     "model_name": "DescriptionStyleModel",
     "state": {
      "_model_module": "@jupyter-widgets/controls",
      "_model_module_version": "1.5.0",
      "_model_name": "DescriptionStyleModel",
      "_view_count": null,
      "_view_module": "@jupyter-widgets/base",
      "_view_module_version": "1.2.0",
      "_view_name": "StyleView",
      "description_width": ""
     }
    },
    "bd95f09eea9e4d689a743ed781ab9592": {
     "model_module": "@jupyter-widgets/controls",
     "model_module_version": "1.5.0",
     "model_name": "HTMLModel",
     "state": {
      "_dom_classes": [],
      "_model_module": "@jupyter-widgets/controls",
      "_model_module_version": "1.5.0",
      "_model_name": "HTMLModel",
      "_view_count": null,
      "_view_module": "@jupyter-widgets/controls",
      "_view_module_version": "1.5.0",
      "_view_name": "HTMLView",
      "description": "",
      "description_tooltip": null,
      "layout": "IPY_MODEL_37b7451529e54a8bb07a3834659410cf",
      "placeholder": "​",
      "style": "IPY_MODEL_2c2c1499057a486292c376f87fb40c33",
      "value": " 20/20 [00:24&lt;00:00,  1.25it/s]"
     }
    },
    "d3fc97c14ec547cc89c8c3667cd498c3": {
     "model_module": "@jupyter-widgets/controls",
     "model_module_version": "1.5.0",
     "model_name": "HBoxModel",
     "state": {
      "_dom_classes": [],
      "_model_module": "@jupyter-widgets/controls",
      "_model_module_version": "1.5.0",
      "_model_name": "HBoxModel",
      "_view_count": null,
      "_view_module": "@jupyter-widgets/controls",
      "_view_module_version": "1.5.0",
      "_view_name": "HBoxView",
      "box_style": "",
      "children": [
       "IPY_MODEL_6a032143a7bc40a99dd0d30e4cf98426",
       "IPY_MODEL_7290c770152347ac83bb58c117c5b8ec",
       "IPY_MODEL_bd95f09eea9e4d689a743ed781ab9592"
      ],
      "layout": "IPY_MODEL_5dc27d57eee64d539f9456f55f97156b"
     }
    },
    "f555b6785ab24dfebe86d1cd81879ab8": {
     "model_module": "@jupyter-widgets/base",
     "model_module_version": "1.2.0",
     "model_name": "LayoutModel",
     "state": {
      "_model_module": "@jupyter-widgets/base",
      "_model_module_version": "1.2.0",
      "_model_name": "LayoutModel",
      "_view_count": null,
      "_view_module": "@jupyter-widgets/base",
      "_view_module_version": "1.2.0",
      "_view_name": "LayoutView",
      "align_content": null,
      "align_items": null,
      "align_self": null,
      "border": null,
      "bottom": null,
      "display": null,
      "flex": null,
      "flex_flow": null,
      "grid_area": null,
      "grid_auto_columns": null,
      "grid_auto_flow": null,
      "grid_auto_rows": null,
      "grid_column": null,
      "grid_gap": null,
      "grid_row": null,
      "grid_template_areas": null,
      "grid_template_columns": null,
      "grid_template_rows": null,
      "height": null,
      "justify_content": null,
      "justify_items": null,
      "left": null,
      "margin": null,
      "max_height": null,
      "max_width": null,
      "min_height": null,
      "min_width": null,
      "object_fit": null,
      "object_position": null,
      "order": null,
      "overflow": null,
      "overflow_x": null,
      "overflow_y": null,
      "padding": null,
      "right": null,
      "top": null,
      "visibility": null,
      "width": null
     }
    }
   }
  }
 },
 "nbformat": 4,
 "nbformat_minor": 0
}
