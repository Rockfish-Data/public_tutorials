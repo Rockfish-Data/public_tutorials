{
  "cells": [
    {
      "cell_type": "code",
      "execution_count": 1,
      "metadata": {
        "id": "JRA0zwf6EICX"
      },
      "outputs": [],
      "source": [
        "%%capture\n",
        "%pip install -U 'rockfish[labs]' -f 'https://docs.rockfish.ai/packages/index.html'"
      ]
    },
    {
      "cell_type": "code",
      "execution_count": 2,
      "metadata": {
        "id": "SS9uVPUpETyJ"
      },
      "outputs": [],
      "source": [
        "import rockfish as rf\n",
        "import rockfish.actions as ra\n",
        "import rockfish.labs as rl"
      ]
    },
    {
      "cell_type": "markdown",
      "metadata": {},
      "source": [
        "Please replace `YOUR_API_KEY` with the assigned API key string. Note that it should be without quotes.\n",
        "\n",
        "For example, if the assigned API Key is `abcd1234`, you can do the following\n",
        "\n",
        "```python\n",
        "%env ROCKFISH_API_KEY=abcd1234\n",
        "conn = rf.Connection.from_env()\n",
        "```\n",
        "\n",
        "If you do not have API Key, please reach out to support@rockfish.ai.\n"
      ]
    },
    {
      "cell_type": "code",
      "execution_count": 11,
      "metadata": {
        "id": "cAKCIort9ilu"
      },
      "outputs": [
        {
          "name": "stdout",
          "output_type": "stream",
          "text": [
            "env: ROCKFISH_API_KEY=YOUR_API_KEY\n"
          ]
        }
      ],
      "source": [
        "%env ROCKFISH_API_KEY=YOUR_API_KEY\n",
        "conn = rf.Connection.from_env()"
      ]
    },
    {
      "cell_type": "code",
      "execution_count": 4,
      "metadata": {
        "colab": {
          "base_uri": "https://localhost:8080/"
        },
        "id": "7GvaKb_aEdwM",
        "outputId": "431515a9-10a7-4268-90c6-2a78d187b6b2"
      },
      "outputs": [
        {
          "name": "stdout",
          "output_type": "stream",
          "text": [
            "--2024-07-19 01:07:19--  https://docs142.rockfish.ai/tutorials/finance.csv\n",
            "Resolving docs142.rockfish.ai (docs142.rockfish.ai)... 65.8.161.27, 65.8.161.100, 65.8.161.81, ...\n",
            "Connecting to docs142.rockfish.ai (docs142.rockfish.ai)|65.8.161.27|:443... connected.\n",
            "HTTP request sent, awaiting response... 200 OK\n",
            "Length: 3444556 (3.3M) [text/csv]\n",
            "Saving to: ‘finance.csv’\n",
            "\n",
            "finance.csv         100%[===================>]   3.28M  1.36MB/s    in 2.4s    \n",
            "\n",
            "2024-07-19 01:07:22 (1.36 MB/s) - ‘finance.csv’ saved [3444556/3444556]\n",
            "\n"
          ]
        }
      ],
      "source": [
        "# download our example of timeseries data: finance.csv\n",
        "!wget --no-clobber https://docs.rockfish.ai/tutorials/finance.csv"
      ]
    },
    {
      "cell_type": "code",
      "execution_count": 5,
      "metadata": {
        "colab": {
          "base_uri": "https://localhost:8080/",
          "height": 424
        },
        "id": "9WkBz993EjIM",
        "outputId": "1f7fe299-f81d-4e30-ef98-2effeaefc8ee"
      },
      "outputs": [
        {
          "data": {
            "text/html": [
              "<div>\n",
              "<style scoped>\n",
              "    .dataframe tbody tr th:only-of-type {\n",
              "        vertical-align: middle;\n",
              "    }\n",
              "\n",
              "    .dataframe tbody tr th {\n",
              "        vertical-align: top;\n",
              "    }\n",
              "\n",
              "    .dataframe thead th {\n",
              "        text-align: right;\n",
              "    }\n",
              "</style>\n",
              "<table border=\"1\" class=\"dataframe\">\n",
              "  <thead>\n",
              "    <tr style=\"text-align: right;\">\n",
              "      <th></th>\n",
              "      <th>customer</th>\n",
              "      <th>age</th>\n",
              "      <th>gender</th>\n",
              "      <th>merchant</th>\n",
              "      <th>category</th>\n",
              "      <th>amount</th>\n",
              "      <th>fraud</th>\n",
              "      <th>timestamp</th>\n",
              "    </tr>\n",
              "  </thead>\n",
              "  <tbody>\n",
              "    <tr>\n",
              "      <th>0</th>\n",
              "      <td>C1093826151</td>\n",
              "      <td>4</td>\n",
              "      <td>M</td>\n",
              "      <td>M348934600</td>\n",
              "      <td>transportation</td>\n",
              "      <td>4.55</td>\n",
              "      <td>0</td>\n",
              "      <td>2023-01-01</td>\n",
              "    </tr>\n",
              "    <tr>\n",
              "      <th>1</th>\n",
              "      <td>C575345520</td>\n",
              "      <td>2</td>\n",
              "      <td>F</td>\n",
              "      <td>M348934600</td>\n",
              "      <td>transportation</td>\n",
              "      <td>76.67</td>\n",
              "      <td>0</td>\n",
              "      <td>2023-01-01</td>\n",
              "    </tr>\n",
              "    <tr>\n",
              "      <th>2</th>\n",
              "      <td>C1787537369</td>\n",
              "      <td>2</td>\n",
              "      <td>M</td>\n",
              "      <td>M1823072687</td>\n",
              "      <td>transportation</td>\n",
              "      <td>48.02</td>\n",
              "      <td>0</td>\n",
              "      <td>2023-01-01</td>\n",
              "    </tr>\n",
              "    <tr>\n",
              "      <th>3</th>\n",
              "      <td>C1732307957</td>\n",
              "      <td>5</td>\n",
              "      <td>F</td>\n",
              "      <td>M348934600</td>\n",
              "      <td>transportation</td>\n",
              "      <td>55.06</td>\n",
              "      <td>0</td>\n",
              "      <td>2023-01-01</td>\n",
              "    </tr>\n",
              "    <tr>\n",
              "      <th>4</th>\n",
              "      <td>C842799656</td>\n",
              "      <td>1</td>\n",
              "      <td>F</td>\n",
              "      <td>M348934600</td>\n",
              "      <td>transportation</td>\n",
              "      <td>25.62</td>\n",
              "      <td>0</td>\n",
              "      <td>2023-01-01</td>\n",
              "    </tr>\n",
              "    <tr>\n",
              "      <th>...</th>\n",
              "      <td>...</td>\n",
              "      <td>...</td>\n",
              "      <td>...</td>\n",
              "      <td>...</td>\n",
              "      <td>...</td>\n",
              "      <td>...</td>\n",
              "      <td>...</td>\n",
              "      <td>...</td>\n",
              "    </tr>\n",
              "    <tr>\n",
              "      <th>49995</th>\n",
              "      <td>C1971105040</td>\n",
              "      <td>3</td>\n",
              "      <td>M</td>\n",
              "      <td>M348934600</td>\n",
              "      <td>transportation</td>\n",
              "      <td>67.91</td>\n",
              "      <td>0</td>\n",
              "      <td>2023-01-20</td>\n",
              "    </tr>\n",
              "    <tr>\n",
              "      <th>49996</th>\n",
              "      <td>C51444479</td>\n",
              "      <td>3</td>\n",
              "      <td>M</td>\n",
              "      <td>M348934600</td>\n",
              "      <td>transportation</td>\n",
              "      <td>32.27</td>\n",
              "      <td>0</td>\n",
              "      <td>2023-01-20</td>\n",
              "    </tr>\n",
              "    <tr>\n",
              "      <th>49997</th>\n",
              "      <td>C1096642744</td>\n",
              "      <td>5</td>\n",
              "      <td>M</td>\n",
              "      <td>M1535107174</td>\n",
              "      <td>wellnessandbeauty</td>\n",
              "      <td>149.70</td>\n",
              "      <td>0</td>\n",
              "      <td>2023-01-20</td>\n",
              "    </tr>\n",
              "    <tr>\n",
              "      <th>49998</th>\n",
              "      <td>C1166683343</td>\n",
              "      <td>2</td>\n",
              "      <td>F</td>\n",
              "      <td>M1823072687</td>\n",
              "      <td>transportation</td>\n",
              "      <td>24.78</td>\n",
              "      <td>0</td>\n",
              "      <td>2023-01-20</td>\n",
              "    </tr>\n",
              "    <tr>\n",
              "      <th>49999</th>\n",
              "      <td>C344209010</td>\n",
              "      <td>5</td>\n",
              "      <td>F</td>\n",
              "      <td>M348934600</td>\n",
              "      <td>transportation</td>\n",
              "      <td>19.80</td>\n",
              "      <td>0</td>\n",
              "      <td>2023-01-20</td>\n",
              "    </tr>\n",
              "  </tbody>\n",
              "</table>\n",
              "<p>50000 rows × 8 columns</p>\n",
              "</div>"
            ],
            "text/plain": [
              "          customer age gender     merchant           category  amount  fraud  \\\n",
              "0      C1093826151   4      M   M348934600     transportation    4.55      0   \n",
              "1       C575345520   2      F   M348934600     transportation   76.67      0   \n",
              "2      C1787537369   2      M  M1823072687     transportation   48.02      0   \n",
              "3      C1732307957   5      F   M348934600     transportation   55.06      0   \n",
              "4       C842799656   1      F   M348934600     transportation   25.62      0   \n",
              "...            ...  ..    ...          ...                ...     ...    ...   \n",
              "49995  C1971105040   3      M   M348934600     transportation   67.91      0   \n",
              "49996    C51444479   3      M   M348934600     transportation   32.27      0   \n",
              "49997  C1096642744   5      M  M1535107174  wellnessandbeauty  149.70      0   \n",
              "49998  C1166683343   2      F  M1823072687     transportation   24.78      0   \n",
              "49999   C344209010   5      F   M348934600     transportation   19.80      0   \n",
              "\n",
              "       timestamp  \n",
              "0     2023-01-01  \n",
              "1     2023-01-01  \n",
              "2     2023-01-01  \n",
              "3     2023-01-01  \n",
              "4     2023-01-01  \n",
              "...          ...  \n",
              "49995 2023-01-20  \n",
              "49996 2023-01-20  \n",
              "49997 2023-01-20  \n",
              "49998 2023-01-20  \n",
              "49999 2023-01-20  \n",
              "\n",
              "[50000 rows x 8 columns]"
            ]
          },
          "execution_count": 5,
          "metadata": {},
          "output_type": "execute_result"
        }
      ],
      "source": [
        "dataset = rf.Dataset.from_csv(\"finance\", \"finance.csv\")\n",
        "dataset.to_pandas()"
      ]
    },
    {
      "cell_type": "markdown",
      "metadata": {
        "id": "ZnCqqO5m-9-i"
      },
      "source": [
        "Get valid merchant-category pairs present in the train dataset:\n"
      ]
    },
    {
      "cell_type": "code",
      "execution_count": 6,
      "metadata": {
        "id": "rPlpKqYn9jpw"
      },
      "outputs": [],
      "source": [
        "df = dataset.to_pandas()\n",
        "merchant_to_category = {}\n",
        "for mer, cat in zip(df[\"merchant\"], df[\"category\"]):\n",
        "    valid_cats = merchant_to_category.get(mer, [])\n",
        "    if cat not in valid_cats:\n",
        "        valid_cats.append(cat)\n",
        "    merchant_to_category[mer] = valid_cats"
      ]
    },
    {
      "cell_type": "markdown",
      "metadata": {
        "id": "hbnPqSq3_EPo"
      },
      "source": [
        "These will be used to confirm that the synthetic dataset also has valid merchant-category pairs.\n"
      ]
    },
    {
      "cell_type": "markdown",
      "metadata": {
        "id": "T57V8QMfcPsr"
      },
      "source": [
        "### Join Dependent Fields\n"
      ]
    },
    {
      "cell_type": "code",
      "execution_count": 7,
      "metadata": {
        "id": "AhHbqVMgEv_w"
      },
      "outputs": [],
      "source": [
        "join_fields = ra.JoinFields(fields=[\"merchant\", \"category\"])"
      ]
    },
    {
      "cell_type": "markdown",
      "metadata": {
        "id": "TTG93PYPcT8K"
      },
      "source": [
        "### Train Model\n"
      ]
    },
    {
      "cell_type": "code",
      "execution_count": 8,
      "metadata": {
        "id": "dFQsdRvCGpD-"
      },
      "outputs": [],
      "source": [
        "config = ra.TrainTimeGAN.Config(\n",
        "    encoder=ra.TrainTimeGAN.DatasetConfig(\n",
        "        timestamp=ra.TrainTimeGAN.TimestampConfig(field=\"timestamp\"),\n",
        "        metadata=[\n",
        "            ra.TrainTimeGAN.FieldConfig(field=\"age\", type=\"categorical\"),\n",
        "            ra.TrainTimeGAN.FieldConfig(field=\"customer\", type=\"session\"),\n",
        "        ],\n",
        "        measurements=[\n",
        "            ra.TrainTimeGAN.FieldConfig(\n",
        "                field=\"merchant;category\", type=\"categorical\"\n",
        "            ),\n",
        "            ra.TrainTimeGAN.FieldConfig(field=\"amount\", type=\"continuous\"),\n",
        "            ra.TrainTimeGAN.FieldConfig(field=\"fraud\", type=\"categorical\"),\n",
        "        ],\n",
        "    ),\n",
        "    doppelganger=ra.TrainTimeGAN.DGConfig(\n",
        "        epoch=10,\n",
        "        epoch_checkpoint_freq=5,\n",
        "        sample_len=2,\n",
        "        batch_size=1255,\n",
        "    ),\n",
        ")\n",
        "train = ra.TrainTimeGAN(config)"
      ]
    },
    {
      "cell_type": "code",
      "execution_count": 9,
      "metadata": {
        "colab": {
          "base_uri": "https://localhost:8080/"
        },
        "id": "N_WEG9m6J0m9",
        "outputId": "794a55f3-996e-48a1-ee01-77ddd8993811"
      },
      "outputs": [
        {
          "name": "stdout",
          "output_type": "stream",
          "text": [
            "Workflow: 32aRIW3N7lZxFbQyXIYNXU\n"
          ]
        }
      ],
      "source": [
        "builder = rf.WorkflowBuilder()\n",
        "builder.add_path(dataset, join_fields, train)\n",
        "workflow = await builder.start(conn)\n",
        "print(f\"Workflow: {workflow.id()}\")"
      ]
    },
    {
      "cell_type": "code",
      "execution_count": 10,
      "metadata": {
        "colab": {
          "base_uri": "https://localhost:8080/",
          "height": 49,
          "referenced_widgets": [
            "d3fc97c14ec547cc89c8c3667cd498c3",
            "6a032143a7bc40a99dd0d30e4cf98426",
            "7290c770152347ac83bb58c117c5b8ec",
            "bd95f09eea9e4d689a743ed781ab9592",
            "5dc27d57eee64d539f9456f55f97156b",
            "3277ea36259c4cc09a3a6f0a230421d7",
            "7d2a1afc62cd46ea9d0d4251005b41b0",
            "f555b6785ab24dfebe86d1cd81879ab8",
            "0af1476b5d7d45f19a3abb218a1471a9",
            "37b7451529e54a8bb07a3834659410cf",
            "2c2c1499057a486292c376f87fb40c33"
          ]
        },
        "collapsed": true,
        "id": "m38QXMBhJ9H9",
        "outputId": "1dcb27e5-812d-4c15-f2c8-a936fd5e36f7"
      },
      "outputs": [
        {
          "ename": "CancelledError",
          "evalue": "",
          "output_type": "error",
          "traceback": [
            "\u001b[0;31m---------------------------------------------------------------------------\u001b[0m",
            "\u001b[0;31mCancelledError\u001b[0m                            Traceback (most recent call last)",
            "Cell \u001b[0;32mIn[10], line 1\u001b[0m\n\u001b[0;32m----> 1\u001b[0m \u001b[38;5;28;01masync\u001b[39;00m \u001b[38;5;28;01mfor\u001b[39;00m progress \u001b[38;5;129;01min\u001b[39;00m workflow\u001b[38;5;241m.\u001b[39mprogress()\u001b[38;5;241m.\u001b[39mnotebook():\n\u001b[1;32m      2\u001b[0m     \u001b[38;5;28;01mpass\u001b[39;00m\n",
            "File \u001b[0;32m~/opt/anaconda3/envs/colab-test/lib/python3.12/site-packages/rockfish/notebook.py:20\u001b[0m, in \u001b[0;36mprogress_bar\u001b[0;34m(aiter)\u001b[0m\n\u001b[1;32m     18\u001b[0m prev \u001b[38;5;241m=\u001b[39m \u001b[38;5;241m0\u001b[39m\n\u001b[1;32m     19\u001b[0m \u001b[38;5;28;01mtry\u001b[39;00m:\n\u001b[0;32m---> 20\u001b[0m     \u001b[38;5;28;01masync\u001b[39;00m \u001b[38;5;28;01mfor\u001b[39;00m item \u001b[38;5;129;01min\u001b[39;00m \u001b[38;5;28maiter\u001b[39m:\n\u001b[1;32m     21\u001b[0m         \u001b[38;5;28;01mif\u001b[39;00m pbar \u001b[38;5;129;01mis\u001b[39;00m \u001b[38;5;28;01mNone\u001b[39;00m:\n\u001b[1;32m     22\u001b[0m             pbar \u001b[38;5;241m=\u001b[39m tqdm\u001b[38;5;241m.\u001b[39mnotebook\u001b[38;5;241m.\u001b[39mtqdm(total\u001b[38;5;241m=\u001b[39mitem\u001b[38;5;241m.\u001b[39mtotal)\n",
            "File \u001b[0;32m~/opt/anaconda3/envs/colab-test/lib/python3.12/site-packages/rockfish/remote/workflow.py:129\u001b[0m, in \u001b[0;36mWorkflow.progress.<locals>.inner\u001b[0;34m(*names)\u001b[0m\n\u001b[1;32m    127\u001b[0m \u001b[38;5;28;01masync\u001b[39;00m \u001b[38;5;28;01mdef\u001b[39;00m \u001b[38;5;21minner\u001b[39m(\u001b[38;5;241m*\u001b[39mnames):\n\u001b[1;32m    128\u001b[0m     \u001b[38;5;28;01masync\u001b[39;00m \u001b[38;5;28;01mwith\u001b[39;00m aclosing(\u001b[38;5;28mself\u001b[39m\u001b[38;5;241m.\u001b[39mevents(\u001b[38;5;241m*\u001b[39mnames)) \u001b[38;5;28;01mas\u001b[39;00m events:\n\u001b[0;32m--> 129\u001b[0m         \u001b[38;5;28;01masync\u001b[39;00m \u001b[38;5;28;01mfor\u001b[39;00m event \u001b[38;5;129;01min\u001b[39;00m events:\n\u001b[1;32m    130\u001b[0m             \u001b[38;5;28;01mif\u001b[39;00m EventType\u001b[38;5;241m.\u001b[39mLOG \u001b[38;5;241m==\u001b[39m event\u001b[38;5;241m.\u001b[39mtype:\n\u001b[1;32m    131\u001b[0m                 inner \u001b[38;5;241m=\u001b[39m event\u001b[38;5;241m.\u001b[39mevent\n",
            "File \u001b[0;32m~/opt/anaconda3/envs/colab-test/lib/python3.12/site-packages/rockfish/streams.py:277\u001b[0m, in \u001b[0;36mStream.__anext__\u001b[0;34m(self)\u001b[0m\n\u001b[1;32m    276\u001b[0m \u001b[38;5;28;01masync\u001b[39;00m \u001b[38;5;28;01mdef\u001b[39;00m \u001b[38;5;21m__anext__\u001b[39m(\u001b[38;5;28mself\u001b[39m) \u001b[38;5;241m-\u001b[39m\u001b[38;5;241m>\u001b[39m T:\n\u001b[0;32m--> 277\u001b[0m     \u001b[38;5;28;01mreturn\u001b[39;00m \u001b[38;5;28;01mawait\u001b[39;00m \u001b[38;5;28mself\u001b[39m\u001b[38;5;241m.\u001b[39miter\u001b[38;5;241m.\u001b[39m\u001b[38;5;21m__anext__\u001b[39m()\n",
            "File \u001b[0;32m~/opt/anaconda3/envs/colab-test/lib/python3.12/site-packages/rockfish/remote/workflow.py:62\u001b[0m, in \u001b[0;36mWorkflow.events.<locals>.inner\u001b[0;34m(*names)\u001b[0m\n\u001b[1;32m     60\u001b[0m streams \u001b[38;5;241m=\u001b[39m [\u001b[38;5;28mself\u001b[39m\u001b[38;5;241m.\u001b[39m_job_events(name\u001b[38;5;241m=\u001b[39mname) \u001b[38;5;28;01mfor\u001b[39;00m name \u001b[38;5;129;01min\u001b[39;00m names]\n\u001b[1;32m     61\u001b[0m \u001b[38;5;28;01masync\u001b[39;00m \u001b[38;5;28;01mwith\u001b[39;00m Merger() \u001b[38;5;28;01mas\u001b[39;00m merger:\n\u001b[0;32m---> 62\u001b[0m     \u001b[38;5;28;01masync\u001b[39;00m \u001b[38;5;28;01mfor\u001b[39;00m event \u001b[38;5;129;01min\u001b[39;00m merger\u001b[38;5;241m.\u001b[39mmerge(\u001b[38;5;241m*\u001b[39mstreams):\n\u001b[1;32m     63\u001b[0m         \u001b[38;5;28;01myield\u001b[39;00m event\n",
            "File \u001b[0;32m~/opt/anaconda3/envs/colab-test/lib/python3.12/site-packages/rockfish/streams.py:52\u001b[0m, in \u001b[0;36mMerger.merge\u001b[0;34m(self, *agens)\u001b[0m\n\u001b[1;32m     50\u001b[0m pending \u001b[38;5;241m=\u001b[39m {\u001b[38;5;28mself\u001b[39m\u001b[38;5;241m.\u001b[39mcreate_task(anext(agens)) \u001b[38;5;28;01mfor\u001b[39;00m agens \u001b[38;5;129;01min\u001b[39;00m agens}\n\u001b[1;32m     51\u001b[0m \u001b[38;5;28;01mwhile\u001b[39;00m pending:\n\u001b[0;32m---> 52\u001b[0m     done, pending \u001b[38;5;241m=\u001b[39m \u001b[38;5;28;01mawait\u001b[39;00m asyncio\u001b[38;5;241m.\u001b[39mwait(\n\u001b[1;32m     53\u001b[0m         pending, return_when\u001b[38;5;241m=\u001b[39masyncio\u001b[38;5;241m.\u001b[39mFIRST_COMPLETED\n\u001b[1;32m     54\u001b[0m     )\n\u001b[1;32m     55\u001b[0m     \u001b[38;5;28;01mfor\u001b[39;00m task \u001b[38;5;129;01min\u001b[39;00m done:\n\u001b[1;32m     56\u001b[0m         \u001b[38;5;28mself\u001b[39m\u001b[38;5;241m.\u001b[39mtasks\u001b[38;5;241m.\u001b[39mdiscard(task)\n",
            "File \u001b[0;32m~/opt/anaconda3/envs/colab-test/lib/python3.12/asyncio/tasks.py:464\u001b[0m, in \u001b[0;36mwait\u001b[0;34m(fs, timeout, return_when)\u001b[0m\n\u001b[1;32m    461\u001b[0m     \u001b[38;5;28;01mraise\u001b[39;00m \u001b[38;5;167;01mTypeError\u001b[39;00m(\u001b[38;5;124m\"\u001b[39m\u001b[38;5;124mPassing coroutines is forbidden, use tasks explicitly.\u001b[39m\u001b[38;5;124m\"\u001b[39m)\n\u001b[1;32m    463\u001b[0m loop \u001b[38;5;241m=\u001b[39m events\u001b[38;5;241m.\u001b[39mget_running_loop()\n\u001b[0;32m--> 464\u001b[0m \u001b[38;5;28;01mreturn\u001b[39;00m \u001b[38;5;28;01mawait\u001b[39;00m _wait(fs, timeout, return_when, loop)\n",
            "File \u001b[0;32m~/opt/anaconda3/envs/colab-test/lib/python3.12/asyncio/tasks.py:550\u001b[0m, in \u001b[0;36m_wait\u001b[0;34m(fs, timeout, return_when, loop)\u001b[0m\n\u001b[1;32m    547\u001b[0m     f\u001b[38;5;241m.\u001b[39madd_done_callback(_on_completion)\n\u001b[1;32m    549\u001b[0m \u001b[38;5;28;01mtry\u001b[39;00m:\n\u001b[0;32m--> 550\u001b[0m     \u001b[38;5;28;01mawait\u001b[39;00m waiter\n\u001b[1;32m    551\u001b[0m \u001b[38;5;28;01mfinally\u001b[39;00m:\n\u001b[1;32m    552\u001b[0m     \u001b[38;5;28;01mif\u001b[39;00m timeout_handle \u001b[38;5;129;01mis\u001b[39;00m \u001b[38;5;129;01mnot\u001b[39;00m \u001b[38;5;28;01mNone\u001b[39;00m:\n",
            "\u001b[0;31mCancelledError\u001b[0m: "
          ]
        }
      ],
      "source": [
        "async for progress in workflow.progress().notebook():\n",
        "    pass"
      ]
    },
    {
      "cell_type": "markdown",
      "metadata": {
        "id": "iencLp9fcXLE"
      },
      "source": [
        "### Generate Synthetic Data And Split Dependent Fields\n"
      ]
    },
    {
      "cell_type": "code",
      "execution_count": null,
      "metadata": {
        "colab": {
          "base_uri": "https://localhost:8080/"
        },
        "id": "glMocaqybuWp",
        "outputId": "e5ecacff-7e99-40a1-a2b9-8fe0f0c57d78"
      },
      "outputs": [
        {
          "data": {
            "text/plain": [
              "Model('b682a9ff-3970-11ef-ad55-fe3a1ae943e1')"
            ]
          },
          "execution_count": 11,
          "metadata": {},
          "output_type": "execute_result"
        }
      ],
      "source": [
        "model = await workflow.models().last()\n",
        "model"
      ]
    },
    {
      "cell_type": "code",
      "execution_count": null,
      "metadata": {
        "id": "meRijyelIhd7"
      },
      "outputs": [],
      "source": [
        "config.doppelganger.sessions = 500\n",
        "generate = ra.GenerateTimeGAN(config)\n",
        "split_field = ra.SplitField(field=\"merchant;category\")\n",
        "save = ra.DatasetSave({\"name\": \"synthetic\"})"
      ]
    },
    {
      "cell_type": "code",
      "execution_count": null,
      "metadata": {
        "colab": {
          "base_uri": "https://localhost:8080/"
        },
        "id": "W1Tb4CXvbs2Z",
        "outputId": "e4448df5-53b0-41f6-ec22-b9856cc10d8d"
      },
      "outputs": [
        {
          "name": "stdout",
          "output_type": "stream",
          "text": [
            "Workflow: 7HFFGptQ33tIXyO5ZBZWiI\n"
          ]
        }
      ],
      "source": [
        "builder = rf.WorkflowBuilder()\n",
        "builder.add_path(model, generate, split_field, save)\n",
        "workflow = await builder.start(conn)\n",
        "print(f\"Workflow: {workflow.id()}\")"
      ]
    },
    {
      "cell_type": "code",
      "execution_count": null,
      "metadata": {
        "colab": {
          "base_uri": "https://localhost:8080/"
        },
        "id": "tIoPUPdrb7IH",
        "outputId": "946e01e1-cf46-4648-d92d-4edc0d511d25"
      },
      "outputs": [
        {
          "name": "stdout",
          "output_type": "stream",
          "text": [
            "2024-07-03T19:16:20Z generate-time-gan: INFO Downloading model with model_id='b682a9ff-3970-11ef-ad55-fe3a1ae943e1'...\n",
            "2024-07-03T19:16:25Z generate-time-gan: INFO Generating 500 sessions...\n",
            "2024-07-03T19:16:26Z dataset-save: INFO Saved dataset '1k7klM7r6sdaAaQaB6zr9m' with 4417 rows\n"
          ]
        }
      ],
      "source": [
        "async for log in workflow.logs():\n",
        "    print(log)"
      ]
    },
    {
      "cell_type": "code",
      "execution_count": null,
      "metadata": {
        "colab": {
          "base_uri": "https://localhost:8080/",
          "height": 424
        },
        "id": "07prAeuTI7Sl",
        "outputId": "c1f3c73f-f483-48c2-c86a-f8ae6e1c7541"
      },
      "outputs": [
        {
          "data": {
            "application/vnd.google.colaboratory.intrinsic+json": {
              "summary": "{\n  \"name\": \"syn\",\n  \"rows\": 4417,\n  \"fields\": [\n    {\n      \"column\": \"timestamp\",\n      \"properties\": {\n        \"dtype\": \"date\",\n        \"min\": \"2023-01-03 07:32:04.621000\",\n        \"max\": \"2025-01-01 18:16:11.686000\",\n        \"num_unique_values\": 4417,\n        \"samples\": [\n          \"2023-03-08 00:33:13.326000\",\n          \"2024-01-18 11:04:41.377000\",\n          \"2023-04-06 19:05:44.591000\"\n        ],\n        \"semantic_type\": \"\",\n        \"description\": \"\"\n      }\n    },\n    {\n      \"column\": \"amount\",\n      \"properties\": {\n        \"dtype\": \"number\",\n        \"std\": 2566.847068256801,\n        \"min\": 270.12423395070147,\n        \"max\": 8976.008723492949,\n        \"num_unique_values\": 4417,\n        \"samples\": [\n          800.2152602544118,\n          7502.244456499354,\n          1025.0755685874867\n        ],\n        \"semantic_type\": \"\",\n        \"description\": \"\"\n      }\n    },\n    {\n      \"column\": \"age\",\n      \"properties\": {\n        \"dtype\": \"category\",\n        \"num_unique_values\": 6,\n        \"samples\": [\n          \"5\",\n          \"4\",\n          \"6\"\n        ],\n        \"semantic_type\": \"\",\n        \"description\": \"\"\n      }\n    },\n    {\n      \"column\": \"fraud\",\n      \"properties\": {\n        \"dtype\": \"number\",\n        \"std\": 0,\n        \"min\": 0,\n        \"max\": 1,\n        \"num_unique_values\": 2,\n        \"samples\": [\n          0,\n          1\n        ],\n        \"semantic_type\": \"\",\n        \"description\": \"\"\n      }\n    },\n    {\n      \"column\": \"session_key\",\n      \"properties\": {\n        \"dtype\": \"number\",\n        \"std\": 146.6769285764006,\n        \"min\": 0.0,\n        \"max\": 499.0,\n        \"num_unique_values\": 500,\n        \"samples\": [\n          361.0,\n          73.0\n        ],\n        \"semantic_type\": \"\",\n        \"description\": \"\"\n      }\n    },\n    {\n      \"column\": \"merchant\",\n      \"properties\": {\n        \"dtype\": \"category\",\n        \"num_unique_values\": 49,\n        \"samples\": [\n          \"M17379832\",\n          \"M209847108\"\n        ],\n        \"semantic_type\": \"\",\n        \"description\": \"\"\n      }\n    },\n    {\n      \"column\": \"category\",\n      \"properties\": {\n        \"dtype\": \"category\",\n        \"num_unique_values\": 15,\n        \"samples\": [\n          \"hyper\",\n          \"leisure\"\n        ],\n        \"semantic_type\": \"\",\n        \"description\": \"\"\n      }\n    }\n  ]\n}",
              "type": "dataframe"
            },
            "text/html": [
              "\n",
              "  <div id=\"df-161acea6-9179-4e6a-a239-d996823a903d\" class=\"colab-df-container\">\n",
              "    <div>\n",
              "<style scoped>\n",
              "    .dataframe tbody tr th:only-of-type {\n",
              "        vertical-align: middle;\n",
              "    }\n",
              "\n",
              "    .dataframe tbody tr th {\n",
              "        vertical-align: top;\n",
              "    }\n",
              "\n",
              "    .dataframe thead th {\n",
              "        text-align: right;\n",
              "    }\n",
              "</style>\n",
              "<table border=\"1\" class=\"dataframe\">\n",
              "  <thead>\n",
              "    <tr style=\"text-align: right;\">\n",
              "      <th></th>\n",
              "      <th>timestamp</th>\n",
              "      <th>amount</th>\n",
              "      <th>age</th>\n",
              "      <th>fraud</th>\n",
              "      <th>session_key</th>\n",
              "      <th>merchant</th>\n",
              "      <th>category</th>\n",
              "    </tr>\n",
              "  </thead>\n",
              "  <tbody>\n",
              "    <tr>\n",
              "      <th>0</th>\n",
              "      <td>2023-01-04 20:30:31.498</td>\n",
              "      <td>882.658654</td>\n",
              "      <td>5</td>\n",
              "      <td>1</td>\n",
              "      <td>0.0</td>\n",
              "      <td>M349281107</td>\n",
              "      <td>fashion</td>\n",
              "    </tr>\n",
              "    <tr>\n",
              "      <th>1</th>\n",
              "      <td>2023-01-07 15:41:35.952</td>\n",
              "      <td>497.092635</td>\n",
              "      <td>4</td>\n",
              "      <td>0</td>\n",
              "      <td>1.0</td>\n",
              "      <td>M692898500</td>\n",
              "      <td>health</td>\n",
              "    </tr>\n",
              "    <tr>\n",
              "      <th>2</th>\n",
              "      <td>2023-01-10 08:43:39.314</td>\n",
              "      <td>327.908537</td>\n",
              "      <td>4</td>\n",
              "      <td>0</td>\n",
              "      <td>1.0</td>\n",
              "      <td>M677738360</td>\n",
              "      <td>contents</td>\n",
              "    </tr>\n",
              "    <tr>\n",
              "      <th>3</th>\n",
              "      <td>2023-01-13 08:51:01.340</td>\n",
              "      <td>471.801285</td>\n",
              "      <td>4</td>\n",
              "      <td>0</td>\n",
              "      <td>1.0</td>\n",
              "      <td>M2122776122</td>\n",
              "      <td>home</td>\n",
              "    </tr>\n",
              "    <tr>\n",
              "      <th>4</th>\n",
              "      <td>2023-01-16 03:29:16.891</td>\n",
              "      <td>331.751762</td>\n",
              "      <td>4</td>\n",
              "      <td>0</td>\n",
              "      <td>1.0</td>\n",
              "      <td>M677738360</td>\n",
              "      <td>contents</td>\n",
              "    </tr>\n",
              "    <tr>\n",
              "      <th>...</th>\n",
              "      <td>...</td>\n",
              "      <td>...</td>\n",
              "      <td>...</td>\n",
              "      <td>...</td>\n",
              "      <td>...</td>\n",
              "      <td>...</td>\n",
              "      <td>...</td>\n",
              "    </tr>\n",
              "    <tr>\n",
              "      <th>4412</th>\n",
              "      <td>2024-09-11 19:50:20.016</td>\n",
              "      <td>2065.117430</td>\n",
              "      <td>2</td>\n",
              "      <td>0</td>\n",
              "      <td>497.0</td>\n",
              "      <td>M1053599405</td>\n",
              "      <td>health</td>\n",
              "    </tr>\n",
              "    <tr>\n",
              "      <th>4413</th>\n",
              "      <td>2024-09-27 21:15:21.388</td>\n",
              "      <td>2634.786640</td>\n",
              "      <td>2</td>\n",
              "      <td>0</td>\n",
              "      <td>497.0</td>\n",
              "      <td>M348934600</td>\n",
              "      <td>transportation</td>\n",
              "    </tr>\n",
              "    <tr>\n",
              "      <th>4414</th>\n",
              "      <td>2024-10-14 21:30:26.068</td>\n",
              "      <td>2114.590609</td>\n",
              "      <td>2</td>\n",
              "      <td>0</td>\n",
              "      <td>497.0</td>\n",
              "      <td>M97925176</td>\n",
              "      <td>wellnessandbeauty</td>\n",
              "    </tr>\n",
              "    <tr>\n",
              "      <th>4415</th>\n",
              "      <td>2023-01-21 23:11:45.710</td>\n",
              "      <td>7246.849439</td>\n",
              "      <td>3</td>\n",
              "      <td>0</td>\n",
              "      <td>498.0</td>\n",
              "      <td>M1198415165</td>\n",
              "      <td>wellnessandbeauty</td>\n",
              "    </tr>\n",
              "    <tr>\n",
              "      <th>4416</th>\n",
              "      <td>2023-01-05 21:10:13.806</td>\n",
              "      <td>847.061056</td>\n",
              "      <td>5</td>\n",
              "      <td>0</td>\n",
              "      <td>499.0</td>\n",
              "      <td>M495352832</td>\n",
              "      <td>travel</td>\n",
              "    </tr>\n",
              "  </tbody>\n",
              "</table>\n",
              "<p>4417 rows × 7 columns</p>\n",
              "</div>\n",
              "    <div class=\"colab-df-buttons\">\n",
              "\n",
              "  <div class=\"colab-df-container\">\n",
              "    <button class=\"colab-df-convert\" onclick=\"convertToInteractive('df-161acea6-9179-4e6a-a239-d996823a903d')\"\n",
              "            title=\"Convert this dataframe to an interactive table.\"\n",
              "            style=\"display:none;\">\n",
              "\n",
              "  <svg xmlns=\"http://www.w3.org/2000/svg\" height=\"24px\" viewBox=\"0 -960 960 960\">\n",
              "    <path d=\"M120-120v-720h720v720H120Zm60-500h600v-160H180v160Zm220 220h160v-160H400v160Zm0 220h160v-160H400v160ZM180-400h160v-160H180v160Zm440 0h160v-160H620v160ZM180-180h160v-160H180v160Zm440 0h160v-160H620v160Z\"/>\n",
              "  </svg>\n",
              "    </button>\n",
              "\n",
              "  <style>\n",
              "    .colab-df-container {\n",
              "      display:flex;\n",
              "      gap: 12px;\n",
              "    }\n",
              "\n",
              "    .colab-df-convert {\n",
              "      background-color: #E8F0FE;\n",
              "      border: none;\n",
              "      border-radius: 50%;\n",
              "      cursor: pointer;\n",
              "      display: none;\n",
              "      fill: #1967D2;\n",
              "      height: 32px;\n",
              "      padding: 0 0 0 0;\n",
              "      width: 32px;\n",
              "    }\n",
              "\n",
              "    .colab-df-convert:hover {\n",
              "      background-color: #E2EBFA;\n",
              "      box-shadow: 0px 1px 2px rgba(60, 64, 67, 0.3), 0px 1px 3px 1px rgba(60, 64, 67, 0.15);\n",
              "      fill: #174EA6;\n",
              "    }\n",
              "\n",
              "    .colab-df-buttons div {\n",
              "      margin-bottom: 4px;\n",
              "    }\n",
              "\n",
              "    [theme=dark] .colab-df-convert {\n",
              "      background-color: #3B4455;\n",
              "      fill: #D2E3FC;\n",
              "    }\n",
              "\n",
              "    [theme=dark] .colab-df-convert:hover {\n",
              "      background-color: #434B5C;\n",
              "      box-shadow: 0px 1px 3px 1px rgba(0, 0, 0, 0.15);\n",
              "      filter: drop-shadow(0px 1px 2px rgba(0, 0, 0, 0.3));\n",
              "      fill: #FFFFFF;\n",
              "    }\n",
              "  </style>\n",
              "\n",
              "    <script>\n",
              "      const buttonEl =\n",
              "        document.querySelector('#df-161acea6-9179-4e6a-a239-d996823a903d button.colab-df-convert');\n",
              "      buttonEl.style.display =\n",
              "        google.colab.kernel.accessAllowed ? 'block' : 'none';\n",
              "\n",
              "      async function convertToInteractive(key) {\n",
              "        const element = document.querySelector('#df-161acea6-9179-4e6a-a239-d996823a903d');\n",
              "        const dataTable =\n",
              "          await google.colab.kernel.invokeFunction('convertToInteractive',\n",
              "                                                    [key], {});\n",
              "        if (!dataTable) return;\n",
              "\n",
              "        const docLinkHtml = 'Like what you see? Visit the ' +\n",
              "          '<a target=\"_blank\" href=https://colab.research.google.com/notebooks/data_table.ipynb>data table notebook</a>'\n",
              "          + ' to learn more about interactive tables.';\n",
              "        element.innerHTML = '';\n",
              "        dataTable['output_type'] = 'display_data';\n",
              "        await google.colab.output.renderOutput(dataTable, element);\n",
              "        const docLink = document.createElement('div');\n",
              "        docLink.innerHTML = docLinkHtml;\n",
              "        element.appendChild(docLink);\n",
              "      }\n",
              "    </script>\n",
              "  </div>\n",
              "\n",
              "\n",
              "<div id=\"df-b86113a1-ba45-4b77-af3b-6eb79eaf78bd\">\n",
              "  <button class=\"colab-df-quickchart\" onclick=\"quickchart('df-b86113a1-ba45-4b77-af3b-6eb79eaf78bd')\"\n",
              "            title=\"Suggest charts\"\n",
              "            style=\"display:none;\">\n",
              "\n",
              "<svg xmlns=\"http://www.w3.org/2000/svg\" height=\"24px\"viewBox=\"0 0 24 24\"\n",
              "     width=\"24px\">\n",
              "    <g>\n",
              "        <path d=\"M19 3H5c-1.1 0-2 .9-2 2v14c0 1.1.9 2 2 2h14c1.1 0 2-.9 2-2V5c0-1.1-.9-2-2-2zM9 17H7v-7h2v7zm4 0h-2V7h2v10zm4 0h-2v-4h2v4z\"/>\n",
              "    </g>\n",
              "</svg>\n",
              "  </button>\n",
              "\n",
              "<style>\n",
              "  .colab-df-quickchart {\n",
              "      --bg-color: #E8F0FE;\n",
              "      --fill-color: #1967D2;\n",
              "      --hover-bg-color: #E2EBFA;\n",
              "      --hover-fill-color: #174EA6;\n",
              "      --disabled-fill-color: #AAA;\n",
              "      --disabled-bg-color: #DDD;\n",
              "  }\n",
              "\n",
              "  [theme=dark] .colab-df-quickchart {\n",
              "      --bg-color: #3B4455;\n",
              "      --fill-color: #D2E3FC;\n",
              "      --hover-bg-color: #434B5C;\n",
              "      --hover-fill-color: #FFFFFF;\n",
              "      --disabled-bg-color: #3B4455;\n",
              "      --disabled-fill-color: #666;\n",
              "  }\n",
              "\n",
              "  .colab-df-quickchart {\n",
              "    background-color: var(--bg-color);\n",
              "    border: none;\n",
              "    border-radius: 50%;\n",
              "    cursor: pointer;\n",
              "    display: none;\n",
              "    fill: var(--fill-color);\n",
              "    height: 32px;\n",
              "    padding: 0;\n",
              "    width: 32px;\n",
              "  }\n",
              "\n",
              "  .colab-df-quickchart:hover {\n",
              "    background-color: var(--hover-bg-color);\n",
              "    box-shadow: 0 1px 2px rgba(60, 64, 67, 0.3), 0 1px 3px 1px rgba(60, 64, 67, 0.15);\n",
              "    fill: var(--button-hover-fill-color);\n",
              "  }\n",
              "\n",
              "  .colab-df-quickchart-complete:disabled,\n",
              "  .colab-df-quickchart-complete:disabled:hover {\n",
              "    background-color: var(--disabled-bg-color);\n",
              "    fill: var(--disabled-fill-color);\n",
              "    box-shadow: none;\n",
              "  }\n",
              "\n",
              "  .colab-df-spinner {\n",
              "    border: 2px solid var(--fill-color);\n",
              "    border-color: transparent;\n",
              "    border-bottom-color: var(--fill-color);\n",
              "    animation:\n",
              "      spin 1s steps(1) infinite;\n",
              "  }\n",
              "\n",
              "  @keyframes spin {\n",
              "    0% {\n",
              "      border-color: transparent;\n",
              "      border-bottom-color: var(--fill-color);\n",
              "      border-left-color: var(--fill-color);\n",
              "    }\n",
              "    20% {\n",
              "      border-color: transparent;\n",
              "      border-left-color: var(--fill-color);\n",
              "      border-top-color: var(--fill-color);\n",
              "    }\n",
              "    30% {\n",
              "      border-color: transparent;\n",
              "      border-left-color: var(--fill-color);\n",
              "      border-top-color: var(--fill-color);\n",
              "      border-right-color: var(--fill-color);\n",
              "    }\n",
              "    40% {\n",
              "      border-color: transparent;\n",
              "      border-right-color: var(--fill-color);\n",
              "      border-top-color: var(--fill-color);\n",
              "    }\n",
              "    60% {\n",
              "      border-color: transparent;\n",
              "      border-right-color: var(--fill-color);\n",
              "    }\n",
              "    80% {\n",
              "      border-color: transparent;\n",
              "      border-right-color: var(--fill-color);\n",
              "      border-bottom-color: var(--fill-color);\n",
              "    }\n",
              "    90% {\n",
              "      border-color: transparent;\n",
              "      border-bottom-color: var(--fill-color);\n",
              "    }\n",
              "  }\n",
              "</style>\n",
              "\n",
              "  <script>\n",
              "    async function quickchart(key) {\n",
              "      const quickchartButtonEl =\n",
              "        document.querySelector('#' + key + ' button');\n",
              "      quickchartButtonEl.disabled = true;  // To prevent multiple clicks.\n",
              "      quickchartButtonEl.classList.add('colab-df-spinner');\n",
              "      try {\n",
              "        const charts = await google.colab.kernel.invokeFunction(\n",
              "            'suggestCharts', [key], {});\n",
              "      } catch (error) {\n",
              "        console.error('Error during call to suggestCharts:', error);\n",
              "      }\n",
              "      quickchartButtonEl.classList.remove('colab-df-spinner');\n",
              "      quickchartButtonEl.classList.add('colab-df-quickchart-complete');\n",
              "    }\n",
              "    (() => {\n",
              "      let quickchartButtonEl =\n",
              "        document.querySelector('#df-b86113a1-ba45-4b77-af3b-6eb79eaf78bd button');\n",
              "      quickchartButtonEl.style.display =\n",
              "        google.colab.kernel.accessAllowed ? 'block' : 'none';\n",
              "    })();\n",
              "  </script>\n",
              "</div>\n",
              "\n",
              "    </div>\n",
              "  </div>\n"
            ],
            "text/plain": [
              "                   timestamp       amount age  fraud  session_key  \\\n",
              "0    2023-01-04 20:30:31.498   882.658654   5      1          0.0   \n",
              "1    2023-01-07 15:41:35.952   497.092635   4      0          1.0   \n",
              "2    2023-01-10 08:43:39.314   327.908537   4      0          1.0   \n",
              "3    2023-01-13 08:51:01.340   471.801285   4      0          1.0   \n",
              "4    2023-01-16 03:29:16.891   331.751762   4      0          1.0   \n",
              "...                      ...          ...  ..    ...          ...   \n",
              "4412 2024-09-11 19:50:20.016  2065.117430   2      0        497.0   \n",
              "4413 2024-09-27 21:15:21.388  2634.786640   2      0        497.0   \n",
              "4414 2024-10-14 21:30:26.068  2114.590609   2      0        497.0   \n",
              "4415 2023-01-21 23:11:45.710  7246.849439   3      0        498.0   \n",
              "4416 2023-01-05 21:10:13.806   847.061056   5      0        499.0   \n",
              "\n",
              "         merchant           category  \n",
              "0      M349281107            fashion  \n",
              "1      M692898500             health  \n",
              "2      M677738360           contents  \n",
              "3     M2122776122               home  \n",
              "4      M677738360           contents  \n",
              "...           ...                ...  \n",
              "4412  M1053599405             health  \n",
              "4413   M348934600     transportation  \n",
              "4414    M97925176  wellnessandbeauty  \n",
              "4415  M1198415165  wellnessandbeauty  \n",
              "4416   M495352832             travel  \n",
              "\n",
              "[4417 rows x 7 columns]"
            ]
          },
          "execution_count": 15,
          "metadata": {},
          "output_type": "execute_result"
        }
      ],
      "source": [
        "syn = None\n",
        "async for sds in workflow.datasets():\n",
        "    syn = await sds.to_local(conn)\n",
        "syn.to_pandas()"
      ]
    },
    {
      "cell_type": "markdown",
      "metadata": {
        "id": "JKWH6zSPB2p4"
      },
      "source": [
        "### Evaluate Synthetic Dataset\n"
      ]
    },
    {
      "cell_type": "markdown",
      "metadata": {
        "id": "bFyhA6NxBzEm"
      },
      "source": [
        "Check if synthetic dataset has valid merchant-category pairs:\n"
      ]
    },
    {
      "cell_type": "code",
      "execution_count": null,
      "metadata": {
        "id": "xX2lqs4PB7aw"
      },
      "outputs": [],
      "source": [
        "syn_df = syn.to_pandas()"
      ]
    },
    {
      "cell_type": "code",
      "execution_count": null,
      "metadata": {
        "id": "W2i64Hz-CA13"
      },
      "outputs": [],
      "source": [
        "for mer, cat in zip(syn_df[\"merchant\"], syn_df[\"category\"]):\n",
        "    assert cat in merchant_to_category.get(mer)"
      ]
    }
  ],
  "metadata": {
    "accelerator": "GPU",
    "colab": {
      "gpuType": "T4",
      "provenance": []
    },
    "kernelspec": {
      "display_name": "Python 3",
      "name": "python3"
    },
    "language_info": {
      "codemirror_mode": {
        "name": "ipython",
        "version": 3
      },
      "file_extension": ".py",
      "mimetype": "text/x-python",
      "name": "python",
      "nbconvert_exporter": "python",
      "pygments_lexer": "ipython3",
      "version": "3.12.4"
    },
    "widgets": {
      "application/vnd.jupyter.widget-state+json": {
        "0af1476b5d7d45f19a3abb218a1471a9": {
          "model_module": "@jupyter-widgets/controls",
          "model_module_version": "1.5.0",
          "model_name": "ProgressStyleModel",
          "state": {
            "_model_module": "@jupyter-widgets/controls",
            "_model_module_version": "1.5.0",
            "_model_name": "ProgressStyleModel",
            "_view_count": null,
            "_view_module": "@jupyter-widgets/base",
            "_view_module_version": "1.2.0",
            "_view_name": "StyleView",
            "bar_color": null,
            "description_width": ""
          }
        },
        "2c2c1499057a486292c376f87fb40c33": {
          "model_module": "@jupyter-widgets/controls",
          "model_module_version": "1.5.0",
          "model_name": "DescriptionStyleModel",
          "state": {
            "_model_module": "@jupyter-widgets/controls",
            "_model_module_version": "1.5.0",
            "_model_name": "DescriptionStyleModel",
            "_view_count": null,
            "_view_module": "@jupyter-widgets/base",
            "_view_module_version": "1.2.0",
            "_view_name": "StyleView",
            "description_width": ""
          }
        },
        "3277ea36259c4cc09a3a6f0a230421d7": {
          "model_module": "@jupyter-widgets/base",
          "model_module_version": "1.2.0",
          "model_name": "LayoutModel",
          "state": {
            "_model_module": "@jupyter-widgets/base",
            "_model_module_version": "1.2.0",
            "_model_name": "LayoutModel",
            "_view_count": null,
            "_view_module": "@jupyter-widgets/base",
            "_view_module_version": "1.2.0",
            "_view_name": "LayoutView",
            "align_content": null,
            "align_items": null,
            "align_self": null,
            "border": null,
            "bottom": null,
            "display": null,
            "flex": null,
            "flex_flow": null,
            "grid_area": null,
            "grid_auto_columns": null,
            "grid_auto_flow": null,
            "grid_auto_rows": null,
            "grid_column": null,
            "grid_gap": null,
            "grid_row": null,
            "grid_template_areas": null,
            "grid_template_columns": null,
            "grid_template_rows": null,
            "height": null,
            "justify_content": null,
            "justify_items": null,
            "left": null,
            "margin": null,
            "max_height": null,
            "max_width": null,
            "min_height": null,
            "min_width": null,
            "object_fit": null,
            "object_position": null,
            "order": null,
            "overflow": null,
            "overflow_x": null,
            "overflow_y": null,
            "padding": null,
            "right": null,
            "top": null,
            "visibility": null,
            "width": null
          }
        },
        "37b7451529e54a8bb07a3834659410cf": {
          "model_module": "@jupyter-widgets/base",
          "model_module_version": "1.2.0",
          "model_name": "LayoutModel",
          "state": {
            "_model_module": "@jupyter-widgets/base",
            "_model_module_version": "1.2.0",
            "_model_name": "LayoutModel",
            "_view_count": null,
            "_view_module": "@jupyter-widgets/base",
            "_view_module_version": "1.2.0",
            "_view_name": "LayoutView",
            "align_content": null,
            "align_items": null,
            "align_self": null,
            "border": null,
            "bottom": null,
            "display": null,
            "flex": null,
            "flex_flow": null,
            "grid_area": null,
            "grid_auto_columns": null,
            "grid_auto_flow": null,
            "grid_auto_rows": null,
            "grid_column": null,
            "grid_gap": null,
            "grid_row": null,
            "grid_template_areas": null,
            "grid_template_columns": null,
            "grid_template_rows": null,
            "height": null,
            "justify_content": null,
            "justify_items": null,
            "left": null,
            "margin": null,
            "max_height": null,
            "max_width": null,
            "min_height": null,
            "min_width": null,
            "object_fit": null,
            "object_position": null,
            "order": null,
            "overflow": null,
            "overflow_x": null,
            "overflow_y": null,
            "padding": null,
            "right": null,
            "top": null,
            "visibility": null,
            "width": null
          }
        },
        "5dc27d57eee64d539f9456f55f97156b": {
          "model_module": "@jupyter-widgets/base",
          "model_module_version": "1.2.0",
          "model_name": "LayoutModel",
          "state": {
            "_model_module": "@jupyter-widgets/base",
            "_model_module_version": "1.2.0",
            "_model_name": "LayoutModel",
            "_view_count": null,
            "_view_module": "@jupyter-widgets/base",
            "_view_module_version": "1.2.0",
            "_view_name": "LayoutView",
            "align_content": null,
            "align_items": null,
            "align_self": null,
            "border": null,
            "bottom": null,
            "display": null,
            "flex": null,
            "flex_flow": null,
            "grid_area": null,
            "grid_auto_columns": null,
            "grid_auto_flow": null,
            "grid_auto_rows": null,
            "grid_column": null,
            "grid_gap": null,
            "grid_row": null,
            "grid_template_areas": null,
            "grid_template_columns": null,
            "grid_template_rows": null,
            "height": null,
            "justify_content": null,
            "justify_items": null,
            "left": null,
            "margin": null,
            "max_height": null,
            "max_width": null,
            "min_height": null,
            "min_width": null,
            "object_fit": null,
            "object_position": null,
            "order": null,
            "overflow": null,
            "overflow_x": null,
            "overflow_y": null,
            "padding": null,
            "right": null,
            "top": null,
            "visibility": null,
            "width": null
          }
        },
        "6a032143a7bc40a99dd0d30e4cf98426": {
          "model_module": "@jupyter-widgets/controls",
          "model_module_version": "1.5.0",
          "model_name": "HTMLModel",
          "state": {
            "_dom_classes": [],
            "_model_module": "@jupyter-widgets/controls",
            "_model_module_version": "1.5.0",
            "_model_name": "HTMLModel",
            "_view_count": null,
            "_view_module": "@jupyter-widgets/controls",
            "_view_module_version": "1.5.0",
            "_view_name": "HTMLView",
            "description": "",
            "description_tooltip": null,
            "layout": "IPY_MODEL_3277ea36259c4cc09a3a6f0a230421d7",
            "placeholder": "​",
            "style": "IPY_MODEL_7d2a1afc62cd46ea9d0d4251005b41b0",
            "value": "100%"
          }
        },
        "7290c770152347ac83bb58c117c5b8ec": {
          "model_module": "@jupyter-widgets/controls",
          "model_module_version": "1.5.0",
          "model_name": "FloatProgressModel",
          "state": {
            "_dom_classes": [],
            "_model_module": "@jupyter-widgets/controls",
            "_model_module_version": "1.5.0",
            "_model_name": "FloatProgressModel",
            "_view_count": null,
            "_view_module": "@jupyter-widgets/controls",
            "_view_module_version": "1.5.0",
            "_view_name": "ProgressView",
            "bar_style": "success",
            "description": "",
            "description_tooltip": null,
            "layout": "IPY_MODEL_f555b6785ab24dfebe86d1cd81879ab8",
            "max": 20,
            "min": 0,
            "orientation": "horizontal",
            "style": "IPY_MODEL_0af1476b5d7d45f19a3abb218a1471a9",
            "value": 20
          }
        },
        "7d2a1afc62cd46ea9d0d4251005b41b0": {
          "model_module": "@jupyter-widgets/controls",
          "model_module_version": "1.5.0",
          "model_name": "DescriptionStyleModel",
          "state": {
            "_model_module": "@jupyter-widgets/controls",
            "_model_module_version": "1.5.0",
            "_model_name": "DescriptionStyleModel",
            "_view_count": null,
            "_view_module": "@jupyter-widgets/base",
            "_view_module_version": "1.2.0",
            "_view_name": "StyleView",
            "description_width": ""
          }
        },
        "bd95f09eea9e4d689a743ed781ab9592": {
          "model_module": "@jupyter-widgets/controls",
          "model_module_version": "1.5.0",
          "model_name": "HTMLModel",
          "state": {
            "_dom_classes": [],
            "_model_module": "@jupyter-widgets/controls",
            "_model_module_version": "1.5.0",
            "_model_name": "HTMLModel",
            "_view_count": null,
            "_view_module": "@jupyter-widgets/controls",
            "_view_module_version": "1.5.0",
            "_view_name": "HTMLView",
            "description": "",
            "description_tooltip": null,
            "layout": "IPY_MODEL_37b7451529e54a8bb07a3834659410cf",
            "placeholder": "​",
            "style": "IPY_MODEL_2c2c1499057a486292c376f87fb40c33",
            "value": " 20/20 [00:24&lt;00:00,  1.25it/s]"
          }
        },
        "d3fc97c14ec547cc89c8c3667cd498c3": {
          "model_module": "@jupyter-widgets/controls",
          "model_module_version": "1.5.0",
          "model_name": "HBoxModel",
          "state": {
            "_dom_classes": [],
            "_model_module": "@jupyter-widgets/controls",
            "_model_module_version": "1.5.0",
            "_model_name": "HBoxModel",
            "_view_count": null,
            "_view_module": "@jupyter-widgets/controls",
            "_view_module_version": "1.5.0",
            "_view_name": "HBoxView",
            "box_style": "",
            "children": [
              "IPY_MODEL_6a032143a7bc40a99dd0d30e4cf98426",
              "IPY_MODEL_7290c770152347ac83bb58c117c5b8ec",
              "IPY_MODEL_bd95f09eea9e4d689a743ed781ab9592"
            ],
            "layout": "IPY_MODEL_5dc27d57eee64d539f9456f55f97156b"
          }
        },
        "f555b6785ab24dfebe86d1cd81879ab8": {
          "model_module": "@jupyter-widgets/base",
          "model_module_version": "1.2.0",
          "model_name": "LayoutModel",
          "state": {
            "_model_module": "@jupyter-widgets/base",
            "_model_module_version": "1.2.0",
            "_model_name": "LayoutModel",
            "_view_count": null,
            "_view_module": "@jupyter-widgets/base",
            "_view_module_version": "1.2.0",
            "_view_name": "LayoutView",
            "align_content": null,
            "align_items": null,
            "align_self": null,
            "border": null,
            "bottom": null,
            "display": null,
            "flex": null,
            "flex_flow": null,
            "grid_area": null,
            "grid_auto_columns": null,
            "grid_auto_flow": null,
            "grid_auto_rows": null,
            "grid_column": null,
            "grid_gap": null,
            "grid_row": null,
            "grid_template_areas": null,
            "grid_template_columns": null,
            "grid_template_rows": null,
            "height": null,
            "justify_content": null,
            "justify_items": null,
            "left": null,
            "margin": null,
            "max_height": null,
            "max_width": null,
            "min_height": null,
            "min_width": null,
            "object_fit": null,
            "object_position": null,
            "order": null,
            "overflow": null,
            "overflow_x": null,
            "overflow_y": null,
            "padding": null,
            "right": null,
            "top": null,
            "visibility": null,
            "width": null
          }
        }
      }
    }
  },
  "nbformat": 4,
  "nbformat_minor": 0
}
