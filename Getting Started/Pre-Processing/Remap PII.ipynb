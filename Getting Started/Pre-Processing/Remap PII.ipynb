{
 "cells": [
  {
   "cell_type": "markdown",
   "metadata": {
    "id": "MRNVCRrvcixF"
   },
   "source": [
    "# Remap PII Tutorial\n"
   ]
  },
  {
   "cell_type": "markdown",
   "metadata": {
    "id": "wZFzCJSDHGEO"
   },
   "source": [
    "This tutorial demonstrates how sensitive data can be anonymized in Rockfish. We show two examples here for anonymizing datasets with multiple kinds of Personally Identifiable Information (PII).\n"
   ]
  },
  {
   "cell_type": "code",
   "execution_count": 1,
   "metadata": {
    "ExecuteTime": {
     "end_time": "2024-12-12T22:31:29.683248Z",
     "start_time": "2024-12-12T22:31:26.293043Z"
    },
    "id": "ivaAZJJyrfAW"
   },
   "outputs": [],
   "source": [
    "%%capture\n",
    "%pip install -U 'rockfish[labs]' -f 'https://packages.rockfish.ai'"
   ]
  },
  {
   "cell_type": "code",
   "execution_count": 2,
   "metadata": {
    "ExecuteTime": {
     "end_time": "2024-12-12T22:31:30.168933Z",
     "start_time": "2024-12-12T22:31:29.685882Z"
    },
    "id": "uNfoyOhlrs-T"
   },
   "outputs": [],
   "source": [
    "import rockfish as rf\n",
    "import rockfish.actions as ra"
   ]
  },
  {
   "cell_type": "code",
   "execution_count": 3,
   "metadata": {
    "ExecuteTime": {
     "end_time": "2024-12-12T22:31:30.221294Z",
     "start_time": "2024-12-12T22:31:30.220001Z"
    },
    "id": "Qw0y32WWXtCY"
   },
   "outputs": [],
   "source": [
    "# connect locally\n",
    "conn = rf.Connection.local()"
   ]
  },
  {
   "cell_type": "markdown",
   "metadata": {
    "id": "_hdWeKdWEzO2"
   },
   "source": [
    "# Example 1\n"
   ]
  },
  {
   "cell_type": "markdown",
   "metadata": {
    "id": "ndrqE0pjcuEk"
   },
   "source": [
    "Download sample dataset with PII:\n"
   ]
  },
  {
   "cell_type": "markdown",
   "metadata": {
    "id": "FYd_xlTpcyuG"
   },
   "source": [
    "Convert into a Rockfish dataset:\n"
   ]
  },
  {
   "cell_type": "code",
   "execution_count": 4,
   "metadata": {
    "ExecuteTime": {
     "end_time": "2024-12-12T22:31:30.465056Z",
     "start_time": "2024-12-12T22:31:30.224328Z"
    },
    "colab": {
     "base_uri": "https://localhost:8080/"
    },
    "id": "xUWR9j8cr5cT",
    "outputId": "8cab0ca3-ecdf-4f29-9add-c9dc442e4457"
   },
   "outputs": [
    {
     "name": "stdout",
     "output_type": "stream",
     "text": [
      "  % Total    % Received % Xferd  Average Speed   Time    Time     Time  Current\r\n",
      "                                 Dload  Upload   Total   Spent    Left  Speed\r\n",
      "100  4748  100  4748    0     0  41635      0 --:--:-- --:--:-- --:--:-- 42017\r\n"
     ]
    }
   ],
   "source": [
    "!wget --no-clobber https://raw.githubusercontent.com/tokern/piicatcher/master/tests/samples/sample-data.csv"
   ]
  },
  {
   "cell_type": "code",
   "execution_count": 5,
   "metadata": {
    "ExecuteTime": {
     "end_time": "2024-12-12T22:31:30.476954Z",
     "start_time": "2024-12-12T22:31:30.473761Z"
    },
    "id": "SGVVbWe5r-FU"
   },
   "outputs": [],
   "source": [
    "dataset = rf.Dataset.from_csv(\"sample-data\", \"sample-data.csv\")"
   ]
  },
  {
   "cell_type": "markdown",
   "metadata": {
    "id": "LPZF58e_eCcM"
   },
   "source": [
    "We can see that this dataset has PII: SSNs, birthdates, email addresses, etc.\n"
   ]
  },
  {
   "cell_type": "code",
   "execution_count": 6,
   "metadata": {
    "ExecuteTime": {
     "end_time": "2024-12-12T22:31:30.499901Z",
     "start_time": "2024-12-12T22:31:30.489094Z"
    },
    "colab": {
     "base_uri": "https://localhost:8080/",
     "height": 990
    },
    "id": "rtL3KX7ud9sj",
    "outputId": "af053345-bd39-440c-d79d-ed9edf928080"
   },
   "outputs": [
    {
     "data": {
      "text/html": [
       "<div>\n",
       "<style scoped>\n",
       "    .dataframe tbody tr th:only-of-type {\n",
       "        vertical-align: middle;\n",
       "    }\n",
       "\n",
       "    .dataframe tbody tr th {\n",
       "        vertical-align: top;\n",
       "    }\n",
       "\n",
       "    .dataframe thead th {\n",
       "        text-align: right;\n",
       "    }\n",
       "</style>\n",
       "<table border=\"1\" class=\"dataframe\">\n",
       "  <thead>\n",
       "    <tr style=\"text-align: right;\">\n",
       "      <th></th>\n",
       "      <th>id</th>\n",
       "      <th>gender</th>\n",
       "      <th>birthdate</th>\n",
       "      <th>maiden_name</th>\n",
       "      <th>lname</th>\n",
       "      <th>fname</th>\n",
       "      <th>address</th>\n",
       "      <th>city</th>\n",
       "      <th>state</th>\n",
       "      <th>zip</th>\n",
       "      <th>phone</th>\n",
       "      <th>email</th>\n",
       "      <th>cc_type</th>\n",
       "      <th>cc_number</th>\n",
       "      <th>cc_cvc</th>\n",
       "      <th>cc_expiredate</th>\n",
       "    </tr>\n",
       "  </thead>\n",
       "  <tbody>\n",
       "    <tr>\n",
       "      <th>0</th>\n",
       "      <td>172-32-1176</td>\n",
       "      <td>m</td>\n",
       "      <td>1958/04/21</td>\n",
       "      <td>Smith</td>\n",
       "      <td>White</td>\n",
       "      <td>Johnson</td>\n",
       "      <td>10932 Bigge Rd</td>\n",
       "      <td>Menlo Park</td>\n",
       "      <td>CA</td>\n",
       "      <td>94025</td>\n",
       "      <td>408 496-7223</td>\n",
       "      <td>jwhite@domain.com</td>\n",
       "      <td>m</td>\n",
       "      <td>5270 4267 6450 5516</td>\n",
       "      <td>123</td>\n",
       "      <td>2010/06/25</td>\n",
       "    </tr>\n",
       "    <tr>\n",
       "      <th>1</th>\n",
       "      <td>514-14-8905</td>\n",
       "      <td>f</td>\n",
       "      <td>1944/12/22</td>\n",
       "      <td>Amaker</td>\n",
       "      <td>Borden</td>\n",
       "      <td>Ashley</td>\n",
       "      <td>4469 Sherman Street</td>\n",
       "      <td>Goff</td>\n",
       "      <td>KS</td>\n",
       "      <td>66428</td>\n",
       "      <td>785-939-6046</td>\n",
       "      <td>aborden@domain.com</td>\n",
       "      <td>m</td>\n",
       "      <td>5370 4638 8881 3020</td>\n",
       "      <td>713</td>\n",
       "      <td>2011/02/01</td>\n",
       "    </tr>\n",
       "    <tr>\n",
       "      <th>2</th>\n",
       "      <td>213-46-8915</td>\n",
       "      <td>f</td>\n",
       "      <td>1958/04/21</td>\n",
       "      <td>Pinson</td>\n",
       "      <td>Green</td>\n",
       "      <td>Marjorie</td>\n",
       "      <td>309 63rd St. #411</td>\n",
       "      <td>Oakland</td>\n",
       "      <td>CA</td>\n",
       "      <td>94618</td>\n",
       "      <td>415 986-7020</td>\n",
       "      <td>mgreen@domain.com</td>\n",
       "      <td>v</td>\n",
       "      <td>4916 9766 5240 6147</td>\n",
       "      <td>258</td>\n",
       "      <td>2009/02/25</td>\n",
       "    </tr>\n",
       "    <tr>\n",
       "      <th>3</th>\n",
       "      <td>524-02-7657</td>\n",
       "      <td>m</td>\n",
       "      <td>1962/03/25</td>\n",
       "      <td>Hall</td>\n",
       "      <td>Munsch</td>\n",
       "      <td>Jerome</td>\n",
       "      <td>2183 Roy Alley</td>\n",
       "      <td>Centennial</td>\n",
       "      <td>CO</td>\n",
       "      <td>80112</td>\n",
       "      <td>303-901-6123</td>\n",
       "      <td>jmunsch@domain.com</td>\n",
       "      <td>m</td>\n",
       "      <td>5180 3807 3679 8221</td>\n",
       "      <td>612</td>\n",
       "      <td>2010/03/01</td>\n",
       "    </tr>\n",
       "    <tr>\n",
       "      <th>4</th>\n",
       "      <td>489-36-8350</td>\n",
       "      <td>m</td>\n",
       "      <td>1964/09/06</td>\n",
       "      <td>Porter</td>\n",
       "      <td>Aragon</td>\n",
       "      <td>Robert</td>\n",
       "      <td>3181 White Oak Drive</td>\n",
       "      <td>Kansas City</td>\n",
       "      <td>MO</td>\n",
       "      <td>66215</td>\n",
       "      <td>816-645-6936</td>\n",
       "      <td>raragon@domain.com</td>\n",
       "      <td>v</td>\n",
       "      <td>4929 3813 3266 4295</td>\n",
       "      <td>911</td>\n",
       "      <td>2011/12/01</td>\n",
       "    </tr>\n",
       "    <tr>\n",
       "      <th>5</th>\n",
       "      <td>514-30-2668</td>\n",
       "      <td>f</td>\n",
       "      <td>1986/05/27</td>\n",
       "      <td>Nicholson</td>\n",
       "      <td>Russell</td>\n",
       "      <td>Jacki</td>\n",
       "      <td>3097 Better Street</td>\n",
       "      <td>Kansas City</td>\n",
       "      <td>MO</td>\n",
       "      <td>66215</td>\n",
       "      <td>913-227-6106</td>\n",
       "      <td>jrussell@domain.com</td>\n",
       "      <td>a</td>\n",
       "      <td>345389698201044</td>\n",
       "      <td>232</td>\n",
       "      <td>2010/01/01</td>\n",
       "    </tr>\n",
       "    <tr>\n",
       "      <th>6</th>\n",
       "      <td>505-88-5714</td>\n",
       "      <td>f</td>\n",
       "      <td>1963/09/23</td>\n",
       "      <td>Mcclain</td>\n",
       "      <td>Venson</td>\n",
       "      <td>Lillian</td>\n",
       "      <td>539 Kyle Street</td>\n",
       "      <td>Wood River</td>\n",
       "      <td>NE</td>\n",
       "      <td>68883</td>\n",
       "      <td>308-583-8759</td>\n",
       "      <td>lvenson@domain.com</td>\n",
       "      <td>d</td>\n",
       "      <td>30204861594838</td>\n",
       "      <td>471</td>\n",
       "      <td>2011/12/01</td>\n",
       "    </tr>\n",
       "    <tr>\n",
       "      <th>7</th>\n",
       "      <td>690-05-5315</td>\n",
       "      <td>m</td>\n",
       "      <td>1969/10/02</td>\n",
       "      <td>Kings</td>\n",
       "      <td>Conley</td>\n",
       "      <td>Thomas</td>\n",
       "      <td>570 Nancy Street</td>\n",
       "      <td>Morrisville</td>\n",
       "      <td>NC</td>\n",
       "      <td>27560</td>\n",
       "      <td>919-656-6779</td>\n",
       "      <td>tconley@domain.com</td>\n",
       "      <td>v</td>\n",
       "      <td>4916 4811 5814 8111</td>\n",
       "      <td>731</td>\n",
       "      <td>2010/10/01</td>\n",
       "    </tr>\n",
       "    <tr>\n",
       "      <th>8</th>\n",
       "      <td>646-44-9061</td>\n",
       "      <td>M</td>\n",
       "      <td>1978/01/12</td>\n",
       "      <td>Kurtz</td>\n",
       "      <td>Jackson</td>\n",
       "      <td>Charles</td>\n",
       "      <td>1074 Small Street</td>\n",
       "      <td>New York</td>\n",
       "      <td>NY</td>\n",
       "      <td>10011</td>\n",
       "      <td>212-847-4915</td>\n",
       "      <td>cjackson@domain.com</td>\n",
       "      <td>m</td>\n",
       "      <td>5218 0144 2703 9266</td>\n",
       "      <td>892</td>\n",
       "      <td>2011/11/01</td>\n",
       "    </tr>\n",
       "    <tr>\n",
       "      <th>9</th>\n",
       "      <td>421-37-1396</td>\n",
       "      <td>f</td>\n",
       "      <td>1980/04/09</td>\n",
       "      <td>Linden</td>\n",
       "      <td>Davis</td>\n",
       "      <td>Susan</td>\n",
       "      <td>4222 Bedford Street</td>\n",
       "      <td>Jasper</td>\n",
       "      <td>AL</td>\n",
       "      <td>35501</td>\n",
       "      <td>205-221-9156</td>\n",
       "      <td>sdavis@domain.com</td>\n",
       "      <td>v</td>\n",
       "      <td>4916 4034 9269 8783</td>\n",
       "      <td>33</td>\n",
       "      <td>2011/04/01</td>\n",
       "    </tr>\n",
       "    <tr>\n",
       "      <th>10</th>\n",
       "      <td>461-97-5660</td>\n",
       "      <td>f</td>\n",
       "      <td>1975/01/04</td>\n",
       "      <td>Kingdon</td>\n",
       "      <td>Watson</td>\n",
       "      <td>Gail</td>\n",
       "      <td>3414 Gore Street</td>\n",
       "      <td>Houston</td>\n",
       "      <td>TX</td>\n",
       "      <td>77002</td>\n",
       "      <td>713-547-3414</td>\n",
       "      <td>gwatson@domain.com</td>\n",
       "      <td>v</td>\n",
       "      <td>4532 1753 6071 1112</td>\n",
       "      <td>694</td>\n",
       "      <td>2011/09/01</td>\n",
       "    </tr>\n",
       "    <tr>\n",
       "      <th>11</th>\n",
       "      <td>660-03-8360</td>\n",
       "      <td>f</td>\n",
       "      <td>1953/07/11</td>\n",
       "      <td>Onwunli</td>\n",
       "      <td>Garrison</td>\n",
       "      <td>Lisa</td>\n",
       "      <td>515 Hillside Drive</td>\n",
       "      <td>Lake Charles</td>\n",
       "      <td>LA</td>\n",
       "      <td>70629</td>\n",
       "      <td>337-965-2982</td>\n",
       "      <td>lgarrison@domain.com</td>\n",
       "      <td>v</td>\n",
       "      <td>4539 5385 7425 5825</td>\n",
       "      <td>680</td>\n",
       "      <td>2011/06/01</td>\n",
       "    </tr>\n",
       "    <tr>\n",
       "      <th>12</th>\n",
       "      <td>751-01-2327</td>\n",
       "      <td>f</td>\n",
       "      <td>1968/02/16</td>\n",
       "      <td>Simpson</td>\n",
       "      <td>Renfro</td>\n",
       "      <td>Julie</td>\n",
       "      <td>4032 Arron Smith Drive</td>\n",
       "      <td>Kaunakakai</td>\n",
       "      <td>HI</td>\n",
       "      <td>96748</td>\n",
       "      <td>808-560-1638</td>\n",
       "      <td>jrenfro@domain.com</td>\n",
       "      <td>m</td>\n",
       "      <td>5325 3256 9519 6624</td>\n",
       "      <td>238</td>\n",
       "      <td>2009/03/01</td>\n",
       "    </tr>\n",
       "    <tr>\n",
       "      <th>13</th>\n",
       "      <td>559-81-1301</td>\n",
       "      <td>m</td>\n",
       "      <td>1952/01/20</td>\n",
       "      <td>Mcafee</td>\n",
       "      <td>Heard</td>\n",
       "      <td>James</td>\n",
       "      <td>2865 Driftwood Road</td>\n",
       "      <td>San Jose</td>\n",
       "      <td>CA</td>\n",
       "      <td>95129</td>\n",
       "      <td>408-370-0031</td>\n",
       "      <td>jheard@domain.com</td>\n",
       "      <td>v</td>\n",
       "      <td>4532 4220 6922 9909</td>\n",
       "      <td>311</td>\n",
       "      <td>2010/09/01</td>\n",
       "    </tr>\n",
       "    <tr>\n",
       "      <th>14</th>\n",
       "      <td>624-84-9181</td>\n",
       "      <td>m</td>\n",
       "      <td>1980/01/16</td>\n",
       "      <td>Frazier</td>\n",
       "      <td>Reyes</td>\n",
       "      <td>Danny</td>\n",
       "      <td>3500 Diane Street</td>\n",
       "      <td>San Luis Obispo</td>\n",
       "      <td>CA</td>\n",
       "      <td>93401</td>\n",
       "      <td>805-369-0464</td>\n",
       "      <td>dreyes@domain.com</td>\n",
       "      <td>v</td>\n",
       "      <td>4532 0065 1968 5602</td>\n",
       "      <td>713</td>\n",
       "      <td>2009/11/01</td>\n",
       "    </tr>\n",
       "    <tr>\n",
       "      <th>15</th>\n",
       "      <td>449-48-3135</td>\n",
       "      <td>m</td>\n",
       "      <td>1982/06/14</td>\n",
       "      <td>Feusier</td>\n",
       "      <td>Hall</td>\n",
       "      <td>Mark</td>\n",
       "      <td>4986 Chapel Street</td>\n",
       "      <td>Houston</td>\n",
       "      <td>TX</td>\n",
       "      <td>77077</td>\n",
       "      <td>281-597-5517</td>\n",
       "      <td>mhall@domain.com</td>\n",
       "      <td>v</td>\n",
       "      <td>4556 0072 1294 7415</td>\n",
       "      <td>953</td>\n",
       "      <td>2010/05/01</td>\n",
       "    </tr>\n",
       "    <tr>\n",
       "      <th>16</th>\n",
       "      <td>477-36-0282</td>\n",
       "      <td>m</td>\n",
       "      <td>1961/03/10</td>\n",
       "      <td>Vasquez</td>\n",
       "      <td>Mceachern</td>\n",
       "      <td>Monte</td>\n",
       "      <td>456 Oral Lake Road</td>\n",
       "      <td>Minneapolis</td>\n",
       "      <td>MN</td>\n",
       "      <td>55401</td>\n",
       "      <td>952-412-3707</td>\n",
       "      <td>mmceachern@domain.com</td>\n",
       "      <td>m</td>\n",
       "      <td>5527 1247 5046 7780</td>\n",
       "      <td>889</td>\n",
       "      <td>2009/03/01</td>\n",
       "    </tr>\n",
       "    <tr>\n",
       "      <th>17</th>\n",
       "      <td>458-02-6124</td>\n",
       "      <td>m</td>\n",
       "      <td>1955/09/20</td>\n",
       "      <td>Pennebaker</td>\n",
       "      <td>Diaz</td>\n",
       "      <td>Christopher</td>\n",
       "      <td>582 Thrash Trail</td>\n",
       "      <td>Dallas</td>\n",
       "      <td>TX</td>\n",
       "      <td>75247</td>\n",
       "      <td>903-624-9156</td>\n",
       "      <td>cdiaz@domain.com</td>\n",
       "      <td>m</td>\n",
       "      <td>5299 1561 5689 1938</td>\n",
       "      <td>584</td>\n",
       "      <td>2011/08/01</td>\n",
       "    </tr>\n",
       "    <tr>\n",
       "      <th>18</th>\n",
       "      <td>044-34-6954</td>\n",
       "      <td>m</td>\n",
       "      <td>1967/05/28</td>\n",
       "      <td>Simpson</td>\n",
       "      <td>Lowe</td>\n",
       "      <td>Tim</td>\n",
       "      <td>1620 Maxwell Street</td>\n",
       "      <td>East Hartford</td>\n",
       "      <td>CT</td>\n",
       "      <td>6108</td>\n",
       "      <td>860-755-0293</td>\n",
       "      <td>tlowe@domain.com</td>\n",
       "      <td>m</td>\n",
       "      <td>5144 8691 2776 1108</td>\n",
       "      <td>616</td>\n",
       "      <td>2011/10/01</td>\n",
       "    </tr>\n",
       "    <tr>\n",
       "      <th>19</th>\n",
       "      <td>587-03-2682</td>\n",
       "      <td>f</td>\n",
       "      <td>1958/10/24</td>\n",
       "      <td>Dickerson</td>\n",
       "      <td>Oyola</td>\n",
       "      <td>Lynette</td>\n",
       "      <td>2489 O Conner Street</td>\n",
       "      <td>Pascagoula</td>\n",
       "      <td>MS</td>\n",
       "      <td>39567</td>\n",
       "      <td>228-938-2056</td>\n",
       "      <td>loyola@domain.com</td>\n",
       "      <td>v</td>\n",
       "      <td>4532 9929 3036 9308</td>\n",
       "      <td>991</td>\n",
       "      <td>2011/07/01</td>\n",
       "    </tr>\n",
       "    <tr>\n",
       "      <th>20</th>\n",
       "      <td>421-90-3440</td>\n",
       "      <td>f</td>\n",
       "      <td>1953/07/17</td>\n",
       "      <td>Kroeger</td>\n",
       "      <td>Morrison</td>\n",
       "      <td>Adriane</td>\n",
       "      <td>4696 Retreat Avenue</td>\n",
       "      <td>Birmingham</td>\n",
       "      <td>AL</td>\n",
       "      <td>35209</td>\n",
       "      <td>205-276-1807</td>\n",
       "      <td>amorrison@domain.com</td>\n",
       "      <td>v</td>\n",
       "      <td>4539 0031 3703 0728</td>\n",
       "      <td>322</td>\n",
       "      <td>2009/12/01</td>\n",
       "    </tr>\n",
       "    <tr>\n",
       "      <th>21</th>\n",
       "      <td>451-80-3526</td>\n",
       "      <td>m</td>\n",
       "      <td>1950/06/09</td>\n",
       "      <td>Parmer</td>\n",
       "      <td>Santos</td>\n",
       "      <td>Thomas</td>\n",
       "      <td>173 Lunetta Street</td>\n",
       "      <td>Fort Worth</td>\n",
       "      <td>TX</td>\n",
       "      <td>76104</td>\n",
       "      <td>940-859-1393</td>\n",
       "      <td>tsantos@domain.com</td>\n",
       "      <td>v</td>\n",
       "      <td>4716 6984 4983 6160</td>\n",
       "      <td>767</td>\n",
       "      <td>2011/09/01</td>\n",
       "    </tr>\n",
       "    <tr>\n",
       "      <th>22</th>\n",
       "      <td>300-62-3266</td>\n",
       "      <td>m</td>\n",
       "      <td>1965/02/10</td>\n",
       "      <td>Spain</td>\n",
       "      <td>Faulkner</td>\n",
       "      <td>Victor</td>\n",
       "      <td>1843 Olive Street</td>\n",
       "      <td>Toledo</td>\n",
       "      <td>OH</td>\n",
       "      <td>43602</td>\n",
       "      <td>419-340-3832</td>\n",
       "      <td>vfaulkner@domain.com</td>\n",
       "      <td>m</td>\n",
       "      <td>5548 0246 6336 5664</td>\n",
       "      <td>276</td>\n",
       "      <td>2010/02/01</td>\n",
       "    </tr>\n",
       "    <tr>\n",
       "      <th>23</th>\n",
       "      <td>322-84-2281</td>\n",
       "      <td>m</td>\n",
       "      <td>1977/08/19</td>\n",
       "      <td>Miley</td>\n",
       "      <td>Iorio</td>\n",
       "      <td>Albert</td>\n",
       "      <td>4899 University Hill Road</td>\n",
       "      <td>Springfield</td>\n",
       "      <td>IL</td>\n",
       "      <td>62701</td>\n",
       "      <td>217-615-6419</td>\n",
       "      <td>aiorio@domain.com</td>\n",
       "      <td>v</td>\n",
       "      <td>4916 6734 7572 5015</td>\n",
       "      <td>347</td>\n",
       "      <td>2010/02/01</td>\n",
       "    </tr>\n",
       "    <tr>\n",
       "      <th>24</th>\n",
       "      <td>465-73-5022</td>\n",
       "      <td>f</td>\n",
       "      <td>1964/06/20</td>\n",
       "      <td>Summers</td>\n",
       "      <td>Kaminski</td>\n",
       "      <td>Teresa</td>\n",
       "      <td>1517 Gambler Lane</td>\n",
       "      <td>Houston</td>\n",
       "      <td>TX</td>\n",
       "      <td>77006</td>\n",
       "      <td>281-906-2148</td>\n",
       "      <td>tkaminski@domain.com</td>\n",
       "      <td>m</td>\n",
       "      <td>5399 0706 4128 0178</td>\n",
       "      <td>721</td>\n",
       "      <td>2009/10/01</td>\n",
       "    </tr>\n",
       "    <tr>\n",
       "      <th>25</th>\n",
       "      <td>612-20-6832</td>\n",
       "      <td>m</td>\n",
       "      <td>1979/08/18</td>\n",
       "      <td>Banas</td>\n",
       "      <td>Edwards</td>\n",
       "      <td>Rick</td>\n",
       "      <td>4254 Walkers Ridge Way</td>\n",
       "      <td>Gardena</td>\n",
       "      <td>CA</td>\n",
       "      <td>90248</td>\n",
       "      <td>626-991-3620</td>\n",
       "      <td>redwards@domain.com</td>\n",
       "      <td>m</td>\n",
       "      <td>5293 8502 0071 3058</td>\n",
       "      <td>701</td>\n",
       "      <td>2010/08/01</td>\n",
       "    </tr>\n",
       "    <tr>\n",
       "      <th>26</th>\n",
       "      <td>687-05-8365</td>\n",
       "      <td>f</td>\n",
       "      <td>1976/05/24</td>\n",
       "      <td>Robbins</td>\n",
       "      <td>Peacock</td>\n",
       "      <td>Stacey</td>\n",
       "      <td>3396 Nancy Street</td>\n",
       "      <td>Raleigh</td>\n",
       "      <td>NC</td>\n",
       "      <td>27612</td>\n",
       "      <td>919-571-2339</td>\n",
       "      <td>speacock@domain.com</td>\n",
       "      <td>m</td>\n",
       "      <td>5495 8602 4508 6804</td>\n",
       "      <td>436</td>\n",
       "      <td>2011/02/01</td>\n",
       "    </tr>\n",
       "    <tr>\n",
       "      <th>27</th>\n",
       "      <td>205-52-0027</td>\n",
       "      <td>f</td>\n",
       "      <td>1950/03/26</td>\n",
       "      <td>Sanford</td>\n",
       "      <td>Nelson</td>\n",
       "      <td>Agnes</td>\n",
       "      <td>4213 High Meadow Lane</td>\n",
       "      <td>Avoca</td>\n",
       "      <td>PA</td>\n",
       "      <td>18641</td>\n",
       "      <td>570-480-8704</td>\n",
       "      <td>anelson@domain.com</td>\n",
       "      <td>m</td>\n",
       "      <td>5413 4428 0145 0036</td>\n",
       "      <td>496</td>\n",
       "      <td>2010/02/01</td>\n",
       "    </tr>\n",
       "    <tr>\n",
       "      <th>28</th>\n",
       "      <td>404-12-2154</td>\n",
       "      <td>f</td>\n",
       "      <td>1984/09/21</td>\n",
       "      <td>Garcia</td>\n",
       "      <td>Townsend</td>\n",
       "      <td>Mireille</td>\n",
       "      <td>2877 Glen Street</td>\n",
       "      <td>Paducah</td>\n",
       "      <td>KY</td>\n",
       "      <td>42003</td>\n",
       "      <td>270-408-7254</td>\n",
       "      <td>mtownsend@domain.com</td>\n",
       "      <td>v</td>\n",
       "      <td>4539 8219 0484 7598</td>\n",
       "      <td>710</td>\n",
       "      <td>2011/03/01</td>\n",
       "    </tr>\n",
       "    <tr>\n",
       "      <th>29</th>\n",
       "      <td>151-32-2558</td>\n",
       "      <td>f</td>\n",
       "      <td>1952/11/19</td>\n",
       "      <td>Stockdale</td>\n",
       "      <td>Zwick</td>\n",
       "      <td>Rebecca</td>\n",
       "      <td>784 Beechwood Avenue</td>\n",
       "      <td>Piscataway</td>\n",
       "      <td>NJ</td>\n",
       "      <td>8854</td>\n",
       "      <td>908-814-6733</td>\n",
       "      <td>rzwick@domain.com</td>\n",
       "      <td>v</td>\n",
       "      <td>5252 5971 4219 4116</td>\n",
       "      <td>173</td>\n",
       "      <td>2011/02/01</td>\n",
       "    </tr>\n",
       "  </tbody>\n",
       "</table>\n",
       "</div>"
      ],
      "text/plain": [
       "             id gender   birthdate maiden_name      lname        fname  \\\n",
       "0   172-32-1176      m  1958/04/21       Smith      White      Johnson   \n",
       "1   514-14-8905      f  1944/12/22      Amaker     Borden       Ashley   \n",
       "2   213-46-8915      f  1958/04/21      Pinson      Green     Marjorie   \n",
       "3   524-02-7657      m  1962/03/25        Hall     Munsch       Jerome   \n",
       "4   489-36-8350      m  1964/09/06      Porter     Aragon       Robert   \n",
       "5   514-30-2668      f  1986/05/27   Nicholson    Russell        Jacki   \n",
       "6   505-88-5714      f  1963/09/23     Mcclain     Venson      Lillian   \n",
       "7   690-05-5315      m  1969/10/02       Kings     Conley       Thomas   \n",
       "8   646-44-9061      M  1978/01/12       Kurtz    Jackson      Charles   \n",
       "9   421-37-1396      f  1980/04/09      Linden      Davis        Susan   \n",
       "10  461-97-5660      f  1975/01/04     Kingdon     Watson         Gail   \n",
       "11  660-03-8360      f  1953/07/11     Onwunli   Garrison         Lisa   \n",
       "12  751-01-2327      f  1968/02/16     Simpson     Renfro        Julie   \n",
       "13  559-81-1301      m  1952/01/20      Mcafee      Heard        James   \n",
       "14  624-84-9181      m  1980/01/16     Frazier      Reyes        Danny   \n",
       "15  449-48-3135      m  1982/06/14     Feusier       Hall         Mark   \n",
       "16  477-36-0282      m  1961/03/10     Vasquez  Mceachern        Monte   \n",
       "17  458-02-6124      m  1955/09/20  Pennebaker       Diaz  Christopher   \n",
       "18  044-34-6954      m  1967/05/28     Simpson       Lowe          Tim   \n",
       "19  587-03-2682      f  1958/10/24   Dickerson      Oyola      Lynette   \n",
       "20  421-90-3440      f  1953/07/17     Kroeger   Morrison      Adriane   \n",
       "21  451-80-3526      m  1950/06/09      Parmer     Santos       Thomas   \n",
       "22  300-62-3266      m  1965/02/10       Spain   Faulkner       Victor   \n",
       "23  322-84-2281      m  1977/08/19       Miley      Iorio       Albert   \n",
       "24  465-73-5022      f  1964/06/20     Summers   Kaminski       Teresa   \n",
       "25  612-20-6832      m  1979/08/18       Banas    Edwards         Rick   \n",
       "26  687-05-8365      f  1976/05/24     Robbins    Peacock       Stacey   \n",
       "27  205-52-0027      f  1950/03/26     Sanford     Nelson        Agnes   \n",
       "28  404-12-2154      f  1984/09/21      Garcia   Townsend     Mireille   \n",
       "29  151-32-2558      f  1952/11/19   Stockdale      Zwick      Rebecca   \n",
       "\n",
       "                      address             city state    zip         phone  \\\n",
       "0              10932 Bigge Rd       Menlo Park    CA  94025  408 496-7223   \n",
       "1         4469 Sherman Street             Goff    KS  66428  785-939-6046   \n",
       "2           309 63rd St. #411          Oakland    CA  94618  415 986-7020   \n",
       "3              2183 Roy Alley       Centennial    CO  80112  303-901-6123   \n",
       "4        3181 White Oak Drive      Kansas City    MO  66215  816-645-6936   \n",
       "5          3097 Better Street      Kansas City    MO  66215  913-227-6106   \n",
       "6             539 Kyle Street       Wood River    NE  68883  308-583-8759   \n",
       "7            570 Nancy Street      Morrisville    NC  27560  919-656-6779   \n",
       "8           1074 Small Street         New York    NY  10011  212-847-4915   \n",
       "9         4222 Bedford Street           Jasper    AL  35501  205-221-9156   \n",
       "10           3414 Gore Street          Houston    TX  77002  713-547-3414   \n",
       "11         515 Hillside Drive     Lake Charles    LA  70629  337-965-2982   \n",
       "12     4032 Arron Smith Drive       Kaunakakai    HI  96748  808-560-1638   \n",
       "13        2865 Driftwood Road         San Jose    CA  95129  408-370-0031   \n",
       "14          3500 Diane Street  San Luis Obispo    CA  93401  805-369-0464   \n",
       "15         4986 Chapel Street          Houston    TX  77077  281-597-5517   \n",
       "16         456 Oral Lake Road      Minneapolis    MN  55401  952-412-3707   \n",
       "17           582 Thrash Trail           Dallas    TX  75247  903-624-9156   \n",
       "18        1620 Maxwell Street    East Hartford    CT   6108  860-755-0293   \n",
       "19       2489 O Conner Street       Pascagoula    MS  39567  228-938-2056   \n",
       "20        4696 Retreat Avenue       Birmingham    AL  35209  205-276-1807   \n",
       "21         173 Lunetta Street       Fort Worth    TX  76104  940-859-1393   \n",
       "22          1843 Olive Street           Toledo    OH  43602  419-340-3832   \n",
       "23  4899 University Hill Road      Springfield    IL  62701  217-615-6419   \n",
       "24          1517 Gambler Lane          Houston    TX  77006  281-906-2148   \n",
       "25     4254 Walkers Ridge Way          Gardena    CA  90248  626-991-3620   \n",
       "26          3396 Nancy Street          Raleigh    NC  27612  919-571-2339   \n",
       "27      4213 High Meadow Lane            Avoca    PA  18641  570-480-8704   \n",
       "28           2877 Glen Street          Paducah    KY  42003  270-408-7254   \n",
       "29       784 Beechwood Avenue       Piscataway    NJ   8854  908-814-6733   \n",
       "\n",
       "                    email cc_type            cc_number  cc_cvc cc_expiredate  \n",
       "0       jwhite@domain.com       m  5270 4267 6450 5516     123    2010/06/25  \n",
       "1      aborden@domain.com       m  5370 4638 8881 3020     713    2011/02/01  \n",
       "2       mgreen@domain.com       v  4916 9766 5240 6147     258    2009/02/25  \n",
       "3      jmunsch@domain.com       m  5180 3807 3679 8221     612    2010/03/01  \n",
       "4      raragon@domain.com       v  4929 3813 3266 4295     911    2011/12/01  \n",
       "5     jrussell@domain.com       a      345389698201044     232    2010/01/01  \n",
       "6      lvenson@domain.com       d       30204861594838     471    2011/12/01  \n",
       "7      tconley@domain.com       v  4916 4811 5814 8111     731    2010/10/01  \n",
       "8     cjackson@domain.com       m  5218 0144 2703 9266     892    2011/11/01  \n",
       "9       sdavis@domain.com       v  4916 4034 9269 8783      33    2011/04/01  \n",
       "10     gwatson@domain.com       v  4532 1753 6071 1112     694    2011/09/01  \n",
       "11   lgarrison@domain.com       v  4539 5385 7425 5825     680    2011/06/01  \n",
       "12     jrenfro@domain.com       m  5325 3256 9519 6624     238    2009/03/01  \n",
       "13      jheard@domain.com       v  4532 4220 6922 9909     311    2010/09/01  \n",
       "14      dreyes@domain.com       v  4532 0065 1968 5602     713    2009/11/01  \n",
       "15       mhall@domain.com       v  4556 0072 1294 7415     953    2010/05/01  \n",
       "16  mmceachern@domain.com       m  5527 1247 5046 7780     889    2009/03/01  \n",
       "17       cdiaz@domain.com       m  5299 1561 5689 1938     584    2011/08/01  \n",
       "18       tlowe@domain.com       m  5144 8691 2776 1108     616    2011/10/01  \n",
       "19      loyola@domain.com       v  4532 9929 3036 9308     991    2011/07/01  \n",
       "20   amorrison@domain.com       v  4539 0031 3703 0728     322    2009/12/01  \n",
       "21     tsantos@domain.com       v  4716 6984 4983 6160     767    2011/09/01  \n",
       "22   vfaulkner@domain.com       m  5548 0246 6336 5664     276    2010/02/01  \n",
       "23      aiorio@domain.com       v  4916 6734 7572 5015     347    2010/02/01  \n",
       "24   tkaminski@domain.com       m  5399 0706 4128 0178     721    2009/10/01  \n",
       "25    redwards@domain.com       m  5293 8502 0071 3058     701    2010/08/01  \n",
       "26    speacock@domain.com       m  5495 8602 4508 6804     436    2011/02/01  \n",
       "27     anelson@domain.com       m  5413 4428 0145 0036     496    2010/02/01  \n",
       "28   mtownsend@domain.com       v  4539 8219 0484 7598     710    2011/03/01  \n",
       "29      rzwick@domain.com       v  5252 5971 4219 4116     173    2011/02/01  "
      ]
     },
     "execution_count": 6,
     "metadata": {},
     "output_type": "execute_result"
    }
   ],
   "source": [
    "dataset.to_pandas()"
   ]
  },
  {
   "cell_type": "markdown",
   "metadata": {
    "id": "CxRhaXQ0dXC4"
   },
   "source": [
    "## Remap = Action\n",
    "\n",
    "Users can add remap actions to a Rockfish Workflow.\n",
    "\n",
    "To use a `remap` function, the following things need to be specified:\n",
    "\n",
    "1. `remap_type`: The type of remap function you want to use. Supported remap types are described below.\n",
    "2. `select_col`: The name of the field in your dataset that you want to remap.\n",
    "3. `new_remapped_col`: The name of the new remapped field that should be added to the dataset, in case you don't want to\n",
    "   overwrite the original field (e.g., for testing purposes).\n",
    "4. `options`: An optional dictionary of arguments to customize your remap function.\n",
    "\n",
    "We will look at a few example remap actions below.\n"
   ]
  },
  {
   "cell_type": "markdown",
   "metadata": {
    "id": "zJ2qacFmR2He"
   },
   "source": [
    "## Remapping SSNs\n",
    "\n",
    "Mask the last 8 characters using \"X\".\n",
    "\n",
    "- `remap_type`: \"ssn\"\n",
    "- `options` to customize the default function if needed:\n",
    "  - `mask_char`: Any string that will be used as the masking character.\n",
    "  - `mask_length`: Number of characters to mask.\n",
    "  - `from_end`: A boolean to mask from the beginning of the field (False) or from the end (True).\n"
   ]
  },
  {
   "cell_type": "code",
   "execution_count": 7,
   "metadata": {
    "ExecuteTime": {
     "end_time": "2024-12-12T22:31:30.522287Z",
     "start_time": "2024-12-12T22:31:30.520117Z"
    },
    "id": "8A8gOOzvsC0I"
   },
   "outputs": [],
   "source": [
    "remap_type = \"ssn\"\n",
    "select_col = \"id\"\n",
    "options = None\n",
    "remap_ssn = ra.Transform(\n",
    "    {\"function\": {\"remap\": [remap_type, select_col, options]}}\n",
    ")"
   ]
  },
  {
   "cell_type": "markdown",
   "metadata": {
    "id": "excHeXOYR6rZ"
   },
   "source": [
    "## Remapping Dates\n",
    "\n",
    "Replace timestamps that contain both time and date with day, month, and year. To remap field that only have dates, you\n",
    "can specify a more general `format_str` option (e.g., to keep month and year use \"%b %Y\").\n",
    "\n",
    "- `remap_type`: \"date\"\n",
    "- `options` to customize the default function if needed: - `format_str`: A valid datetime format string (see\n",
    "  [datetime documentation](https://docs.python.org/3/library/datetime.html#strftime-and-strptime-behavior) for possible formats).\n"
   ]
  },
  {
   "cell_type": "code",
   "execution_count": 8,
   "metadata": {
    "ExecuteTime": {
     "end_time": "2024-12-12T22:31:30.559797Z",
     "start_time": "2024-12-12T22:31:30.557849Z"
    },
    "id": "fMOyoLoDQBoW"
   },
   "outputs": [],
   "source": [
    "remap_type = \"date\"\n",
    "select_col = \"birthdate\"\n",
    "options = {\"format_str\": \"%b %Y\"}\n",
    "new_remapped_col = \"remapped_birthdate\"\n",
    "remap_date = ra.Apply(\n",
    "    {\n",
    "        \"function\": {\"remap\": [remap_type, select_col, options]},\n",
    "        \"append_field\": new_remapped_col,\n",
    "    }\n",
    ")"
   ]
  },
  {
   "cell_type": "markdown",
   "metadata": {
    "id": "F2LnR2C9xUon"
   },
   "source": [
    "## Remapping Email Addresses\n",
    "\n",
    "Replace emails with randomly generated fake email addresses.\n",
    "\n",
    "- `remap_type`: \"email\"\n",
    "- `options` to customize the default function if needed:\n",
    "  - `gender`: \"M\" to generate email addresses with male first names (default = female first names).\n",
    "  - `locale`: See [locale documentation](https://faker.readthedocs.io/en/master/locales.html)\n",
    "    for supported locale types (default locale = \"en_US\").\n",
    "  - `seed`: Seed for the random generator (default = 0).\n"
   ]
  },
  {
   "cell_type": "code",
   "execution_count": 9,
   "metadata": {
    "ExecuteTime": {
     "end_time": "2024-12-12T22:31:30.586634Z",
     "start_time": "2024-12-12T22:31:30.584963Z"
    },
    "id": "Fm8zxJAQxc3D"
   },
   "outputs": [],
   "source": [
    "remap_type = \"email\"\n",
    "select_col = \"email\"\n",
    "options = None\n",
    "new_remapped_col = \"remapped_email\"\n",
    "remap_email = ra.Apply(\n",
    "    {\n",
    "        \"function\": {\"remap\": [remap_type, select_col, options]},\n",
    "        \"append_field\": new_remapped_col,\n",
    "    }\n",
    ")"
   ]
  },
  {
   "cell_type": "markdown",
   "metadata": {
    "id": "C4QrxCB3SS5E"
   },
   "source": [
    "## Remapping Phone Numbers\n",
    "\n",
    "Replace with randomly generated fake phone numbers.\n",
    "\n",
    "- `remap_type`: \"phone_number\"\n",
    "- `options` to customize the default function if needed:\n",
    "  - `locale`: See [locale documentation](https://faker.readthedocs.io/en/master/locales.html)\n",
    "    for supported locale types (default locale = \"en_US\").\n",
    "  - `seed`: Seed for the random generator (default = `None`).\n"
   ]
  },
  {
   "cell_type": "code",
   "execution_count": 10,
   "metadata": {
    "ExecuteTime": {
     "end_time": "2024-12-12T22:31:30.603977Z",
     "start_time": "2024-12-12T22:31:30.602403Z"
    },
    "id": "CcEHJOmdSJpi"
   },
   "outputs": [],
   "source": [
    "remap_type = \"phone_number\"\n",
    "select_col = \"phone\"\n",
    "options = None\n",
    "new_remapped_col = \"remapped_phone\"\n",
    "remap_phone = ra.Apply(\n",
    "    {\n",
    "        \"function\": {\"remap\": [remap_type, select_col, options]},\n",
    "        \"append_field\": new_remapped_col,\n",
    "    }\n",
    ")"
   ]
  },
  {
   "cell_type": "markdown",
   "metadata": {
    "id": "hDeWUv9nDvN9"
   },
   "source": [
    "## Remapping CVCs Using Custom Bins\n",
    "\n",
    "Replace CVC values with the bucket they fall into.\n",
    "\n",
    "- `remap_type`: \"custom_bins\"\n",
    "- `options`:\n",
    "  - `bins`: A number `n` to split the range of values into `n` buckets, or a list that contains specific intervals.\n",
    "    For example, to use intervals \"[0, 10)\" and \"[10, 20)\", specify `bins = [0, 10, 20]`.\n",
    "  - `right`: A boolean to make the right side of the interval inclusive (True) or not (False).\n",
    "  - `labels`: Labels for intervals, if needed (default = None).\n",
    "\n",
    "See [documentation for pandas.cut()](https://pandas.pydata.org/docs/dev/reference/api/pandas.cut.html) for a more detailed explanation of the arguments.\n"
   ]
  },
  {
   "cell_type": "code",
   "execution_count": 11,
   "metadata": {
    "ExecuteTime": {
     "end_time": "2024-12-12T22:31:30.615203Z",
     "start_time": "2024-12-12T22:31:30.613552Z"
    },
    "id": "tVX_shg4FSZj"
   },
   "outputs": [],
   "source": [
    "remap_type = \"custom_bins\"\n",
    "select_col = \"cc_cvc\"\n",
    "options = {\n",
    "    \"bins\": 10,\n",
    "    \"right\": False,\n",
    "    \"labels\": [0, 1, 2, 3, 4, 5, 6, 7, 8, 9],\n",
    "}\n",
    "new_remapped_col = \"remapped_cc_cvc\"\n",
    "remap_cvc = ra.Apply(\n",
    "    {\n",
    "        \"function\": {\"remap\": [remap_type, select_col, options]},\n",
    "        \"append_field\": new_remapped_col,\n",
    "    }\n",
    ")"
   ]
  },
  {
   "cell_type": "markdown",
   "metadata": {
    "id": "lT3ovto1VhNg"
   },
   "source": [
    "## Remapping Gender Using Custom Dict\n",
    "\n",
    "Replace values according to a dictionary containing mappings from original values to new values.\n",
    "\n",
    "- `remap_type`: \"custom_dict\"\n",
    "- `options`:\n",
    "  - `new_values_dict`: Dictionary with mappings from original values to new values. Not all original values in a field\n",
    "    need to have a mapping. Values without a mapping will not be replaced.\n"
   ]
  },
  {
   "cell_type": "code",
   "execution_count": 12,
   "metadata": {
    "ExecuteTime": {
     "end_time": "2024-12-12T22:31:30.619079Z",
     "start_time": "2024-12-12T22:31:30.617617Z"
    },
    "id": "XK4sp-7cVr2Y"
   },
   "outputs": [],
   "source": [
    "remap_type = \"custom_dict\"\n",
    "select_col = \"gender\"\n",
    "options = {\n",
    "    \"new_values_dict\": {\n",
    "        \"m\": \"Male\",\n",
    "        \"M\": \"Male\",\n",
    "        \"f\": \"Female\",\n",
    "    }\n",
    "}\n",
    "new_remapped_col = \"remapped_gender\"\n",
    "remap_gender = ra.Apply(\n",
    "    {\n",
    "        \"function\": {\"remap\": [remap_type, select_col, options]},\n",
    "        \"append_field\": new_remapped_col,\n",
    "    }\n",
    ")"
   ]
  },
  {
   "cell_type": "markdown",
   "metadata": {
    "id": "k-ZaMbUiZXPM"
   },
   "source": [
    "## Save Remapped Dataset\n"
   ]
  },
  {
   "cell_type": "code",
   "execution_count": 13,
   "metadata": {
    "ExecuteTime": {
     "end_time": "2024-12-12T22:31:30.624165Z",
     "start_time": "2024-12-12T22:31:30.622468Z"
    },
    "id": "v4Da-D5mP_Nr"
   },
   "outputs": [],
   "source": [
    "save_remapped = rf.actions.DatasetSave(name=\"remapped_dataset\")"
   ]
  },
  {
   "cell_type": "markdown",
   "metadata": {
    "id": "y6Kmr3auSxPm"
   },
   "source": [
    "## Build And Run Workflow\n"
   ]
  },
  {
   "cell_type": "code",
   "execution_count": 14,
   "metadata": {
    "ExecuteTime": {
     "end_time": "2024-12-12T22:31:30.629217Z",
     "start_time": "2024-12-12T22:31:30.627454Z"
    },
    "id": "2ISr54mbsHDU"
   },
   "outputs": [],
   "source": [
    "preprocess_builder = rf.WorkflowBuilder()\n",
    "preprocess_builder.add_dataset(dataset)\n",
    "preprocess_builder.add_action(remap_ssn, alias=\"remap_ssn\", parents=[dataset])\n",
    "preprocess_builder.add_action(\n",
    "    remap_date, alias=\"remap_date\", parents=[remap_ssn]\n",
    ")\n",
    "preprocess_builder.add_action(\n",
    "    remap_email, alias=\"remap_email\", parents=[remap_date]\n",
    ")\n",
    "preprocess_builder.add_action(\n",
    "    remap_phone, alias=\"remap_phone\", parents=[remap_email]\n",
    ")\n",
    "preprocess_builder.add_action(\n",
    "    remap_cvc, alias=\"remap_cvc\", parents=[remap_phone]\n",
    ")\n",
    "preprocess_builder.add_action(\n",
    "    remap_gender, alias=\"remap_gender\", parents=[remap_cvc]\n",
    ")\n",
    "preprocess_builder.add_action(save_remapped, parents=[remap_gender])"
   ]
  },
  {
   "cell_type": "code",
   "execution_count": 15,
   "metadata": {
    "ExecuteTime": {
     "end_time": "2024-12-12T22:31:30.633767Z",
     "start_time": "2024-12-12T22:31:30.632375Z"
    },
    "colab": {
     "base_uri": "https://localhost:8080/"
    },
    "id": "tgv-ToXewHBa",
    "outputId": "e8732452-3718-47e9-dbbc-f4eaf91482f2"
   },
   "outputs": [
    {
     "name": "stdout",
     "output_type": "stream",
     "text": [
      "dataset-load\n",
      "remap_ssn\n",
      "remap_date\n",
      "remap_email\n",
      "remap_phone\n",
      "remap_cvc\n",
      "remap_gender\n",
      "dataset-save\n"
     ]
    }
   ],
   "source": [
    "for action in preprocess_builder.actions:\n",
    "    print(action)"
   ]
  },
  {
   "cell_type": "code",
   "execution_count": 16,
   "metadata": {
    "ExecuteTime": {
     "end_time": "2024-12-12T22:31:30.644850Z",
     "start_time": "2024-12-12T22:31:30.641942Z"
    },
    "colab": {
     "base_uri": "https://localhost:8080/"
    },
    "id": "WpYzhCHBsNgk",
    "outputId": "02f34fb9-6253-470d-eabe-5097480480c7"
   },
   "outputs": [
    {
     "name": "stdout",
     "output_type": "stream",
     "text": [
      "Workflow: 1W58Q0QsW0z1kvx2kIRoVI\n"
     ]
    }
   ],
   "source": [
    "preprocess_workflow = await preprocess_builder.start(conn)\n",
    "remapped_dataset = None\n",
    "\n",
    "print(f\"Workflow: {preprocess_workflow.id()}\")"
   ]
  },
  {
   "cell_type": "code",
   "execution_count": 17,
   "metadata": {
    "ExecuteTime": {
     "end_time": "2024-12-12T22:31:30.688076Z",
     "start_time": "2024-12-12T22:31:30.656981Z"
    },
    "colab": {
     "base_uri": "https://localhost:8080/"
    },
    "id": "QUHG-PA5snK0",
    "outputId": "82dcee38-7f68-4d92-8b68-b424cb2fe21e"
   },
   "outputs": [
    {
     "name": "stdout",
     "output_type": "stream",
     "text": [
      "2024-12-12T22:31:30.648394Z dataset-load: INFO Loading dataset '1mjABBrolgVt8fG2VWm5d7' with 30 rows\n",
      "2024-12-12T22:31:30.686169Z dataset-save: WARN No session metadata provided\n",
      "2024-12-12T22:31:30.686511Z dataset-save: INFO Saved dataset '7871JhUC33hHd9aaHtbJXb' with 30 rows\n"
     ]
    }
   ],
   "source": [
    "async for log in preprocess_workflow.logs():\n",
    "    print(log)"
   ]
  },
  {
   "cell_type": "code",
   "execution_count": 18,
   "metadata": {
    "ExecuteTime": {
     "end_time": "2024-12-12T22:31:30.693903Z",
     "start_time": "2024-12-12T22:31:30.691730Z"
    },
    "id": "9r-CTQiisZeD"
   },
   "outputs": [],
   "source": [
    "async for sds in preprocess_workflow.datasets():\n",
    "    remapped_dataset = await sds.to_local(conn)"
   ]
  },
  {
   "cell_type": "markdown",
   "metadata": {
    "id": "3lqmifQzS3NF"
   },
   "source": [
    "## Outputs\n"
   ]
  },
  {
   "cell_type": "code",
   "execution_count": 19,
   "metadata": {
    "ExecuteTime": {
     "end_time": "2024-12-12T22:31:30.701633Z",
     "start_time": "2024-12-12T22:31:30.697990Z"
    },
    "colab": {
     "base_uri": "https://localhost:8080/",
     "height": 363
    },
    "id": "-Um2Hwo8scT0",
    "outputId": "bfe1c9a4-a543-49be-e4e2-9559f6c08ee3"
   },
   "outputs": [
    {
     "data": {
      "text/html": [
       "<div>\n",
       "<style scoped>\n",
       "    .dataframe tbody tr th:only-of-type {\n",
       "        vertical-align: middle;\n",
       "    }\n",
       "\n",
       "    .dataframe tbody tr th {\n",
       "        vertical-align: top;\n",
       "    }\n",
       "\n",
       "    .dataframe thead th {\n",
       "        text-align: right;\n",
       "    }\n",
       "</style>\n",
       "<table border=\"1\" class=\"dataframe\">\n",
       "  <thead>\n",
       "    <tr style=\"text-align: right;\">\n",
       "      <th></th>\n",
       "      <th>id</th>\n",
       "    </tr>\n",
       "  </thead>\n",
       "  <tbody>\n",
       "    <tr>\n",
       "      <th>0</th>\n",
       "      <td>172XXXXXXXX</td>\n",
       "    </tr>\n",
       "    <tr>\n",
       "      <th>1</th>\n",
       "      <td>514XXXXXXXX</td>\n",
       "    </tr>\n",
       "    <tr>\n",
       "      <th>2</th>\n",
       "      <td>213XXXXXXXX</td>\n",
       "    </tr>\n",
       "    <tr>\n",
       "      <th>3</th>\n",
       "      <td>524XXXXXXXX</td>\n",
       "    </tr>\n",
       "    <tr>\n",
       "      <th>4</th>\n",
       "      <td>489XXXXXXXX</td>\n",
       "    </tr>\n",
       "    <tr>\n",
       "      <th>5</th>\n",
       "      <td>514XXXXXXXX</td>\n",
       "    </tr>\n",
       "    <tr>\n",
       "      <th>6</th>\n",
       "      <td>505XXXXXXXX</td>\n",
       "    </tr>\n",
       "    <tr>\n",
       "      <th>7</th>\n",
       "      <td>690XXXXXXXX</td>\n",
       "    </tr>\n",
       "    <tr>\n",
       "      <th>8</th>\n",
       "      <td>646XXXXXXXX</td>\n",
       "    </tr>\n",
       "    <tr>\n",
       "      <th>9</th>\n",
       "      <td>421XXXXXXXX</td>\n",
       "    </tr>\n",
       "  </tbody>\n",
       "</table>\n",
       "</div>"
      ],
      "text/plain": [
       "            id\n",
       "0  172XXXXXXXX\n",
       "1  514XXXXXXXX\n",
       "2  213XXXXXXXX\n",
       "3  524XXXXXXXX\n",
       "4  489XXXXXXXX\n",
       "5  514XXXXXXXX\n",
       "6  505XXXXXXXX\n",
       "7  690XXXXXXXX\n",
       "8  646XXXXXXXX\n",
       "9  421XXXXXXXX"
      ]
     },
     "execution_count": 19,
     "metadata": {},
     "output_type": "execute_result"
    }
   ],
   "source": [
    "remapped_dataset.to_pandas()[[\"id\"]][:10]"
   ]
  },
  {
   "cell_type": "code",
   "execution_count": 20,
   "metadata": {
    "ExecuteTime": {
     "end_time": "2024-12-12T22:31:30.723096Z",
     "start_time": "2024-12-12T22:31:30.719265Z"
    },
    "colab": {
     "base_uri": "https://localhost:8080/",
     "height": 363
    },
    "id": "fviIc4wtQ6lA",
    "outputId": "0fbc2d92-1e1d-484f-c4d6-ab3949ba3bb3"
   },
   "outputs": [
    {
     "data": {
      "text/html": [
       "<div>\n",
       "<style scoped>\n",
       "    .dataframe tbody tr th:only-of-type {\n",
       "        vertical-align: middle;\n",
       "    }\n",
       "\n",
       "    .dataframe tbody tr th {\n",
       "        vertical-align: top;\n",
       "    }\n",
       "\n",
       "    .dataframe thead th {\n",
       "        text-align: right;\n",
       "    }\n",
       "</style>\n",
       "<table border=\"1\" class=\"dataframe\">\n",
       "  <thead>\n",
       "    <tr style=\"text-align: right;\">\n",
       "      <th></th>\n",
       "      <th>birthdate</th>\n",
       "      <th>remapped_birthdate</th>\n",
       "    </tr>\n",
       "  </thead>\n",
       "  <tbody>\n",
       "    <tr>\n",
       "      <th>0</th>\n",
       "      <td>1958/04/21</td>\n",
       "      <td>Apr 1958</td>\n",
       "    </tr>\n",
       "    <tr>\n",
       "      <th>1</th>\n",
       "      <td>1944/12/22</td>\n",
       "      <td>Dec 1944</td>\n",
       "    </tr>\n",
       "    <tr>\n",
       "      <th>2</th>\n",
       "      <td>1958/04/21</td>\n",
       "      <td>Apr 1958</td>\n",
       "    </tr>\n",
       "    <tr>\n",
       "      <th>3</th>\n",
       "      <td>1962/03/25</td>\n",
       "      <td>Mar 1962</td>\n",
       "    </tr>\n",
       "    <tr>\n",
       "      <th>4</th>\n",
       "      <td>1964/09/06</td>\n",
       "      <td>Sep 1964</td>\n",
       "    </tr>\n",
       "    <tr>\n",
       "      <th>5</th>\n",
       "      <td>1986/05/27</td>\n",
       "      <td>May 1986</td>\n",
       "    </tr>\n",
       "    <tr>\n",
       "      <th>6</th>\n",
       "      <td>1963/09/23</td>\n",
       "      <td>Sep 1963</td>\n",
       "    </tr>\n",
       "    <tr>\n",
       "      <th>7</th>\n",
       "      <td>1969/10/02</td>\n",
       "      <td>Oct 1969</td>\n",
       "    </tr>\n",
       "    <tr>\n",
       "      <th>8</th>\n",
       "      <td>1978/01/12</td>\n",
       "      <td>Jan 1978</td>\n",
       "    </tr>\n",
       "    <tr>\n",
       "      <th>9</th>\n",
       "      <td>1980/04/09</td>\n",
       "      <td>Apr 1980</td>\n",
       "    </tr>\n",
       "  </tbody>\n",
       "</table>\n",
       "</div>"
      ],
      "text/plain": [
       "    birthdate remapped_birthdate\n",
       "0  1958/04/21           Apr 1958\n",
       "1  1944/12/22           Dec 1944\n",
       "2  1958/04/21           Apr 1958\n",
       "3  1962/03/25           Mar 1962\n",
       "4  1964/09/06           Sep 1964\n",
       "5  1986/05/27           May 1986\n",
       "6  1963/09/23           Sep 1963\n",
       "7  1969/10/02           Oct 1969\n",
       "8  1978/01/12           Jan 1978\n",
       "9  1980/04/09           Apr 1980"
      ]
     },
     "execution_count": 20,
     "metadata": {},
     "output_type": "execute_result"
    }
   ],
   "source": [
    "remapped_dataset.to_pandas()[[\"birthdate\", \"remapped_birthdate\"]][:10]"
   ]
  },
  {
   "cell_type": "code",
   "execution_count": 21,
   "metadata": {
    "ExecuteTime": {
     "end_time": "2024-12-12T22:31:30.765897Z",
     "start_time": "2024-12-12T22:31:30.761895Z"
    },
    "colab": {
     "base_uri": "https://localhost:8080/",
     "height": 363
    },
    "id": "y8yQsWodx_rx",
    "outputId": "ad40449c-32fe-41cf-e648-2c5229fefd54"
   },
   "outputs": [
    {
     "data": {
      "text/html": [
       "<div>\n",
       "<style scoped>\n",
       "    .dataframe tbody tr th:only-of-type {\n",
       "        vertical-align: middle;\n",
       "    }\n",
       "\n",
       "    .dataframe tbody tr th {\n",
       "        vertical-align: top;\n",
       "    }\n",
       "\n",
       "    .dataframe thead th {\n",
       "        text-align: right;\n",
       "    }\n",
       "</style>\n",
       "<table border=\"1\" class=\"dataframe\">\n",
       "  <thead>\n",
       "    <tr style=\"text-align: right;\">\n",
       "      <th></th>\n",
       "      <th>email</th>\n",
       "      <th>remapped_email</th>\n",
       "    </tr>\n",
       "  </thead>\n",
       "  <tbody>\n",
       "    <tr>\n",
       "      <th>0</th>\n",
       "      <td>jwhite@domain.com</td>\n",
       "      <td>Sarah.Chang@williams-sheppard.info</td>\n",
       "    </tr>\n",
       "    <tr>\n",
       "      <th>1</th>\n",
       "      <td>aborden@domain.com</td>\n",
       "      <td>Jennifer.Bowers@faulkner-howard.com</td>\n",
       "    </tr>\n",
       "    <tr>\n",
       "      <th>2</th>\n",
       "      <td>mgreen@domain.com</td>\n",
       "      <td>Kathy.Campbell@montgomery.net</td>\n",
       "    </tr>\n",
       "    <tr>\n",
       "      <th>3</th>\n",
       "      <td>jmunsch@domain.com</td>\n",
       "      <td>Victoria.Patrick@collins.com</td>\n",
       "    </tr>\n",
       "    <tr>\n",
       "      <th>4</th>\n",
       "      <td>raragon@domain.com</td>\n",
       "      <td>Stephanie.Sutton@castro-gomez.com</td>\n",
       "    </tr>\n",
       "    <tr>\n",
       "      <th>5</th>\n",
       "      <td>jrussell@domain.com</td>\n",
       "      <td>Lisa.Durham@woods.net</td>\n",
       "    </tr>\n",
       "    <tr>\n",
       "      <th>6</th>\n",
       "      <td>lvenson@domain.com</td>\n",
       "      <td>Sydney.Davis@page-glover.com</td>\n",
       "    </tr>\n",
       "    <tr>\n",
       "      <th>7</th>\n",
       "      <td>tconley@domain.com</td>\n",
       "      <td>Lisa.Clayton@sanchez-nguyen.com</td>\n",
       "    </tr>\n",
       "    <tr>\n",
       "      <th>8</th>\n",
       "      <td>cjackson@domain.com</td>\n",
       "      <td>Cheryl.Bradley@pratt.net</td>\n",
       "    </tr>\n",
       "    <tr>\n",
       "      <th>9</th>\n",
       "      <td>sdavis@domain.com</td>\n",
       "      <td>Jo.Miller@golden-bolton.info</td>\n",
       "    </tr>\n",
       "  </tbody>\n",
       "</table>\n",
       "</div>"
      ],
      "text/plain": [
       "                 email                       remapped_email\n",
       "0    jwhite@domain.com   Sarah.Chang@williams-sheppard.info\n",
       "1   aborden@domain.com  Jennifer.Bowers@faulkner-howard.com\n",
       "2    mgreen@domain.com        Kathy.Campbell@montgomery.net\n",
       "3   jmunsch@domain.com         Victoria.Patrick@collins.com\n",
       "4   raragon@domain.com    Stephanie.Sutton@castro-gomez.com\n",
       "5  jrussell@domain.com                Lisa.Durham@woods.net\n",
       "6   lvenson@domain.com         Sydney.Davis@page-glover.com\n",
       "7   tconley@domain.com      Lisa.Clayton@sanchez-nguyen.com\n",
       "8  cjackson@domain.com             Cheryl.Bradley@pratt.net\n",
       "9    sdavis@domain.com         Jo.Miller@golden-bolton.info"
      ]
     },
     "execution_count": 21,
     "metadata": {},
     "output_type": "execute_result"
    }
   ],
   "source": [
    "remapped_dataset.to_pandas()[[\"email\", \"remapped_email\"]][:10]"
   ]
  },
  {
   "cell_type": "code",
   "execution_count": 22,
   "metadata": {
    "ExecuteTime": {
     "end_time": "2024-12-12T22:31:30.824312Z",
     "start_time": "2024-12-12T22:31:30.820249Z"
    },
    "colab": {
     "base_uri": "https://localhost:8080/",
     "height": 363
    },
    "id": "hBSFSRHZS9qg",
    "outputId": "07b28a7e-cb9e-4744-d87a-9c4c17d8ef94"
   },
   "outputs": [
    {
     "data": {
      "text/html": [
       "<div>\n",
       "<style scoped>\n",
       "    .dataframe tbody tr th:only-of-type {\n",
       "        vertical-align: middle;\n",
       "    }\n",
       "\n",
       "    .dataframe tbody tr th {\n",
       "        vertical-align: top;\n",
       "    }\n",
       "\n",
       "    .dataframe thead th {\n",
       "        text-align: right;\n",
       "    }\n",
       "</style>\n",
       "<table border=\"1\" class=\"dataframe\">\n",
       "  <thead>\n",
       "    <tr style=\"text-align: right;\">\n",
       "      <th></th>\n",
       "      <th>phone</th>\n",
       "      <th>remapped_phone</th>\n",
       "    </tr>\n",
       "  </thead>\n",
       "  <tbody>\n",
       "    <tr>\n",
       "      <th>0</th>\n",
       "      <td>408 496-7223</td>\n",
       "      <td>(460)648-7647x5938</td>\n",
       "    </tr>\n",
       "    <tr>\n",
       "      <th>1</th>\n",
       "      <td>785-939-6046</td>\n",
       "      <td>(319)748-9241</td>\n",
       "    </tr>\n",
       "    <tr>\n",
       "      <th>2</th>\n",
       "      <td>415 986-7020</td>\n",
       "      <td>281.256.5938x7784</td>\n",
       "    </tr>\n",
       "    <tr>\n",
       "      <th>3</th>\n",
       "      <td>303-901-6123</td>\n",
       "      <td>560-597-5351</td>\n",
       "    </tr>\n",
       "    <tr>\n",
       "      <th>4</th>\n",
       "      <td>816-645-6936</td>\n",
       "      <td>328.671.1587</td>\n",
       "    </tr>\n",
       "    <tr>\n",
       "      <th>5</th>\n",
       "      <td>913-227-6106</td>\n",
       "      <td>+1-641-985-8398</td>\n",
       "    </tr>\n",
       "    <tr>\n",
       "      <th>6</th>\n",
       "      <td>308-583-8759</td>\n",
       "      <td>496-259-3423</td>\n",
       "    </tr>\n",
       "    <tr>\n",
       "      <th>7</th>\n",
       "      <td>919-656-6779</td>\n",
       "      <td>+1-647-511-2201x868</td>\n",
       "    </tr>\n",
       "    <tr>\n",
       "      <th>8</th>\n",
       "      <td>212-847-4915</td>\n",
       "      <td>796.394.7751</td>\n",
       "    </tr>\n",
       "    <tr>\n",
       "      <th>9</th>\n",
       "      <td>205-221-9156</td>\n",
       "      <td>295.333.0413x5256</td>\n",
       "    </tr>\n",
       "  </tbody>\n",
       "</table>\n",
       "</div>"
      ],
      "text/plain": [
       "          phone       remapped_phone\n",
       "0  408 496-7223   (460)648-7647x5938\n",
       "1  785-939-6046        (319)748-9241\n",
       "2  415 986-7020    281.256.5938x7784\n",
       "3  303-901-6123         560-597-5351\n",
       "4  816-645-6936         328.671.1587\n",
       "5  913-227-6106      +1-641-985-8398\n",
       "6  308-583-8759         496-259-3423\n",
       "7  919-656-6779  +1-647-511-2201x868\n",
       "8  212-847-4915         796.394.7751\n",
       "9  205-221-9156    295.333.0413x5256"
      ]
     },
     "execution_count": 22,
     "metadata": {},
     "output_type": "execute_result"
    }
   ],
   "source": [
    "remapped_dataset.to_pandas()[[\"phone\", \"remapped_phone\"]][:10]"
   ]
  },
  {
   "cell_type": "code",
   "execution_count": 23,
   "metadata": {
    "ExecuteTime": {
     "end_time": "2024-12-12T22:31:30.859151Z",
     "start_time": "2024-12-12T22:31:30.855135Z"
    },
    "colab": {
     "base_uri": "https://localhost:8080/",
     "height": 363
    },
    "id": "YxJJ6Ou0FmVv",
    "outputId": "f52d344a-c59c-46bc-a1e5-9028bc3deb60"
   },
   "outputs": [
    {
     "data": {
      "text/html": [
       "<div>\n",
       "<style scoped>\n",
       "    .dataframe tbody tr th:only-of-type {\n",
       "        vertical-align: middle;\n",
       "    }\n",
       "\n",
       "    .dataframe tbody tr th {\n",
       "        vertical-align: top;\n",
       "    }\n",
       "\n",
       "    .dataframe thead th {\n",
       "        text-align: right;\n",
       "    }\n",
       "</style>\n",
       "<table border=\"1\" class=\"dataframe\">\n",
       "  <thead>\n",
       "    <tr style=\"text-align: right;\">\n",
       "      <th></th>\n",
       "      <th>cc_cvc</th>\n",
       "      <th>remapped_cc_cvc</th>\n",
       "    </tr>\n",
       "  </thead>\n",
       "  <tbody>\n",
       "    <tr>\n",
       "      <th>0</th>\n",
       "      <td>123</td>\n",
       "      <td>0</td>\n",
       "    </tr>\n",
       "    <tr>\n",
       "      <th>1</th>\n",
       "      <td>713</td>\n",
       "      <td>7</td>\n",
       "    </tr>\n",
       "    <tr>\n",
       "      <th>2</th>\n",
       "      <td>258</td>\n",
       "      <td>2</td>\n",
       "    </tr>\n",
       "    <tr>\n",
       "      <th>3</th>\n",
       "      <td>612</td>\n",
       "      <td>6</td>\n",
       "    </tr>\n",
       "    <tr>\n",
       "      <th>4</th>\n",
       "      <td>911</td>\n",
       "      <td>9</td>\n",
       "    </tr>\n",
       "    <tr>\n",
       "      <th>5</th>\n",
       "      <td>232</td>\n",
       "      <td>2</td>\n",
       "    </tr>\n",
       "    <tr>\n",
       "      <th>6</th>\n",
       "      <td>471</td>\n",
       "      <td>4</td>\n",
       "    </tr>\n",
       "    <tr>\n",
       "      <th>7</th>\n",
       "      <td>731</td>\n",
       "      <td>7</td>\n",
       "    </tr>\n",
       "    <tr>\n",
       "      <th>8</th>\n",
       "      <td>892</td>\n",
       "      <td>8</td>\n",
       "    </tr>\n",
       "    <tr>\n",
       "      <th>9</th>\n",
       "      <td>33</td>\n",
       "      <td>0</td>\n",
       "    </tr>\n",
       "  </tbody>\n",
       "</table>\n",
       "</div>"
      ],
      "text/plain": [
       "   cc_cvc  remapped_cc_cvc\n",
       "0     123                0\n",
       "1     713                7\n",
       "2     258                2\n",
       "3     612                6\n",
       "4     911                9\n",
       "5     232                2\n",
       "6     471                4\n",
       "7     731                7\n",
       "8     892                8\n",
       "9      33                0"
      ]
     },
     "execution_count": 23,
     "metadata": {},
     "output_type": "execute_result"
    }
   ],
   "source": [
    "remapped_dataset.to_pandas()[[\"cc_cvc\", \"remapped_cc_cvc\"]][:10]"
   ]
  },
  {
   "cell_type": "code",
   "execution_count": 24,
   "metadata": {
    "ExecuteTime": {
     "end_time": "2024-12-12T22:31:30.934864Z",
     "start_time": "2024-12-12T22:31:30.931082Z"
    },
    "colab": {
     "base_uri": "https://localhost:8080/",
     "height": 363
    },
    "id": "Mp8R7yUwXwEy",
    "outputId": "bc5a9f62-f859-43f7-e92c-9e2e6dbc0855"
   },
   "outputs": [
    {
     "data": {
      "text/html": [
       "<div>\n",
       "<style scoped>\n",
       "    .dataframe tbody tr th:only-of-type {\n",
       "        vertical-align: middle;\n",
       "    }\n",
       "\n",
       "    .dataframe tbody tr th {\n",
       "        vertical-align: top;\n",
       "    }\n",
       "\n",
       "    .dataframe thead th {\n",
       "        text-align: right;\n",
       "    }\n",
       "</style>\n",
       "<table border=\"1\" class=\"dataframe\">\n",
       "  <thead>\n",
       "    <tr style=\"text-align: right;\">\n",
       "      <th></th>\n",
       "      <th>gender</th>\n",
       "      <th>remapped_gender</th>\n",
       "    </tr>\n",
       "  </thead>\n",
       "  <tbody>\n",
       "    <tr>\n",
       "      <th>0</th>\n",
       "      <td>m</td>\n",
       "      <td>Male</td>\n",
       "    </tr>\n",
       "    <tr>\n",
       "      <th>1</th>\n",
       "      <td>f</td>\n",
       "      <td>Female</td>\n",
       "    </tr>\n",
       "    <tr>\n",
       "      <th>2</th>\n",
       "      <td>f</td>\n",
       "      <td>Female</td>\n",
       "    </tr>\n",
       "    <tr>\n",
       "      <th>3</th>\n",
       "      <td>m</td>\n",
       "      <td>Male</td>\n",
       "    </tr>\n",
       "    <tr>\n",
       "      <th>4</th>\n",
       "      <td>m</td>\n",
       "      <td>Male</td>\n",
       "    </tr>\n",
       "    <tr>\n",
       "      <th>5</th>\n",
       "      <td>f</td>\n",
       "      <td>Female</td>\n",
       "    </tr>\n",
       "    <tr>\n",
       "      <th>6</th>\n",
       "      <td>f</td>\n",
       "      <td>Female</td>\n",
       "    </tr>\n",
       "    <tr>\n",
       "      <th>7</th>\n",
       "      <td>m</td>\n",
       "      <td>Male</td>\n",
       "    </tr>\n",
       "    <tr>\n",
       "      <th>8</th>\n",
       "      <td>M</td>\n",
       "      <td>Male</td>\n",
       "    </tr>\n",
       "    <tr>\n",
       "      <th>9</th>\n",
       "      <td>f</td>\n",
       "      <td>Female</td>\n",
       "    </tr>\n",
       "  </tbody>\n",
       "</table>\n",
       "</div>"
      ],
      "text/plain": [
       "  gender remapped_gender\n",
       "0      m            Male\n",
       "1      f          Female\n",
       "2      f          Female\n",
       "3      m            Male\n",
       "4      m            Male\n",
       "5      f          Female\n",
       "6      f          Female\n",
       "7      m            Male\n",
       "8      M            Male\n",
       "9      f          Female"
      ]
     },
     "execution_count": 24,
     "metadata": {},
     "output_type": "execute_result"
    }
   ],
   "source": [
    "remapped_dataset.to_pandas()[[\"gender\", \"remapped_gender\"]][:10]"
   ]
  },
  {
   "cell_type": "markdown",
   "metadata": {
    "id": "nAd0BRh0E56h"
   },
   "source": [
    "# Example 2\n"
   ]
  },
  {
   "cell_type": "markdown",
   "metadata": {
    "id": "iETSwoO_E_AS"
   },
   "source": [
    "Download sample dataset with IP addresses:\n"
   ]
  },
  {
   "cell_type": "code",
   "execution_count": 25,
   "metadata": {
    "ExecuteTime": {
     "end_time": "2024-12-12T22:31:31.238277Z",
     "start_time": "2024-12-12T22:31:30.977207Z"
    },
    "colab": {
     "base_uri": "https://localhost:8080/"
    },
    "id": "Fk1A0ZFUE8a9",
    "outputId": "11914586-cda7-4de0-f9e9-0c639c3507aa"
   },
   "outputs": [
    {
     "name": "stdout",
     "output_type": "stream",
     "text": [
      "  % Total    % Received % Xferd  Average Speed   Time    Time     Time  Current\r\n",
      "                                 Dload  Upload   Total   Spent    Left  Speed\r\n",
      "100  7043  100  7043    0     0  52584      0 --:--:-- --:--:-- --:--:-- 52954\r\n"
     ]
    }
   ],
   "source": [
    "!wget --no-clobber https://docs142.rockfish.ai/tutorials/pcap.csv"
   ]
  },
  {
   "cell_type": "markdown",
   "metadata": {
    "id": "YjN_rYyIGtgn"
   },
   "source": [
    "Convert into Rockfish dataset:\n"
   ]
  },
  {
   "cell_type": "code",
   "execution_count": 26,
   "metadata": {
    "ExecuteTime": {
     "end_time": "2024-12-12T22:31:31.257721Z",
     "start_time": "2024-12-12T22:31:31.255383Z"
    },
    "id": "UWMRz-mBGwSO"
   },
   "outputs": [],
   "source": [
    "dataset = rf.Dataset.from_csv(\"pcap\", \"pcap.csv\")"
   ]
  },
  {
   "cell_type": "markdown",
   "metadata": {
    "id": "3Zlt0ueWG1v6"
   },
   "source": [
    "We can see that this dataset has PII: IP Addresses.\n"
   ]
  },
  {
   "cell_type": "code",
   "execution_count": 27,
   "metadata": {
    "ExecuteTime": {
     "end_time": "2024-12-12T22:31:31.280613Z",
     "start_time": "2024-12-12T22:31:31.275726Z"
    },
    "colab": {
     "base_uri": "https://localhost:8080/",
     "height": 424
    },
    "id": "FkIjrINcG75K",
    "outputId": "50b49a16-e536-4f15-d7dd-484009a39d0c"
   },
   "outputs": [
    {
     "data": {
      "text/html": [
       "<div>\n",
       "<style scoped>\n",
       "    .dataframe tbody tr th:only-of-type {\n",
       "        vertical-align: middle;\n",
       "    }\n",
       "\n",
       "    .dataframe tbody tr th {\n",
       "        vertical-align: top;\n",
       "    }\n",
       "\n",
       "    .dataframe thead th {\n",
       "        text-align: right;\n",
       "    }\n",
       "</style>\n",
       "<table border=\"1\" class=\"dataframe\">\n",
       "  <thead>\n",
       "    <tr style=\"text-align: right;\">\n",
       "      <th></th>\n",
       "      <th>srcip</th>\n",
       "      <th>dstip</th>\n",
       "      <th>srcport</th>\n",
       "      <th>dstport</th>\n",
       "      <th>proto</th>\n",
       "      <th>timestamp</th>\n",
       "      <th>pkt_len</th>\n",
       "    </tr>\n",
       "  </thead>\n",
       "  <tbody>\n",
       "    <tr>\n",
       "      <th>0</th>\n",
       "      <td>244.3.253.224</td>\n",
       "      <td>244.3.160.239</td>\n",
       "      <td>3396</td>\n",
       "      <td>80</td>\n",
       "      <td>6</td>\n",
       "      <td>2009-12-17 16:27:36.075494</td>\n",
       "      <td>40</td>\n",
       "    </tr>\n",
       "    <tr>\n",
       "      <th>1</th>\n",
       "      <td>41.177.26.91</td>\n",
       "      <td>68.157.168.194</td>\n",
       "      <td>80</td>\n",
       "      <td>65003</td>\n",
       "      <td>6</td>\n",
       "      <td>2009-12-17 16:27:36.075515</td>\n",
       "      <td>1500</td>\n",
       "    </tr>\n",
       "    <tr>\n",
       "      <th>2</th>\n",
       "      <td>41.177.26.91</td>\n",
       "      <td>68.157.168.194</td>\n",
       "      <td>80</td>\n",
       "      <td>65003</td>\n",
       "      <td>6</td>\n",
       "      <td>2009-12-17 16:27:36.075519</td>\n",
       "      <td>940</td>\n",
       "    </tr>\n",
       "    <tr>\n",
       "      <th>3</th>\n",
       "      <td>41.177.26.91</td>\n",
       "      <td>68.157.168.194</td>\n",
       "      <td>80</td>\n",
       "      <td>65003</td>\n",
       "      <td>6</td>\n",
       "      <td>2009-12-17 16:27:36.075553</td>\n",
       "      <td>1500</td>\n",
       "    </tr>\n",
       "    <tr>\n",
       "      <th>4</th>\n",
       "      <td>41.177.26.91</td>\n",
       "      <td>68.157.168.194</td>\n",
       "      <td>80</td>\n",
       "      <td>65003</td>\n",
       "      <td>6</td>\n",
       "      <td>2009-12-17 16:27:36.075603</td>\n",
       "      <td>1500</td>\n",
       "    </tr>\n",
       "    <tr>\n",
       "      <th>...</th>\n",
       "      <td>...</td>\n",
       "      <td>...</td>\n",
       "      <td>...</td>\n",
       "      <td>...</td>\n",
       "      <td>...</td>\n",
       "      <td>...</td>\n",
       "      <td>...</td>\n",
       "    </tr>\n",
       "    <tr>\n",
       "      <th>95</th>\n",
       "      <td>68.157.168.194</td>\n",
       "      <td>41.177.26.91</td>\n",
       "      <td>45615</td>\n",
       "      <td>80</td>\n",
       "      <td>6</td>\n",
       "      <td>2009-12-17 16:27:36.099423</td>\n",
       "      <td>60</td>\n",
       "    </tr>\n",
       "    <tr>\n",
       "      <th>96</th>\n",
       "      <td>41.177.26.91</td>\n",
       "      <td>68.157.168.194</td>\n",
       "      <td>80</td>\n",
       "      <td>45615</td>\n",
       "      <td>6</td>\n",
       "      <td>2009-12-17 16:27:36.099891</td>\n",
       "      <td>64</td>\n",
       "    </tr>\n",
       "    <tr>\n",
       "      <th>97</th>\n",
       "      <td>41.177.3.203</td>\n",
       "      <td>41.177.3.224</td>\n",
       "      <td>58381</td>\n",
       "      <td>1791</td>\n",
       "      <td>6</td>\n",
       "      <td>2009-12-17 16:27:36.100508</td>\n",
       "      <td>40</td>\n",
       "    </tr>\n",
       "    <tr>\n",
       "      <th>98</th>\n",
       "      <td>244.3.41.84</td>\n",
       "      <td>244.3.31.67</td>\n",
       "      <td>2626</td>\n",
       "      <td>1592</td>\n",
       "      <td>6</td>\n",
       "      <td>2009-12-17 16:27:36.105025</td>\n",
       "      <td>237</td>\n",
       "    </tr>\n",
       "    <tr>\n",
       "      <th>99</th>\n",
       "      <td>244.3.31.67</td>\n",
       "      <td>244.3.41.84</td>\n",
       "      <td>1592</td>\n",
       "      <td>2626</td>\n",
       "      <td>6</td>\n",
       "      <td>2009-12-17 16:27:36.105664</td>\n",
       "      <td>230</td>\n",
       "    </tr>\n",
       "  </tbody>\n",
       "</table>\n",
       "<p>100 rows × 7 columns</p>\n",
       "</div>"
      ],
      "text/plain": [
       "             srcip           dstip  srcport  dstport  proto  \\\n",
       "0    244.3.253.224   244.3.160.239     3396       80      6   \n",
       "1     41.177.26.91  68.157.168.194       80    65003      6   \n",
       "2     41.177.26.91  68.157.168.194       80    65003      6   \n",
       "3     41.177.26.91  68.157.168.194       80    65003      6   \n",
       "4     41.177.26.91  68.157.168.194       80    65003      6   \n",
       "..             ...             ...      ...      ...    ...   \n",
       "95  68.157.168.194    41.177.26.91    45615       80      6   \n",
       "96    41.177.26.91  68.157.168.194       80    45615      6   \n",
       "97    41.177.3.203    41.177.3.224    58381     1791      6   \n",
       "98     244.3.41.84     244.3.31.67     2626     1592      6   \n",
       "99     244.3.31.67     244.3.41.84     1592     2626      6   \n",
       "\n",
       "                    timestamp  pkt_len  \n",
       "0  2009-12-17 16:27:36.075494       40  \n",
       "1  2009-12-17 16:27:36.075515     1500  \n",
       "2  2009-12-17 16:27:36.075519      940  \n",
       "3  2009-12-17 16:27:36.075553     1500  \n",
       "4  2009-12-17 16:27:36.075603     1500  \n",
       "..                        ...      ...  \n",
       "95 2009-12-17 16:27:36.099423       60  \n",
       "96 2009-12-17 16:27:36.099891       64  \n",
       "97 2009-12-17 16:27:36.100508       40  \n",
       "98 2009-12-17 16:27:36.105025      237  \n",
       "99 2009-12-17 16:27:36.105664      230  \n",
       "\n",
       "[100 rows x 7 columns]"
      ]
     },
     "execution_count": 27,
     "metadata": {},
     "output_type": "execute_result"
    }
   ],
   "source": [
    "dataset.to_pandas()"
   ]
  },
  {
   "cell_type": "markdown",
   "metadata": {
    "id": "7FseSh2CHlcv"
   },
   "source": [
    "## Remapping IP Addresses\n",
    "\n",
    "Replace IP addresses with randomly generated fake IP addresses.\n",
    "\n",
    "- `remap_type`: \"ip\"\n",
    "- `options` to customize the default function if needed:\n",
    "  - `cidr`: A netmask value in [\"/0\", \"/8\", \"/16\", \"/24\"] (default = \"/24\").\n",
    "  - `seed`: Seed for the random generator (default = `None`).\n"
   ]
  },
  {
   "cell_type": "code",
   "execution_count": 28,
   "metadata": {
    "ExecuteTime": {
     "end_time": "2024-12-12T22:31:31.308298Z",
     "start_time": "2024-12-12T22:31:31.306646Z"
    },
    "id": "jWBvjvrSHpRo"
   },
   "outputs": [],
   "source": [
    "remap_type = \"ip\"\n",
    "select_col = \"srcip\"\n",
    "options = None\n",
    "new_remapped_col = \"remapped_srcip\"\n",
    "remap_ip = ra.Apply(\n",
    "    {\n",
    "        \"function\": {\"remap\": [remap_type, select_col, options]},\n",
    "        \"append_field\": new_remapped_col,\n",
    "    }\n",
    ")"
   ]
  },
  {
   "cell_type": "code",
   "execution_count": 29,
   "metadata": {
    "ExecuteTime": {
     "end_time": "2024-12-12T22:31:31.335713Z",
     "start_time": "2024-12-12T22:31:31.334287Z"
    },
    "id": "KspWsqZpINJn"
   },
   "outputs": [],
   "source": [
    "save_remapped = rf.actions.DatasetSave(name=\"remapped_dataset\")"
   ]
  },
  {
   "cell_type": "markdown",
   "metadata": {
    "id": "-_JX33UyIIH_"
   },
   "source": [
    "## Build And Run Workflow\n"
   ]
  },
  {
   "cell_type": "code",
   "execution_count": 30,
   "metadata": {
    "ExecuteTime": {
     "end_time": "2024-12-12T22:31:31.358716Z",
     "start_time": "2024-12-12T22:31:31.357063Z"
    },
    "id": "HQja9RWXIBTq"
   },
   "outputs": [],
   "source": [
    "preprocess_builder = rf.WorkflowBuilder()\n",
    "preprocess_builder.add_dataset(dataset)\n",
    "preprocess_builder.add_action(remap_ip, alias=\"remap_ip\", parents=[dataset])\n",
    "preprocess_builder.add_action(save_remapped, parents=[remap_ip])"
   ]
  },
  {
   "cell_type": "code",
   "execution_count": 31,
   "metadata": {
    "ExecuteTime": {
     "end_time": "2024-12-12T22:31:31.379638Z",
     "start_time": "2024-12-12T22:31:31.377904Z"
    },
    "colab": {
     "base_uri": "https://localhost:8080/"
    },
    "id": "bANy4qSdIaQb",
    "outputId": "7572c60f-cde8-4515-df43-bc008a3e8cbd"
   },
   "outputs": [
    {
     "name": "stdout",
     "output_type": "stream",
     "text": [
      "dataset-load\n",
      "remap_ip\n",
      "dataset-save\n"
     ]
    }
   ],
   "source": [
    "for action in preprocess_builder.actions:\n",
    "    print(action)"
   ]
  },
  {
   "cell_type": "code",
   "execution_count": 32,
   "metadata": {
    "ExecuteTime": {
     "end_time": "2024-12-12T22:31:31.392041Z",
     "start_time": "2024-12-12T22:31:31.389778Z"
    },
    "colab": {
     "base_uri": "https://localhost:8080/"
    },
    "id": "OqNoTGigIbc6",
    "outputId": "17bcd19a-b3f1-4e5c-f5f1-ee3c12799aa4"
   },
   "outputs": [
    {
     "name": "stdout",
     "output_type": "stream",
     "text": [
      "Workflow: 5Cv1ID7yIYm0YjxjFruMwJ\n"
     ]
    }
   ],
   "source": [
    "preprocess_workflow = await preprocess_builder.start(conn)\n",
    "remapped_dataset = None\n",
    "\n",
    "print(f\"Workflow: {preprocess_workflow.id()}\")"
   ]
  },
  {
   "cell_type": "code",
   "execution_count": 33,
   "metadata": {
    "ExecuteTime": {
     "end_time": "2024-12-12T22:31:31.403401Z",
     "start_time": "2024-12-12T22:31:31.401119Z"
    },
    "colab": {
     "base_uri": "https://localhost:8080/"
    },
    "id": "e5YoqmPbIfgn",
    "outputId": "8523be3b-342b-4ebc-b45d-d446a06a9462"
   },
   "outputs": [
    {
     "name": "stdout",
     "output_type": "stream",
     "text": [
      "2024-12-12T22:31:31.395453Z dataset-load: INFO Loading dataset '3sLFNxc4BuoMBZVUFgoLxS' with 100 rows\n",
      "2024-12-12T22:31:31.396429Z dataset-save: WARN No session metadata provided\n",
      "2024-12-12T22:31:31.396649Z dataset-save: INFO Saved dataset '5aiXif7bX42inHUWTtjY62' with 100 rows\n"
     ]
    }
   ],
   "source": [
    "async for log in preprocess_workflow.logs():\n",
    "    print(log)"
   ]
  },
  {
   "cell_type": "code",
   "execution_count": 34,
   "metadata": {
    "ExecuteTime": {
     "end_time": "2024-12-12T22:31:31.440979Z",
     "start_time": "2024-12-12T22:31:31.438638Z"
    },
    "id": "VT2RKWXxJApY"
   },
   "outputs": [],
   "source": [
    "async for sds in preprocess_workflow.datasets():\n",
    "    remapped_dataset = await sds.to_local(conn)"
   ]
  },
  {
   "cell_type": "markdown",
   "metadata": {
    "id": "tKScEqLTIjhy"
   },
   "source": [
    "## Outputs\n"
   ]
  },
  {
   "cell_type": "code",
   "execution_count": 35,
   "metadata": {
    "ExecuteTime": {
     "end_time": "2024-12-12T22:31:31.458444Z",
     "start_time": "2024-12-12T22:31:31.454298Z"
    },
    "colab": {
     "base_uri": "https://localhost:8080/",
     "height": 363
    },
    "id": "Dpck3WPvIlF0",
    "outputId": "6ddb82ed-12eb-477a-dd7b-2df225512c8b"
   },
   "outputs": [
    {
     "data": {
      "text/html": [
       "<div>\n",
       "<style scoped>\n",
       "    .dataframe tbody tr th:only-of-type {\n",
       "        vertical-align: middle;\n",
       "    }\n",
       "\n",
       "    .dataframe tbody tr th {\n",
       "        vertical-align: top;\n",
       "    }\n",
       "\n",
       "    .dataframe thead th {\n",
       "        text-align: right;\n",
       "    }\n",
       "</style>\n",
       "<table border=\"1\" class=\"dataframe\">\n",
       "  <thead>\n",
       "    <tr style=\"text-align: right;\">\n",
       "      <th></th>\n",
       "      <th>srcip</th>\n",
       "      <th>remapped_srcip</th>\n",
       "    </tr>\n",
       "  </thead>\n",
       "  <tbody>\n",
       "    <tr>\n",
       "      <th>0</th>\n",
       "      <td>244.3.253.224</td>\n",
       "      <td>244.3.253.89</td>\n",
       "    </tr>\n",
       "    <tr>\n",
       "      <th>1</th>\n",
       "      <td>41.177.26.91</td>\n",
       "      <td>41.177.26.254</td>\n",
       "    </tr>\n",
       "    <tr>\n",
       "      <th>2</th>\n",
       "      <td>41.177.26.91</td>\n",
       "      <td>41.177.26.254</td>\n",
       "    </tr>\n",
       "    <tr>\n",
       "      <th>3</th>\n",
       "      <td>41.177.26.91</td>\n",
       "      <td>41.177.26.254</td>\n",
       "    </tr>\n",
       "    <tr>\n",
       "      <th>4</th>\n",
       "      <td>41.177.26.91</td>\n",
       "      <td>41.177.26.254</td>\n",
       "    </tr>\n",
       "    <tr>\n",
       "      <th>5</th>\n",
       "      <td>244.3.160.239</td>\n",
       "      <td>244.3.160.125</td>\n",
       "    </tr>\n",
       "    <tr>\n",
       "      <th>6</th>\n",
       "      <td>41.177.26.91</td>\n",
       "      <td>41.177.26.254</td>\n",
       "    </tr>\n",
       "    <tr>\n",
       "      <th>7</th>\n",
       "      <td>41.177.26.91</td>\n",
       "      <td>41.177.26.254</td>\n",
       "    </tr>\n",
       "    <tr>\n",
       "      <th>8</th>\n",
       "      <td>244.3.160.80</td>\n",
       "      <td>244.3.160.168</td>\n",
       "    </tr>\n",
       "    <tr>\n",
       "      <th>9</th>\n",
       "      <td>244.3.160.239</td>\n",
       "      <td>244.3.160.125</td>\n",
       "    </tr>\n",
       "  </tbody>\n",
       "</table>\n",
       "</div>"
      ],
      "text/plain": [
       "           srcip remapped_srcip\n",
       "0  244.3.253.224   244.3.253.89\n",
       "1   41.177.26.91  41.177.26.254\n",
       "2   41.177.26.91  41.177.26.254\n",
       "3   41.177.26.91  41.177.26.254\n",
       "4   41.177.26.91  41.177.26.254\n",
       "5  244.3.160.239  244.3.160.125\n",
       "6   41.177.26.91  41.177.26.254\n",
       "7   41.177.26.91  41.177.26.254\n",
       "8   244.3.160.80  244.3.160.168\n",
       "9  244.3.160.239  244.3.160.125"
      ]
     },
     "execution_count": 35,
     "metadata": {},
     "output_type": "execute_result"
    }
   ],
   "source": [
    "remapped_dataset.to_pandas()[[\"srcip\", \"remapped_srcip\"]][:10]"
   ]
  }
 ],
 "metadata": {
  "colab": {
   "provenance": []
  },
  "kernelspec": {
   "display_name": "colab",
   "language": "python",
   "name": "python3"
  },
  "language_info": {
   "name": "python",
   "version": "3.12.4"
  }
 },
 "nbformat": 4,
 "nbformat_minor": 0
}
