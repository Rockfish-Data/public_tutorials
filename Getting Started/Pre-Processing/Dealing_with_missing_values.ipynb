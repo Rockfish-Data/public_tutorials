{
 "cells": [
  {
   "cell_type": "code",
   "execution_count": 1,
   "metadata": {
    "ExecuteTime": {
     "end_time": "2024-12-12T22:24:26.776841Z",
     "start_time": "2024-12-12T22:24:23.813389Z"
    },
    "id": "77XWYICHBy5A"
   },
   "outputs": [],
   "source": [
    "%%capture\n",
    "%pip install -U 'rockfish[labs]' -f 'https://packages.rockfish.ai'"
   ]
  },
  {
   "cell_type": "code",
   "execution_count": 2,
   "metadata": {
    "ExecuteTime": {
     "end_time": "2024-12-12T22:24:27.285167Z",
     "start_time": "2024-12-12T22:24:26.780773Z"
    },
    "id": "Y4ZunWxA-9qr"
   },
   "outputs": [],
   "source": [
    "import io\n",
    "import rockfish as rf\n",
    "import rockfish.actions as ra"
   ]
  },
  {
   "cell_type": "markdown",
   "metadata": {
    "id": "zXyieApXVTkX"
   },
   "source": [
    "## Fill missing values\n",
    "\n",
    "1. fill by indicated value\n",
    "2. fill by previous value\n",
    "3. fill by next value\n",
    "4. fill by its mean\n",
    "5. fill by its median\n"
   ]
  },
  {
   "cell_type": "code",
   "execution_count": 3,
   "metadata": {
    "ExecuteTime": {
     "end_time": "2024-12-12T22:24:27.344667Z",
     "start_time": "2024-12-12T22:24:27.340793Z"
    },
    "id": "12r2Tdma-9h7"
   },
   "outputs": [],
   "source": [
    "# create a dataset with missing value\n",
    "data = b\"\"\"\\\n",
    "a,b,c\n",
    "1,2,3\n",
    "4,5,6\n",
    ",7,8\n",
    "9,0,1\n",
    "\"\"\"\n",
    "\n",
    "dataset = rf.Dataset.from_csv(\"nulls\", io.BytesIO(data))"
   ]
  },
  {
   "cell_type": "markdown",
   "metadata": {
    "id": "_2_VuqoUGMxv"
   },
   "source": [
    "### 1. fill missing values by the indicated value\n"
   ]
  },
  {
   "cell_type": "code",
   "execution_count": 4,
   "metadata": {
    "ExecuteTime": {
     "end_time": "2024-12-12T22:24:27.356739Z",
     "start_time": "2024-12-12T22:24:27.349999Z"
    },
    "colab": {
     "base_uri": "https://localhost:8080/",
     "height": 175
    },
    "id": "T9cfTBQ4Vqyo",
    "outputId": "eec5edcd-a27a-462a-cceb-2a6779dccdb1"
   },
   "outputs": [
    {
     "data": {
      "text/html": [
       "<div>\n",
       "<style scoped>\n",
       "    .dataframe tbody tr th:only-of-type {\n",
       "        vertical-align: middle;\n",
       "    }\n",
       "\n",
       "    .dataframe tbody tr th {\n",
       "        vertical-align: top;\n",
       "    }\n",
       "\n",
       "    .dataframe thead th {\n",
       "        text-align: right;\n",
       "    }\n",
       "</style>\n",
       "<table border=\"1\" class=\"dataframe\">\n",
       "  <thead>\n",
       "    <tr style=\"text-align: right;\">\n",
       "      <th></th>\n",
       "      <th>a</th>\n",
       "      <th>b</th>\n",
       "      <th>c</th>\n",
       "    </tr>\n",
       "  </thead>\n",
       "  <tbody>\n",
       "    <tr>\n",
       "      <th>0</th>\n",
       "      <td>1.0</td>\n",
       "      <td>2</td>\n",
       "      <td>3</td>\n",
       "    </tr>\n",
       "    <tr>\n",
       "      <th>1</th>\n",
       "      <td>4.0</td>\n",
       "      <td>5</td>\n",
       "      <td>6</td>\n",
       "    </tr>\n",
       "    <tr>\n",
       "      <th>2</th>\n",
       "      <td>NaN</td>\n",
       "      <td>7</td>\n",
       "      <td>8</td>\n",
       "    </tr>\n",
       "    <tr>\n",
       "      <th>3</th>\n",
       "      <td>9.0</td>\n",
       "      <td>0</td>\n",
       "      <td>1</td>\n",
       "    </tr>\n",
       "  </tbody>\n",
       "</table>\n",
       "</div>"
      ],
      "text/plain": [
       "     a  b  c\n",
       "0  1.0  2  3\n",
       "1  4.0  5  6\n",
       "2  NaN  7  8\n",
       "3  9.0  0  1"
      ]
     },
     "execution_count": 4,
     "metadata": {},
     "output_type": "execute_result"
    }
   ],
   "source": [
    "dataset.to_pandas()"
   ]
  },
  {
   "cell_type": "code",
   "execution_count": 5,
   "metadata": {
    "ExecuteTime": {
     "end_time": "2024-12-12T22:24:27.375102Z",
     "start_time": "2024-12-12T22:24:27.373538Z"
    },
    "id": "Gy8nB7WxT5Pf"
   },
   "outputs": [],
   "source": [
    "conn = rf.Connection.local()"
   ]
  },
  {
   "cell_type": "code",
   "execution_count": 6,
   "metadata": {
    "ExecuteTime": {
     "end_time": "2024-12-12T22:24:27.395260Z",
     "start_time": "2024-12-12T22:24:27.393432Z"
    },
    "id": "zMM7N7foH8_M"
   },
   "outputs": [],
   "source": [
    "fill_value = 42\n",
    "fill_col = \"a\"\n",
    "fill_null = ra.Transform({\"function\": {\"fill_null\": [fill_col, fill_value]}})"
   ]
  },
  {
   "cell_type": "code",
   "execution_count": 7,
   "metadata": {
    "ExecuteTime": {
     "end_time": "2024-12-12T22:24:27.409350Z",
     "start_time": "2024-12-12T22:24:27.406858Z"
    },
    "colab": {
     "base_uri": "https://localhost:8080/"
    },
    "id": "EBlEpkADH84S",
    "outputId": "b879d5b8-4851-456d-a09d-027bc9a5eb32"
   },
   "outputs": [
    {
     "name": "stdout",
     "output_type": "stream",
     "text": [
      "Workflow: cOtEvoT4aB5ixLjlMDOCE\n"
     ]
    }
   ],
   "source": [
    "save = rf.actions.DatasetSave(name=\"fill_value_dataset\")\n",
    "builder = rf.WorkflowBuilder()\n",
    "builder.add_dataset(dataset)\n",
    "builder.add_action(fill_null, parents=[dataset])\n",
    "builder.add_action(save, parents=[fill_null])\n",
    "workflow = await builder.start(conn)\n",
    "print(f\"Workflow: {workflow.id()}\")"
   ]
  },
  {
   "cell_type": "code",
   "execution_count": 8,
   "metadata": {
    "ExecuteTime": {
     "end_time": "2024-12-12T22:24:27.436846Z",
     "start_time": "2024-12-12T22:24:27.432386Z"
    },
    "colab": {
     "base_uri": "https://localhost:8080/",
     "height": 175
    },
    "id": "Hfs7CX7qH8xI",
    "outputId": "1020564c-f87b-4749-e350-bc98914978a2"
   },
   "outputs": [
    {
     "data": {
      "text/html": [
       "<div>\n",
       "<style scoped>\n",
       "    .dataframe tbody tr th:only-of-type {\n",
       "        vertical-align: middle;\n",
       "    }\n",
       "\n",
       "    .dataframe tbody tr th {\n",
       "        vertical-align: top;\n",
       "    }\n",
       "\n",
       "    .dataframe thead th {\n",
       "        text-align: right;\n",
       "    }\n",
       "</style>\n",
       "<table border=\"1\" class=\"dataframe\">\n",
       "  <thead>\n",
       "    <tr style=\"text-align: right;\">\n",
       "      <th></th>\n",
       "      <th>a</th>\n",
       "      <th>b</th>\n",
       "      <th>c</th>\n",
       "    </tr>\n",
       "  </thead>\n",
       "  <tbody>\n",
       "    <tr>\n",
       "      <th>0</th>\n",
       "      <td>1</td>\n",
       "      <td>2</td>\n",
       "      <td>3</td>\n",
       "    </tr>\n",
       "    <tr>\n",
       "      <th>1</th>\n",
       "      <td>4</td>\n",
       "      <td>5</td>\n",
       "      <td>6</td>\n",
       "    </tr>\n",
       "    <tr>\n",
       "      <th>2</th>\n",
       "      <td>42</td>\n",
       "      <td>7</td>\n",
       "      <td>8</td>\n",
       "    </tr>\n",
       "    <tr>\n",
       "      <th>3</th>\n",
       "      <td>9</td>\n",
       "      <td>0</td>\n",
       "      <td>1</td>\n",
       "    </tr>\n",
       "  </tbody>\n",
       "</table>\n",
       "</div>"
      ],
      "text/plain": [
       "    a  b  c\n",
       "0   1  2  3\n",
       "1   4  5  6\n",
       "2  42  7  8\n",
       "3   9  0  1"
      ]
     },
     "execution_count": 8,
     "metadata": {},
     "output_type": "execute_result"
    }
   ],
   "source": [
    "new_dataset = None\n",
    "async for sds in workflow.datasets():\n",
    "    new_dataset = await sds.to_local(conn)\n",
    "new_dataset.to_pandas()"
   ]
  },
  {
   "cell_type": "markdown",
   "metadata": {
    "id": "ZgZ2UbdLR-sY"
   },
   "source": [
    "### 2. fill missing values by its previous value in that column\n"
   ]
  },
  {
   "cell_type": "code",
   "execution_count": 9,
   "metadata": {
    "ExecuteTime": {
     "end_time": "2024-12-12T22:24:27.457914Z",
     "start_time": "2024-12-12T22:24:27.454379Z"
    },
    "colab": {
     "base_uri": "https://localhost:8080/",
     "height": 175
    },
    "id": "RzIMV_D1SBC5",
    "outputId": "2961dc1f-9e2a-437e-9566-ae1e34a72a11"
   },
   "outputs": [
    {
     "data": {
      "text/html": [
       "<div>\n",
       "<style scoped>\n",
       "    .dataframe tbody tr th:only-of-type {\n",
       "        vertical-align: middle;\n",
       "    }\n",
       "\n",
       "    .dataframe tbody tr th {\n",
       "        vertical-align: top;\n",
       "    }\n",
       "\n",
       "    .dataframe thead th {\n",
       "        text-align: right;\n",
       "    }\n",
       "</style>\n",
       "<table border=\"1\" class=\"dataframe\">\n",
       "  <thead>\n",
       "    <tr style=\"text-align: right;\">\n",
       "      <th></th>\n",
       "      <th>a</th>\n",
       "      <th>b</th>\n",
       "      <th>c</th>\n",
       "    </tr>\n",
       "  </thead>\n",
       "  <tbody>\n",
       "    <tr>\n",
       "      <th>0</th>\n",
       "      <td>1.0</td>\n",
       "      <td>2</td>\n",
       "      <td>3</td>\n",
       "    </tr>\n",
       "    <tr>\n",
       "      <th>1</th>\n",
       "      <td>4.0</td>\n",
       "      <td>5</td>\n",
       "      <td>6</td>\n",
       "    </tr>\n",
       "    <tr>\n",
       "      <th>2</th>\n",
       "      <td>NaN</td>\n",
       "      <td>7</td>\n",
       "      <td>8</td>\n",
       "    </tr>\n",
       "    <tr>\n",
       "      <th>3</th>\n",
       "      <td>9.0</td>\n",
       "      <td>0</td>\n",
       "      <td>1</td>\n",
       "    </tr>\n",
       "  </tbody>\n",
       "</table>\n",
       "</div>"
      ],
      "text/plain": [
       "     a  b  c\n",
       "0  1.0  2  3\n",
       "1  4.0  5  6\n",
       "2  NaN  7  8\n",
       "3  9.0  0  1"
      ]
     },
     "execution_count": 9,
     "metadata": {},
     "output_type": "execute_result"
    }
   ],
   "source": [
    "dataset.to_pandas()"
   ]
  },
  {
   "cell_type": "code",
   "execution_count": 10,
   "metadata": {
    "ExecuteTime": {
     "end_time": "2024-12-12T22:24:27.504478Z",
     "start_time": "2024-12-12T22:24:27.502833Z"
    },
    "id": "eEzT3_xqSA4X"
   },
   "outputs": [],
   "source": [
    "fill_col = \"a\"\n",
    "fill_null = ra.Transform({\"function\": {\"fill_null_forward\": [fill_col]}})"
   ]
  },
  {
   "cell_type": "code",
   "execution_count": 11,
   "metadata": {
    "ExecuteTime": {
     "end_time": "2024-12-12T22:24:27.542740Z",
     "start_time": "2024-12-12T22:24:27.540154Z"
    },
    "colab": {
     "base_uri": "https://localhost:8080/"
    },
    "id": "4WP8rO1bSAgo",
    "outputId": "d4a478de-1b75-4578-86fc-86052ee83002"
   },
   "outputs": [
    {
     "name": "stdout",
     "output_type": "stream",
     "text": [
      "Workflow: 3USVaEkOy0kNNeUa9MXnal\n"
     ]
    }
   ],
   "source": [
    "save = rf.actions.DatasetSave(name=\"fill_null_forward_dataset\")\n",
    "builder = rf.WorkflowBuilder()\n",
    "builder.add_dataset(dataset)\n",
    "builder.add_action(fill_null, parents=[dataset])\n",
    "builder.add_action(save, parents=[fill_null])\n",
    "workflow = await builder.start(conn)\n",
    "print(f\"Workflow: {workflow.id()}\")"
   ]
  },
  {
   "cell_type": "code",
   "execution_count": 12,
   "metadata": {
    "ExecuteTime": {
     "end_time": "2024-12-12T22:24:27.572456Z",
     "start_time": "2024-12-12T22:24:27.568197Z"
    },
    "colab": {
     "base_uri": "https://localhost:8080/",
     "height": 175
    },
    "id": "Xwkf78WASIgn",
    "outputId": "7d1ccc03-41c9-4761-d225-3beb596c3bdd"
   },
   "outputs": [
    {
     "data": {
      "text/html": [
       "<div>\n",
       "<style scoped>\n",
       "    .dataframe tbody tr th:only-of-type {\n",
       "        vertical-align: middle;\n",
       "    }\n",
       "\n",
       "    .dataframe tbody tr th {\n",
       "        vertical-align: top;\n",
       "    }\n",
       "\n",
       "    .dataframe thead th {\n",
       "        text-align: right;\n",
       "    }\n",
       "</style>\n",
       "<table border=\"1\" class=\"dataframe\">\n",
       "  <thead>\n",
       "    <tr style=\"text-align: right;\">\n",
       "      <th></th>\n",
       "      <th>a</th>\n",
       "      <th>b</th>\n",
       "      <th>c</th>\n",
       "    </tr>\n",
       "  </thead>\n",
       "  <tbody>\n",
       "    <tr>\n",
       "      <th>0</th>\n",
       "      <td>1</td>\n",
       "      <td>2</td>\n",
       "      <td>3</td>\n",
       "    </tr>\n",
       "    <tr>\n",
       "      <th>1</th>\n",
       "      <td>4</td>\n",
       "      <td>5</td>\n",
       "      <td>6</td>\n",
       "    </tr>\n",
       "    <tr>\n",
       "      <th>2</th>\n",
       "      <td>4</td>\n",
       "      <td>7</td>\n",
       "      <td>8</td>\n",
       "    </tr>\n",
       "    <tr>\n",
       "      <th>3</th>\n",
       "      <td>9</td>\n",
       "      <td>0</td>\n",
       "      <td>1</td>\n",
       "    </tr>\n",
       "  </tbody>\n",
       "</table>\n",
       "</div>"
      ],
      "text/plain": [
       "   a  b  c\n",
       "0  1  2  3\n",
       "1  4  5  6\n",
       "2  4  7  8\n",
       "3  9  0  1"
      ]
     },
     "execution_count": 12,
     "metadata": {},
     "output_type": "execute_result"
    }
   ],
   "source": [
    "new_dataset = None\n",
    "async for sds in workflow.datasets():\n",
    "    new_dataset = await sds.to_local(conn)\n",
    "new_dataset.to_pandas()"
   ]
  },
  {
   "cell_type": "markdown",
   "metadata": {
    "id": "tx4lV8FZKdGJ"
   },
   "source": [
    "### 3. fill missing values by its next value in that column\n"
   ]
  },
  {
   "cell_type": "code",
   "execution_count": 13,
   "metadata": {
    "ExecuteTime": {
     "end_time": "2024-12-12T22:24:27.599378Z",
     "start_time": "2024-12-12T22:24:27.595763Z"
    },
    "colab": {
     "base_uri": "https://localhost:8080/",
     "height": 175
    },
    "id": "bOb83reMJ1E6",
    "outputId": "1dc5917f-b6e1-4769-fd25-fec6325803be"
   },
   "outputs": [
    {
     "data": {
      "text/html": [
       "<div>\n",
       "<style scoped>\n",
       "    .dataframe tbody tr th:only-of-type {\n",
       "        vertical-align: middle;\n",
       "    }\n",
       "\n",
       "    .dataframe tbody tr th {\n",
       "        vertical-align: top;\n",
       "    }\n",
       "\n",
       "    .dataframe thead th {\n",
       "        text-align: right;\n",
       "    }\n",
       "</style>\n",
       "<table border=\"1\" class=\"dataframe\">\n",
       "  <thead>\n",
       "    <tr style=\"text-align: right;\">\n",
       "      <th></th>\n",
       "      <th>a</th>\n",
       "      <th>b</th>\n",
       "      <th>c</th>\n",
       "    </tr>\n",
       "  </thead>\n",
       "  <tbody>\n",
       "    <tr>\n",
       "      <th>0</th>\n",
       "      <td>1.0</td>\n",
       "      <td>2</td>\n",
       "      <td>3</td>\n",
       "    </tr>\n",
       "    <tr>\n",
       "      <th>1</th>\n",
       "      <td>4.0</td>\n",
       "      <td>5</td>\n",
       "      <td>6</td>\n",
       "    </tr>\n",
       "    <tr>\n",
       "      <th>2</th>\n",
       "      <td>NaN</td>\n",
       "      <td>7</td>\n",
       "      <td>8</td>\n",
       "    </tr>\n",
       "    <tr>\n",
       "      <th>3</th>\n",
       "      <td>9.0</td>\n",
       "      <td>0</td>\n",
       "      <td>1</td>\n",
       "    </tr>\n",
       "  </tbody>\n",
       "</table>\n",
       "</div>"
      ],
      "text/plain": [
       "     a  b  c\n",
       "0  1.0  2  3\n",
       "1  4.0  5  6\n",
       "2  NaN  7  8\n",
       "3  9.0  0  1"
      ]
     },
     "execution_count": 13,
     "metadata": {},
     "output_type": "execute_result"
    }
   ],
   "source": [
    "dataset.to_pandas()"
   ]
  },
  {
   "cell_type": "code",
   "execution_count": 14,
   "metadata": {
    "ExecuteTime": {
     "end_time": "2024-12-12T22:24:27.654136Z",
     "start_time": "2024-12-12T22:24:27.652570Z"
    },
    "id": "FTFD7p3KJ1B5"
   },
   "outputs": [],
   "source": [
    "fill_col = \"a\"\n",
    "fill_null = ra.Transform({\"function\": {\"fill_null_backward\": [fill_col]}})"
   ]
  },
  {
   "cell_type": "code",
   "execution_count": 15,
   "metadata": {
    "ExecuteTime": {
     "end_time": "2024-12-12T22:24:27.687173Z",
     "start_time": "2024-12-12T22:24:27.685024Z"
    },
    "colab": {
     "base_uri": "https://localhost:8080/"
    },
    "id": "PXFmpuy0J0_x",
    "outputId": "763d5126-59d1-4354-a6dd-4c284db69ac0"
   },
   "outputs": [
    {
     "name": "stdout",
     "output_type": "stream",
     "text": [
      "Workflow: 717OORsuUnzlnl0Y1VISpU\n"
     ]
    }
   ],
   "source": [
    "save = rf.actions.DatasetSave(name=\"fill_null_backward_dataset\")\n",
    "builder = rf.WorkflowBuilder()\n",
    "builder.add_dataset(dataset)\n",
    "builder.add_action(fill_null, parents=[dataset])\n",
    "builder.add_action(save, parents=[fill_null])\n",
    "workflow = await builder.start(conn)\n",
    "print(f\"Workflow: {workflow.id()}\")"
   ]
  },
  {
   "cell_type": "code",
   "execution_count": 16,
   "metadata": {
    "ExecuteTime": {
     "end_time": "2024-12-12T22:24:27.717094Z",
     "start_time": "2024-12-12T22:24:27.712451Z"
    },
    "colab": {
     "base_uri": "https://localhost:8080/",
     "height": 175
    },
    "id": "PEs4EkfFJ09J",
    "outputId": "dfcfbc71-8456-4cfb-fe33-1ee255fc06d6"
   },
   "outputs": [
    {
     "data": {
      "text/html": [
       "<div>\n",
       "<style scoped>\n",
       "    .dataframe tbody tr th:only-of-type {\n",
       "        vertical-align: middle;\n",
       "    }\n",
       "\n",
       "    .dataframe tbody tr th {\n",
       "        vertical-align: top;\n",
       "    }\n",
       "\n",
       "    .dataframe thead th {\n",
       "        text-align: right;\n",
       "    }\n",
       "</style>\n",
       "<table border=\"1\" class=\"dataframe\">\n",
       "  <thead>\n",
       "    <tr style=\"text-align: right;\">\n",
       "      <th></th>\n",
       "      <th>a</th>\n",
       "      <th>b</th>\n",
       "      <th>c</th>\n",
       "    </tr>\n",
       "  </thead>\n",
       "  <tbody>\n",
       "    <tr>\n",
       "      <th>0</th>\n",
       "      <td>1</td>\n",
       "      <td>2</td>\n",
       "      <td>3</td>\n",
       "    </tr>\n",
       "    <tr>\n",
       "      <th>1</th>\n",
       "      <td>4</td>\n",
       "      <td>5</td>\n",
       "      <td>6</td>\n",
       "    </tr>\n",
       "    <tr>\n",
       "      <th>2</th>\n",
       "      <td>9</td>\n",
       "      <td>7</td>\n",
       "      <td>8</td>\n",
       "    </tr>\n",
       "    <tr>\n",
       "      <th>3</th>\n",
       "      <td>9</td>\n",
       "      <td>0</td>\n",
       "      <td>1</td>\n",
       "    </tr>\n",
       "  </tbody>\n",
       "</table>\n",
       "</div>"
      ],
      "text/plain": [
       "   a  b  c\n",
       "0  1  2  3\n",
       "1  4  5  6\n",
       "2  9  7  8\n",
       "3  9  0  1"
      ]
     },
     "execution_count": 16,
     "metadata": {},
     "output_type": "execute_result"
    }
   ],
   "source": [
    "new_dataset = None\n",
    "async for sds in workflow.datasets():\n",
    "    new_dataset = await sds.to_local(conn)\n",
    "new_dataset.to_pandas()"
   ]
  },
  {
   "cell_type": "markdown",
   "metadata": {
    "id": "kWlVxdr-PxhF"
   },
   "source": [
    "### 4. fill missing values by its mean value in that column\n"
   ]
  },
  {
   "cell_type": "code",
   "execution_count": 17,
   "metadata": {
    "ExecuteTime": {
     "end_time": "2024-12-12T22:24:27.737581Z",
     "start_time": "2024-12-12T22:24:27.734080Z"
    },
    "colab": {
     "base_uri": "https://localhost:8080/",
     "height": 175
    },
    "id": "eST5gc8QJ06Z",
    "outputId": "158a88a1-c00e-4163-9d60-128da6e2abf4"
   },
   "outputs": [
    {
     "data": {
      "text/html": [
       "<div>\n",
       "<style scoped>\n",
       "    .dataframe tbody tr th:only-of-type {\n",
       "        vertical-align: middle;\n",
       "    }\n",
       "\n",
       "    .dataframe tbody tr th {\n",
       "        vertical-align: top;\n",
       "    }\n",
       "\n",
       "    .dataframe thead th {\n",
       "        text-align: right;\n",
       "    }\n",
       "</style>\n",
       "<table border=\"1\" class=\"dataframe\">\n",
       "  <thead>\n",
       "    <tr style=\"text-align: right;\">\n",
       "      <th></th>\n",
       "      <th>a</th>\n",
       "      <th>b</th>\n",
       "      <th>c</th>\n",
       "    </tr>\n",
       "  </thead>\n",
       "  <tbody>\n",
       "    <tr>\n",
       "      <th>0</th>\n",
       "      <td>1.0</td>\n",
       "      <td>2</td>\n",
       "      <td>3</td>\n",
       "    </tr>\n",
       "    <tr>\n",
       "      <th>1</th>\n",
       "      <td>4.0</td>\n",
       "      <td>5</td>\n",
       "      <td>6</td>\n",
       "    </tr>\n",
       "    <tr>\n",
       "      <th>2</th>\n",
       "      <td>NaN</td>\n",
       "      <td>7</td>\n",
       "      <td>8</td>\n",
       "    </tr>\n",
       "    <tr>\n",
       "      <th>3</th>\n",
       "      <td>9.0</td>\n",
       "      <td>0</td>\n",
       "      <td>1</td>\n",
       "    </tr>\n",
       "  </tbody>\n",
       "</table>\n",
       "</div>"
      ],
      "text/plain": [
       "     a  b  c\n",
       "0  1.0  2  3\n",
       "1  4.0  5  6\n",
       "2  NaN  7  8\n",
       "3  9.0  0  1"
      ]
     },
     "execution_count": 17,
     "metadata": {},
     "output_type": "execute_result"
    }
   ],
   "source": [
    "dataset.to_pandas()"
   ]
  },
  {
   "cell_type": "code",
   "execution_count": 18,
   "metadata": {
    "ExecuteTime": {
     "end_time": "2024-12-12T22:24:27.766878Z",
     "start_time": "2024-12-12T22:24:27.765193Z"
    },
    "id": "nDsd-vIxJ034"
   },
   "outputs": [],
   "source": [
    "fill_col = \"a\"\n",
    "fill_method = \"mean\"\n",
    "fill_null = ra.Transform(\n",
    "    {\"function\": {\"fill_null_aggregation\": [fill_col, fill_method]}}\n",
    ")"
   ]
  },
  {
   "cell_type": "code",
   "execution_count": 19,
   "metadata": {
    "ExecuteTime": {
     "end_time": "2024-12-12T22:24:27.797106Z",
     "start_time": "2024-12-12T22:24:27.794688Z"
    },
    "colab": {
     "base_uri": "https://localhost:8080/"
    },
    "id": "gfrNyuYqJ01S",
    "outputId": "d5fb3f5c-6d09-46d0-e44c-4c0e95f6e60c"
   },
   "outputs": [
    {
     "name": "stdout",
     "output_type": "stream",
     "text": [
      "Workflow: 4IoO4dcVkYKrtenA6abffn\n"
     ]
    }
   ],
   "source": [
    "save = rf.actions.DatasetSave(name=\"fill_mean_dataset\")\n",
    "builder = rf.WorkflowBuilder()\n",
    "builder.add_dataset(dataset)\n",
    "builder.add_action(fill_null, parents=[dataset])\n",
    "builder.add_action(save, parents=[fill_null])\n",
    "workflow = await builder.start(conn)\n",
    "print(f\"Workflow: {workflow.id()}\")"
   ]
  },
  {
   "cell_type": "code",
   "execution_count": 20,
   "metadata": {
    "ExecuteTime": {
     "end_time": "2024-12-12T22:24:27.829567Z",
     "start_time": "2024-12-12T22:24:27.825444Z"
    },
    "colab": {
     "base_uri": "https://localhost:8080/",
     "height": 175
    },
    "id": "DUYfDtwjJ0yt",
    "outputId": "0ba38739-1848-4bd3-d745-78f46d58c70d"
   },
   "outputs": [
    {
     "data": {
      "text/html": [
       "<div>\n",
       "<style scoped>\n",
       "    .dataframe tbody tr th:only-of-type {\n",
       "        vertical-align: middle;\n",
       "    }\n",
       "\n",
       "    .dataframe tbody tr th {\n",
       "        vertical-align: top;\n",
       "    }\n",
       "\n",
       "    .dataframe thead th {\n",
       "        text-align: right;\n",
       "    }\n",
       "</style>\n",
       "<table border=\"1\" class=\"dataframe\">\n",
       "  <thead>\n",
       "    <tr style=\"text-align: right;\">\n",
       "      <th></th>\n",
       "      <th>a</th>\n",
       "      <th>b</th>\n",
       "      <th>c</th>\n",
       "    </tr>\n",
       "  </thead>\n",
       "  <tbody>\n",
       "    <tr>\n",
       "      <th>0</th>\n",
       "      <td>1.000000</td>\n",
       "      <td>2</td>\n",
       "      <td>3</td>\n",
       "    </tr>\n",
       "    <tr>\n",
       "      <th>1</th>\n",
       "      <td>4.000000</td>\n",
       "      <td>5</td>\n",
       "      <td>6</td>\n",
       "    </tr>\n",
       "    <tr>\n",
       "      <th>2</th>\n",
       "      <td>4.666667</td>\n",
       "      <td>7</td>\n",
       "      <td>8</td>\n",
       "    </tr>\n",
       "    <tr>\n",
       "      <th>3</th>\n",
       "      <td>9.000000</td>\n",
       "      <td>0</td>\n",
       "      <td>1</td>\n",
       "    </tr>\n",
       "  </tbody>\n",
       "</table>\n",
       "</div>"
      ],
      "text/plain": [
       "          a  b  c\n",
       "0  1.000000  2  3\n",
       "1  4.000000  5  6\n",
       "2  4.666667  7  8\n",
       "3  9.000000  0  1"
      ]
     },
     "execution_count": 20,
     "metadata": {},
     "output_type": "execute_result"
    }
   ],
   "source": [
    "new_dataset = None\n",
    "async for sds in workflow.datasets():\n",
    "    new_dataset = await sds.to_local(conn)\n",
    "new_dataset.to_pandas()"
   ]
  },
  {
   "cell_type": "markdown",
   "metadata": {
    "id": "AslotMEGQT-R"
   },
   "source": [
    "### 5. fill missing values by its median value in that column\n"
   ]
  },
  {
   "cell_type": "code",
   "execution_count": 21,
   "metadata": {
    "ExecuteTime": {
     "end_time": "2024-12-12T22:24:27.869260Z",
     "start_time": "2024-12-12T22:24:27.865561Z"
    },
    "colab": {
     "base_uri": "https://localhost:8080/",
     "height": 175
    },
    "id": "V87_OqHTQJsH",
    "outputId": "02bb70ce-eafc-4629-d7db-30c25c0d1374"
   },
   "outputs": [
    {
     "data": {
      "text/html": [
       "<div>\n",
       "<style scoped>\n",
       "    .dataframe tbody tr th:only-of-type {\n",
       "        vertical-align: middle;\n",
       "    }\n",
       "\n",
       "    .dataframe tbody tr th {\n",
       "        vertical-align: top;\n",
       "    }\n",
       "\n",
       "    .dataframe thead th {\n",
       "        text-align: right;\n",
       "    }\n",
       "</style>\n",
       "<table border=\"1\" class=\"dataframe\">\n",
       "  <thead>\n",
       "    <tr style=\"text-align: right;\">\n",
       "      <th></th>\n",
       "      <th>a</th>\n",
       "      <th>b</th>\n",
       "      <th>c</th>\n",
       "    </tr>\n",
       "  </thead>\n",
       "  <tbody>\n",
       "    <tr>\n",
       "      <th>0</th>\n",
       "      <td>1.0</td>\n",
       "      <td>2</td>\n",
       "      <td>3</td>\n",
       "    </tr>\n",
       "    <tr>\n",
       "      <th>1</th>\n",
       "      <td>4.0</td>\n",
       "      <td>5</td>\n",
       "      <td>6</td>\n",
       "    </tr>\n",
       "    <tr>\n",
       "      <th>2</th>\n",
       "      <td>NaN</td>\n",
       "      <td>7</td>\n",
       "      <td>8</td>\n",
       "    </tr>\n",
       "    <tr>\n",
       "      <th>3</th>\n",
       "      <td>9.0</td>\n",
       "      <td>0</td>\n",
       "      <td>1</td>\n",
       "    </tr>\n",
       "  </tbody>\n",
       "</table>\n",
       "</div>"
      ],
      "text/plain": [
       "     a  b  c\n",
       "0  1.0  2  3\n",
       "1  4.0  5  6\n",
       "2  NaN  7  8\n",
       "3  9.0  0  1"
      ]
     },
     "execution_count": 21,
     "metadata": {},
     "output_type": "execute_result"
    }
   ],
   "source": [
    "dataset.to_pandas()"
   ]
  },
  {
   "cell_type": "code",
   "execution_count": 22,
   "metadata": {
    "ExecuteTime": {
     "end_time": "2024-12-12T22:24:27.900483Z",
     "start_time": "2024-12-12T22:24:27.898812Z"
    },
    "id": "L-IRNZrnRF5p"
   },
   "outputs": [],
   "source": [
    "fill_col = \"a\"\n",
    "fill_method = \"median\"\n",
    "fill_null = ra.Transform(\n",
    "    {\"function\": {\"fill_null_aggregation\": [fill_col, fill_method]}}\n",
    ")"
   ]
  },
  {
   "cell_type": "code",
   "execution_count": 23,
   "metadata": {
    "ExecuteTime": {
     "end_time": "2024-12-12T22:24:27.936110Z",
     "start_time": "2024-12-12T22:24:27.934008Z"
    },
    "colab": {
     "base_uri": "https://localhost:8080/"
    },
    "id": "IoDLCrFzRF2_",
    "outputId": "07c5cc9e-74ed-4429-d43c-6550713512bf"
   },
   "outputs": [
    {
     "name": "stdout",
     "output_type": "stream",
     "text": [
      "Workflow: 4dAopcf3e255mUimHIuBtH\n"
     ]
    }
   ],
   "source": [
    "save = rf.actions.DatasetSave(name=\"fill_median_dataset\")\n",
    "builder = rf.WorkflowBuilder()\n",
    "builder.add_dataset(dataset)\n",
    "builder.add_action(fill_null, parents=[dataset])\n",
    "builder.add_action(save, parents=[fill_null])\n",
    "workflow = await builder.start(conn)\n",
    "print(f\"Workflow: {workflow.id()}\")"
   ]
  },
  {
   "cell_type": "code",
   "execution_count": 24,
   "metadata": {
    "ExecuteTime": {
     "end_time": "2024-12-12T22:24:27.978619Z",
     "start_time": "2024-12-12T22:24:27.974168Z"
    },
    "colab": {
     "base_uri": "https://localhost:8080/",
     "height": 175
    },
    "id": "A0iNxT0QRFuu",
    "outputId": "e959ee41-eb15-4a9b-9164-85e743f4f87c"
   },
   "outputs": [
    {
     "data": {
      "text/html": [
       "<div>\n",
       "<style scoped>\n",
       "    .dataframe tbody tr th:only-of-type {\n",
       "        vertical-align: middle;\n",
       "    }\n",
       "\n",
       "    .dataframe tbody tr th {\n",
       "        vertical-align: top;\n",
       "    }\n",
       "\n",
       "    .dataframe thead th {\n",
       "        text-align: right;\n",
       "    }\n",
       "</style>\n",
       "<table border=\"1\" class=\"dataframe\">\n",
       "  <thead>\n",
       "    <tr style=\"text-align: right;\">\n",
       "      <th></th>\n",
       "      <th>a</th>\n",
       "      <th>b</th>\n",
       "      <th>c</th>\n",
       "    </tr>\n",
       "  </thead>\n",
       "  <tbody>\n",
       "    <tr>\n",
       "      <th>0</th>\n",
       "      <td>1.0</td>\n",
       "      <td>2</td>\n",
       "      <td>3</td>\n",
       "    </tr>\n",
       "    <tr>\n",
       "      <th>1</th>\n",
       "      <td>4.0</td>\n",
       "      <td>5</td>\n",
       "      <td>6</td>\n",
       "    </tr>\n",
       "    <tr>\n",
       "      <th>2</th>\n",
       "      <td>4.0</td>\n",
       "      <td>7</td>\n",
       "      <td>8</td>\n",
       "    </tr>\n",
       "    <tr>\n",
       "      <th>3</th>\n",
       "      <td>9.0</td>\n",
       "      <td>0</td>\n",
       "      <td>1</td>\n",
       "    </tr>\n",
       "  </tbody>\n",
       "</table>\n",
       "</div>"
      ],
      "text/plain": [
       "     a  b  c\n",
       "0  1.0  2  3\n",
       "1  4.0  5  6\n",
       "2  4.0  7  8\n",
       "3  9.0  0  1"
      ]
     },
     "execution_count": 24,
     "metadata": {},
     "output_type": "execute_result"
    }
   ],
   "source": [
    "new_dataset = None\n",
    "async for sds in workflow.datasets():\n",
    "    new_dataset = await sds.to_local(conn)\n",
    "new_dataset.to_pandas()"
   ]
  },
  {
   "cell_type": "markdown",
   "metadata": {
    "id": "Ax0iShxLITgj"
   },
   "source": [
    "## Append new column for the transformed field\n",
    "\n",
    "Add new column for the result after filling missing with indicated values and the original column with missing values keeps the same\n"
   ]
  },
  {
   "cell_type": "code",
   "execution_count": 25,
   "metadata": {
    "ExecuteTime": {
     "end_time": "2024-12-12T22:24:28.010363Z",
     "start_time": "2024-12-12T22:24:28.006835Z"
    },
    "colab": {
     "base_uri": "https://localhost:8080/",
     "height": 175
    },
    "id": "jdkMPpHFTDwF",
    "outputId": "d3c046b8-563f-4933-fbab-a81de6540bb5"
   },
   "outputs": [
    {
     "data": {
      "text/html": [
       "<div>\n",
       "<style scoped>\n",
       "    .dataframe tbody tr th:only-of-type {\n",
       "        vertical-align: middle;\n",
       "    }\n",
       "\n",
       "    .dataframe tbody tr th {\n",
       "        vertical-align: top;\n",
       "    }\n",
       "\n",
       "    .dataframe thead th {\n",
       "        text-align: right;\n",
       "    }\n",
       "</style>\n",
       "<table border=\"1\" class=\"dataframe\">\n",
       "  <thead>\n",
       "    <tr style=\"text-align: right;\">\n",
       "      <th></th>\n",
       "      <th>a</th>\n",
       "      <th>b</th>\n",
       "      <th>c</th>\n",
       "    </tr>\n",
       "  </thead>\n",
       "  <tbody>\n",
       "    <tr>\n",
       "      <th>0</th>\n",
       "      <td>1.0</td>\n",
       "      <td>2</td>\n",
       "      <td>3</td>\n",
       "    </tr>\n",
       "    <tr>\n",
       "      <th>1</th>\n",
       "      <td>4.0</td>\n",
       "      <td>5</td>\n",
       "      <td>6</td>\n",
       "    </tr>\n",
       "    <tr>\n",
       "      <th>2</th>\n",
       "      <td>NaN</td>\n",
       "      <td>7</td>\n",
       "      <td>8</td>\n",
       "    </tr>\n",
       "    <tr>\n",
       "      <th>3</th>\n",
       "      <td>9.0</td>\n",
       "      <td>0</td>\n",
       "      <td>1</td>\n",
       "    </tr>\n",
       "  </tbody>\n",
       "</table>\n",
       "</div>"
      ],
      "text/plain": [
       "     a  b  c\n",
       "0  1.0  2  3\n",
       "1  4.0  5  6\n",
       "2  NaN  7  8\n",
       "3  9.0  0  1"
      ]
     },
     "execution_count": 25,
     "metadata": {},
     "output_type": "execute_result"
    }
   ],
   "source": [
    "dataset.to_pandas()"
   ]
  },
  {
   "cell_type": "code",
   "execution_count": 26,
   "metadata": {
    "ExecuteTime": {
     "end_time": "2024-12-12T22:24:28.044483Z",
     "start_time": "2024-12-12T22:24:28.042516Z"
    },
    "id": "Xj2TL77S-9eW"
   },
   "outputs": [],
   "source": [
    "fill_value = 42\n",
    "fill_col = \"a\"\n",
    "new_col_name = \"new_a\"\n",
    "fill_null = ra.Apply(\n",
    "    {\n",
    "        \"function\": {\"fill_null\": [fill_col, fill_value]},\n",
    "        \"append_field\": new_col_name,\n",
    "    }\n",
    ")"
   ]
  },
  {
   "cell_type": "code",
   "execution_count": 27,
   "metadata": {
    "ExecuteTime": {
     "end_time": "2024-12-12T22:24:28.083739Z",
     "start_time": "2024-12-12T22:24:28.081188Z"
    },
    "colab": {
     "base_uri": "https://localhost:8080/"
    },
    "id": "2UyI3YYLEH9W",
    "outputId": "d64835e1-7308-40b6-c438-51c05bbaa3c3"
   },
   "outputs": [
    {
     "name": "stdout",
     "output_type": "stream",
     "text": [
      "Workflow: azHALA6euOtwwWhyUuwKm\n"
     ]
    }
   ],
   "source": [
    "save = ra.DatasetSave(name=\"new_column_filled_dataset\")\n",
    "builder = rf.WorkflowBuilder()\n",
    "builder.add_dataset(dataset)\n",
    "builder.add_action(fill_null, parents=[dataset])\n",
    "builder.add_action(save, parents=[fill_null])\n",
    "workflow = await builder.start(conn)\n",
    "\n",
    "print(f\"Workflow: {workflow.id()}\")"
   ]
  },
  {
   "cell_type": "code",
   "execution_count": 28,
   "metadata": {
    "ExecuteTime": {
     "end_time": "2024-12-12T22:24:28.124718Z",
     "start_time": "2024-12-12T22:24:28.120370Z"
    },
    "colab": {
     "base_uri": "https://localhost:8080/",
     "height": 175
    },
    "id": "TUhGuPL-ELxX",
    "outputId": "2c53c94d-b614-4c2e-fa05-21be70624ba1"
   },
   "outputs": [
    {
     "data": {
      "text/html": [
       "<div>\n",
       "<style scoped>\n",
       "    .dataframe tbody tr th:only-of-type {\n",
       "        vertical-align: middle;\n",
       "    }\n",
       "\n",
       "    .dataframe tbody tr th {\n",
       "        vertical-align: top;\n",
       "    }\n",
       "\n",
       "    .dataframe thead th {\n",
       "        text-align: right;\n",
       "    }\n",
       "</style>\n",
       "<table border=\"1\" class=\"dataframe\">\n",
       "  <thead>\n",
       "    <tr style=\"text-align: right;\">\n",
       "      <th></th>\n",
       "      <th>a</th>\n",
       "      <th>b</th>\n",
       "      <th>c</th>\n",
       "      <th>new_a</th>\n",
       "    </tr>\n",
       "  </thead>\n",
       "  <tbody>\n",
       "    <tr>\n",
       "      <th>0</th>\n",
       "      <td>1.0</td>\n",
       "      <td>2</td>\n",
       "      <td>3</td>\n",
       "      <td>1</td>\n",
       "    </tr>\n",
       "    <tr>\n",
       "      <th>1</th>\n",
       "      <td>4.0</td>\n",
       "      <td>5</td>\n",
       "      <td>6</td>\n",
       "      <td>4</td>\n",
       "    </tr>\n",
       "    <tr>\n",
       "      <th>2</th>\n",
       "      <td>NaN</td>\n",
       "      <td>7</td>\n",
       "      <td>8</td>\n",
       "      <td>42</td>\n",
       "    </tr>\n",
       "    <tr>\n",
       "      <th>3</th>\n",
       "      <td>9.0</td>\n",
       "      <td>0</td>\n",
       "      <td>1</td>\n",
       "      <td>9</td>\n",
       "    </tr>\n",
       "  </tbody>\n",
       "</table>\n",
       "</div>"
      ],
      "text/plain": [
       "     a  b  c  new_a\n",
       "0  1.0  2  3      1\n",
       "1  4.0  5  6      4\n",
       "2  NaN  7  8     42\n",
       "3  9.0  0  1      9"
      ]
     },
     "execution_count": 28,
     "metadata": {},
     "output_type": "execute_result"
    }
   ],
   "source": [
    "new_dataset = None\n",
    "async for sds in workflow.datasets():\n",
    "    new_dataset = await sds.to_local(conn)\n",
    "new_dataset.to_pandas()"
   ]
  }
 ],
 "metadata": {
  "colab": {
   "provenance": []
  },
  "kernelspec": {
   "display_name": "colab",
   "language": "python",
   "name": "python3"
  },
  "language_info": {
   "codemirror_mode": {
    "name": "ipython",
    "version": 3
   },
   "file_extension": ".py",
   "mimetype": "text/x-python",
   "name": "python",
   "nbconvert_exporter": "python",
   "pygments_lexer": "ipython3",
   "version": "3.12.4"
  }
 },
 "nbformat": 4,
 "nbformat_minor": 0
}
