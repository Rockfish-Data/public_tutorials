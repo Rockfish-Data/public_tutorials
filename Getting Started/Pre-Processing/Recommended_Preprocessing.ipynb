{
 "cells": [
  {
   "cell_type": "code",
   "execution_count": 1,
   "id": "dfc66a15",
   "metadata": {
    "ExecuteTime": {
     "end_time": "2024-12-12T22:29:48.464109Z",
     "start_time": "2024-12-12T22:29:45.865663Z"
    },
    "id": "dfc66a15"
   },
   "outputs": [],
   "source": [
    "%%capture\n",
    "%pip install -U 'rockfish[labs]' -f 'https://packages.rockfish.ai'"
   ]
  },
  {
   "cell_type": "code",
   "execution_count": 1,
   "id": "ca45eb9e",
   "metadata": {
    "ExecuteTime": {
     "end_time": "2024-12-12T22:29:49.871436Z",
     "start_time": "2024-12-12T22:29:48.467677Z"
    },
    "id": "ca45eb9e"
   },
   "outputs": [],
   "source": [
    "import rockfish as rf\n",
    "from rockfish.labs.steps import Recommender\n",
    "from rockfish.labs.dataset_properties import DatasetPropertyExtractor"
   ]
  },
  {
   "cell_type": "code",
   "execution_count": 2,
   "id": "c54ace59",
   "metadata": {
    "ExecuteTime": {
     "end_time": "2024-12-12T22:29:50.040495Z",
     "start_time": "2024-12-12T22:29:49.921254Z"
    },
    "id": "c54ace59"
   },
   "outputs": [
    {
     "name": "stdout",
     "output_type": "stream",
     "text": [
      "--2025-07-18 11:56:08--  https://docs.rockfish.ai/tutorials/finance.csv\n",
      "Resolving docs.rockfish.ai (docs.rockfish.ai)... 65.8.161.56, 65.8.161.27, 65.8.161.81, ...\n",
      "Connecting to docs.rockfish.ai (docs.rockfish.ai)|65.8.161.56|:443... connected.\n",
      "HTTP request sent, awaiting response... 200 OK\n",
      "Length: 3444556 (3.3M) [text/csv]\n",
      "Saving to: ‘finance.csv’\n",
      "\n",
      "finance.csv         100%[===================>]   3.28M  5.60MB/s    in 0.6s    \n",
      "\n",
      "2025-07-18 11:56:09 (5.60 MB/s) - ‘finance.csv’ saved [3444556/3444556]\n",
      "\n"
     ]
    }
   ],
   "source": [
    "!wget --no-clobber https://docs.rockfish.ai/tutorials/finance.csv"
   ]
  },
  {
   "cell_type": "code",
   "execution_count": 3,
   "id": "81a7ed03",
   "metadata": {
    "ExecuteTime": {
     "end_time": "2024-12-12T22:29:50.073807Z",
     "start_time": "2024-12-12T22:29:50.051300Z"
    },
    "id": "81a7ed03"
   },
   "outputs": [
    {
     "data": {
      "text/html": [
       "<div>\n",
       "<style scoped>\n",
       "    .dataframe tbody tr th:only-of-type {\n",
       "        vertical-align: middle;\n",
       "    }\n",
       "\n",
       "    .dataframe tbody tr th {\n",
       "        vertical-align: top;\n",
       "    }\n",
       "\n",
       "    .dataframe thead th {\n",
       "        text-align: right;\n",
       "    }\n",
       "</style>\n",
       "<table border=\"1\" class=\"dataframe\">\n",
       "  <thead>\n",
       "    <tr style=\"text-align: right;\">\n",
       "      <th></th>\n",
       "      <th>customer</th>\n",
       "      <th>age</th>\n",
       "      <th>gender</th>\n",
       "      <th>merchant</th>\n",
       "      <th>category</th>\n",
       "      <th>amount</th>\n",
       "      <th>fraud</th>\n",
       "      <th>timestamp</th>\n",
       "    </tr>\n",
       "  </thead>\n",
       "  <tbody>\n",
       "    <tr>\n",
       "      <th>0</th>\n",
       "      <td>None</td>\n",
       "      <td>4</td>\n",
       "      <td>M</td>\n",
       "      <td>M348934600</td>\n",
       "      <td>transportation</td>\n",
       "      <td>4.55</td>\n",
       "      <td>0</td>\n",
       "      <td>2023-01-01</td>\n",
       "    </tr>\n",
       "    <tr>\n",
       "      <th>1</th>\n",
       "      <td>C575345520</td>\n",
       "      <td>2</td>\n",
       "      <td>F</td>\n",
       "      <td>M348934600</td>\n",
       "      <td>transportation</td>\n",
       "      <td>76.67</td>\n",
       "      <td>0</td>\n",
       "      <td>2023-01-01</td>\n",
       "    </tr>\n",
       "    <tr>\n",
       "      <th>2</th>\n",
       "      <td>C1787537369</td>\n",
       "      <td>2</td>\n",
       "      <td>M</td>\n",
       "      <td>M1823072687</td>\n",
       "      <td>transportation</td>\n",
       "      <td>48.02</td>\n",
       "      <td>0</td>\n",
       "      <td>2023-01-01</td>\n",
       "    </tr>\n",
       "    <tr>\n",
       "      <th>3</th>\n",
       "      <td>C1732307957</td>\n",
       "      <td>5</td>\n",
       "      <td>F</td>\n",
       "      <td>M348934600</td>\n",
       "      <td>transportation</td>\n",
       "      <td>55.06</td>\n",
       "      <td>0</td>\n",
       "      <td>2023-01-01</td>\n",
       "    </tr>\n",
       "    <tr>\n",
       "      <th>4</th>\n",
       "      <td>C842799656</td>\n",
       "      <td>1</td>\n",
       "      <td>F</td>\n",
       "      <td>M348934600</td>\n",
       "      <td>transportation</td>\n",
       "      <td>25.62</td>\n",
       "      <td>0</td>\n",
       "      <td>2023-01-01</td>\n",
       "    </tr>\n",
       "  </tbody>\n",
       "</table>\n",
       "</div>"
      ],
      "text/plain": [
       "      customer age gender     merchant        category  amount  fraud  \\\n",
       "0         None   4      M   M348934600  transportation    4.55      0   \n",
       "1   C575345520   2      F   M348934600  transportation   76.67      0   \n",
       "2  C1787537369   2      M  M1823072687  transportation   48.02      0   \n",
       "3  C1732307957   5      F   M348934600  transportation   55.06      0   \n",
       "4   C842799656   1      F   M348934600  transportation   25.62      0   \n",
       "\n",
       "   timestamp  \n",
       "0 2023-01-01  \n",
       "1 2023-01-01  \n",
       "2 2023-01-01  \n",
       "3 2023-01-01  \n",
       "4 2023-01-01  "
      ]
     },
     "execution_count": 3,
     "metadata": {},
     "output_type": "execute_result"
    }
   ],
   "source": [
    "dataset = rf.Dataset.from_csv(\"finance\", \"finance.csv\")\n",
    "x = dataset.to_pandas().iloc[:5]\n",
    "x.iloc[0, 0] = None\n",
    "dataset = rf.Dataset.from_pandas(\"finance\", x)\n",
    "dataset.to_pandas()"
   ]
  },
  {
   "cell_type": "markdown",
   "id": "xnGJeBsV8_UK",
   "metadata": {
    "id": "xnGJeBsV8_UK"
   },
   "source": [
    "Initiate Recommendation Engine\n"
   ]
  },
  {
   "cell_type": "code",
   "execution_count": 5,
   "id": "b9da23fa",
   "metadata": {
    "ExecuteTime": {
     "end_time": "2024-12-12T22:29:50.483850Z",
     "start_time": "2024-12-12T22:29:50.152088Z"
    },
    "id": "b9da23fa"
   },
   "outputs": [],
   "source": [
    "dataset_props = DatasetPropertyExtractor(\n",
    "    dataset, \n",
    "    metadata_fields=[\"customer\", \"age\", \"gender\"], \n",
    "    additional_property_keys=[\"pii_type\"]\n",
    ").extract()\n",
    "rec = Recommender(dataset_props)\n",
    "rec_output = rec.run()"
   ]
  },
  {
   "cell_type": "code",
   "execution_count": 6,
   "id": "c7e0713a",
   "metadata": {
    "ExecuteTime": {
     "end_time": "2024-12-12T22:29:50.501722Z",
     "start_time": "2024-12-12T22:29:50.499940Z"
    },
    "id": "c7e0713a"
   },
   "outputs": [
    {
     "name": "stdout",
     "output_type": "stream",
     "text": [
      "# _________________________________________________________________________\n",
      "#\n",
      "# RECOMMENDED CONFIGURATIONS\n",
      "#\n",
      "# (Remove or change any actions or configurations that are inappropriate\n",
      "#  for your use case, or add missing ones)\n",
      "# _________________________________________________________________________\n",
      "\n",
      "\n",
      "We detected a timeseries dataset with the following properties:\n",
      "Dimensions of dataset: (5 x 8)\n",
      "Metadata fields: ['customer', 'age', 'gender']\n",
      "Measurement fields: ['amount', 'fraud', 'category', 'merchant']\n",
      "Timestamp field: timestamp\n",
      "Session key field: None\n",
      "Number of sessions: 5\n",
      "\n",
      "# _________________________________________________________________________\n",
      "#\n",
      "# ~~~~~ Pre-processing recommendations ~~~~~\n",
      "# _________________________________________________________________________\n",
      "\n",
      "\n",
      "fill missing values in the following fields: ['customer']\n",
      "remap private info in the following fields: ['timestamp']\n",
      "\n",
      "# _________________________________________________________________________\n",
      "#\n",
      "# ~~~~~ Model recommendations ~~~~~\n",
      "# _________________________________________________________________________\n",
      "\n",
      "\n",
      "We recommend using the TimeTransformer model.\n",
      "\n",
      "For training, we recommend the following model parameters:\n",
      "{\n",
      "  \"num_bootstrap\": 2,\n",
      "  \"parent\": {\n",
      "    \"epochs\": 5,\n",
      "    \"batch_size\": 2,\n",
      "    \"gradient_accumulation_steps\": 4,\n",
      "    \"learning_rate\": 5e-05,\n",
      "    \"weight_decay\": 0,\n",
      "    \"gpt2_config\": {\n",
      "      \"layer\": 4,\n",
      "      \"head\": 8,\n",
      "      \"embed\": 256\n",
      "    }\n",
      "  },\n",
      "  \"child\": {\n",
      "    \"epochs\": 5,\n",
      "    \"batch_size\": 2,\n",
      "    \"gradient_accumulation_steps\": 4,\n",
      "    \"learning_rate\": 5e-05,\n",
      "    \"weight_decay\": 0,\n",
      "    \"output_max_length\": 1024\n",
      "  }\n",
      "}\n",
      "\n",
      "For generation, we recommend the following model parameters:\n",
      "sessions: 5\n",
      "\n",
      "# _________________________________________________________________________\n",
      "#\n",
      "# ~~~~~ Post-processing recommendations ~~~~~\n",
      "# _________________________________________________________________________\n",
      "\n",
      "\n"
     ]
    }
   ],
   "source": [
    "print(rec_output.report)"
   ]
  },
  {
   "cell_type": "markdown",
   "id": "8DG39nCU9Ftc",
   "metadata": {
    "id": "8DG39nCU9Ftc"
   },
   "source": [
    "According to the report, users can take actions to preprocess the dataset before training. In terms of our available SDK methods on preprocessing steps, you can refer to [the Pre-processing page](https://docs142.rockfish.ai/pre-processing.html) for more details.\n"
   ]
  }
 ],
 "metadata": {
  "colab": {
   "provenance": []
  },
  "kernelspec": {
   "display_name": "Python 3 (ipykernel)",
   "language": "python",
   "name": "python3"
  },
  "language_info": {
   "codemirror_mode": {
    "name": "ipython",
    "version": 3
   },
   "file_extension": ".py",
   "mimetype": "text/x-python",
   "name": "python",
   "nbconvert_exporter": "python",
   "pygments_lexer": "ipython3",
   "version": "3.11.12"
  }
 },
 "nbformat": 4,
 "nbformat_minor": 5
}
