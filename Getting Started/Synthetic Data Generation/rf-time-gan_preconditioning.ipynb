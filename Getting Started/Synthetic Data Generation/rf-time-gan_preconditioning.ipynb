{
  "cells": [
    {
      "cell_type": "markdown",
      "source": [
        "# Pre-conditioning\n",
        "\n",
        "Inputs:\n",
        "1. `model`: Trained rf-time-gan model\n",
        "2. `given_metadata`: Conditions with metadata values that sessions should have (e.g., all sessions should have `gender = \"M\"`)\n",
        "\n",
        "Output:\n",
        "1. `dataset`: Synthetic dataset with sessions whose metadata fields match the values in `given_metadata`"
      ],
      "metadata": {
        "id": "MCBbARVwh_db"
      }
    },
    {
      "cell_type": "markdown",
      "source": [
        "### Install and Import Rockfish SDK"
      ],
      "metadata": {
        "id": "cGXiiEscl2Dj"
      }
    },
    {
      "cell_type": "code",
      "execution_count": null,
      "metadata": {
        "id": "bC6avaqHmN8O"
      },
      "outputs": [],
      "source": [
        "%%capture\n",
        "!pip install -U 'rockfish[labs]==0.22.0.dev6' -f 'https://docs142.rockfish.ai/packages/index.html'  # use rockfish dev release"
      ]
    },
    {
      "cell_type": "code",
      "execution_count": null,
      "metadata": {
        "id": "cKHQAhEal_Gw"
      },
      "outputs": [],
      "source": [
        "import rockfish as rf\n",
        "import rockfish.actions as ra\n",
        "import rockfish.labs as rl\n",
        "import pandas as pd"
      ]
    },
    {
      "cell_type": "markdown",
      "source": [
        "### Connect to the Rockfish Platform"
      ],
      "metadata": {
        "id": "Coh2p6X9l7U2"
      }
    },
    {
      "cell_type": "code",
      "execution_count": null,
      "metadata": {
        "id": "p2dclvL7mPHz"
      },
      "outputs": [],
      "source": [
        "api_key = \"\"  # API key for environment\n",
        "api_url = \"\"  # URL for environment\n",
        "conn = rf.Connection.remote(api_url, api_key)"
      ]
    },
    {
      "cell_type": "markdown",
      "metadata": {
        "id": "b5QfMd72Vclu"
      },
      "source": [
        "### Train Rf-Time-GAN on the Finance Dataset"
      ]
    },
    {
      "cell_type": "code",
      "execution_count": null,
      "metadata": {
        "collapsed": true,
        "id": "Cn0spZWWmdL8"
      },
      "outputs": [],
      "source": [
        "!wget --no-clobber https://docs142.rockfish.ai/tutorials/finance.csv\n",
        "dataset = rf.Dataset.from_csv(\"finance\", \"finance.csv\")"
      ]
    },
    {
      "cell_type": "code",
      "execution_count": null,
      "metadata": {
        "id": "4u1emyNCmCYd"
      },
      "outputs": [],
      "source": [
        "def get_config(epochs=1,\n",
        "               sample_len=2,\n",
        "               sessions=100,\n",
        "               batch_size=512,\n",
        "               given_metadata=None):\n",
        "    timestamp = \"timestamp\"\n",
        "    session = \"customer\"\n",
        "    metadata_cols = [\"age\", \"gender\"]\n",
        "    con_measurement_cols = [\"amount\"]\n",
        "    cat_measurement_cols = [\"merchant\", \"category\", \"fraud\"]\n",
        "    config = ra.TrainTimeGAN.Config(\n",
        "        encoder=ra.TrainTimeGAN.DatasetConfig(\n",
        "            timestamp=ra.TrainTimeGAN.TimestampConfig(field=timestamp),\n",
        "            metadata=[\n",
        "                ra.TrainTimeGAN.FieldConfig(field=col, type=\"categorical\")\n",
        "                for col in metadata_cols\n",
        "            ] + [\n",
        "                ra.TrainTimeGAN.FieldConfig(field=session, type=\"session\")\n",
        "            ],\n",
        "            measurements=[\n",
        "                 ra.TrainTimeGAN.FieldConfig(field=col, type=\"continuous\")\n",
        "                 for col in con_measurement_cols\n",
        "            ] + [\n",
        "                 ra.TrainTimeGAN.FieldConfig(field=col, type=\"categorical\")\n",
        "                 for col in cat_measurement_cols\n",
        "            ]\n",
        "        ),\n",
        "        doppelganger=ra.TrainTimeGAN.DGConfig(\n",
        "            epoch=epochs,\n",
        "            epoch_checkpoint_freq=epochs,\n",
        "            sample_len=sample_len,\n",
        "            sessions=sessions,\n",
        "            batch_size=batch_size,\n",
        "            given_metadata=given_metadata\n",
        "        )\n",
        "    )\n",
        "    return config"
      ]
    },
    {
      "cell_type": "code",
      "execution_count": null,
      "metadata": {
        "colab": {
          "base_uri": "https://localhost:8080/"
        },
        "id": "6FE0MmdKmoZ9",
        "outputId": "0df4a561-d70d-4e5c-c2f3-54560d10f6dc"
      },
      "outputs": [
        {
          "output_type": "stream",
          "name": "stdout",
          "text": [
            "Train Workflow: 7ptOndmjmcrZo75lur3ABZ\n"
          ]
        }
      ],
      "source": [
        "train_config = get_config()  # pass appropriate args for setting hyperparams\n",
        "train = ra.TrainTimeGAN(train_config)\n",
        "\n",
        "builder = rf.WorkflowBuilder()\n",
        "builder.add_path(dataset, train)\n",
        "workflow = await builder.start(conn)\n",
        "print(f\"Train Workflow: {workflow.id()}\")"
      ]
    },
    {
      "cell_type": "code",
      "execution_count": null,
      "metadata": {
        "colab": {
          "base_uri": "https://localhost:8080/"
        },
        "id": "YqfnMnk9nzb7",
        "outputId": "26d78404-93b1-48c0-b66d-6d4f1bf3e52f"
      },
      "outputs": [
        {
          "output_type": "stream",
          "name": "stdout",
          "text": [
            "2024-08-20T15:48:54Z dataset-load: INFO Loading dataset '2870FgXmZXbWC6TxV5XVUz' with 50000 rows\n",
            "2024-08-20T15:48:54Z train-time-gan: DEBUG CUDA available\n",
            "2024-08-20T15:48:54Z train-time-gan: DEBUG Training on cuda:Tesla T4 with cuda version 11.8\n",
            "2024-08-20T15:49:04Z train-time-gan: INFO Starting DG training job\n",
            "2024-08-20T15:49:05Z train-time-gan: DEBUG Epoch 1, g_loss_d: -0.7153, g_loss: -0.3460, d_loss_fake:  0.7028, d_loss_real: -10.0695, d_loss_gp:  0.1775, d_loss: -7.5919, g_loss_attr_d:  0.3693, attr_d_loss_fake: -0.3610, attr_d_loss_real: -0.8119, attr_d_loss_gp:  0.0165, attr_d_loss: -1.0081\n",
            "2024-08-20T15:49:05Z train-time-gan: INFO Epoch 1 completed.\n",
            "2024-08-20T15:49:05Z train-time-gan: DEBUG Checkpoint on Epoch 1 has been saved to epoch-1.pt\n",
            "2024-08-20T15:49:11Z train-time-gan: DEBUG Uploaded model bd979f85-5f0b-11ef-9299-42726b435dd2\n",
            "2024-08-20T15:49:11Z train-time-gan: INFO Training completed. Uploaded model bd979f85-5f0b-11ef-9299-42726b435dd2\n"
          ]
        }
      ],
      "source": [
        "async for log in workflow.logs(level=rf.events.LogLevel.DEBUG):\n",
        "    print(log)"
      ]
    },
    {
      "cell_type": "markdown",
      "metadata": {
        "id": "YgMhz1Z9Eh9I"
      },
      "source": [
        "### Fetch the Trained Model"
      ]
    },
    {
      "cell_type": "code",
      "execution_count": null,
      "metadata": {
        "id": "poovJ-LLEdg9"
      },
      "outputs": [],
      "source": [
        "model = await workflow.models().last()"
      ]
    },
    {
      "cell_type": "markdown",
      "metadata": {
        "id": "mrqZX6vCVheE"
      },
      "source": [
        "### Precondition While Generating"
      ]
    },
    {
      "cell_type": "markdown",
      "metadata": {
        "id": "w256JU4BVwHN"
      },
      "source": [
        "#### Example 1: One Condition\n",
        "\n",
        "**User Intent**\n",
        "\n",
        "Generate the following synthetic dataset: 25 sessions with metadata (age = 4, gender = M)."
      ]
    },
    {
      "cell_type": "markdown",
      "metadata": {
        "id": "VAeKpyS4DRjk"
      },
      "source": [
        "##### Specify these conditions in the generate config"
      ]
    },
    {
      "cell_type": "code",
      "execution_count": null,
      "metadata": {
        "id": "QyAZpKJ5mxAv"
      },
      "outputs": [],
      "source": [
        "# input: given_metadata = [(age = 4, gender = M)]\n",
        "# expected output: 25 sessions with metadata = (age = 4, gender = M)\n",
        "given_metadata1 = {\n",
        "    \"age\": [\"4\"],\n",
        "    \"gender\": [\"M\"]\n",
        "}\n",
        "generate1_config = get_config(sessions=25, given_metadata=given_metadata1)\n",
        "generate1 = ra.GenerateTimeGAN(generate1_config)"
      ]
    },
    {
      "cell_type": "markdown",
      "metadata": {
        "id": "uyjRS10ADWTk"
      },
      "source": [
        "##### Run the generate workflow"
      ]
    },
    {
      "cell_type": "code",
      "execution_count": null,
      "metadata": {
        "colab": {
          "base_uri": "https://localhost:8080/"
        },
        "id": "LPsW5ImcWCeM",
        "outputId": "095a94c5-04f4-499c-a911-dd984b144533"
      },
      "outputs": [
        {
          "output_type": "stream",
          "name": "stdout",
          "text": [
            "Generate Workflow: 4EfMVAzqWcT1u4adilCpKt\n"
          ]
        }
      ],
      "source": [
        "save = ra.DatasetSave(name=\"synthetic\")\n",
        "builder = rf.WorkflowBuilder()\n",
        "builder.add_path(model, generate1, save)\n",
        "workflow = await builder.start(conn)\n",
        "print(f\"Generate Workflow: {workflow.id()}\")"
      ]
    },
    {
      "cell_type": "code",
      "execution_count": null,
      "metadata": {
        "id": "9UJnBm3GWL3Z"
      },
      "outputs": [],
      "source": [
        "async for log in workflow.logs(level=rf.events.LogLevel.DEBUG):\n",
        "    print(log)"
      ]
    },
    {
      "cell_type": "code",
      "execution_count": null,
      "metadata": {
        "id": "k0X3s6VLWNm3"
      },
      "outputs": [],
      "source": [
        "syn = None\n",
        "async for sds in workflow.datasets():\n",
        "  syn = await sds.to_local(conn)"
      ]
    },
    {
      "cell_type": "code",
      "execution_count": null,
      "metadata": {
        "id": "P7Z7ajT2WPjI",
        "colab": {
          "base_uri": "https://localhost:8080/",
          "height": 424
        },
        "outputId": "aaeb74c7-1e9b-42cc-aa56-3e78f6a3acea"
      },
      "outputs": [
        {
          "output_type": "execute_result",
          "data": {
            "text/plain": [
              "                  timestamp       amount age gender     merchant  \\\n",
              "0   2023-01-12 10:49:26.312  7284.969150   4      M  M1946091778   \n",
              "1   2023-01-15 11:55:29.563  4973.953441   4      M   M732195782   \n",
              "2   2023-01-22 09:14:27.287  2075.746355   4      M  M1352454843   \n",
              "3   2023-01-29 09:13:46.228  2360.493466   4      M   M349281107   \n",
              "4   2023-02-05 05:28:42.794  1928.140626   4      M  M1352454843   \n",
              "..                      ...          ...  ..    ...          ...   \n",
              "197 2029-03-01 10:31:55.537  4492.959395   4      M    M50039827   \n",
              "198 2029-03-02 10:24:20.551  7186.693508   4      M   M151143676   \n",
              "199 2029-03-03 22:40:45.240  7174.563442   4      M  M1294758098   \n",
              "200 2029-03-08 08:57:06.595  5593.371383   4      M  M1873032707   \n",
              "201 2029-03-12 09:30:08.186  5389.757629   4      M   M348934600   \n",
              "\n",
              "              category  fraud  session_key  \n",
              "0    wellnessandbeauty      0          0.0  \n",
              "1               health      0          1.0  \n",
              "2              fashion      1          2.0  \n",
              "3                 food      0          2.0  \n",
              "4              fashion      1          2.0  \n",
              "..                 ...    ...          ...  \n",
              "197            leisure      0         22.0  \n",
              "198              hyper      0         23.0  \n",
              "199               tech      1         23.0  \n",
              "200             health      0         24.0  \n",
              "201           contents      1         24.0  \n",
              "\n",
              "[202 rows x 8 columns]"
            ],
            "text/html": [
              "\n",
              "  <div id=\"df-270cad24-2e2f-4fe4-aaa0-790c585dcf46\" class=\"colab-df-container\">\n",
              "    <div>\n",
              "<style scoped>\n",
              "    .dataframe tbody tr th:only-of-type {\n",
              "        vertical-align: middle;\n",
              "    }\n",
              "\n",
              "    .dataframe tbody tr th {\n",
              "        vertical-align: top;\n",
              "    }\n",
              "\n",
              "    .dataframe thead th {\n",
              "        text-align: right;\n",
              "    }\n",
              "</style>\n",
              "<table border=\"1\" class=\"dataframe\">\n",
              "  <thead>\n",
              "    <tr style=\"text-align: right;\">\n",
              "      <th></th>\n",
              "      <th>timestamp</th>\n",
              "      <th>amount</th>\n",
              "      <th>age</th>\n",
              "      <th>gender</th>\n",
              "      <th>merchant</th>\n",
              "      <th>category</th>\n",
              "      <th>fraud</th>\n",
              "      <th>session_key</th>\n",
              "    </tr>\n",
              "  </thead>\n",
              "  <tbody>\n",
              "    <tr>\n",
              "      <th>0</th>\n",
              "      <td>2023-01-12 10:49:26.312</td>\n",
              "      <td>7284.969150</td>\n",
              "      <td>4</td>\n",
              "      <td>M</td>\n",
              "      <td>M1946091778</td>\n",
              "      <td>wellnessandbeauty</td>\n",
              "      <td>0</td>\n",
              "      <td>0.0</td>\n",
              "    </tr>\n",
              "    <tr>\n",
              "      <th>1</th>\n",
              "      <td>2023-01-15 11:55:29.563</td>\n",
              "      <td>4973.953441</td>\n",
              "      <td>4</td>\n",
              "      <td>M</td>\n",
              "      <td>M732195782</td>\n",
              "      <td>health</td>\n",
              "      <td>0</td>\n",
              "      <td>1.0</td>\n",
              "    </tr>\n",
              "    <tr>\n",
              "      <th>2</th>\n",
              "      <td>2023-01-22 09:14:27.287</td>\n",
              "      <td>2075.746355</td>\n",
              "      <td>4</td>\n",
              "      <td>M</td>\n",
              "      <td>M1352454843</td>\n",
              "      <td>fashion</td>\n",
              "      <td>1</td>\n",
              "      <td>2.0</td>\n",
              "    </tr>\n",
              "    <tr>\n",
              "      <th>3</th>\n",
              "      <td>2023-01-29 09:13:46.228</td>\n",
              "      <td>2360.493466</td>\n",
              "      <td>4</td>\n",
              "      <td>M</td>\n",
              "      <td>M349281107</td>\n",
              "      <td>food</td>\n",
              "      <td>0</td>\n",
              "      <td>2.0</td>\n",
              "    </tr>\n",
              "    <tr>\n",
              "      <th>4</th>\n",
              "      <td>2023-02-05 05:28:42.794</td>\n",
              "      <td>1928.140626</td>\n",
              "      <td>4</td>\n",
              "      <td>M</td>\n",
              "      <td>M1352454843</td>\n",
              "      <td>fashion</td>\n",
              "      <td>1</td>\n",
              "      <td>2.0</td>\n",
              "    </tr>\n",
              "    <tr>\n",
              "      <th>...</th>\n",
              "      <td>...</td>\n",
              "      <td>...</td>\n",
              "      <td>...</td>\n",
              "      <td>...</td>\n",
              "      <td>...</td>\n",
              "      <td>...</td>\n",
              "      <td>...</td>\n",
              "      <td>...</td>\n",
              "    </tr>\n",
              "    <tr>\n",
              "      <th>197</th>\n",
              "      <td>2029-03-01 10:31:55.537</td>\n",
              "      <td>4492.959395</td>\n",
              "      <td>4</td>\n",
              "      <td>M</td>\n",
              "      <td>M50039827</td>\n",
              "      <td>leisure</td>\n",
              "      <td>0</td>\n",
              "      <td>22.0</td>\n",
              "    </tr>\n",
              "    <tr>\n",
              "      <th>198</th>\n",
              "      <td>2029-03-02 10:24:20.551</td>\n",
              "      <td>7186.693508</td>\n",
              "      <td>4</td>\n",
              "      <td>M</td>\n",
              "      <td>M151143676</td>\n",
              "      <td>hyper</td>\n",
              "      <td>0</td>\n",
              "      <td>23.0</td>\n",
              "    </tr>\n",
              "    <tr>\n",
              "      <th>199</th>\n",
              "      <td>2029-03-03 22:40:45.240</td>\n",
              "      <td>7174.563442</td>\n",
              "      <td>4</td>\n",
              "      <td>M</td>\n",
              "      <td>M1294758098</td>\n",
              "      <td>tech</td>\n",
              "      <td>1</td>\n",
              "      <td>23.0</td>\n",
              "    </tr>\n",
              "    <tr>\n",
              "      <th>200</th>\n",
              "      <td>2029-03-08 08:57:06.595</td>\n",
              "      <td>5593.371383</td>\n",
              "      <td>4</td>\n",
              "      <td>M</td>\n",
              "      <td>M1873032707</td>\n",
              "      <td>health</td>\n",
              "      <td>0</td>\n",
              "      <td>24.0</td>\n",
              "    </tr>\n",
              "    <tr>\n",
              "      <th>201</th>\n",
              "      <td>2029-03-12 09:30:08.186</td>\n",
              "      <td>5389.757629</td>\n",
              "      <td>4</td>\n",
              "      <td>M</td>\n",
              "      <td>M348934600</td>\n",
              "      <td>contents</td>\n",
              "      <td>1</td>\n",
              "      <td>24.0</td>\n",
              "    </tr>\n",
              "  </tbody>\n",
              "</table>\n",
              "<p>202 rows × 8 columns</p>\n",
              "</div>\n",
              "    <div class=\"colab-df-buttons\">\n",
              "\n",
              "  <div class=\"colab-df-container\">\n",
              "    <button class=\"colab-df-convert\" onclick=\"convertToInteractive('df-270cad24-2e2f-4fe4-aaa0-790c585dcf46')\"\n",
              "            title=\"Convert this dataframe to an interactive table.\"\n",
              "            style=\"display:none;\">\n",
              "\n",
              "  <svg xmlns=\"http://www.w3.org/2000/svg\" height=\"24px\" viewBox=\"0 -960 960 960\">\n",
              "    <path d=\"M120-120v-720h720v720H120Zm60-500h600v-160H180v160Zm220 220h160v-160H400v160Zm0 220h160v-160H400v160ZM180-400h160v-160H180v160Zm440 0h160v-160H620v160ZM180-180h160v-160H180v160Zm440 0h160v-160H620v160Z\"/>\n",
              "  </svg>\n",
              "    </button>\n",
              "\n",
              "  <style>\n",
              "    .colab-df-container {\n",
              "      display:flex;\n",
              "      gap: 12px;\n",
              "    }\n",
              "\n",
              "    .colab-df-convert {\n",
              "      background-color: #E8F0FE;\n",
              "      border: none;\n",
              "      border-radius: 50%;\n",
              "      cursor: pointer;\n",
              "      display: none;\n",
              "      fill: #1967D2;\n",
              "      height: 32px;\n",
              "      padding: 0 0 0 0;\n",
              "      width: 32px;\n",
              "    }\n",
              "\n",
              "    .colab-df-convert:hover {\n",
              "      background-color: #E2EBFA;\n",
              "      box-shadow: 0px 1px 2px rgba(60, 64, 67, 0.3), 0px 1px 3px 1px rgba(60, 64, 67, 0.15);\n",
              "      fill: #174EA6;\n",
              "    }\n",
              "\n",
              "    .colab-df-buttons div {\n",
              "      margin-bottom: 4px;\n",
              "    }\n",
              "\n",
              "    [theme=dark] .colab-df-convert {\n",
              "      background-color: #3B4455;\n",
              "      fill: #D2E3FC;\n",
              "    }\n",
              "\n",
              "    [theme=dark] .colab-df-convert:hover {\n",
              "      background-color: #434B5C;\n",
              "      box-shadow: 0px 1px 3px 1px rgba(0, 0, 0, 0.15);\n",
              "      filter: drop-shadow(0px 1px 2px rgba(0, 0, 0, 0.3));\n",
              "      fill: #FFFFFF;\n",
              "    }\n",
              "  </style>\n",
              "\n",
              "    <script>\n",
              "      const buttonEl =\n",
              "        document.querySelector('#df-270cad24-2e2f-4fe4-aaa0-790c585dcf46 button.colab-df-convert');\n",
              "      buttonEl.style.display =\n",
              "        google.colab.kernel.accessAllowed ? 'block' : 'none';\n",
              "\n",
              "      async function convertToInteractive(key) {\n",
              "        const element = document.querySelector('#df-270cad24-2e2f-4fe4-aaa0-790c585dcf46');\n",
              "        const dataTable =\n",
              "          await google.colab.kernel.invokeFunction('convertToInteractive',\n",
              "                                                    [key], {});\n",
              "        if (!dataTable) return;\n",
              "\n",
              "        const docLinkHtml = 'Like what you see? Visit the ' +\n",
              "          '<a target=\"_blank\" href=https://colab.research.google.com/notebooks/data_table.ipynb>data table notebook</a>'\n",
              "          + ' to learn more about interactive tables.';\n",
              "        element.innerHTML = '';\n",
              "        dataTable['output_type'] = 'display_data';\n",
              "        await google.colab.output.renderOutput(dataTable, element);\n",
              "        const docLink = document.createElement('div');\n",
              "        docLink.innerHTML = docLinkHtml;\n",
              "        element.appendChild(docLink);\n",
              "      }\n",
              "    </script>\n",
              "  </div>\n",
              "\n",
              "\n",
              "<div id=\"df-f2b7234b-e25b-40ff-8658-7fdd80863309\">\n",
              "  <button class=\"colab-df-quickchart\" onclick=\"quickchart('df-f2b7234b-e25b-40ff-8658-7fdd80863309')\"\n",
              "            title=\"Suggest charts\"\n",
              "            style=\"display:none;\">\n",
              "\n",
              "<svg xmlns=\"http://www.w3.org/2000/svg\" height=\"24px\"viewBox=\"0 0 24 24\"\n",
              "     width=\"24px\">\n",
              "    <g>\n",
              "        <path d=\"M19 3H5c-1.1 0-2 .9-2 2v14c0 1.1.9 2 2 2h14c1.1 0 2-.9 2-2V5c0-1.1-.9-2-2-2zM9 17H7v-7h2v7zm4 0h-2V7h2v10zm4 0h-2v-4h2v4z\"/>\n",
              "    </g>\n",
              "</svg>\n",
              "  </button>\n",
              "\n",
              "<style>\n",
              "  .colab-df-quickchart {\n",
              "      --bg-color: #E8F0FE;\n",
              "      --fill-color: #1967D2;\n",
              "      --hover-bg-color: #E2EBFA;\n",
              "      --hover-fill-color: #174EA6;\n",
              "      --disabled-fill-color: #AAA;\n",
              "      --disabled-bg-color: #DDD;\n",
              "  }\n",
              "\n",
              "  [theme=dark] .colab-df-quickchart {\n",
              "      --bg-color: #3B4455;\n",
              "      --fill-color: #D2E3FC;\n",
              "      --hover-bg-color: #434B5C;\n",
              "      --hover-fill-color: #FFFFFF;\n",
              "      --disabled-bg-color: #3B4455;\n",
              "      --disabled-fill-color: #666;\n",
              "  }\n",
              "\n",
              "  .colab-df-quickchart {\n",
              "    background-color: var(--bg-color);\n",
              "    border: none;\n",
              "    border-radius: 50%;\n",
              "    cursor: pointer;\n",
              "    display: none;\n",
              "    fill: var(--fill-color);\n",
              "    height: 32px;\n",
              "    padding: 0;\n",
              "    width: 32px;\n",
              "  }\n",
              "\n",
              "  .colab-df-quickchart:hover {\n",
              "    background-color: var(--hover-bg-color);\n",
              "    box-shadow: 0 1px 2px rgba(60, 64, 67, 0.3), 0 1px 3px 1px rgba(60, 64, 67, 0.15);\n",
              "    fill: var(--button-hover-fill-color);\n",
              "  }\n",
              "\n",
              "  .colab-df-quickchart-complete:disabled,\n",
              "  .colab-df-quickchart-complete:disabled:hover {\n",
              "    background-color: var(--disabled-bg-color);\n",
              "    fill: var(--disabled-fill-color);\n",
              "    box-shadow: none;\n",
              "  }\n",
              "\n",
              "  .colab-df-spinner {\n",
              "    border: 2px solid var(--fill-color);\n",
              "    border-color: transparent;\n",
              "    border-bottom-color: var(--fill-color);\n",
              "    animation:\n",
              "      spin 1s steps(1) infinite;\n",
              "  }\n",
              "\n",
              "  @keyframes spin {\n",
              "    0% {\n",
              "      border-color: transparent;\n",
              "      border-bottom-color: var(--fill-color);\n",
              "      border-left-color: var(--fill-color);\n",
              "    }\n",
              "    20% {\n",
              "      border-color: transparent;\n",
              "      border-left-color: var(--fill-color);\n",
              "      border-top-color: var(--fill-color);\n",
              "    }\n",
              "    30% {\n",
              "      border-color: transparent;\n",
              "      border-left-color: var(--fill-color);\n",
              "      border-top-color: var(--fill-color);\n",
              "      border-right-color: var(--fill-color);\n",
              "    }\n",
              "    40% {\n",
              "      border-color: transparent;\n",
              "      border-right-color: var(--fill-color);\n",
              "      border-top-color: var(--fill-color);\n",
              "    }\n",
              "    60% {\n",
              "      border-color: transparent;\n",
              "      border-right-color: var(--fill-color);\n",
              "    }\n",
              "    80% {\n",
              "      border-color: transparent;\n",
              "      border-right-color: var(--fill-color);\n",
              "      border-bottom-color: var(--fill-color);\n",
              "    }\n",
              "    90% {\n",
              "      border-color: transparent;\n",
              "      border-bottom-color: var(--fill-color);\n",
              "    }\n",
              "  }\n",
              "</style>\n",
              "\n",
              "  <script>\n",
              "    async function quickchart(key) {\n",
              "      const quickchartButtonEl =\n",
              "        document.querySelector('#' + key + ' button');\n",
              "      quickchartButtonEl.disabled = true;  // To prevent multiple clicks.\n",
              "      quickchartButtonEl.classList.add('colab-df-spinner');\n",
              "      try {\n",
              "        const charts = await google.colab.kernel.invokeFunction(\n",
              "            'suggestCharts', [key], {});\n",
              "      } catch (error) {\n",
              "        console.error('Error during call to suggestCharts:', error);\n",
              "      }\n",
              "      quickchartButtonEl.classList.remove('colab-df-spinner');\n",
              "      quickchartButtonEl.classList.add('colab-df-quickchart-complete');\n",
              "    }\n",
              "    (() => {\n",
              "      let quickchartButtonEl =\n",
              "        document.querySelector('#df-f2b7234b-e25b-40ff-8658-7fdd80863309 button');\n",
              "      quickchartButtonEl.style.display =\n",
              "        google.colab.kernel.accessAllowed ? 'block' : 'none';\n",
              "    })();\n",
              "  </script>\n",
              "</div>\n",
              "\n",
              "    </div>\n",
              "  </div>\n"
            ],
            "application/vnd.google.colaboratory.intrinsic+json": {
              "type": "dataframe",
              "summary": "{\n  \"name\": \"syn\",\n  \"rows\": 202,\n  \"fields\": [\n    {\n      \"column\": \"timestamp\",\n      \"properties\": {\n        \"dtype\": \"date\",\n        \"min\": \"2023-01-12 10:49:26.312000\",\n        \"max\": \"2029-03-12 09:30:08.186000\",\n        \"num_unique_values\": 202,\n        \"samples\": [\n          \"2025-10-23 03:32:14.078000\",\n          \"2023-04-23 19:19:47.638000\",\n          \"2023-08-07 13:33:13.667000\"\n        ],\n        \"semantic_type\": \"\",\n        \"description\": \"\"\n      }\n    },\n    {\n      \"column\": \"amount\",\n      \"properties\": {\n        \"dtype\": \"number\",\n        \"std\": 1749.939595221604,\n        \"min\": 16.32529967991487,\n        \"max\": 7454.947786680587,\n        \"num_unique_values\": 202,\n        \"samples\": [\n          870.1010272618682,\n          2053.873162863389,\n          2122.3869268507756\n        ],\n        \"semantic_type\": \"\",\n        \"description\": \"\"\n      }\n    },\n    {\n      \"column\": \"age\",\n      \"properties\": {\n        \"dtype\": \"category\",\n        \"num_unique_values\": 1,\n        \"samples\": [\n          \"4\"\n        ],\n        \"semantic_type\": \"\",\n        \"description\": \"\"\n      }\n    },\n    {\n      \"column\": \"gender\",\n      \"properties\": {\n        \"dtype\": \"category\",\n        \"num_unique_values\": 1,\n        \"samples\": [\n          \"M\"\n        ],\n        \"semantic_type\": \"\",\n        \"description\": \"\"\n      }\n    },\n    {\n      \"column\": \"merchant\",\n      \"properties\": {\n        \"dtype\": \"category\",\n        \"num_unique_values\": 29,\n        \"samples\": [\n          \"M151143676\"\n        ],\n        \"semantic_type\": \"\",\n        \"description\": \"\"\n      }\n    },\n    {\n      \"column\": \"category\",\n      \"properties\": {\n        \"dtype\": \"category\",\n        \"num_unique_values\": 15,\n        \"samples\": [\n          \"sportsandtoys\"\n        ],\n        \"semantic_type\": \"\",\n        \"description\": \"\"\n      }\n    },\n    {\n      \"column\": \"fraud\",\n      \"properties\": {\n        \"dtype\": \"number\",\n        \"std\": 0,\n        \"min\": 0,\n        \"max\": 1,\n        \"num_unique_values\": 2,\n        \"samples\": [\n          1\n        ],\n        \"semantic_type\": \"\",\n        \"description\": \"\"\n      }\n    },\n    {\n      \"column\": \"session_key\",\n      \"properties\": {\n        \"dtype\": \"number\",\n        \"std\": 6.50509343355511,\n        \"min\": 0.0,\n        \"max\": 24.0,\n        \"num_unique_values\": 25,\n        \"samples\": [\n          8.0\n        ],\n        \"semantic_type\": \"\",\n        \"description\": \"\"\n      }\n    }\n  ]\n}"
            }
          },
          "metadata": {},
          "execution_count": 14
        }
      ],
      "source": [
        "syn.to_pandas()"
      ]
    },
    {
      "cell_type": "markdown",
      "source": [
        "##### Validate metadata fields are constrained to given_metadata:"
      ],
      "metadata": {
        "id": "U-y2NMWvhx0X"
      }
    },
    {
      "cell_type": "code",
      "source": [
        "# plot age\n",
        "rl.vis.plot_bar(datasets=[syn], field=\"age\")"
      ],
      "metadata": {
        "colab": {
          "base_uri": "https://localhost:8080/",
          "height": 519
        },
        "id": "7rKRg7UYLN04",
        "outputId": "f11265fa-e784-4fb5-80b1-752285621bb1"
      },
      "execution_count": null,
      "outputs": [
        {
          "output_type": "execute_result",
          "data": {
            "text/plain": [
              "<seaborn.axisgrid.FacetGrid at 0x7983d2c2c160>"
            ]
          },
          "metadata": {},
          "execution_count": 19
        },
        {
          "output_type": "display_data",
          "data": {
            "text/plain": [
              "<Figure size 625.5x500 with 1 Axes>"
            ],
            "image/png": "[encoded data removed]"
          },
          "metadata": {}
        }
      ]
    },
    {
      "cell_type": "code",
      "source": [
        "# plot gender\n",
        "rl.vis.plot_bar(datasets=[syn], field=\"gender\")"
      ],
      "metadata": {
        "colab": {
          "base_uri": "https://localhost:8080/",
          "height": 519
        },
        "id": "6zRZWNm5eWqp",
        "outputId": "7df4a9ca-8fc2-4f97-b47f-48433738996c"
      },
      "execution_count": null,
      "outputs": [
        {
          "output_type": "execute_result",
          "data": {
            "text/plain": [
              "<seaborn.axisgrid.FacetGrid at 0x7983d58f3280>"
            ]
          },
          "metadata": {},
          "execution_count": 17
        },
        {
          "output_type": "display_data",
          "data": {
            "text/plain": [
              "<Figure size 625.5x500 with 1 Axes>"
            ],
            "image/png": "[encoded data removed]"
          },
          "metadata": {}
        }
      ]
    },
    {
      "cell_type": "markdown",
      "metadata": {
        "id": "UAXMaAmcV04n"
      },
      "source": [
        "#### Example 2: Multiple Conditions, Controlling Number of Sessions\n",
        "\n",
        "**User Intent**\n",
        "\n",
        "Generate the following synthetic dataset (using the same model):\n",
        "1. 25 sessions with metadata (age = 4, gender = M)\n",
        "2. 50 sessions with metadata either (age = 2, gender = F) or (age = 5, gender = M)"
      ]
    },
    {
      "cell_type": "markdown",
      "metadata": {
        "id": "hS6h14tHC7f-"
      },
      "source": [
        "##### Specify these conditions in the generate config"
      ]
    },
    {
      "cell_type": "code",
      "execution_count": null,
      "metadata": {
        "id": "eDehCdwEmykP"
      },
      "outputs": [],
      "source": [
        "# given_metadata = [(age = 2, gender = F), (age = 5, gender = M)]\n",
        "# expected output: 50 sessions with metadata that can be either\n",
        "# (age = 2, gender = F) or (age = 5, gender = M).\n",
        "given_metadata2 = {\n",
        "    \"age\": [\"2\", \"5\"],\n",
        "    \"gender\": [\"F\", \"M\"]\n",
        "}\n",
        "generate2_config = get_config(sessions=50, given_metadata=given_metadata2)\n",
        "generate2 = ra.GenerateTimeGAN(generate2_config)"
      ]
    },
    {
      "cell_type": "markdown",
      "metadata": {
        "id": "zN9W_FNODD_k"
      },
      "source": [
        "##### Run the generate workflow"
      ]
    },
    {
      "cell_type": "code",
      "execution_count": null,
      "metadata": {
        "colab": {
          "base_uri": "https://localhost:8080/"
        },
        "id": "LoKKazcDnX67",
        "outputId": "bad83b7d-c7be-4493-85f7-e32b5848bc2f"
      },
      "outputs": [
        {
          "output_type": "stream",
          "name": "stdout",
          "text": [
            "Generate Workflow: 54fOuPdztZnCOpLpbYwwSB\n"
          ]
        }
      ],
      "source": [
        "save = ra.DatasetSave(name=\"synthetic\",\n",
        "                      concat_tables=True,\n",
        "                      concat_session_key=\"session_key\")\n",
        "\n",
        "# this shows how you can add two different generate actions to the same workflow\n",
        "builder = rf.WorkflowBuilder()\n",
        "builder.add(model)\n",
        "builder.add(generate1, parents=[model])  # re-using generate action from example 1\n",
        "builder.add(generate2, parents=[model])  # using generate action from example 2\n",
        "builder.add(save, parents=[generate1, generate2])\n",
        "workflow = await builder.start(conn)\n",
        "print(f\"Generate Workflow: {workflow.id()}\")"
      ]
    },
    {
      "cell_type": "code",
      "execution_count": null,
      "metadata": {
        "id": "ElmuvVyGnboW"
      },
      "outputs": [],
      "source": [
        "async for log in workflow.logs(level=rf.events.LogLevel.DEBUG):\n",
        "    print(log)"
      ]
    },
    {
      "cell_type": "code",
      "execution_count": null,
      "metadata": {
        "id": "cmICaybvrlR2"
      },
      "outputs": [],
      "source": [
        "syn = None\n",
        "async for sds in workflow.datasets():\n",
        "  syn = await sds.to_local(conn)"
      ]
    },
    {
      "cell_type": "code",
      "execution_count": null,
      "metadata": {
        "colab": {
          "base_uri": "https://localhost:8080/",
          "height": 424
        },
        "id": "-ZhUm7YZnc3T",
        "outputId": "ca9b795e-9ef1-4b46-b590-4105d7263b3a"
      },
      "outputs": [
        {
          "output_type": "execute_result",
          "data": {
            "text/plain": [
              "                  timestamp       amount age gender     merchant  \\\n",
              "0   2023-01-20 21:02:00.116  5465.478728   2      F  M1788569036   \n",
              "1   2023-01-31 16:41:24.522  3315.243875   5      M  M1873032707   \n",
              "2   2023-01-31 02:54:58.618  5547.200845   2      F    M17379832   \n",
              "3   2023-02-10 02:11:07.544  5545.306976   2      F  M1352454843   \n",
              "4   2023-02-03 14:18:19.630  3022.589916   5      M  M1198415165   \n",
              "..                      ...          ...  ..    ...          ...   \n",
              "429 2028-07-10 09:17:46.080  2782.486951   4      M  M1198415165   \n",
              "430 2028-07-15 01:41:35.913  3345.987021   4      M   M209847108   \n",
              "431 2028-07-20 13:08:41.885  3371.404961   4      M  M1741626453   \n",
              "432 2028-07-29 21:42:38.234  3190.142629   4      M   M933210764   \n",
              "433 2028-08-15 13:43:27.641  3992.055579   4      M   M349281107   \n",
              "\n",
              "           category  fraud  session_key  \n",
              "0           fashion      0         25.0  \n",
              "1     otherservices      0         26.0  \n",
              "2     sportsandtoys      1         27.0  \n",
              "3              food      1         27.0  \n",
              "4            health      1         28.0  \n",
              "..              ...    ...          ...  \n",
              "429          health      0         22.0  \n",
              "430        contents      0         22.0  \n",
              "431          health      1         23.0  \n",
              "432   hotelservices      0         23.0  \n",
              "433  transportation      0         24.0  \n",
              "\n",
              "[434 rows x 8 columns]"
            ],
            "text/html": [
              "\n",
              "  <div id=\"df-77aace5f-a9c5-431c-a6d6-5a2de67f24c7\" class=\"colab-df-container\">\n",
              "    <div>\n",
              "<style scoped>\n",
              "    .dataframe tbody tr th:only-of-type {\n",
              "        vertical-align: middle;\n",
              "    }\n",
              "\n",
              "    .dataframe tbody tr th {\n",
              "        vertical-align: top;\n",
              "    }\n",
              "\n",
              "    .dataframe thead th {\n",
              "        text-align: right;\n",
              "    }\n",
              "</style>\n",
              "<table border=\"1\" class=\"dataframe\">\n",
              "  <thead>\n",
              "    <tr style=\"text-align: right;\">\n",
              "      <th></th>\n",
              "      <th>timestamp</th>\n",
              "      <th>amount</th>\n",
              "      <th>age</th>\n",
              "      <th>gender</th>\n",
              "      <th>merchant</th>\n",
              "      <th>category</th>\n",
              "      <th>fraud</th>\n",
              "      <th>session_key</th>\n",
              "    </tr>\n",
              "  </thead>\n",
              "  <tbody>\n",
              "    <tr>\n",
              "      <th>0</th>\n",
              "      <td>2023-01-20 21:02:00.116</td>\n",
              "      <td>5465.478728</td>\n",
              "      <td>2</td>\n",
              "      <td>F</td>\n",
              "      <td>M1788569036</td>\n",
              "      <td>fashion</td>\n",
              "      <td>0</td>\n",
              "      <td>25.0</td>\n",
              "    </tr>\n",
              "    <tr>\n",
              "      <th>1</th>\n",
              "      <td>2023-01-31 16:41:24.522</td>\n",
              "      <td>3315.243875</td>\n",
              "      <td>5</td>\n",
              "      <td>M</td>\n",
              "      <td>M1873032707</td>\n",
              "      <td>otherservices</td>\n",
              "      <td>0</td>\n",
              "      <td>26.0</td>\n",
              "    </tr>\n",
              "    <tr>\n",
              "      <th>2</th>\n",
              "      <td>2023-01-31 02:54:58.618</td>\n",
              "      <td>5547.200845</td>\n",
              "      <td>2</td>\n",
              "      <td>F</td>\n",
              "      <td>M17379832</td>\n",
              "      <td>sportsandtoys</td>\n",
              "      <td>1</td>\n",
              "      <td>27.0</td>\n",
              "    </tr>\n",
              "    <tr>\n",
              "      <th>3</th>\n",
              "      <td>2023-02-10 02:11:07.544</td>\n",
              "      <td>5545.306976</td>\n",
              "      <td>2</td>\n",
              "      <td>F</td>\n",
              "      <td>M1352454843</td>\n",
              "      <td>food</td>\n",
              "      <td>1</td>\n",
              "      <td>27.0</td>\n",
              "    </tr>\n",
              "    <tr>\n",
              "      <th>4</th>\n",
              "      <td>2023-02-03 14:18:19.630</td>\n",
              "      <td>3022.589916</td>\n",
              "      <td>5</td>\n",
              "      <td>M</td>\n",
              "      <td>M1198415165</td>\n",
              "      <td>health</td>\n",
              "      <td>1</td>\n",
              "      <td>28.0</td>\n",
              "    </tr>\n",
              "    <tr>\n",
              "      <th>...</th>\n",
              "      <td>...</td>\n",
              "      <td>...</td>\n",
              "      <td>...</td>\n",
              "      <td>...</td>\n",
              "      <td>...</td>\n",
              "      <td>...</td>\n",
              "      <td>...</td>\n",
              "      <td>...</td>\n",
              "    </tr>\n",
              "    <tr>\n",
              "      <th>429</th>\n",
              "      <td>2028-07-10 09:17:46.080</td>\n",
              "      <td>2782.486951</td>\n",
              "      <td>4</td>\n",
              "      <td>M</td>\n",
              "      <td>M1198415165</td>\n",
              "      <td>health</td>\n",
              "      <td>0</td>\n",
              "      <td>22.0</td>\n",
              "    </tr>\n",
              "    <tr>\n",
              "      <th>430</th>\n",
              "      <td>2028-07-15 01:41:35.913</td>\n",
              "      <td>3345.987021</td>\n",
              "      <td>4</td>\n",
              "      <td>M</td>\n",
              "      <td>M209847108</td>\n",
              "      <td>contents</td>\n",
              "      <td>0</td>\n",
              "      <td>22.0</td>\n",
              "    </tr>\n",
              "    <tr>\n",
              "      <th>431</th>\n",
              "      <td>2028-07-20 13:08:41.885</td>\n",
              "      <td>3371.404961</td>\n",
              "      <td>4</td>\n",
              "      <td>M</td>\n",
              "      <td>M1741626453</td>\n",
              "      <td>health</td>\n",
              "      <td>1</td>\n",
              "      <td>23.0</td>\n",
              "    </tr>\n",
              "    <tr>\n",
              "      <th>432</th>\n",
              "      <td>2028-07-29 21:42:38.234</td>\n",
              "      <td>3190.142629</td>\n",
              "      <td>4</td>\n",
              "      <td>M</td>\n",
              "      <td>M933210764</td>\n",
              "      <td>hotelservices</td>\n",
              "      <td>0</td>\n",
              "      <td>23.0</td>\n",
              "    </tr>\n",
              "    <tr>\n",
              "      <th>433</th>\n",
              "      <td>2028-08-15 13:43:27.641</td>\n",
              "      <td>3992.055579</td>\n",
              "      <td>4</td>\n",
              "      <td>M</td>\n",
              "      <td>M349281107</td>\n",
              "      <td>transportation</td>\n",
              "      <td>0</td>\n",
              "      <td>24.0</td>\n",
              "    </tr>\n",
              "  </tbody>\n",
              "</table>\n",
              "<p>434 rows × 8 columns</p>\n",
              "</div>\n",
              "    <div class=\"colab-df-buttons\">\n",
              "\n",
              "  <div class=\"colab-df-container\">\n",
              "    <button class=\"colab-df-convert\" onclick=\"convertToInteractive('df-77aace5f-a9c5-431c-a6d6-5a2de67f24c7')\"\n",
              "            title=\"Convert this dataframe to an interactive table.\"\n",
              "            style=\"display:none;\">\n",
              "\n",
              "  <svg xmlns=\"http://www.w3.org/2000/svg\" height=\"24px\" viewBox=\"0 -960 960 960\">\n",
              "    <path d=\"M120-120v-720h720v720H120Zm60-500h600v-160H180v160Zm220 220h160v-160H400v160Zm0 220h160v-160H400v160ZM180-400h160v-160H180v160Zm440 0h160v-160H620v160ZM180-180h160v-160H180v160Zm440 0h160v-160H620v160Z\"/>\n",
              "  </svg>\n",
              "    </button>\n",
              "\n",
              "  <style>\n",
              "    .colab-df-container {\n",
              "      display:flex;\n",
              "      gap: 12px;\n",
              "    }\n",
              "\n",
              "    .colab-df-convert {\n",
              "      background-color: #E8F0FE;\n",
              "      border: none;\n",
              "      border-radius: 50%;\n",
              "      cursor: pointer;\n",
              "      display: none;\n",
              "      fill: #1967D2;\n",
              "      height: 32px;\n",
              "      padding: 0 0 0 0;\n",
              "      width: 32px;\n",
              "    }\n",
              "\n",
              "    .colab-df-convert:hover {\n",
              "      background-color: #E2EBFA;\n",
              "      box-shadow: 0px 1px 2px rgba(60, 64, 67, 0.3), 0px 1px 3px 1px rgba(60, 64, 67, 0.15);\n",
              "      fill: #174EA6;\n",
              "    }\n",
              "\n",
              "    .colab-df-buttons div {\n",
              "      margin-bottom: 4px;\n",
              "    }\n",
              "\n",
              "    [theme=dark] .colab-df-convert {\n",
              "      background-color: #3B4455;\n",
              "      fill: #D2E3FC;\n",
              "    }\n",
              "\n",
              "    [theme=dark] .colab-df-convert:hover {\n",
              "      background-color: #434B5C;\n",
              "      box-shadow: 0px 1px 3px 1px rgba(0, 0, 0, 0.15);\n",
              "      filter: drop-shadow(0px 1px 2px rgba(0, 0, 0, 0.3));\n",
              "      fill: #FFFFFF;\n",
              "    }\n",
              "  </style>\n",
              "\n",
              "    <script>\n",
              "      const buttonEl =\n",
              "        document.querySelector('#df-77aace5f-a9c5-431c-a6d6-5a2de67f24c7 button.colab-df-convert');\n",
              "      buttonEl.style.display =\n",
              "        google.colab.kernel.accessAllowed ? 'block' : 'none';\n",
              "\n",
              "      async function convertToInteractive(key) {\n",
              "        const element = document.querySelector('#df-77aace5f-a9c5-431c-a6d6-5a2de67f24c7');\n",
              "        const dataTable =\n",
              "          await google.colab.kernel.invokeFunction('convertToInteractive',\n",
              "                                                    [key], {});\n",
              "        if (!dataTable) return;\n",
              "\n",
              "        const docLinkHtml = 'Like what you see? Visit the ' +\n",
              "          '<a target=\"_blank\" href=https://colab.research.google.com/notebooks/data_table.ipynb>data table notebook</a>'\n",
              "          + ' to learn more about interactive tables.';\n",
              "        element.innerHTML = '';\n",
              "        dataTable['output_type'] = 'display_data';\n",
              "        await google.colab.output.renderOutput(dataTable, element);\n",
              "        const docLink = document.createElement('div');\n",
              "        docLink.innerHTML = docLinkHtml;\n",
              "        element.appendChild(docLink);\n",
              "      }\n",
              "    </script>\n",
              "  </div>\n",
              "\n",
              "\n",
              "<div id=\"df-845a341b-6d9e-44fb-b0f5-83a816236589\">\n",
              "  <button class=\"colab-df-quickchart\" onclick=\"quickchart('df-845a341b-6d9e-44fb-b0f5-83a816236589')\"\n",
              "            title=\"Suggest charts\"\n",
              "            style=\"display:none;\">\n",
              "\n",
              "<svg xmlns=\"http://www.w3.org/2000/svg\" height=\"24px\"viewBox=\"0 0 24 24\"\n",
              "     width=\"24px\">\n",
              "    <g>\n",
              "        <path d=\"M19 3H5c-1.1 0-2 .9-2 2v14c0 1.1.9 2 2 2h14c1.1 0 2-.9 2-2V5c0-1.1-.9-2-2-2zM9 17H7v-7h2v7zm4 0h-2V7h2v10zm4 0h-2v-4h2v4z\"/>\n",
              "    </g>\n",
              "</svg>\n",
              "  </button>\n",
              "\n",
              "<style>\n",
              "  .colab-df-quickchart {\n",
              "      --bg-color: #E8F0FE;\n",
              "      --fill-color: #1967D2;\n",
              "      --hover-bg-color: #E2EBFA;\n",
              "      --hover-fill-color: #174EA6;\n",
              "      --disabled-fill-color: #AAA;\n",
              "      --disabled-bg-color: #DDD;\n",
              "  }\n",
              "\n",
              "  [theme=dark] .colab-df-quickchart {\n",
              "      --bg-color: #3B4455;\n",
              "      --fill-color: #D2E3FC;\n",
              "      --hover-bg-color: #434B5C;\n",
              "      --hover-fill-color: #FFFFFF;\n",
              "      --disabled-bg-color: #3B4455;\n",
              "      --disabled-fill-color: #666;\n",
              "  }\n",
              "\n",
              "  .colab-df-quickchart {\n",
              "    background-color: var(--bg-color);\n",
              "    border: none;\n",
              "    border-radius: 50%;\n",
              "    cursor: pointer;\n",
              "    display: none;\n",
              "    fill: var(--fill-color);\n",
              "    height: 32px;\n",
              "    padding: 0;\n",
              "    width: 32px;\n",
              "  }\n",
              "\n",
              "  .colab-df-quickchart:hover {\n",
              "    background-color: var(--hover-bg-color);\n",
              "    box-shadow: 0 1px 2px rgba(60, 64, 67, 0.3), 0 1px 3px 1px rgba(60, 64, 67, 0.15);\n",
              "    fill: var(--button-hover-fill-color);\n",
              "  }\n",
              "\n",
              "  .colab-df-quickchart-complete:disabled,\n",
              "  .colab-df-quickchart-complete:disabled:hover {\n",
              "    background-color: var(--disabled-bg-color);\n",
              "    fill: var(--disabled-fill-color);\n",
              "    box-shadow: none;\n",
              "  }\n",
              "\n",
              "  .colab-df-spinner {\n",
              "    border: 2px solid var(--fill-color);\n",
              "    border-color: transparent;\n",
              "    border-bottom-color: var(--fill-color);\n",
              "    animation:\n",
              "      spin 1s steps(1) infinite;\n",
              "  }\n",
              "\n",
              "  @keyframes spin {\n",
              "    0% {\n",
              "      border-color: transparent;\n",
              "      border-bottom-color: var(--fill-color);\n",
              "      border-left-color: var(--fill-color);\n",
              "    }\n",
              "    20% {\n",
              "      border-color: transparent;\n",
              "      border-left-color: var(--fill-color);\n",
              "      border-top-color: var(--fill-color);\n",
              "    }\n",
              "    30% {\n",
              "      border-color: transparent;\n",
              "      border-left-color: var(--fill-color);\n",
              "      border-top-color: var(--fill-color);\n",
              "      border-right-color: var(--fill-color);\n",
              "    }\n",
              "    40% {\n",
              "      border-color: transparent;\n",
              "      border-right-color: var(--fill-color);\n",
              "      border-top-color: var(--fill-color);\n",
              "    }\n",
              "    60% {\n",
              "      border-color: transparent;\n",
              "      border-right-color: var(--fill-color);\n",
              "    }\n",
              "    80% {\n",
              "      border-color: transparent;\n",
              "      border-right-color: var(--fill-color);\n",
              "      border-bottom-color: var(--fill-color);\n",
              "    }\n",
              "    90% {\n",
              "      border-color: transparent;\n",
              "      border-bottom-color: var(--fill-color);\n",
              "    }\n",
              "  }\n",
              "</style>\n",
              "\n",
              "  <script>\n",
              "    async function quickchart(key) {\n",
              "      const quickchartButtonEl =\n",
              "        document.querySelector('#' + key + ' button');\n",
              "      quickchartButtonEl.disabled = true;  // To prevent multiple clicks.\n",
              "      quickchartButtonEl.classList.add('colab-df-spinner');\n",
              "      try {\n",
              "        const charts = await google.colab.kernel.invokeFunction(\n",
              "            'suggestCharts', [key], {});\n",
              "      } catch (error) {\n",
              "        console.error('Error during call to suggestCharts:', error);\n",
              "      }\n",
              "      quickchartButtonEl.classList.remove('colab-df-spinner');\n",
              "      quickchartButtonEl.classList.add('colab-df-quickchart-complete');\n",
              "    }\n",
              "    (() => {\n",
              "      let quickchartButtonEl =\n",
              "        document.querySelector('#df-845a341b-6d9e-44fb-b0f5-83a816236589 button');\n",
              "      quickchartButtonEl.style.display =\n",
              "        google.colab.kernel.accessAllowed ? 'block' : 'none';\n",
              "    })();\n",
              "  </script>\n",
              "</div>\n",
              "\n",
              "    </div>\n",
              "  </div>\n"
            ],
            "application/vnd.google.colaboratory.intrinsic+json": {
              "type": "dataframe",
              "summary": "{\n  \"name\": \"syn\",\n  \"rows\": 434,\n  \"fields\": [\n    {\n      \"column\": \"timestamp\",\n      \"properties\": {\n        \"dtype\": \"date\",\n        \"min\": \"2023-01-11 22:49:08.147000\",\n        \"max\": \"2028-08-15 13:43:27.641000\",\n        \"num_unique_values\": 434,\n        \"samples\": [\n          \"2025-06-02 00:59:24.571000\",\n          \"2024-01-22 01:35:51.841000\",\n          \"2024-08-13 01:27:11.577000\"\n        ],\n        \"semantic_type\": \"\",\n        \"description\": \"\"\n      }\n    },\n    {\n      \"column\": \"amount\",\n      \"properties\": {\n        \"dtype\": \"number\",\n        \"std\": 2715.6883137334326,\n        \"min\": -409.54496936224007,\n        \"max\": 7634.290776221731,\n        \"num_unique_values\": 434,\n        \"samples\": [\n          1540.2167403011185,\n          756.0050434678789,\n          2101.8739976160923\n        ],\n        \"semantic_type\": \"\",\n        \"description\": \"\"\n      }\n    },\n    {\n      \"column\": \"age\",\n      \"properties\": {\n        \"dtype\": \"category\",\n        \"num_unique_values\": 3,\n        \"samples\": [\n          \"2\",\n          \"5\",\n          \"4\"\n        ],\n        \"semantic_type\": \"\",\n        \"description\": \"\"\n      }\n    },\n    {\n      \"column\": \"gender\",\n      \"properties\": {\n        \"dtype\": \"category\",\n        \"num_unique_values\": 2,\n        \"samples\": [\n          \"M\",\n          \"F\"\n        ],\n        \"semantic_type\": \"\",\n        \"description\": \"\"\n      }\n    },\n    {\n      \"column\": \"merchant\",\n      \"properties\": {\n        \"dtype\": \"category\",\n        \"num_unique_values\": 45,\n        \"samples\": [\n          \"M1823072687\",\n          \"M85975013\"\n        ],\n        \"semantic_type\": \"\",\n        \"description\": \"\"\n      }\n    },\n    {\n      \"column\": \"category\",\n      \"properties\": {\n        \"dtype\": \"category\",\n        \"num_unique_values\": 15,\n        \"samples\": [\n          \"hotelservices\",\n          \"tech\"\n        ],\n        \"semantic_type\": \"\",\n        \"description\": \"\"\n      }\n    },\n    {\n      \"column\": \"fraud\",\n      \"properties\": {\n        \"dtype\": \"number\",\n        \"std\": 0,\n        \"min\": 0,\n        \"max\": 1,\n        \"num_unique_values\": 2,\n        \"samples\": [\n          1,\n          0\n        ],\n        \"semantic_type\": \"\",\n        \"description\": \"\"\n      }\n    },\n    {\n      \"column\": \"session_key\",\n      \"properties\": {\n        \"dtype\": \"number\",\n        \"std\": 23.21256093300076,\n        \"min\": 0.0,\n        \"max\": 74.0,\n        \"num_unique_values\": 75,\n        \"samples\": [\n          29.0,\n          13.0\n        ],\n        \"semantic_type\": \"\",\n        \"description\": \"\"\n      }\n    }\n  ]\n}"
            }
          },
          "metadata": {},
          "execution_count": 24
        }
      ],
      "source": [
        "syn.to_pandas()"
      ]
    },
    {
      "cell_type": "markdown",
      "source": [
        "##### Validate metadata fields are constrained to given_metadata:"
      ],
      "metadata": {
        "id": "JIl40FuXh62k"
      }
    },
    {
      "cell_type": "code",
      "source": [
        "# plot age\n",
        "rl.vis.plot_bar(datasets=[syn], field=\"age\")"
      ],
      "metadata": {
        "colab": {
          "base_uri": "https://localhost:8080/",
          "height": 519
        },
        "id": "x-08XE0nLJwI",
        "outputId": "2eb81505-fa91-421d-fe8d-72c787ecd9da"
      },
      "execution_count": null,
      "outputs": [
        {
          "output_type": "execute_result",
          "data": {
            "text/plain": [
              "<seaborn.axisgrid.FacetGrid at 0x7983d2b826b0>"
            ]
          },
          "metadata": {},
          "execution_count": 26
        },
        {
          "output_type": "display_data",
          "data": {
            "text/plain": [
              "<Figure size 625.5x500 with 1 Axes>"
            ],
            "image/png": "[encoded data removed]"
          },
          "metadata": {}
        }
      ]
    },
    {
      "cell_type": "code",
      "source": [
        "# plot gender\n",
        "rl.vis.plot_bar(datasets=[syn], field=\"gender\")"
      ],
      "metadata": {
        "colab": {
          "base_uri": "https://localhost:8080/",
          "height": 519
        },
        "id": "XV3t7_jXeaw7",
        "outputId": "5439c1fb-12d0-4d80-bbe2-ed714195f50a"
      },
      "execution_count": null,
      "outputs": [
        {
          "output_type": "execute_result",
          "data": {
            "text/plain": [
              "<seaborn.axisgrid.FacetGrid at 0x7983d2b82b00>"
            ]
          },
          "metadata": {},
          "execution_count": 27
        },
        {
          "output_type": "display_data",
          "data": {
            "text/plain": [
              "<Figure size 625.5x500 with 1 Axes>"
            ],
            "image/png": "[encoded data removed]"
          },
          "metadata": {}
        }
      ]
    }
  ],
  "metadata": {
    "colab": {
      "collapsed_sections": [
        "cGXiiEscl2Dj",
        "b5QfMd72Vclu",
        "uyjRS10ADWTk",
        "zN9W_FNODD_k"
      ],
      "provenance": []
    },
    "kernelspec": {
      "display_name": "Python 3",
      "name": "python3"
    },
    "language_info": {
      "name": "python"
    }
  },
  "nbformat": 4,
  "nbformat_minor": 0
}
