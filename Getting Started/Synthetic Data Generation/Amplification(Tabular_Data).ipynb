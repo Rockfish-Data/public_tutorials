{
  "cells": [
    {
      "cell_type": "code",
      "execution_count": 1,
      "metadata": {
        "id": "hgVdjEBIGUub"
      },
      "outputs": [],
      "source": [
        "%%capture\n",
        "%pip install -U 'rockfish[labs]' -f 'https://packages.rockfish.ai'"
      ]
    },
    {
      "cell_type": "code",
      "execution_count": 2,
      "metadata": {
        "id": "URcxxdQA5X5y"
      },
      "outputs": [],
      "source": [
        "import io\n",
        "import rockfish as rf\n",
        "import rockfish.actions as ra\n",
        "import rockfish.labs"
      ]
    },
    {
      "cell_type": "markdown",
      "metadata": {
        "id": "oGt18-G6EHtM"
      },
      "source": [
        "### Amplify on selected field from tabular data\n"
      ]
    },
    {
      "cell_type": "code",
      "execution_count": 3,
      "metadata": {
        "id": "l9UNn2CBEZvB"
      },
      "outputs": [],
      "source": [
        "tabular_data = b\"\"\"\\\n",
        "Age range of patient,Sex,BBS Score,Heart Rate\n",
        "60<70,M,41,80\n",
        "30<40,F,41,78\n",
        "60<70,M,43,81\n",
        "80<90,M,40,82\n",
        "60<70,M,40,90\n",
        "60<70,M,38,90\n",
        "20<30,M,38,70\n",
        "1<13,F,38,75\n",
        "70<80,M,38,70\n",
        "40<50,F,38,80\n",
        "80<90,M,42,88\n",
        "40<50,F,42,89\n",
        "60<70,M,42,90\n",
        "80<90,M,42,101\n",
        "70<80,M,42,100\n",
        "80<90,F,42,101\n",
        "60<70,M,39,99\n",
        "1<13,F,39,98\n",
        "80<90,M,39,75\n",
        "70<80,M,39,74\n",
        "\"\"\""
      ]
    },
    {
      "cell_type": "code",
      "execution_count": 4,
      "metadata": {
        "id": "QJtis_SKgQZm"
      },
      "outputs": [],
      "source": [
        "# connect locally\n",
        "conn = rf.Connection.local()"
      ]
    },
    {
      "cell_type": "code",
      "execution_count": 5,
      "metadata": {
        "colab": {
          "base_uri": "https://localhost:8080/",
          "height": 677
        },
        "id": "De95IZHmEZz8",
        "outputId": "7c3dd34d-96cb-43a5-d3b5-fc96f1a3eb77"
      },
      "outputs": [
        {
          "data": {
            "text/html": [
              "<div>\n",
              "<style scoped>\n",
              "    .dataframe tbody tr th:only-of-type {\n",
              "        vertical-align: middle;\n",
              "    }\n",
              "\n",
              "    .dataframe tbody tr th {\n",
              "        vertical-align: top;\n",
              "    }\n",
              "\n",
              "    .dataframe thead th {\n",
              "        text-align: right;\n",
              "    }\n",
              "</style>\n",
              "<table border=\"1\" class=\"dataframe\">\n",
              "  <thead>\n",
              "    <tr style=\"text-align: right;\">\n",
              "      <th></th>\n",
              "      <th>Age range of patient</th>\n",
              "      <th>Sex</th>\n",
              "      <th>BBS Score</th>\n",
              "      <th>Heart Rate</th>\n",
              "    </tr>\n",
              "  </thead>\n",
              "  <tbody>\n",
              "    <tr>\n",
              "      <th>0</th>\n",
              "      <td>60&lt;70</td>\n",
              "      <td>M</td>\n",
              "      <td>41</td>\n",
              "      <td>80</td>\n",
              "    </tr>\n",
              "    <tr>\n",
              "      <th>1</th>\n",
              "      <td>30&lt;40</td>\n",
              "      <td>F</td>\n",
              "      <td>41</td>\n",
              "      <td>78</td>\n",
              "    </tr>\n",
              "    <tr>\n",
              "      <th>2</th>\n",
              "      <td>60&lt;70</td>\n",
              "      <td>M</td>\n",
              "      <td>43</td>\n",
              "      <td>81</td>\n",
              "    </tr>\n",
              "    <tr>\n",
              "      <th>3</th>\n",
              "      <td>80&lt;90</td>\n",
              "      <td>M</td>\n",
              "      <td>40</td>\n",
              "      <td>82</td>\n",
              "    </tr>\n",
              "    <tr>\n",
              "      <th>4</th>\n",
              "      <td>60&lt;70</td>\n",
              "      <td>M</td>\n",
              "      <td>40</td>\n",
              "      <td>90</td>\n",
              "    </tr>\n",
              "    <tr>\n",
              "      <th>5</th>\n",
              "      <td>60&lt;70</td>\n",
              "      <td>M</td>\n",
              "      <td>38</td>\n",
              "      <td>90</td>\n",
              "    </tr>\n",
              "    <tr>\n",
              "      <th>6</th>\n",
              "      <td>20&lt;30</td>\n",
              "      <td>M</td>\n",
              "      <td>38</td>\n",
              "      <td>70</td>\n",
              "    </tr>\n",
              "    <tr>\n",
              "      <th>7</th>\n",
              "      <td>1&lt;13</td>\n",
              "      <td>F</td>\n",
              "      <td>38</td>\n",
              "      <td>75</td>\n",
              "    </tr>\n",
              "    <tr>\n",
              "      <th>8</th>\n",
              "      <td>70&lt;80</td>\n",
              "      <td>M</td>\n",
              "      <td>38</td>\n",
              "      <td>70</td>\n",
              "    </tr>\n",
              "    <tr>\n",
              "      <th>9</th>\n",
              "      <td>40&lt;50</td>\n",
              "      <td>F</td>\n",
              "      <td>38</td>\n",
              "      <td>80</td>\n",
              "    </tr>\n",
              "    <tr>\n",
              "      <th>10</th>\n",
              "      <td>80&lt;90</td>\n",
              "      <td>M</td>\n",
              "      <td>42</td>\n",
              "      <td>88</td>\n",
              "    </tr>\n",
              "    <tr>\n",
              "      <th>11</th>\n",
              "      <td>40&lt;50</td>\n",
              "      <td>F</td>\n",
              "      <td>42</td>\n",
              "      <td>89</td>\n",
              "    </tr>\n",
              "    <tr>\n",
              "      <th>12</th>\n",
              "      <td>60&lt;70</td>\n",
              "      <td>M</td>\n",
              "      <td>42</td>\n",
              "      <td>90</td>\n",
              "    </tr>\n",
              "    <tr>\n",
              "      <th>13</th>\n",
              "      <td>80&lt;90</td>\n",
              "      <td>M</td>\n",
              "      <td>42</td>\n",
              "      <td>101</td>\n",
              "    </tr>\n",
              "    <tr>\n",
              "      <th>14</th>\n",
              "      <td>70&lt;80</td>\n",
              "      <td>M</td>\n",
              "      <td>42</td>\n",
              "      <td>100</td>\n",
              "    </tr>\n",
              "    <tr>\n",
              "      <th>15</th>\n",
              "      <td>80&lt;90</td>\n",
              "      <td>F</td>\n",
              "      <td>42</td>\n",
              "      <td>101</td>\n",
              "    </tr>\n",
              "    <tr>\n",
              "      <th>16</th>\n",
              "      <td>60&lt;70</td>\n",
              "      <td>M</td>\n",
              "      <td>39</td>\n",
              "      <td>99</td>\n",
              "    </tr>\n",
              "    <tr>\n",
              "      <th>17</th>\n",
              "      <td>1&lt;13</td>\n",
              "      <td>F</td>\n",
              "      <td>39</td>\n",
              "      <td>98</td>\n",
              "    </tr>\n",
              "    <tr>\n",
              "      <th>18</th>\n",
              "      <td>80&lt;90</td>\n",
              "      <td>M</td>\n",
              "      <td>39</td>\n",
              "      <td>75</td>\n",
              "    </tr>\n",
              "    <tr>\n",
              "      <th>19</th>\n",
              "      <td>70&lt;80</td>\n",
              "      <td>M</td>\n",
              "      <td>39</td>\n",
              "      <td>74</td>\n",
              "    </tr>\n",
              "  </tbody>\n",
              "</table>\n",
              "</div>"
            ],
            "text/plain": [
              "   Age range of patient Sex  BBS Score  Heart Rate\n",
              "0                 60<70   M         41          80\n",
              "1                 30<40   F         41          78\n",
              "2                 60<70   M         43          81\n",
              "3                 80<90   M         40          82\n",
              "4                 60<70   M         40          90\n",
              "5                 60<70   M         38          90\n",
              "6                 20<30   M         38          70\n",
              "7                  1<13   F         38          75\n",
              "8                 70<80   M         38          70\n",
              "9                 40<50   F         38          80\n",
              "10                80<90   M         42          88\n",
              "11                40<50   F         42          89\n",
              "12                60<70   M         42          90\n",
              "13                80<90   M         42         101\n",
              "14                70<80   M         42         100\n",
              "15                80<90   F         42         101\n",
              "16                60<70   M         39          99\n",
              "17                 1<13   F         39          98\n",
              "18                80<90   M         39          75\n",
              "19                70<80   M         39          74"
            ]
          },
          "execution_count": 5,
          "metadata": {},
          "output_type": "execute_result"
        }
      ],
      "source": [
        "tab_dataset = rf.Dataset.from_csv(\n",
        "    \"Before_amplified\", io.BytesIO(tabular_data)\n",
        ")\n",
        "tab_dataset.to_pandas()"
      ]
    },
    {
      "cell_type": "code",
      "execution_count": 13,
      "metadata": {
        "id": "L75GVN_TEZxc"
      },
      "outputs": [],
      "source": [
        "# dropping records in column \"Sex\" other than the value of \"M\" by given percentage\n",
        "post_amplify = ra.PostAmplify(\n",
        "    {\n",
        "        \"query_ast\": {\n",
        "            \"eq\": [\"Sex\", \"M\"],\n",
        "        },\n",
        "        \"drop_match_percentage\": 0.0,\n",
        "        \"drop_other_percentage\": 0.7,\n",
        "    }\n",
        ")\n",
        "\n",
        "save_amplified = ra.DatasetSave(name=\"After_amplified\")\n",
        "builder = rf.WorkflowBuilder()\n",
        "builder.add_dataset(tab_dataset)\n",
        "builder.add_action(post_amplify, parents=[tab_dataset])\n",
        "builder.add_action(save_amplified, parents=[post_amplify])\n",
        "workflow = await builder.start(conn)"
      ]
    },
    {
      "cell_type": "code",
      "execution_count": 14,
      "metadata": {},
      "outputs": [
        {
          "name": "stdout",
          "output_type": "stream",
          "text": [
            "2025-02-07T03:25:10.917737Z post-amplify: WARN No session metadata provided\n",
            "2025-02-07T03:25:10.914470Z dataset-load: INFO Downloading dataset '4flnmjmrKnScq52N5vdcQg'\n",
            "2025-02-07T03:25:10.916616Z dataset-load: INFO Downloaded dataset '4flnmjmrKnScq52N5vdcQg' with 20 rows\n",
            "2025-02-07T03:25:10.920673Z dataset-save: INFO Saved dataset '42JdK7e9qm6i5W2StFwW6I' with 15 rows\n",
            "2025-02-07T03:25:10.917776Z post-amplify: INFO Grouping on: []\n"
          ]
        }
      ],
      "source": [
        "async for log in workflow.logs():\n",
        "    print(log)"
      ]
    },
    {
      "cell_type": "code",
      "execution_count": 15,
      "metadata": {
        "colab": {
          "base_uri": "https://localhost:8080/",
          "height": 551
        },
        "id": "AChCXk5vhMUb",
        "outputId": "b79075dc-058e-4c21-f380-e32529f9cd1c"
      },
      "outputs": [
        {
          "data": {
            "text/html": [
              "<div>\n",
              "<style scoped>\n",
              "    .dataframe tbody tr th:only-of-type {\n",
              "        vertical-align: middle;\n",
              "    }\n",
              "\n",
              "    .dataframe tbody tr th {\n",
              "        vertical-align: top;\n",
              "    }\n",
              "\n",
              "    .dataframe thead th {\n",
              "        text-align: right;\n",
              "    }\n",
              "</style>\n",
              "<table border=\"1\" class=\"dataframe\">\n",
              "  <thead>\n",
              "    <tr style=\"text-align: right;\">\n",
              "      <th></th>\n",
              "      <th>Age range of patient</th>\n",
              "      <th>Sex</th>\n",
              "      <th>BBS Score</th>\n",
              "      <th>Heart Rate</th>\n",
              "    </tr>\n",
              "  </thead>\n",
              "  <tbody>\n",
              "    <tr>\n",
              "      <th>0</th>\n",
              "      <td>60&lt;70</td>\n",
              "      <td>M</td>\n",
              "      <td>41</td>\n",
              "      <td>80</td>\n",
              "    </tr>\n",
              "    <tr>\n",
              "      <th>1</th>\n",
              "      <td>60&lt;70</td>\n",
              "      <td>M</td>\n",
              "      <td>43</td>\n",
              "      <td>81</td>\n",
              "    </tr>\n",
              "    <tr>\n",
              "      <th>2</th>\n",
              "      <td>80&lt;90</td>\n",
              "      <td>M</td>\n",
              "      <td>40</td>\n",
              "      <td>82</td>\n",
              "    </tr>\n",
              "    <tr>\n",
              "      <th>3</th>\n",
              "      <td>60&lt;70</td>\n",
              "      <td>M</td>\n",
              "      <td>40</td>\n",
              "      <td>90</td>\n",
              "    </tr>\n",
              "    <tr>\n",
              "      <th>4</th>\n",
              "      <td>60&lt;70</td>\n",
              "      <td>M</td>\n",
              "      <td>38</td>\n",
              "      <td>90</td>\n",
              "    </tr>\n",
              "    <tr>\n",
              "      <th>5</th>\n",
              "      <td>20&lt;30</td>\n",
              "      <td>M</td>\n",
              "      <td>38</td>\n",
              "      <td>70</td>\n",
              "    </tr>\n",
              "    <tr>\n",
              "      <th>6</th>\n",
              "      <td>70&lt;80</td>\n",
              "      <td>M</td>\n",
              "      <td>38</td>\n",
              "      <td>70</td>\n",
              "    </tr>\n",
              "    <tr>\n",
              "      <th>7</th>\n",
              "      <td>80&lt;90</td>\n",
              "      <td>M</td>\n",
              "      <td>42</td>\n",
              "      <td>88</td>\n",
              "    </tr>\n",
              "    <tr>\n",
              "      <th>8</th>\n",
              "      <td>60&lt;70</td>\n",
              "      <td>M</td>\n",
              "      <td>42</td>\n",
              "      <td>90</td>\n",
              "    </tr>\n",
              "    <tr>\n",
              "      <th>9</th>\n",
              "      <td>80&lt;90</td>\n",
              "      <td>M</td>\n",
              "      <td>42</td>\n",
              "      <td>101</td>\n",
              "    </tr>\n",
              "    <tr>\n",
              "      <th>10</th>\n",
              "      <td>70&lt;80</td>\n",
              "      <td>M</td>\n",
              "      <td>42</td>\n",
              "      <td>100</td>\n",
              "    </tr>\n",
              "    <tr>\n",
              "      <th>11</th>\n",
              "      <td>60&lt;70</td>\n",
              "      <td>M</td>\n",
              "      <td>39</td>\n",
              "      <td>99</td>\n",
              "    </tr>\n",
              "    <tr>\n",
              "      <th>12</th>\n",
              "      <td>80&lt;90</td>\n",
              "      <td>M</td>\n",
              "      <td>39</td>\n",
              "      <td>75</td>\n",
              "    </tr>\n",
              "    <tr>\n",
              "      <th>13</th>\n",
              "      <td>70&lt;80</td>\n",
              "      <td>M</td>\n",
              "      <td>39</td>\n",
              "      <td>74</td>\n",
              "    </tr>\n",
              "    <tr>\n",
              "      <th>14</th>\n",
              "      <td>1&lt;13</td>\n",
              "      <td>F</td>\n",
              "      <td>38</td>\n",
              "      <td>75</td>\n",
              "    </tr>\n",
              "  </tbody>\n",
              "</table>\n",
              "</div>"
            ],
            "text/plain": [
              "   Age range of patient Sex  BBS Score  Heart Rate\n",
              "0                 60<70   M         41          80\n",
              "1                 60<70   M         43          81\n",
              "2                 80<90   M         40          82\n",
              "3                 60<70   M         40          90\n",
              "4                 60<70   M         38          90\n",
              "5                 20<30   M         38          70\n",
              "6                 70<80   M         38          70\n",
              "7                 80<90   M         42          88\n",
              "8                 60<70   M         42          90\n",
              "9                 80<90   M         42         101\n",
              "10                70<80   M         42         100\n",
              "11                60<70   M         39          99\n",
              "12                80<90   M         39          75\n",
              "13                70<80   M         39          74\n",
              "14                 1<13   F         38          75"
            ]
          },
          "execution_count": 15,
          "metadata": {},
          "output_type": "execute_result"
        }
      ],
      "source": [
        "amplified_tab_dataset = None\n",
        "async for sds in workflow.datasets():\n",
        "    amplified_tab_dataset = await sds.to_local(conn)\n",
        "amplified_tab_dataset.to_pandas()"
      ]
    },
    {
      "cell_type": "code",
      "execution_count": 16,
      "metadata": {
        "colab": {
          "base_uri": "https://localhost:8080/",
          "height": 505
        },
        "id": "kuybVyV3hX4y",
        "outputId": "c048101c-da28-4282-c910-532da6a910fd"
      },
      "outputs": [
        {
          "data": {
            "text/plain": [
              "<seaborn.axisgrid.FacetGrid at 0x1772fd4c0>"
            ]
          },
          "execution_count": 16,
          "metadata": {},
          "output_type": "execute_result"
        },
        {
          "data": {
            "image/png": "[encoded data removed]",
            "text/plain": [
              "<Figure size 669.75x500 with 1 Axes>"
            ]
          },
          "metadata": {},
          "output_type": "display_data"
        }
      ],
      "source": [
        "# before vs after amplifying the condition: Sex == \"M\"\n",
        "col = \"Sex\"\n",
        "before_tab_agg = rf.metrics.count_all(tab_dataset, col)\n",
        "after_tab_agg = rf.metrics.count_all(amplified_tab_dataset, col)\n",
        "rf.labs.vis.plot_bar([before_tab_agg, after_tab_agg], col, f\"{col}_count\")"
      ]
    }
  ],
  "metadata": {
    "colab": {
      "provenance": []
    },
    "kernelspec": {
      "display_name": "colab",
      "language": "python",
      "name": "python3"
    },
    "language_info": {
      "codemirror_mode": {
        "name": "ipython",
        "version": 3
      },
      "file_extension": ".py",
      "mimetype": "text/x-python",
      "name": "python",
      "nbconvert_exporter": "python",
      "pygments_lexer": "ipython3",
      "version": "3.12.4"
    }
  },
  "nbformat": 4,
  "nbformat_minor": 0
}
