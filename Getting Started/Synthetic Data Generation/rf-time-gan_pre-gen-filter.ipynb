{
  "cells": [
    {
      "cell_type": "markdown",
      "metadata": {
        "id": "MCBbARVwh_db"
      },
      "source": [
        "# Pre Generation Filtering\n",
        "\n",
        "Inputs:\n",
        "\n",
        "1. `model`: Trained rf-time-gan model\n",
        "2. `given_metadata`: Conditions with metadata values that sessions should have (e.g., all sessions should have `gender = \"M\"`)\n",
        "\n",
        "Output:\n",
        "\n",
        "1. `dataset`: Synthetic dataset with sessions whose metadata fields match the values in `given_metadata`\n"
      ]
    },
    {
      "cell_type": "markdown",
      "metadata": {
        "id": "cGXiiEscl2Dj"
      },
      "source": [
        "### Install and Import Rockfish SDK\n"
      ]
    },
    {
      "cell_type": "code",
      "execution_count": 4,
      "metadata": {
        "id": "bC6avaqHmN8O"
      },
      "outputs": [],
      "source": [
        "%%capture\n",
        "%pip install -U 'rockfish[labs]' -f 'https://packages.rockfish.ai'"
      ]
    },
    {
      "cell_type": "code",
      "execution_count": 5,
      "metadata": {
        "id": "cKHQAhEal_Gw"
      },
      "outputs": [],
      "source": [
        "import rockfish as rf\n",
        "import rockfish.actions as ra\n",
        "import rockfish.labs as rl\n",
        "import pandas as pd"
      ]
    },
    {
      "cell_type": "markdown",
      "metadata": {
        "id": "Coh2p6X9l7U2"
      },
      "source": [
        "### Connect to the Rockfish Platform\n"
      ]
    },
    {
      "cell_type": "code",
      "execution_count": 7,
      "metadata": {
        "id": "p2dclvL7mPHz"
      },
      "outputs": [],
      "source": [
        "api_key = \"\"  # API key for environment\n",
        "api_url = \"\"  # URL for environment\n",
        "conn = rf.Connection.remote(api_url, api_key)"
      ]
    },
    {
      "cell_type": "markdown",
      "metadata": {
        "id": "b5QfMd72Vclu"
      },
      "source": [
        "### Train Rf-Time-GAN on the Finance Dataset\n"
      ]
    },
    {
      "cell_type": "code",
      "execution_count": 8,
      "metadata": {
        "collapsed": true,
        "id": "Cn0spZWWmdL8"
      },
      "outputs": [
        {
          "name": "stdout",
          "output_type": "stream",
          "text": [
            "--2024-12-12 18:52:04--  https://docs.rockfish.ai/tutorials/finance.csv\n"
          ]
        },
        {
          "name": "stderr",
          "output_type": "stream",
          "text": [
            "WARNING: All log messages before absl::InitializeLog() is called are written to STDERR\n",
            "I0000 00:00:1734058323.910920 8424888 fork_posix.cc:77] Other threads are currently calling into gRPC, skipping fork() handlers\n"
          ]
        },
        {
          "name": "stdout",
          "output_type": "stream",
          "text": [
            "Resolving docs.rockfish.ai (docs.rockfish.ai)... 2600:9000:249b:5800:3:1cb5:3480:93a1, 2600:9000:249b:1800:3:1cb5:3480:93a1, 2600:9000:249b:d200:3:1cb5:3480:93a1, ...\n",
            "Connecting to docs.rockfish.ai (docs.rockfish.ai)|2600:9000:249b:5800:3:1cb5:3480:93a1|:443... connected.\n",
            "HTTP request sent, awaiting response... 200 OK\n",
            "Length: 3444556 (3.3M) [text/csv]\n",
            "Saving to: ‘finance.csv’\n",
            "\n",
            "finance.csv         100%[===================>]   3.28M  7.22MB/s    in 0.5s    \n",
            "\n",
            "2024-12-12 18:52:06 (7.22 MB/s) - ‘finance.csv’ saved [3444556/3444556]\n",
            "\n"
          ]
        }
      ],
      "source": [
        "!wget --no-clobber https://docs.rockfish.ai/tutorials/finance.csv\n",
        "dataset = rf.Dataset.from_csv(\"finance\", \"finance.csv\")"
      ]
    },
    {
      "cell_type": "code",
      "execution_count": 9,
      "metadata": {
        "id": "4u1emyNCmCYd"
      },
      "outputs": [],
      "source": [
        "def get_config(\n",
        "    epochs=1, sample_len=2, sessions=100, batch_size=512, given_metadata=None\n",
        "):\n",
        "    timestamp = \"timestamp\"\n",
        "    session = \"customer\"\n",
        "    metadata_cols = [\"age\", \"gender\"]\n",
        "    con_measurement_cols = [\"amount\"]\n",
        "    cat_measurement_cols = [\"merchant\", \"category\", \"fraud\"]\n",
        "    config = ra.TrainTimeGAN.Config(\n",
        "        encoder=ra.TrainTimeGAN.DatasetConfig(\n",
        "            timestamp=ra.TrainTimeGAN.TimestampConfig(field=timestamp),\n",
        "            metadata=[\n",
        "                ra.TrainTimeGAN.FieldConfig(field=col, type=\"categorical\")\n",
        "                for col in metadata_cols\n",
        "            ]\n",
        "            + [ra.TrainTimeGAN.FieldConfig(field=session, type=\"session\")],\n",
        "            measurements=[\n",
        "                ra.TrainTimeGAN.FieldConfig(field=col, type=\"continuous\")\n",
        "                for col in con_measurement_cols\n",
        "            ]\n",
        "            + [\n",
        "                ra.TrainTimeGAN.FieldConfig(field=col, type=\"categorical\")\n",
        "                for col in cat_measurement_cols\n",
        "            ],\n",
        "        ),\n",
        "        doppelganger=ra.TrainTimeGAN.DGConfig(\n",
        "            epoch=epochs,\n",
        "            epoch_checkpoint_freq=epochs,\n",
        "            sample_len=sample_len,\n",
        "            sessions=sessions,\n",
        "            batch_size=batch_size,\n",
        "            given_metadata=given_metadata,\n",
        "        ),\n",
        "    )\n",
        "    return config"
      ]
    },
    {
      "cell_type": "code",
      "execution_count": 10,
      "metadata": {
        "colab": {
          "base_uri": "https://localhost:8080/"
        },
        "id": "6FE0MmdKmoZ9",
        "outputId": "0df4a561-d70d-4e5c-c2f3-54560d10f6dc"
      },
      "outputs": [
        {
          "name": "stdout",
          "output_type": "stream",
          "text": [
            "Train Workflow: 4u4qHv26xGrGuKlojkFS0t\n"
          ]
        }
      ],
      "source": [
        "train_config = get_config()  # pass appropriate args for setting hyperparams\n",
        "train = ra.TrainTimeGAN(train_config)\n",
        "\n",
        "builder = rf.WorkflowBuilder()\n",
        "builder.add_path(dataset, train)\n",
        "workflow = await builder.start(conn)\n",
        "print(f\"Train Workflow: {workflow.id()}\")"
      ]
    },
    {
      "cell_type": "code",
      "execution_count": 11,
      "metadata": {
        "colab": {
          "base_uri": "https://localhost:8080/"
        },
        "id": "YqfnMnk9nzb7",
        "outputId": "26d78404-93b1-48c0-b66d-6d4f1bf3e52f"
      },
      "outputs": [
        {
          "name": "stdout",
          "output_type": "stream",
          "text": [
            "2024-12-13T02:52:16Z dataset-load: INFO Loading dataset '6d7NNcTXXVgpUKxdf6ctIn' with 50000 rows\n",
            "2024-12-13T02:52:07Z train-time-gan: DEBUG CUDA available\n",
            "2024-12-13T02:52:07Z train-time-gan: DEBUG Training on cuda:NVIDIA A100 80GB PCIe with cuda version 11.8\n",
            "2024-12-13T02:52:14Z train-time-gan: INFO Starting DG training job\n",
            "2024-12-13T02:52:15Z train-time-gan: DEBUG Epoch 1, g_loss_d: -0.7232, g_loss: -0.6521, d_loss_fake:  0.7125, d_loss_real: -9.1946, d_loss_gp:  0.1579, d_loss: -6.9028, g_loss_attr_d:  0.0711, attr_d_loss_fake: -0.0535, attr_d_loss_real: -1.0995, attr_d_loss_gp:  0.0189, attr_d_loss: -0.9639\n",
            "2024-12-13T02:52:15Z train-time-gan: INFO Epoch 1 completed.\n",
            "2024-12-13T02:52:15Z train-time-gan: DEBUG Checkpoint on Epoch 1 has been saved to epoch-1.pt\n",
            "2024-12-13T02:52:17Z train-time-gan: INFO Training completed. Uploaded model 4369df7e-b8fd-11ef-9e7e-665e8c8b87d7\n"
          ]
        }
      ],
      "source": [
        "async for log in workflow.logs(level=rf.events.LogLevel.DEBUG):\n",
        "    print(log)"
      ]
    },
    {
      "cell_type": "markdown",
      "metadata": {
        "id": "YgMhz1Z9Eh9I"
      },
      "source": [
        "### Fetch the Trained Model\n"
      ]
    },
    {
      "cell_type": "code",
      "execution_count": 12,
      "metadata": {
        "id": "poovJ-LLEdg9"
      },
      "outputs": [],
      "source": [
        "model = await workflow.models().last()"
      ]
    },
    {
      "cell_type": "markdown",
      "metadata": {
        "id": "mrqZX6vCVheE"
      },
      "source": [
        "### Precondition While Generating\n"
      ]
    },
    {
      "cell_type": "markdown",
      "metadata": {
        "id": "w256JU4BVwHN"
      },
      "source": [
        "#### Example 1: One Condition\n",
        "\n",
        "**User Intent**\n",
        "\n",
        "Generate the following synthetic dataset: 25 sessions with metadata (age = 4, gender = M).\n"
      ]
    },
    {
      "cell_type": "markdown",
      "metadata": {
        "id": "VAeKpyS4DRjk"
      },
      "source": [
        "##### Specify these conditions in the generate config\n"
      ]
    },
    {
      "cell_type": "code",
      "execution_count": 13,
      "metadata": {
        "id": "QyAZpKJ5mxAv"
      },
      "outputs": [],
      "source": [
        "# input: given_metadata = [(age = 4, gender = M)]\n",
        "# expected output: 25 sessions with metadata = (age = 4, gender = M)\n",
        "given_metadata1 = {\"age\": [\"4\"], \"gender\": [\"M\"]}\n",
        "generate1_config = get_config(sessions=25, given_metadata=given_metadata1)\n",
        "generate1 = ra.GenerateTimeGAN(generate1_config)"
      ]
    },
    {
      "cell_type": "markdown",
      "metadata": {
        "id": "uyjRS10ADWTk"
      },
      "source": [
        "##### Run the generate workflow\n"
      ]
    },
    {
      "cell_type": "code",
      "execution_count": 14,
      "metadata": {
        "colab": {
          "base_uri": "https://localhost:8080/"
        },
        "id": "LPsW5ImcWCeM",
        "outputId": "095a94c5-04f4-499c-a911-dd984b144533"
      },
      "outputs": [
        {
          "name": "stdout",
          "output_type": "stream",
          "text": [
            "Generate Workflow: 3tq71rwNYvIZHVHrNadDwV\n"
          ]
        }
      ],
      "source": [
        "save = ra.DatasetSave(name=\"synthetic\")\n",
        "builder = rf.WorkflowBuilder()\n",
        "builder.add_path(model, generate1, save)\n",
        "workflow = await builder.start(conn)\n",
        "print(f\"Generate Workflow: {workflow.id()}\")"
      ]
    },
    {
      "cell_type": "code",
      "execution_count": 15,
      "metadata": {
        "id": "9UJnBm3GWL3Z"
      },
      "outputs": [
        {
          "name": "stdout",
          "output_type": "stream",
          "text": [
            "2024-12-13T02:52:18Z generate-time-gan: DEBUG CUDA available\n",
            "2024-12-13T02:52:18Z generate-time-gan: DEBUG Running on cuda:NVIDIA A100 80GB PCIe with cuda version 11.8\n",
            "2024-12-13T02:52:18Z generate-time-gan: INFO Downloading model with model_id='4369df7e-b8fd-11ef-9e7e-665e8c8b87d7'...\n",
            "2024-12-13T02:52:19Z generate-time-gan: INFO Generating 25 sessions...\n",
            "2024-12-13T02:52:24Z generate-time-gan: DEBUG Generating data from model trained with 1 epochs\n",
            "2024-12-13T02:52:24Z generate-time-gan: DEBUG DG generating 1 batch\n",
            "2024-12-13T02:52:33Z dataset-save: INFO using field 'session_key' to concatenate tables\n",
            "2024-12-13T02:52:34Z dataset-save: INFO Saved dataset '4jIS1RWdAkyhRa8DtMhTTr' with 248 rows\n"
          ]
        }
      ],
      "source": [
        "async for log in workflow.logs(level=rf.events.LogLevel.DEBUG):\n",
        "    print(log)"
      ]
    },
    {
      "cell_type": "code",
      "execution_count": 16,
      "metadata": {
        "id": "k0X3s6VLWNm3"
      },
      "outputs": [],
      "source": [
        "syn = None\n",
        "async for sds in workflow.datasets():\n",
        "    syn = await sds.to_local(conn)"
      ]
    },
    {
      "cell_type": "code",
      "execution_count": 17,
      "metadata": {
        "colab": {
          "base_uri": "https://localhost:8080/",
          "height": 424
        },
        "id": "P7Z7ajT2WPjI",
        "outputId": "aaeb74c7-1e9b-42cc-aa56-3e78f6a3acea"
      },
      "outputs": [
        {
          "data": {
            "text/html": [
              "<div>\n",
              "<style scoped>\n",
              "    .dataframe tbody tr th:only-of-type {\n",
              "        vertical-align: middle;\n",
              "    }\n",
              "\n",
              "    .dataframe tbody tr th {\n",
              "        vertical-align: top;\n",
              "    }\n",
              "\n",
              "    .dataframe thead th {\n",
              "        text-align: right;\n",
              "    }\n",
              "</style>\n",
              "<table border=\"1\" class=\"dataframe\">\n",
              "  <thead>\n",
              "    <tr style=\"text-align: right;\">\n",
              "      <th></th>\n",
              "      <th>timestamp</th>\n",
              "      <th>amount</th>\n",
              "      <th>age</th>\n",
              "      <th>gender</th>\n",
              "      <th>merchant</th>\n",
              "      <th>category</th>\n",
              "      <th>fraud</th>\n",
              "      <th>session_key</th>\n",
              "    </tr>\n",
              "  </thead>\n",
              "  <tbody>\n",
              "    <tr>\n",
              "      <th>0</th>\n",
              "      <td>2023-01-10 04:54:14.468</td>\n",
              "      <td>5747.444177</td>\n",
              "      <td>4</td>\n",
              "      <td>M</td>\n",
              "      <td>M1416436880</td>\n",
              "      <td>wellnessandbeauty</td>\n",
              "      <td>0</td>\n",
              "      <td>0.0</td>\n",
              "    </tr>\n",
              "    <tr>\n",
              "      <th>1</th>\n",
              "      <td>2023-01-10 04:54:14.468</td>\n",
              "      <td>2152.094536</td>\n",
              "      <td>4</td>\n",
              "      <td>M</td>\n",
              "      <td>M1294758098</td>\n",
              "      <td>travel</td>\n",
              "      <td>1</td>\n",
              "      <td>1.0</td>\n",
              "    </tr>\n",
              "    <tr>\n",
              "      <th>2</th>\n",
              "      <td>2023-01-10 04:54:14.468</td>\n",
              "      <td>1442.788024</td>\n",
              "      <td>4</td>\n",
              "      <td>M</td>\n",
              "      <td>M1294758098</td>\n",
              "      <td>food</td>\n",
              "      <td>0</td>\n",
              "      <td>2.0</td>\n",
              "    </tr>\n",
              "    <tr>\n",
              "      <th>3</th>\n",
              "      <td>2023-01-10 04:54:14.468</td>\n",
              "      <td>6630.239739</td>\n",
              "      <td>4</td>\n",
              "      <td>M</td>\n",
              "      <td>M692898500</td>\n",
              "      <td>contents</td>\n",
              "      <td>1</td>\n",
              "      <td>3.0</td>\n",
              "    </tr>\n",
              "    <tr>\n",
              "      <th>4</th>\n",
              "      <td>2023-01-12 01:25:58.345</td>\n",
              "      <td>6629.085255</td>\n",
              "      <td>4</td>\n",
              "      <td>M</td>\n",
              "      <td>M677738360</td>\n",
              "      <td>transportation</td>\n",
              "      <td>1</td>\n",
              "      <td>3.0</td>\n",
              "    </tr>\n",
              "    <tr>\n",
              "      <th>...</th>\n",
              "      <td>...</td>\n",
              "      <td>...</td>\n",
              "      <td>...</td>\n",
              "      <td>...</td>\n",
              "      <td>...</td>\n",
              "      <td>...</td>\n",
              "      <td>...</td>\n",
              "      <td>...</td>\n",
              "    </tr>\n",
              "    <tr>\n",
              "      <th>243</th>\n",
              "      <td>2023-09-23 18:21:16.122</td>\n",
              "      <td>4072.233805</td>\n",
              "      <td>4</td>\n",
              "      <td>M</td>\n",
              "      <td>M151143676</td>\n",
              "      <td>fashion</td>\n",
              "      <td>1</td>\n",
              "      <td>22.0</td>\n",
              "    </tr>\n",
              "    <tr>\n",
              "      <th>244</th>\n",
              "      <td>2023-10-03 15:18:50.500</td>\n",
              "      <td>4081.905164</td>\n",
              "      <td>4</td>\n",
              "      <td>M</td>\n",
              "      <td>M855959430</td>\n",
              "      <td>transportation</td>\n",
              "      <td>0</td>\n",
              "      <td>22.0</td>\n",
              "    </tr>\n",
              "    <tr>\n",
              "      <th>245</th>\n",
              "      <td>2023-10-12 12:14:52.007</td>\n",
              "      <td>4094.730313</td>\n",
              "      <td>4</td>\n",
              "      <td>M</td>\n",
              "      <td>M151143676</td>\n",
              "      <td>leisure</td>\n",
              "      <td>1</td>\n",
              "      <td>22.0</td>\n",
              "    </tr>\n",
              "    <tr>\n",
              "      <th>246</th>\n",
              "      <td>2023-01-10 04:54:14.468</td>\n",
              "      <td>5892.488863</td>\n",
              "      <td>4</td>\n",
              "      <td>M</td>\n",
              "      <td>M349281107</td>\n",
              "      <td>food</td>\n",
              "      <td>0</td>\n",
              "      <td>23.0</td>\n",
              "    </tr>\n",
              "    <tr>\n",
              "      <th>247</th>\n",
              "      <td>2023-01-10 04:54:14.468</td>\n",
              "      <td>4946.622804</td>\n",
              "      <td>4</td>\n",
              "      <td>M</td>\n",
              "      <td>M495352832</td>\n",
              "      <td>fashion</td>\n",
              "      <td>1</td>\n",
              "      <td>24.0</td>\n",
              "    </tr>\n",
              "  </tbody>\n",
              "</table>\n",
              "<p>248 rows × 8 columns</p>\n",
              "</div>"
            ],
            "text/plain": [
              "                  timestamp       amount age gender     merchant  \\\n",
              "0   2023-01-10 04:54:14.468  5747.444177   4      M  M1416436880   \n",
              "1   2023-01-10 04:54:14.468  2152.094536   4      M  M1294758098   \n",
              "2   2023-01-10 04:54:14.468  1442.788024   4      M  M1294758098   \n",
              "3   2023-01-10 04:54:14.468  6630.239739   4      M   M692898500   \n",
              "4   2023-01-12 01:25:58.345  6629.085255   4      M   M677738360   \n",
              "..                      ...          ...  ..    ...          ...   \n",
              "243 2023-09-23 18:21:16.122  4072.233805   4      M   M151143676   \n",
              "244 2023-10-03 15:18:50.500  4081.905164   4      M   M855959430   \n",
              "245 2023-10-12 12:14:52.007  4094.730313   4      M   M151143676   \n",
              "246 2023-01-10 04:54:14.468  5892.488863   4      M   M349281107   \n",
              "247 2023-01-10 04:54:14.468  4946.622804   4      M   M495352832   \n",
              "\n",
              "              category  fraud  session_key  \n",
              "0    wellnessandbeauty      0          0.0  \n",
              "1               travel      1          1.0  \n",
              "2                 food      0          2.0  \n",
              "3             contents      1          3.0  \n",
              "4       transportation      1          3.0  \n",
              "..                 ...    ...          ...  \n",
              "243            fashion      1         22.0  \n",
              "244     transportation      0         22.0  \n",
              "245            leisure      1         22.0  \n",
              "246               food      0         23.0  \n",
              "247            fashion      1         24.0  \n",
              "\n",
              "[248 rows x 8 columns]"
            ]
          },
          "execution_count": 17,
          "metadata": {},
          "output_type": "execute_result"
        }
      ],
      "source": [
        "syn.to_pandas()"
      ]
    },
    {
      "cell_type": "markdown",
      "metadata": {
        "id": "U-y2NMWvhx0X"
      },
      "source": [
        "##### Validate metadata fields are constrained to given_metadata:\n"
      ]
    },
    {
      "cell_type": "code",
      "execution_count": 18,
      "metadata": {
        "colab": {
          "base_uri": "https://localhost:8080/",
          "height": 519
        },
        "id": "7rKRg7UYLN04",
        "outputId": "f11265fa-e784-4fb5-80b1-752285621bb1"
      },
      "outputs": [
        {
          "data": {
            "text/plain": [
              "<seaborn.axisgrid.FacetGrid at 0x17b8f61e0>"
            ]
          },
          "execution_count": 18,
          "metadata": {},
          "output_type": "execute_result"
        },
        {
          "data": {
            "image/png": "[encoded data removed]",
            "text/plain": [
              "<Figure size 615.125x500 with 1 Axes>"
            ]
          },
          "metadata": {},
          "output_type": "display_data"
        }
      ],
      "source": [
        "# plot age\n",
        "rl.vis.plot_bar(datasets=[syn], field=\"age\")"
      ]
    },
    {
      "cell_type": "code",
      "execution_count": 19,
      "metadata": {
        "colab": {
          "base_uri": "https://localhost:8080/",
          "height": 519
        },
        "id": "6zRZWNm5eWqp",
        "outputId": "7df4a9ca-8fc2-4f97-b47f-48433738996c"
      },
      "outputs": [
        {
          "data": {
            "text/plain": [
              "<seaborn.axisgrid.FacetGrid at 0x17ca80140>"
            ]
          },
          "execution_count": 19,
          "metadata": {},
          "output_type": "execute_result"
        },
        {
          "data": {
            "image/png": "[encoded data removed]",
            "text/plain": [
              "<Figure size 615.125x500 with 1 Axes>"
            ]
          },
          "metadata": {},
          "output_type": "display_data"
        }
      ],
      "source": [
        "# plot gender\n",
        "rl.vis.plot_bar(datasets=[syn], field=\"gender\")"
      ]
    },
    {
      "cell_type": "markdown",
      "metadata": {
        "id": "UAXMaAmcV04n"
      },
      "source": [
        "#### Example 2: Multiple Conditions, Controlling Number of Sessions\n",
        "\n",
        "**User Intent**\n",
        "\n",
        "Generate the following synthetic dataset (using the same model):\n",
        "\n",
        "1. 25 sessions with metadata (age = 4, gender = M)\n",
        "2. 50 sessions with metadata either (age = 2, gender = F) or (age = 5, gender = M)\n"
      ]
    },
    {
      "cell_type": "markdown",
      "metadata": {
        "id": "hS6h14tHC7f-"
      },
      "source": [
        "##### Specify these conditions in the generate config\n"
      ]
    },
    {
      "cell_type": "code",
      "execution_count": 20,
      "metadata": {
        "id": "eDehCdwEmykP"
      },
      "outputs": [],
      "source": [
        "# given_metadata = [(age = 2, gender = F), (age = 5, gender = M)]\n",
        "# expected output: 50 sessions with metadata that can be either\n",
        "# (age = 2, gender = F) or (age = 5, gender = M).\n",
        "given_metadata2 = {\"age\": [\"2\", \"5\"], \"gender\": [\"F\", \"M\"]}\n",
        "generate2_config = get_config(sessions=50, given_metadata=given_metadata2)\n",
        "generate2 = ra.GenerateTimeGAN(generate2_config)"
      ]
    },
    {
      "cell_type": "markdown",
      "metadata": {
        "id": "zN9W_FNODD_k"
      },
      "source": [
        "##### Run the generate workflow\n"
      ]
    },
    {
      "cell_type": "code",
      "execution_count": 21,
      "metadata": {
        "colab": {
          "base_uri": "https://localhost:8080/"
        },
        "id": "LoKKazcDnX67",
        "outputId": "bad83b7d-c7be-4493-85f7-e32b5848bc2f"
      },
      "outputs": [
        {
          "name": "stdout",
          "output_type": "stream",
          "text": [
            "Generate Workflow: 7lYH3NshawBUfRLjAFOoTW\n"
          ]
        }
      ],
      "source": [
        "save = ra.DatasetSave(\n",
        "    name=\"synthetic\", concat_tables=True, concat_session_key=\"session_key\"\n",
        ")\n",
        "\n",
        "# this shows how you can add two different generate actions to the same workflow\n",
        "builder = rf.WorkflowBuilder()\n",
        "builder.add(model)\n",
        "builder.add(\n",
        "    generate1, parents=[model]\n",
        ")  # re-using generate action from example 1\n",
        "builder.add(\n",
        "    generate2, parents=[model]\n",
        ")  # using generate action from example 2\n",
        "builder.add(save, parents=[generate1, generate2])\n",
        "workflow = await builder.start(conn)\n",
        "print(f\"Generate Workflow: {workflow.id()}\")"
      ]
    },
    {
      "cell_type": "code",
      "execution_count": 22,
      "metadata": {
        "id": "ElmuvVyGnboW"
      },
      "outputs": [
        {
          "name": "stdout",
          "output_type": "stream",
          "text": [
            "2024-12-13T02:52:26Z generate-time-gan1: DEBUG CUDA available\n",
            "2024-12-13T02:52:26Z generate-time-gan1: DEBUG Running on cuda:NVIDIA A100 80GB PCIe with cuda version 11.8\n",
            "2024-12-13T02:52:26Z generate-time-gan1: INFO Downloading model with model_id='4369df7e-b8fd-11ef-9e7e-665e8c8b87d7'...\n",
            "2024-12-13T02:52:27Z generate-time-gan1: INFO Generating 50 sessions...\n",
            "2024-12-13T02:52:29Z generate-time-gan1: DEBUG Generating data from model trained with 1 epochs\n",
            "2024-12-13T02:52:30Z generate-time-gan1: DEBUG DG generating 1 batch\n",
            "2024-12-13T02:52:30Z dataset-save: INFO using field 'session_key' to concatenate tables\n",
            "2024-12-13T02:52:30Z dataset-save: INFO Saved dataset '7CY1MLhVzd1Xg4q1QQl6Hk' with 383 rows\n",
            "2024-12-13T02:54:06Z generate-time-gan: DEBUG CUDA available\n",
            "2024-12-13T02:54:06Z generate-time-gan: DEBUG Running on cuda:NVIDIA A100 80GB PCIe with cuda version 11.8\n",
            "2024-12-13T02:54:06Z generate-time-gan: INFO Downloading model with model_id='4369df7e-b8fd-11ef-9e7e-665e8c8b87d7'...\n",
            "2024-12-13T02:54:07Z generate-time-gan: INFO Generating 25 sessions...\n",
            "2024-12-13T02:54:09Z generate-time-gan: DEBUG Generating data from model trained with 1 epochs\n",
            "2024-12-13T02:54:09Z generate-time-gan: DEBUG DG generating 1 batch\n",
            "2024-12-13T02:54:19Z dataset-save: INFO using field 'session_key' to concatenate tables\n"
          ]
        }
      ],
      "source": [
        "async for log in workflow.logs(level=rf.events.LogLevel.DEBUG):\n",
        "    print(log)"
      ]
    },
    {
      "cell_type": "code",
      "execution_count": 23,
      "metadata": {
        "id": "cmICaybvrlR2"
      },
      "outputs": [],
      "source": [
        "syn = None\n",
        "async for sds in workflow.datasets():\n",
        "    syn = await sds.to_local(conn)"
      ]
    },
    {
      "cell_type": "code",
      "execution_count": 24,
      "metadata": {
        "colab": {
          "base_uri": "https://localhost:8080/",
          "height": 424
        },
        "id": "-ZhUm7YZnc3T",
        "outputId": "ca9b795e-9ef1-4b46-b590-4105d7263b3a"
      },
      "outputs": [
        {
          "data": {
            "text/html": [
              "<div>\n",
              "<style scoped>\n",
              "    .dataframe tbody tr th:only-of-type {\n",
              "        vertical-align: middle;\n",
              "    }\n",
              "\n",
              "    .dataframe tbody tr th {\n",
              "        vertical-align: top;\n",
              "    }\n",
              "\n",
              "    .dataframe thead th {\n",
              "        text-align: right;\n",
              "    }\n",
              "</style>\n",
              "<table border=\"1\" class=\"dataframe\">\n",
              "  <thead>\n",
              "    <tr style=\"text-align: right;\">\n",
              "      <th></th>\n",
              "      <th>timestamp</th>\n",
              "      <th>amount</th>\n",
              "      <th>age</th>\n",
              "      <th>gender</th>\n",
              "      <th>merchant</th>\n",
              "      <th>category</th>\n",
              "      <th>fraud</th>\n",
              "      <th>session_key</th>\n",
              "    </tr>\n",
              "  </thead>\n",
              "  <tbody>\n",
              "    <tr>\n",
              "      <th>0</th>\n",
              "      <td>2023-01-10 04:54:14.468</td>\n",
              "      <td>6479.311433</td>\n",
              "      <td>4</td>\n",
              "      <td>M</td>\n",
              "      <td>M2011752106</td>\n",
              "      <td>travel</td>\n",
              "      <td>1</td>\n",
              "      <td>50.0</td>\n",
              "    </tr>\n",
              "    <tr>\n",
              "      <th>1</th>\n",
              "      <td>2023-01-10 04:54:14.468</td>\n",
              "      <td>585.462897</td>\n",
              "      <td>4</td>\n",
              "      <td>M</td>\n",
              "      <td>M677738360</td>\n",
              "      <td>food</td>\n",
              "      <td>0</td>\n",
              "      <td>51.0</td>\n",
              "    </tr>\n",
              "    <tr>\n",
              "      <th>2</th>\n",
              "      <td>2023-01-10 04:54:14.468</td>\n",
              "      <td>5362.554136</td>\n",
              "      <td>4</td>\n",
              "      <td>M</td>\n",
              "      <td>M2122776122</td>\n",
              "      <td>health</td>\n",
              "      <td>0</td>\n",
              "      <td>52.0</td>\n",
              "    </tr>\n",
              "    <tr>\n",
              "      <th>3</th>\n",
              "      <td>2023-01-10 04:54:14.468</td>\n",
              "      <td>5473.604424</td>\n",
              "      <td>4</td>\n",
              "      <td>M</td>\n",
              "      <td>M17379832</td>\n",
              "      <td>food</td>\n",
              "      <td>1</td>\n",
              "      <td>53.0</td>\n",
              "    </tr>\n",
              "    <tr>\n",
              "      <th>4</th>\n",
              "      <td>2023-01-10 04:54:14.468</td>\n",
              "      <td>698.607738</td>\n",
              "      <td>4</td>\n",
              "      <td>M</td>\n",
              "      <td>M2011752106</td>\n",
              "      <td>health</td>\n",
              "      <td>0</td>\n",
              "      <td>54.0</td>\n",
              "    </tr>\n",
              "    <tr>\n",
              "      <th>...</th>\n",
              "      <td>...</td>\n",
              "      <td>...</td>\n",
              "      <td>...</td>\n",
              "      <td>...</td>\n",
              "      <td>...</td>\n",
              "      <td>...</td>\n",
              "      <td>...</td>\n",
              "      <td>...</td>\n",
              "    </tr>\n",
              "    <tr>\n",
              "      <th>553</th>\n",
              "      <td>2023-04-10 05:28:37.318</td>\n",
              "      <td>3919.198542</td>\n",
              "      <td>2</td>\n",
              "      <td>F</td>\n",
              "      <td>M151143676</td>\n",
              "      <td>fashion</td>\n",
              "      <td>1</td>\n",
              "      <td>46.0</td>\n",
              "    </tr>\n",
              "    <tr>\n",
              "      <th>554</th>\n",
              "      <td>2023-01-15 23:31:16.931</td>\n",
              "      <td>3867.022113</td>\n",
              "      <td>5</td>\n",
              "      <td>M</td>\n",
              "      <td>M349281107</td>\n",
              "      <td>contents</td>\n",
              "      <td>0</td>\n",
              "      <td>47.0</td>\n",
              "    </tr>\n",
              "    <tr>\n",
              "      <th>555</th>\n",
              "      <td>2023-01-17 19:52:59.090</td>\n",
              "      <td>4735.568691</td>\n",
              "      <td>2</td>\n",
              "      <td>F</td>\n",
              "      <td>M677738360</td>\n",
              "      <td>fashion</td>\n",
              "      <td>0</td>\n",
              "      <td>48.0</td>\n",
              "    </tr>\n",
              "    <tr>\n",
              "      <th>556</th>\n",
              "      <td>2023-01-15 23:31:16.931</td>\n",
              "      <td>6665.465264</td>\n",
              "      <td>5</td>\n",
              "      <td>M</td>\n",
              "      <td>M855959430</td>\n",
              "      <td>travel</td>\n",
              "      <td>0</td>\n",
              "      <td>49.0</td>\n",
              "    </tr>\n",
              "    <tr>\n",
              "      <th>557</th>\n",
              "      <td>2023-01-22 02:18:59.537</td>\n",
              "      <td>7005.870864</td>\n",
              "      <td>5</td>\n",
              "      <td>M</td>\n",
              "      <td>M17379832</td>\n",
              "      <td>transportation</td>\n",
              "      <td>0</td>\n",
              "      <td>49.0</td>\n",
              "    </tr>\n",
              "  </tbody>\n",
              "</table>\n",
              "<p>558 rows × 8 columns</p>\n",
              "</div>"
            ],
            "text/plain": [
              "                  timestamp       amount age gender     merchant  \\\n",
              "0   2023-01-10 04:54:14.468  6479.311433   4      M  M2011752106   \n",
              "1   2023-01-10 04:54:14.468   585.462897   4      M   M677738360   \n",
              "2   2023-01-10 04:54:14.468  5362.554136   4      M  M2122776122   \n",
              "3   2023-01-10 04:54:14.468  5473.604424   4      M    M17379832   \n",
              "4   2023-01-10 04:54:14.468   698.607738   4      M  M2011752106   \n",
              "..                      ...          ...  ..    ...          ...   \n",
              "553 2023-04-10 05:28:37.318  3919.198542   2      F   M151143676   \n",
              "554 2023-01-15 23:31:16.931  3867.022113   5      M   M349281107   \n",
              "555 2023-01-17 19:52:59.090  4735.568691   2      F   M677738360   \n",
              "556 2023-01-15 23:31:16.931  6665.465264   5      M   M855959430   \n",
              "557 2023-01-22 02:18:59.537  7005.870864   5      M    M17379832   \n",
              "\n",
              "           category  fraud  session_key  \n",
              "0            travel      1         50.0  \n",
              "1              food      0         51.0  \n",
              "2            health      0         52.0  \n",
              "3              food      1         53.0  \n",
              "4            health      0         54.0  \n",
              "..              ...    ...          ...  \n",
              "553         fashion      1         46.0  \n",
              "554        contents      0         47.0  \n",
              "555         fashion      0         48.0  \n",
              "556          travel      0         49.0  \n",
              "557  transportation      0         49.0  \n",
              "\n",
              "[558 rows x 8 columns]"
            ]
          },
          "execution_count": 24,
          "metadata": {},
          "output_type": "execute_result"
        }
      ],
      "source": [
        "syn.to_pandas()"
      ]
    },
    {
      "cell_type": "markdown",
      "metadata": {
        "id": "JIl40FuXh62k"
      },
      "source": [
        "##### Validate metadata fields are constrained to given_metadata:\n"
      ]
    },
    {
      "cell_type": "code",
      "execution_count": 25,
      "metadata": {
        "colab": {
          "base_uri": "https://localhost:8080/",
          "height": 519
        },
        "id": "x-08XE0nLJwI",
        "outputId": "2eb81505-fa91-421d-fe8d-72c787ecd9da"
      },
      "outputs": [
        {
          "data": {
            "text/plain": [
              "<seaborn.axisgrid.FacetGrid at 0x17ca9e180>"
            ]
          },
          "execution_count": 25,
          "metadata": {},
          "output_type": "execute_result"
        },
        {
          "data": {
            "image/png": "[encoded data removed]",
            "text/plain": [
              "<Figure size 615.125x500 with 1 Axes>"
            ]
          },
          "metadata": {},
          "output_type": "display_data"
        }
      ],
      "source": [
        "# plot age\n",
        "rl.vis.plot_bar(datasets=[syn], field=\"age\")"
      ]
    },
    {
      "cell_type": "code",
      "execution_count": 26,
      "metadata": {
        "colab": {
          "base_uri": "https://localhost:8080/",
          "height": 519
        },
        "id": "XV3t7_jXeaw7",
        "outputId": "5439c1fb-12d0-4d80-bbe2-ed714195f50a"
      },
      "outputs": [
        {
          "data": {
            "text/plain": [
              "<seaborn.axisgrid.FacetGrid at 0x17fb9d8e0>"
            ]
          },
          "execution_count": 26,
          "metadata": {},
          "output_type": "execute_result"
        },
        {
          "data": {
            "image/png": "[encoded data removed]",
            "text/plain": [
              "<Figure size 615.125x500 with 1 Axes>"
            ]
          },
          "metadata": {},
          "output_type": "display_data"
        }
      ],
      "source": [
        "# plot gender\n",
        "rl.vis.plot_bar(datasets=[syn], field=\"gender\")"
      ]
    }
  ],
  "metadata": {
    "colab": {
      "collapsed_sections": [
        "cGXiiEscl2Dj",
        "b5QfMd72Vclu",
        "uyjRS10ADWTk",
        "zN9W_FNODD_k"
      ],
      "provenance": []
    },
    "kernelspec": {
      "display_name": "colab",
      "language": "python",
      "name": "python3"
    },
    "language_info": {
      "codemirror_mode": {
        "name": "ipython",
        "version": 3
      },
      "file_extension": ".py",
      "mimetype": "text/x-python",
      "name": "python",
      "nbconvert_exporter": "python",
      "pygments_lexer": "ipython3",
      "version": "3.12.4"
    }
  },
  "nbformat": 4,
  "nbformat_minor": 0
}
