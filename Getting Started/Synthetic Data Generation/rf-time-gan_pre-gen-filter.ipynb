{
  "cells": [
    {
      "cell_type": "markdown",
      "metadata": {
        "id": "MCBbARVwh_db"
      },
      "source": [
        "# Pre Generation Filtering\n",
        "\n",
        "Inputs:\n",
        "\n",
        "1. `model`: Trained rf-time-gan model\n",
        "2. `given_metadata`: Conditions with metadata values that sessions should have (e.g., all sessions should have `gender = \"M\"`)\n",
        "\n",
        "Output:\n",
        "\n",
        "1. `dataset`: Synthetic dataset with sessions whose metadata fields match the values in `given_metadata`\n"
      ]
    },
    {
      "cell_type": "markdown",
      "metadata": {
        "id": "cGXiiEscl2Dj"
      },
      "source": [
        "### Install and Import Rockfish SDK\n"
      ]
    },
    {
      "cell_type": "code",
      "execution_count": 1,
      "metadata": {
        "id": "bC6avaqHmN8O"
      },
      "outputs": [],
      "source": [
        "%%capture\n",
        "%pip install -U 'rockfish[labs]' -f 'https://packages.rockfish.ai'"
      ]
    },
    {
      "cell_type": "code",
      "execution_count": 2,
      "metadata": {
        "id": "cKHQAhEal_Gw"
      },
      "outputs": [],
      "source": [
        "import rockfish as rf\n",
        "import rockfish.actions as ra\n",
        "import rockfish.labs as rl\n",
        "import pandas as pd"
      ]
    },
    {
      "cell_type": "markdown",
      "metadata": {
        "id": "Coh2p6X9l7U2"
      },
      "source": [
        "### Connect to the Rockfish Platform\n"
      ]
    },
    {
      "cell_type": "code",
      "execution_count": 3,
      "metadata": {
        "id": "p2dclvL7mPHz"
      },
      "outputs": [],
      "source": [
        "api_key = \"\"  # API key for environment\n",
        "api_url = \"\"  # URL for environment\n",
        "conn = rf.Connection.remote(api_url, api_key)"
      ]
    },
    {
      "cell_type": "markdown",
      "metadata": {
        "id": "b5QfMd72Vclu"
      },
      "source": [
        "### Train Rf-Time-GAN on the Finance Dataset\n"
      ]
    },
    {
      "cell_type": "code",
      "execution_count": 4,
      "metadata": {
        "collapsed": true,
        "id": "Cn0spZWWmdL8"
      },
      "outputs": [
        {
          "name": "stdout",
          "output_type": "stream",
          "text": [
            "File ‘finance.csv’ already there; not retrieving.\n",
            "\n"
          ]
        },
        {
          "name": "stderr",
          "output_type": "stream",
          "text": [
            "WARNING: All log messages before absl::InitializeLog() is called are written to STDERR\n",
            "I0000 00:00:1738888709.840693 19718141 fork_posix.cc:77] Other threads are currently calling into gRPC, skipping fork() handlers\n"
          ]
        }
      ],
      "source": [
        "!wget --no-clobber https://docs.rockfish.ai/tutorials/finance.csv\n",
        "dataset = rf.Dataset.from_csv(\"finance\", \"finance.csv\")"
      ]
    },
    {
      "cell_type": "code",
      "execution_count": 5,
      "metadata": {
        "id": "4u1emyNCmCYd"
      },
      "outputs": [],
      "source": [
        "def get_config(\n",
        "    epochs=1, sample_len=2, batch_size=512, sessions=None, given_metadata=None\n",
        "):\n",
        "    timestamp = \"timestamp\"\n",
        "    session = \"customer\"\n",
        "    metadata_cols = [\"age\", \"gender\"]\n",
        "    con_measurement_cols = [\"amount\"]\n",
        "    cat_measurement_cols = [\"merchant\", \"category\", \"fraud\"]\n",
        "    config = ra.TrainTimeGAN.Config(\n",
        "        encoder=ra.TrainTimeGAN.DatasetConfig(\n",
        "            timestamp=ra.TrainTimeGAN.TimestampConfig(field=timestamp),\n",
        "            metadata=[\n",
        "                ra.TrainTimeGAN.FieldConfig(field=col, type=\"categorical\")\n",
        "                for col in metadata_cols\n",
        "            ]\n",
        "            + [ra.TrainTimeGAN.FieldConfig(field=session, type=\"session\")],\n",
        "            measurements=[\n",
        "                ra.TrainTimeGAN.FieldConfig(field=col, type=\"continuous\")\n",
        "                for col in con_measurement_cols\n",
        "            ]\n",
        "            + [\n",
        "                ra.TrainTimeGAN.FieldConfig(field=col, type=\"categorical\")\n",
        "                for col in cat_measurement_cols\n",
        "            ],\n",
        "        ),\n",
        "        doppelganger=ra.TrainTimeGAN.DGConfig(\n",
        "            epoch=epochs,\n",
        "            epoch_checkpoint_freq=epochs,\n",
        "            sample_len=sample_len,\n",
        "            sessions=sessions,\n",
        "            batch_size=batch_size,\n",
        "            given_metadata=given_metadata,\n",
        "        ),\n",
        "    )\n",
        "    return config"
      ]
    },
    {
      "cell_type": "code",
      "execution_count": 6,
      "metadata": {
        "colab": {
          "base_uri": "https://localhost:8080/"
        },
        "id": "6FE0MmdKmoZ9",
        "outputId": "0df4a561-d70d-4e5c-c2f3-54560d10f6dc"
      },
      "outputs": [
        {
          "name": "stdout",
          "output_type": "stream",
          "text": [
            "Train Workflow: 1gRDZ5yqHKayBqS5VJ2HjU\n"
          ]
        }
      ],
      "source": [
        "train_config = get_config()  # pass appropriate args for setting hyperparams\n",
        "train = ra.TrainTimeGAN(train_config)\n",
        "\n",
        "builder = rf.WorkflowBuilder()\n",
        "builder.add_path(dataset, train)\n",
        "workflow = await builder.start(conn)\n",
        "print(f\"Train Workflow: {workflow.id()}\")"
      ]
    },
    {
      "cell_type": "code",
      "execution_count": 7,
      "metadata": {
        "colab": {
          "base_uri": "https://localhost:8080/"
        },
        "id": "YqfnMnk9nzb7",
        "outputId": "26d78404-93b1-48c0-b66d-6d4f1bf3e52f"
      },
      "outputs": [
        {
          "name": "stdout",
          "output_type": "stream",
          "text": [
            "2025-02-07T00:38:35Z dataset-load: INFO Downloading dataset '4BetGpzY1Hygu31H6Bka0p'\n",
            "2025-02-07T00:38:36Z dataset-load: INFO Downloaded dataset '4BetGpzY1Hygu31H6Bka0p' with 50000 rows\n",
            "2025-02-07T00:38:36Z train-time-gan: DEBUG CUDA available\n",
            "2025-02-07T00:38:36Z train-time-gan: DEBUG Training on cuda:NVIDIA A100 80GB PCIe with cuda version 11.8\n",
            "2025-02-07T00:38:42Z train-time-gan: INFO Starting DG training job\n",
            "2025-02-07T00:38:43Z train-time-gan: DEBUG Epoch 1, g_loss_d: -0.7474, g_loss: -0.9134, d_loss_fake:  0.6986, d_loss_real: -8.9632, d_loss_gp:  0.1335, d_loss: -6.9297, g_loss_attr_d: -0.1659, attr_d_loss_fake:  0.1820, attr_d_loss_real: -1.0747, attr_d_loss_gp:  0.0194, attr_d_loss: -0.6983\n",
            "2025-02-07T00:38:43Z train-time-gan: INFO Epoch 1 completed.\n",
            "2025-02-07T00:38:43Z train-time-gan: DEBUG Checkpoint on Epoch 1 has been saved to epoch-1.pt\n",
            "2025-02-07T00:38:45Z train-time-gan: INFO Training completed. Uploaded model e351308d-e4eb-11ef-a0ee-0e92d88750cd\n"
          ]
        }
      ],
      "source": [
        "async for log in workflow.logs(level=rf.events.LogLevel.DEBUG):\n",
        "    print(log)"
      ]
    },
    {
      "cell_type": "markdown",
      "metadata": {
        "id": "YgMhz1Z9Eh9I"
      },
      "source": [
        "### Fetch the Trained Model\n"
      ]
    },
    {
      "cell_type": "code",
      "execution_count": 8,
      "metadata": {
        "id": "poovJ-LLEdg9"
      },
      "outputs": [],
      "source": [
        "model = await workflow.models().last()"
      ]
    },
    {
      "cell_type": "markdown",
      "metadata": {
        "id": "mrqZX6vCVheE"
      },
      "source": [
        "### Precondition While Generating\n"
      ]
    },
    {
      "cell_type": "markdown",
      "metadata": {
        "id": "w256JU4BVwHN"
      },
      "source": [
        "#### Example 1: One Condition\n",
        "\n",
        "**User Intent**\n",
        "\n",
        "Generate the following synthetic dataset: 25 sessions with metadata (age = 4, gender = M).\n"
      ]
    },
    {
      "cell_type": "markdown",
      "metadata": {
        "id": "VAeKpyS4DRjk"
      },
      "source": [
        "##### Specify these conditions in the generate config\n"
      ]
    },
    {
      "cell_type": "code",
      "execution_count": 9,
      "metadata": {
        "id": "QyAZpKJ5mxAv"
      },
      "outputs": [],
      "source": [
        "# input: given_metadata = [(age = 4, gender = M)]\n",
        "# expected output: 25 sessions with metadata = (age = 4, gender = M)\n",
        "given_metadata1 = {\"age\": [\"4\"], \"gender\": [\"M\"]}\n",
        "generate1_config = get_config(sessions=25, given_metadata=given_metadata1)\n",
        "generate1 = ra.GenerateTimeGAN(generate1_config)"
      ]
    },
    {
      "cell_type": "markdown",
      "metadata": {
        "id": "uyjRS10ADWTk"
      },
      "source": [
        "##### Run the generate workflow\n"
      ]
    },
    {
      "cell_type": "code",
      "execution_count": 10,
      "metadata": {
        "colab": {
          "base_uri": "https://localhost:8080/"
        },
        "id": "LPsW5ImcWCeM",
        "outputId": "095a94c5-04f4-499c-a911-dd984b144533"
      },
      "outputs": [
        {
          "name": "stdout",
          "output_type": "stream",
          "text": [
            "Generate Workflow: 1fw6NCPAtubpk2qJN0TZ9i\n"
          ]
        }
      ],
      "source": [
        "save = ra.DatasetSave(name=\"synthetic\")\n",
        "builder = rf.WorkflowBuilder()\n",
        "builder.add_path(model, generate1, save)\n",
        "workflow = await builder.start(conn)\n",
        "print(f\"Generate Workflow: {workflow.id()}\")"
      ]
    },
    {
      "cell_type": "code",
      "execution_count": 11,
      "metadata": {
        "id": "9UJnBm3GWL3Z"
      },
      "outputs": [
        {
          "name": "stdout",
          "output_type": "stream",
          "text": [
            "2025-02-07T00:38:53Z generate-time-gan: DEBUG CUDA available\n",
            "2025-02-07T00:38:53Z generate-time-gan: DEBUG Running on cuda:NVIDIA A100 80GB PCIe with cuda version 11.8\n",
            "2025-02-07T00:38:53Z generate-time-gan: INFO Downloading model with model_id='e351308d-e4eb-11ef-a0ee-0e92d88750cd'...\n",
            "2025-02-07T00:38:54Z generate-time-gan: INFO Generating 25 sessions...\n",
            "2025-02-07T00:38:56Z generate-time-gan: DEBUG Generating data from model trained with 1 epochs\n",
            "2025-02-07T00:38:56Z generate-time-gan: DEBUG DG generating 1 batch\n",
            "2025-02-07T00:38:57Z dataset-save: INFO using field 'session_key' to concatenate tables\n",
            "2025-02-07T00:38:57Z dataset-save: INFO Saved dataset 'DUOEIyjyjrFzLejnwXdFd' with 79 rows\n"
          ]
        }
      ],
      "source": [
        "async for log in workflow.logs(level=rf.events.LogLevel.DEBUG):\n",
        "    print(log)"
      ]
    },
    {
      "cell_type": "code",
      "execution_count": 12,
      "metadata": {
        "id": "k0X3s6VLWNm3"
      },
      "outputs": [],
      "source": [
        "syn = None\n",
        "async for sds in workflow.datasets():\n",
        "    syn = await sds.to_local(conn)"
      ]
    },
    {
      "cell_type": "code",
      "execution_count": 13,
      "metadata": {
        "colab": {
          "base_uri": "https://localhost:8080/",
          "height": 424
        },
        "id": "P7Z7ajT2WPjI",
        "outputId": "aaeb74c7-1e9b-42cc-aa56-3e78f6a3acea"
      },
      "outputs": [
        {
          "data": {
            "text/html": [
              "<div>\n",
              "<style scoped>\n",
              "    .dataframe tbody tr th:only-of-type {\n",
              "        vertical-align: middle;\n",
              "    }\n",
              "\n",
              "    .dataframe tbody tr th {\n",
              "        vertical-align: top;\n",
              "    }\n",
              "\n",
              "    .dataframe thead th {\n",
              "        text-align: right;\n",
              "    }\n",
              "</style>\n",
              "<table border=\"1\" class=\"dataframe\">\n",
              "  <thead>\n",
              "    <tr style=\"text-align: right;\">\n",
              "      <th></th>\n",
              "      <th>timestamp</th>\n",
              "      <th>amount</th>\n",
              "      <th>age</th>\n",
              "      <th>gender</th>\n",
              "      <th>merchant</th>\n",
              "      <th>category</th>\n",
              "      <th>fraud</th>\n",
              "      <th>session_key</th>\n",
              "    </tr>\n",
              "  </thead>\n",
              "  <tbody>\n",
              "    <tr>\n",
              "      <th>0</th>\n",
              "      <td>2023-01-11 19:41:31.911</td>\n",
              "      <td>6460.813979</td>\n",
              "      <td>4</td>\n",
              "      <td>M</td>\n",
              "      <td>M1416436880</td>\n",
              "      <td>sportsandtoys</td>\n",
              "      <td>1</td>\n",
              "      <td>0.0</td>\n",
              "    </tr>\n",
              "    <tr>\n",
              "      <th>1</th>\n",
              "      <td>2023-01-25 15:30:41.275</td>\n",
              "      <td>6440.524992</td>\n",
              "      <td>4</td>\n",
              "      <td>M</td>\n",
              "      <td>M2080407379</td>\n",
              "      <td>contents</td>\n",
              "      <td>0</td>\n",
              "      <td>0.0</td>\n",
              "    </tr>\n",
              "    <tr>\n",
              "      <th>2</th>\n",
              "      <td>2023-01-11 19:41:31.911</td>\n",
              "      <td>4861.852333</td>\n",
              "      <td>4</td>\n",
              "      <td>M</td>\n",
              "      <td>M1313686961</td>\n",
              "      <td>leisure</td>\n",
              "      <td>1</td>\n",
              "      <td>1.0</td>\n",
              "    </tr>\n",
              "    <tr>\n",
              "      <th>3</th>\n",
              "      <td>2023-01-11 19:41:31.911</td>\n",
              "      <td>2077.084911</td>\n",
              "      <td>4</td>\n",
              "      <td>M</td>\n",
              "      <td>M1946091778</td>\n",
              "      <td>transportation</td>\n",
              "      <td>0</td>\n",
              "      <td>2.0</td>\n",
              "    </tr>\n",
              "    <tr>\n",
              "      <th>4</th>\n",
              "      <td>2023-01-21 00:31:06.960</td>\n",
              "      <td>2328.507012</td>\n",
              "      <td>4</td>\n",
              "      <td>M</td>\n",
              "      <td>M1535107174</td>\n",
              "      <td>sportsandtoys</td>\n",
              "      <td>0</td>\n",
              "      <td>2.0</td>\n",
              "    </tr>\n",
              "    <tr>\n",
              "      <th>...</th>\n",
              "      <td>...</td>\n",
              "      <td>...</td>\n",
              "      <td>...</td>\n",
              "      <td>...</td>\n",
              "      <td>...</td>\n",
              "      <td>...</td>\n",
              "      <td>...</td>\n",
              "      <td>...</td>\n",
              "    </tr>\n",
              "    <tr>\n",
              "      <th>74</th>\n",
              "      <td>2023-01-19 12:12:47.048</td>\n",
              "      <td>3845.175058</td>\n",
              "      <td>4</td>\n",
              "      <td>M</td>\n",
              "      <td>M480139044</td>\n",
              "      <td>transportation</td>\n",
              "      <td>0</td>\n",
              "      <td>24.0</td>\n",
              "    </tr>\n",
              "    <tr>\n",
              "      <th>75</th>\n",
              "      <td>2023-01-23 11:20:06.290</td>\n",
              "      <td>3774.962349</td>\n",
              "      <td>4</td>\n",
              "      <td>M</td>\n",
              "      <td>M677738360</td>\n",
              "      <td>travel</td>\n",
              "      <td>0</td>\n",
              "      <td>24.0</td>\n",
              "    </tr>\n",
              "    <tr>\n",
              "      <th>76</th>\n",
              "      <td>2023-01-26 21:08:32.348</td>\n",
              "      <td>3846.015449</td>\n",
              "      <td>4</td>\n",
              "      <td>M</td>\n",
              "      <td>M480139044</td>\n",
              "      <td>transportation</td>\n",
              "      <td>0</td>\n",
              "      <td>24.0</td>\n",
              "    </tr>\n",
              "    <tr>\n",
              "      <th>77</th>\n",
              "      <td>2023-01-30 16:34:56.454</td>\n",
              "      <td>3786.119122</td>\n",
              "      <td>4</td>\n",
              "      <td>M</td>\n",
              "      <td>M677738360</td>\n",
              "      <td>home</td>\n",
              "      <td>0</td>\n",
              "      <td>24.0</td>\n",
              "    </tr>\n",
              "    <tr>\n",
              "      <th>78</th>\n",
              "      <td>2023-02-03 05:06:55.488</td>\n",
              "      <td>3829.208522</td>\n",
              "      <td>4</td>\n",
              "      <td>M</td>\n",
              "      <td>M547558035</td>\n",
              "      <td>transportation</td>\n",
              "      <td>0</td>\n",
              "      <td>24.0</td>\n",
              "    </tr>\n",
              "  </tbody>\n",
              "</table>\n",
              "<p>79 rows × 8 columns</p>\n",
              "</div>"
            ],
            "text/plain": [
              "                 timestamp       amount age gender     merchant  \\\n",
              "0  2023-01-11 19:41:31.911  6460.813979   4      M  M1416436880   \n",
              "1  2023-01-25 15:30:41.275  6440.524992   4      M  M2080407379   \n",
              "2  2023-01-11 19:41:31.911  4861.852333   4      M  M1313686961   \n",
              "3  2023-01-11 19:41:31.911  2077.084911   4      M  M1946091778   \n",
              "4  2023-01-21 00:31:06.960  2328.507012   4      M  M1535107174   \n",
              "..                     ...          ...  ..    ...          ...   \n",
              "74 2023-01-19 12:12:47.048  3845.175058   4      M   M480139044   \n",
              "75 2023-01-23 11:20:06.290  3774.962349   4      M   M677738360   \n",
              "76 2023-01-26 21:08:32.348  3846.015449   4      M   M480139044   \n",
              "77 2023-01-30 16:34:56.454  3786.119122   4      M   M677738360   \n",
              "78 2023-02-03 05:06:55.488  3829.208522   4      M   M547558035   \n",
              "\n",
              "          category  fraud  session_key  \n",
              "0    sportsandtoys      1          0.0  \n",
              "1         contents      0          0.0  \n",
              "2          leisure      1          1.0  \n",
              "3   transportation      0          2.0  \n",
              "4    sportsandtoys      0          2.0  \n",
              "..             ...    ...          ...  \n",
              "74  transportation      0         24.0  \n",
              "75          travel      0         24.0  \n",
              "76  transportation      0         24.0  \n",
              "77            home      0         24.0  \n",
              "78  transportation      0         24.0  \n",
              "\n",
              "[79 rows x 8 columns]"
            ]
          },
          "execution_count": 13,
          "metadata": {},
          "output_type": "execute_result"
        }
      ],
      "source": [
        "syn.to_pandas()"
      ]
    },
    {
      "cell_type": "markdown",
      "metadata": {
        "id": "U-y2NMWvhx0X"
      },
      "source": [
        "##### Validate metadata fields are constrained to given_metadata:\n"
      ]
    },
    {
      "cell_type": "code",
      "execution_count": 14,
      "metadata": {
        "colab": {
          "base_uri": "https://localhost:8080/",
          "height": 519
        },
        "id": "7rKRg7UYLN04",
        "outputId": "f11265fa-e784-4fb5-80b1-752285621bb1"
      },
      "outputs": [
        {
          "data": {
            "text/plain": [
              "<seaborn.axisgrid.FacetGrid at 0x141b020f0>"
            ]
          },
          "execution_count": 14,
          "metadata": {},
          "output_type": "execute_result"
        },
        {
          "data": {
            "image/png": "[encoded data removed]",
            "text/plain": [
              "<Figure size 615.125x500 with 1 Axes>"
            ]
          },
          "metadata": {},
          "output_type": "display_data"
        }
      ],
      "source": [
        "# plot age\n",
        "rl.vis.plot_bar(datasets=[syn], field=\"age\")"
      ]
    },
    {
      "cell_type": "code",
      "execution_count": 15,
      "metadata": {
        "colab": {
          "base_uri": "https://localhost:8080/",
          "height": 519
        },
        "id": "6zRZWNm5eWqp",
        "outputId": "7df4a9ca-8fc2-4f97-b47f-48433738996c"
      },
      "outputs": [
        {
          "data": {
            "text/plain": [
              "<seaborn.axisgrid.FacetGrid at 0x145c19b20>"
            ]
          },
          "execution_count": 15,
          "metadata": {},
          "output_type": "execute_result"
        },
        {
          "data": {
            "image/png": "[encoded data removed]",
            "text/plain": [
              "<Figure size 615.125x500 with 1 Axes>"
            ]
          },
          "metadata": {},
          "output_type": "display_data"
        }
      ],
      "source": [
        "# plot gender\n",
        "rl.vis.plot_bar(datasets=[syn], field=\"gender\")"
      ]
    },
    {
      "cell_type": "markdown",
      "metadata": {
        "id": "UAXMaAmcV04n"
      },
      "source": [
        "#### Example 2: Multiple Conditions, Controlling Number of Sessions\n",
        "\n",
        "**User Intent**\n",
        "\n",
        "Generate the following synthetic dataset (using the same model):\n",
        "\n",
        "1. 25 sessions with metadata (age = 4, gender = M)\n",
        "2. 50 sessions with metadata either (age = 2, gender = F) or (age = 5, gender = M)\n"
      ]
    },
    {
      "cell_type": "markdown",
      "metadata": {
        "id": "hS6h14tHC7f-"
      },
      "source": [
        "##### Specify these conditions in the generate config\n"
      ]
    },
    {
      "cell_type": "code",
      "execution_count": 16,
      "metadata": {
        "id": "eDehCdwEmykP"
      },
      "outputs": [],
      "source": [
        "# given_metadata = [(age = 2, gender = F), (age = 5, gender = M)]\n",
        "# expected output: 50 sessions with metadata that can be either\n",
        "# (age = 2, gender = F) or (age = 5, gender = M).\n",
        "given_metadata2 = {\"age\": [\"2\", \"5\"], \"gender\": [\"F\", \"M\"]}\n",
        "generate2_config = get_config(sessions=50, given_metadata=given_metadata2)\n",
        "generate2 = ra.GenerateTimeGAN(generate2_config)"
      ]
    },
    {
      "cell_type": "markdown",
      "metadata": {
        "id": "zN9W_FNODD_k"
      },
      "source": [
        "##### Run the generate workflow\n"
      ]
    },
    {
      "cell_type": "code",
      "execution_count": 17,
      "metadata": {
        "colab": {
          "base_uri": "https://localhost:8080/"
        },
        "id": "LoKKazcDnX67",
        "outputId": "bad83b7d-c7be-4493-85f7-e32b5848bc2f"
      },
      "outputs": [
        {
          "name": "stdout",
          "output_type": "stream",
          "text": [
            "Generate Workflow: 5OE40Mj69wbGbad07rb2Rd\n"
          ]
        }
      ],
      "source": [
        "save = ra.DatasetSave(\n",
        "    name=\"synthetic\", concat_tables=True, concat_session_key=\"session_key\"\n",
        ")\n",
        "\n",
        "# this shows how you can add two different generate actions to the same workflow\n",
        "builder = rf.WorkflowBuilder()\n",
        "builder.add(model)\n",
        "builder.add(\n",
        "    generate1, parents=[model]\n",
        ")  # re-using generate action from example 1\n",
        "builder.add(\n",
        "    generate2, parents=[model]\n",
        ")  # using generate action from example 2\n",
        "builder.add(save, parents=[generate1, generate2])\n",
        "workflow = await builder.start(conn)\n",
        "print(f\"Generate Workflow: {workflow.id()}\")"
      ]
    },
    {
      "cell_type": "code",
      "execution_count": 18,
      "metadata": {
        "id": "ElmuvVyGnboW"
      },
      "outputs": [
        {
          "name": "stdout",
          "output_type": "stream",
          "text": [
            "2025-02-07T00:39:16Z generate-time-gan1: DEBUG CUDA available\n",
            "2025-02-07T00:39:16Z generate-time-gan1: DEBUG Running on cuda:NVIDIA A100 80GB PCIe with cuda version 11.8\n",
            "2025-02-07T00:39:17Z generate-time-gan1: INFO Downloading model with model_id='e351308d-e4eb-11ef-a0ee-0e92d88750cd'...\n",
            "2025-02-07T00:39:18Z generate-time-gan1: INFO Generating 50 sessions...\n",
            "2025-02-07T00:39:20Z generate-time-gan1: DEBUG Generating data from model trained with 1 epochs\n",
            "2025-02-07T00:39:20Z generate-time-gan1: DEBUG DG generating 1 batch\n",
            "2025-02-07T00:39:21Z dataset-save: INFO using field 'session_key' to concatenate tables\n",
            "2025-02-07T00:39:21Z dataset-save: INFO Saved dataset '5z3JonWZToCwrjC1ppzHFF' with 295 rows\n",
            "2025-02-07T00:40:56Z generate-time-gan: DEBUG CUDA available\n",
            "2025-02-07T00:40:56Z generate-time-gan: DEBUG Running on cuda:NVIDIA A100 80GB PCIe with cuda version 11.8\n",
            "2025-02-07T00:40:56Z generate-time-gan: INFO Downloading model with model_id='e351308d-e4eb-11ef-a0ee-0e92d88750cd'...\n",
            "2025-02-07T00:40:57Z generate-time-gan: INFO Generating 25 sessions...\n",
            "2025-02-07T00:40:59Z generate-time-gan: DEBUG Generating data from model trained with 1 epochs\n",
            "2025-02-07T00:40:59Z generate-time-gan: DEBUG DG generating 1 batch\n",
            "2025-02-07T00:41:00Z dataset-save: INFO using field 'session_key' to concatenate tables\n"
          ]
        }
      ],
      "source": [
        "async for log in workflow.logs(level=rf.events.LogLevel.DEBUG):\n",
        "    print(log)"
      ]
    },
    {
      "cell_type": "code",
      "execution_count": 19,
      "metadata": {
        "id": "cmICaybvrlR2"
      },
      "outputs": [],
      "source": [
        "syn = None\n",
        "async for sds in workflow.datasets():\n",
        "    syn = await sds.to_local(conn)"
      ]
    },
    {
      "cell_type": "code",
      "execution_count": 20,
      "metadata": {
        "colab": {
          "base_uri": "https://localhost:8080/",
          "height": 424
        },
        "id": "-ZhUm7YZnc3T",
        "outputId": "ca9b795e-9ef1-4b46-b590-4105d7263b3a"
      },
      "outputs": [
        {
          "data": {
            "text/html": [
              "<div>\n",
              "<style scoped>\n",
              "    .dataframe tbody tr th:only-of-type {\n",
              "        vertical-align: middle;\n",
              "    }\n",
              "\n",
              "    .dataframe tbody tr th {\n",
              "        vertical-align: top;\n",
              "    }\n",
              "\n",
              "    .dataframe thead th {\n",
              "        text-align: right;\n",
              "    }\n",
              "</style>\n",
              "<table border=\"1\" class=\"dataframe\">\n",
              "  <thead>\n",
              "    <tr style=\"text-align: right;\">\n",
              "      <th></th>\n",
              "      <th>timestamp</th>\n",
              "      <th>amount</th>\n",
              "      <th>age</th>\n",
              "      <th>gender</th>\n",
              "      <th>merchant</th>\n",
              "      <th>category</th>\n",
              "      <th>fraud</th>\n",
              "      <th>session_key</th>\n",
              "    </tr>\n",
              "  </thead>\n",
              "  <tbody>\n",
              "    <tr>\n",
              "      <th>0</th>\n",
              "      <td>2023-01-12 13:51:16.459</td>\n",
              "      <td>4678.341502</td>\n",
              "      <td>4</td>\n",
              "      <td>M</td>\n",
              "      <td>M1053599405</td>\n",
              "      <td>barsandrestaurants</td>\n",
              "      <td>0</td>\n",
              "      <td>50.0</td>\n",
              "    </tr>\n",
              "    <tr>\n",
              "      <th>1</th>\n",
              "      <td>2023-01-11 23:20:44.547</td>\n",
              "      <td>4715.285463</td>\n",
              "      <td>4</td>\n",
              "      <td>M</td>\n",
              "      <td>M1600850729</td>\n",
              "      <td>hyper</td>\n",
              "      <td>0</td>\n",
              "      <td>50.0</td>\n",
              "    </tr>\n",
              "    <tr>\n",
              "      <th>2</th>\n",
              "      <td>2023-01-12 13:51:16.459</td>\n",
              "      <td>1496.636816</td>\n",
              "      <td>4</td>\n",
              "      <td>M</td>\n",
              "      <td>M209847108</td>\n",
              "      <td>barsandrestaurants</td>\n",
              "      <td>0</td>\n",
              "      <td>51.0</td>\n",
              "    </tr>\n",
              "    <tr>\n",
              "      <th>3</th>\n",
              "      <td>2023-01-13 14:49:43.048</td>\n",
              "      <td>2577.609953</td>\n",
              "      <td>4</td>\n",
              "      <td>M</td>\n",
              "      <td>M1872033263</td>\n",
              "      <td>barsandrestaurants</td>\n",
              "      <td>0</td>\n",
              "      <td>51.0</td>\n",
              "    </tr>\n",
              "    <tr>\n",
              "      <th>4</th>\n",
              "      <td>2023-01-12 13:51:16.459</td>\n",
              "      <td>4105.203964</td>\n",
              "      <td>4</td>\n",
              "      <td>M</td>\n",
              "      <td>M349281107</td>\n",
              "      <td>barsandrestaurants</td>\n",
              "      <td>1</td>\n",
              "      <td>52.0</td>\n",
              "    </tr>\n",
              "    <tr>\n",
              "      <th>...</th>\n",
              "      <td>...</td>\n",
              "      <td>...</td>\n",
              "      <td>...</td>\n",
              "      <td>...</td>\n",
              "      <td>...</td>\n",
              "      <td>...</td>\n",
              "      <td>...</td>\n",
              "      <td>...</td>\n",
              "    </tr>\n",
              "    <tr>\n",
              "      <th>368</th>\n",
              "      <td>2023-12-02 18:47:39.838</td>\n",
              "      <td>482.307054</td>\n",
              "      <td>2</td>\n",
              "      <td>F</td>\n",
              "      <td>M732195782</td>\n",
              "      <td>tech</td>\n",
              "      <td>0</td>\n",
              "      <td>48.0</td>\n",
              "    </tr>\n",
              "    <tr>\n",
              "      <th>369</th>\n",
              "      <td>2023-12-17 05:23:25.576</td>\n",
              "      <td>358.464400</td>\n",
              "      <td>2</td>\n",
              "      <td>F</td>\n",
              "      <td>M2080407379</td>\n",
              "      <td>wellnessandbeauty</td>\n",
              "      <td>0</td>\n",
              "      <td>48.0</td>\n",
              "    </tr>\n",
              "    <tr>\n",
              "      <th>370</th>\n",
              "      <td>2023-12-31 17:44:50.038</td>\n",
              "      <td>266.211484</td>\n",
              "      <td>2</td>\n",
              "      <td>F</td>\n",
              "      <td>M732195782</td>\n",
              "      <td>tech</td>\n",
              "      <td>0</td>\n",
              "      <td>48.0</td>\n",
              "    </tr>\n",
              "    <tr>\n",
              "      <th>371</th>\n",
              "      <td>2023-01-19 21:49:14.869</td>\n",
              "      <td>1591.679590</td>\n",
              "      <td>5</td>\n",
              "      <td>M</td>\n",
              "      <td>M1053599405</td>\n",
              "      <td>contents</td>\n",
              "      <td>0</td>\n",
              "      <td>49.0</td>\n",
              "    </tr>\n",
              "    <tr>\n",
              "      <th>372</th>\n",
              "      <td>2023-01-26 20:21:17.920</td>\n",
              "      <td>1625.001720</td>\n",
              "      <td>5</td>\n",
              "      <td>M</td>\n",
              "      <td>M1535107174</td>\n",
              "      <td>contents</td>\n",
              "      <td>0</td>\n",
              "      <td>49.0</td>\n",
              "    </tr>\n",
              "  </tbody>\n",
              "</table>\n",
              "<p>373 rows × 8 columns</p>\n",
              "</div>"
            ],
            "text/plain": [
              "                  timestamp       amount age gender     merchant  \\\n",
              "0   2023-01-12 13:51:16.459  4678.341502   4      M  M1053599405   \n",
              "1   2023-01-11 23:20:44.547  4715.285463   4      M  M1600850729   \n",
              "2   2023-01-12 13:51:16.459  1496.636816   4      M   M209847108   \n",
              "3   2023-01-13 14:49:43.048  2577.609953   4      M  M1872033263   \n",
              "4   2023-01-12 13:51:16.459  4105.203964   4      M   M349281107   \n",
              "..                      ...          ...  ..    ...          ...   \n",
              "368 2023-12-02 18:47:39.838   482.307054   2      F   M732195782   \n",
              "369 2023-12-17 05:23:25.576   358.464400   2      F  M2080407379   \n",
              "370 2023-12-31 17:44:50.038   266.211484   2      F   M732195782   \n",
              "371 2023-01-19 21:49:14.869  1591.679590   5      M  M1053599405   \n",
              "372 2023-01-26 20:21:17.920  1625.001720   5      M  M1535107174   \n",
              "\n",
              "               category  fraud  session_key  \n",
              "0    barsandrestaurants      0         50.0  \n",
              "1                 hyper      0         50.0  \n",
              "2    barsandrestaurants      0         51.0  \n",
              "3    barsandrestaurants      0         51.0  \n",
              "4    barsandrestaurants      1         52.0  \n",
              "..                  ...    ...          ...  \n",
              "368                tech      0         48.0  \n",
              "369   wellnessandbeauty      0         48.0  \n",
              "370                tech      0         48.0  \n",
              "371            contents      0         49.0  \n",
              "372            contents      0         49.0  \n",
              "\n",
              "[373 rows x 8 columns]"
            ]
          },
          "execution_count": 20,
          "metadata": {},
          "output_type": "execute_result"
        }
      ],
      "source": [
        "syn.to_pandas()"
      ]
    },
    {
      "cell_type": "markdown",
      "metadata": {
        "id": "JIl40FuXh62k"
      },
      "source": [
        "##### Validate metadata fields are constrained to given_metadata:\n"
      ]
    },
    {
      "cell_type": "code",
      "execution_count": 21,
      "metadata": {
        "colab": {
          "base_uri": "https://localhost:8080/",
          "height": 519
        },
        "id": "x-08XE0nLJwI",
        "outputId": "2eb81505-fa91-421d-fe8d-72c787ecd9da"
      },
      "outputs": [
        {
          "data": {
            "text/plain": [
              "<seaborn.axisgrid.FacetGrid at 0x145cafec0>"
            ]
          },
          "execution_count": 21,
          "metadata": {},
          "output_type": "execute_result"
        },
        {
          "data": {
            "image/png": "[encoded data removed]",
            "text/plain": [
              "<Figure size 615.125x500 with 1 Axes>"
            ]
          },
          "metadata": {},
          "output_type": "display_data"
        }
      ],
      "source": [
        "# plot age\n",
        "rl.vis.plot_bar(datasets=[syn], field=\"age\")"
      ]
    },
    {
      "cell_type": "code",
      "execution_count": 23,
      "metadata": {
        "colab": {
          "base_uri": "https://localhost:8080/",
          "height": 519
        },
        "id": "XV3t7_jXeaw7",
        "outputId": "5439c1fb-12d0-4d80-bbe2-ed714195f50a"
      },
      "outputs": [
        {
          "data": {
            "text/plain": [
              "<seaborn.axisgrid.FacetGrid at 0x145d1b9b0>"
            ]
          },
          "execution_count": 23,
          "metadata": {},
          "output_type": "execute_result"
        },
        {
          "data": {
            "image/png": "[encoded data removed]",
            "text/plain": [
              "<Figure size 615.125x500 with 1 Axes>"
            ]
          },
          "metadata": {},
          "output_type": "display_data"
        }
      ],
      "source": [
        "# plot gender\n",
        "rl.vis.plot_bar(datasets=[syn], field=\"gender\")"
      ]
    }
  ],
  "metadata": {
    "colab": {
      "collapsed_sections": [
        "cGXiiEscl2Dj",
        "b5QfMd72Vclu",
        "uyjRS10ADWTk",
        "zN9W_FNODD_k"
      ],
      "provenance": []
    },
    "kernelspec": {
      "display_name": "colab",
      "language": "python",
      "name": "python3"
    },
    "language_info": {
      "codemirror_mode": {
        "name": "ipython",
        "version": 3
      },
      "file_extension": ".py",
      "mimetype": "text/x-python",
      "name": "python",
      "nbconvert_exporter": "python",
      "pygments_lexer": "ipython3",
      "version": "3.12.4"
    }
  },
  "nbformat": 4,
  "nbformat_minor": 0
}
