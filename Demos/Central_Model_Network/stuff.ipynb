{
 "cells": [
  {
   "cell_type": "code",
   "id": "initial_id",
   "metadata": {
    "collapsed": true,
    "ExecuteTime": {
     "end_time": "2024-09-26T18:43:53.606593Z",
     "start_time": "2024-09-26T18:43:53.602214Z"
    }
   },
   "source": [
    "import pandas as pd\n",
    "from requests.packages import target\n",
    "from rockfish import LogLevel\n",
    "\n",
    "\n",
    "def sessionise_data(df, start_session =1):\n",
    "    # Ensure the timestamp is in datetime format\n",
    "    df['timestamp'] = pd.to_datetime(df['timestamp'])\n",
    "    \n",
    "    # Sort the dataframe by timestamp\n",
    "    df = df.sort_values(by='timestamp').reset_index(drop=True)\n",
    "    \n",
    "    def generate_sessions(df, window_size=24, step_size=1):\n",
    "        sessions = []\n",
    "        start_time = df['timestamp'].min()\n",
    "        end_time = df['timestamp'].max()\n",
    "        \n",
    "        current_time = start_time\n",
    "        session_id = 1\n",
    "        \n",
    "        while current_time + pd.Timedelta(hours=window_size) <= end_time:\n",
    "            session_df = df[(df['timestamp'] >= current_time) & (df['timestamp'] < current_time + pd.Timedelta(hours=window_size))].copy()\n",
    "            session_df['sessionID'] = session_id\n",
    "            sessions.append(session_df)\n",
    "            \n",
    "            current_time += pd.Timedelta(hours=step_size)\n",
    "            session_id += 1\n",
    "        \n",
    "        return pd.concat(sessions, ignore_index=True)\n",
    "    \n",
    "    # Generate sessions\n",
    "    sessions_df = generate_sessions(df)\n",
    "    return sessions_df"
   ],
   "outputs": [],
   "execution_count": 12
  },
  {
   "metadata": {
    "ExecuteTime": {
     "end_time": "2024-09-26T18:44:54.333187Z",
     "start_time": "2024-09-26T18:44:54.232870Z"
    }
   },
   "cell_type": "code",
   "source": "df = pd.read_csv('location3.csv')",
   "id": "27a7723b98b960b2",
   "outputs": [],
   "execution_count": 20
  },
  {
   "metadata": {
    "ExecuteTime": {
     "end_time": "2024-09-26T18:44:54.633577Z",
     "start_time": "2024-09-26T18:44:54.341388Z"
    }
   },
   "cell_type": "code",
   "source": "df = sessionise_data(df)",
   "id": "ee2669ae927b7642",
   "outputs": [],
   "execution_count": 21
  },
  {
   "metadata": {
    "ExecuteTime": {
     "end_time": "2024-09-26T18:45:09.583602Z",
     "start_time": "2024-09-26T18:44:56.610426Z"
    }
   },
   "cell_type": "code",
   "source": "df.to_csv('location3.csv',index=False)",
   "id": "35f02d81b74824bc",
   "outputs": [],
   "execution_count": 22
  },
  {
   "metadata": {
    "ExecuteTime": {
     "end_time": "2024-09-26T18:45:13.760951Z",
     "start_time": "2024-09-26T18:45:13.757492Z"
    }
   },
   "cell_type": "code",
   "source": "df.columns",
   "id": "45ce829366163dcf",
   "outputs": [
    {
     "data": {
      "text/plain": [
       "Index(['feature_0', 'feature_1', 'feature_2', 'feature_3', 'feature_4',\n",
       "       'feature_5', 'feature_6', 'feature_7', 'feature_8', 'feature_9',\n",
       "       'feature_10', 'feature_11', 'feature_12', 'feature_13', 'feature_14',\n",
       "       'feature_15', 'feature_16', 'feature_17', 'feature_18', 'feature_19',\n",
       "       'feature_20', 'feature_21', 'feature_22', 'feature_23', 'feature_24',\n",
       "       'timestamp', 'sessionID'],\n",
       "      dtype='object')"
      ]
     },
     "execution_count": 23,
     "metadata": {},
     "output_type": "execute_result"
    }
   ],
   "execution_count": 23
  },
  {
   "metadata": {
    "ExecuteTime": {
     "end_time": "2024-09-26T18:59:49.978342Z",
     "start_time": "2024-09-26T18:59:48.214153Z"
    }
   },
   "cell_type": "code",
   "source": "df = pd.read_csv('location1.csv').iloc[:10000]",
   "id": "a22cac3918c3e1b2",
   "outputs": [],
   "execution_count": 24
  },
  {
   "metadata": {
    "ExecuteTime": {
     "end_time": "2024-09-26T19:00:04.098142Z",
     "start_time": "2024-09-26T19:00:03.946389Z"
    }
   },
   "cell_type": "code",
   "source": "df.to_csv('onboarding_sample.csv', index=False)",
   "id": "9e55296709005ca5",
   "outputs": [],
   "execution_count": 25
  },
  {
   "metadata": {
    "ExecuteTime": {
     "end_time": "2024-09-26T19:45:20.536113Z",
     "start_time": "2024-09-26T19:45:20.362827Z"
    }
   },
   "cell_type": "code",
   "source": [
    "import pickle\n",
    "q = pickle.load(open('runtime_conf.pkl', 'rb'))"
   ],
   "id": "27337a17bed61473",
   "outputs": [],
   "execution_count": 26
  },
  {
   "metadata": {
    "ExecuteTime": {
     "end_time": "2024-09-26T19:49:09.242487Z",
     "start_time": "2024-09-26T19:49:09.235344Z"
    }
   },
   "cell_type": "code",
   "source": [
    "from actions.dg.train import TrainTimeGAN\n",
    "r = TrainTimeGAN(rf.converter.unstructure(q.actions['train-time-gan'].config()))"
   ],
   "id": "b6ec062f7e3dc5ae",
   "outputs": [],
   "execution_count": 37
  },
  {
   "metadata": {
    "ExecuteTime": {
     "end_time": "2024-09-26T19:49:12.795093Z",
     "start_time": "2024-09-26T19:49:12.792724Z"
    }
   },
   "cell_type": "code",
   "source": "r",
   "id": "513302f8037f8aa4",
   "outputs": [
    {
     "data": {
      "text/plain": [
       "<actions.dg.train.TrainTimeGAN at 0x38f1cec10>"
      ]
     },
     "execution_count": 38,
     "metadata": {},
     "output_type": "execute_result"
    }
   ],
   "execution_count": 38
  },
  {
   "metadata": {
    "ExecuteTime": {
     "end_time": "2024-09-26T19:49:22.187526Z",
     "start_time": "2024-09-26T19:49:22.184610Z"
    }
   },
   "cell_type": "code",
   "source": "q",
   "id": "db8edd15011cff2e",
   "outputs": [
    {
     "data": {
      "text/plain": [
       "<rockfish.workflow.WorkflowBuilder at 0x349d77f50>"
      ]
     },
     "execution_count": 39,
     "metadata": {},
     "output_type": "execute_result"
    }
   ],
   "execution_count": 39
  },
  {
   "metadata": {
    "ExecuteTime": {
     "end_time": "2024-09-26T19:49:48.877411Z",
     "start_time": "2024-09-26T19:49:48.875390Z"
    }
   },
   "cell_type": "code",
   "source": "q.actions['train-time-gan'] = r",
   "id": "2ecbb6f1736249d7",
   "outputs": [],
   "execution_count": 41
  },
  {
   "metadata": {
    "ExecuteTime": {
     "end_time": "2024-09-26T19:49:55.634199Z",
     "start_time": "2024-09-26T19:49:55.632142Z"
    }
   },
   "cell_type": "code",
   "source": "q.actions",
   "id": "c68e2482135680d9",
   "outputs": [
    {
     "data": {
      "text/plain": [
       "{'datastream-load': <rockfish.actions.datastream.DatastreamLoad at 0x33ee895d0>,\n",
       " 'train-time-gan': <actions.dg.train.TrainTimeGAN at 0x38f1cec10>}"
      ]
     },
     "execution_count": 43,
     "metadata": {},
     "output_type": "execute_result"
    }
   ],
   "execution_count": 43
  },
  {
   "metadata": {
    "ExecuteTime": {
     "end_time": "2024-09-26T19:50:32.069375Z",
     "start_time": "2024-09-26T19:50:32.067099Z"
    }
   },
   "cell_type": "code",
   "source": "pickle.dump(q, open('runtime_conf.pkl', 'wb'))",
   "id": "1fa30c7c9e9dd1ff",
   "outputs": [],
   "execution_count": 44
  },
  {
   "metadata": {
    "ExecuteTime": {
     "end_time": "2024-09-26T19:51:57.612155Z",
     "start_time": "2024-09-26T19:51:57.610275Z"
    }
   },
   "cell_type": "code",
   "source": "r",
   "id": "b87424ccbdfe3a5e",
   "outputs": [
    {
     "data": {
      "text/plain": [
       "<actions.dg.train.TrainTimeGAN at 0x38f1cec10>"
      ]
     },
     "execution_count": 45,
     "metadata": {},
     "output_type": "execute_result"
    }
   ],
   "execution_count": 45
  },
  {
   "metadata": {
    "ExecuteTime": {
     "end_time": "2024-09-26T20:19:55.752032Z",
     "start_time": "2024-09-26T20:18:55.246423Z"
    }
   },
   "cell_type": "code",
   "source": [
    "from rockfish.events import LogLevel\n",
    "builder = rf.WorkflowBuilder()\n",
    "builder.add_path(rf.Dataset.from_csv('he', 'location1.csv'), r)\n",
    "workflow = await builder.start(rf.Connection.local())\n",
    "async for log in workflow.logs(level=LogLevel.DEBUG):\n",
    "    print(log)"
   ],
   "id": "5d45c11b36f1fb6",
   "outputs": [
    {
     "name": "stdout",
     "output_type": "stream",
     "text": [
      "2024-09-26T20:18:55.357578Z dataset-load: INFO Loading dataset 'Y07byMzJiv0Z4VugaHeRL' with 1002240 rows\n",
      "2024-09-26T20:18:55.389857Z train-time-gan: DEBUG Training on mps:1\n",
      "2024-09-26T20:19:00.588911Z train-time-gan: INFO Starting DG training job\n",
      "2024-09-26T20:19:13.548179Z train-time-gan: DEBUG Epoch 1, g_loss_d: -3.8544, g_loss: -2.7139, d_loss_fake:  3.9665, d_loss_real: -1292.2047, d_loss_gp:  59.7385, d_loss: -690.8535, g_loss_attr_d:  1.1405, attr_d_loss_fake: -1.0972, attr_d_loss_real:  0.3274, attr_d_loss_gp:  0.0143, attr_d_loss: -0.6272\n",
      "2024-09-26T20:19:13.551315Z train-time-gan: INFO Epoch 1 completed.\n",
      "2024-09-26T20:19:24.267152Z train-time-gan: DEBUG Epoch 2, g_loss_d: -3.7732, g_loss: -1.1264, d_loss_fake:  3.7545, d_loss_real: -1175.9513, d_loss_gp:  51.4496, d_loss: -657.7007, g_loss_attr_d:  2.6468, attr_d_loss_fake: -2.6076, attr_d_loss_real:  1.3635, attr_d_loss_gp:  0.0038, attr_d_loss: -1.2058\n",
      "2024-09-26T20:19:24.269799Z train-time-gan: INFO Epoch 2 completed.\n",
      "2024-09-26T20:19:34.872288Z train-time-gan: DEBUG Epoch 3, g_loss_d: -4.2275, g_loss: -1.2382, d_loss_fake:  4.2186, d_loss_real: -1170.7190, d_loss_gp:  51.1679, d_loss: -654.8218, g_loss_attr_d:  2.9893, attr_d_loss_fake: -2.9867, attr_d_loss_real:  1.7831, attr_d_loss_gp:  0.0035, attr_d_loss: -1.1687\n",
      "2024-09-26T20:19:34.874834Z train-time-gan: INFO Epoch 3 completed.\n",
      "2024-09-26T20:19:45.325473Z train-time-gan: DEBUG Epoch 4, g_loss_d: -3.7267, g_loss: -0.7351, d_loss_fake:  3.7224, d_loss_real: -1177.3925, d_loss_gp:  51.5546, d_loss: -658.1241, g_loss_attr_d:  2.9915, attr_d_loss_fake: -3.0643, attr_d_loss_real:  1.9192, attr_d_loss_gp:  0.0051, attr_d_loss: -1.0941\n",
      "2024-09-26T20:19:45.327966Z train-time-gan: INFO Epoch 4 completed.\n"
     ]
    },
    {
     "ename": "CancelledError",
     "evalue": "",
     "output_type": "error",
     "traceback": [
      "\u001B[0;31m---------------------------------------------------------------------------\u001B[0m",
      "\u001B[0;31mCancelledError\u001B[0m                            Traceback (most recent call last)",
      "Cell \u001B[0;32mIn[53], line 5\u001B[0m\n\u001B[1;32m      3\u001B[0m builder\u001B[38;5;241m.\u001B[39madd_path(rf\u001B[38;5;241m.\u001B[39mDataset\u001B[38;5;241m.\u001B[39mfrom_csv(\u001B[38;5;124m'\u001B[39m\u001B[38;5;124mhe\u001B[39m\u001B[38;5;124m'\u001B[39m, \u001B[38;5;124m'\u001B[39m\u001B[38;5;124mlocation1.csv\u001B[39m\u001B[38;5;124m'\u001B[39m), r)\n\u001B[1;32m      4\u001B[0m workflow \u001B[38;5;241m=\u001B[39m \u001B[38;5;28;01mawait\u001B[39;00m builder\u001B[38;5;241m.\u001B[39mstart(rf\u001B[38;5;241m.\u001B[39mConnection\u001B[38;5;241m.\u001B[39mlocal())\n\u001B[0;32m----> 5\u001B[0m \u001B[38;5;28;01masync\u001B[39;00m \u001B[38;5;28;01mfor\u001B[39;00m log \u001B[38;5;129;01min\u001B[39;00m workflow\u001B[38;5;241m.\u001B[39mlogs(level\u001B[38;5;241m=\u001B[39mLogLevel\u001B[38;5;241m.\u001B[39mDEBUG):\n\u001B[1;32m      6\u001B[0m     \u001B[38;5;28mprint\u001B[39m(log)\n",
      "File \u001B[0;32m~/rockfish/rockfish-sdk/sdk-cuddlefish-venv/lib/python3.11/site-packages/rockfish/streams.py:312\u001B[0m, in \u001B[0;36mStream.__anext__\u001B[0;34m(self)\u001B[0m\n\u001B[1;32m    311\u001B[0m \u001B[38;5;28;01masync\u001B[39;00m \u001B[38;5;28;01mdef\u001B[39;00m \u001B[38;5;21m__anext__\u001B[39m(\u001B[38;5;28mself\u001B[39m) \u001B[38;5;241m-\u001B[39m\u001B[38;5;241m>\u001B[39m T:\n\u001B[0;32m--> 312\u001B[0m     \u001B[38;5;28;01mreturn\u001B[39;00m \u001B[38;5;28;01mawait\u001B[39;00m \u001B[38;5;28mself\u001B[39m\u001B[38;5;241m.\u001B[39miter\u001B[38;5;241m.\u001B[39m\u001B[38;5;21m__anext__\u001B[39m()\n",
      "File \u001B[0;32m~/rockfish/rockfish-sdk/sdk-cuddlefish-venv/lib/python3.11/site-packages/rockfish/local/workflow.py:219\u001B[0m, in \u001B[0;36mWorkflow.logs.<locals>.inner\u001B[0;34m(*names)\u001B[0m\n\u001B[1;32m    217\u001B[0m \u001B[38;5;28;01masync\u001B[39;00m \u001B[38;5;28;01mdef\u001B[39;00m \u001B[38;5;21minner\u001B[39m(\u001B[38;5;241m*\u001B[39mnames):\n\u001B[1;32m    218\u001B[0m     \u001B[38;5;28;01masync\u001B[39;00m \u001B[38;5;28;01mwith\u001B[39;00m aclosing(\u001B[38;5;28mself\u001B[39m\u001B[38;5;241m.\u001B[39mevents(\u001B[38;5;241m*\u001B[39mnames)) \u001B[38;5;28;01mas\u001B[39;00m events:\n\u001B[0;32m--> 219\u001B[0m         \u001B[38;5;28;01masync\u001B[39;00m \u001B[38;5;28;01mfor\u001B[39;00m event \u001B[38;5;129;01min\u001B[39;00m events:\n\u001B[1;32m    220\u001B[0m             \u001B[38;5;28;01mif\u001B[39;00m EventType\u001B[38;5;241m.\u001B[39mLOG \u001B[38;5;241m!=\u001B[39m event\u001B[38;5;241m.\u001B[39mtype:\n\u001B[1;32m    221\u001B[0m                 \u001B[38;5;28;01mcontinue\u001B[39;00m\n",
      "File \u001B[0;32m~/rockfish/rockfish-sdk/sdk-cuddlefish-venv/lib/python3.11/site-packages/rockfish/streams.py:312\u001B[0m, in \u001B[0;36mStream.__anext__\u001B[0;34m(self)\u001B[0m\n\u001B[1;32m    311\u001B[0m \u001B[38;5;28;01masync\u001B[39;00m \u001B[38;5;28;01mdef\u001B[39;00m \u001B[38;5;21m__anext__\u001B[39m(\u001B[38;5;28mself\u001B[39m) \u001B[38;5;241m-\u001B[39m\u001B[38;5;241m>\u001B[39m T:\n\u001B[0;32m--> 312\u001B[0m     \u001B[38;5;28;01mreturn\u001B[39;00m \u001B[38;5;28;01mawait\u001B[39;00m \u001B[38;5;28mself\u001B[39m\u001B[38;5;241m.\u001B[39miter\u001B[38;5;241m.\u001B[39m\u001B[38;5;21m__anext__\u001B[39m()\n",
      "File \u001B[0;32m~/rockfish/rockfish-sdk/sdk-cuddlefish-venv/lib/python3.11/site-packages/rockfish/local/workflow.py:182\u001B[0m, in \u001B[0;36mWorkflow.events.<locals>.inner\u001B[0;34m(*names)\u001B[0m\n\u001B[1;32m    180\u001B[0m streams \u001B[38;5;241m=\u001B[39m [\u001B[38;5;28mself\u001B[39m\u001B[38;5;241m.\u001B[39m_job_events(name\u001B[38;5;241m=\u001B[39mname) \u001B[38;5;28;01mfor\u001B[39;00m name \u001B[38;5;129;01min\u001B[39;00m names]\n\u001B[1;32m    181\u001B[0m \u001B[38;5;28;01masync\u001B[39;00m \u001B[38;5;28;01mwith\u001B[39;00m Merger() \u001B[38;5;28;01mas\u001B[39;00m merger:\n\u001B[0;32m--> 182\u001B[0m     \u001B[38;5;28;01masync\u001B[39;00m \u001B[38;5;28;01mfor\u001B[39;00m event \u001B[38;5;129;01min\u001B[39;00m merger\u001B[38;5;241m.\u001B[39mmerge(\u001B[38;5;241m*\u001B[39mstreams):\n\u001B[1;32m    183\u001B[0m         \u001B[38;5;28;01myield\u001B[39;00m event\n",
      "File \u001B[0;32m~/rockfish/rockfish-sdk/sdk-cuddlefish-venv/lib/python3.11/site-packages/rockfish/streams.py:53\u001B[0m, in \u001B[0;36mMerger.merge\u001B[0;34m(self, *agens)\u001B[0m\n\u001B[1;32m     51\u001B[0m pending \u001B[38;5;241m=\u001B[39m {\u001B[38;5;28mself\u001B[39m\u001B[38;5;241m.\u001B[39mcreate_task(anext(agens)) \u001B[38;5;28;01mfor\u001B[39;00m agens \u001B[38;5;129;01min\u001B[39;00m agens}\n\u001B[1;32m     52\u001B[0m \u001B[38;5;28;01mwhile\u001B[39;00m pending:\n\u001B[0;32m---> 53\u001B[0m     done, pending \u001B[38;5;241m=\u001B[39m \u001B[38;5;28;01mawait\u001B[39;00m asyncio\u001B[38;5;241m.\u001B[39mwait(\n\u001B[1;32m     54\u001B[0m         pending, return_when\u001B[38;5;241m=\u001B[39masyncio\u001B[38;5;241m.\u001B[39mFIRST_COMPLETED\n\u001B[1;32m     55\u001B[0m     )\n\u001B[1;32m     56\u001B[0m     \u001B[38;5;28;01mfor\u001B[39;00m task \u001B[38;5;129;01min\u001B[39;00m done:\n\u001B[1;32m     57\u001B[0m         \u001B[38;5;28mself\u001B[39m\u001B[38;5;241m.\u001B[39mtasks\u001B[38;5;241m.\u001B[39mdiscard(task)\n",
      "File \u001B[0;32m/opt/homebrew/Cellar/python@3.11/3.11.10/Frameworks/Python.framework/Versions/3.11/lib/python3.11/asyncio/tasks.py:428\u001B[0m, in \u001B[0;36mwait\u001B[0;34m(fs, timeout, return_when)\u001B[0m\n\u001B[1;32m    425\u001B[0m     \u001B[38;5;28;01mraise\u001B[39;00m \u001B[38;5;167;01mTypeError\u001B[39;00m(\u001B[38;5;124m\"\u001B[39m\u001B[38;5;124mPassing coroutines is forbidden, use tasks explicitly.\u001B[39m\u001B[38;5;124m\"\u001B[39m)\n\u001B[1;32m    427\u001B[0m loop \u001B[38;5;241m=\u001B[39m events\u001B[38;5;241m.\u001B[39mget_running_loop()\n\u001B[0;32m--> 428\u001B[0m \u001B[38;5;28;01mreturn\u001B[39;00m \u001B[38;5;28;01mawait\u001B[39;00m _wait(fs, timeout, return_when, loop)\n",
      "File \u001B[0;32m/opt/homebrew/Cellar/python@3.11/3.11.10/Frameworks/Python.framework/Versions/3.11/lib/python3.11/asyncio/tasks.py:535\u001B[0m, in \u001B[0;36m_wait\u001B[0;34m(fs, timeout, return_when, loop)\u001B[0m\n\u001B[1;32m    532\u001B[0m     f\u001B[38;5;241m.\u001B[39madd_done_callback(_on_completion)\n\u001B[1;32m    534\u001B[0m \u001B[38;5;28;01mtry\u001B[39;00m:\n\u001B[0;32m--> 535\u001B[0m     \u001B[38;5;28;01mawait\u001B[39;00m waiter\n\u001B[1;32m    536\u001B[0m \u001B[38;5;28;01mfinally\u001B[39;00m:\n\u001B[1;32m    537\u001B[0m     \u001B[38;5;28;01mif\u001B[39;00m timeout_handle \u001B[38;5;129;01mis\u001B[39;00m \u001B[38;5;129;01mnot\u001B[39;00m \u001B[38;5;28;01mNone\u001B[39;00m:\n",
      "\u001B[0;31mCancelledError\u001B[0m: "
     ]
    }
   ],
   "execution_count": 53
  },
  {
   "metadata": {
    "ExecuteTime": {
     "end_time": "2024-09-26T20:14:06.990990Z",
     "start_time": "2024-09-26T20:14:06.988737Z"
    }
   },
   "cell_type": "code",
   "source": "await workflow.stop()",
   "id": "43157d17dbefd7d5",
   "outputs": [],
   "execution_count": 51
  },
  {
   "metadata": {
    "ExecuteTime": {
     "end_time": "2024-09-26T21:02:26.959690Z",
     "start_time": "2024-09-26T21:02:25.232686Z"
    }
   },
   "cell_type": "code",
   "source": "df = pd.read_csv('location1.csv')",
   "id": "8395ab5067804a5",
   "outputs": [],
   "execution_count": 56
  },
  {
   "metadata": {
    "ExecuteTime": {
     "end_time": "2024-09-26T19:53:37.432739Z",
     "start_time": "2024-09-26T19:53:37.263566Z"
    }
   },
   "cell_type": "code",
   "source": "df.fillna(0, inplace=True)",
   "id": "d49988bd4bb3d8d",
   "outputs": [],
   "execution_count": 48
  },
  {
   "metadata": {
    "ExecuteTime": {
     "end_time": "2024-09-26T19:53:54.570159Z",
     "start_time": "2024-09-26T19:53:41.939067Z"
    }
   },
   "cell_type": "code",
   "source": "df.to_csv('location1.csv', index=False)",
   "id": "3c1c0bde12f1801a",
   "outputs": [],
   "execution_count": 49
  },
  {
   "metadata": {
    "ExecuteTime": {
     "end_time": "2024-09-27T15:46:08.273488Z",
     "start_time": "2024-09-27T15:46:08.268500Z"
    }
   },
   "cell_type": "code",
   "source": "conn = rf.Connection.from_config()",
   "id": "82e0ad8bba09e9fd",
   "outputs": [],
   "execution_count": 65
  },
  {
   "metadata": {
    "ExecuteTime": {
     "end_time": "2024-09-27T15:52:48.405967Z",
     "start_time": "2024-09-27T15:52:48.275282Z"
    }
   },
   "cell_type": "code",
   "source": "(await conn.get_workflow('7fiQoVvb9HoDjaCATk10Nb')).stop()",
   "id": "ae1c9c9b27f4855",
   "outputs": [
    {
     "data": {
      "text/plain": [
       "<coroutine object Workflow.stop at 0x14f3e7140>"
      ]
     },
     "execution_count": 67,
     "metadata": {},
     "output_type": "execute_result"
    }
   ],
   "execution_count": 67
  },
  {
   "metadata": {
    "ExecuteTime": {
     "end_time": "2024-09-26T21:02:32.977263Z",
     "start_time": "2024-09-26T21:02:32.973678Z"
    }
   },
   "cell_type": "code",
   "source": "df.sessionID.max()",
   "id": "7cab5719c986f9fa",
   "outputs": [
    {
     "data": {
      "text/plain": [
       "696"
      ]
     },
     "execution_count": 57,
     "metadata": {},
     "output_type": "execute_result"
    }
   ],
   "execution_count": 57
  },
  {
   "metadata": {
    "ExecuteTime": {
     "end_time": "2024-09-26T21:03:44.309343Z",
     "start_time": "2024-09-26T21:03:44.305467Z"
    }
   },
   "cell_type": "code",
   "source": "df[df.sessionID == 100].index",
   "id": "3ff6052ac05505e1",
   "outputs": [
    {
     "data": {
      "text/plain": [
       "Index([142560, 142561, 142562, 142563, 142564, 142565, 142566, 142567, 142568,\n",
       "       142569,\n",
       "       ...\n",
       "       143990, 143991, 143992, 143993, 143994, 143995, 143996, 143997, 143998,\n",
       "       143999],\n",
       "      dtype='int64', length=1440)"
      ]
     },
     "execution_count": 58,
     "metadata": {},
     "output_type": "execute_result"
    }
   ],
   "execution_count": 58
  },
  {
   "metadata": {
    "ExecuteTime": {
     "end_time": "2024-09-26T21:04:17.304806Z",
     "start_time": "2024-09-26T21:04:17.302548Z"
    }
   },
   "cell_type": "code",
   "source": "len(df)",
   "id": "19d8048da891def3",
   "outputs": [
    {
     "data": {
      "text/plain": [
       "1002240"
      ]
     },
     "execution_count": 59,
     "metadata": {},
     "output_type": "execute_result"
    }
   ],
   "execution_count": 59
  },
  {
   "metadata": {
    "ExecuteTime": {
     "end_time": "2024-09-26T21:09:11.079872Z",
     "start_time": "2024-09-26T21:09:11.053645Z"
    }
   },
   "cell_type": "code",
   "source": "df.iloc[:1000].to_csv('locationx.csv', index=False)",
   "id": "4d24d2e851e9fe08",
   "outputs": [],
   "execution_count": 64
  },
  {
   "metadata": {
    "ExecuteTime": {
     "end_time": "2024-09-27T18:16:06.626738Z",
     "start_time": "2024-09-27T18:16:06.623463Z"
    }
   },
   "cell_type": "code",
   "source": [
    "import pickle\n",
    "import rockfish as rf\n",
    "from actions.dg.train import TrainTimeGAN\n",
    "rt = pickle.load(open('runtime_conf.pkl', 'rb'))"
   ],
   "id": "e168b244aef91e8c",
   "outputs": [],
   "execution_count": 67
  },
  {
   "metadata": {
    "ExecuteTime": {
     "end_time": "2024-09-27T18:16:07.236250Z",
     "start_time": "2024-09-27T18:16:07.233697Z"
    }
   },
   "cell_type": "code",
   "source": "conn = rf.Connection.local()",
   "id": "62665efaac0c565d",
   "outputs": [],
   "execution_count": 68
  },
  {
   "metadata": {
    "ExecuteTime": {
     "end_time": "2024-09-27T18:16:08.817486Z",
     "start_time": "2024-09-27T18:16:08.814859Z"
    }
   },
   "cell_type": "code",
   "source": [
    "train = rf.converter.unstructure(rt.actions['train-time-gan'].config())\n",
    "train = TrainTimeGAN(train)"
   ],
   "id": "5a374d136a6ea07e",
   "outputs": [],
   "execution_count": 69
  },
  {
   "metadata": {
    "ExecuteTime": {
     "end_time": "2024-09-27T18:16:11.660209Z",
     "start_time": "2024-09-27T18:16:11.572631Z"
    }
   },
   "cell_type": "code",
   "source": [
    "builder = rf.WorkflowBuilder()\n",
    "builder.add_path(rf.Dataset.from_csv('s', 'location3.csv'), train)\n",
    "workflow = await builder.start(conn)"
   ],
   "id": "466bf282653aa134",
   "outputs": [],
   "execution_count": 70
  },
  {
   "metadata": {
    "ExecuteTime": {
     "end_time": "2024-09-27T18:50:41.761450Z",
     "start_time": "2024-09-27T18:16:12.708297Z"
    }
   },
   "cell_type": "code",
   "source": [
    "async for log in workflow.logs(level = rf.LogLevel.DEBUG):\n",
    "    print(log)"
   ],
   "id": "6375843e8ec0c261",
   "outputs": [
    {
     "name": "stdout",
     "output_type": "stream",
     "text": [
      "2024-09-27T18:16:11.662390Z dataset-load: INFO Loading dataset '1evC1ffDIoIyWIbdp2TfiB' with 1038240 rows\n",
      "2024-09-27T18:16:11.692686Z train-time-gan: DEBUG Training on mps:1\n",
      "2024-09-27T18:16:17.029891Z train-time-gan: INFO Starting DG training job\n",
      "2024-09-27T18:16:29.097754Z train-time-gan: DEBUG Epoch 1, g_loss_d: -3.5988, g_loss: -2.5418, d_loss_fake:  3.7657, d_loss_real: -1276.4741, d_loss_gp:  56.4749, d_loss: -707.9590, g_loss_attr_d:  1.0570, attr_d_loss_fake: -0.9970, attr_d_loss_real:  0.1558, attr_d_loss_gp:  0.0222, attr_d_loss: -0.6192\n",
      "2024-09-27T18:16:29.100857Z train-time-gan: INFO Epoch 1 completed.\n",
      "2024-09-27T18:16:38.863371Z train-time-gan: DEBUG Epoch 2, g_loss_d: -3.4925, g_loss: -0.5978, d_loss_fake:  3.5341, d_loss_real: -1124.4144, d_loss_gp:  49.0503, d_loss: -630.3773, g_loss_attr_d:  2.8947, attr_d_loss_fake: -2.8490, attr_d_loss_real:  1.3018, attr_d_loss_gp:  0.0051, attr_d_loss: -1.4959\n",
      "2024-09-27T18:16:38.865829Z train-time-gan: INFO Epoch 2 completed.\n",
      "2024-09-27T18:16:48.601476Z train-time-gan: DEBUG Epoch 3, g_loss_d: -3.4228, g_loss: -0.1605, d_loss_fake:  3.4610, d_loss_real: -1134.7712, d_loss_gp:  49.4941, d_loss: -636.3688, g_loss_attr_d:  3.2622, attr_d_loss_fake: -3.2356, attr_d_loss_real:  1.7195, attr_d_loss_gp:  0.0048, attr_d_loss: -1.4682\n",
      "2024-09-27T18:16:48.604046Z train-time-gan: INFO Epoch 3 completed.\n",
      "2024-09-27T18:16:58.355570Z train-time-gan: DEBUG Epoch 4, g_loss_d: -3.5070, g_loss: -0.2907, d_loss_fake:  3.5036, d_loss_real: -1132.9353, d_loss_gp:  49.4121, d_loss: -635.3110, g_loss_attr_d:  3.2164, attr_d_loss_fake: -3.1794, attr_d_loss_real:  1.8264, attr_d_loss_gp:  0.0037, attr_d_loss: -1.3156\n",
      "2024-09-27T18:16:58.358112Z train-time-gan: INFO Epoch 4 completed.\n",
      "2024-09-27T18:17:08.119068Z train-time-gan: DEBUG Epoch 5, g_loss_d: -3.5576, g_loss: -0.3135, d_loss_fake:  3.5571, d_loss_real: -1122.7678, d_loss_gp:  48.9659, d_loss: -629.5518, g_loss_attr_d:  3.2441, attr_d_loss_fake: -3.1767, attr_d_loss_real:  1.8698, attr_d_loss_gp:  0.0029, attr_d_loss: -1.2775\n",
      "2024-09-27T18:17:08.121624Z train-time-gan: INFO Epoch 5 completed.\n",
      "2024-09-27T18:17:17.806457Z train-time-gan: DEBUG Epoch 6, g_loss_d: -3.6000, g_loss: -0.4313, d_loss_fake:  3.5825, d_loss_real: -1132.3799, d_loss_gp:  49.2916, d_loss: -635.8815, g_loss_attr_d:  3.1687, attr_d_loss_fake: -3.1690, attr_d_loss_real:  1.9132, attr_d_loss_gp:  0.0039, attr_d_loss: -1.2164\n",
      "2024-09-27T18:17:17.808916Z train-time-gan: INFO Epoch 6 completed.\n",
      "2024-09-27T18:17:27.582615Z train-time-gan: DEBUG Epoch 7, g_loss_d: -3.4855, g_loss: -0.3964, d_loss_fake:  3.5254, d_loss_real: -1116.1703, d_loss_gp:  48.7682, d_loss: -624.9628, g_loss_attr_d:  3.0891, attr_d_loss_fake: -3.1340, attr_d_loss_real:  1.9786, attr_d_loss_gp:  0.0044, attr_d_loss: -1.1116\n",
      "2024-09-27T18:17:27.585298Z train-time-gan: INFO Epoch 7 completed.\n",
      "2024-09-27T18:17:37.338717Z train-time-gan: DEBUG Epoch 8, g_loss_d: -3.4963, g_loss: -0.5233, d_loss_fake:  3.4363, d_loss_real: -1131.5386, d_loss_gp:  49.3031, d_loss: -635.0713, g_loss_attr_d:  2.9729, attr_d_loss_fake: -2.9201, attr_d_loss_real:  1.8154, attr_d_loss_gp:  0.0020, attr_d_loss: -1.0843\n",
      "2024-09-27T18:17:37.341244Z train-time-gan: INFO Epoch 8 completed.\n",
      "2024-09-27T18:17:47.137920Z train-time-gan: DEBUG Epoch 9, g_loss_d: -3.7071, g_loss: -0.9434, d_loss_fake:  3.7808, d_loss_real: -1124.5498, d_loss_gp:  49.1138, d_loss: -629.6309, g_loss_attr_d:  2.7637, attr_d_loss_fake: -2.6708, attr_d_loss_real:  1.7927, attr_d_loss_gp:  0.0012, attr_d_loss: -0.8658\n",
      "2024-09-27T18:17:47.140897Z train-time-gan: INFO Epoch 9 completed.\n",
      "2024-09-27T18:17:56.889485Z train-time-gan: DEBUG Epoch 10, g_loss_d: -3.7904, g_loss: -1.4099, d_loss_fake:  3.7999, d_loss_real: -1122.6836, d_loss_gp:  48.8955, d_loss: -629.9291, g_loss_attr_d:  2.3805, attr_d_loss_fake: -2.4778, attr_d_loss_real:  1.7184, attr_d_loss_gp:  0.0034, attr_d_loss: -0.7253\n",
      "2024-09-27T18:17:57.604892Z train-time-gan: DEBUG Checkpoint on Epoch 10 has been saved to epoch-10.pt\n",
      "2024-09-27T18:17:57.604996Z train-time-gan: INFO Epoch 10 completed.\n",
      "2024-09-27T18:18:07.379513Z train-time-gan: DEBUG Epoch 11, g_loss_d: -3.7092, g_loss: -1.6278, d_loss_fake:  3.7278, d_loss_real: -1120.0315, d_loss_gp:  48.8632, d_loss: -627.6713, g_loss_attr_d:  2.0814, attr_d_loss_fake: -2.1115, attr_d_loss_real:  1.4154, attr_d_loss_gp:  0.0029, attr_d_loss: -0.6672\n",
      "2024-09-27T18:18:07.382233Z train-time-gan: INFO Epoch 11 completed.\n",
      "2024-09-27T18:18:17.229918Z train-time-gan: DEBUG Epoch 12, g_loss_d: -3.6594, g_loss: -1.9607, d_loss_fake:  3.6832, d_loss_real: -1101.9977, d_loss_gp:  47.9752, d_loss: -618.5630, g_loss_attr_d:  1.6987, attr_d_loss_fake: -1.7855, attr_d_loss_real:  1.1318, attr_d_loss_gp:  0.0042, attr_d_loss: -0.6116\n",
      "2024-09-27T18:18:17.232504Z train-time-gan: INFO Epoch 12 completed.\n",
      "2024-09-27T18:18:27.024248Z train-time-gan: DEBUG Epoch 13, g_loss_d: -3.5637, g_loss: -2.0195, d_loss_fake:  3.4877, d_loss_real: -1117.7777, d_loss_gp:  48.7003, d_loss: -627.2874, g_loss_attr_d:  1.5442, attr_d_loss_fake: -1.6082, attr_d_loss_real:  0.9744, attr_d_loss_gp:  0.0039, attr_d_loss: -0.5947\n",
      "2024-09-27T18:18:27.026674Z train-time-gan: INFO Epoch 13 completed.\n",
      "2024-09-27T18:18:36.915153Z train-time-gan: DEBUG Epoch 14, g_loss_d: -3.9282, g_loss: -2.2176, d_loss_fake:  3.7494, d_loss_real: -1114.9800, d_loss_gp:  47.9100, d_loss: -632.1306, g_loss_attr_d:  1.7106, attr_d_loss_fake: -1.5510, attr_d_loss_real:  0.9481, attr_d_loss_gp:  0.0036, attr_d_loss: -0.5672\n",
      "2024-09-27T18:18:36.918114Z train-time-gan: INFO Epoch 14 completed.\n",
      "2024-09-27T18:18:46.809151Z train-time-gan: DEBUG Epoch 15, g_loss_d: -11.5936, g_loss: -9.6261, d_loss_fake:  10.9489, d_loss_real: -1084.5670, d_loss_gp:  46.0332, d_loss: -613.2862, g_loss_attr_d:  1.9674, attr_d_loss_fake: -1.9331, attr_d_loss_real:  1.2894, attr_d_loss_gp:  0.0029, attr_d_loss: -0.6151\n",
      "2024-09-27T18:18:46.811834Z train-time-gan: INFO Epoch 15 completed.\n",
      "2024-09-27T18:18:56.676760Z train-time-gan: DEBUG Epoch 16, g_loss_d: -36.5204, g_loss: -34.3949, d_loss_fake:  34.0805, d_loss_real: -1069.7672, d_loss_gp:  43.2332, d_loss: -603.3549, g_loss_attr_d:  2.1255, attr_d_loss_fake: -2.0091, attr_d_loss_real:  1.4600, attr_d_loss_gp:  0.0031, attr_d_loss: -0.5185\n",
      "2024-09-27T18:18:56.679352Z train-time-gan: INFO Epoch 16 completed.\n",
      "2024-09-27T18:19:06.539370Z train-time-gan: DEBUG Epoch 17, g_loss_d: -109.1086, g_loss: -106.7740, d_loss_fake:  102.5334, d_loss_real: -1000.3149, d_loss_gp:  37.4559, d_loss: -523.2223, g_loss_attr_d:  2.3345, attr_d_loss_fake: -2.2910, attr_d_loss_real:  1.6241, attr_d_loss_gp:  0.0055, attr_d_loss: -0.6124\n",
      "2024-09-27T18:19:06.542063Z train-time-gan: INFO Epoch 17 completed.\n",
      "2024-09-27T18:19:16.450801Z train-time-gan: DEBUG Epoch 18, g_loss_d: -198.2392, g_loss: -196.1245, d_loss_fake:  241.5904, d_loss_real: -1027.4159, d_loss_gp:  39.9947, d_loss: -385.8784, g_loss_attr_d:  2.1147, attr_d_loss_fake: -2.0996, attr_d_loss_real:  1.5126, attr_d_loss_gp:  0.0042, attr_d_loss: -0.5447\n",
      "2024-09-27T18:19:16.453445Z train-time-gan: INFO Epoch 18 completed.\n",
      "2024-09-27T18:19:26.316938Z train-time-gan: DEBUG Epoch 19, g_loss_d: -231.6503, g_loss: -229.5097, d_loss_fake:  203.2182, d_loss_real: -783.5504, d_loss_gp:  21.3851, d_loss: -366.4808, g_loss_attr_d:  2.1406, attr_d_loss_fake: -2.0793, attr_d_loss_real:  1.5345, attr_d_loss_gp:  0.0043, attr_d_loss: -0.5016\n",
      "2024-09-27T18:19:26.319514Z train-time-gan: INFO Epoch 19 completed.\n",
      "2024-09-27T18:19:36.181059Z train-time-gan: DEBUG Epoch 20, g_loss_d: -264.1442, g_loss: -262.0134, d_loss_fake:  261.1609, d_loss_real: -734.5710, d_loss_gp:  18.6242, d_loss: -287.1685, g_loss_attr_d:  2.1308, attr_d_loss_fake: -2.1938, attr_d_loss_real:  1.6535, attr_d_loss_gp:  0.0059, attr_d_loss: -0.4814\n",
      "2024-09-27T18:19:36.636421Z train-time-gan: DEBUG Checkpoint on Epoch 20 has been saved to epoch-20.pt\n",
      "2024-09-27T18:19:36.636478Z train-time-gan: INFO Epoch 20 completed.\n",
      "2024-09-27T18:19:46.578022Z train-time-gan: DEBUG Epoch 21, g_loss_d: -293.3919, g_loss: -291.2519, d_loss_fake:  257.0001, d_loss_real: -616.1794, d_loss_gp:  12.1018, d_loss: -238.1614, g_loss_attr_d:  2.1400, attr_d_loss_fake: -2.1513, attr_d_loss_real:  1.5866, attr_d_loss_gp:  0.0048, attr_d_loss: -0.5164\n",
      "2024-09-27T18:19:46.580536Z train-time-gan: INFO Epoch 21 completed.\n",
      "2024-09-27T18:19:56.554087Z train-time-gan: DEBUG Epoch 22, g_loss_d: -303.8713, g_loss: -301.5238, d_loss_fake:  350.3387, d_loss_real: -644.8986, d_loss_gp:  13.8354, d_loss: -156.2059, g_loss_attr_d:  2.3475, attr_d_loss_fake: -2.3876, attr_d_loss_real:  1.7851, attr_d_loss_gp:  0.0053, attr_d_loss: -0.5493\n",
      "2024-09-27T18:19:56.556601Z train-time-gan: INFO Epoch 22 completed.\n",
      "2024-09-27T18:20:06.698746Z train-time-gan: DEBUG Epoch 23, g_loss_d: -303.1295, g_loss: -300.9417, d_loss_fake:  294.4294, d_loss_real: -545.5026, d_loss_gp:  9.0322, d_loss: -160.7515, g_loss_attr_d:  2.1878, attr_d_loss_fake: -2.1896, attr_d_loss_real:  1.6460, attr_d_loss_gp:  0.0050, attr_d_loss: -0.4933\n",
      "2024-09-27T18:20:06.701502Z train-time-gan: INFO Epoch 23 completed.\n",
      "2024-09-27T18:20:16.939567Z train-time-gan: DEBUG Epoch 24, g_loss_d: -242.7823, g_loss: -240.5975, d_loss_fake:  278.3786, d_loss_real: -446.7679, d_loss_gp:  7.0575, d_loss: -97.8140, g_loss_attr_d:  2.1848, attr_d_loss_fake: -2.1776, attr_d_loss_real:  1.6165, attr_d_loss_gp:  0.0047, attr_d_loss: -0.5140\n",
      "2024-09-27T18:20:16.942150Z train-time-gan: INFO Epoch 24 completed.\n",
      "2024-09-27T18:20:26.868184Z train-time-gan: DEBUG Epoch 25, g_loss_d: -219.8739, g_loss: -217.6204, d_loss_fake:  139.3273, d_loss_real: -279.3208, d_loss_gp:  2.8158, d_loss: -111.8352, g_loss_attr_d:  2.2534, attr_d_loss_fake: -2.2636, attr_d_loss_real:  1.7823, attr_d_loss_gp:  0.0056, attr_d_loss: -0.4257\n",
      "2024-09-27T18:20:26.870905Z train-time-gan: INFO Epoch 25 completed.\n",
      "2024-09-27T18:20:36.964027Z train-time-gan: DEBUG Epoch 26, g_loss_d: -180.4504, g_loss: -178.2056, d_loss_fake:  167.2888, d_loss_real: -291.9389, d_loss_gp:  2.7346, d_loss: -97.3044, g_loss_attr_d:  2.2447, attr_d_loss_fake: -2.2239, attr_d_loss_real:  1.6732, attr_d_loss_gp:  0.0048, attr_d_loss: -0.5023\n",
      "2024-09-27T18:20:36.966739Z train-time-gan: INFO Epoch 26 completed.\n",
      "2024-09-27T18:20:47.037383Z train-time-gan: DEBUG Epoch 27, g_loss_d: -144.6656, g_loss: -142.6091, d_loss_fake:  149.6143, d_loss_real: -242.1506, d_loss_gp:  3.1110, d_loss: -61.4259, g_loss_attr_d:  2.0565, attr_d_loss_fake: -2.0351, attr_d_loss_real:  1.6022, attr_d_loss_gp:  0.0042, attr_d_loss: -0.3913\n",
      "2024-09-27T18:20:47.039770Z train-time-gan: INFO Epoch 27 completed.\n",
      "2024-09-27T18:20:57.097088Z train-time-gan: DEBUG Epoch 28, g_loss_d: -150.7642, g_loss: -148.4937, d_loss_fake:  118.8380, d_loss_real: -212.0444, d_loss_gp:  2.5457, d_loss: -67.7496, g_loss_attr_d:  2.2705, attr_d_loss_fake: -2.2174, attr_d_loss_real:  1.6617, attr_d_loss_gp:  0.0049, attr_d_loss: -0.5066\n",
      "2024-09-27T18:20:57.099815Z train-time-gan: INFO Epoch 28 completed.\n",
      "2024-09-27T18:21:07.242025Z train-time-gan: DEBUG Epoch 29, g_loss_d: -29.3677, g_loss: -27.2296, d_loss_fake:  32.8745, d_loss_real: -92.7715, d_loss_gp:  1.6584, d_loss: -43.3126, g_loss_attr_d:  2.1381, attr_d_loss_fake: -2.1288, attr_d_loss_real:  1.6182, attr_d_loss_gp:  0.0050, attr_d_loss: -0.4603\n",
      "2024-09-27T18:21:07.244967Z train-time-gan: INFO Epoch 29 completed.\n",
      "2024-09-27T18:21:17.287967Z train-time-gan: DEBUG Epoch 30, g_loss_d:  42.5168, g_loss:  44.1169, d_loss_fake: -23.9113, d_loss_real: -31.1050, d_loss_gp:  1.4625, d_loss: -40.3911, g_loss_attr_d:  1.6001, attr_d_loss_fake: -1.6536, attr_d_loss_real:  1.2080, attr_d_loss_gp:  0.0024, attr_d_loss: -0.4215\n",
      "2024-09-27T18:21:17.734509Z train-time-gan: DEBUG Checkpoint on Epoch 30 has been saved to epoch-30.pt\n",
      "2024-09-27T18:21:17.734592Z train-time-gan: INFO Epoch 30 completed.\n",
      "2024-09-27T18:21:27.810722Z train-time-gan: DEBUG Epoch 31, g_loss_d: -71.1043, g_loss: -69.0530, d_loss_fake:  35.0420, d_loss_real: -94.7711, d_loss_gp:  1.4479, d_loss: -45.2504, g_loss_attr_d:  2.0512, attr_d_loss_fake: -1.9893, attr_d_loss_real:  1.4305, attr_d_loss_gp:  0.0047, attr_d_loss: -0.5121\n",
      "2024-09-27T18:21:27.813018Z train-time-gan: INFO Epoch 31 completed.\n",
      "2024-09-27T18:21:37.846306Z train-time-gan: DEBUG Epoch 32, g_loss_d:  98.2584, g_loss:  100.1918, d_loss_fake: -87.0328, d_loss_real:  32.4111, d_loss_gp:  1.5115, d_loss: -39.5071, g_loss_attr_d:  1.9335, attr_d_loss_fake: -1.9266, attr_d_loss_real:  1.4897, attr_d_loss_gp:  0.0034, attr_d_loss: -0.4027\n",
      "2024-09-27T18:21:37.848999Z train-time-gan: INFO Epoch 32 completed.\n",
      "2024-09-27T18:21:47.831592Z train-time-gan: DEBUG Epoch 33, g_loss_d:  47.4928, g_loss:  49.3115, d_loss_fake: -70.3146, d_loss_real:  23.9978, d_loss_gp:  1.3204, d_loss: -33.1127, g_loss_attr_d:  1.8187, attr_d_loss_fake: -1.8090, attr_d_loss_real:  1.3125, attr_d_loss_gp:  0.0032, attr_d_loss: -0.4639\n",
      "2024-09-27T18:21:47.834752Z train-time-gan: INFO Epoch 33 completed.\n",
      "2024-09-27T18:21:57.970412Z train-time-gan: DEBUG Epoch 34, g_loss_d: -53.2038, g_loss: -51.1246, d_loss_fake:  55.8221, d_loss_real: -102.0584, d_loss_gp:  1.2937, d_loss: -33.2989, g_loss_attr_d:  2.0792, attr_d_loss_fake: -2.0702, attr_d_loss_real:  1.6151, attr_d_loss_gp:  0.0058, attr_d_loss: -0.3973\n",
      "2024-09-27T18:21:57.972927Z train-time-gan: INFO Epoch 34 completed.\n",
      "2024-09-27T18:22:08.111884Z train-time-gan: DEBUG Epoch 35, g_loss_d:  67.8598, g_loss:  69.8853, d_loss_fake: -69.4002, d_loss_real:  26.3032, d_loss_gp:  1.1078, d_loss: -32.0191, g_loss_attr_d:  2.0256, attr_d_loss_fake: -1.9687, attr_d_loss_real:  1.5805, attr_d_loss_gp:  0.0035, attr_d_loss: -0.3536\n",
      "2024-09-27T18:22:08.114469Z train-time-gan: INFO Epoch 35 completed.\n",
      "2024-09-27T18:22:18.240836Z train-time-gan: DEBUG Epoch 36, g_loss_d:  19.5732, g_loss:  21.5889, d_loss_fake: -36.0313, d_loss_real: -5.8506, d_loss_gp:  1.0531, d_loss: -31.3505, g_loss_attr_d:  2.0157, attr_d_loss_fake: -2.0057, attr_d_loss_real:  1.6245, attr_d_loss_gp:  0.0040, attr_d_loss: -0.3409\n",
      "2024-09-27T18:22:18.243402Z train-time-gan: INFO Epoch 36 completed.\n",
      "2024-09-27T18:22:28.383939Z train-time-gan: DEBUG Epoch 37, g_loss_d:  103.0218, g_loss:  104.6628, d_loss_fake: -90.7466, d_loss_real:  48.3596, d_loss_gp:  1.1240, d_loss: -31.1472, g_loss_attr_d:  1.6410, attr_d_loss_fake: -1.6606, attr_d_loss_real:  1.3125, attr_d_loss_gp:  0.0029, attr_d_loss: -0.3195\n",
      "2024-09-27T18:22:28.386430Z train-time-gan: INFO Epoch 37 completed.\n",
      "2024-09-27T18:22:38.562488Z train-time-gan: DEBUG Epoch 38, g_loss_d:  5.9494, g_loss:  7.7325, d_loss_fake:  16.7406, d_loss_real: -52.6629, d_loss_gp:  0.9659, d_loss: -26.2638, g_loss_attr_d:  1.7831, attr_d_loss_fake: -1.7445, attr_d_loss_real:  1.2314, attr_d_loss_gp:  0.0037, attr_d_loss: -0.4761\n",
      "2024-09-27T18:22:38.565668Z train-time-gan: INFO Epoch 38 completed.\n",
      "2024-09-27T18:22:48.802846Z train-time-gan: DEBUG Epoch 39, g_loss_d:  93.1235, g_loss:  94.6794, d_loss_fake: -83.0754, d_loss_real:  43.5888, d_loss_gp:  1.0370, d_loss: -29.1166, g_loss_attr_d:  1.5560, attr_d_loss_fake: -1.5741, attr_d_loss_real:  1.1730, attr_d_loss_gp:  0.0029, attr_d_loss: -0.3724\n",
      "2024-09-27T18:22:48.805436Z train-time-gan: INFO Epoch 39 completed.\n",
      "2024-09-27T18:22:59.072407Z train-time-gan: DEBUG Epoch 40, g_loss_d:  24.0895, g_loss:  26.0078, d_loss_fake: -31.6532, d_loss_real: -3.1793, d_loss_gp:  0.7563, d_loss: -27.2692, g_loss_attr_d:  1.9183, attr_d_loss_fake: -1.9328, attr_d_loss_real:  1.3998, attr_d_loss_gp:  0.0062, attr_d_loss: -0.4715\n",
      "2024-09-27T18:22:59.518369Z train-time-gan: DEBUG Checkpoint on Epoch 40 has been saved to epoch-40.pt\n",
      "2024-09-27T18:22:59.518448Z train-time-gan: INFO Epoch 40 completed.\n",
      "2024-09-27T18:23:09.642520Z train-time-gan: DEBUG Epoch 41, g_loss_d:  91.5270, g_loss:  93.0211, d_loss_fake: -73.3178, d_loss_real:  35.6277, d_loss_gp:  0.9195, d_loss: -28.4949, g_loss_attr_d:  1.4940, attr_d_loss_fake: -1.4868, attr_d_loss_real:  1.1016, attr_d_loss_gp:  0.0016, attr_d_loss: -0.3688\n",
      "2024-09-27T18:23:09.645328Z train-time-gan: INFO Epoch 41 completed.\n",
      "2024-09-27T18:23:19.951814Z train-time-gan: DEBUG Epoch 42, g_loss_d:  74.6129, g_loss:  76.4586, d_loss_fake: -66.4860, d_loss_real:  31.2853, d_loss_gp:  0.8629, d_loss: -26.5712, g_loss_attr_d:  1.8458, attr_d_loss_fake: -1.8386, attr_d_loss_real:  1.4130, attr_d_loss_gp:  0.0045, attr_d_loss: -0.3810\n",
      "2024-09-27T18:23:19.953998Z train-time-gan: INFO Epoch 42 completed.\n",
      "2024-09-27T18:23:30.301309Z train-time-gan: DEBUG Epoch 43, g_loss_d:  54.5420, g_loss:  56.5107, d_loss_fake: -41.2087, d_loss_real:  9.9195, d_loss_gp:  0.6983, d_loss: -24.3065, g_loss_attr_d:  1.9686, attr_d_loss_fake: -1.9364, attr_d_loss_real:  1.4855, attr_d_loss_gp:  0.0066, attr_d_loss: -0.3850\n",
      "2024-09-27T18:23:30.303966Z train-time-gan: INFO Epoch 43 completed.\n",
      "2024-09-27T18:23:40.195453Z train-time-gan: DEBUG Epoch 44, g_loss_d:  21.3921, g_loss:  22.9984, d_loss_fake: -29.6484, d_loss_real: -0.5889, d_loss_gp:  0.6635, d_loss: -23.6024, g_loss_attr_d:  1.6063, attr_d_loss_fake: -1.6357, attr_d_loss_real:  1.2966, attr_d_loss_gp:  0.0043, attr_d_loss: -0.2959\n",
      "2024-09-27T18:23:40.198961Z train-time-gan: INFO Epoch 44 completed.\n",
      "2024-09-27T18:23:50.368227Z train-time-gan: DEBUG Epoch 45, g_loss_d:  54.3863, g_loss:  55.9963, d_loss_fake: -49.9213, d_loss_real:  19.4640, d_loss_gp:  0.6812, d_loss: -23.6456, g_loss_attr_d:  1.6100, attr_d_loss_fake: -1.5872, attr_d_loss_real:  1.2159, attr_d_loss_gp:  0.0035, attr_d_loss: -0.3358\n",
      "2024-09-27T18:23:50.370913Z train-time-gan: INFO Epoch 45 completed.\n",
      "2024-09-27T18:24:01.037046Z train-time-gan: DEBUG Epoch 46, g_loss_d:  7.0647, g_loss:  8.9295, d_loss_fake:  0.4511, d_loss_real: -28.7289, d_loss_gp:  0.6453, d_loss: -21.8243, g_loss_attr_d:  1.8649, attr_d_loss_fake: -1.8428, attr_d_loss_real:  1.3583, attr_d_loss_gp:  0.0050, attr_d_loss: -0.4350\n",
      "2024-09-27T18:24:01.039818Z train-time-gan: INFO Epoch 46 completed.\n",
      "2024-09-27T18:24:12.183798Z train-time-gan: DEBUG Epoch 47, g_loss_d:  64.2938, g_loss:  66.1151, d_loss_fake: -61.6200, d_loss_real:  32.8905, d_loss_gp:  0.6222, d_loss: -22.5071, g_loss_attr_d:  1.8213, attr_d_loss_fake: -1.7933, attr_d_loss_real:  1.3126, attr_d_loss_gp:  0.0030, attr_d_loss: -0.4506\n",
      "2024-09-27T18:24:12.186361Z train-time-gan: INFO Epoch 47 completed.\n",
      "2024-09-27T18:24:24.606020Z train-time-gan: DEBUG Epoch 48, g_loss_d: -37.6655, g_loss: -35.8034, d_loss_fake:  34.1415, d_loss_real: -62.1802, d_loss_gp:  0.6185, d_loss: -21.8535, g_loss_attr_d:  1.8621, attr_d_loss_fake: -1.8261, attr_d_loss_real:  1.3398, attr_d_loss_gp:  0.0044, attr_d_loss: -0.4425\n",
      "2024-09-27T18:24:24.608548Z train-time-gan: INFO Epoch 48 completed.\n",
      "2024-09-27T18:24:38.049627Z train-time-gan: DEBUG Epoch 49, g_loss_d:  27.4444, g_loss:  28.9875, d_loss_fake: -27.6651, d_loss_real:  1.8110, d_loss_gp:  0.5360, d_loss: -20.4942, g_loss_attr_d:  1.5431, attr_d_loss_fake: -1.5585, attr_d_loss_real:  1.1970, attr_d_loss_gp:  0.0026, attr_d_loss: -0.3357\n",
      "2024-09-27T18:24:38.052285Z train-time-gan: INFO Epoch 49 completed.\n",
      "2024-09-27T18:24:51.430650Z train-time-gan: DEBUG Epoch 50, g_loss_d: -56.0277, g_loss: -54.1595, d_loss_fake:  47.8253, d_loss_real: -77.0928, d_loss_gp:  0.6284, d_loss: -22.9834, g_loss_attr_d:  1.8682, attr_d_loss_fake: -2.0396, attr_d_loss_real:  1.3986, attr_d_loss_gp:  0.0044, attr_d_loss: -0.5970\n",
      "2024-09-27T18:24:51.913607Z train-time-gan: DEBUG Checkpoint on Epoch 50 has been saved to epoch-50.pt\n",
      "2024-09-27T18:24:51.913661Z train-time-gan: INFO Epoch 50 completed.\n",
      "2024-09-27T18:25:05.611734Z train-time-gan: DEBUG Epoch 51, g_loss_d:  51.3492, g_loss:  52.8826, d_loss_fake: -50.4457, d_loss_real:  24.7978, d_loss_gp:  0.5453, d_loss: -20.1944, g_loss_attr_d:  1.5334, attr_d_loss_fake: -1.5830, attr_d_loss_real:  1.0189, attr_d_loss_gp:  0.0022, attr_d_loss: -0.5425\n",
      "2024-09-27T18:25:05.613941Z train-time-gan: INFO Epoch 51 completed.\n",
      "2024-09-27T18:25:19.687690Z train-time-gan: DEBUG Epoch 52, g_loss_d:  24.1168, g_loss:  25.6493, d_loss_fake: -17.1526, d_loss_real: -7.3273, d_loss_gp:  0.5035, d_loss: -19.4449, g_loss_attr_d:  1.5325, attr_d_loss_fake: -1.5468, attr_d_loss_real:  1.2345, attr_d_loss_gp:  0.0036, attr_d_loss: -0.2763\n",
      "2024-09-27T18:25:19.690264Z train-time-gan: INFO Epoch 52 completed.\n",
      "2024-09-27T18:25:33.417955Z train-time-gan: DEBUG Epoch 53, g_loss_d: -13.2732, g_loss: -11.3423, d_loss_fake:  4.6512, d_loss_real: -31.0679, d_loss_gp:  0.5344, d_loss: -21.0725, g_loss_attr_d:  1.9308, attr_d_loss_fake: -1.8616, attr_d_loss_real:  1.3357, attr_d_loss_gp:  0.0046, attr_d_loss: -0.4796\n",
      "2024-09-27T18:25:33.420392Z train-time-gan: INFO Epoch 53 completed.\n",
      "2024-09-27T18:25:46.774242Z train-time-gan: DEBUG Epoch 54, g_loss_d: -40.7510, g_loss: -38.6530, d_loss_fake:  35.7059, d_loss_real: -61.1572, d_loss_gp:  0.5607, d_loss: -19.8439, g_loss_attr_d:  2.0980, attr_d_loss_fake: -2.3349, attr_d_loss_real:  1.6986, attr_d_loss_gp:  0.0525, attr_d_loss: -0.1111\n",
      "2024-09-27T18:25:46.776857Z train-time-gan: INFO Epoch 54 completed.\n",
      "2024-09-27T18:26:00.144437Z train-time-gan: DEBUG Epoch 55, g_loss_d: -9.8099, g_loss: -8.1799, d_loss_fake:  15.9874, d_loss_real: -40.0575, d_loss_gp:  0.5047, d_loss: -19.0232, g_loss_attr_d:  1.6300, attr_d_loss_fake: -1.6202, attr_d_loss_real:  1.2141, attr_d_loss_gp:  0.0042, attr_d_loss: -0.3639\n",
      "2024-09-27T18:26:00.147598Z train-time-gan: INFO Epoch 55 completed.\n",
      "2024-09-27T18:26:12.475478Z train-time-gan: DEBUG Epoch 56, g_loss_d:  8.0258, g_loss:  9.1802, d_loss_fake: -10.7196, d_loss_real: -14.3479, d_loss_gp:  0.5180, d_loss: -19.8870, g_loss_attr_d:  1.1544, attr_d_loss_fake: -1.1797, attr_d_loss_real:  0.9074, attr_d_loss_gp:  0.0020, attr_d_loss: -0.2522\n",
      "2024-09-27T18:26:12.478321Z train-time-gan: INFO Epoch 56 completed.\n",
      "2024-09-27T18:26:23.560930Z train-time-gan: DEBUG Epoch 57, g_loss_d:  11.4607, g_loss:  12.9371, d_loss_fake: -9.9961, d_loss_real: -14.5137, d_loss_gp:  0.5094, d_loss: -19.4159, g_loss_attr_d:  1.4763, attr_d_loss_fake: -1.4358, attr_d_loss_real:  1.1085, attr_d_loss_gp:  0.0032, attr_d_loss: -0.2950\n",
      "2024-09-27T18:26:23.563439Z train-time-gan: INFO Epoch 57 completed.\n",
      "2024-09-27T18:26:34.261940Z train-time-gan: DEBUG Epoch 58, g_loss_d:  24.9037, g_loss:  26.0882, d_loss_fake: -29.1570, d_loss_real:  4.8233, d_loss_gp:  0.5165, d_loss: -19.1685, g_loss_attr_d:  1.1845, attr_d_loss_fake: -1.1497, attr_d_loss_real:  0.9150, attr_d_loss_gp:  0.0024, attr_d_loss: -0.2106\n",
      "2024-09-27T18:26:34.264865Z train-time-gan: INFO Epoch 58 completed.\n",
      "2024-09-27T18:26:44.976327Z train-time-gan: DEBUG Epoch 59, g_loss_d:  1.6840, g_loss:  3.3943, d_loss_fake: -0.8206, d_loss_real: -23.1048, d_loss_gp:  0.4917, d_loss: -19.0081, g_loss_attr_d:  1.7102, attr_d_loss_fake: -1.6801, attr_d_loss_real:  1.2827, attr_d_loss_gp:  0.0033, attr_d_loss: -0.3641\n",
      "2024-09-27T18:26:44.978873Z train-time-gan: INFO Epoch 59 completed.\n",
      "2024-09-27T18:26:55.489494Z train-time-gan: DEBUG Epoch 60, g_loss_d: -12.7649, g_loss: -11.0849, d_loss_fake:  11.7882, d_loss_real: -36.4104, d_loss_gp:  0.4919, d_loss: -19.7028, g_loss_attr_d:  1.6800, attr_d_loss_fake: -1.6768, attr_d_loss_real:  1.2977, attr_d_loss_gp:  0.0056, attr_d_loss: -0.3232\n",
      "2024-09-27T18:26:55.943922Z train-time-gan: DEBUG Checkpoint on Epoch 60 has been saved to epoch-60.pt\n",
      "2024-09-27T18:26:55.944036Z train-time-gan: INFO Epoch 60 completed.\n",
      "2024-09-27T18:27:06.308383Z train-time-gan: DEBUG Epoch 61, g_loss_d:  8.6989, g_loss:  10.2763, d_loss_fake: -13.9856, d_loss_real: -9.3728, d_loss_gp:  0.4642, d_loss: -18.7164, g_loss_attr_d:  1.5774, attr_d_loss_fake: -1.5946, attr_d_loss_real:  1.2668, attr_d_loss_gp:  0.0036, attr_d_loss: -0.2917\n",
      "2024-09-27T18:27:06.310936Z train-time-gan: INFO Epoch 61 completed.\n",
      "2024-09-27T18:27:16.540402Z train-time-gan: DEBUG Epoch 62, g_loss_d: -9.8293, g_loss: -8.3199, d_loss_fake:  3.1689, d_loss_real: -27.1126, d_loss_gp:  0.4744, d_loss: -19.1999, g_loss_attr_d:  1.5094, attr_d_loss_fake: -1.5349, attr_d_loss_real:  1.1663, attr_d_loss_gp:  0.0040, attr_d_loss: -0.3288\n",
      "2024-09-27T18:27:16.543154Z train-time-gan: INFO Epoch 62 completed.\n",
      "2024-09-27T18:27:26.782851Z train-time-gan: DEBUG Epoch 63, g_loss_d:  1.7016, g_loss:  2.8644, d_loss_fake: -2.4089, d_loss_real: -20.6188, d_loss_gp:  0.4640, d_loss: -18.3877, g_loss_attr_d:  1.1628, attr_d_loss_fake: -1.1470, attr_d_loss_real:  0.9270, attr_d_loss_gp:  0.0022, attr_d_loss: -0.1984\n",
      "2024-09-27T18:27:26.785312Z train-time-gan: INFO Epoch 63 completed.\n",
      "2024-09-27T18:27:36.996257Z train-time-gan: DEBUG Epoch 64, g_loss_d: -19.1019, g_loss: -17.5379, d_loss_fake:  18.6287, d_loss_real: -42.3465, d_loss_gp:  0.4955, d_loss: -18.7632, g_loss_attr_d:  1.5640, attr_d_loss_fake: -1.5213, attr_d_loss_real:  1.0516, attr_d_loss_gp:  0.0034, attr_d_loss: -0.4355\n",
      "2024-09-27T18:27:36.998886Z train-time-gan: INFO Epoch 64 completed.\n",
      "2024-09-27T18:27:47.184377Z train-time-gan: DEBUG Epoch 65, g_loss_d: -1.4802, g_loss:  0.0258, d_loss_fake:  3.9947, d_loss_real: -27.0934, d_loss_gp:  0.4735, d_loss: -18.3636, g_loss_attr_d:  1.5060, attr_d_loss_fake: -1.5017, attr_d_loss_real:  1.1931, attr_d_loss_gp:  0.0030, attr_d_loss: -0.2787\n",
      "2024-09-27T18:27:47.187180Z train-time-gan: INFO Epoch 65 completed.\n",
      "2024-09-27T18:27:57.496572Z train-time-gan: DEBUG Epoch 66, g_loss_d: -16.7087, g_loss: -15.0794, d_loss_fake:  25.8430, d_loss_real: -48.6931, d_loss_gp:  0.4668, d_loss: -18.1826, g_loss_attr_d:  1.6294, attr_d_loss_fake: -1.6301, attr_d_loss_real:  1.2727, attr_d_loss_gp:  0.0037, attr_d_loss: -0.3205\n",
      "2024-09-27T18:27:57.499095Z train-time-gan: INFO Epoch 66 completed.\n",
      "2024-09-27T18:28:07.639569Z train-time-gan: DEBUG Epoch 67, g_loss_d: -1.9715, g_loss: -0.4445, d_loss_fake:  1.0030, d_loss_real: -24.0603, d_loss_gp:  0.4702, d_loss: -18.3551, g_loss_attr_d:  1.5269, attr_d_loss_fake: -1.5109, attr_d_loss_real:  1.1769, attr_d_loss_gp:  0.0047, attr_d_loss: -0.2870\n",
      "2024-09-27T18:28:07.642099Z train-time-gan: INFO Epoch 67 completed.\n",
      "2024-09-27T18:28:17.793413Z train-time-gan: DEBUG Epoch 68, g_loss_d:  7.3420, g_loss:  9.1839, d_loss_fake: -7.9047, d_loss_real: -15.3516, d_loss_gp:  0.4722, d_loss: -18.5341, g_loss_attr_d:  1.8419, attr_d_loss_fake: -1.7490, attr_d_loss_real:  1.1996, attr_d_loss_gp:  0.0035, attr_d_loss: -0.5145\n",
      "2024-09-27T18:28:17.795996Z train-time-gan: INFO Epoch 68 completed.\n",
      "2024-09-27T18:28:28.115866Z train-time-gan: DEBUG Epoch 69, g_loss_d: -12.3506, g_loss: -10.7796, d_loss_fake:  11.3938, d_loss_real: -34.9449, d_loss_gp:  0.4858, d_loss: -18.6929, g_loss_attr_d:  1.5711, attr_d_loss_fake: -1.5787, attr_d_loss_real:  1.2796, attr_d_loss_gp:  0.0057, attr_d_loss: -0.2420\n",
      "2024-09-27T18:28:28.118480Z train-time-gan: INFO Epoch 69 completed.\n",
      "2024-09-27T18:28:38.162981Z train-time-gan: DEBUG Epoch 70, g_loss_d:  11.3677, g_loss:  12.9213, d_loss_fake: -9.7686, d_loss_real: -12.4454, d_loss_gp:  0.4385, d_loss: -17.8285, g_loss_attr_d:  1.5536, attr_d_loss_fake: -1.5485, attr_d_loss_real:  1.2240, attr_d_loss_gp:  0.0051, attr_d_loss: -0.2732\n",
      "2024-09-27T18:28:38.618209Z train-time-gan: DEBUG Checkpoint on Epoch 70 has been saved to epoch-70.pt\n",
      "2024-09-27T18:28:38.618262Z train-time-gan: INFO Epoch 70 completed.\n",
      "2024-09-27T18:28:48.670025Z train-time-gan: DEBUG Epoch 71, g_loss_d: -5.4834, g_loss: -4.0238, d_loss_fake:  5.4567, d_loss_real: -28.0585, d_loss_gp:  0.4544, d_loss: -18.0574, g_loss_attr_d:  1.4596, attr_d_loss_fake: -1.4617, attr_d_loss_real:  1.2127, attr_d_loss_gp:  0.0030, attr_d_loss: -0.2188\n",
      "2024-09-27T18:28:48.672884Z train-time-gan: INFO Epoch 71 completed.\n",
      "2024-09-27T18:28:58.704392Z train-time-gan: DEBUG Epoch 72, g_loss_d: -5.0085, g_loss: -3.4942, d_loss_fake:  10.0228, d_loss_real: -32.6148, d_loss_gp:  0.4574, d_loss: -18.0181, g_loss_attr_d:  1.5143, attr_d_loss_fake: -1.5169, attr_d_loss_real:  1.1597, attr_d_loss_gp:  0.0066, attr_d_loss: -0.2912\n",
      "2024-09-27T18:28:58.706755Z train-time-gan: INFO Epoch 72 completed.\n",
      "2024-09-27T18:29:08.999177Z train-time-gan: DEBUG Epoch 73, g_loss_d: -5.8240, g_loss: -4.3785, d_loss_fake:  9.2013, d_loss_real: -31.9562, d_loss_gp:  0.4567, d_loss: -18.1875, g_loss_attr_d:  1.4455, attr_d_loss_fake: -1.3891, attr_d_loss_real:  1.0352, attr_d_loss_gp:  0.0038, attr_d_loss: -0.3163\n",
      "2024-09-27T18:29:09.001722Z train-time-gan: INFO Epoch 73 completed.\n",
      "2024-09-27T18:29:19.260976Z train-time-gan: DEBUG Epoch 74, g_loss_d: -8.7377, g_loss: -7.4339, d_loss_fake:  4.8829, d_loss_real: -27.8237, d_loss_gp:  0.4510, d_loss: -18.4313, g_loss_attr_d:  1.3039, attr_d_loss_fake: -1.3063, attr_d_loss_real:  0.9529, attr_d_loss_gp:  0.0048, attr_d_loss: -0.3059\n",
      "2024-09-27T18:29:19.263596Z train-time-gan: INFO Epoch 74 completed.\n",
      "2024-09-27T18:29:29.400318Z train-time-gan: DEBUG Epoch 75, g_loss_d: -8.4079, g_loss: -6.9442, d_loss_fake:  8.3329, d_loss_real: -31.1783, d_loss_gp:  0.4572, d_loss: -18.2735, g_loss_attr_d:  1.4637, attr_d_loss_fake: -1.4405, attr_d_loss_real:  1.1412, attr_d_loss_gp:  0.0046, attr_d_loss: -0.2535\n",
      "2024-09-27T18:29:29.403025Z train-time-gan: INFO Epoch 75 completed.\n",
      "2024-09-27T18:29:39.770185Z train-time-gan: DEBUG Epoch 76, g_loss_d: -9.8711, g_loss: -8.3484, d_loss_fake:  12.4788, d_loss_real: -35.1227, d_loss_gp:  0.4588, d_loss: -18.0561, g_loss_attr_d:  1.5227, attr_d_loss_fake: -1.5041, attr_d_loss_real:  1.2020, attr_d_loss_gp:  0.0053, attr_d_loss: -0.2486\n",
      "2024-09-27T18:29:39.772599Z train-time-gan: INFO Epoch 76 completed.\n",
      "2024-09-27T18:29:50.023687Z train-time-gan: DEBUG Epoch 77, g_loss_d: -13.6700, g_loss: -12.1496, d_loss_fake:  13.6185, d_loss_real: -36.5035, d_loss_gp:  0.4580, d_loss: -18.3047, g_loss_attr_d:  1.5204, attr_d_loss_fake: -1.5175, attr_d_loss_real:  1.2287, attr_d_loss_gp:  0.0044, attr_d_loss: -0.2444\n",
      "2024-09-27T18:29:50.026483Z train-time-gan: INFO Epoch 77 completed.\n",
      "2024-09-27T18:30:00.186269Z train-time-gan: DEBUG Epoch 78, g_loss_d: -4.1338, g_loss: -2.8084, d_loss_fake:  3.9949, d_loss_real: -26.4240, d_loss_gp:  0.4486, d_loss: -17.9429, g_loss_attr_d:  1.3254, attr_d_loss_fake: -1.3378, attr_d_loss_real:  1.0163, attr_d_loss_gp:  0.0030, attr_d_loss: -0.2912\n",
      "2024-09-27T18:30:00.188925Z train-time-gan: INFO Epoch 78 completed.\n",
      "2024-09-27T18:30:10.559420Z train-time-gan: DEBUG Epoch 79, g_loss_d: -9.1584, g_loss: -7.5941, d_loss_fake:  9.7288, d_loss_real: -32.3712, d_loss_gp:  0.4634, d_loss: -18.0088, g_loss_attr_d:  1.5642, attr_d_loss_fake: -1.5681, attr_d_loss_real:  1.2277, attr_d_loss_gp:  0.0037, attr_d_loss: -0.3032\n",
      "2024-09-27T18:30:10.561931Z train-time-gan: INFO Epoch 79 completed.\n",
      "2024-09-27T18:30:20.897437Z train-time-gan: DEBUG Epoch 80, g_loss_d: -17.7730, g_loss: -16.4455, d_loss_fake:  17.3762, d_loss_real: -40.8082, d_loss_gp:  0.4810, d_loss: -18.6219, g_loss_attr_d:  1.3276, attr_d_loss_fake: -1.3363, attr_d_loss_real:  1.0410, attr_d_loss_gp:  0.0029, attr_d_loss: -0.2664\n",
      "2024-09-27T18:30:21.348380Z train-time-gan: DEBUG Checkpoint on Epoch 80 has been saved to epoch-80.pt\n",
      "2024-09-27T18:30:21.348486Z train-time-gan: INFO Epoch 80 completed.\n",
      "2024-09-27T18:30:31.336749Z train-time-gan: DEBUG Epoch 81, g_loss_d: -3.9924, g_loss: -2.8545, d_loss_fake:  7.3471, d_loss_real: -29.8968, d_loss_gp:  0.4489, d_loss: -18.0607, g_loss_attr_d:  1.1379, attr_d_loss_fake: -1.0822, attr_d_loss_real:  0.7602, attr_d_loss_gp:  0.0028, attr_d_loss: -0.2937\n",
      "2024-09-27T18:30:31.339435Z train-time-gan: INFO Epoch 81 completed.\n",
      "2024-09-27T18:30:41.459947Z train-time-gan: DEBUG Epoch 82, g_loss_d: -17.9616, g_loss: -16.8144, d_loss_fake:  18.1465, d_loss_real: -41.3975, d_loss_gp:  0.4708, d_loss: -18.5431, g_loss_attr_d:  1.1471, attr_d_loss_fake: -1.1488, attr_d_loss_real:  0.9037, attr_d_loss_gp:  0.0043, attr_d_loss: -0.2018\n",
      "2024-09-27T18:30:41.462462Z train-time-gan: INFO Epoch 82 completed.\n",
      "2024-09-27T18:30:51.536620Z train-time-gan: DEBUG Epoch 83, g_loss_d: -25.9921, g_loss: -24.2193, d_loss_fake:  21.5994, d_loss_real: -44.9863, d_loss_gp:  0.4715, d_loss: -18.6716, g_loss_attr_d:  1.7728, attr_d_loss_fake: -1.6293, attr_d_loss_real:  1.0169, attr_d_loss_gp:  0.0064, attr_d_loss: -0.5485\n",
      "2024-09-27T18:30:51.538943Z train-time-gan: INFO Epoch 83 completed.\n",
      "2024-09-27T18:31:01.571261Z train-time-gan: DEBUG Epoch 84, g_loss_d:  5.1869, g_loss:  6.5863, d_loss_fake: -4.2133, d_loss_real: -18.7000, d_loss_gp:  0.4628, d_loss: -18.2853, g_loss_attr_d:  1.3994, attr_d_loss_fake: -1.4141, attr_d_loss_real:  1.1190, attr_d_loss_gp:  0.0029, attr_d_loss: -0.2661\n",
      "2024-09-27T18:31:01.574308Z train-time-gan: INFO Epoch 84 completed.\n",
      "2024-09-27T18:31:11.818739Z train-time-gan: DEBUG Epoch 85, g_loss_d: -6.1273, g_loss: -4.7333, d_loss_fake:  3.1749, d_loss_real: -25.3896, d_loss_gp:  0.4380, d_loss: -17.8343, g_loss_attr_d:  1.3940, attr_d_loss_fake: -1.3899, attr_d_loss_real:  1.1503, attr_d_loss_gp:  0.0052, attr_d_loss: -0.1879\n",
      "2024-09-27T18:31:11.821215Z train-time-gan: INFO Epoch 85 completed.\n",
      "2024-09-27T18:31:22.078867Z train-time-gan: DEBUG Epoch 86, g_loss_d: -0.6881, g_loss:  0.6668, d_loss_fake:  2.5473, d_loss_real: -25.1093, d_loss_gp:  0.4558, d_loss: -18.0039, g_loss_attr_d:  1.3549, attr_d_loss_fake: -1.3354, attr_d_loss_real:  0.9954, attr_d_loss_gp:  0.0035, attr_d_loss: -0.3048\n",
      "2024-09-27T18:31:22.081595Z train-time-gan: INFO Epoch 86 completed.\n",
      "2024-09-27T18:31:32.447631Z train-time-gan: DEBUG Epoch 87, g_loss_d: -16.2331, g_loss: -14.8345, d_loss_fake:  16.3447, d_loss_real: -38.3728, d_loss_gp:  0.4381, d_loss: -17.6468, g_loss_attr_d:  1.3986, attr_d_loss_fake: -1.4133, attr_d_loss_real:  1.0147, attr_d_loss_gp:  0.0040, attr_d_loss: -0.3589\n",
      "2024-09-27T18:31:32.450411Z train-time-gan: INFO Epoch 87 completed.\n",
      "2024-09-27T18:31:42.453070Z train-time-gan: DEBUG Epoch 88, g_loss_d: -17.7500, g_loss: -16.3441, d_loss_fake:  13.9383, d_loss_real: -36.8644, d_loss_gp:  0.4492, d_loss: -18.4336, g_loss_attr_d:  1.4059, attr_d_loss_fake: -1.4319, attr_d_loss_real:  0.9861, attr_d_loss_gp:  0.0022, attr_d_loss: -0.4234\n",
      "2024-09-27T18:31:42.455528Z train-time-gan: INFO Epoch 88 completed.\n",
      "2024-09-27T18:31:52.630624Z train-time-gan: DEBUG Epoch 89, g_loss_d: -1.0089, g_loss:  0.4893, d_loss_fake:  0.0628, d_loss_real: -22.4201, d_loss_gp:  0.4433, d_loss: -17.9240, g_loss_attr_d:  1.4983, attr_d_loss_fake: -1.4797, attr_d_loss_real:  1.1442, attr_d_loss_gp:  0.0043, attr_d_loss: -0.2928\n",
      "2024-09-27T18:31:52.633555Z train-time-gan: INFO Epoch 89 completed.\n",
      "2024-09-27T18:32:02.581155Z train-time-gan: DEBUG Epoch 90, g_loss_d: -3.8150, g_loss: -2.5393, d_loss_fake:  5.3666, d_loss_real: -27.1458, d_loss_gp:  0.4301, d_loss: -17.4786, g_loss_attr_d:  1.2757, attr_d_loss_fake: -1.2758, attr_d_loss_real:  1.0044, attr_d_loss_gp:  0.0033, attr_d_loss: -0.2381\n",
      "2024-09-27T18:32:03.034223Z train-time-gan: DEBUG Checkpoint on Epoch 90 has been saved to epoch-90.pt\n",
      "2024-09-27T18:32:03.034264Z train-time-gan: INFO Epoch 90 completed.\n",
      "2024-09-27T18:32:13.170513Z train-time-gan: DEBUG Epoch 91, g_loss_d: -5.0789, g_loss: -3.7686, d_loss_fake:  4.6212, d_loss_real: -26.9251, d_loss_gp:  0.4436, d_loss: -17.8675, g_loss_attr_d:  1.3103, attr_d_loss_fake: -1.3518, attr_d_loss_real:  1.1015, attr_d_loss_gp:  0.0048, attr_d_loss: -0.2025\n",
      "2024-09-27T18:32:13.173009Z train-time-gan: INFO Epoch 91 completed.\n",
      "2024-09-27T18:32:23.235619Z train-time-gan: DEBUG Epoch 92, g_loss_d: -15.1972, g_loss: -13.9048, d_loss_fake:  14.2592, d_loss_real: -36.6108, d_loss_gp:  0.4463, d_loss: -17.8886, g_loss_attr_d:  1.2923, attr_d_loss_fake: -1.2765, attr_d_loss_real:  0.8937, attr_d_loss_gp:  0.0037, attr_d_loss: -0.3454\n",
      "2024-09-27T18:32:23.238020Z train-time-gan: INFO Epoch 92 completed.\n",
      "2024-09-27T18:32:33.325179Z train-time-gan: DEBUG Epoch 93, g_loss_d:  0.7599, g_loss:  2.0432, d_loss_fake:  1.5194, d_loss_real: -24.1580, d_loss_gp:  0.4552, d_loss: -18.0865, g_loss_attr_d:  1.2833, attr_d_loss_fake: -1.2349, attr_d_loss_real:  0.8545, attr_d_loss_gp:  0.0033, attr_d_loss: -0.3477\n",
      "2024-09-27T18:32:33.327926Z train-time-gan: INFO Epoch 93 completed.\n",
      "2024-09-27T18:32:43.586947Z train-time-gan: DEBUG Epoch 94, g_loss_d: -17.0694, g_loss: -15.7946, d_loss_fake:  12.6999, d_loss_real: -35.3217, d_loss_gp:  0.4489, d_loss: -18.1331, g_loss_attr_d:  1.2747, attr_d_loss_fake: -1.2767, attr_d_loss_real:  0.9261, attr_d_loss_gp:  0.0026, attr_d_loss: -0.3251\n",
      "2024-09-27T18:32:43.589729Z train-time-gan: INFO Epoch 94 completed.\n",
      "2024-09-27T18:32:53.905924Z train-time-gan: DEBUG Epoch 95, g_loss_d: -0.1748, g_loss:  1.1493, d_loss_fake:  0.9417, d_loss_real: -23.0277, d_loss_gp:  0.4391, d_loss: -17.6951, g_loss_attr_d:  1.3240, attr_d_loss_fake: -1.2976, attr_d_loss_real:  0.9973, attr_d_loss_gp:  0.0044, attr_d_loss: -0.2561\n",
      "2024-09-27T18:32:53.908579Z train-time-gan: INFO Epoch 95 completed.\n",
      "2024-09-27T18:33:04.110291Z train-time-gan: DEBUG Epoch 96, g_loss_d:  5.7565, g_loss:  6.9630, d_loss_fake: -3.9596, d_loss_real: -18.3189, d_loss_gp:  0.4448, d_loss: -17.8303, g_loss_attr_d:  1.2065, attr_d_loss_fake: -1.1941, attr_d_loss_real:  0.9565, attr_d_loss_gp:  0.0054, attr_d_loss: -0.1832\n",
      "2024-09-27T18:33:04.112751Z train-time-gan: INFO Epoch 96 completed.\n",
      "2024-09-27T18:33:14.321614Z train-time-gan: DEBUG Epoch 97, g_loss_d: -3.9181, g_loss: -2.7200, d_loss_fake:  5.1520, d_loss_real: -26.9656, d_loss_gp:  0.4339, d_loss: -17.4742, g_loss_attr_d:  1.1981, attr_d_loss_fake: -1.1737, attr_d_loss_real:  0.9320, attr_d_loss_gp:  0.0033, attr_d_loss: -0.2091\n",
      "2024-09-27T18:33:14.324205Z train-time-gan: INFO Epoch 97 completed.\n",
      "2024-09-27T18:33:24.419851Z train-time-gan: DEBUG Epoch 98, g_loss_d: -8.8088, g_loss: -7.6930, d_loss_fake:  7.9117, d_loss_real: -30.2484, d_loss_gp:  0.4467, d_loss: -17.8697, g_loss_attr_d:  1.1158, attr_d_loss_fake: -1.1110, attr_d_loss_real:  0.8567, attr_d_loss_gp:  0.0035, attr_d_loss: -0.2197\n",
      "2024-09-27T18:33:24.422372Z train-time-gan: INFO Epoch 98 completed.\n",
      "2024-09-27T18:33:34.603845Z train-time-gan: DEBUG Epoch 99, g_loss_d: -2.6411, g_loss: -1.5202, d_loss_fake:  3.0693, d_loss_real: -25.0476, d_loss_gp:  0.4399, d_loss: -17.5789, g_loss_attr_d:  1.1208, attr_d_loss_fake: -1.0890, attr_d_loss_real:  0.8435, attr_d_loss_gp:  0.0041, attr_d_loss: -0.2042\n",
      "2024-09-27T18:33:34.606108Z train-time-gan: INFO Epoch 99 completed.\n",
      "2024-09-27T18:33:44.825981Z train-time-gan: DEBUG Epoch 100, g_loss_d:  4.8224, g_loss:  5.9018, d_loss_fake: -0.4199, d_loss_real: -21.3249, d_loss_gp:  0.4363, d_loss: -17.3821, g_loss_attr_d:  1.0794, attr_d_loss_fake: -1.0757, attr_d_loss_real:  0.6804, attr_d_loss_gp:  0.0041, attr_d_loss: -0.3540\n",
      "2024-09-27T18:33:45.286462Z train-time-gan: DEBUG Checkpoint on Epoch 100 has been saved to epoch-100.pt\n",
      "2024-09-27T18:33:45.286559Z train-time-gan: INFO Epoch 100 completed.\n",
      "2024-09-27T18:33:55.767722Z train-time-gan: DEBUG Epoch 101, g_loss_d: -3.4266, g_loss: -2.6018, d_loss_fake:  4.5129, d_loss_real: -27.0563, d_loss_gp:  0.4545, d_loss: -17.9982, g_loss_attr_d:  0.8248, attr_d_loss_fake: -0.8495, attr_d_loss_real:  0.5299, attr_d_loss_gp:  0.0052, attr_d_loss: -0.2679\n",
      "2024-09-27T18:33:55.770222Z train-time-gan: INFO Epoch 101 completed.\n",
      "2024-09-27T18:34:06.409627Z train-time-gan: DEBUG Epoch 102, g_loss_d: -9.9946, g_loss: -9.0634, d_loss_fake:  14.4303, d_loss_real: -36.4416, d_loss_gp:  0.4484, d_loss: -17.5270, g_loss_attr_d:  0.9312, attr_d_loss_fake: -0.9421, attr_d_loss_real:  0.7254, attr_d_loss_gp:  0.0033, attr_d_loss: -0.1839\n",
      "2024-09-27T18:34:06.412616Z train-time-gan: INFO Epoch 102 completed.\n",
      "2024-09-27T18:34:16.664595Z train-time-gan: DEBUG Epoch 103, g_loss_d:  7.2982, g_loss:  8.4975, d_loss_fake: -5.7398, d_loss_real: -16.5587, d_loss_gp:  0.4564, d_loss: -17.7350, g_loss_attr_d:  1.1993, attr_d_loss_fake: -1.1877, attr_d_loss_real:  0.8991, attr_d_loss_gp:  0.0035, attr_d_loss: -0.2537\n",
      "2024-09-27T18:34:16.667011Z train-time-gan: INFO Epoch 103 completed.\n",
      "2024-09-27T18:34:26.904637Z train-time-gan: DEBUG Epoch 104, g_loss_d:  3.9161, g_loss:  5.1251, d_loss_fake: -6.1009, d_loss_real: -16.1326, d_loss_gp:  0.4454, d_loss: -17.7795, g_loss_attr_d:  1.2091, attr_d_loss_fake: -1.1954, attr_d_loss_real:  0.8660, attr_d_loss_gp:  0.0041, attr_d_loss: -0.2880\n",
      "2024-09-27T18:34:26.907174Z train-time-gan: INFO Epoch 104 completed.\n",
      "2024-09-27T18:34:37.032085Z train-time-gan: DEBUG Epoch 105, g_loss_d:  6.8635, g_loss:  7.9145, d_loss_fake: -11.8375, d_loss_real: -10.3405, d_loss_gp:  0.4512, d_loss: -17.6657, g_loss_attr_d:  1.0510, attr_d_loss_fake: -1.0956, attr_d_loss_real:  0.8647, attr_d_loss_gp:  0.0042, attr_d_loss: -0.1886\n",
      "2024-09-27T18:34:37.035140Z train-time-gan: INFO Epoch 105 completed.\n",
      "2024-09-27T18:34:47.502123Z train-time-gan: DEBUG Epoch 106, g_loss_d: -25.1874, g_loss: -24.0126, d_loss_fake:  25.4191, d_loss_real: -47.6547, d_loss_gp:  0.4450, d_loss: -17.7855, g_loss_attr_d:  1.1748, attr_d_loss_fake: -1.1574, attr_d_loss_real:  0.9018, attr_d_loss_gp:  0.0044, attr_d_loss: -0.2117\n",
      "2024-09-27T18:34:47.504534Z train-time-gan: INFO Epoch 106 completed.\n",
      "2024-09-27T18:34:57.789961Z train-time-gan: DEBUG Epoch 107, g_loss_d:  0.6849, g_loss:  2.0677, d_loss_fake: -2.1987, d_loss_real: -19.8229, d_loss_gp:  0.4390, d_loss: -17.6320, g_loss_attr_d:  1.3829, attr_d_loss_fake: -1.3721, attr_d_loss_real:  0.8941, attr_d_loss_gp:  0.0038, attr_d_loss: -0.4406\n",
      "2024-09-27T18:34:57.792612Z train-time-gan: INFO Epoch 107 completed.\n",
      "2024-09-27T18:35:08.393563Z train-time-gan: DEBUG Epoch 108, g_loss_d: -10.4983, g_loss: -9.3570, d_loss_fake:  12.8902, d_loss_real: -35.0389, d_loss_gp:  0.4377, d_loss: -17.7718, g_loss_attr_d:  1.1413, attr_d_loss_fake: -1.1186, attr_d_loss_real:  0.7745, attr_d_loss_gp:  0.0034, attr_d_loss: -0.3104\n",
      "2024-09-27T18:35:08.396232Z train-time-gan: INFO Epoch 108 completed.\n",
      "2024-09-27T18:35:18.765347Z train-time-gan: DEBUG Epoch 109, g_loss_d: -15.7290, g_loss: -14.7469, d_loss_fake:  17.8692, d_loss_real: -39.7320, d_loss_gp:  0.4336, d_loss: -17.5272, g_loss_attr_d:  0.9821, attr_d_loss_fake: -0.9944, attr_d_loss_real:  0.7284, attr_d_loss_gp:  0.0043, attr_d_loss: -0.2232\n",
      "2024-09-27T18:35:18.768170Z train-time-gan: INFO Epoch 109 completed.\n",
      "2024-09-27T18:35:29.214350Z train-time-gan: DEBUG Epoch 110, g_loss_d: -16.5038, g_loss: -15.5962, d_loss_fake:  16.8521, d_loss_real: -38.6908, d_loss_gp:  0.4351, d_loss: -17.4878, g_loss_attr_d:  0.9076, attr_d_loss_fake: -0.9061, attr_d_loss_real:  0.6926, attr_d_loss_gp:  0.0041, attr_d_loss: -0.1728\n",
      "2024-09-27T18:35:29.684026Z train-time-gan: DEBUG Checkpoint on Epoch 110 has been saved to epoch-110.pt\n",
      "2024-09-27T18:35:29.684072Z train-time-gan: INFO Epoch 110 completed.\n",
      "2024-09-27T18:35:40.191562Z train-time-gan: DEBUG Epoch 111, g_loss_d: -21.7146, g_loss: -20.7541, d_loss_fake:  23.5514, d_loss_real: -45.5743, d_loss_gp:  0.4353, d_loss: -17.6699, g_loss_attr_d:  0.9606, attr_d_loss_fake: -0.9683, attr_d_loss_real:  0.6811, attr_d_loss_gp:  0.0030, attr_d_loss: -0.2571\n",
      "2024-09-27T18:35:40.194673Z train-time-gan: INFO Epoch 111 completed.\n",
      "2024-09-27T18:35:50.483046Z train-time-gan: DEBUG Epoch 112, g_loss_d: -22.3071, g_loss: -21.1556, d_loss_fake:  24.6339, d_loss_real: -46.6065, d_loss_gp:  0.4356, d_loss: -17.6168, g_loss_attr_d:  1.1515, attr_d_loss_fake: -1.1723, attr_d_loss_real:  0.7627, attr_d_loss_gp:  0.0033, attr_d_loss: -0.3761\n",
      "2024-09-27T18:35:50.485669Z train-time-gan: INFO Epoch 112 completed.\n",
      "2024-09-27T18:36:00.777892Z train-time-gan: DEBUG Epoch 113, g_loss_d: -12.5702, g_loss: -11.2218, d_loss_fake:  11.4231, d_loss_real: -33.0089, d_loss_gp:  0.4294, d_loss: -17.2922, g_loss_attr_d:  1.3484, attr_d_loss_fake: -1.3259, attr_d_loss_real:  0.8374, attr_d_loss_gp:  0.0049, attr_d_loss: -0.4396\n",
      "2024-09-27T18:36:00.780436Z train-time-gan: INFO Epoch 113 completed.\n",
      "2024-09-27T18:36:11.135155Z train-time-gan: DEBUG Epoch 114, g_loss_d:  1.7135, g_loss:  2.6438, d_loss_fake: -1.7386, d_loss_real: -19.6632, d_loss_gp:  0.4230, d_loss: -17.1716, g_loss_attr_d:  0.9303, attr_d_loss_fake: -0.9801, attr_d_loss_real:  0.6155, attr_d_loss_gp:  0.0030, attr_d_loss: -0.3342\n",
      "2024-09-27T18:36:11.137553Z train-time-gan: INFO Epoch 114 completed.\n",
      "2024-09-27T18:36:21.369202Z train-time-gan: DEBUG Epoch 115, g_loss_d: -1.1683, g_loss: -0.1664, d_loss_fake: -0.8270, d_loss_real: -20.9608, d_loss_gp:  0.4366, d_loss: -17.4214, g_loss_attr_d:  1.0019, attr_d_loss_fake: -0.9717, attr_d_loss_real:  0.6493, attr_d_loss_gp:  0.0031, attr_d_loss: -0.2915\n",
      "2024-09-27T18:36:21.371615Z train-time-gan: INFO Epoch 115 completed.\n",
      "2024-09-27T18:36:31.729692Z train-time-gan: DEBUG Epoch 116, g_loss_d:  0.4693, g_loss:  1.4137, d_loss_fake: -2.8613, d_loss_real: -18.7900, d_loss_gp:  0.4322, d_loss: -17.3297, g_loss_attr_d:  0.9444, attr_d_loss_fake: -1.0040, attr_d_loss_real:  0.6841, attr_d_loss_gp:  0.0047, attr_d_loss: -0.2727\n",
      "2024-09-27T18:36:31.732224Z train-time-gan: INFO Epoch 116 completed.\n",
      "2024-09-27T18:36:42.002656Z train-time-gan: DEBUG Epoch 117, g_loss_d: -16.2510, g_loss: -15.3343, d_loss_fake:  19.6903, d_loss_real: -41.7400, d_loss_gp:  0.4388, d_loss: -17.6614, g_loss_attr_d:  0.9167, attr_d_loss_fake: -0.9151, attr_d_loss_real:  0.6008, attr_d_loss_gp:  0.0025, attr_d_loss: -0.2894\n",
      "2024-09-27T18:36:42.004911Z train-time-gan: INFO Epoch 117 completed.\n",
      "2024-09-27T18:36:52.361702Z train-time-gan: DEBUG Epoch 118, g_loss_d:  5.7242, g_loss:  6.6029, d_loss_fake: -4.6271, d_loss_real: -17.4033, d_loss_gp:  0.4372, d_loss: -17.6581, g_loss_attr_d:  0.8788, attr_d_loss_fake: -0.8603, attr_d_loss_real:  0.5441, attr_d_loss_gp:  0.0053, attr_d_loss: -0.2628\n",
      "2024-09-27T18:36:52.364269Z train-time-gan: INFO Epoch 118 completed.\n",
      "2024-09-27T18:37:02.648481Z train-time-gan: DEBUG Epoch 119, g_loss_d:  1.9121, g_loss:  2.7102, d_loss_fake: -3.8076, d_loss_real: -17.6487, d_loss_gp:  0.4270, d_loss: -17.1859, g_loss_attr_d:  0.7981, attr_d_loss_fake: -0.7551, attr_d_loss_real:  0.4708, attr_d_loss_gp:  0.0034, attr_d_loss: -0.2500\n",
      "2024-09-27T18:37:02.651177Z train-time-gan: INFO Epoch 119 completed.\n",
      "2024-09-27T18:37:13.122684Z train-time-gan: DEBUG Epoch 120, g_loss_d: -17.5895, g_loss: -16.5045, d_loss_fake:  17.5525, d_loss_real: -39.3905, d_loss_gp:  0.4362, d_loss: -17.4763, g_loss_attr_d:  1.0851, attr_d_loss_fake: -1.1014, attr_d_loss_real:  0.7535, attr_d_loss_gp:  0.0033, attr_d_loss: -0.3152\n",
      "2024-09-27T18:37:13.610629Z train-time-gan: DEBUG Checkpoint on Epoch 120 has been saved to epoch-120.pt\n",
      "2024-09-27T18:37:13.610717Z train-time-gan: INFO Epoch 120 completed.\n",
      "2024-09-27T18:37:24.050636Z train-time-gan: DEBUG Epoch 121, g_loss_d:  2.2296, g_loss:  3.0850, d_loss_fake: -5.5049, d_loss_real: -16.1491, d_loss_gp:  0.4360, d_loss: -17.2939, g_loss_attr_d:  0.8554, attr_d_loss_fake: -0.8398, attr_d_loss_real:  0.6386, attr_d_loss_gp:  0.0034, attr_d_loss: -0.1676\n",
      "2024-09-27T18:37:24.053288Z train-time-gan: INFO Epoch 121 completed.\n",
      "2024-09-27T18:37:34.429022Z train-time-gan: DEBUG Epoch 122, g_loss_d: -1.3923, g_loss: -0.5396, d_loss_fake:  2.2123, d_loss_real: -23.7193, d_loss_gp:  0.4275, d_loss: -17.2322, g_loss_attr_d:  0.8527, attr_d_loss_fake: -0.8574, attr_d_loss_real:  0.6583, attr_d_loss_gp:  0.0043, attr_d_loss: -0.1563\n",
      "2024-09-27T18:37:34.431647Z train-time-gan: INFO Epoch 122 completed.\n",
      "2024-09-27T18:37:45.021749Z train-time-gan: DEBUG Epoch 123, g_loss_d: -20.4166, g_loss: -19.4838, d_loss_fake:  22.4682, d_loss_real: -44.4307, d_loss_gp:  0.4350, d_loss: -17.6129, g_loss_attr_d:  0.9328, attr_d_loss_fake: -0.9341, attr_d_loss_real:  0.6449, attr_d_loss_gp:  0.0028, attr_d_loss: -0.2615\n",
      "2024-09-27T18:37:45.024110Z train-time-gan: INFO Epoch 123 completed.\n",
      "2024-09-27T18:37:55.470947Z train-time-gan: DEBUG Epoch 124, g_loss_d:  6.2982, g_loss:  7.2861, d_loss_fake: -6.7871, d_loss_real: -14.6925, d_loss_gp:  0.4249, d_loss: -17.2301, g_loss_attr_d:  0.9880, attr_d_loss_fake: -0.9683, attr_d_loss_real:  0.6334, attr_d_loss_gp:  0.0032, attr_d_loss: -0.3026\n",
      "2024-09-27T18:37:55.473692Z train-time-gan: INFO Epoch 124 completed.\n",
      "2024-09-27T18:38:06.144293Z train-time-gan: DEBUG Epoch 125, g_loss_d: -30.6909, g_loss: -29.8322, d_loss_fake:  33.0879, d_loss_real: -55.0096, d_loss_gp:  0.4308, d_loss: -17.6140, g_loss_attr_d:  0.8587, attr_d_loss_fake: -0.8514, attr_d_loss_real:  0.5899, attr_d_loss_gp:  0.0039, attr_d_loss: -0.2226\n",
      "2024-09-27T18:38:06.146883Z train-time-gan: INFO Epoch 125 completed.\n",
      "2024-09-27T18:38:16.748016Z train-time-gan: DEBUG Epoch 126, g_loss_d: -11.9998, g_loss: -11.0874, d_loss_fake:  14.7659, d_loss_real: -37.0425, d_loss_gp:  0.4444, d_loss: -17.8331, g_loss_attr_d:  0.9124, attr_d_loss_fake: -0.9037, attr_d_loss_real:  0.6690, attr_d_loss_gp:  0.0040, attr_d_loss: -0.1951\n",
      "2024-09-27T18:38:16.750559Z train-time-gan: INFO Epoch 126 completed.\n",
      "2024-09-27T18:38:27.331216Z train-time-gan: DEBUG Epoch 127, g_loss_d:  11.5718, g_loss:  12.5330, d_loss_fake: -15.6559, d_loss_real: -6.1625, d_loss_gp:  0.4420, d_loss: -17.3982, g_loss_attr_d:  0.9613, attr_d_loss_fake: -0.9628, attr_d_loss_real:  0.6705, attr_d_loss_gp:  0.0037, attr_d_loss: -0.2555\n",
      "2024-09-27T18:38:27.333698Z train-time-gan: INFO Epoch 127 completed.\n",
      "2024-09-27T18:38:37.828043Z train-time-gan: DEBUG Epoch 128, g_loss_d: -18.2985, g_loss: -17.3507, d_loss_fake:  19.1710, d_loss_real: -40.7508, d_loss_gp:  0.4223, d_loss: -17.3572, g_loss_attr_d:  0.9478, attr_d_loss_fake: -0.9343, attr_d_loss_real:  0.6576, attr_d_loss_gp:  0.0041, attr_d_loss: -0.2354\n",
      "2024-09-27T18:38:37.830464Z train-time-gan: INFO Epoch 128 completed.\n",
      "2024-09-27T18:38:48.437349Z train-time-gan: DEBUG Epoch 129, g_loss_d: -15.0738, g_loss: -14.1840, d_loss_fake:  15.5370, d_loss_real: -37.2555, d_loss_gp:  0.4296, d_loss: -17.4225, g_loss_attr_d:  0.8898, attr_d_loss_fake: -0.8977, attr_d_loss_real:  0.6607, attr_d_loss_gp:  0.0035, attr_d_loss: -0.2018\n",
      "2024-09-27T18:38:48.440350Z train-time-gan: INFO Epoch 129 completed.\n",
      "2024-09-27T18:38:58.887832Z train-time-gan: DEBUG Epoch 130, g_loss_d: -2.9316, g_loss: -1.9671, d_loss_fake:  3.3651, d_loss_real: -25.3175, d_loss_gp:  0.4359, d_loss: -17.5938, g_loss_attr_d:  0.9645, attr_d_loss_fake: -0.9308, attr_d_loss_real:  0.5365, attr_d_loss_gp:  0.0037, attr_d_loss: -0.3573\n",
      "2024-09-27T18:38:59.345354Z train-time-gan: DEBUG Checkpoint on Epoch 130 has been saved to epoch-130.pt\n",
      "2024-09-27T18:38:59.345433Z train-time-gan: INFO Epoch 130 completed.\n",
      "2024-09-27T18:39:09.882196Z train-time-gan: DEBUG Epoch 131, g_loss_d: -13.6665, g_loss: -12.6828, d_loss_fake:  15.2843, d_loss_real: -37.0587, d_loss_gp:  0.4310, d_loss: -17.4645, g_loss_attr_d:  0.9838, attr_d_loss_fake: -0.9671, attr_d_loss_real:  0.7206, attr_d_loss_gp:  0.0043, attr_d_loss: -0.2039\n",
      "2024-09-27T18:39:09.885018Z train-time-gan: INFO Epoch 131 completed.\n",
      "2024-09-27T18:39:20.142604Z train-time-gan: DEBUG Epoch 132, g_loss_d: -0.4043, g_loss:  0.5420, d_loss_fake:  0.9562, d_loss_real: -22.7081, d_loss_gp:  0.4320, d_loss: -17.4321, g_loss_attr_d:  0.9464, attr_d_loss_fake: -0.9154, attr_d_loss_real:  0.6287, attr_d_loss_gp:  0.0030, attr_d_loss: -0.2562\n",
      "2024-09-27T18:39:20.145062Z train-time-gan: INFO Epoch 132 completed.\n",
      "2024-09-27T18:39:30.326182Z train-time-gan: DEBUG Epoch 133, g_loss_d: -36.1560, g_loss: -35.2571, d_loss_fake:  38.4096, d_loss_real: -60.4752, d_loss_gp:  0.4352, d_loss: -17.7135, g_loss_attr_d:  0.8988, attr_d_loss_fake: -0.8896, attr_d_loss_real:  0.5979, attr_d_loss_gp:  0.0037, attr_d_loss: -0.2549\n",
      "2024-09-27T18:39:30.328655Z train-time-gan: INFO Epoch 133 completed.\n",
      "2024-09-27T18:39:40.438891Z train-time-gan: DEBUG Epoch 134, g_loss_d: -8.7551, g_loss: -7.9840, d_loss_fake:  7.6841, d_loss_real: -29.4594, d_loss_gp:  0.4334, d_loss: -17.4415, g_loss_attr_d:  0.7711, attr_d_loss_fake: -0.7525, attr_d_loss_real:  0.4984, attr_d_loss_gp:  0.0042, attr_d_loss: -0.2119\n",
      "2024-09-27T18:39:40.442432Z train-time-gan: INFO Epoch 134 completed.\n",
      "2024-09-27T18:39:50.601357Z train-time-gan: DEBUG Epoch 135, g_loss_d: -14.3094, g_loss: -13.3757, d_loss_fake:  14.0899, d_loss_real: -35.7156, d_loss_gp:  0.4278, d_loss: -17.3474, g_loss_attr_d:  0.9336, attr_d_loss_fake: -0.9543, attr_d_loss_real:  0.7106, attr_d_loss_gp:  0.0038, attr_d_loss: -0.2055\n",
      "2024-09-27T18:39:50.604368Z train-time-gan: INFO Epoch 135 completed.\n",
      "2024-09-27T18:40:00.549783Z train-time-gan: DEBUG Epoch 136, g_loss_d: -16.9676, g_loss: -16.1320, d_loss_fake:  16.5790, d_loss_real: -38.2424, d_loss_gp:  0.4311, d_loss: -17.3521, g_loss_attr_d:  0.8356, attr_d_loss_fake: -0.8029, attr_d_loss_real:  0.5000, attr_d_loss_gp:  0.0043, attr_d_loss: -0.2601\n",
      "2024-09-27T18:40:00.552454Z train-time-gan: INFO Epoch 136 completed.\n",
      "2024-09-27T18:40:10.422642Z train-time-gan: DEBUG Epoch 137, g_loss_d: -19.1790, g_loss: -18.2605, d_loss_fake:  20.1472, d_loss_real: -41.8678, d_loss_gp:  0.4266, d_loss: -17.4546, g_loss_attr_d:  0.9185, attr_d_loss_fake: -0.9317, attr_d_loss_real:  0.5782, attr_d_loss_gp:  0.0037, attr_d_loss: -0.3166\n",
      "2024-09-27T18:40:10.425099Z train-time-gan: INFO Epoch 137 completed.\n",
      "2024-09-27T18:40:20.176992Z train-time-gan: DEBUG Epoch 138, g_loss_d: -2.6353, g_loss: -1.7728, d_loss_fake:  0.3367, d_loss_real: -21.9033, d_loss_gp:  0.4268, d_loss: -17.2985, g_loss_attr_d:  0.8625, attr_d_loss_fake: -0.8599, attr_d_loss_real:  0.5829, attr_d_loss_gp:  0.0036, attr_d_loss: -0.2413\n",
      "2024-09-27T18:40:20.179351Z train-time-gan: INFO Epoch 138 completed.\n",
      "2024-09-27T18:40:29.798419Z train-time-gan: DEBUG Epoch 139, g_loss_d: -17.7196, g_loss: -16.9130, d_loss_fake:  20.7002, d_loss_real: -42.4754, d_loss_gp:  0.4259, d_loss: -17.5163, g_loss_attr_d:  0.8066, attr_d_loss_fake: -0.8245, attr_d_loss_real:  0.5855, attr_d_loss_gp:  0.0026, attr_d_loss: -0.2132\n",
      "2024-09-27T18:40:29.801113Z train-time-gan: INFO Epoch 139 completed.\n",
      "2024-09-27T18:40:39.672606Z train-time-gan: DEBUG Epoch 140, g_loss_d: -9.8873, g_loss: -9.1329, d_loss_fake:  10.5146, d_loss_real: -31.9003, d_loss_gp:  0.4179, d_loss: -17.2067, g_loss_attr_d:  0.7544, attr_d_loss_fake: -0.7572, attr_d_loss_real:  0.5081, attr_d_loss_gp:  0.0022, attr_d_loss: -0.2274\n",
      "2024-09-27T18:40:40.124546Z train-time-gan: DEBUG Checkpoint on Epoch 140 has been saved to epoch-140.pt\n",
      "2024-09-27T18:40:40.124585Z train-time-gan: INFO Epoch 140 completed.\n",
      "2024-09-27T18:40:50.009084Z train-time-gan: DEBUG Epoch 141, g_loss_d: -19.2028, g_loss: -18.4085, d_loss_fake:  22.4393, d_loss_real: -44.0633, d_loss_gp:  0.4258, d_loss: -17.3662, g_loss_attr_d:  0.7943, attr_d_loss_fake: -0.7548, attr_d_loss_real:  0.5071, attr_d_loss_gp:  0.0042, attr_d_loss: -0.2056\n",
      "2024-09-27T18:40:50.011702Z train-time-gan: INFO Epoch 141 completed.\n",
      "2024-09-27T18:40:59.717611Z train-time-gan: DEBUG Epoch 142, g_loss_d: -15.1378, g_loss: -14.4521, d_loss_fake:  16.6707, d_loss_real: -38.4783, d_loss_gp:  0.4346, d_loss: -17.4612, g_loss_attr_d:  0.6857, attr_d_loss_fake: -0.6787, attr_d_loss_real:  0.4261, attr_d_loss_gp:  0.0038, attr_d_loss: -0.2146\n",
      "2024-09-27T18:40:59.720008Z train-time-gan: INFO Epoch 142 completed.\n",
      "2024-09-27T18:41:09.644996Z train-time-gan: DEBUG Epoch 143, g_loss_d: -14.2199, g_loss: -13.5733, d_loss_fake:  15.6327, d_loss_real: -36.7884, d_loss_gp:  0.4141, d_loss: -17.0147, g_loss_attr_d:  0.6466, attr_d_loss_fake: -0.6043, attr_d_loss_real:  0.3031, attr_d_loss_gp:  0.0042, attr_d_loss: -0.2597\n",
      "2024-09-27T18:41:09.647772Z train-time-gan: INFO Epoch 143 completed.\n",
      "2024-09-27T18:41:19.364794Z train-time-gan: DEBUG Epoch 144, g_loss_d: -3.2926, g_loss: -2.5735, d_loss_fake:  5.0428, d_loss_real: -26.5320, d_loss_gp:  0.4187, d_loss: -17.3022, g_loss_attr_d:  0.7191, attr_d_loss_fake: -0.6997, attr_d_loss_real:  0.4305, attr_d_loss_gp:  0.0028, attr_d_loss: -0.2413\n",
      "2024-09-27T18:41:19.367477Z train-time-gan: INFO Epoch 144 completed.\n",
      "2024-09-27T18:41:29.088379Z train-time-gan: DEBUG Epoch 145, g_loss_d: -5.3393, g_loss: -4.6667, d_loss_fake:  4.9070, d_loss_real: -26.2427, d_loss_gp:  0.4189, d_loss: -17.1471, g_loss_attr_d:  0.6726, attr_d_loss_fake: -0.6680, attr_d_loss_real:  0.4146, attr_d_loss_gp:  0.0021, attr_d_loss: -0.2326\n",
      "2024-09-27T18:41:29.090971Z train-time-gan: INFO Epoch 145 completed.\n",
      "2024-09-27T18:41:38.693759Z train-time-gan: DEBUG Epoch 146, g_loss_d:  11.7342, g_loss:  12.4186, d_loss_fake: -12.0762, d_loss_real: -9.2415, d_loss_gp:  0.4188, d_loss: -17.1298, g_loss_attr_d:  0.6844, attr_d_loss_fake: -0.6915, attr_d_loss_real:  0.4525, attr_d_loss_gp:  0.0020, attr_d_loss: -0.2191\n",
      "2024-09-27T18:41:38.696231Z train-time-gan: INFO Epoch 146 completed.\n",
      "2024-09-27T18:41:48.481044Z train-time-gan: DEBUG Epoch 147, g_loss_d: -28.0812, g_loss: -27.3974, d_loss_fake:  28.7543, d_loss_real: -50.3195, d_loss_gp:  0.4262, d_loss: -17.3033, g_loss_attr_d:  0.6838, attr_d_loss_fake: -0.6780, attr_d_loss_real:  0.4239, attr_d_loss_gp:  0.0028, attr_d_loss: -0.2256\n",
      "2024-09-27T18:41:48.483651Z train-time-gan: INFO Epoch 147 completed.\n",
      "2024-09-27T18:41:58.145471Z train-time-gan: DEBUG Epoch 148, g_loss_d:  12.6744, g_loss:  13.4492, d_loss_fake: -13.3777, d_loss_real: -8.3567, d_loss_gp:  0.4298, d_loss: -17.4360, g_loss_attr_d:  0.7748, attr_d_loss_fake: -0.7700, attr_d_loss_real:  0.4998, attr_d_loss_gp:  0.0028, attr_d_loss: -0.2418\n",
      "2024-09-27T18:41:58.148011Z train-time-gan: INFO Epoch 148 completed.\n",
      "2024-09-27T18:42:07.748105Z train-time-gan: DEBUG Epoch 149, g_loss_d: -14.6499, g_loss: -13.8923, d_loss_fake:  21.1503, d_loss_real: -43.5229, d_loss_gp:  0.5146, d_loss: -17.2266, g_loss_attr_d:  0.7576, attr_d_loss_fake: -0.7637, attr_d_loss_real:  0.5214, attr_d_loss_gp:  0.0027, attr_d_loss: -0.2152\n",
      "2024-09-27T18:42:07.750566Z train-time-gan: INFO Epoch 149 completed.\n",
      "2024-09-27T18:42:17.661795Z train-time-gan: DEBUG Epoch 150, g_loss_d:  13.1260, g_loss:  13.8130, d_loss_fake:  3.0567, d_loss_real: -24.7294, d_loss_gp:  0.4604, d_loss: -17.0687, g_loss_attr_d:  0.6869, attr_d_loss_fake: -0.7013, attr_d_loss_real:  0.3709, attr_d_loss_gp:  0.0030, attr_d_loss: -0.3009\n",
      "2024-09-27T18:42:18.124820Z train-time-gan: DEBUG Checkpoint on Epoch 150 has been saved to epoch-150.pt\n",
      "2024-09-27T18:42:18.124882Z train-time-gan: INFO Epoch 150 completed.\n",
      "2024-09-27T18:42:28.072028Z train-time-gan: DEBUG Epoch 151, g_loss_d:  8.8702, g_loss:  9.4618, d_loss_fake: -5.6569, d_loss_real: -15.6724, d_loss_gp:  0.4193, d_loss: -17.1364, g_loss_attr_d:  0.5916, attr_d_loss_fake: -0.5892, attr_d_loss_real:  0.2993, attr_d_loss_gp:  0.0032, attr_d_loss: -0.2580\n",
      "2024-09-27T18:42:28.074665Z train-time-gan: INFO Epoch 151 completed.\n",
      "2024-09-27T18:42:37.907174Z train-time-gan: DEBUG Epoch 152, g_loss_d:  6.7511, g_loss:  7.4395, d_loss_fake: -4.5131, d_loss_real: -16.7184, d_loss_gp:  0.4158, d_loss: -17.0734, g_loss_attr_d:  0.6884, attr_d_loss_fake: -0.6920, attr_d_loss_real:  0.3255, attr_d_loss_gp:  0.0018, attr_d_loss: -0.3483\n",
      "2024-09-27T18:42:37.909376Z train-time-gan: INFO Epoch 152 completed.\n",
      "2024-09-27T18:42:47.891596Z train-time-gan: DEBUG Epoch 153, g_loss_d: -4.0650, g_loss: -3.5127, d_loss_fake:  4.3951, d_loss_real: -25.7753, d_loss_gp:  0.4198, d_loss: -17.1825, g_loss_attr_d:  0.5523, attr_d_loss_fake: -0.5629, attr_d_loss_real:  0.2733, attr_d_loss_gp:  0.0032, attr_d_loss: -0.2575\n",
      "2024-09-27T18:42:47.894067Z train-time-gan: INFO Epoch 153 completed.\n",
      "2024-09-27T18:42:57.729579Z train-time-gan: DEBUG Epoch 154, g_loss_d:  12.8954, g_loss:  13.4430, d_loss_fake: -4.5978, d_loss_real: -16.8202, d_loss_gp:  0.4224, d_loss: -17.1937, g_loss_attr_d:  0.5476, attr_d_loss_fake: -0.5471, attr_d_loss_real:  0.3102, attr_d_loss_gp:  0.0022, attr_d_loss: -0.2153\n",
      "2024-09-27T18:42:57.732028Z train-time-gan: INFO Epoch 154 completed.\n",
      "2024-09-27T18:43:07.596493Z train-time-gan: DEBUG Epoch 155, g_loss_d: -6.4004, g_loss: -5.7783, d_loss_fake:  4.8275, d_loss_real: -26.2067, d_loss_gp:  0.4198, d_loss: -17.1817, g_loss_attr_d:  0.6222, attr_d_loss_fake: -0.5891, attr_d_loss_real:  0.2985, attr_d_loss_gp:  0.0029, attr_d_loss: -0.2620\n",
      "2024-09-27T18:43:07.598987Z train-time-gan: INFO Epoch 155 completed.\n",
      "2024-09-27T18:43:17.415650Z train-time-gan: DEBUG Epoch 156, g_loss_d: -2.5087, g_loss: -1.8048, d_loss_fake:  5.8915, d_loss_real: -27.2727, d_loss_gp:  0.4263, d_loss: -17.1180, g_loss_attr_d:  0.7039, attr_d_loss_fake: -0.7187, attr_d_loss_real:  0.3742, attr_d_loss_gp:  0.0024, attr_d_loss: -0.3201\n",
      "2024-09-27T18:43:17.418333Z train-time-gan: INFO Epoch 156 completed.\n",
      "2024-09-27T18:43:27.305543Z train-time-gan: DEBUG Epoch 157, g_loss_d: -2.0403, g_loss: -1.3670, d_loss_fake:  6.5232, d_loss_real: -27.5063, d_loss_gp:  0.4190, d_loss: -16.7935, g_loss_attr_d:  0.6733, attr_d_loss_fake: -0.6414, attr_d_loss_real:  0.3927, attr_d_loss_gp:  0.0034, attr_d_loss: -0.2148\n",
      "2024-09-27T18:43:27.308050Z train-time-gan: INFO Epoch 157 completed.\n",
      "2024-09-27T18:43:37.194309Z train-time-gan: DEBUG Epoch 158, g_loss_d:  0.4106, g_loss:  1.1181, d_loss_fake:  2.3228, d_loss_real: -23.3482, d_loss_gp:  0.4147, d_loss: -16.8780, g_loss_attr_d:  0.7074, attr_d_loss_fake: -0.6893, attr_d_loss_real:  0.4394, attr_d_loss_gp:  0.0018, attr_d_loss: -0.2319\n",
      "2024-09-27T18:43:37.197427Z train-time-gan: INFO Epoch 158 completed.\n",
      "2024-09-27T18:43:47.114146Z train-time-gan: DEBUG Epoch 159, g_loss_d:  5.6447, g_loss:  6.1559, d_loss_fake: -3.2550, d_loss_real: -17.8780, d_loss_gp:  0.4164, d_loss: -16.9694, g_loss_attr_d:  0.5111, attr_d_loss_fake: -0.5056, attr_d_loss_real:  0.2520, attr_d_loss_gp:  0.0037, attr_d_loss: -0.2170\n",
      "2024-09-27T18:43:47.116913Z train-time-gan: INFO Epoch 159 completed.\n",
      "2024-09-27T18:43:57.034495Z train-time-gan: DEBUG Epoch 160, g_loss_d: -7.5496, g_loss: -6.9485, d_loss_fake:  7.0079, d_loss_real: -28.3489, d_loss_gp:  0.4145, d_loss: -17.1963, g_loss_attr_d:  0.6011, attr_d_loss_fake: -0.6234, attr_d_loss_real:  0.3817, attr_d_loss_gp:  0.0032, attr_d_loss: -0.2092\n",
      "2024-09-27T18:43:57.495400Z train-time-gan: DEBUG Checkpoint on Epoch 160 has been saved to epoch-160.pt\n",
      "2024-09-27T18:43:57.495492Z train-time-gan: INFO Epoch 160 completed.\n",
      "2024-09-27T18:44:07.533296Z train-time-gan: DEBUG Epoch 161, g_loss_d: -6.2551, g_loss: -5.6339, d_loss_fake:  5.4874, d_loss_real: -26.5857, d_loss_gp:  0.4110, d_loss: -16.9887, g_loss_attr_d:  0.6212, attr_d_loss_fake: -0.5816, attr_d_loss_real:  0.2947, attr_d_loss_gp:  0.0034, attr_d_loss: -0.2525\n",
      "2024-09-27T18:44:07.535873Z train-time-gan: INFO Epoch 161 completed.\n",
      "2024-09-27T18:44:17.509098Z train-time-gan: DEBUG Epoch 162, g_loss_d:  7.0346, g_loss:  7.6369, d_loss_fake: -6.8167, d_loss_real: -14.4510, d_loss_gp:  0.4138, d_loss: -17.1301, g_loss_attr_d:  0.6023, attr_d_loss_fake: -0.5725, attr_d_loss_real:  0.3267, attr_d_loss_gp:  0.0030, attr_d_loss: -0.2159\n",
      "2024-09-27T18:44:17.511785Z train-time-gan: INFO Epoch 162 completed.\n",
      "2024-09-27T18:44:27.541391Z train-time-gan: DEBUG Epoch 163, g_loss_d: -6.9525, g_loss: -6.4470, d_loss_fake:  5.9593, d_loss_real: -27.3817, d_loss_gp:  0.4180, d_loss: -17.2422, g_loss_attr_d:  0.5055, attr_d_loss_fake: -0.4994, attr_d_loss_real:  0.2790, attr_d_loss_gp:  0.0030, attr_d_loss: -0.1905\n",
      "2024-09-27T18:44:27.544035Z train-time-gan: INFO Epoch 163 completed.\n",
      "2024-09-27T18:44:37.693271Z train-time-gan: DEBUG Epoch 164, g_loss_d: -24.1219, g_loss: -23.0835, d_loss_fake:  22.7852, d_loss_real: -44.4172, d_loss_gp:  0.4268, d_loss: -17.3641, g_loss_attr_d:  1.0384, attr_d_loss_fake: -0.8901, attr_d_loss_real:  0.2001, attr_d_loss_gp:  0.0175, attr_d_loss: -0.5152\n",
      "2024-09-27T18:44:37.695671Z train-time-gan: INFO Epoch 164 completed.\n",
      "2024-09-27T18:44:47.743603Z train-time-gan: DEBUG Epoch 165, g_loss_d:  0.9173, g_loss:  1.5607, d_loss_fake: -0.5091, d_loss_real: -20.3355, d_loss_gp:  0.4069, d_loss: -16.7758, g_loss_attr_d:  0.6435, attr_d_loss_fake: -0.6250, attr_d_loss_real:  0.3004, attr_d_loss_gp:  0.0042, attr_d_loss: -0.2825\n",
      "2024-09-27T18:44:47.746173Z train-time-gan: INFO Epoch 165 completed.\n",
      "2024-09-27T18:44:57.821787Z train-time-gan: DEBUG Epoch 166, g_loss_d: -12.7218, g_loss: -12.0626, d_loss_fake:  12.2405, d_loss_real: -33.5409, d_loss_gp:  0.4204, d_loss: -17.0968, g_loss_attr_d:  0.6591, attr_d_loss_fake: -0.6588, attr_d_loss_real:  0.2849, attr_d_loss_gp:  0.0023, attr_d_loss: -0.3509\n",
      "2024-09-27T18:44:57.824496Z train-time-gan: INFO Epoch 166 completed.\n",
      "2024-09-27T18:45:07.849073Z train-time-gan: DEBUG Epoch 167, g_loss_d:  5.7812, g_loss:  6.3184, d_loss_fake: -4.2678, d_loss_real: -17.2962, d_loss_gp:  0.4216, d_loss: -17.3477, g_loss_attr_d:  0.5372, attr_d_loss_fake: -0.5521, attr_d_loss_real:  0.3099, attr_d_loss_gp:  0.0030, attr_d_loss: -0.2123\n",
      "2024-09-27T18:45:07.851713Z train-time-gan: INFO Epoch 167 completed.\n",
      "2024-09-27T18:45:17.806621Z train-time-gan: DEBUG Epoch 168, g_loss_d: -14.8976, g_loss: -14.2984, d_loss_fake:  14.2523, d_loss_real: -35.6055, d_loss_gp:  0.4204, d_loss: -17.1497, g_loss_attr_d:  0.5992, attr_d_loss_fake: -0.5905, attr_d_loss_real:  0.3294, attr_d_loss_gp:  0.0033, attr_d_loss: -0.2281\n",
      "2024-09-27T18:45:17.809136Z train-time-gan: INFO Epoch 168 completed.\n",
      "2024-09-27T18:45:27.665264Z train-time-gan: DEBUG Epoch 169, g_loss_d: -9.3947, g_loss: -8.9039, d_loss_fake:  7.8417, d_loss_real: -29.0689, d_loss_gp:  0.4086, d_loss: -17.1415, g_loss_attr_d:  0.4908, attr_d_loss_fake: -0.4506, attr_d_loss_real:  0.2172, attr_d_loss_gp:  0.0025, attr_d_loss: -0.2082\n",
      "2024-09-27T18:45:27.667963Z train-time-gan: INFO Epoch 169 completed.\n",
      "2024-09-27T18:45:37.733448Z train-time-gan: DEBUG Epoch 170, g_loss_d: -6.8829, g_loss: -6.3554, d_loss_fake:  6.5248, d_loss_real: -27.5098, d_loss_gp:  0.4105, d_loss: -16.8799, g_loss_attr_d:  0.5275, attr_d_loss_fake: -0.5275, attr_d_loss_real:  0.3050, attr_d_loss_gp:  0.0036, attr_d_loss: -0.1861\n",
      "2024-09-27T18:45:38.196309Z train-time-gan: DEBUG Checkpoint on Epoch 170 has been saved to epoch-170.pt\n",
      "2024-09-27T18:45:38.196370Z train-time-gan: INFO Epoch 170 completed.\n",
      "2024-09-27T18:45:48.259489Z train-time-gan: DEBUG Epoch 171, g_loss_d: -8.4502, g_loss: -7.8158, d_loss_fake:  10.6076, d_loss_real: -31.5660, d_loss_gp:  0.4081, d_loss: -16.8772, g_loss_attr_d:  0.6343, attr_d_loss_fake: -0.6006, attr_d_loss_real:  0.2495, attr_d_loss_gp:  0.0033, attr_d_loss: -0.3178\n",
      "2024-09-27T18:45:48.261994Z train-time-gan: INFO Epoch 171 completed.\n",
      "2024-09-27T18:45:58.216749Z train-time-gan: DEBUG Epoch 172, g_loss_d:  8.2371, g_loss:  8.8074, d_loss_fake: -7.1562, d_loss_real: -13.8510, d_loss_gp:  0.4097, d_loss: -16.9099, g_loss_attr_d:  0.5703, attr_d_loss_fake: -0.5596, attr_d_loss_real:  0.2653, attr_d_loss_gp:  0.0034, attr_d_loss: -0.2607\n",
      "2024-09-27T18:45:58.219441Z train-time-gan: INFO Epoch 172 completed.\n",
      "2024-09-27T18:46:08.052224Z train-time-gan: DEBUG Epoch 173, g_loss_d: -10.3206, g_loss: -9.8317, d_loss_fake:  11.0645, d_loss_real: -32.1891, d_loss_gp:  0.4175, d_loss: -16.9495, g_loss_attr_d:  0.4889, attr_d_loss_fake: -0.5076, attr_d_loss_real:  0.2364, attr_d_loss_gp:  0.0028, attr_d_loss: -0.2434\n",
      "2024-09-27T18:46:08.055103Z train-time-gan: INFO Epoch 173 completed.\n",
      "2024-09-27T18:46:17.989681Z train-time-gan: DEBUG Epoch 174, g_loss_d: -13.4875, g_loss: -12.9661, d_loss_fake:  13.5679, d_loss_real: -34.7049, d_loss_gp:  0.4161, d_loss: -16.9757, g_loss_attr_d:  0.5214, attr_d_loss_fake: -0.5186, attr_d_loss_real:  0.2773, attr_d_loss_gp:  0.0045, attr_d_loss: -0.1962\n",
      "2024-09-27T18:46:17.992124Z train-time-gan: INFO Epoch 174 completed.\n",
      "2024-09-27T18:46:28.116472Z train-time-gan: DEBUG Epoch 175, g_loss_d: -35.5812, g_loss: -35.1505, d_loss_fake:  37.1327, d_loss_real: -59.2208, d_loss_gp:  0.4484, d_loss: -17.6036, g_loss_attr_d:  0.4307, attr_d_loss_fake: -0.4316, attr_d_loss_real:  0.2436, attr_d_loss_gp:  0.0042, attr_d_loss: -0.1456\n",
      "2024-09-27T18:46:28.119066Z train-time-gan: INFO Epoch 175 completed.\n",
      "2024-09-27T18:46:38.577334Z train-time-gan: DEBUG Epoch 176, g_loss_d: -14.5258, g_loss: -14.0980, d_loss_fake:  14.4922, d_loss_real: -35.9141, d_loss_gp:  0.4208, d_loss: -17.2135, g_loss_attr_d:  0.4278, attr_d_loss_fake: -0.4067, attr_d_loss_real:  0.1645, attr_d_loss_gp:  0.0034, attr_d_loss: -0.2082\n",
      "2024-09-27T18:46:38.580117Z train-time-gan: INFO Epoch 176 completed.\n",
      "2024-09-27T18:46:49.019051Z train-time-gan: DEBUG Epoch 177, g_loss_d: -12.3664, g_loss: -11.8761, d_loss_fake:  12.8305, d_loss_real: -33.8842, d_loss_gp:  0.4073, d_loss: -16.9806, g_loss_attr_d:  0.4902, attr_d_loss_fake: -0.4997, attr_d_loss_real:  0.1786, attr_d_loss_gp:  0.0038, attr_d_loss: -0.2834\n",
      "2024-09-27T18:46:49.021516Z train-time-gan: INFO Epoch 177 completed.\n",
      "2024-09-27T18:46:59.106415Z train-time-gan: DEBUG Epoch 178, g_loss_d: -7.9919, g_loss: -7.6139, d_loss_fake:  6.9839, d_loss_real: -28.0850, d_loss_gp:  0.4156, d_loss: -16.9452, g_loss_attr_d:  0.3779, attr_d_loss_fake: -0.3705, attr_d_loss_real:  0.1223, attr_d_loss_gp:  0.0029, attr_d_loss: -0.2197\n",
      "2024-09-27T18:46:59.109172Z train-time-gan: INFO Epoch 178 completed.\n",
      "2024-09-27T18:47:09.305149Z train-time-gan: DEBUG Epoch 179, g_loss_d: -4.3633, g_loss: -3.9010, d_loss_fake:  3.4253, d_loss_real: -24.5735, d_loss_gp:  0.4170, d_loss: -16.9783, g_loss_attr_d:  0.4622, attr_d_loss_fake: -0.4640, attr_d_loss_real:  0.2016, attr_d_loss_gp:  0.0030, attr_d_loss: -0.2324\n",
      "2024-09-27T18:47:09.307752Z train-time-gan: INFO Epoch 179 completed.\n",
      "2024-09-27T18:47:19.325604Z train-time-gan: DEBUG Epoch 180, g_loss_d: -6.9680, g_loss: -6.5204, d_loss_fake:  8.0727, d_loss_real: -29.0952, d_loss_gp:  0.4106, d_loss: -16.9167, g_loss_attr_d:  0.4476, attr_d_loss_fake: -0.4440, attr_d_loss_real:  0.1580, attr_d_loss_gp:  0.0035, attr_d_loss: -0.2513\n",
      "2024-09-27T18:47:19.790193Z train-time-gan: DEBUG Checkpoint on Epoch 180 has been saved to epoch-180.pt\n",
      "2024-09-27T18:47:19.790252Z train-time-gan: INFO Epoch 180 completed.\n",
      "2024-09-27T18:47:29.799354Z train-time-gan: DEBUG Epoch 181, g_loss_d: -10.7861, g_loss: -10.3400, d_loss_fake:  1.7863, d_loss_real: -22.8122, d_loss_gp:  0.3941, d_loss: -17.0851, g_loss_attr_d:  0.4461, attr_d_loss_fake: -0.4208, attr_d_loss_real:  0.1767, attr_d_loss_gp:  0.0024, attr_d_loss: -0.2203\n",
      "2024-09-27T18:47:29.801845Z train-time-gan: INFO Epoch 181 completed.\n",
      "2024-09-27T18:47:39.846752Z train-time-gan: DEBUG Epoch 182, g_loss_d: -13.5342, g_loss: -13.0562, d_loss_fake:  12.8074, d_loss_real: -33.7880, d_loss_gp:  0.4145, d_loss: -16.8358, g_loss_attr_d:  0.4779, attr_d_loss_fake: -0.4838, attr_d_loss_real:  0.2235, attr_d_loss_gp:  0.0034, attr_d_loss: -0.2264\n",
      "2024-09-27T18:47:39.850148Z train-time-gan: INFO Epoch 182 completed.\n",
      "2024-09-27T18:47:50.085329Z train-time-gan: DEBUG Epoch 183, g_loss_d:  4.8921, g_loss:  5.3736, d_loss_fake: -3.1613, d_loss_real: -17.6474, d_loss_gp:  0.4053, d_loss: -16.7561, g_loss_attr_d:  0.4815, attr_d_loss_fake: -0.4697, attr_d_loss_real:  0.1961, attr_d_loss_gp:  0.0030, attr_d_loss: -0.2441\n",
      "2024-09-27T18:47:50.087833Z train-time-gan: INFO Epoch 183 completed.\n",
      "2024-09-27T18:48:00.225969Z train-time-gan: DEBUG Epoch 184, g_loss_d: -2.2751, g_loss: -1.8380, d_loss_fake:  1.9322, d_loss_real: -22.3595, d_loss_gp:  0.3955, d_loss: -16.4720, g_loss_attr_d:  0.4370, attr_d_loss_fake: -0.4141, attr_d_loss_real:  0.1249, attr_d_loss_gp:  0.0038, attr_d_loss: -0.2514\n",
      "2024-09-27T18:48:00.228321Z train-time-gan: INFO Epoch 184 completed.\n",
      "2024-09-27T18:48:10.263205Z train-time-gan: DEBUG Epoch 185, g_loss_d: -28.7396, g_loss: -28.4081, d_loss_fake:  28.3823, d_loss_real: -49.7777, d_loss_gp:  0.4383, d_loss: -17.0128, g_loss_attr_d:  0.3315, attr_d_loss_fake: -0.3424, attr_d_loss_real:  0.0861, attr_d_loss_gp:  0.0025, attr_d_loss: -0.2313\n",
      "2024-09-27T18:48:10.265854Z train-time-gan: INFO Epoch 185 completed.\n",
      "2024-09-27T18:48:20.466138Z train-time-gan: DEBUG Epoch 186, g_loss_d: -17.8144, g_loss: -17.4821, d_loss_fake:  14.3898, d_loss_real: -35.6082, d_loss_gp:  0.4333, d_loss: -16.8855, g_loss_attr_d:  0.3323, attr_d_loss_fake: -0.3410, attr_d_loss_real:  0.1237, attr_d_loss_gp:  0.0028, attr_d_loss: -0.1889\n",
      "2024-09-27T18:48:20.468825Z train-time-gan: INFO Epoch 186 completed.\n",
      "2024-09-27T18:48:30.637490Z train-time-gan: DEBUG Epoch 187, g_loss_d: -6.4409, g_loss: -6.0217, d_loss_fake:  3.6000, d_loss_real: -24.4388, d_loss_gp:  0.4145, d_loss: -16.6943, g_loss_attr_d:  0.4192, attr_d_loss_fake: -0.3932, attr_d_loss_real:  0.1607, attr_d_loss_gp:  0.0047, attr_d_loss: -0.1853\n",
      "2024-09-27T18:48:30.640467Z train-time-gan: INFO Epoch 187 completed.\n",
      "2024-09-27T18:48:40.690704Z train-time-gan: DEBUG Epoch 188, g_loss_d: -3.5997, g_loss: -3.1468, d_loss_fake:  2.8753, d_loss_real: -24.0581, d_loss_gp:  0.4185, d_loss: -16.9975, g_loss_attr_d:  0.4529, attr_d_loss_fake: -0.4450, attr_d_loss_real:  0.1742, attr_d_loss_gp:  0.0032, attr_d_loss: -0.2387\n",
      "2024-09-27T18:48:40.693162Z train-time-gan: INFO Epoch 188 completed.\n",
      "2024-09-27T18:48:50.712673Z train-time-gan: DEBUG Epoch 189, g_loss_d: -12.9232, g_loss: -12.6296, d_loss_fake:  13.1144, d_loss_real: -33.9347, d_loss_gp:  0.4079, d_loss: -16.7412, g_loss_attr_d:  0.2935, attr_d_loss_fake: -0.2879, attr_d_loss_real:  0.0204, attr_d_loss_gp:  0.0023, attr_d_loss: -0.2443\n",
      "2024-09-27T18:48:50.715236Z train-time-gan: INFO Epoch 189 completed.\n",
      "2024-09-27T18:49:00.660815Z train-time-gan: DEBUG Epoch 190, g_loss_d: -3.4025, g_loss: -3.0026, d_loss_fake:  4.0572, d_loss_real: -24.9402, d_loss_gp:  0.4039, d_loss: -16.8437, g_loss_attr_d:  0.3999, attr_d_loss_fake: -0.3852, attr_d_loss_real:  0.1356, attr_d_loss_gp:  0.0030, attr_d_loss: -0.2193\n",
      "2024-09-27T18:49:01.124034Z train-time-gan: DEBUG Checkpoint on Epoch 190 has been saved to epoch-190.pt\n",
      "2024-09-27T18:49:01.124143Z train-time-gan: INFO Epoch 190 completed.\n",
      "2024-09-27T18:49:11.147879Z train-time-gan: DEBUG Epoch 191, g_loss_d: -23.6166, g_loss: -23.3211, d_loss_fake:  23.1246, d_loss_real: -44.3866, d_loss_gp:  0.4201, d_loss: -17.0611, g_loss_attr_d:  0.2954, attr_d_loss_fake: -0.3141, attr_d_loss_real:  0.0827, attr_d_loss_gp:  0.0038, attr_d_loss: -0.1933\n",
      "2024-09-27T18:49:11.150760Z train-time-gan: INFO Epoch 191 completed.\n",
      "2024-09-27T18:49:21.150103Z train-time-gan: DEBUG Epoch 192, g_loss_d:  6.1408, g_loss:  6.5486, d_loss_fake: -2.9688, d_loss_real: -18.1047, d_loss_gp:  0.4053, d_loss: -17.0205, g_loss_attr_d:  0.4078, attr_d_loss_fake: -0.4067, attr_d_loss_real:  0.1795, attr_d_loss_gp:  0.0039, attr_d_loss: -0.1877\n",
      "2024-09-27T18:49:21.152764Z train-time-gan: INFO Epoch 192 completed.\n",
      "2024-09-27T18:49:31.051056Z train-time-gan: DEBUG Epoch 193, g_loss_d: -20.9899, g_loss: -20.6269, d_loss_fake:  19.5610, d_loss_real: -40.5346, d_loss_gp:  0.4185, d_loss: -16.7886, g_loss_attr_d:  0.3630, attr_d_loss_fake: -0.3609, attr_d_loss_real:  0.1150, attr_d_loss_gp:  0.0043, attr_d_loss: -0.2034\n",
      "2024-09-27T18:49:31.053357Z train-time-gan: INFO Epoch 193 completed.\n",
      "2024-09-27T18:49:40.943789Z train-time-gan: DEBUG Epoch 194, g_loss_d:  8.9901, g_loss:  9.2880, d_loss_fake: -3.9306, d_loss_real: -16.7815, d_loss_gp:  0.3923, d_loss: -16.7891, g_loss_attr_d:  0.2979, attr_d_loss_fake: -0.2904, attr_d_loss_real:  0.0894, attr_d_loss_gp:  0.0038, attr_d_loss: -0.1633\n",
      "2024-09-27T18:49:40.946276Z train-time-gan: INFO Epoch 194 completed.\n",
      "2024-09-27T18:49:50.929267Z train-time-gan: DEBUG Epoch 195, g_loss_d: -9.4720, g_loss: -9.1099, d_loss_fake:  9.2230, d_loss_real: -29.8754, d_loss_gp:  0.3925, d_loss: -16.7270, g_loss_attr_d:  0.3622, attr_d_loss_fake: -0.3388, attr_d_loss_real:  0.1264, attr_d_loss_gp:  0.0030, attr_d_loss: -0.1824\n",
      "2024-09-27T18:49:50.931853Z train-time-gan: INFO Epoch 195 completed.\n",
      "2024-09-27T18:50:00.777154Z train-time-gan: DEBUG Epoch 196, g_loss_d: -5.8966, g_loss: -5.5258, d_loss_fake:  6.2584, d_loss_real: -27.1968, d_loss_gp:  0.4022, d_loss: -16.9164, g_loss_attr_d:  0.3708, attr_d_loss_fake: -0.3593, attr_d_loss_real:  0.1555, attr_d_loss_gp:  0.0028, attr_d_loss: -0.1754\n",
      "2024-09-27T18:50:00.779684Z train-time-gan: INFO Epoch 196 completed.\n",
      "2024-09-27T18:50:10.727345Z train-time-gan: DEBUG Epoch 197, g_loss_d:  10.2080, g_loss:  10.4700, d_loss_fake: -5.3928, d_loss_real: -15.2887, d_loss_gp:  0.3896, d_loss: -16.7853, g_loss_attr_d:  0.2621, attr_d_loss_fake: -0.2642, attr_d_loss_real:  0.0464, attr_d_loss_gp:  0.0036, attr_d_loss: -0.1822\n",
      "2024-09-27T18:50:10.729876Z train-time-gan: INFO Epoch 197 completed.\n",
      "2024-09-27T18:50:20.755009Z train-time-gan: DEBUG Epoch 198, g_loss_d: -5.9364, g_loss: -5.5569, d_loss_fake:  5.7758, d_loss_real: -26.7638, d_loss_gp:  0.4104, d_loss: -16.8845, g_loss_attr_d:  0.3794, attr_d_loss_fake: -0.3753, attr_d_loss_real:  0.1886, attr_d_loss_gp:  0.0030, attr_d_loss: -0.1565\n",
      "2024-09-27T18:50:20.757718Z train-time-gan: INFO Epoch 198 completed.\n",
      "2024-09-27T18:50:30.539310Z train-time-gan: DEBUG Epoch 199, g_loss_d: -19.4215, g_loss: -18.9716, d_loss_fake:  18.8556, d_loss_real: -40.0693, d_loss_gp:  0.4124, d_loss: -17.0899, g_loss_attr_d:  0.4499, attr_d_loss_fake: -0.4417, attr_d_loss_real:  0.0734, attr_d_loss_gp:  0.0024, attr_d_loss: -0.3443\n",
      "2024-09-27T18:50:30.541854Z train-time-gan: INFO Epoch 199 completed.\n",
      "2024-09-27T18:50:40.445876Z train-time-gan: DEBUG Epoch 200, g_loss_d: -1.5326, g_loss: -1.1884, d_loss_fake: -0.5444, d_loss_real: -20.7222, d_loss_gp:  0.4307, d_loss: -16.9597, g_loss_attr_d:  0.3442, attr_d_loss_fake: -0.3361, attr_d_loss_real:  0.0887, attr_d_loss_gp:  0.0025, attr_d_loss: -0.2227\n",
      "2024-09-27T18:50:40.448425Z train-time-gan: INFO Epoch 200 completed.\n",
      "2024-09-27T18:50:41.102749Z train-time-gan: DEBUG Checkpoint on Epoch 200 has been saved to epoch-200.pt\n",
      "2024-09-27T18:50:41.714777Z train-time-gan: INFO Training completed. Uploaded model 1MvOnVFUAqUGKG29OwQFyD\n"
     ]
    }
   ],
   "execution_count": 71
  },
  {
   "metadata": {
    "ExecuteTime": {
     "end_time": "2024-09-27T18:50:47.026811Z",
     "start_time": "2024-09-27T18:50:46.991429Z"
    }
   },
   "cell_type": "code",
   "source": "model = await workflow.models().last()",
   "id": "59ca0c9781cec23f",
   "outputs": [],
   "execution_count": 72
  },
  {
   "metadata": {
    "ExecuteTime": {
     "end_time": "2024-09-27T18:50:47.617870Z",
     "start_time": "2024-09-27T18:50:47.615374Z"
    }
   },
   "cell_type": "code",
   "source": "model",
   "id": "c2c9c9fc0ccae041",
   "outputs": [
    {
     "data": {
      "text/plain": [
       "Model(id='1MvOnVFUAqUGKG29OwQFyD', labels={}, create_time=None, size_bytes=None)"
      ]
     },
     "execution_count": 73,
     "metadata": {},
     "output_type": "execute_result"
    }
   ],
   "execution_count": 73
  },
  {
   "metadata": {
    "ExecuteTime": {
     "end_time": "2024-09-27T18:50:55.427190Z",
     "start_time": "2024-09-27T18:50:50.346548Z"
    }
   },
   "cell_type": "code",
   "source": [
    "from actions.dg.generate import GenerateTimeGAN\n",
    "import rockfish.actions as ra\n",
    "builder = rf.WorkflowBuilder()\n",
    "builder.add_path(model, GenerateTimeGAN(), ra.DatasetSave(name='syn'))\n",
    "workflow = await builder.start(conn)\n",
    "async for log in workflow.logs(level=rf.LogLevel.DEBUG):\n",
    "    print(log)"
   ],
   "id": "f12ff4ecfcdaa39d",
   "outputs": [
    {
     "name": "stdout",
     "output_type": "stream",
     "text": [
      "2024-09-27T18:50:50.351250Z generate-time-gan: DEBUG CUDA not available\n",
      "2024-09-27T18:50:50.352286Z generate-time-gan: INFO Downloading model with model_id='1MvOnVFUAqUGKG29OwQFyD'...\n",
      "2024-09-27T18:50:50.673370Z generate-time-gan: INFO Generating 1000 sessions...\n",
      "2024-09-27T18:50:51.424796Z generate-time-gan: DEBUG Generating data from model trained with 200 epochs\n"
     ]
    },
    {
     "name": "stderr",
     "output_type": "stream",
     "text": [
      "/Users/deepanshu/rockfish/cuttlefish/lib/dg/src/dg/doppelganger.py:378: FutureWarning: You are using `torch.load` with `weights_only=False` (the current default value), which uses the default pickle module implicitly. It is possible to construct malicious pickle data which will execute arbitrary code during unpickling (See https://github.com/pytorch/pytorch/blob/main/SECURITY.md#untrusted-models for more details). In a future release, the default value for `weights_only` will be flipped to `True`. This limits the functions that could be executed during unpickling. Arbitrary objects will no longer be allowed to be loaded via this mode unless they are explicitly allowlisted by the user via `torch.serialization.add_safe_globals`. We recommend you start setting `weights_only=True` for any use case where you don't have full control of the loaded file. Please open an issue on GitHub for any issues related to this experimental feature.\n",
      "  state = torch.load(model_path, map_location=self.device)\n"
     ]
    },
    {
     "name": "stdout",
     "output_type": "stream",
     "text": [
      "2024-09-27T18:50:52.374174Z generate-time-gan: DEBUG DG generating 9 batches\n",
      "2024-09-27T18:50:55.425106Z dataset-save: INFO using field 'session_key' to concatenate tables\n",
      "2024-09-27T18:50:55.425665Z dataset-save: INFO Saved dataset '2esZxZVCdDMwH9CBkdwYwL' with 1450000 rows\n"
     ]
    }
   ],
   "execution_count": 74
  },
  {
   "metadata": {
    "ExecuteTime": {
     "end_time": "2024-09-27T18:51:03.784843Z",
     "start_time": "2024-09-27T18:51:03.780907Z"
    }
   },
   "cell_type": "code",
   "source": "syn_data = await (await workflow.datasets().concat(conn)).to_local()",
   "id": "200ac17f56bd9337",
   "outputs": [],
   "execution_count": 75
  },
  {
   "metadata": {
    "ExecuteTime": {
     "end_time": "2024-09-27T18:51:04.750905Z",
     "start_time": "2024-09-27T18:51:04.633428Z"
    }
   },
   "cell_type": "code",
   "source": "syn_data.to_pandas()",
   "id": "ccebbe9ad85001f6",
   "outputs": [
    {
     "data": {
      "text/plain": [
       "                      timestamp  feature_0  feature_1  feature_2  feature_3  \\\n",
       "0       2023-08-25 20:21:58.627   0.770009   0.834152   0.606762   0.581446   \n",
       "1       2023-08-25 20:22:51.818   0.792195   0.828788   0.632858   0.578591   \n",
       "2       2023-08-25 20:23:43.114   0.782756   0.834185   0.616259   0.589215   \n",
       "3       2023-08-25 20:24:35.547   0.777797   0.831336   0.622582   0.581828   \n",
       "4       2023-08-25 20:25:26.370   0.766406   0.829849   0.622777   0.586063   \n",
       "...                         ...        ...        ...        ...        ...   \n",
       "1449995 2023-08-04 20:39:45.419   0.770727   0.833024   0.557189   0.625313   \n",
       "1449996 2023-08-04 20:40:45.718   0.770893   0.833707   0.557588   0.625203   \n",
       "1449997 2023-08-04 20:41:45.794   0.771268   0.833628   0.557381   0.625232   \n",
       "1449998 2023-08-04 20:42:45.378   0.770453   0.832861   0.557619   0.625206   \n",
       "1449999 2023-08-04 20:43:45.378   0.769932   0.832871   0.557632   0.625078   \n",
       "\n",
       "         feature_4  feature_5  feature_6  feature_7  feature_8  ...  \\\n",
       "0         0.471956   0.409995   0.465374   0.453411   0.418084  ...   \n",
       "1         0.469476   0.436888   0.479058   0.440931   0.436340  ...   \n",
       "2         0.444085   0.422867   0.495700   0.434247   0.456391  ...   \n",
       "3         0.467977   0.402302   0.482502   0.452028   0.487276  ...   \n",
       "4         0.491225   0.422437   0.473921   0.428229   0.417282  ...   \n",
       "...            ...        ...        ...        ...        ...  ...   \n",
       "1449995   0.525870   0.525427   0.551613   0.547947   0.517053  ...   \n",
       "1449996   0.528022   0.526403   0.552776   0.547165   0.515614  ...   \n",
       "1449997   0.523252   0.532679   0.552870   0.546473   0.516114  ...   \n",
       "1449998   0.528001   0.526966   0.553787   0.549341   0.515284  ...   \n",
       "1449999   0.529680   0.526206   0.554752   0.547677   0.514507  ...   \n",
       "\n",
       "         feature_16  feature_17  feature_18  feature_19  feature_20  \\\n",
       "0          0.456487    0.616557    0.396816    0.602092    0.064566   \n",
       "1          0.448495    0.618604    0.397907    0.608816    0.059507   \n",
       "2          0.438327    0.600982    0.369038    0.611104    0.068542   \n",
       "3          0.460402    0.612609    0.398075    0.609185    0.063363   \n",
       "4          0.475370    0.592423    0.402056    0.613827    0.064094   \n",
       "...             ...         ...         ...         ...         ...   \n",
       "1449995    0.482994    0.611122    0.401736    0.659610    0.019801   \n",
       "1449996    0.483517    0.610663    0.399643    0.659272    0.019736   \n",
       "1449997    0.483943    0.610473    0.400360    0.658033    0.020050   \n",
       "1449998    0.482384    0.609188    0.401394    0.657388    0.020123   \n",
       "1449999    0.483177    0.609653    0.400446    0.659060    0.020093   \n",
       "\n",
       "         feature_21  feature_22  feature_23  feature_24  session_key  \n",
       "0          0.018603    0.230886    0.025676    0.183125          0.0  \n",
       "1          0.019224    0.217730    0.024848    0.184619          0.0  \n",
       "2          0.018069    0.222513    0.028155    0.204036          0.0  \n",
       "3          0.021988    0.217919    0.028443    0.195949          0.0  \n",
       "4          0.017075    0.211074    0.026135    0.196993          0.0  \n",
       "...             ...         ...         ...         ...          ...  \n",
       "1449995    0.010445    0.213378    0.257665    0.227950        999.0  \n",
       "1449996    0.010522    0.212775    0.258671    0.225771        999.0  \n",
       "1449997    0.010289    0.210844    0.259752    0.228345        999.0  \n",
       "1449998    0.010420    0.211185    0.260265    0.226090        999.0  \n",
       "1449999    0.010243    0.212641    0.264319    0.227617        999.0  \n",
       "\n",
       "[1450000 rows x 27 columns]"
      ],
      "text/html": [
       "<div>\n",
       "<style scoped>\n",
       "    .dataframe tbody tr th:only-of-type {\n",
       "        vertical-align: middle;\n",
       "    }\n",
       "\n",
       "    .dataframe tbody tr th {\n",
       "        vertical-align: top;\n",
       "    }\n",
       "\n",
       "    .dataframe thead th {\n",
       "        text-align: right;\n",
       "    }\n",
       "</style>\n",
       "<table border=\"1\" class=\"dataframe\">\n",
       "  <thead>\n",
       "    <tr style=\"text-align: right;\">\n",
       "      <th></th>\n",
       "      <th>timestamp</th>\n",
       "      <th>feature_0</th>\n",
       "      <th>feature_1</th>\n",
       "      <th>feature_2</th>\n",
       "      <th>feature_3</th>\n",
       "      <th>feature_4</th>\n",
       "      <th>feature_5</th>\n",
       "      <th>feature_6</th>\n",
       "      <th>feature_7</th>\n",
       "      <th>feature_8</th>\n",
       "      <th>...</th>\n",
       "      <th>feature_16</th>\n",
       "      <th>feature_17</th>\n",
       "      <th>feature_18</th>\n",
       "      <th>feature_19</th>\n",
       "      <th>feature_20</th>\n",
       "      <th>feature_21</th>\n",
       "      <th>feature_22</th>\n",
       "      <th>feature_23</th>\n",
       "      <th>feature_24</th>\n",
       "      <th>session_key</th>\n",
       "    </tr>\n",
       "  </thead>\n",
       "  <tbody>\n",
       "    <tr>\n",
       "      <th>0</th>\n",
       "      <td>2023-08-25 20:21:58.627</td>\n",
       "      <td>0.770009</td>\n",
       "      <td>0.834152</td>\n",
       "      <td>0.606762</td>\n",
       "      <td>0.581446</td>\n",
       "      <td>0.471956</td>\n",
       "      <td>0.409995</td>\n",
       "      <td>0.465374</td>\n",
       "      <td>0.453411</td>\n",
       "      <td>0.418084</td>\n",
       "      <td>...</td>\n",
       "      <td>0.456487</td>\n",
       "      <td>0.616557</td>\n",
       "      <td>0.396816</td>\n",
       "      <td>0.602092</td>\n",
       "      <td>0.064566</td>\n",
       "      <td>0.018603</td>\n",
       "      <td>0.230886</td>\n",
       "      <td>0.025676</td>\n",
       "      <td>0.183125</td>\n",
       "      <td>0.0</td>\n",
       "    </tr>\n",
       "    <tr>\n",
       "      <th>1</th>\n",
       "      <td>2023-08-25 20:22:51.818</td>\n",
       "      <td>0.792195</td>\n",
       "      <td>0.828788</td>\n",
       "      <td>0.632858</td>\n",
       "      <td>0.578591</td>\n",
       "      <td>0.469476</td>\n",
       "      <td>0.436888</td>\n",
       "      <td>0.479058</td>\n",
       "      <td>0.440931</td>\n",
       "      <td>0.436340</td>\n",
       "      <td>...</td>\n",
       "      <td>0.448495</td>\n",
       "      <td>0.618604</td>\n",
       "      <td>0.397907</td>\n",
       "      <td>0.608816</td>\n",
       "      <td>0.059507</td>\n",
       "      <td>0.019224</td>\n",
       "      <td>0.217730</td>\n",
       "      <td>0.024848</td>\n",
       "      <td>0.184619</td>\n",
       "      <td>0.0</td>\n",
       "    </tr>\n",
       "    <tr>\n",
       "      <th>2</th>\n",
       "      <td>2023-08-25 20:23:43.114</td>\n",
       "      <td>0.782756</td>\n",
       "      <td>0.834185</td>\n",
       "      <td>0.616259</td>\n",
       "      <td>0.589215</td>\n",
       "      <td>0.444085</td>\n",
       "      <td>0.422867</td>\n",
       "      <td>0.495700</td>\n",
       "      <td>0.434247</td>\n",
       "      <td>0.456391</td>\n",
       "      <td>...</td>\n",
       "      <td>0.438327</td>\n",
       "      <td>0.600982</td>\n",
       "      <td>0.369038</td>\n",
       "      <td>0.611104</td>\n",
       "      <td>0.068542</td>\n",
       "      <td>0.018069</td>\n",
       "      <td>0.222513</td>\n",
       "      <td>0.028155</td>\n",
       "      <td>0.204036</td>\n",
       "      <td>0.0</td>\n",
       "    </tr>\n",
       "    <tr>\n",
       "      <th>3</th>\n",
       "      <td>2023-08-25 20:24:35.547</td>\n",
       "      <td>0.777797</td>\n",
       "      <td>0.831336</td>\n",
       "      <td>0.622582</td>\n",
       "      <td>0.581828</td>\n",
       "      <td>0.467977</td>\n",
       "      <td>0.402302</td>\n",
       "      <td>0.482502</td>\n",
       "      <td>0.452028</td>\n",
       "      <td>0.487276</td>\n",
       "      <td>...</td>\n",
       "      <td>0.460402</td>\n",
       "      <td>0.612609</td>\n",
       "      <td>0.398075</td>\n",
       "      <td>0.609185</td>\n",
       "      <td>0.063363</td>\n",
       "      <td>0.021988</td>\n",
       "      <td>0.217919</td>\n",
       "      <td>0.028443</td>\n",
       "      <td>0.195949</td>\n",
       "      <td>0.0</td>\n",
       "    </tr>\n",
       "    <tr>\n",
       "      <th>4</th>\n",
       "      <td>2023-08-25 20:25:26.370</td>\n",
       "      <td>0.766406</td>\n",
       "      <td>0.829849</td>\n",
       "      <td>0.622777</td>\n",
       "      <td>0.586063</td>\n",
       "      <td>0.491225</td>\n",
       "      <td>0.422437</td>\n",
       "      <td>0.473921</td>\n",
       "      <td>0.428229</td>\n",
       "      <td>0.417282</td>\n",
       "      <td>...</td>\n",
       "      <td>0.475370</td>\n",
       "      <td>0.592423</td>\n",
       "      <td>0.402056</td>\n",
       "      <td>0.613827</td>\n",
       "      <td>0.064094</td>\n",
       "      <td>0.017075</td>\n",
       "      <td>0.211074</td>\n",
       "      <td>0.026135</td>\n",
       "      <td>0.196993</td>\n",
       "      <td>0.0</td>\n",
       "    </tr>\n",
       "    <tr>\n",
       "      <th>...</th>\n",
       "      <td>...</td>\n",
       "      <td>...</td>\n",
       "      <td>...</td>\n",
       "      <td>...</td>\n",
       "      <td>...</td>\n",
       "      <td>...</td>\n",
       "      <td>...</td>\n",
       "      <td>...</td>\n",
       "      <td>...</td>\n",
       "      <td>...</td>\n",
       "      <td>...</td>\n",
       "      <td>...</td>\n",
       "      <td>...</td>\n",
       "      <td>...</td>\n",
       "      <td>...</td>\n",
       "      <td>...</td>\n",
       "      <td>...</td>\n",
       "      <td>...</td>\n",
       "      <td>...</td>\n",
       "      <td>...</td>\n",
       "      <td>...</td>\n",
       "    </tr>\n",
       "    <tr>\n",
       "      <th>1449995</th>\n",
       "      <td>2023-08-04 20:39:45.419</td>\n",
       "      <td>0.770727</td>\n",
       "      <td>0.833024</td>\n",
       "      <td>0.557189</td>\n",
       "      <td>0.625313</td>\n",
       "      <td>0.525870</td>\n",
       "      <td>0.525427</td>\n",
       "      <td>0.551613</td>\n",
       "      <td>0.547947</td>\n",
       "      <td>0.517053</td>\n",
       "      <td>...</td>\n",
       "      <td>0.482994</td>\n",
       "      <td>0.611122</td>\n",
       "      <td>0.401736</td>\n",
       "      <td>0.659610</td>\n",
       "      <td>0.019801</td>\n",
       "      <td>0.010445</td>\n",
       "      <td>0.213378</td>\n",
       "      <td>0.257665</td>\n",
       "      <td>0.227950</td>\n",
       "      <td>999.0</td>\n",
       "    </tr>\n",
       "    <tr>\n",
       "      <th>1449996</th>\n",
       "      <td>2023-08-04 20:40:45.718</td>\n",
       "      <td>0.770893</td>\n",
       "      <td>0.833707</td>\n",
       "      <td>0.557588</td>\n",
       "      <td>0.625203</td>\n",
       "      <td>0.528022</td>\n",
       "      <td>0.526403</td>\n",
       "      <td>0.552776</td>\n",
       "      <td>0.547165</td>\n",
       "      <td>0.515614</td>\n",
       "      <td>...</td>\n",
       "      <td>0.483517</td>\n",
       "      <td>0.610663</td>\n",
       "      <td>0.399643</td>\n",
       "      <td>0.659272</td>\n",
       "      <td>0.019736</td>\n",
       "      <td>0.010522</td>\n",
       "      <td>0.212775</td>\n",
       "      <td>0.258671</td>\n",
       "      <td>0.225771</td>\n",
       "      <td>999.0</td>\n",
       "    </tr>\n",
       "    <tr>\n",
       "      <th>1449997</th>\n",
       "      <td>2023-08-04 20:41:45.794</td>\n",
       "      <td>0.771268</td>\n",
       "      <td>0.833628</td>\n",
       "      <td>0.557381</td>\n",
       "      <td>0.625232</td>\n",
       "      <td>0.523252</td>\n",
       "      <td>0.532679</td>\n",
       "      <td>0.552870</td>\n",
       "      <td>0.546473</td>\n",
       "      <td>0.516114</td>\n",
       "      <td>...</td>\n",
       "      <td>0.483943</td>\n",
       "      <td>0.610473</td>\n",
       "      <td>0.400360</td>\n",
       "      <td>0.658033</td>\n",
       "      <td>0.020050</td>\n",
       "      <td>0.010289</td>\n",
       "      <td>0.210844</td>\n",
       "      <td>0.259752</td>\n",
       "      <td>0.228345</td>\n",
       "      <td>999.0</td>\n",
       "    </tr>\n",
       "    <tr>\n",
       "      <th>1449998</th>\n",
       "      <td>2023-08-04 20:42:45.378</td>\n",
       "      <td>0.770453</td>\n",
       "      <td>0.832861</td>\n",
       "      <td>0.557619</td>\n",
       "      <td>0.625206</td>\n",
       "      <td>0.528001</td>\n",
       "      <td>0.526966</td>\n",
       "      <td>0.553787</td>\n",
       "      <td>0.549341</td>\n",
       "      <td>0.515284</td>\n",
       "      <td>...</td>\n",
       "      <td>0.482384</td>\n",
       "      <td>0.609188</td>\n",
       "      <td>0.401394</td>\n",
       "      <td>0.657388</td>\n",
       "      <td>0.020123</td>\n",
       "      <td>0.010420</td>\n",
       "      <td>0.211185</td>\n",
       "      <td>0.260265</td>\n",
       "      <td>0.226090</td>\n",
       "      <td>999.0</td>\n",
       "    </tr>\n",
       "    <tr>\n",
       "      <th>1449999</th>\n",
       "      <td>2023-08-04 20:43:45.378</td>\n",
       "      <td>0.769932</td>\n",
       "      <td>0.832871</td>\n",
       "      <td>0.557632</td>\n",
       "      <td>0.625078</td>\n",
       "      <td>0.529680</td>\n",
       "      <td>0.526206</td>\n",
       "      <td>0.554752</td>\n",
       "      <td>0.547677</td>\n",
       "      <td>0.514507</td>\n",
       "      <td>...</td>\n",
       "      <td>0.483177</td>\n",
       "      <td>0.609653</td>\n",
       "      <td>0.400446</td>\n",
       "      <td>0.659060</td>\n",
       "      <td>0.020093</td>\n",
       "      <td>0.010243</td>\n",
       "      <td>0.212641</td>\n",
       "      <td>0.264319</td>\n",
       "      <td>0.227617</td>\n",
       "      <td>999.0</td>\n",
       "    </tr>\n",
       "  </tbody>\n",
       "</table>\n",
       "<p>1450000 rows × 27 columns</p>\n",
       "</div>"
      ]
     },
     "execution_count": 76,
     "metadata": {},
     "output_type": "execute_result"
    }
   ],
   "execution_count": 76
  },
  {
   "metadata": {
    "ExecuteTime": {
     "end_time": "2024-09-27T18:51:07.216729Z",
     "start_time": "2024-09-27T18:51:07.123088Z"
    }
   },
   "cell_type": "code",
   "source": [
    "ogdat = rf.Dataset.from_csv('g', 'location3.csv')\n",
    "col_names = ogdat.table.column_names\n",
    "col_names = {col:col for col in col_names}\n",
    "col_names['sessionID'] = 'session_key'\n",
    "print(col_names)\n",
    "ogdat.table = ogdat.table.rename_columns(list(col_names.values()))\n",
    "ogdat.table"
   ],
   "id": "748b2d919ae2c95e",
   "outputs": [
    {
     "name": "stdout",
     "output_type": "stream",
     "text": [
      "{'feature_0': 'feature_0', 'feature_1': 'feature_1', 'feature_2': 'feature_2', 'feature_3': 'feature_3', 'feature_4': 'feature_4', 'feature_5': 'feature_5', 'feature_6': 'feature_6', 'feature_7': 'feature_7', 'feature_8': 'feature_8', 'feature_9': 'feature_9', 'feature_10': 'feature_10', 'feature_11': 'feature_11', 'feature_12': 'feature_12', 'feature_13': 'feature_13', 'feature_14': 'feature_14', 'feature_15': 'feature_15', 'feature_16': 'feature_16', 'feature_17': 'feature_17', 'feature_18': 'feature_18', 'feature_19': 'feature_19', 'feature_20': 'feature_20', 'feature_21': 'feature_21', 'feature_22': 'feature_22', 'feature_23': 'feature_23', 'feature_24': 'feature_24', 'timestamp': 'timestamp', 'sessionID': 'session_key'}\n"
     ]
    },
    {
     "data": {
      "text/plain": [
       "pyarrow.Table\n",
       "feature_0: double\n",
       "feature_1: double\n",
       "feature_2: double\n",
       "feature_3: double\n",
       "feature_4: double\n",
       "feature_5: double\n",
       "feature_6: double\n",
       "feature_7: double\n",
       "feature_8: double\n",
       "feature_9: double\n",
       "feature_10: double\n",
       "feature_11: double\n",
       "feature_12: double\n",
       "feature_13: double\n",
       "feature_14: double\n",
       "feature_15: double\n",
       "feature_16: double\n",
       "feature_17: double\n",
       "feature_18: double\n",
       "feature_19: double\n",
       "feature_20: double\n",
       "feature_21: double\n",
       "feature_22: double\n",
       "feature_23: double\n",
       "feature_24: double\n",
       "timestamp: timestamp[s]\n",
       "session_key: int64\n",
       "----\n",
       "feature_0: [[0.7105338932441083,0.7104610637648477,0.7105518581893833,0.7107960066835955,0.7106657983459652,...,0.7655136596254362,0.7658230830026626,0.7659973077912131,0.76617326960971,0.7661338229028846],[0.7663005937594882,0.7662507609875995,0.7665008200328671,0.7663634493784262,0.7665331430281597,...,0.7008318584939333,0.7008063227631017,0.7009072720361443,0.7350970649729197,0.7352160209098437],...,[0.7602535172147298,0.7601045431836427,0.7602710572943935,0.7602593040628521,0.7602979452477248,...,0.7754476869810831,0.7754404310568517,0.7754884578904487,0.775625296580766,0.7754390140771116],[0.7753494915511914,0.7754259393412484,0.7755628604310026,0.7756172145866113,0.7757784181885549,...,0.7754659709387882,0.7754087066509204,0.7754504408242341,0.7753666962215597,0.7753834363832627]]\n",
       "feature_1: [[0.7445661472886094,0.7444677115740702,0.744617190329157,0.7445438294473827,0.7443178191119464,...,0.7891761322377943,0.7890528181661536,0.7890033685661026,0.7891576209586376,0.7892243118698148],[0.7892620299203156,0.7892857347003122,0.7891963468923536,0.7892867425835275,0.7893516710182968,...,0.807987492703319,0.8081552159035597,0.8082558218210847,0.7616503410309267,0.7617469118976741],...,[0.8985785900937808,0.8984598744673223,0.8984998538348589,0.8984720235936181,0.8983873249930999,...,0.9085964361647388,0.9085390267498296,0.9084373149751016,0.9085731809745324,0.9087246461214428],[0.9089848536001692,0.9089417573581868,0.9088524590812154,0.9088909227542205,0.908776649729222,...,0.9090455188472444,0.9092340528130768,0.9091548755832608,0.9090958795877936,0.9091894720101285]]\n",
       "feature_2: [[0.5746978422197829,0.5746328166983932,0.5748209034846714,0.5750354592755861,0.5746247681603167,...,0.5982846565478765,0.5981155980349313,0.5973682849023665,0.5975933498684551,0.597045166979103],[0.5984438283974236,0.5983025672410138,0.5977739076934148,0.5970836793808488,0.5971871290739689,...,0.5646976022831576,0.5649651058866796,0.5649975157123566,0.5793688029596072,0.5800383756452219],...,[0.6099597178511942,0.6097308295844359,0.6100467077447645,0.6099030692796051,0.609847474566534,...,0.6066582438045802,0.6063090882234228,0.6080286618146203,0.6068859801794702,0.6064291349627833],[0.6066328727734696,0.6068887447199544,0.606348585860341,0.6063704178874985,0.6064134790367076,...,0.6059455707564162,0.6060755433725155,0.6064341297619915,0.6064089302892443,0.6064411146382149]]\n",
       "feature_3: [[0.5156747769565142,0.5156979637054064,0.5163381578124402,0.5168292739450175,0.5180237101176619,...,0.5408610434014082,0.5408456803161794,0.5408924504851544,0.5408607791763592,0.5409584093310699],[0.5409716833036016,0.5409873531501087,0.5409868959273442,0.5410628976604396,0.5411985627106816,...,0.6015956344860194,0.6016101783735114,0.6016096837855884,0.5346616309978494,0.5346805714633802],...,[0.6456126405045868,0.6456288805033774,0.6456178087398706,0.6456176764605375,0.6456339991964646,...,0.6605278225732879,0.6605204963332962,0.6605465191644365,0.6605854324748084,0.6605564621331795],[0.6605784712123463,0.6605620860899492,0.6606001366655023,0.6605629371481561,0.6605601247527492,...,0.6606164513946098,0.6606436860912679,0.6606080250509581,0.6606361847020961,0.660613469021094]]\n",
       "feature_4: [[0.3951250801796023,0.414047466324567,0.4339320076972418,0.391276459268762,0.36241180243746,...,0.6071199486850545,0.6247594611930725,0.6183450930083387,0.6096856959589481,0.6016677357280309],[0.6051956382296344,0.6196279666452854,0.6189865298268121,0.606799230275818,0.6032713277742142,...,0.4288005131494548,0.4259140474663245,0.4589480436177037,0.4772289929441949,0.4788325849903785],...,[0.5689544579858884,0.5737652341244388,0.5798588838999358,0.5574085952533675,0.5635022450288647,...,0.4579858883899936,0.4570237331622835,0.4727389352148814,0.4660038486209108,0.4538165490699166],[0.4550994227068634,0.4631173829377806,0.462796664528544,0.4592687620269403,0.4698524695317512,...,0.4464400256574728,0.4457985888389993,0.4464400256574728,0.4461193072482361,0.4522129570237332]]\n",
       "feature_5: [[0.3918961696739474,0.3944286166508389,0.4219689775245331,0.3893637226970561,0.3665716999050333,...,0.5821462488129155,0.5910098132320355,0.5856283634061412,0.5897435897435898,0.5694840139284584],[0.5767647989870212,0.5906932573599241,0.588477366255144,0.5742323520101298,0.5716999050332383,...,0.4140550807217474,0.4248179803735359,0.4504590060145616,0.4523583412472301,0.4567901234567901],...,[0.5425767647989871,0.5451092117758785,0.5504906616017727,0.5308641975308642,0.5400443178220956,...,0.4317822095599873,0.4374802152579929,0.4438113327002216,0.4469768914213358,0.4425451092117759],[0.4400126622348845,0.4393795504906616,0.4374802152579929,0.4349477682811016,0.4441278885723329,...,0.4317822095599873,0.4320987654320988,0.4301994301994302,0.4295663184552074,0.4245014245014245]]\n",
       "feature_6: [[0.4715909090909091,0.4715909090909091,0.4886363636363636,0.4715909090909091,0.4659090909090908,...,0.5568181818181818,0.6022727272727272,0.5795454545454545,0.5795454545454545,0.5795454545454545],[0.5681818181818181,0.5738636363636362,0.5852272727272727,0.5681818181818181,0.5738636363636362,...,0.5056818181818181,0.5,0.5227272727272726,0.5170454545454545,0.5170454545454545],...,[0.5795454545454545,0.5852272727272727,0.5965909090909091,0.5738636363636362,0.5454545454545454,...,0.4715909090909091,0.5,0.5284090909090909,0.5,0.4943181818181817],[0.4659090909090908,0.5056818181818181,0.4943181818181817,0.5113636363636364,0.5113636363636364,...,0.4943181818181817,0.4943181818181817,0.4772727272727272,0.4886363636363636,0.4829545454545454]]\n",
       "feature_7: [[0.4082326283987915,0.4191842900302114,0.459214501510574,0.4316465256797583,0.3953927492447129,...,0.6106495468277946,0.6091389728096677,0.618202416918429,0.6148036253776435,0.5932779456193353],[0.6064954682779455,0.6359516616314199,0.6363293051359517,0.616691842900302,0.6030966767371602,...,0.4437311178247734,0.4550604229607251,0.475453172205438,0.4607250755287008,0.4501510574018127],...,[0.5460725075528701,0.5558912386706949,0.5687311178247734,0.5377643504531722,0.5574018126888217,...,0.44297583081571,0.4437311178247734,0.4607250755287008,0.4554380664652568,0.4482628398791541],[0.4546827794561933,0.4550604229607251,0.4550604229607251,0.4554380664652568,0.4603474320241692,...,0.4316465256797583,0.4354229607250755,0.436178247734139,0.4342900302114804,0.4384441087613293]]\n",
       "feature_8: [[0.4212535030636964,0.4291929891226903,0.4437324846815181,0.4370992257635491,0.3969648031159455,...,0.6327245523203343,0.6451052106588134,0.6385550752861824,0.6331187954210801,0.6161093430864959],[0.6186529235738374,0.6374483446539685,0.6342991497648791,0.6260081698570275,0.6296632308934593,...,0.4684819265662849,0.4744264475371679,0.4918253930556215,0.5152044839215314,0.5276041419275163],...,[0.58558400227996,0.5966513086020995,0.6074336199116515,0.5760841685270507,0.5747969410535314,...,0.4749204388923193,0.4710302569705029,0.4894053104070679,0.4778012634778891,0.4681019332161687],[0.4655559777703889,0.479784353773809,0.4698142782501306,0.4810549565382605,0.484695767824063,...,0.4679879352111338,0.481634446397188,0.4707120125397805,0.4756733007172374,0.4753194319099416]]\n",
       "feature_9: [[0.4199207021728441,0.4268127085752545,0.4241994371737334,0.4385588299908985,0.3954053290650597,...,0.6253188128341127,0.6355626693447991,0.6363702936530354,0.627385996296645,0.6093441714004749],[0.6057286926319975,0.6288736151649249,0.6280827291843204,0.6200671625396228,0.619200954084675,...,0.4573245875571458,0.4682798229921853,0.4785697099038593,0.5084099634895229,0.5029637301363128],...,[0.5746518950925316,0.5981838914519453,0.6078188912950235,0.5740493152977854,0.5628743893125778,...,0.4728640324723557,0.4626745755264727,0.4836644383768007,0.4717885949220098,0.4608961282155897],[0.4641496406490287,0.478699431943006,0.4696963039680298,0.4731046459320633,0.4754061659814414,...,0.4617958133258011,0.4719015786335248,0.4663821150969255,0.4754229043090733,0.4686062203810062]]\n",
       "..."
      ]
     },
     "execution_count": 77,
     "metadata": {},
     "output_type": "execute_result"
    }
   ],
   "execution_count": 77
  },
  {
   "metadata": {
    "ExecuteTime": {
     "end_time": "2024-09-27T18:51:26.180689Z",
     "start_time": "2024-09-27T18:51:08.162836Z"
    }
   },
   "cell_type": "code",
   "source": [
    "import rockfish.labs as rl\n",
    "rl.metrics.marginal_dist_score(dataset=ogdat, syn=syn_data)"
   ],
   "id": "c5b59f7ac70b322e",
   "outputs": [
    {
     "data": {
      "text/plain": [
       "0.8591000054039627"
      ]
     },
     "execution_count": 78,
     "metadata": {},
     "output_type": "execute_result"
    }
   ],
   "execution_count": 78
  },
  {
   "metadata": {
    "ExecuteTime": {
     "end_time": "2024-09-27T18:52:15.282932Z",
     "start_time": "2024-09-27T18:51:55.902054Z"
    }
   },
   "cell_type": "code",
   "source": "syn_data.to_pandas().to_csv('syn_data.csv', index=False)",
   "id": "1dac2ce349ccc1a5",
   "outputs": [],
   "execution_count": 79
  },
  {
   "metadata": {
    "ExecuteTime": {
     "end_time": "2024-09-27T19:19:47.640183Z",
     "start_time": "2024-09-27T19:19:47.627004Z"
    }
   },
   "cell_type": "code",
   "source": "conn_rem = rf.Connection.from_config()",
   "id": "f008deef53b95249",
   "outputs": [],
   "execution_count": 80
  },
  {
   "metadata": {
    "ExecuteTime": {
     "end_time": "2024-09-27T19:21:32.671843Z",
     "start_time": "2024-09-27T19:21:32.596346Z"
    }
   },
   "cell_type": "code",
   "source": [
    "async for model in conn_rem.list_models(labels={'kind':'location3.csv'}):\n",
    "    print(model)"
   ],
   "id": "a6679c735e07120b",
   "outputs": [
    {
     "name": "stdout",
     "output_type": "stream",
     "text": [
      "Model(id='0a81be52-7d04-11ef-aaaa-26425b76ab20', labels={'kind': 'location3.csv', 'workflow_id': '20W36Hm78dCyiFyHIfbG5X'}, create_time=datetime.datetime(2024, 9, 27, 19, 9, 38, tzinfo=datetime.timezone.utc), size_bytes=4053121536)\n"
     ]
    }
   ],
   "execution_count": 85
  },
  {
   "metadata": {},
   "cell_type": "code",
   "outputs": [],
   "execution_count": null,
   "source": "",
   "id": "fc5cab2c297e5b43"
  }
 ],
 "metadata": {
  "kernelspec": {
   "display_name": "Python 3",
   "language": "python",
   "name": "python3"
  },
  "language_info": {
   "codemirror_mode": {
    "name": "ipython",
    "version": 2
   },
   "file_extension": ".py",
   "mimetype": "text/x-python",
   "name": "python",
   "nbconvert_exporter": "python",
   "pygments_lexer": "ipython2",
   "version": "2.7.6"
  }
 },
 "nbformat": 4,
 "nbformat_minor": 5
}
