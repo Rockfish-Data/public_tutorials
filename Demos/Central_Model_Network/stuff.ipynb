{
 "cells": [
  {
   "cell_type": "code",
   "id": "initial_id",
   "metadata": {
    "collapsed": true,
    "ExecuteTime": {
     "end_time": "2024-09-26T18:43:53.606593Z",
     "start_time": "2024-09-26T18:43:53.602214Z"
    }
   },
   "source": [
    "import pandas as pd\n",
    "from rockfish import LogLevel\n",
    "\n",
    "\n",
    "def sessionise_data(df, start_session =1):\n",
    "    # Ensure the timestamp is in datetime format\n",
    "    df['timestamp'] = pd.to_datetime(df['timestamp'])\n",
    "    \n",
    "    # Sort the dataframe by timestamp\n",
    "    df = df.sort_values(by='timestamp').reset_index(drop=True)\n",
    "    \n",
    "    def generate_sessions(df, window_size=24, step_size=1):\n",
    "        sessions = []\n",
    "        start_time = df['timestamp'].min()\n",
    "        end_time = df['timestamp'].max()\n",
    "        \n",
    "        current_time = start_time\n",
    "        session_id = 1\n",
    "        \n",
    "        while current_time + pd.Timedelta(hours=window_size) <= end_time:\n",
    "            session_df = df[(df['timestamp'] >= current_time) & (df['timestamp'] < current_time + pd.Timedelta(hours=window_size))].copy()\n",
    "            session_df['sessionID'] = session_id\n",
    "            sessions.append(session_df)\n",
    "            \n",
    "            current_time += pd.Timedelta(hours=step_size)\n",
    "            session_id += 1\n",
    "        \n",
    "        return pd.concat(sessions, ignore_index=True)\n",
    "    \n",
    "    # Generate sessions\n",
    "    sessions_df = generate_sessions(df)\n",
    "    return sessions_df"
   ],
   "outputs": [],
   "execution_count": 12
  },
  {
   "metadata": {
    "ExecuteTime": {
     "end_time": "2024-09-26T18:44:54.333187Z",
     "start_time": "2024-09-26T18:44:54.232870Z"
    }
   },
   "cell_type": "code",
   "source": "df = pd.read_csv('location3.csv')",
   "id": "27a7723b98b960b2",
   "outputs": [],
   "execution_count": 20
  },
  {
   "metadata": {
    "ExecuteTime": {
     "end_time": "2024-09-26T18:44:54.633577Z",
     "start_time": "2024-09-26T18:44:54.341388Z"
    }
   },
   "cell_type": "code",
   "source": "df = sessionise_data(df)",
   "id": "ee2669ae927b7642",
   "outputs": [],
   "execution_count": 21
  },
  {
   "metadata": {
    "ExecuteTime": {
     "end_time": "2024-09-26T18:45:09.583602Z",
     "start_time": "2024-09-26T18:44:56.610426Z"
    }
   },
   "cell_type": "code",
   "source": "df.to_csv('location3.csv',index=False)",
   "id": "35f02d81b74824bc",
   "outputs": [],
   "execution_count": 22
  },
  {
   "metadata": {
    "ExecuteTime": {
     "end_time": "2024-09-26T18:45:13.760951Z",
     "start_time": "2024-09-26T18:45:13.757492Z"
    }
   },
   "cell_type": "code",
   "source": "df.columns",
   "id": "45ce829366163dcf",
   "outputs": [
    {
     "data": {
      "text/plain": [
       "Index(['feature_0', 'feature_1', 'feature_2', 'feature_3', 'feature_4',\n",
       "       'feature_5', 'feature_6', 'feature_7', 'feature_8', 'feature_9',\n",
       "       'feature_10', 'feature_11', 'feature_12', 'feature_13', 'feature_14',\n",
       "       'feature_15', 'feature_16', 'feature_17', 'feature_18', 'feature_19',\n",
       "       'feature_20', 'feature_21', 'feature_22', 'feature_23', 'feature_24',\n",
       "       'timestamp', 'sessionID'],\n",
       "      dtype='object')"
      ]
     },
     "execution_count": 23,
     "metadata": {},
     "output_type": "execute_result"
    }
   ],
   "execution_count": 23
  },
  {
   "metadata": {
    "ExecuteTime": {
     "end_time": "2024-09-26T18:59:49.978342Z",
     "start_time": "2024-09-26T18:59:48.214153Z"
    }
   },
   "cell_type": "code",
   "source": "df = pd.read_csv('location1.csv').iloc[:10000]",
   "id": "a22cac3918c3e1b2",
   "outputs": [],
   "execution_count": 24
  },
  {
   "metadata": {
    "ExecuteTime": {
     "end_time": "2024-09-26T19:00:04.098142Z",
     "start_time": "2024-09-26T19:00:03.946389Z"
    }
   },
   "cell_type": "code",
   "source": "df.to_csv('onboarding_sample.csv', index=False)",
   "id": "9e55296709005ca5",
   "outputs": [],
   "execution_count": 25
  },
  {
   "metadata": {
    "ExecuteTime": {
     "end_time": "2024-09-26T19:45:20.536113Z",
     "start_time": "2024-09-26T19:45:20.362827Z"
    }
   },
   "cell_type": "code",
   "source": [
    "import pickle\n",
    "q = pickle.load(open('runtime_conf.pkl','rb'))"
   ],
   "id": "27337a17bed61473",
   "outputs": [],
   "execution_count": 26
  },
  {
   "metadata": {
    "ExecuteTime": {
     "end_time": "2024-09-26T19:49:09.242487Z",
     "start_time": "2024-09-26T19:49:09.235344Z"
    }
   },
   "cell_type": "code",
   "source": [
    "from actions.dg.train import TrainTimeGAN\n",
    "r = TrainTimeGAN(rf.converter.unstructure(q.actions['train-time-gan'].config()))"
   ],
   "id": "b6ec062f7e3dc5ae",
   "outputs": [],
   "execution_count": 37
  },
  {
   "metadata": {
    "ExecuteTime": {
     "end_time": "2024-09-26T19:49:12.795093Z",
     "start_time": "2024-09-26T19:49:12.792724Z"
    }
   },
   "cell_type": "code",
   "source": "r",
   "id": "513302f8037f8aa4",
   "outputs": [
    {
     "data": {
      "text/plain": [
       "<actions.dg.train.TrainTimeGAN at 0x38f1cec10>"
      ]
     },
     "execution_count": 38,
     "metadata": {},
     "output_type": "execute_result"
    }
   ],
   "execution_count": 38
  },
  {
   "metadata": {
    "ExecuteTime": {
     "end_time": "2024-09-26T19:49:22.187526Z",
     "start_time": "2024-09-26T19:49:22.184610Z"
    }
   },
   "cell_type": "code",
   "source": "q",
   "id": "db8edd15011cff2e",
   "outputs": [
    {
     "data": {
      "text/plain": [
       "<rockfish.workflow.WorkflowBuilder at 0x349d77f50>"
      ]
     },
     "execution_count": 39,
     "metadata": {},
     "output_type": "execute_result"
    }
   ],
   "execution_count": 39
  },
  {
   "metadata": {
    "ExecuteTime": {
     "end_time": "2024-09-26T19:49:48.877411Z",
     "start_time": "2024-09-26T19:49:48.875390Z"
    }
   },
   "cell_type": "code",
   "source": "q.actions['train-time-gan'] = r",
   "id": "2ecbb6f1736249d7",
   "outputs": [],
   "execution_count": 41
  },
  {
   "metadata": {
    "ExecuteTime": {
     "end_time": "2024-09-26T19:49:55.634199Z",
     "start_time": "2024-09-26T19:49:55.632142Z"
    }
   },
   "cell_type": "code",
   "source": "q.actions",
   "id": "c68e2482135680d9",
   "outputs": [
    {
     "data": {
      "text/plain": [
       "{'datastream-load': <rockfish.actions.datastream.DatastreamLoad at 0x33ee895d0>,\n",
       " 'train-time-gan': <actions.dg.train.TrainTimeGAN at 0x38f1cec10>}"
      ]
     },
     "execution_count": 43,
     "metadata": {},
     "output_type": "execute_result"
    }
   ],
   "execution_count": 43
  },
  {
   "metadata": {
    "ExecuteTime": {
     "end_time": "2024-09-26T19:50:32.069375Z",
     "start_time": "2024-09-26T19:50:32.067099Z"
    }
   },
   "cell_type": "code",
   "source": "pickle.dump(q, open('runtime_conf.pkl','wb'))",
   "id": "1fa30c7c9e9dd1ff",
   "outputs": [],
   "execution_count": 44
  },
  {
   "metadata": {
    "ExecuteTime": {
     "end_time": "2024-09-26T19:51:57.612155Z",
     "start_time": "2024-09-26T19:51:57.610275Z"
    }
   },
   "cell_type": "code",
   "source": "r",
   "id": "b87424ccbdfe3a5e",
   "outputs": [
    {
     "data": {
      "text/plain": [
       "<actions.dg.train.TrainTimeGAN at 0x38f1cec10>"
      ]
     },
     "execution_count": 45,
     "metadata": {},
     "output_type": "execute_result"
    }
   ],
   "execution_count": 45
  },
  {
   "metadata": {
    "ExecuteTime": {
     "end_time": "2024-09-26T20:19:55.752032Z",
     "start_time": "2024-09-26T20:18:55.246423Z"
    }
   },
   "cell_type": "code",
   "source": [
    "from rockfish.events import LogLevel\n",
    "builder = rf.WorkflowBuilder()\n",
    "builder.add_path(rf.Dataset.from_csv('he', 'location1.csv'), r)\n",
    "workflow = await builder.start(rf.Connection.local())\n",
    "async for log in workflow.logs(level=LogLevel.DEBUG):\n",
    "    print(log)"
   ],
   "id": "5d45c11b36f1fb6",
   "outputs": [
    {
     "name": "stdout",
     "output_type": "stream",
     "text": [
      "2024-09-26T20:18:55.357578Z dataset-load: INFO Loading dataset 'Y07byMzJiv0Z4VugaHeRL' with 1002240 rows\n",
      "2024-09-26T20:18:55.389857Z train-time-gan: DEBUG Training on mps:1\n",
      "2024-09-26T20:19:00.588911Z train-time-gan: INFO Starting DG training job\n",
      "2024-09-26T20:19:13.548179Z train-time-gan: DEBUG Epoch 1, g_loss_d: -3.8544, g_loss: -2.7139, d_loss_fake:  3.9665, d_loss_real: -1292.2047, d_loss_gp:  59.7385, d_loss: -690.8535, g_loss_attr_d:  1.1405, attr_d_loss_fake: -1.0972, attr_d_loss_real:  0.3274, attr_d_loss_gp:  0.0143, attr_d_loss: -0.6272\n",
      "2024-09-26T20:19:13.551315Z train-time-gan: INFO Epoch 1 completed.\n",
      "2024-09-26T20:19:24.267152Z train-time-gan: DEBUG Epoch 2, g_loss_d: -3.7732, g_loss: -1.1264, d_loss_fake:  3.7545, d_loss_real: -1175.9513, d_loss_gp:  51.4496, d_loss: -657.7007, g_loss_attr_d:  2.6468, attr_d_loss_fake: -2.6076, attr_d_loss_real:  1.3635, attr_d_loss_gp:  0.0038, attr_d_loss: -1.2058\n",
      "2024-09-26T20:19:24.269799Z train-time-gan: INFO Epoch 2 completed.\n",
      "2024-09-26T20:19:34.872288Z train-time-gan: DEBUG Epoch 3, g_loss_d: -4.2275, g_loss: -1.2382, d_loss_fake:  4.2186, d_loss_real: -1170.7190, d_loss_gp:  51.1679, d_loss: -654.8218, g_loss_attr_d:  2.9893, attr_d_loss_fake: -2.9867, attr_d_loss_real:  1.7831, attr_d_loss_gp:  0.0035, attr_d_loss: -1.1687\n",
      "2024-09-26T20:19:34.874834Z train-time-gan: INFO Epoch 3 completed.\n",
      "2024-09-26T20:19:45.325473Z train-time-gan: DEBUG Epoch 4, g_loss_d: -3.7267, g_loss: -0.7351, d_loss_fake:  3.7224, d_loss_real: -1177.3925, d_loss_gp:  51.5546, d_loss: -658.1241, g_loss_attr_d:  2.9915, attr_d_loss_fake: -3.0643, attr_d_loss_real:  1.9192, attr_d_loss_gp:  0.0051, attr_d_loss: -1.0941\n",
      "2024-09-26T20:19:45.327966Z train-time-gan: INFO Epoch 4 completed.\n"
     ]
    },
    {
     "ename": "CancelledError",
     "evalue": "",
     "output_type": "error",
     "traceback": [
      "\u001B[0;31m---------------------------------------------------------------------------\u001B[0m",
      "\u001B[0;31mCancelledError\u001B[0m                            Traceback (most recent call last)",
      "Cell \u001B[0;32mIn[53], line 5\u001B[0m\n\u001B[1;32m      3\u001B[0m builder\u001B[38;5;241m.\u001B[39madd_path(rf\u001B[38;5;241m.\u001B[39mDataset\u001B[38;5;241m.\u001B[39mfrom_csv(\u001B[38;5;124m'\u001B[39m\u001B[38;5;124mhe\u001B[39m\u001B[38;5;124m'\u001B[39m, \u001B[38;5;124m'\u001B[39m\u001B[38;5;124mlocation1.csv\u001B[39m\u001B[38;5;124m'\u001B[39m), r)\n\u001B[1;32m      4\u001B[0m workflow \u001B[38;5;241m=\u001B[39m \u001B[38;5;28;01mawait\u001B[39;00m builder\u001B[38;5;241m.\u001B[39mstart(rf\u001B[38;5;241m.\u001B[39mConnection\u001B[38;5;241m.\u001B[39mlocal())\n\u001B[0;32m----> 5\u001B[0m \u001B[38;5;28;01masync\u001B[39;00m \u001B[38;5;28;01mfor\u001B[39;00m log \u001B[38;5;129;01min\u001B[39;00m workflow\u001B[38;5;241m.\u001B[39mlogs(level\u001B[38;5;241m=\u001B[39mLogLevel\u001B[38;5;241m.\u001B[39mDEBUG):\n\u001B[1;32m      6\u001B[0m     \u001B[38;5;28mprint\u001B[39m(log)\n",
      "File \u001B[0;32m~/rockfish/rockfish-sdk/sdk-cuddlefish-venv/lib/python3.11/site-packages/rockfish/streams.py:312\u001B[0m, in \u001B[0;36mStream.__anext__\u001B[0;34m(self)\u001B[0m\n\u001B[1;32m    311\u001B[0m \u001B[38;5;28;01masync\u001B[39;00m \u001B[38;5;28;01mdef\u001B[39;00m \u001B[38;5;21m__anext__\u001B[39m(\u001B[38;5;28mself\u001B[39m) \u001B[38;5;241m-\u001B[39m\u001B[38;5;241m>\u001B[39m T:\n\u001B[0;32m--> 312\u001B[0m     \u001B[38;5;28;01mreturn\u001B[39;00m \u001B[38;5;28;01mawait\u001B[39;00m \u001B[38;5;28mself\u001B[39m\u001B[38;5;241m.\u001B[39miter\u001B[38;5;241m.\u001B[39m\u001B[38;5;21m__anext__\u001B[39m()\n",
      "File \u001B[0;32m~/rockfish/rockfish-sdk/sdk-cuddlefish-venv/lib/python3.11/site-packages/rockfish/local/workflow.py:219\u001B[0m, in \u001B[0;36mWorkflow.logs.<locals>.inner\u001B[0;34m(*names)\u001B[0m\n\u001B[1;32m    217\u001B[0m \u001B[38;5;28;01masync\u001B[39;00m \u001B[38;5;28;01mdef\u001B[39;00m \u001B[38;5;21minner\u001B[39m(\u001B[38;5;241m*\u001B[39mnames):\n\u001B[1;32m    218\u001B[0m     \u001B[38;5;28;01masync\u001B[39;00m \u001B[38;5;28;01mwith\u001B[39;00m aclosing(\u001B[38;5;28mself\u001B[39m\u001B[38;5;241m.\u001B[39mevents(\u001B[38;5;241m*\u001B[39mnames)) \u001B[38;5;28;01mas\u001B[39;00m events:\n\u001B[0;32m--> 219\u001B[0m         \u001B[38;5;28;01masync\u001B[39;00m \u001B[38;5;28;01mfor\u001B[39;00m event \u001B[38;5;129;01min\u001B[39;00m events:\n\u001B[1;32m    220\u001B[0m             \u001B[38;5;28;01mif\u001B[39;00m EventType\u001B[38;5;241m.\u001B[39mLOG \u001B[38;5;241m!=\u001B[39m event\u001B[38;5;241m.\u001B[39mtype:\n\u001B[1;32m    221\u001B[0m                 \u001B[38;5;28;01mcontinue\u001B[39;00m\n",
      "File \u001B[0;32m~/rockfish/rockfish-sdk/sdk-cuddlefish-venv/lib/python3.11/site-packages/rockfish/streams.py:312\u001B[0m, in \u001B[0;36mStream.__anext__\u001B[0;34m(self)\u001B[0m\n\u001B[1;32m    311\u001B[0m \u001B[38;5;28;01masync\u001B[39;00m \u001B[38;5;28;01mdef\u001B[39;00m \u001B[38;5;21m__anext__\u001B[39m(\u001B[38;5;28mself\u001B[39m) \u001B[38;5;241m-\u001B[39m\u001B[38;5;241m>\u001B[39m T:\n\u001B[0;32m--> 312\u001B[0m     \u001B[38;5;28;01mreturn\u001B[39;00m \u001B[38;5;28;01mawait\u001B[39;00m \u001B[38;5;28mself\u001B[39m\u001B[38;5;241m.\u001B[39miter\u001B[38;5;241m.\u001B[39m\u001B[38;5;21m__anext__\u001B[39m()\n",
      "File \u001B[0;32m~/rockfish/rockfish-sdk/sdk-cuddlefish-venv/lib/python3.11/site-packages/rockfish/local/workflow.py:182\u001B[0m, in \u001B[0;36mWorkflow.events.<locals>.inner\u001B[0;34m(*names)\u001B[0m\n\u001B[1;32m    180\u001B[0m streams \u001B[38;5;241m=\u001B[39m [\u001B[38;5;28mself\u001B[39m\u001B[38;5;241m.\u001B[39m_job_events(name\u001B[38;5;241m=\u001B[39mname) \u001B[38;5;28;01mfor\u001B[39;00m name \u001B[38;5;129;01min\u001B[39;00m names]\n\u001B[1;32m    181\u001B[0m \u001B[38;5;28;01masync\u001B[39;00m \u001B[38;5;28;01mwith\u001B[39;00m Merger() \u001B[38;5;28;01mas\u001B[39;00m merger:\n\u001B[0;32m--> 182\u001B[0m     \u001B[38;5;28;01masync\u001B[39;00m \u001B[38;5;28;01mfor\u001B[39;00m event \u001B[38;5;129;01min\u001B[39;00m merger\u001B[38;5;241m.\u001B[39mmerge(\u001B[38;5;241m*\u001B[39mstreams):\n\u001B[1;32m    183\u001B[0m         \u001B[38;5;28;01myield\u001B[39;00m event\n",
      "File \u001B[0;32m~/rockfish/rockfish-sdk/sdk-cuddlefish-venv/lib/python3.11/site-packages/rockfish/streams.py:53\u001B[0m, in \u001B[0;36mMerger.merge\u001B[0;34m(self, *agens)\u001B[0m\n\u001B[1;32m     51\u001B[0m pending \u001B[38;5;241m=\u001B[39m {\u001B[38;5;28mself\u001B[39m\u001B[38;5;241m.\u001B[39mcreate_task(anext(agens)) \u001B[38;5;28;01mfor\u001B[39;00m agens \u001B[38;5;129;01min\u001B[39;00m agens}\n\u001B[1;32m     52\u001B[0m \u001B[38;5;28;01mwhile\u001B[39;00m pending:\n\u001B[0;32m---> 53\u001B[0m     done, pending \u001B[38;5;241m=\u001B[39m \u001B[38;5;28;01mawait\u001B[39;00m asyncio\u001B[38;5;241m.\u001B[39mwait(\n\u001B[1;32m     54\u001B[0m         pending, return_when\u001B[38;5;241m=\u001B[39masyncio\u001B[38;5;241m.\u001B[39mFIRST_COMPLETED\n\u001B[1;32m     55\u001B[0m     )\n\u001B[1;32m     56\u001B[0m     \u001B[38;5;28;01mfor\u001B[39;00m task \u001B[38;5;129;01min\u001B[39;00m done:\n\u001B[1;32m     57\u001B[0m         \u001B[38;5;28mself\u001B[39m\u001B[38;5;241m.\u001B[39mtasks\u001B[38;5;241m.\u001B[39mdiscard(task)\n",
      "File \u001B[0;32m/opt/homebrew/Cellar/python@3.11/3.11.10/Frameworks/Python.framework/Versions/3.11/lib/python3.11/asyncio/tasks.py:428\u001B[0m, in \u001B[0;36mwait\u001B[0;34m(fs, timeout, return_when)\u001B[0m\n\u001B[1;32m    425\u001B[0m     \u001B[38;5;28;01mraise\u001B[39;00m \u001B[38;5;167;01mTypeError\u001B[39;00m(\u001B[38;5;124m\"\u001B[39m\u001B[38;5;124mPassing coroutines is forbidden, use tasks explicitly.\u001B[39m\u001B[38;5;124m\"\u001B[39m)\n\u001B[1;32m    427\u001B[0m loop \u001B[38;5;241m=\u001B[39m events\u001B[38;5;241m.\u001B[39mget_running_loop()\n\u001B[0;32m--> 428\u001B[0m \u001B[38;5;28;01mreturn\u001B[39;00m \u001B[38;5;28;01mawait\u001B[39;00m _wait(fs, timeout, return_when, loop)\n",
      "File \u001B[0;32m/opt/homebrew/Cellar/python@3.11/3.11.10/Frameworks/Python.framework/Versions/3.11/lib/python3.11/asyncio/tasks.py:535\u001B[0m, in \u001B[0;36m_wait\u001B[0;34m(fs, timeout, return_when, loop)\u001B[0m\n\u001B[1;32m    532\u001B[0m     f\u001B[38;5;241m.\u001B[39madd_done_callback(_on_completion)\n\u001B[1;32m    534\u001B[0m \u001B[38;5;28;01mtry\u001B[39;00m:\n\u001B[0;32m--> 535\u001B[0m     \u001B[38;5;28;01mawait\u001B[39;00m waiter\n\u001B[1;32m    536\u001B[0m \u001B[38;5;28;01mfinally\u001B[39;00m:\n\u001B[1;32m    537\u001B[0m     \u001B[38;5;28;01mif\u001B[39;00m timeout_handle \u001B[38;5;129;01mis\u001B[39;00m \u001B[38;5;129;01mnot\u001B[39;00m \u001B[38;5;28;01mNone\u001B[39;00m:\n",
      "\u001B[0;31mCancelledError\u001B[0m: "
     ]
    }
   ],
   "execution_count": 53
  },
  {
   "metadata": {
    "ExecuteTime": {
     "end_time": "2024-09-26T20:14:06.990990Z",
     "start_time": "2024-09-26T20:14:06.988737Z"
    }
   },
   "cell_type": "code",
   "source": "await workflow.stop()",
   "id": "43157d17dbefd7d5",
   "outputs": [],
   "execution_count": 51
  },
  {
   "metadata": {
    "ExecuteTime": {
     "end_time": "2024-09-26T21:02:26.959690Z",
     "start_time": "2024-09-26T21:02:25.232686Z"
    }
   },
   "cell_type": "code",
   "source": "df = pd.read_csv('location1.csv')",
   "id": "8395ab5067804a5",
   "outputs": [],
   "execution_count": 56
  },
  {
   "metadata": {
    "ExecuteTime": {
     "end_time": "2024-09-26T19:53:37.432739Z",
     "start_time": "2024-09-26T19:53:37.263566Z"
    }
   },
   "cell_type": "code",
   "source": "df.fillna(0, inplace=True)",
   "id": "d49988bd4bb3d8d",
   "outputs": [],
   "execution_count": 48
  },
  {
   "metadata": {
    "ExecuteTime": {
     "end_time": "2024-09-26T19:53:54.570159Z",
     "start_time": "2024-09-26T19:53:41.939067Z"
    }
   },
   "cell_type": "code",
   "source": "df.to_csv('location1.csv', index=False)",
   "id": "3c1c0bde12f1801a",
   "outputs": [],
   "execution_count": 49
  },
  {
   "metadata": {
    "ExecuteTime": {
     "end_time": "2024-09-26T20:26:21.127025Z",
     "start_time": "2024-09-26T20:26:21.117354Z"
    }
   },
   "cell_type": "code",
   "source": "conn = rf.Connection.from_config()",
   "id": "82e0ad8bba09e9fd",
   "outputs": [],
   "execution_count": 54
  },
  {
   "metadata": {
    "ExecuteTime": {
     "end_time": "2024-09-26T20:26:38.624548Z",
     "start_time": "2024-09-26T20:26:38.475501Z"
    }
   },
   "cell_type": "code",
   "source": "(await conn.get_workflow('5r4AlW5j3m6WgwTngF5xuZ')).stop()",
   "id": "ae1c9c9b27f4855",
   "outputs": [
    {
     "data": {
      "text/plain": [
       "<coroutine object Workflow.stop at 0x14f3e60a0>"
      ]
     },
     "execution_count": 55,
     "metadata": {},
     "output_type": "execute_result"
    }
   ],
   "execution_count": 55
  },
  {
   "metadata": {
    "ExecuteTime": {
     "end_time": "2024-09-26T21:02:32.977263Z",
     "start_time": "2024-09-26T21:02:32.973678Z"
    }
   },
   "cell_type": "code",
   "source": "df.sessionID.max()",
   "id": "7cab5719c986f9fa",
   "outputs": [
    {
     "data": {
      "text/plain": [
       "696"
      ]
     },
     "execution_count": 57,
     "metadata": {},
     "output_type": "execute_result"
    }
   ],
   "execution_count": 57
  },
  {
   "metadata": {
    "ExecuteTime": {
     "end_time": "2024-09-26T21:03:44.309343Z",
     "start_time": "2024-09-26T21:03:44.305467Z"
    }
   },
   "cell_type": "code",
   "source": "df[df.sessionID == 100].index",
   "id": "3ff6052ac05505e1",
   "outputs": [
    {
     "data": {
      "text/plain": [
       "Index([142560, 142561, 142562, 142563, 142564, 142565, 142566, 142567, 142568,\n",
       "       142569,\n",
       "       ...\n",
       "       143990, 143991, 143992, 143993, 143994, 143995, 143996, 143997, 143998,\n",
       "       143999],\n",
       "      dtype='int64', length=1440)"
      ]
     },
     "execution_count": 58,
     "metadata": {},
     "output_type": "execute_result"
    }
   ],
   "execution_count": 58
  },
  {
   "metadata": {
    "ExecuteTime": {
     "end_time": "2024-09-26T21:04:17.304806Z",
     "start_time": "2024-09-26T21:04:17.302548Z"
    }
   },
   "cell_type": "code",
   "source": "len(df)",
   "id": "19d8048da891def3",
   "outputs": [
    {
     "data": {
      "text/plain": [
       "1002240"
      ]
     },
     "execution_count": 59,
     "metadata": {},
     "output_type": "execute_result"
    }
   ],
   "execution_count": 59
  },
  {
   "metadata": {
    "ExecuteTime": {
     "end_time": "2024-09-26T21:09:11.079872Z",
     "start_time": "2024-09-26T21:09:11.053645Z"
    }
   },
   "cell_type": "code",
   "source": "df.iloc[:1000].to_csv('locationx.csv', index=False)",
   "id": "4d24d2e851e9fe08",
   "outputs": [],
   "execution_count": 64
  },
  {
   "metadata": {},
   "cell_type": "code",
   "outputs": [],
   "execution_count": null,
   "source": "",
   "id": "e168b244aef91e8c"
  }
 ],
 "metadata": {
  "kernelspec": {
   "display_name": "Python 3",
   "language": "python",
   "name": "python3"
  },
  "language_info": {
   "codemirror_mode": {
    "name": "ipython",
    "version": 2
   },
   "file_extension": ".py",
   "mimetype": "text/x-python",
   "name": "python",
   "nbconvert_exporter": "python",
   "pygments_lexer": "ipython2",
   "version": "2.7.6"
  }
 },
 "nbformat": 4,
 "nbformat_minor": 5
}
