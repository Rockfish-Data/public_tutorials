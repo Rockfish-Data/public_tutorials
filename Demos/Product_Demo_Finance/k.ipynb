{
 "cells": [
  {
   "cell_type": "code",
   "id": "initial_id",
   "metadata": {
    "collapsed": true,
    "ExecuteTime": {
     "end_time": "2024-09-11T23:18:15.967072Z",
     "start_time": "2024-09-11T23:18:15.383074Z"
    }
   },
   "source": "import pandas as pd",
   "outputs": [],
   "execution_count": 1
  },
  {
   "metadata": {
    "ExecuteTime": {
     "end_time": "2024-09-11T23:20:03.622872Z",
     "start_time": "2024-09-11T23:20:03.606814Z"
    }
   },
   "cell_type": "code",
   "source": [
    "df = pd.read_csv('./chunk5D_bucket4.csv')\n",
    "df.fraud.value_counts()"
   ],
   "id": "99e698c270a24835",
   "outputs": [
    {
     "data": {
      "text/plain": [
       "fraud\n",
       "0    6907\n",
       "1      72\n",
       "Name: count, dtype: int64"
      ]
     },
     "execution_count": 23,
     "metadata": {},
     "output_type": "execute_result"
    }
   ],
   "execution_count": 23
  },
  {
   "metadata": {},
   "cell_type": "code",
   "outputs": [],
   "execution_count": null,
   "source": "    ",
   "id": "2e360ee015e6296d"
  }
 ],
 "metadata": {
  "kernelspec": {
   "display_name": "Python 3",
   "language": "python",
   "name": "python3"
  },
  "language_info": {
   "codemirror_mode": {
    "name": "ipython",
    "version": 2
   },
   "file_extension": ".py",
   "mimetype": "text/x-python",
   "name": "python",
   "nbconvert_exporter": "python",
   "pygments_lexer": "ipython2",
   "version": "2.7.6"
  }
 },
 "nbformat": 4,
 "nbformat_minor": 5
}
