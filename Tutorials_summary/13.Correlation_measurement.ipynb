{
  "cells": [
    {
      "cell_type": "code",
      "execution_count": null,
      "metadata": {
        "colab": {
          "background_save": true
        },
        "id": "QjpOYZGJGrhm"
      },
      "outputs": [],
      "source": [
        "%%capture\n",
        "%pip install -U 'rockfish[labs]' -f 'https://docs142.rockfish.ai/packages/index.html'"
      ]
    },
    {
      "cell_type": "code",
      "execution_count": null,
      "metadata": {
        "id": "9Mk3PoHeG6GP"
      },
      "outputs": [],
      "source": [
        "import pandas as pd\n",
        "import numpy as np\n",
        "\n",
        "import rockfish as rf\n",
        "import rockfish.labs"
      ]
    },
    {
      "cell_type": "code",
      "execution_count": null,
      "metadata": {
        "id": "LGAAbxn_G6Dm"
      },
      "outputs": [],
      "source": [
        "# Create a random sample datasets with 2 numerical columns and 2 categorical columns\n",
        "np.random.seed(42)\n",
        "def generate_random_data(num_rows):\n",
        "    numerical_col1 = np.random.rand(num_rows) * 100\n",
        "    numerical_col2 = np.random.randn(num_rows) * 10\n",
        "    categorical_col1 = np.random.choice(['A', 'B', 'C'], num_rows)\n",
        "    categorical_col2 = np.random.choice(['X', 'Y', 'Z'], num_rows)\n",
        "\n",
        "    data = {\n",
        "        'numerical_1': numerical_col1,\n",
        "        'numerical_2': numerical_col2,\n",
        "        'categorical_1': categorical_col1,\n",
        "        'categorical_2': categorical_col2\n",
        "    }\n",
        "\n",
        "    return pd.DataFrame(data)\n",
        "\n",
        "dataset = rf.Dataset.from_pandas(\"sample\", generate_random_data(100))\n",
        "dataset.to_pandas()"
      ]
    },
    {
      "cell_type": "markdown",
      "metadata": {
        "id": "XCIGZlR4Ib4K"
      },
      "source": [
        "# Pearson correlation"
      ]
    },
    {
      "cell_type": "code",
      "execution_count": null,
      "metadata": {
        "id": "_yA9-VjnG6BR"
      },
      "outputs": [],
      "source": [
        "rf.labs.metrics.pearsonr(dataset, \"numerical_1\", \"numerical_2\").to_pandas()"
      ]
    },
    {
      "cell_type": "markdown",
      "metadata": {
        "id": "DVHPIE3lIflY"
      },
      "source": [
        "# Cramer's V"
      ]
    },
    {
      "cell_type": "code",
      "execution_count": null,
      "metadata": {
        "id": "iU8BKegvHmFX"
      },
      "outputs": [],
      "source": [
        "# with bias correction\n",
        "rf.labs.metrics.cramer_v(dataset, \"categorical_1\", \"categorical_2\", correction = True)"
      ]
    },
    {
      "cell_type": "code",
      "execution_count": null,
      "metadata": {
        "id": "0l4CKZh6IXt-"
      },
      "outputs": [],
      "source": [
        "# without bias correction\n",
        "rf.labs.metrics.cramer_v(dataset, \"categorical_1\", \"categorical_2\", correction = False)"
      ]
    }
  ],
  "metadata": {
    "colab": {
      "provenance": []
    },
    "kernelspec": {
      "display_name": "Python 3",
      "name": "python3"
    },
    "language_info": {
      "name": "python"
    }
  },
  "nbformat": 4,
  "nbformat_minor": 0
}