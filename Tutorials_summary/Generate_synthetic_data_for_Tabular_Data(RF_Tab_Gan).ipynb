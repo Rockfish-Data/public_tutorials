{
  "cells": [
    {
      "cell_type": "code",
      "execution_count": null,
      "id": "7fc3ca7c",
      "metadata": {
        "id": "7fc3ca7c"
      },
      "outputs": [],
      "source": [
        "%%capture\n",
        "%pip install -U 'rockfish[labs]' -f 'https://docs142.rockfish.ai/packages/index.html'"
      ]
    },
    {
      "cell_type": "code",
      "execution_count": null,
      "id": "3e19aac9",
      "metadata": {
        "id": "3e19aac9"
      },
      "outputs": [],
      "source": [
        "import rockfish as rf\n",
        "import rockfish.actions as ra\n",
        "import rockfish.labs as rl"
      ]
    },
    {
      "cell_type": "markdown",
      "id": "ca37b84b",
      "metadata": {},
      "source": [
        "Please replace `YOUR_API_KEY` with the assigned API key string. Note that it should be without quotes.\n",
        "\n",
        "For example, if the assigned API Key is `abcd1234`, you can do the following\n",
        "```python\n",
        "%env ROCKFISH_API_KEY=abcd1234\n",
        "conn = rf.Connection.from_env()\n",
        "```\n",
        "If you do not have API Key, please reach out to support@rockfish.ai."
      ]
    },
    {
      "cell_type": "code",
      "execution_count": null,
      "id": "9d1e2d31",
      "metadata": {
        "id": "9d1e2d31"
      },
      "outputs": [],
      "source": [
        "%env ROCKFISH_API_KEY=YOUR_API_KEY\n",
        "conn = rf.Connection.from_env()"
      ]
    },
    {
      "cell_type": "code",
      "execution_count": null,
      "id": "a9274584",
      "metadata": {
        "id": "a9274584"
      },
      "outputs": [],
      "source": [
        "# download our example of tabular data: fall_detection.csv\n",
        "!wget --no-clobber https://docs142.rockfish.ai/tutorials/fall_detection.csv"
      ]
    },
    {
      "cell_type": "code",
      "execution_count": null,
      "id": "52dce54d",
      "metadata": {
        "id": "52dce54d"
      },
      "outputs": [],
      "source": [
        "dataset = rf.Dataset.from_csv(\"fall_detection\", \"fall_detection.csv\")\n",
        "dataset.to_pandas()"
      ]
    },
    {
      "cell_type": "code",
      "execution_count": null,
      "id": "6a60ea1c",
      "metadata": {},
      "outputs": [],
      "source": [
        "# user can manually provide a list of categorical column names\n",
        "categorical_fields = (\n",
        "    dataset.to_pandas().select_dtypes(include=[\"object\"]).columns\n",
        ")  \n",
        "config = {\n",
        "    \"encoder\": {\n",
        "        \"metadata\": [\n",
        "            {\"field\": field, \"type\": \"categorical\"} for field in categorical_fields\n",
        "        ]\n",
        "        + [\n",
        "            {\"field\": field, \"type\": \"continuous\"}\n",
        "            for field in dataset.table.column_names\n",
        "            if field not in categorical_fields\n",
        "        ],\n",
        "    },\n",
        "    \"tabular-gan\": {\n",
        "        \"epochs\": 100,\n",
        "        \"records\": 2582,\n",
        "    },\n",
        "}\n",
        "# create train action\n",
        "train = ra.TrainTabGAN(config)"
      ]
    },
    {
      "cell_type": "code",
      "execution_count": null,
      "id": "1347f248",
      "metadata": {
        "id": "1347f248"
      },
      "outputs": [],
      "source": [
        "builder = rf.WorkflowBuilder()\n",
        "builder.add_dataset(dataset)\n",
        "builder.add_action(train, parents=[dataset])\n",
        "workflow = await builder.start(conn)\n",
        "\n",
        "print(f\"Workflow: {workflow.id()}\")"
      ]
    },
    {
      "cell_type": "code",
      "execution_count": null,
      "id": "0f113aed",
      "metadata": {
        "id": "0f113aed"
      },
      "outputs": [],
      "source": [
        "async for progress in workflow.progress().notebook():\n",
        "    pass"
      ]
    },
    {
      "cell_type": "code",
      "execution_count": null,
      "id": "8071d86e",
      "metadata": {
        "id": "8071d86e"
      },
      "outputs": [],
      "source": [
        "model = await workflow.models().nth(0)\n",
        "model"
      ]
    },
    {
      "cell_type": "code",
      "execution_count": null,
      "id": "4eb3c65d",
      "metadata": {
        "id": "4eb3c65d"
      },
      "outputs": [],
      "source": [
        "generate = ra.GenerateTabGAN(config)\n",
        "save = ra.DatasetSave({\"name\": \"synthetic\"})\n",
        "builder = rf.WorkflowBuilder()\n",
        "builder.add_model(model)\n",
        "builder.add_action(generate, parents=[model])\n",
        "builder.add_action(save, parents=[generate])\n",
        "workflow = await builder.start(conn)\n",
        "print(f\"Workflow: {workflow.id()}\")"
      ]
    },
    {
      "cell_type": "code",
      "execution_count": null,
      "id": "9acac3ec",
      "metadata": {},
      "outputs": [],
      "source": [
        "async for log in workflow.logs():\n",
        "    print(log)"
      ]
    },
    {
      "cell_type": "code",
      "execution_count": null,
      "id": "689b00b9",
      "metadata": {
        "id": "689b00b9"
      },
      "outputs": [],
      "source": [
        "syn = None\n",
        "async for sds in workflow.datasets():\n",
        "    syn = await sds.to_local(conn)\n",
        "syn.to_pandas()"
      ]
    },
    {
      "cell_type": "markdown",
      "id": "5f16385a",
      "metadata": {
        "id": "5f16385a"
      },
      "source": [
        "### Evaluation"
      ]
    },
    {
      "cell_type": "markdown",
      "id": "31ab12cb",
      "metadata": {
        "id": "31ab12cb"
      },
      "source": [
        "**1. categorical columns**"
      ]
    },
    {
      "cell_type": "code",
      "execution_count": null,
      "id": "22fea68f",
      "metadata": {
        "id": "22fea68f"
      },
      "outputs": [],
      "source": [
        "for col in [\"Age range of patient\", \"Sex\"]:\n",
        "    source_agg = rf.metrics.count_all(dataset, col, nlargest=10)\n",
        "    syn_agg = rf.metrics.count_all(syn, col, nlargest=10)\n",
        "    rl.vis.plot_bar([source_agg, syn_agg], col, f\"{col}_count\")"
      ]
    },
    {
      "cell_type": "markdown",
      "id": "838e59fe",
      "metadata": {
        "id": "838e59fe"
      },
      "source": [
        "**2. numerical columns**"
      ]
    },
    {
      "cell_type": "code",
      "execution_count": null,
      "id": "a39fa972",
      "metadata": {
        "id": "a39fa972"
      },
      "outputs": [],
      "source": [
        "for col in [\"BBS Score\", \"Body Temperature\"]:\n",
        "    rl.vis.plot_kde([dataset, syn], col)"
      ]
    },
    {
      "cell_type": "markdown",
      "id": "d0ed9a62",
      "metadata": {
        "id": "d0ed9a62"
      },
      "source": [
        "**3. correlation between numerical columns**"
      ]
    },
    {
      "cell_type": "code",
      "execution_count": null,
      "id": "e69f05b6",
      "metadata": {
        "id": "e69f05b6"
      },
      "outputs": [],
      "source": [
        "col1 = \"SBP\"\n",
        "col2 = \"DBP\"\n",
        "rl.vis.plot_correlation([dataset, syn], col1, col2, alpha=0.5)"
      ]
    },
    {
      "cell_type": "markdown",
      "id": "6308d280",
      "metadata": {
        "id": "6308d280"
      },
      "source": [
        "**4. correlation heatmap between several numerical columns**"
      ]
    },
    {
      "cell_type": "code",
      "execution_count": null,
      "id": "a8b7e864",
      "metadata": {
        "id": "a8b7e864"
      },
      "outputs": [],
      "source": [
        "n_cols = [\"Body Temperature\", \"SBP\", \"BBS Score\", \"DBP\", \"Heart Rate\"]\n",
        "rl.vis.plot_correlation_heatmap([dataset, syn], n_cols, annot=True, fmt=\".2f\")"
      ]
    }
  ],
  "metadata": {
    "colab": {
      "provenance": []
    },
    "jupytext": {
      "main_language": "python"
    },
    "kernelspec": {
      "display_name": "Python 3",
      "name": "python3"
    },
    "language_info": {
      "codemirror_mode": {
        "name": "ipython",
        "version": 3
      },
      "file_extension": ".py",
      "mimetype": "text/x-python",
      "name": "python",
      "nbconvert_exporter": "python",
      "pygments_lexer": "ipython3",
      "version": "3.12.4"
    }
  },
  "nbformat": 4,
  "nbformat_minor": 5
}
