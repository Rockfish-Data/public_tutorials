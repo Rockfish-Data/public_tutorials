{
  "cells": [
    {
      "cell_type": "code",
      "execution_count": null,
      "metadata": {
        "id": "stbqdblitl0I"
      },
      "outputs": [],
      "source": [
        "%%capture\n",
        "%pip install -U 'rockfish[labs]' -f 'https://docs142.rockfish.ai/packages/index.html'"
      ]
    },
    {
      "cell_type": "code",
      "execution_count": null,
      "metadata": {
        "id": "BmVEKaBDtl0J"
      },
      "outputs": [],
      "source": [
        "import rockfish as rf\n",
        "import rockfish.actions as ra"
      ]
    },
    {
      "cell_type": "code",
      "execution_count": null,
      "metadata": {
        "id": "NnmTVWigtl0K",
        "outputId": "aff1144e-a69f-4472-9dcc-6d4ecee4ca5d"
      },
      "outputs": [
        {
          "name": "stdout",
          "output_type": "stream",
          "text": [
            "--2024-06-07 14:58:01--  https://docs142.rockfish.ai/tutorials/finance.csv\n",
            "Resolving docs142.rockfish.ai (docs142.rockfish.ai)... 18.154.206.84, 18.154.206.67, 18.154.206.70, ...\n",
            "Connecting to docs142.rockfish.ai (docs142.rockfish.ai)|18.154.206.84|:443... connected.\n",
            "HTTP request sent, awaiting response... 200 OK\n",
            "Length: 3444556 (3.3M) [text/csv]\n",
            "Saving to: ‘finance.csv’\n",
            "\n",
            "finance.csv         100%[===================>]   3.28M  --.-KB/s    in 0.1s    \n",
            "\n",
            "2024-06-07 14:58:03 (23.1 MB/s) - ‘finance.csv’ saved [3444556/3444556]\n",
            "\n"
          ]
        }
      ],
      "source": [
        "# download our example of timeseries data: finance.csv\n",
        "!wget --no-clobber https://docs142.rockfish.ai/tutorials/finance.csv"
      ]
    },
    {
      "cell_type": "code",
      "execution_count": null,
      "metadata": {
        "id": "blPWNGnZtl0K",
        "outputId": "e305f1b6-b9ea-4abe-b930-667613d7d7f8"
      },
      "outputs": [
        {
          "data": {
            "text/html": [
              "<div>\n",
              "<style scoped>\n",
              "    .dataframe tbody tr th:only-of-type {\n",
              "        vertical-align: middle;\n",
              "    }\n",
              "\n",
              "    .dataframe tbody tr th {\n",
              "        vertical-align: top;\n",
              "    }\n",
              "\n",
              "    .dataframe thead th {\n",
              "        text-align: right;\n",
              "    }\n",
              "</style>\n",
              "<table border=\"1\" class=\"dataframe\">\n",
              "  <thead>\n",
              "    <tr style=\"text-align: right;\">\n",
              "      <th></th>\n",
              "      <th>customer</th>\n",
              "      <th>age</th>\n",
              "      <th>gender</th>\n",
              "      <th>merchant</th>\n",
              "      <th>category</th>\n",
              "      <th>amount</th>\n",
              "      <th>fraud</th>\n",
              "      <th>timestamp</th>\n",
              "    </tr>\n",
              "  </thead>\n",
              "  <tbody>\n",
              "    <tr>\n",
              "      <th>0</th>\n",
              "      <td>C1093826151</td>\n",
              "      <td>4</td>\n",
              "      <td>M</td>\n",
              "      <td>M348934600</td>\n",
              "      <td>transportation</td>\n",
              "      <td>4.55</td>\n",
              "      <td>0</td>\n",
              "      <td>2023-01-01</td>\n",
              "    </tr>\n",
              "    <tr>\n",
              "      <th>1</th>\n",
              "      <td>C575345520</td>\n",
              "      <td>2</td>\n",
              "      <td>F</td>\n",
              "      <td>M348934600</td>\n",
              "      <td>transportation</td>\n",
              "      <td>76.67</td>\n",
              "      <td>0</td>\n",
              "      <td>2023-01-01</td>\n",
              "    </tr>\n",
              "    <tr>\n",
              "      <th>2</th>\n",
              "      <td>C1787537369</td>\n",
              "      <td>2</td>\n",
              "      <td>M</td>\n",
              "      <td>M1823072687</td>\n",
              "      <td>transportation</td>\n",
              "      <td>48.02</td>\n",
              "      <td>0</td>\n",
              "      <td>2023-01-01</td>\n",
              "    </tr>\n",
              "    <tr>\n",
              "      <th>3</th>\n",
              "      <td>C1732307957</td>\n",
              "      <td>5</td>\n",
              "      <td>F</td>\n",
              "      <td>M348934600</td>\n",
              "      <td>transportation</td>\n",
              "      <td>55.06</td>\n",
              "      <td>0</td>\n",
              "      <td>2023-01-01</td>\n",
              "    </tr>\n",
              "    <tr>\n",
              "      <th>4</th>\n",
              "      <td>C842799656</td>\n",
              "      <td>1</td>\n",
              "      <td>F</td>\n",
              "      <td>M348934600</td>\n",
              "      <td>transportation</td>\n",
              "      <td>25.62</td>\n",
              "      <td>0</td>\n",
              "      <td>2023-01-01</td>\n",
              "    </tr>\n",
              "    <tr>\n",
              "      <th>...</th>\n",
              "      <td>...</td>\n",
              "      <td>...</td>\n",
              "      <td>...</td>\n",
              "      <td>...</td>\n",
              "      <td>...</td>\n",
              "      <td>...</td>\n",
              "      <td>...</td>\n",
              "      <td>...</td>\n",
              "    </tr>\n",
              "    <tr>\n",
              "      <th>95</th>\n",
              "      <td>C949319027</td>\n",
              "      <td>2</td>\n",
              "      <td>M</td>\n",
              "      <td>M855959430</td>\n",
              "      <td>hyper</td>\n",
              "      <td>44.72</td>\n",
              "      <td>0</td>\n",
              "      <td>2023-01-01</td>\n",
              "    </tr>\n",
              "    <tr>\n",
              "      <th>96</th>\n",
              "      <td>C859628493</td>\n",
              "      <td>3</td>\n",
              "      <td>F</td>\n",
              "      <td>M348934600</td>\n",
              "      <td>transportation</td>\n",
              "      <td>17.17</td>\n",
              "      <td>0</td>\n",
              "      <td>2023-01-01</td>\n",
              "    </tr>\n",
              "    <tr>\n",
              "      <th>97</th>\n",
              "      <td>C1641076533</td>\n",
              "      <td>2</td>\n",
              "      <td>F</td>\n",
              "      <td>M1823072687</td>\n",
              "      <td>transportation</td>\n",
              "      <td>9.69</td>\n",
              "      <td>0</td>\n",
              "      <td>2023-01-01</td>\n",
              "    </tr>\n",
              "    <tr>\n",
              "      <th>98</th>\n",
              "      <td>C454239699</td>\n",
              "      <td>3</td>\n",
              "      <td>F</td>\n",
              "      <td>M348934600</td>\n",
              "      <td>transportation</td>\n",
              "      <td>7.86</td>\n",
              "      <td>0</td>\n",
              "      <td>2023-01-01</td>\n",
              "    </tr>\n",
              "    <tr>\n",
              "      <th>99</th>\n",
              "      <td>C813347783</td>\n",
              "      <td>1</td>\n",
              "      <td>F</td>\n",
              "      <td>M348934600</td>\n",
              "      <td>transportation</td>\n",
              "      <td>27.99</td>\n",
              "      <td>0</td>\n",
              "      <td>2023-01-01</td>\n",
              "    </tr>\n",
              "  </tbody>\n",
              "</table>\n",
              "<p>100 rows × 8 columns</p>\n",
              "</div>"
            ],
            "text/plain": [
              "       customer age gender     merchant        category  amount  fraud  \\\n",
              "0   C1093826151   4      M   M348934600  transportation    4.55      0   \n",
              "1    C575345520   2      F   M348934600  transportation   76.67      0   \n",
              "2   C1787537369   2      M  M1823072687  transportation   48.02      0   \n",
              "3   C1732307957   5      F   M348934600  transportation   55.06      0   \n",
              "4    C842799656   1      F   M348934600  transportation   25.62      0   \n",
              "..          ...  ..    ...          ...             ...     ...    ...   \n",
              "95   C949319027   2      M   M855959430           hyper   44.72      0   \n",
              "96   C859628493   3      F   M348934600  transportation   17.17      0   \n",
              "97  C1641076533   2      F  M1823072687  transportation    9.69      0   \n",
              "98   C454239699   3      F   M348934600  transportation    7.86      0   \n",
              "99   C813347783   1      F   M348934600  transportation   27.99      0   \n",
              "\n",
              "    timestamp  \n",
              "0  2023-01-01  \n",
              "1  2023-01-01  \n",
              "2  2023-01-01  \n",
              "3  2023-01-01  \n",
              "4  2023-01-01  \n",
              "..        ...  \n",
              "95 2023-01-01  \n",
              "96 2023-01-01  \n",
              "97 2023-01-01  \n",
              "98 2023-01-01  \n",
              "99 2023-01-01  \n",
              "\n",
              "[100 rows x 8 columns]"
            ]
          },
          "execution_count": 3,
          "metadata": {},
          "output_type": "execute_result"
        }
      ],
      "source": [
        "# Let's have 100 rows of finance data as an example\n",
        "dataset = rf.Dataset.from_csv(\"finance\", \"finance.csv\")\n",
        "dataset.table = dataset.table.slice(0,100)\n",
        "dataset.to_pandas()"
      ]
    },
    {
      "cell_type": "code",
      "execution_count": null,
      "metadata": {
        "id": "oRpLCNG1tl0L"
      },
      "outputs": [],
      "source": [
        "conn = rf.Connection.local()"
      ]
    },
    {
      "cell_type": "markdown",
      "metadata": {
        "id": "q4ZhJgwGtl0L"
      },
      "source": [
        "### Replace the low ranking categories with a new value\n",
        "\n",
        "For example, in the Column \"category\", it has 8 categeries. We can keep top 3 frequent categories and replace other categories by \"others\"."
      ]
    },
    {
      "cell_type": "code",
      "execution_count": null,
      "metadata": {
        "id": "bLxckGiBtl0L",
        "outputId": "a606c067-11ff-4fbc-b57f-aa8cdcb61524"
      },
      "outputs": [
        {
          "data": {
            "text/plain": [
              "category\n",
              "transportation        80\n",
              "wellnessandbeauty      4\n",
              "health                 4\n",
              "barsandrestaurants     3\n",
              "food                   3\n",
              "hyper                  3\n",
              "fashion                2\n",
              "hotelservices          1\n",
              "Name: count, dtype: int64"
            ]
          },
          "execution_count": 5,
          "metadata": {},
          "output_type": "execute_result"
        }
      ],
      "source": [
        "# take a look the frequences for 8 categories\n",
        "dataset.to_pandas()[\"category\"].value_counts()"
      ]
    },
    {
      "cell_type": "code",
      "execution_count": null,
      "metadata": {
        "id": "f7JLUXIPtl0L"
      },
      "outputs": [],
      "source": [
        "# define the method, selected column, options for the action\n",
        "method = \"replace\"\n",
        "select_col = \"category\"\n",
        "options = {\"top_k\": 3, \"replaced_value\": \"others\"}\n",
        "# create an action\n",
        "replace_transform = ra.Transform(\n",
        "    {\"function\": {\"handle_high_cardinality\": [method, select_col, options]}}\n",
        ")"
      ]
    },
    {
      "cell_type": "code",
      "execution_count": null,
      "metadata": {
        "id": "NtUQZsoCtl0M",
        "outputId": "43f2e1e4-4932-4eb4-d013-620358f186f0"
      },
      "outputs": [
        {
          "data": {
            "text/plain": [
              "category\n",
              "transportation       80\n",
              "others               12\n",
              "wellnessandbeauty     4\n",
              "health                4\n",
              "Name: count, dtype: int64"
            ]
          },
          "execution_count": 8,
          "metadata": {},
          "output_type": "execute_result"
        }
      ],
      "source": [
        "save = rf.actions.DatasetSave({\"name\": \"replaced_dataset\"})\n",
        "preprocess_builder = rf.WorkflowBuilder()\n",
        "preprocess_builder.add_path(dataset, replace_transform, save)\n",
        "preprocess_workflow = await preprocess_builder.start(conn)\n",
        "\n",
        "replaced_dataset = None\n",
        "async for sds in preprocess_workflow.datasets():\n",
        "    replaced_dataset = await sds.to_local(conn)\n",
        "# check the result\n",
        "replaced_dataset.to_pandas()[\"category\"].value_counts()"
      ]
    },
    {
      "cell_type": "markdown",
      "metadata": {
        "id": "5l571hzjtl0M"
      },
      "source": [
        "### Truncate the low frequent categories\n",
        "After replacing the low frequent categories by a defined value, we can further use the `amplify` action to drop the records matching this replaced value."
      ]
    },
    {
      "cell_type": "code",
      "execution_count": null,
      "metadata": {
        "id": "eiHUdGRftl0M"
      },
      "outputs": [],
      "source": [
        "# use the previous replace action\n",
        "method = \"replace\"\n",
        "select_col = \"category\"\n",
        "options = {\"top_k\": 3, \"replaced_value\": \"others\"}\n",
        "replace_transform = ra.Transform(\n",
        "    {\"function\": {\"handle_high_cardinality\": [method, select_col, options]}}\n",
        ")\n",
        "# amplify action\n",
        "amplify = ra.PostAmplify(\n",
        "    {\n",
        "        \"query_ast\": {\n",
        "            \"eq\": [select_col, \"others\"],\n",
        "        },\n",
        "        \"drop_match_percentage\": 1.0,\n",
        "        \"drop_other_percentage\": 0.0,\n",
        "    }\n",
        ")"
      ]
    },
    {
      "cell_type": "code",
      "execution_count": null,
      "metadata": {
        "id": "RS-vqiPjtl0M",
        "outputId": "fff8105b-c2f2-44a4-8f28-be4ae41fd79d"
      },
      "outputs": [
        {
          "data": {
            "text/plain": [
              "category\n",
              "transportation       80\n",
              "wellnessandbeauty     4\n",
              "health                4\n",
              "Name: count, dtype: int64"
            ]
          },
          "execution_count": 11,
          "metadata": {},
          "output_type": "execute_result"
        }
      ],
      "source": [
        "save = rf.actions.DatasetSave({\"name\": \"truncated_dataset\"})\n",
        "preprocess_builder = rf.WorkflowBuilder()\n",
        "preprocess_builder.add_path(dataset, replace_transform, amplify, save)\n",
        "preprocess_workflow = await preprocess_builder.start(conn)\n",
        "\n",
        "truncated_dataset = None\n",
        "async for sds in preprocess_workflow.datasets():\n",
        "    truncated_dataset = await sds.to_local(conn)\n",
        "# check the result\n",
        "truncated_dataset.to_pandas()[\"category\"].value_counts()"
      ]
    }
  ],
  "metadata": {
    "kernelspec": {
      "display_name": "test",
      "language": "python",
      "name": "python3"
    },
    "language_info": {
      "codemirror_mode": {
        "name": "ipython",
        "version": 3
      },
      "file_extension": ".py",
      "mimetype": "text/x-python",
      "name": "python",
      "nbconvert_exporter": "python",
      "pygments_lexer": "ipython3",
      "version": "3.11.7"
    },
    "colab": {
      "provenance": []
    }
  },
  "nbformat": 4,
  "nbformat_minor": 0
}