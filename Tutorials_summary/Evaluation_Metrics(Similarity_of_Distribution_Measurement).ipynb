{
  "nbformat": 4,
  "nbformat_minor": 0,
  "metadata": {
    "colab": {
      "provenance": []
    },
    "kernelspec": {
      "name": "python3",
      "display_name": "Python 3"
    },
    "language_info": {
      "name": "python"
    }
  },
  "cells": [
    {
      "cell_type": "code",
      "execution_count": null,
      "metadata": {
        "id": "j3qgyjkwmfr8"
      },
      "outputs": [],
      "source": [
        "%%capture\n",
        "%pip install -U 'rockfish[labs]' -f 'https://docs142.rockfish.ai/packages/index.html'"
      ]
    },
    {
      "cell_type": "code",
      "source": [
        "import pandas as pd\n",
        "import numpy as np\n",
        "\n",
        "import rockfish as rf\n",
        "import rockfish.labs"
      ],
      "metadata": {
        "id": "4xuiHeYTn5GG"
      },
      "execution_count": null,
      "outputs": []
    },
    {
      "cell_type": "code",
      "source": [
        "# Create 2 random sample datasets with 2 numerical columns and 2 categorical columns\n",
        "np.random.seed(42)\n",
        "def generate_random_data(num_rows):\n",
        "    numerical_col1 = np.random.rand(num_rows) * 100\n",
        "    numerical_col2 = np.random.randn(num_rows) * 10\n",
        "    categorical_col1 = np.random.choice(['A', 'B', 'C'], num_rows)\n",
        "    categorical_col2 = np.random.choice(['X', 'Y', 'Z'], num_rows)\n",
        "\n",
        "    data = {\n",
        "        'numerical_1': numerical_col1,\n",
        "        'numerical_2': numerical_col2,\n",
        "        'categorical_1': categorical_col1,\n",
        "        'categorical_2': categorical_col2\n",
        "    }\n",
        "\n",
        "    return pd.DataFrame(data)\n",
        "\n",
        "dataset1 = rf.Dataset.from_pandas(\"sample1\", generate_random_data(100))\n",
        "dataset2 = rf.Dataset.from_pandas(\"sample2\", generate_random_data(150))"
      ],
      "metadata": {
        "id": "HUWj2wcZZBI5"
      },
      "execution_count": null,
      "outputs": []
    },
    {
      "cell_type": "code",
      "source": [
        "# check dataset sample 1\n",
        "dataset1.to_pandas().head()"
      ],
      "metadata": {
        "id": "tk5itqDZZBE2"
      },
      "execution_count": null,
      "outputs": []
    },
    {
      "cell_type": "code",
      "source": [
        "# check dataset sample 2\n",
        "dataset2.to_pandas().head()"
      ],
      "metadata": {
        "id": "KsYSnpWma4lO"
      },
      "execution_count": null,
      "outputs": []
    },
    {
      "cell_type": "markdown",
      "source": [
        "## Metrics\n",
        "\n",
        "Below are all the metrics to return a value to compare two datasets."
      ],
      "metadata": {
        "id": "yKZ3C2ScbAQn"
      }
    },
    {
      "cell_type": "markdown",
      "source": [
        "### compute from a single field\n",
        "**numerical field**"
      ],
      "metadata": {
        "id": "iJoqrCnYdtyD"
      }
    },
    {
      "cell_type": "code",
      "source": [
        "# total variation distance\n",
        "rf.labs.metrics.tv_distance(dataset1, dataset2, \"numerical_1\")"
      ],
      "metadata": {
        "id": "lxnrhIRDeeuV"
      },
      "execution_count": null,
      "outputs": []
    },
    {
      "cell_type": "code",
      "source": [
        "# range coverage\n",
        "rf.labs.metrics.range_coverage(dataset1, dataset2, \"numerical_1\")"
      ],
      "metadata": {
        "id": "HhhhNDDNeep5"
      },
      "execution_count": null,
      "outputs": []
    },
    {
      "cell_type": "code",
      "source": [
        "# Wasserstein distance\n",
        "rf.labs.metrics.emd(dataset1, dataset2, [\"numerical_1\"])"
      ],
      "metadata": {
        "id": "FsVnXJD7eehi"
      },
      "execution_count": null,
      "outputs": []
    },
    {
      "cell_type": "markdown",
      "source": [
        "**categorical field**"
      ],
      "metadata": {
        "id": "xWHBtPwmetfp"
      }
    },
    {
      "cell_type": "code",
      "source": [
        "# Kolmogorov-Smirnov distance\n",
        "rf.labs.metrics.ks_distance(dataset1, dataset2, \"categorical_1\")"
      ],
      "metadata": {
        "id": "qSw_s10obmnM"
      },
      "execution_count": null,
      "outputs": []
    },
    {
      "cell_type": "code",
      "source": [
        "# category coverage\n",
        "rf.labs.metrics.category_coverage(dataset1, dataset2, \"categorical_1\")"
      ],
      "metadata": {
        "id": "8xEGy97abnrJ"
      },
      "execution_count": null,
      "outputs": []
    },
    {
      "cell_type": "code",
      "source": [
        "# Jensen-Shannon distance\n",
        "rf.labs.metrics.jsd(dataset1, dataset2, [\"categorical_1\"])"
      ],
      "metadata": {
        "id": "raKpsCvdbnj2"
      },
      "execution_count": null,
      "outputs": []
    },
    {
      "cell_type": "markdown",
      "source": [
        "### compute from multiple fields\n",
        "**categorical fields**"
      ],
      "metadata": {
        "id": "85CQht7se3y2"
      }
    },
    {
      "cell_type": "code",
      "source": [
        "# Jensen-Shannon distance\n",
        "rf.labs.metrics.jsd(dataset1, dataset2, [\"categorical_1\", \"categorical_2\"])"
      ],
      "metadata": {
        "id": "8vuYIK5seXF9"
      },
      "execution_count": null,
      "outputs": []
    }
  ]
}