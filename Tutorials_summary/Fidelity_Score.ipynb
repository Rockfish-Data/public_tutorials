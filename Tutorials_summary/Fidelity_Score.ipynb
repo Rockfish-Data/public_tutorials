{
  "cells": [
    {
      "cell_type": "code",
      "execution_count": 1,
      "metadata": {
        "id": "vaE2_WffN4RZ"
      },
      "outputs": [],
      "source": [
        "%%capture\n",
        "%pip install -U 'rockfish[labs]' -f 'https://docs142.rockfish.ai/packages/index.html'"
      ]
    },
    {
      "cell_type": "code",
      "execution_count": 2,
      "metadata": {
        "id": "m8BNhxFlO02Q"
      },
      "outputs": [],
      "source": [
        "import pandas as pd\n",
        "import random\n",
        "\n",
        "import rockfish as rf\n",
        "import rockfish.labs"
      ]
    },
    {
      "cell_type": "markdown",
      "metadata": {
        "id": "w4PRFk1Nngx5"
      },
      "source": [
        "## Marginal Distribution Score"
      ]
    },
    {
      "cell_type": "markdown",
      "metadata": {
        "id": "2J9Z3fHlPIHN"
      },
      "source": [
        "#### Tabular dataset<a class=\"anchor\" id=\"tab_marginal_dist_score\"></a>"
      ]
    },
    {
      "cell_type": "code",
      "execution_count": 3,
      "metadata": {
        "id": "LNiN_4HHO0wI"
      },
      "outputs": [],
      "source": [
        "def generate_tabular_data(num_rows, rng):\n",
        "    numerical_col1 = [rng.uniform(1, 100) for _ in range(num_rows)]\n",
        "    numerical_col2 = [rng.random() * 10 for _ in range(num_rows)]\n",
        "    categorical_col1 = rng.choices([\"A\", \"B\", \"C\"], weights=[1, 1, 2], k=num_rows)\n",
        "    categorical_col2 = rng.choices([\"X\", \"Y\", \"Z\"], weights=[1, 2, 3], k=num_rows)\n",
        "\n",
        "    data = {\n",
        "        \"numerical_col1\": numerical_col1,\n",
        "        \"numerical_col2\": numerical_col2,\n",
        "        \"categorical_col1\": categorical_col1,\n",
        "        \"categorical_col2\": categorical_col2,\n",
        "    }\n",
        "    return pd.DataFrame(data)\n",
        "\n",
        "\n",
        "rng = random.Random(42)\n",
        "data = rf.Dataset.from_pandas(\"sample1\", generate_tabular_data(100, rng))\n",
        "syn = rf.Dataset.from_pandas(\"sample2\", generate_tabular_data(100, rng))"
      ]
    },
    {
      "cell_type": "code",
      "execution_count": 4,
      "metadata": {
        "colab": {
          "base_uri": "https://localhost:8080/",
          "height": 424
        },
        "id": "EnDcv_JlZpqL",
        "outputId": "e7abad47-46ce-4ca1-8298-b357bf710de5"
      },
      "outputs": [
        {
          "data": {
            "text/html": [
              "<div>\n",
              "<style scoped>\n",
              "    .dataframe tbody tr th:only-of-type {\n",
              "        vertical-align: middle;\n",
              "    }\n",
              "\n",
              "    .dataframe tbody tr th {\n",
              "        vertical-align: top;\n",
              "    }\n",
              "\n",
              "    .dataframe thead th {\n",
              "        text-align: right;\n",
              "    }\n",
              "</style>\n",
              "<table border=\"1\" class=\"dataframe\">\n",
              "  <thead>\n",
              "    <tr style=\"text-align: right;\">\n",
              "      <th></th>\n",
              "      <th>numerical_col1</th>\n",
              "      <th>numerical_col2</th>\n",
              "      <th>categorical_col1</th>\n",
              "      <th>categorical_col2</th>\n",
              "    </tr>\n",
              "  </thead>\n",
              "  <tbody>\n",
              "    <tr>\n",
              "      <th>0</th>\n",
              "      <td>64.303253</td>\n",
              "      <td>0.114810</td>\n",
              "      <td>C</td>\n",
              "      <td>Z</td>\n",
              "    </tr>\n",
              "    <tr>\n",
              "      <th>1</th>\n",
              "      <td>3.476065</td>\n",
              "      <td>7.207218</td>\n",
              "      <td>C</td>\n",
              "      <td>Z</td>\n",
              "    </tr>\n",
              "    <tr>\n",
              "      <th>2</th>\n",
              "      <td>28.227903</td>\n",
              "      <td>6.817104</td>\n",
              "      <td>C</td>\n",
              "      <td>Z</td>\n",
              "    </tr>\n",
              "    <tr>\n",
              "      <th>3</th>\n",
              "      <td>23.097863</td>\n",
              "      <td>5.369703</td>\n",
              "      <td>A</td>\n",
              "      <td>Z</td>\n",
              "    </tr>\n",
              "    <tr>\n",
              "      <th>4</th>\n",
              "      <td>73.910650</td>\n",
              "      <td>2.668252</td>\n",
              "      <td>B</td>\n",
              "      <td>X</td>\n",
              "    </tr>\n",
              "    <tr>\n",
              "      <th>...</th>\n",
              "      <td>...</td>\n",
              "      <td>...</td>\n",
              "      <td>...</td>\n",
              "      <td>...</td>\n",
              "    </tr>\n",
              "    <tr>\n",
              "      <th>95</th>\n",
              "      <td>38.780309</td>\n",
              "      <td>8.613491</td>\n",
              "      <td>C</td>\n",
              "      <td>Y</td>\n",
              "    </tr>\n",
              "    <tr>\n",
              "      <th>96</th>\n",
              "      <td>99.616017</td>\n",
              "      <td>5.503253</td>\n",
              "      <td>B</td>\n",
              "      <td>Y</td>\n",
              "    </tr>\n",
              "    <tr>\n",
              "      <th>97</th>\n",
              "      <td>53.382320</td>\n",
              "      <td>0.505883</td>\n",
              "      <td>A</td>\n",
              "      <td>Z</td>\n",
              "    </tr>\n",
              "    <tr>\n",
              "      <th>98</th>\n",
              "      <td>97.136759</td>\n",
              "      <td>9.992825</td>\n",
              "      <td>A</td>\n",
              "      <td>Z</td>\n",
              "    </tr>\n",
              "    <tr>\n",
              "      <th>99</th>\n",
              "      <td>86.217191</td>\n",
              "      <td>8.360276</td>\n",
              "      <td>C</td>\n",
              "      <td>Y</td>\n",
              "    </tr>\n",
              "  </tbody>\n",
              "</table>\n",
              "<p>100 rows × 4 columns</p>\n",
              "</div>"
            ],
            "text/plain": [
              "    numerical_col1  numerical_col2 categorical_col1 categorical_col2\n",
              "0        64.303253        0.114810                C                Z\n",
              "1         3.476065        7.207218                C                Z\n",
              "2        28.227903        6.817104                C                Z\n",
              "3        23.097863        5.369703                A                Z\n",
              "4        73.910650        2.668252                B                X\n",
              "..             ...             ...              ...              ...\n",
              "95       38.780309        8.613491                C                Y\n",
              "96       99.616017        5.503253                B                Y\n",
              "97       53.382320        0.505883                A                Z\n",
              "98       97.136759        9.992825                A                Z\n",
              "99       86.217191        8.360276                C                Y\n",
              "\n",
              "[100 rows x 4 columns]"
            ]
          },
          "execution_count": 4,
          "metadata": {},
          "output_type": "execute_result"
        }
      ],
      "source": [
        "# check sample 1\n",
        "data.to_pandas()"
      ]
    },
    {
      "cell_type": "code",
      "execution_count": 5,
      "metadata": {
        "colab": {
          "base_uri": "https://localhost:8080/",
          "height": 424
        },
        "id": "Im6M2JJaZvle",
        "outputId": "93e87c71-612e-450b-9898-83136aac0f2a"
      },
      "outputs": [
        {
          "data": {
            "text/html": [
              "<div>\n",
              "<style scoped>\n",
              "    .dataframe tbody tr th:only-of-type {\n",
              "        vertical-align: middle;\n",
              "    }\n",
              "\n",
              "    .dataframe tbody tr th {\n",
              "        vertical-align: top;\n",
              "    }\n",
              "\n",
              "    .dataframe thead th {\n",
              "        text-align: right;\n",
              "    }\n",
              "</style>\n",
              "<table border=\"1\" class=\"dataframe\">\n",
              "  <thead>\n",
              "    <tr style=\"text-align: right;\">\n",
              "      <th></th>\n",
              "      <th>numerical_col1</th>\n",
              "      <th>numerical_col2</th>\n",
              "      <th>categorical_col1</th>\n",
              "      <th>categorical_col2</th>\n",
              "    </tr>\n",
              "  </thead>\n",
              "  <tbody>\n",
              "    <tr>\n",
              "      <th>0</th>\n",
              "      <td>44.773820</td>\n",
              "      <td>6.222570</td>\n",
              "      <td>A</td>\n",
              "      <td>Z</td>\n",
              "    </tr>\n",
              "    <tr>\n",
              "      <th>1</th>\n",
              "      <td>22.156439</td>\n",
              "      <td>0.269665</td>\n",
              "      <td>C</td>\n",
              "      <td>Z</td>\n",
              "    </tr>\n",
              "    <tr>\n",
              "      <th>2</th>\n",
              "      <td>47.845432</td>\n",
              "      <td>3.940203</td>\n",
              "      <td>B</td>\n",
              "      <td>Z</td>\n",
              "    </tr>\n",
              "    <tr>\n",
              "      <th>3</th>\n",
              "      <td>90.216902</td>\n",
              "      <td>5.643920</td>\n",
              "      <td>C</td>\n",
              "      <td>X</td>\n",
              "    </tr>\n",
              "    <tr>\n",
              "      <th>4</th>\n",
              "      <td>79.806451</td>\n",
              "      <td>0.271020</td>\n",
              "      <td>C</td>\n",
              "      <td>X</td>\n",
              "    </tr>\n",
              "    <tr>\n",
              "      <th>...</th>\n",
              "      <td>...</td>\n",
              "      <td>...</td>\n",
              "      <td>...</td>\n",
              "      <td>...</td>\n",
              "    </tr>\n",
              "    <tr>\n",
              "      <th>95</th>\n",
              "      <td>68.235047</td>\n",
              "      <td>8.803200</td>\n",
              "      <td>C</td>\n",
              "      <td>Z</td>\n",
              "    </tr>\n",
              "    <tr>\n",
              "      <th>96</th>\n",
              "      <td>41.027350</td>\n",
              "      <td>7.011838</td>\n",
              "      <td>C</td>\n",
              "      <td>Y</td>\n",
              "    </tr>\n",
              "    <tr>\n",
              "      <th>97</th>\n",
              "      <td>17.339428</td>\n",
              "      <td>2.762686</td>\n",
              "      <td>C</td>\n",
              "      <td>Z</td>\n",
              "    </tr>\n",
              "    <tr>\n",
              "      <th>98</th>\n",
              "      <td>47.271625</td>\n",
              "      <td>0.101511</td>\n",
              "      <td>B</td>\n",
              "      <td>Z</td>\n",
              "    </tr>\n",
              "    <tr>\n",
              "      <th>99</th>\n",
              "      <td>13.635152</td>\n",
              "      <td>9.480626</td>\n",
              "      <td>C</td>\n",
              "      <td>Z</td>\n",
              "    </tr>\n",
              "  </tbody>\n",
              "</table>\n",
              "<p>100 rows × 4 columns</p>\n",
              "</div>"
            ],
            "text/plain": [
              "    numerical_col1  numerical_col2 categorical_col1 categorical_col2\n",
              "0        44.773820        6.222570                A                Z\n",
              "1        22.156439        0.269665                C                Z\n",
              "2        47.845432        3.940203                B                Z\n",
              "3        90.216902        5.643920                C                X\n",
              "4        79.806451        0.271020                C                X\n",
              "..             ...             ...              ...              ...\n",
              "95       68.235047        8.803200                C                Z\n",
              "96       41.027350        7.011838                C                Y\n",
              "97       17.339428        2.762686                C                Z\n",
              "98       47.271625        0.101511                B                Z\n",
              "99       13.635152        9.480626                C                Z\n",
              "\n",
              "[100 rows x 4 columns]"
            ]
          },
          "execution_count": 5,
          "metadata": {},
          "output_type": "execute_result"
        }
      ],
      "source": [
        "# check sample 2\n",
        "syn.to_pandas()"
      ]
    },
    {
      "cell_type": "code",
      "execution_count": 6,
      "metadata": {
        "colab": {
          "base_uri": "https://localhost:8080/"
        },
        "id": "8ereeOohTIzx",
        "outputId": "5223914c-f4d7-496e-f8f7-eda94a4e576c"
      },
      "outputs": [
        {
          "data": {
            "text/plain": [
              "0.9299999999999999"
            ]
          },
          "execution_count": 6,
          "metadata": {},
          "output_type": "execute_result"
        }
      ],
      "source": [
        "# get the default weighted average score on marginal distribution\n",
        "rf.labs.metrics.marginal_dist_score(dataset=data, syn=syn)"
      ]
    },
    {
      "cell_type": "code",
      "execution_count": 7,
      "metadata": {
        "colab": {
          "base_uri": "https://localhost:8080/"
        },
        "id": "Ibzdu6-tZN_z",
        "outputId": "5f185b29-f0c6-4b86-8924-4765160a6b35"
      },
      "outputs": [
        {
          "data": {
            "text/plain": [
              "0.9550000000000001"
            ]
          },
          "execution_count": 7,
          "metadata": {},
          "output_type": "execute_result"
        }
      ],
      "source": [
        "# update new weights\n",
        "new_weights_dict = {\"numerical_col2\": 0, \"categorical_col1\": 10, \"categorical_col2\": 1}\n",
        "rf.labs.metrics.marginal_dist_score(dataset=data, syn=syn, weights=new_weights_dict)"
      ]
    },
    {
      "cell_type": "markdown",
      "metadata": {
        "id": "z9FvMXxUPN5R"
      },
      "source": [
        "#### Time series dataset<a class=\"anchor\" id=\"time_marginal_dist_score\"></a>"
      ]
    },
    {
      "cell_type": "code",
      "execution_count": 8,
      "metadata": {
        "id": "js9c-X8MPQ_5"
      },
      "outputs": [],
      "source": [
        "def generate_timeseries_data(num_rows, rng):\n",
        "    metadata = rng.choices([\"A\", \"B\", \"C\"], weights=[1, 1, 2], k=num_rows)\n",
        "    timestamp = pd.date_range(start=\"1/1/2020\", periods=num_rows, freq=\"D\")\n",
        "    numerical_col = [rng.uniform(1, 100) for _ in range(num_rows)]\n",
        "    categorical_col = rng.choices([\"a\", \"b\", \"c\"], weights=[1, 1, 2], k=num_rows)\n",
        "\n",
        "    data = {\n",
        "        \"metadata_field\": metadata,\n",
        "        \"timestamp_field\": timestamp,\n",
        "        \"numerical_field\": numerical_col,\n",
        "        \"categorical_field\": categorical_col,\n",
        "    }\n",
        "\n",
        "    return pd.DataFrame(data)\n",
        "\n",
        "rng = random.Random(42)\n",
        "ts_data = rf.Dataset.from_pandas(\"sample1\", generate_timeseries_data(100, rng))\n",
        "ts_syn = rf.Dataset.from_pandas(\"sample2\", generate_timeseries_data(100, rng))"
      ]
    },
    {
      "cell_type": "code",
      "execution_count": 9,
      "metadata": {
        "colab": {
          "base_uri": "https://localhost:8080/",
          "height": 424
        },
        "id": "qJ89WPqHZ19-",
        "outputId": "caa71532-3b64-4a84-f769-5fbd949b2bb6"
      },
      "outputs": [
        {
          "data": {
            "text/html": [
              "<div>\n",
              "<style scoped>\n",
              "    .dataframe tbody tr th:only-of-type {\n",
              "        vertical-align: middle;\n",
              "    }\n",
              "\n",
              "    .dataframe tbody tr th {\n",
              "        vertical-align: top;\n",
              "    }\n",
              "\n",
              "    .dataframe thead th {\n",
              "        text-align: right;\n",
              "    }\n",
              "</style>\n",
              "<table border=\"1\" class=\"dataframe\">\n",
              "  <thead>\n",
              "    <tr style=\"text-align: right;\">\n",
              "      <th></th>\n",
              "      <th>metadata_field</th>\n",
              "      <th>timestamp_field</th>\n",
              "      <th>numerical_field</th>\n",
              "      <th>categorical_field</th>\n",
              "    </tr>\n",
              "  </thead>\n",
              "  <tbody>\n",
              "    <tr>\n",
              "      <th>0</th>\n",
              "      <td>C</td>\n",
              "      <td>2020-01-01</td>\n",
              "      <td>2.136621</td>\n",
              "      <td>c</td>\n",
              "    </tr>\n",
              "    <tr>\n",
              "      <th>1</th>\n",
              "      <td>A</td>\n",
              "      <td>2020-01-02</td>\n",
              "      <td>72.351460</td>\n",
              "      <td>c</td>\n",
              "    </tr>\n",
              "    <tr>\n",
              "      <th>2</th>\n",
              "      <td>B</td>\n",
              "      <td>2020-01-03</td>\n",
              "      <td>68.489327</td>\n",
              "      <td>c</td>\n",
              "    </tr>\n",
              "    <tr>\n",
              "      <th>3</th>\n",
              "      <td>A</td>\n",
              "      <td>2020-01-04</td>\n",
              "      <td>54.160063</td>\n",
              "      <td>a</td>\n",
              "    </tr>\n",
              "    <tr>\n",
              "      <th>4</th>\n",
              "      <td>C</td>\n",
              "      <td>2020-01-05</td>\n",
              "      <td>27.415694</td>\n",
              "      <td>b</td>\n",
              "    </tr>\n",
              "    <tr>\n",
              "      <th>...</th>\n",
              "      <td>...</td>\n",
              "      <td>...</td>\n",
              "      <td>...</td>\n",
              "      <td>...</td>\n",
              "    </tr>\n",
              "    <tr>\n",
              "      <th>95</th>\n",
              "      <td>B</td>\n",
              "      <td>2020-04-05</td>\n",
              "      <td>86.273561</td>\n",
              "      <td>c</td>\n",
              "    </tr>\n",
              "    <tr>\n",
              "      <th>96</th>\n",
              "      <td>C</td>\n",
              "      <td>2020-04-06</td>\n",
              "      <td>55.482206</td>\n",
              "      <td>b</td>\n",
              "    </tr>\n",
              "    <tr>\n",
              "      <th>97</th>\n",
              "      <td>C</td>\n",
              "      <td>2020-04-07</td>\n",
              "      <td>6.008245</td>\n",
              "      <td>a</td>\n",
              "    </tr>\n",
              "    <tr>\n",
              "      <th>98</th>\n",
              "      <td>C</td>\n",
              "      <td>2020-04-08</td>\n",
              "      <td>99.928964</td>\n",
              "      <td>a</td>\n",
              "    </tr>\n",
              "    <tr>\n",
              "      <th>99</th>\n",
              "      <td>C</td>\n",
              "      <td>2020-04-09</td>\n",
              "      <td>83.766731</td>\n",
              "      <td>c</td>\n",
              "    </tr>\n",
              "  </tbody>\n",
              "</table>\n",
              "<p>100 rows × 4 columns</p>\n",
              "</div>"
            ],
            "text/plain": [
              "   metadata_field timestamp_field  numerical_field categorical_field\n",
              "0               C      2020-01-01         2.136621                 c\n",
              "1               A      2020-01-02        72.351460                 c\n",
              "2               B      2020-01-03        68.489327                 c\n",
              "3               A      2020-01-04        54.160063                 a\n",
              "4               C      2020-01-05        27.415694                 b\n",
              "..            ...             ...              ...               ...\n",
              "95              B      2020-04-05        86.273561                 c\n",
              "96              C      2020-04-06        55.482206                 b\n",
              "97              C      2020-04-07         6.008245                 a\n",
              "98              C      2020-04-08        99.928964                 a\n",
              "99              C      2020-04-09        83.766731                 c\n",
              "\n",
              "[100 rows x 4 columns]"
            ]
          },
          "execution_count": 9,
          "metadata": {},
          "output_type": "execute_result"
        }
      ],
      "source": [
        "# check sample 1\n",
        "ts_data.to_pandas()"
      ]
    },
    {
      "cell_type": "code",
      "execution_count": 10,
      "metadata": {
        "colab": {
          "base_uri": "https://localhost:8080/",
          "height": 424
        },
        "id": "HyYSFbw9Z1yg",
        "outputId": "d57e103e-64a5-4a20-e941-54e08743acb3"
      },
      "outputs": [
        {
          "data": {
            "text/html": [
              "<div>\n",
              "<style scoped>\n",
              "    .dataframe tbody tr th:only-of-type {\n",
              "        vertical-align: middle;\n",
              "    }\n",
              "\n",
              "    .dataframe tbody tr th {\n",
              "        vertical-align: top;\n",
              "    }\n",
              "\n",
              "    .dataframe thead th {\n",
              "        text-align: right;\n",
              "    }\n",
              "</style>\n",
              "<table border=\"1\" class=\"dataframe\">\n",
              "  <thead>\n",
              "    <tr style=\"text-align: right;\">\n",
              "      <th></th>\n",
              "      <th>metadata_field</th>\n",
              "      <th>timestamp_field</th>\n",
              "      <th>numerical_field</th>\n",
              "      <th>categorical_field</th>\n",
              "    </tr>\n",
              "  </thead>\n",
              "  <tbody>\n",
              "    <tr>\n",
              "      <th>0</th>\n",
              "      <td>C</td>\n",
              "      <td>2020-01-01</td>\n",
              "      <td>44.773820</td>\n",
              "      <td>c</td>\n",
              "    </tr>\n",
              "    <tr>\n",
              "      <th>1</th>\n",
              "      <td>C</td>\n",
              "      <td>2020-01-02</td>\n",
              "      <td>22.156439</td>\n",
              "      <td>a</td>\n",
              "    </tr>\n",
              "    <tr>\n",
              "      <th>2</th>\n",
              "      <td>C</td>\n",
              "      <td>2020-01-03</td>\n",
              "      <td>47.845432</td>\n",
              "      <td>b</td>\n",
              "    </tr>\n",
              "    <tr>\n",
              "      <th>3</th>\n",
              "      <td>C</td>\n",
              "      <td>2020-01-04</td>\n",
              "      <td>90.216902</td>\n",
              "      <td>c</td>\n",
              "    </tr>\n",
              "    <tr>\n",
              "      <th>4</th>\n",
              "      <td>A</td>\n",
              "      <td>2020-01-05</td>\n",
              "      <td>79.806451</td>\n",
              "      <td>a</td>\n",
              "    </tr>\n",
              "    <tr>\n",
              "      <th>...</th>\n",
              "      <td>...</td>\n",
              "      <td>...</td>\n",
              "      <td>...</td>\n",
              "      <td>...</td>\n",
              "    </tr>\n",
              "    <tr>\n",
              "      <th>95</th>\n",
              "      <td>B</td>\n",
              "      <td>2020-04-05</td>\n",
              "      <td>68.235047</td>\n",
              "      <td>c</td>\n",
              "    </tr>\n",
              "    <tr>\n",
              "      <th>96</th>\n",
              "      <td>B</td>\n",
              "      <td>2020-04-06</td>\n",
              "      <td>41.027350</td>\n",
              "      <td>c</td>\n",
              "    </tr>\n",
              "    <tr>\n",
              "      <th>97</th>\n",
              "      <td>C</td>\n",
              "      <td>2020-04-07</td>\n",
              "      <td>17.339428</td>\n",
              "      <td>b</td>\n",
              "    </tr>\n",
              "    <tr>\n",
              "      <th>98</th>\n",
              "      <td>C</td>\n",
              "      <td>2020-04-08</td>\n",
              "      <td>47.271625</td>\n",
              "      <td>a</td>\n",
              "    </tr>\n",
              "    <tr>\n",
              "      <th>99</th>\n",
              "      <td>B</td>\n",
              "      <td>2020-04-09</td>\n",
              "      <td>13.635152</td>\n",
              "      <td>c</td>\n",
              "    </tr>\n",
              "  </tbody>\n",
              "</table>\n",
              "<p>100 rows × 4 columns</p>\n",
              "</div>"
            ],
            "text/plain": [
              "   metadata_field timestamp_field  numerical_field categorical_field\n",
              "0               C      2020-01-01        44.773820                 c\n",
              "1               C      2020-01-02        22.156439                 a\n",
              "2               C      2020-01-03        47.845432                 b\n",
              "3               C      2020-01-04        90.216902                 c\n",
              "4               A      2020-01-05        79.806451                 a\n",
              "..            ...             ...              ...               ...\n",
              "95              B      2020-04-05        68.235047                 c\n",
              "96              B      2020-04-06        41.027350                 c\n",
              "97              C      2020-04-07        17.339428                 b\n",
              "98              C      2020-04-08        47.271625                 a\n",
              "99              B      2020-04-09        13.635152                 c\n",
              "\n",
              "[100 rows x 4 columns]"
            ]
          },
          "execution_count": 10,
          "metadata": {},
          "output_type": "execute_result"
        }
      ],
      "source": [
        "# check sample 2\n",
        "ts_syn.to_pandas()"
      ]
    },
    {
      "cell_type": "code",
      "execution_count": 11,
      "metadata": {
        "colab": {
          "base_uri": "https://localhost:8080/"
        },
        "id": "d8NHemBePRE2",
        "outputId": "a3b1c2ac-b56c-401c-bed0-03e8a17f2121"
      },
      "outputs": [
        {
          "data": {
            "text/plain": [
              "0.8850859106529209"
            ]
          },
          "execution_count": 11,
          "metadata": {},
          "output_type": "execute_result"
        }
      ],
      "source": [
        "# get the default weighted average score on marginal distribution\n",
        "rf.labs.metrics.marginal_dist_score(\n",
        "    dataset=ts_data,\n",
        "    syn=ts_syn,\n",
        "    metadata=[\"metadata_field\"],\n",
        "    other_categorical=[\"categorical_field\"],\n",
        ")"
      ]
    },
    {
      "cell_type": "code",
      "execution_count": 12,
      "metadata": {
        "colab": {
          "base_uri": "https://localhost:8080/"
        },
        "id": "N5krfQ3yPRCW",
        "outputId": "1bea0784-5953-4574-e815-f31df8d1a225"
      },
      "outputs": [
        {
          "data": {
            "text/plain": [
              "0.9380952380952382"
            ]
          },
          "execution_count": 12,
          "metadata": {},
          "output_type": "execute_result"
        }
      ],
      "source": [
        "# update new weights\n",
        "new_weights_dict = {\"interarrival\": 0, \"categorical_field\": 10, \"session_length\": 2}\n",
        "rf.labs.metrics.marginal_dist_score(\n",
        "    dataset=ts_data,\n",
        "    syn=ts_syn,\n",
        "    metadata=[\"metadata_field\"],\n",
        "    other_categorical=[\"categorical_field\"],\n",
        "    weights=new_weights_dict,\n",
        ")"
      ]
    },
    {
      "cell_type": "markdown",
      "metadata": {
        "id": "i1dS3pDlnkNd"
      },
      "source": [
        "### Correlation Score"
      ]
    },
    {
      "cell_type": "code",
      "execution_count": 13,
      "metadata": {
        "id": "8x4sfEq4nIF-"
      },
      "outputs": [],
      "source": [
        "def generate_data(num_rows, rng):\n",
        "    numerical_1 = [rng.uniform(1, 100) for _ in range(num_rows)]\n",
        "    numerical_2 = [rng.random() * 10 for _ in range(num_rows)]\n",
        "    numerical_3 = [rng.random() for _ in range(num_rows)]\n",
        "\n",
        "    data = {\n",
        "        \"numerical_1\": numerical_1,\n",
        "        \"numerical_2\": numerical_2,\n",
        "        \"numerical_3\": numerical_3,\n",
        "    }\n",
        "    return pd.DataFrame(data)\n",
        "\n",
        "\n",
        "rng = random.Random(42)\n",
        "data = rf.Dataset.from_pandas(\"sample1\", generate_data(10_000, rng))\n",
        "syn = rf.Dataset.from_pandas(\"sample2\", generate_data(10_000, rng))"
      ]
    },
    {
      "cell_type": "code",
      "execution_count": 14,
      "metadata": {
        "colab": {
          "base_uri": "https://localhost:8080/"
        },
        "id": "alcLz0IdoXLe",
        "outputId": "27d20666-5aec-4588-868e-e7bc19546aab"
      },
      "outputs": [
        {
          "data": {
            "text/plain": [
              "0.9770364935005559"
            ]
          },
          "execution_count": 14,
          "metadata": {},
          "output_type": "execute_result"
        }
      ],
      "source": [
        "# correlation score on selected numerical fields\n",
        "selected_fields = [\"numerical_1\", \"numerical_2\", \"numerical_3\"]\n",
        "rf.labs.metrics.correlation_score(data, syn, selected_fields)"
      ]
    },
    {
      "cell_type": "markdown",
      "metadata": {
        "id": "GdkA2FD-eFdF"
      },
      "source": [
        "### Association Score"
      ]
    },
    {
      "cell_type": "code",
      "execution_count": 15,
      "metadata": {
        "id": "ANkUZUA2eDP3"
      },
      "outputs": [],
      "source": [
        "def generate_data(num_rows, rng):\n",
        "    categorical_1 = rng.choices([\"A\", \"B\", \"C\"], weights=[1, 1, 2], k=num_rows)\n",
        "    categorical_2 = rng.choices([\"X\", \"Y\", \"Z\"], weights=[1, 2, 3], k=num_rows)\n",
        "    categorical_3 = rng.choices([\"1\", \"2\", \"3\"], weights=[1, 2, 3], k=num_rows)\n",
        "\n",
        "    data = {\n",
        "        \"categorical_1\": categorical_1,\n",
        "        \"categorical_2\": categorical_2,\n",
        "        \"categorical_3\": categorical_3\n",
        "    }\n",
        "    return pd.DataFrame(data)\n",
        "\n",
        "\n",
        "rng = random.Random(42)\n",
        "data = rf.Dataset.from_pandas(\"sample1\", generate_data(10_000, rng))\n",
        "syn = rf.Dataset.from_pandas(\"sample2\", generate_data(10_000, rng))"
      ]
    },
    {
      "cell_type": "code",
      "execution_count": 16,
      "metadata": {
        "colab": {
          "base_uri": "https://localhost:8080/"
        },
        "id": "tpSHQmdgoXCJ",
        "outputId": "3af02675-fdad-4ba5-b968-50ca0f638f11"
      },
      "outputs": [
        {
          "data": {
            "text/plain": [
              "0.9874013933658707"
            ]
          },
          "execution_count": 16,
          "metadata": {},
          "output_type": "execute_result"
        }
      ],
      "source": [
        "# association score on selected categorical columns\n",
        "selected_fields = [\"categorical_1\", \"categorical_2\", \"categorical_3\"]\n",
        "rf.labs.metrics.association_score(data, syn, selected_fields)"
      ]
    }
  ],
  "metadata": {
    "colab": {
      "provenance": []
    },
    "kernelspec": {
      "display_name": "Python 3",
      "name": "python3"
    },
    "language_info": {
      "codemirror_mode": {
        "name": "ipython",
        "version": 3
      },
      "file_extension": ".py",
      "mimetype": "text/x-python",
      "name": "python",
      "nbconvert_exporter": "python",
      "pygments_lexer": "ipython3",
      "version": "3.12.4"
    }
  },
  "nbformat": 4,
  "nbformat_minor": 0
}
