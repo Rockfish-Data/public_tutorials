{
  "cells": [
    {
      "cell_type": "code",
      "execution_count": 1,
      "id": "dfc66a15",
      "metadata": {
        "id": "dfc66a15"
      },
      "outputs": [],
      "source": [
        "%%capture\n",
        "%pip install -U 'rockfish[labs]' -f 'https://docs142.rockfish.ai/packages/index.html'"
      ]
    },
    {
      "cell_type": "code",
      "execution_count": 3,
      "id": "ca45eb9e",
      "metadata": {
        "id": "ca45eb9e"
      },
      "outputs": [],
      "source": [
        "import rockfish as rf\n",
        "import rockfish.labs as rl"
      ]
    },
    {
      "cell_type": "code",
      "execution_count": 4,
      "id": "c54ace59",
      "metadata": {
        "id": "c54ace59"
      },
      "outputs": [
        {
          "name": "stdout",
          "output_type": "stream",
          "text": [
            "File ‘finance.csv’ already there; not retrieving.\n",
            "\n"
          ]
        }
      ],
      "source": [
        "!wget --no-clobber https://docs142.rockfish.ai/tutorials/finance.csv"
      ]
    },
    {
      "cell_type": "code",
      "execution_count": 5,
      "id": "81a7ed03",
      "metadata": {
        "id": "81a7ed03"
      },
      "outputs": [
        {
          "data": {
            "text/html": [
              "<div>\n",
              "<style scoped>\n",
              "    .dataframe tbody tr th:only-of-type {\n",
              "        vertical-align: middle;\n",
              "    }\n",
              "\n",
              "    .dataframe tbody tr th {\n",
              "        vertical-align: top;\n",
              "    }\n",
              "\n",
              "    .dataframe thead th {\n",
              "        text-align: right;\n",
              "    }\n",
              "</style>\n",
              "<table border=\"1\" class=\"dataframe\">\n",
              "  <thead>\n",
              "    <tr style=\"text-align: right;\">\n",
              "      <th></th>\n",
              "      <th>customer</th>\n",
              "      <th>age</th>\n",
              "      <th>gender</th>\n",
              "      <th>merchant</th>\n",
              "      <th>category</th>\n",
              "      <th>amount</th>\n",
              "      <th>fraud</th>\n",
              "      <th>timestamp</th>\n",
              "    </tr>\n",
              "  </thead>\n",
              "  <tbody>\n",
              "    <tr>\n",
              "      <th>0</th>\n",
              "      <td>None</td>\n",
              "      <td>4</td>\n",
              "      <td>M</td>\n",
              "      <td>M348934600</td>\n",
              "      <td>transportation</td>\n",
              "      <td>4.55</td>\n",
              "      <td>0</td>\n",
              "      <td>2023-01-01</td>\n",
              "    </tr>\n",
              "    <tr>\n",
              "      <th>1</th>\n",
              "      <td>C575345520</td>\n",
              "      <td>2</td>\n",
              "      <td>F</td>\n",
              "      <td>M348934600</td>\n",
              "      <td>transportation</td>\n",
              "      <td>76.67</td>\n",
              "      <td>0</td>\n",
              "      <td>2023-01-01</td>\n",
              "    </tr>\n",
              "    <tr>\n",
              "      <th>2</th>\n",
              "      <td>C1787537369</td>\n",
              "      <td>2</td>\n",
              "      <td>M</td>\n",
              "      <td>M1823072687</td>\n",
              "      <td>transportation</td>\n",
              "      <td>48.02</td>\n",
              "      <td>0</td>\n",
              "      <td>2023-01-01</td>\n",
              "    </tr>\n",
              "    <tr>\n",
              "      <th>3</th>\n",
              "      <td>C1732307957</td>\n",
              "      <td>5</td>\n",
              "      <td>F</td>\n",
              "      <td>M348934600</td>\n",
              "      <td>transportation</td>\n",
              "      <td>55.06</td>\n",
              "      <td>0</td>\n",
              "      <td>2023-01-01</td>\n",
              "    </tr>\n",
              "    <tr>\n",
              "      <th>4</th>\n",
              "      <td>C842799656</td>\n",
              "      <td>1</td>\n",
              "      <td>F</td>\n",
              "      <td>M348934600</td>\n",
              "      <td>transportation</td>\n",
              "      <td>25.62</td>\n",
              "      <td>0</td>\n",
              "      <td>2023-01-01</td>\n",
              "    </tr>\n",
              "  </tbody>\n",
              "</table>\n",
              "</div>"
            ],
            "text/plain": [
              "      customer age gender     merchant        category  amount  fraud  \\\n",
              "0         None   4      M   M348934600  transportation    4.55      0   \n",
              "1   C575345520   2      F   M348934600  transportation   76.67      0   \n",
              "2  C1787537369   2      M  M1823072687  transportation   48.02      0   \n",
              "3  C1732307957   5      F   M348934600  transportation   55.06      0   \n",
              "4   C842799656   1      F   M348934600  transportation   25.62      0   \n",
              "\n",
              "   timestamp  \n",
              "0 2023-01-01  \n",
              "1 2023-01-01  \n",
              "2 2023-01-01  \n",
              "3 2023-01-01  \n",
              "4 2023-01-01  "
            ]
          },
          "execution_count": 5,
          "metadata": {},
          "output_type": "execute_result"
        }
      ],
      "source": [
        "dataset = rf.Dataset.from_csv(\"finance\", \"finance.csv\")\n",
        "x = dataset.to_pandas().iloc[:5]\n",
        "x.iloc[0, 0] = None\n",
        "dataset = rf.Dataset.from_pandas(\"finance\", x)\n",
        "dataset.to_pandas()"
      ]
    },
    {
      "cell_type": "markdown",
      "id": "xnGJeBsV8_UK",
      "metadata": {
        "id": "xnGJeBsV8_UK"
      },
      "source": [
        "Initiate Recommendation Engine"
      ]
    },
    {
      "cell_type": "code",
      "execution_count": 6,
      "id": "b9da23fa",
      "metadata": {
        "id": "b9da23fa"
      },
      "outputs": [],
      "source": [
        "rec = rl.Recommender.from_dataset(\n",
        "    dataset,\n",
        "    metadata=[\"customer\", \"age\", \"gender\"],\n",
        "    other_categorical=[\n",
        "        \"merchant\",\n",
        "        \"category\",\n",
        "        \"fraud\",\n",
        "    ],\n",
        ")\n",
        "recommends = rec.recommendations()"
      ]
    },
    {
      "cell_type": "code",
      "execution_count": 7,
      "id": "c7e0713a",
      "metadata": {
        "id": "c7e0713a"
      },
      "outputs": [
        {
          "name": "stdout",
          "output_type": "stream",
          "text": [
            "drop rows with missing values: [0]\n",
            "verify PII detected\n",
            "drop columns with single unique values: ['category', 'fraud', 'timestamp']\n",
            "\n"
          ]
        }
      ],
      "source": [
        "print(recommends.report())"
      ]
    },
    {
      "cell_type": "markdown",
      "id": "8DG39nCU9Ftc",
      "metadata": {
        "id": "8DG39nCU9Ftc"
      },
      "source": [
        "According to the report, users can take actions to preprocess the dataset before training. In terms of our available SDK methods on preprocessing steps, you can refer to [the Pre-processing page](https://docs142.rockfish.ai/pre-processing.html) for more details."
      ]
    }
  ],
  "metadata": {
    "colab": {
      "provenance": []
    },
    "kernelspec": {
      "display_name": "Python 3",
      "language": "python",
      "name": "python3"
    },
    "language_info": {
      "codemirror_mode": {
        "name": "ipython",
        "version": 3
      },
      "file_extension": ".py",
      "mimetype": "text/x-python",
      "name": "python",
      "nbconvert_exporter": "python",
      "pygments_lexer": "ipython3",
      "version": "3.12.4"
    }
  },
  "nbformat": 4,
  "nbformat_minor": 5
}
