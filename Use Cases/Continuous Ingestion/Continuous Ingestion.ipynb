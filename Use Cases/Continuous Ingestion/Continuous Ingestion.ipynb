{
 "nbformat": 4,
 "nbformat_minor": 0,
 "metadata": {
  "colab": {
   "provenance": []
  },
  "kernelspec": {
   "name": "python3",
   "display_name": "Python 3 (ipykernel)",
   "language": "python"
  },
  "language_info": {
   "name": "python"
  }
 },
 "cells": [
  {
   "cell_type": "markdown",
   "source": [
    "In this tutorial, we will guide you through the process of setting up an end-to-end continuously running workflow for the purposes of continuous ingestion of data.\n",
    "\n",
    "We will cover the following:\n",
    "\n",
    "* Preparing your dataset for synthetic data generation.\n",
    "* Utilizing Rockfish Recommendation Engine to automatically determine the most suitable model for training, along with key configurations and settings required for successful onboarding.\n",
    "* Generating and then evaluating synthetic data using the Rockfish Synthetic Data Assessor, which will help you improve the quality of your synthetic datasets.\n",
    "* Setting up an always on workflow using the settings generated from the onboarding process.\n",
    "* Applying custom labels to the models that are trained by the workflow.\n",
    "* Searching for a previously trained model in Rockfish's model store.\n",
    "* Using the model to generate synthetic data."
   ],
   "metadata": {
    "id": "CgJzHzDhcuJI"
   }
  },
  {
   "cell_type": "markdown",
   "source": [
    "### Install and Import Rockfish SDK"
   ],
   "metadata": {
    "id": "72cj67zLabYj"
   }
  },
  {
   "cell_type": "code",
   "metadata": {
    "id": "GUWjYJW7Vspw"
   },
   "source": [
    "%%capture\n",
    "%pip install -U 'rockfish[labs]==0.22.0' -f 'https://docs142.rockfish.ai/packages/index.html'"
   ],
   "outputs": [],
   "execution_count": null
  },
  {
   "cell_type": "code",
   "source": [
    "import rockfish as rf\n",
    "import rockfish.actions as ra\n",
    "from rockfish.labs.dataset_properties import DatasetPropertyExtractor, FieldType, EncoderType\n",
    "from rockfish.labs.steps import Recommender\n",
    "from rockfish.labs.metrics import marginal_dist_score\n",
    "from rockfish.labs.sda import SDA\n",
    "\n",
    "import time"
   ],
   "metadata": {
    "id": "I77DF8bPVx8j"
   },
   "outputs": [],
   "execution_count": null
  },
  {
   "cell_type": "markdown",
   "source": [
    "### Connect to the Rockfish Platform\n",
    "\n",
    "❗❗ Replace API_KEY and API_URL."
   ],
   "metadata": {
    "id": "GBGLOAALaZRt"
   }
  },
  {
   "cell_type": "code",
   "source": [
    "api_key = \"API_KEY\"\n",
    "\n",
    "conn = rf.Connection.from_env()"
   ],
   "metadata": {
    "id": "_r56lqHPZfBT"
   },
   "outputs": [],
   "execution_count": null
  },
  {
   "metadata": {},
   "cell_type": "markdown",
   "source": "# 1. Onboard the dataset onto Rockfish"
  },
  {
   "cell_type": "markdown",
   "source": [
    "### Load the Dataset\n",
    "\n",
    "We support ingesting other data formats, refer documentation for more details."
   ],
   "metadata": {
    "id": "4fg-fmB4apMI"
   }
  },
  {
   "cell_type": "code",
   "source": [
    "%%capture\n",
    "!wget --no-clobber 'https://docs142.rockfish.ai/tutorials/finance.csv'\n",
    "dataset = rf.Dataset.from_csv(\"finance\", \"finance.csv\")"
   ],
   "metadata": {
    "id": "3foo29nQaf6U"
   },
   "outputs": [],
   "execution_count": null
  },
  {
   "cell_type": "code",
   "source": [
    "dataset.to_pandas()"
   ],
   "metadata": {
    "colab": {
     "base_uri": "https://localhost:8080/",
     "height": 424
    },
    "id": "wa2qr_ZIfDrL",
    "outputId": "be8c88d2-de90-42f7-89b3-a673e0f7eb16"
   },
   "outputs": [],
   "execution_count": null
  },
  {
   "cell_type": "markdown",
   "source": [
    "### Onboard the dataset onto Rockfish\n",
    "\n",
    "The onboarding workflow is a good starting point to get to a synthetic version of your dataset quickly.\n",
    "\n",
    "To ensure optimal synthetic data generation, it's crucial to provide domain-specific information related to your dataset. This helps Rockfish’s Recommendation Engine tailor the workflow to your specific needs."
   ],
   "metadata": {
    "id": "dd4qldYKbRo_"
   }
  },
  {
   "cell_type": "code",
   "source": [
    "dataset_properties = DatasetPropertyExtractor(\n",
    "    dataset,\n",
    "    session_key=\"customer\",\n",
    "    metadata_fields=[\"age\", \"gender\"],\n",
    "    additional_property_keys=[\"association_rules\"]\n",
    ").extract()\n",
    "recommender_output = Recommender(dataset_properties).run()\n",
    "print(recommender_output.report)"
   ],
   "metadata": {
    "colab": {
     "base_uri": "https://localhost:8080/"
    },
    "id": "PuvZsn7tbbI0",
    "outputId": "133f5554-15ca-4c29-dcc4-6938cb6ac00e"
   },
   "outputs": [],
   "execution_count": null
  },
  {
   "cell_type": "markdown",
   "source": [
    "#### Run the recommended workflow to get a synthetic dataset"
   ],
   "metadata": {
    "id": "ZQQOTUnxb6XJ"
   }
  },
  {
   "cell_type": "code",
   "source": [
    "rec_actions = recommender_output.actions\n",
    "save = ra.DatasetSave({\"name\": \"synthetic\"})\n",
    "\n",
    "# use recommended actions in a Rockfish workflow\n",
    "builder = rf.WorkflowBuilder()\n",
    "builder.add_path(dataset, *rec_actions, save)\n",
    "\n",
    "# run the Rockfish workflow\n",
    "workflow = await builder.start(conn)\n",
    "print(f\"Workflow: {workflow.id()}\")"
   ],
   "metadata": {
    "colab": {
     "base_uri": "https://localhost:8080/"
    },
    "id": "t4mY164eb9Ic",
    "outputId": "f7bcd58f-1d0c-4862-848c-169bee00b49a"
   },
   "outputs": [],
   "execution_count": null
  },
  {
   "cell_type": "markdown",
   "source": [
    "View logs for the running workflow:"
   ],
   "metadata": {
    "id": "Q6bScF8ncLN4"
   }
  },
  {
   "cell_type": "code",
   "source": [
    "async for log in workflow.logs():\n",
    "    print(log)"
   ],
   "metadata": {
    "colab": {
     "base_uri": "https://localhost:8080/"
    },
    "id": "_TeT2DFZcKj2",
    "outputId": "2c8df097-0640-4e90-caec-1c13fe77f36c"
   },
   "outputs": [],
   "execution_count": null
  },
  {
   "cell_type": "markdown",
   "source": [
    "Download and view the synthetic dataset locally:"
   ],
   "metadata": {
    "id": "TEDizQAScg8J"
   }
  },
  {
   "cell_type": "code",
   "source": [
    "syn = await workflow.datasets().last()\n",
    "syn = await syn.to_local(conn)\n",
    "syn.to_pandas()"
   ],
   "metadata": {
    "colab": {
     "base_uri": "https://localhost:8080/",
     "height": 424
    },
    "id": "G4_0TVMncghE",
    "outputId": "5ac69b4c-d4db-46f8-9f6b-63264954afc3"
   },
   "outputs": [],
   "execution_count": null
  },
  {
   "cell_type": "markdown",
   "source": [
    "### Evaluate the synthetic dataset"
   ],
   "metadata": {
    "id": "RmhdoeldtI00"
   }
  },
  {
   "cell_type": "code",
   "source": [
    "#@title ##### Define a helper function `get_fidelity_score()` to calculate the marginal distribution score:\n",
    "\n",
    "import copy\n",
    "\n",
    "def get_fidelity_score(source, source_dataset_properties, syn):\n",
    "    source = copy.deepcopy(source)\n",
    "    syn = copy.deepcopy(syn)\n",
    "\n",
    "    columns_to_drop = [source_dataset_properties.session_key]\n",
    "    source.table = source.table.drop_columns(columns_to_drop)\n",
    "\n",
    "    columns_to_drop = [\"session_key\"]\n",
    "    syn.table = syn.table.drop_columns(columns_to_drop)\n",
    "\n",
    "    categorical_measurements = source_dataset_properties.filter_fields(\n",
    "        ftype=FieldType.MEASUREMENT, etype=EncoderType.CATEGORICAL\n",
    "    )\n",
    "\n",
    "    return marginal_dist_score(\n",
    "        source,\n",
    "        syn,\n",
    "        metadata=source_dataset_properties.metadata_fields,\n",
    "        other_categorical=categorical_measurements,\n",
    "    )"
   ],
   "metadata": {
    "id": "vmngYsA7cTBo",
    "cellView": "form"
   },
   "outputs": [],
   "execution_count": null
  },
  {
   "cell_type": "code",
   "source": [
    "get_fidelity_score(\n",
    "    source=dataset,\n",
    "    source_dataset_properties=dataset_properties,\n",
    "    syn=syn\n",
    ")"
   ],
   "metadata": {
    "colab": {
     "base_uri": "https://localhost:8080/"
    },
    "id": "oNMp4sEeq2oT",
    "outputId": "6e2a69f5-5104-4692-c4ab-e02d6f08a114"
   },
   "outputs": [],
   "execution_count": null
  },
  {
   "metadata": {},
   "cell_type": "markdown",
   "source": "### Since the actions look good, we can use them for setting up the always-on workflow."
  },
  {
   "metadata": {},
   "cell_type": "code",
   "source": "rec_actions",
   "outputs": [],
   "execution_count": null
  },
  {
   "metadata": {},
   "cell_type": "code",
   "source": [
    "train_actions = rec_actions[:-1]\n",
    "generate_actions = rec_actions[-1:]"
   ],
   "outputs": [],
   "execution_count": null
  },
  {
   "metadata": {},
   "cell_type": "markdown",
   "source": "# 2. Set up an always-on workflow for continuous data ingestion"
  },
  {
   "metadata": {},
   "cell_type": "markdown",
   "source": "### Employ the DataStreamLoad action to keep the workflow always on"
  },
  {
   "metadata": {},
   "cell_type": "code",
   "source": [
    "stream = ra.DatastreamLoad()\n",
    "\n",
    "builder = rf.WorkflowBuilder()\n",
    "builder.add(stream, alias=\"input\")\n",
    "builder.add_path(*train_actions, parents=[\"input\"], alias=\"train_actions\")\n",
    "workflow = await builder.start(conn)\n",
    "print(f'Workflow ID: {workflow.id()}')"
   ],
   "outputs": [],
   "execution_count": null
  },
  {
   "metadata": {},
   "cell_type": "markdown",
   "source": [
    " \n",
    "### Write the data files to the workflow stream\n",
    "- each input is a dataset\n",
    "- each output is a trained model stored to the model_store"
   ]
  },
  {
   "metadata": {},
   "cell_type": "markdown",
   "source": [
    "### Write data files to the workflow stream\n",
    "\n",
    "Replace the workflow ID with the actual workflow ID of the workflow that was set up"
   ]
  },
  {
   "metadata": {},
   "cell_type": "markdown",
   "source": "### Download the sample files for the datastream workflow"
  },
  {
   "metadata": {},
   "cell_type": "code",
   "source": [
    "%%capture\n",
    "!wget --no-clobber https://docs142.rockfish.ai/tutorials/finance-1.csv\n",
    "!wget --no-clobber https://docs142.rockfish.ai/tutorials/finance-2.csv\n",
    "!wget --no-clobber https://docs142.rockfish.ai/tutorials/finance-3.csv\n",
    "!wget --no-clobber https://docs142.rockfish.ai/tutorials/finance-4.csv"
   ],
   "outputs": [],
   "execution_count": null
  },
  {
   "metadata": {},
   "cell_type": "markdown",
   "source": [
    "### Replace the workflow ID with the ID of the workflow that was just set up. \n",
    "\n",
    "This also allows you to run the data-ingestion service in an independent process."
   ]
  },
  {
   "metadata": {},
   "cell_type": "code",
   "source": [
    "workflow_id = 'workflow ID here'\n",
    "workflow = await conn.get_workflow(workflow_id)"
   ],
   "outputs": [],
   "execution_count": null
  },
  {
   "metadata": {},
   "cell_type": "code",
   "source": [
    "for file_num in range(1,4):\n",
    "  data = rf.Dataset.from_csv('finance', f'finance-{file_num}.csv')\n",
    "  await workflow.write_datastream(\"input\", data)\n",
    "  print(f'Writing finance-{file_num} to datastream...')\n",
    "  time.sleep(10)"
   ],
   "outputs": [],
   "execution_count": null
  },
  {
   "metadata": {},
   "cell_type": "markdown",
   "source": ""
  },
  {
   "metadata": {},
   "cell_type": "markdown",
   "source": [
    "### Optional: Add custom labels to the models that are generated\n",
    "\n",
    "These labels can be used later to filter models based off custom parameters"
   ]
  },
  {
   "metadata": {},
   "cell_type": "code",
   "source": [
    "usage = ['experimental', 'staging', 'production', 'improvement']\n",
    "i = 0\n",
    "async for model in (conn.list_models(labels={'workflow_id':workflow_id})):\n",
    "    await model.add_labels(conn, usage=usage[i])\n",
    "    i+=1"
   ],
   "outputs": [],
   "execution_count": null
  },
  {
   "metadata": {},
   "cell_type": "markdown",
   "source": "# 3. Generate synthetic data using the trained model"
  },
  {
   "metadata": {},
   "cell_type": "markdown",
   "source": [
    " \n",
    "### Provide query params to the model_store search to get appropriate models as response\n",
    "\n",
    "This can be used if the models trained were previously tagged, the default label that exists is 'workflow_id' which is the id of the workflow that trained the model"
   ]
  },
  {
   "metadata": {},
   "cell_type": "code",
   "outputs": [
    {
     "name": "stdout",
     "output_type": "stream",
     "text": [
      "Model(id='6a841e23-60da-11ef-b0af-b21fd42e2041', labels={'customer': 'hbo', 'month': 'june', 'workflow_id': '51AoIAxZw3sNM99H2s83wD'}, create_time=datetime.datetime(2024, 8, 22, 23, 1, 7, tzinfo=datetime.timezone.utc), size_bytes=26864128)\n"
     ]
    }
   ],
   "execution_count": 3,
   "source": [
    "async for model in conn.list_models(labels={'usage': 'production'}):\n",
    "    print(model)"
   ]
  },
  {
   "metadata": {},
   "cell_type": "markdown",
   "source": [
    " \n",
    "### Select a model from the list of queried models and fetch it from remote"
   ]
  },
  {
   "metadata": {},
   "cell_type": "code",
   "outputs": [],
   "execution_count": 4,
   "source": [
    "model = await rf.Model.from_id(conn, 'model id here of the filtered model after querying')\n",
    "print(model)"
   ]
  },
  {
   "metadata": {},
   "cell_type": "markdown",
   "source": [
    " \n",
    "### Provide the model and the synthesis config to a workflow to generate a synthetic dataset as the output"
   ]
  },
  {
   "metadata": {},
   "cell_type": "code",
   "outputs": [
    {
     "name": "stdout",
     "output_type": "stream",
     "text": [
      "Workflow ID: 7azJsUA2r6fovNks6hF93O\n"
     ]
    }
   ],
   "execution_count": 7,
   "source": [
    "builder = rf.WorkflowBuilder()\n",
    "builder.add(model)\n",
    "builder.add(*generate_actions, parents=[model], alias='gen')\n",
    "builder.add(ra.DatasetSave(name='syn_data'), parents=['gen'])\n",
    "workflow = await builder.start(conn)\n",
    "print(f'Workflow ID: {workflow.id()}')"
   ]
  },
  {
   "metadata": {},
   "cell_type": "code",
   "outputs": [],
   "execution_count": 8,
   "source": "syn_data = await workflow.datasets().concat(conn)"
  },
  {
   "metadata": {},
   "cell_type": "code",
   "outputs": [
    {
     "data": {
      "text/plain": [
       "           sessionStartTimeMs  pageStartTimeMs  lifeSessionSessionDurationMs  \\\n",
       "0     2024-04-26 05:13:32.883             9751                       2973442   \n",
       "1     2024-04-26 04:11:49.457            13790                       8978073   \n",
       "2     2024-04-26 07:10:24.584            14159                       8665729   \n",
       "3     2024-04-26 10:07:55.914            14145                       8581321   \n",
       "4     2024-04-26 13:07:30.336            14344                       8334301   \n",
       "...                       ...              ...                           ...   \n",
       "10436 2024-05-14 08:13:02.236             4934                       4988734   \n",
       "10437 2024-05-14 11:01:53.791             4951                       4976269   \n",
       "10438 2024-05-14 13:50:44.880             4883                       4994239   \n",
       "10439 2024-05-14 16:39:32.423             5024                       4824629   \n",
       "10440 2024-05-14 19:28:20.886             4960                       4840900   \n",
       "\n",
       "       lifeSessionPageLoadDurationMs  lifeSessionUserActiveTimeMs  \\\n",
       "0                               1526                      3270148   \n",
       "1                               4109                       119458   \n",
       "2                               4109                      -125857   \n",
       "3                               4109                      -134053   \n",
       "4                               4109                      -279604   \n",
       "...                              ...                          ...   \n",
       "10436                             59                        97064   \n",
       "10437                             56                        94949   \n",
       "10438                             58                       104530   \n",
       "10439                             58                        70594   \n",
       "10440                             58                        76452   \n",
       "\n",
       "       lifeSessionNetworkRequestFailureDurationMs  \\\n",
       "0                                            2000   \n",
       "1                                            2127   \n",
       "2                                            2208   \n",
       "3                                            2268   \n",
       "4                                            2326   \n",
       "...                                           ...   \n",
       "10436                                        2120   \n",
       "10437                                        2119   \n",
       "10438                                        2133   \n",
       "10439                                        2120   \n",
       "10440                                        2141   \n",
       "\n",
       "       lifeSessionNetworkRequestFailureCount  lifeSessionEventCount  \\\n",
       "0                                          1                    150   \n",
       "1                                          0                     -8   \n",
       "2                                          0                      5   \n",
       "3                                          0                     12   \n",
       "4                                          0                     12   \n",
       "...                                      ...                    ...   \n",
       "10436                                      1                    199   \n",
       "10437                                      1                    198   \n",
       "10438                                      1                    199   \n",
       "10439                                      1                    198   \n",
       "10440                                      1                    197   \n",
       "\n",
       "       lifeSessionUserEventCount  intvSessionDurationMs  ...    asn  connType  \\\n",
       "0                             12                  12878  ...   1136        15   \n",
       "1                            143                  52064  ...  50266        14   \n",
       "2                            143                  55803  ...  50266        14   \n",
       "3                            143                  57064  ...  50266        14   \n",
       "4                            143                  59130  ...  50266        14   \n",
       "...                          ...                    ...  ...    ...       ...   \n",
       "10436                         15                  33786  ...  31615        16   \n",
       "10437                         15                  33606  ...  31615        16   \n",
       "10438                         15                  33431  ...  31615        16   \n",
       "10439                         15                  33202  ...  31615        16   \n",
       "10440                         15                  33426  ...  31615        16   \n",
       "\n",
       "        netSpeed                  browser  lifeSessionAppCrashCount  \\\n",
       "0       Cellular  Chrome;Chrome 123.0.0.0                         0   \n",
       "1      Cable/DSL    Native App;Native App                         0   \n",
       "2      Cable/DSL    Native App;Native App                         0   \n",
       "3      Cable/DSL    Native App;Native App                         0   \n",
       "4      Cable/DSL    Native App;Native App                         0   \n",
       "...          ...                      ...                       ...   \n",
       "10436  Cable/DSL  Chrome;Chrome 123.0.0.0                         0   \n",
       "10437  Cable/DSL  Chrome;Chrome 123.0.0.0                         0   \n",
       "10438  Cable/DSL  Chrome;Chrome 123.0.0.0                         0   \n",
       "10439  Cable/DSL  Chrome;Chrome 123.0.0.0                         0   \n",
       "10440  Cable/DSL  Chrome;Chrome 123.0.0.0                         0   \n",
       "\n",
       "       lifeSessionPageLoadSuccessCount  lifeSessionPageLoadAttemptCount  \\\n",
       "0                                    6                                7   \n",
       "1                                    8                                1   \n",
       "2                                    8                                1   \n",
       "3                                    8                                1   \n",
       "4                                    8                                5   \n",
       "...                                ...                              ...   \n",
       "10436                                2                                5   \n",
       "10437                                2                                5   \n",
       "10438                                2                                5   \n",
       "10439                                2                                5   \n",
       "10440                                2                                5   \n",
       "\n",
       "      intvPageLoadSuccessCount intvNetworkRequestFailureCount  session_key  \n",
       "0                            0                              1          0.0  \n",
       "1                            1                              1          1.0  \n",
       "2                            1                              1          1.0  \n",
       "3                            1                              1          1.0  \n",
       "4                            1                              1          1.0  \n",
       "...                        ...                            ...          ...  \n",
       "10436                        0                              6        181.0  \n",
       "10437                        0                              6        181.0  \n",
       "10438                        0                              6        181.0  \n",
       "10439                        0                              6        181.0  \n",
       "10440                        0                              6        181.0  \n",
       "\n",
       "[10441 rows x 25 columns]"
      ],
      "text/html": [
       "<div>\n",
       "<style scoped>\n",
       "    .dataframe tbody tr th:only-of-type {\n",
       "        vertical-align: middle;\n",
       "    }\n",
       "\n",
       "    .dataframe tbody tr th {\n",
       "        vertical-align: top;\n",
       "    }\n",
       "\n",
       "    .dataframe thead th {\n",
       "        text-align: right;\n",
       "    }\n",
       "</style>\n",
       "<table border=\"1\" class=\"dataframe\">\n",
       "  <thead>\n",
       "    <tr style=\"text-align: right;\">\n",
       "      <th></th>\n",
       "      <th>sessionStartTimeMs</th>\n",
       "      <th>pageStartTimeMs</th>\n",
       "      <th>lifeSessionSessionDurationMs</th>\n",
       "      <th>lifeSessionPageLoadDurationMs</th>\n",
       "      <th>lifeSessionUserActiveTimeMs</th>\n",
       "      <th>lifeSessionNetworkRequestFailureDurationMs</th>\n",
       "      <th>lifeSessionNetworkRequestFailureCount</th>\n",
       "      <th>lifeSessionEventCount</th>\n",
       "      <th>lifeSessionUserEventCount</th>\n",
       "      <th>intvSessionDurationMs</th>\n",
       "      <th>...</th>\n",
       "      <th>asn</th>\n",
       "      <th>connType</th>\n",
       "      <th>netSpeed</th>\n",
       "      <th>browser</th>\n",
       "      <th>lifeSessionAppCrashCount</th>\n",
       "      <th>lifeSessionPageLoadSuccessCount</th>\n",
       "      <th>lifeSessionPageLoadAttemptCount</th>\n",
       "      <th>intvPageLoadSuccessCount</th>\n",
       "      <th>intvNetworkRequestFailureCount</th>\n",
       "      <th>session_key</th>\n",
       "    </tr>\n",
       "  </thead>\n",
       "  <tbody>\n",
       "    <tr>\n",
       "      <th>0</th>\n",
       "      <td>2024-04-26 05:13:32.883</td>\n",
       "      <td>9751</td>\n",
       "      <td>2973442</td>\n",
       "      <td>1526</td>\n",
       "      <td>3270148</td>\n",
       "      <td>2000</td>\n",
       "      <td>1</td>\n",
       "      <td>150</td>\n",
       "      <td>12</td>\n",
       "      <td>12878</td>\n",
       "      <td>...</td>\n",
       "      <td>1136</td>\n",
       "      <td>15</td>\n",
       "      <td>Cellular</td>\n",
       "      <td>Chrome;Chrome 123.0.0.0</td>\n",
       "      <td>0</td>\n",
       "      <td>6</td>\n",
       "      <td>7</td>\n",
       "      <td>0</td>\n",
       "      <td>1</td>\n",
       "      <td>0.0</td>\n",
       "    </tr>\n",
       "    <tr>\n",
       "      <th>1</th>\n",
       "      <td>2024-04-26 04:11:49.457</td>\n",
       "      <td>13790</td>\n",
       "      <td>8978073</td>\n",
       "      <td>4109</td>\n",
       "      <td>119458</td>\n",
       "      <td>2127</td>\n",
       "      <td>0</td>\n",
       "      <td>-8</td>\n",
       "      <td>143</td>\n",
       "      <td>52064</td>\n",
       "      <td>...</td>\n",
       "      <td>50266</td>\n",
       "      <td>14</td>\n",
       "      <td>Cable/DSL</td>\n",
       "      <td>Native App;Native App</td>\n",
       "      <td>0</td>\n",
       "      <td>8</td>\n",
       "      <td>1</td>\n",
       "      <td>1</td>\n",
       "      <td>1</td>\n",
       "      <td>1.0</td>\n",
       "    </tr>\n",
       "    <tr>\n",
       "      <th>2</th>\n",
       "      <td>2024-04-26 07:10:24.584</td>\n",
       "      <td>14159</td>\n",
       "      <td>8665729</td>\n",
       "      <td>4109</td>\n",
       "      <td>-125857</td>\n",
       "      <td>2208</td>\n",
       "      <td>0</td>\n",
       "      <td>5</td>\n",
       "      <td>143</td>\n",
       "      <td>55803</td>\n",
       "      <td>...</td>\n",
       "      <td>50266</td>\n",
       "      <td>14</td>\n",
       "      <td>Cable/DSL</td>\n",
       "      <td>Native App;Native App</td>\n",
       "      <td>0</td>\n",
       "      <td>8</td>\n",
       "      <td>1</td>\n",
       "      <td>1</td>\n",
       "      <td>1</td>\n",
       "      <td>1.0</td>\n",
       "    </tr>\n",
       "    <tr>\n",
       "      <th>3</th>\n",
       "      <td>2024-04-26 10:07:55.914</td>\n",
       "      <td>14145</td>\n",
       "      <td>8581321</td>\n",
       "      <td>4109</td>\n",
       "      <td>-134053</td>\n",
       "      <td>2268</td>\n",
       "      <td>0</td>\n",
       "      <td>12</td>\n",
       "      <td>143</td>\n",
       "      <td>57064</td>\n",
       "      <td>...</td>\n",
       "      <td>50266</td>\n",
       "      <td>14</td>\n",
       "      <td>Cable/DSL</td>\n",
       "      <td>Native App;Native App</td>\n",
       "      <td>0</td>\n",
       "      <td>8</td>\n",
       "      <td>1</td>\n",
       "      <td>1</td>\n",
       "      <td>1</td>\n",
       "      <td>1.0</td>\n",
       "    </tr>\n",
       "    <tr>\n",
       "      <th>4</th>\n",
       "      <td>2024-04-26 13:07:30.336</td>\n",
       "      <td>14344</td>\n",
       "      <td>8334301</td>\n",
       "      <td>4109</td>\n",
       "      <td>-279604</td>\n",
       "      <td>2326</td>\n",
       "      <td>0</td>\n",
       "      <td>12</td>\n",
       "      <td>143</td>\n",
       "      <td>59130</td>\n",
       "      <td>...</td>\n",
       "      <td>50266</td>\n",
       "      <td>14</td>\n",
       "      <td>Cable/DSL</td>\n",
       "      <td>Native App;Native App</td>\n",
       "      <td>0</td>\n",
       "      <td>8</td>\n",
       "      <td>5</td>\n",
       "      <td>1</td>\n",
       "      <td>1</td>\n",
       "      <td>1.0</td>\n",
       "    </tr>\n",
       "    <tr>\n",
       "      <th>...</th>\n",
       "      <td>...</td>\n",
       "      <td>...</td>\n",
       "      <td>...</td>\n",
       "      <td>...</td>\n",
       "      <td>...</td>\n",
       "      <td>...</td>\n",
       "      <td>...</td>\n",
       "      <td>...</td>\n",
       "      <td>...</td>\n",
       "      <td>...</td>\n",
       "      <td>...</td>\n",
       "      <td>...</td>\n",
       "      <td>...</td>\n",
       "      <td>...</td>\n",
       "      <td>...</td>\n",
       "      <td>...</td>\n",
       "      <td>...</td>\n",
       "      <td>...</td>\n",
       "      <td>...</td>\n",
       "      <td>...</td>\n",
       "      <td>...</td>\n",
       "    </tr>\n",
       "    <tr>\n",
       "      <th>10436</th>\n",
       "      <td>2024-05-14 08:13:02.236</td>\n",
       "      <td>4934</td>\n",
       "      <td>4988734</td>\n",
       "      <td>59</td>\n",
       "      <td>97064</td>\n",
       "      <td>2120</td>\n",
       "      <td>1</td>\n",
       "      <td>199</td>\n",
       "      <td>15</td>\n",
       "      <td>33786</td>\n",
       "      <td>...</td>\n",
       "      <td>31615</td>\n",
       "      <td>16</td>\n",
       "      <td>Cable/DSL</td>\n",
       "      <td>Chrome;Chrome 123.0.0.0</td>\n",
       "      <td>0</td>\n",
       "      <td>2</td>\n",
       "      <td>5</td>\n",
       "      <td>0</td>\n",
       "      <td>6</td>\n",
       "      <td>181.0</td>\n",
       "    </tr>\n",
       "    <tr>\n",
       "      <th>10437</th>\n",
       "      <td>2024-05-14 11:01:53.791</td>\n",
       "      <td>4951</td>\n",
       "      <td>4976269</td>\n",
       "      <td>56</td>\n",
       "      <td>94949</td>\n",
       "      <td>2119</td>\n",
       "      <td>1</td>\n",
       "      <td>198</td>\n",
       "      <td>15</td>\n",
       "      <td>33606</td>\n",
       "      <td>...</td>\n",
       "      <td>31615</td>\n",
       "      <td>16</td>\n",
       "      <td>Cable/DSL</td>\n",
       "      <td>Chrome;Chrome 123.0.0.0</td>\n",
       "      <td>0</td>\n",
       "      <td>2</td>\n",
       "      <td>5</td>\n",
       "      <td>0</td>\n",
       "      <td>6</td>\n",
       "      <td>181.0</td>\n",
       "    </tr>\n",
       "    <tr>\n",
       "      <th>10438</th>\n",
       "      <td>2024-05-14 13:50:44.880</td>\n",
       "      <td>4883</td>\n",
       "      <td>4994239</td>\n",
       "      <td>58</td>\n",
       "      <td>104530</td>\n",
       "      <td>2133</td>\n",
       "      <td>1</td>\n",
       "      <td>199</td>\n",
       "      <td>15</td>\n",
       "      <td>33431</td>\n",
       "      <td>...</td>\n",
       "      <td>31615</td>\n",
       "      <td>16</td>\n",
       "      <td>Cable/DSL</td>\n",
       "      <td>Chrome;Chrome 123.0.0.0</td>\n",
       "      <td>0</td>\n",
       "      <td>2</td>\n",
       "      <td>5</td>\n",
       "      <td>0</td>\n",
       "      <td>6</td>\n",
       "      <td>181.0</td>\n",
       "    </tr>\n",
       "    <tr>\n",
       "      <th>10439</th>\n",
       "      <td>2024-05-14 16:39:32.423</td>\n",
       "      <td>5024</td>\n",
       "      <td>4824629</td>\n",
       "      <td>58</td>\n",
       "      <td>70594</td>\n",
       "      <td>2120</td>\n",
       "      <td>1</td>\n",
       "      <td>198</td>\n",
       "      <td>15</td>\n",
       "      <td>33202</td>\n",
       "      <td>...</td>\n",
       "      <td>31615</td>\n",
       "      <td>16</td>\n",
       "      <td>Cable/DSL</td>\n",
       "      <td>Chrome;Chrome 123.0.0.0</td>\n",
       "      <td>0</td>\n",
       "      <td>2</td>\n",
       "      <td>5</td>\n",
       "      <td>0</td>\n",
       "      <td>6</td>\n",
       "      <td>181.0</td>\n",
       "    </tr>\n",
       "    <tr>\n",
       "      <th>10440</th>\n",
       "      <td>2024-05-14 19:28:20.886</td>\n",
       "      <td>4960</td>\n",
       "      <td>4840900</td>\n",
       "      <td>58</td>\n",
       "      <td>76452</td>\n",
       "      <td>2141</td>\n",
       "      <td>1</td>\n",
       "      <td>197</td>\n",
       "      <td>15</td>\n",
       "      <td>33426</td>\n",
       "      <td>...</td>\n",
       "      <td>31615</td>\n",
       "      <td>16</td>\n",
       "      <td>Cable/DSL</td>\n",
       "      <td>Chrome;Chrome 123.0.0.0</td>\n",
       "      <td>0</td>\n",
       "      <td>2</td>\n",
       "      <td>5</td>\n",
       "      <td>0</td>\n",
       "      <td>6</td>\n",
       "      <td>181.0</td>\n",
       "    </tr>\n",
       "  </tbody>\n",
       "</table>\n",
       "<p>10441 rows × 25 columns</p>\n",
       "</div>"
      ]
     },
     "execution_count": 9,
     "metadata": {},
     "output_type": "execute_result"
    }
   ],
   "execution_count": 9,
   "source": "syn_data.to_pandas()"
  }
 ]
}
