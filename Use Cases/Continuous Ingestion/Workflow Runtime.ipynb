{
 "cells": [
  {
   "metadata": {},
   "cell_type": "markdown",
   "source": [
    " \n",
    "# Workflow Runtime: This initiates the training runtime that trains periodically ingested data and stores the models that can be used for synthesis later"
   ],
   "id": "5c1715d48314402d"
  },
  {
   "metadata": {},
   "cell_type": "markdown",
   "source": "### Install Rockfish",
   "id": "8313b34b276e19b0"
  },
  {
   "metadata": {},
   "cell_type": "code",
   "outputs": [],
   "execution_count": null,
   "source": [
    "%%capture\n",
    "%pip install -U 'rockfish[labs]==0.23.0' -f 'https://docs142.rockfish.ai/packages/index.html'"
   ],
   "id": "b88fae8c74a1fade"
  },
  {
   "metadata": {
    "ExecuteTime": {
     "end_time": "2024-08-22T23:00:54.334798Z",
     "start_time": "2024-08-22T23:00:53.359890Z"
    }
   },
   "cell_type": "code",
   "source": [
    "import rockfish as rf\n",
    "import rockfish.actions as ra\n",
    "\n",
    "import time\n",
    "import pickle"
   ],
   "id": "94d57df360094d88",
   "outputs": [],
   "execution_count": 1
  },
  {
   "metadata": {},
   "cell_type": "markdown",
   "source": [
    "### Connect to the Rockfish Platform\n",
    "\n",
    "❗❗ Replace API_KEY."
   ],
   "id": "f9e235b78786d267"
  },
  {
   "metadata": {
    "ExecuteTime": {
     "end_time": "2024-08-22T23:00:54.354123Z",
     "start_time": "2024-08-22T23:00:54.335880Z"
    }
   },
   "cell_type": "code",
   "source": [
    "API_KEY = 'insert your API key here'\n",
    "\n",
    "conn = rf.Connection.remote('https://api.rockfish.ai', API_KEY)"
   ],
   "id": "fbd8671b009cd347",
   "outputs": [],
   "execution_count": 2
  },
  {
   "metadata": {},
   "cell_type": "markdown",
   "source": [
    " \n",
    "### Provide the inputs to the workflow: The training actions\n",
    "\n",
    "These actions can be obtained from the onboarding process' recommender, or manually set based on the user's requirements."
   ],
   "id": "6b049665e64bac30"
  },
  {
   "metadata": {
    "ExecuteTime": {
     "end_time": "2024-08-22T23:00:54.371858Z",
     "start_time": "2024-08-22T23:00:54.356140Z"
    }
   },
   "cell_type": "code",
   "source": [
    "with open('train_actions.pickle', 'rb') as f:\n",
    "    train_actions = pickle.load(f)"
   ],
   "id": "5dd5ddcdfab69353",
   "outputs": [],
   "execution_count": 3
  },
  {
   "metadata": {
    "ExecuteTime": {
     "end_time": "2024-08-22T23:00:56.806578Z",
     "start_time": "2024-08-22T23:00:56.586588Z"
    }
   },
   "cell_type": "code",
   "source": [
    "stream = ra.DatastreamLoad()\n",
    "\n",
    "builder = rf.WorkflowBuilder()\n",
    "builder.add(stream, alias=\"input\")\n",
    "builder.add_path(*train_actions, parents=[\"input\"], alias=\"train_actions\")\n",
    "workflow = await builder.start(conn)\n",
    "print(f'Workflow ID: {workflow.id()}')"
   ],
   "id": "bf3a4dba119b5df2",
   "outputs": [
    {
     "name": "stdout",
     "output_type": "stream",
     "text": [
      "Workflow ID: 51AoIAxZw3sNM99H2s83wD\n"
     ]
    }
   ],
   "execution_count": 4
  },
  {
   "metadata": {},
   "cell_type": "markdown",
   "source": [
    " \n",
    "### Write the data files to the workflow stream\n",
    "- each input is a dataset\n",
    "- each output is a trained model stored to the model_store"
   ],
   "id": "35d1d45ed4449381"
  },
  {
   "metadata": {},
   "cell_type": "markdown",
   "source": [
    "### Write data files to the workflow stream\n",
    "\n",
    "Replace the workflow ID with the actual workflow ID of the workflow that was set up"
   ],
   "id": "919462e01b0a6ab3"
  },
  {
   "metadata": {},
   "cell_type": "markdown",
   "source": "### Download the sample files for the datastream workflow",
   "id": "cc50d929a8c1f6af"
  },
  {
   "metadata": {},
   "cell_type": "code",
   "outputs": [],
   "execution_count": null,
   "source": [
    "%%capture\n",
    "!wget --no-clobber https://docs142.rockfish.ai/tutorials/finance-1.csv\n",
    "!wget --no-clobber https://docs142.rockfish.ai/tutorials/finance-2.csv\n",
    "!wget --no-clobber https://docs142.rockfish.ai/tutorials/finance-3.csv\n",
    "!wget --no-clobber https://docs142.rockfish.ai/tutorials/finance-4.csv"
   ],
   "id": "2eb007419186a7ec"
  },
  {
   "metadata": {},
   "cell_type": "code",
   "outputs": [],
   "execution_count": null,
   "source": [
    "workflow_id = 'workflow ID here'\n",
    "workflow = await conn.get_workflow(workflow_id)"
   ],
   "id": "7c95c0ec1f40c80b"
  },
  {
   "metadata": {
    "ExecuteTime": {
     "end_time": "2024-08-22T23:01:31.435972Z",
     "start_time": "2024-08-22T23:00:59.987966Z"
    }
   },
   "cell_type": "code",
   "source": [
    "for file_num in range(1,4):\n",
    "  data = rf.Dataset.from_csv('finance', f'finance-{file_num}.csv')\n",
    "  await workflow.write_datastream(\"input\", data)\n",
    "  print(f'Writing finance-{file_num} to datastream...')\n",
    "  time.sleep(10)"
   ],
   "id": "17ba24d789a4fdd6",
   "outputs": [
    {
     "name": "stdout",
     "output_type": "stream",
     "text": [
      "Writing log-data-1 to datastream...\n",
      "Writing log-data-2 to datastream...\n",
      "Writing log-data-3 to datastream...\n"
     ]
    }
   ],
   "execution_count": 5
  },
  {
   "metadata": {},
   "cell_type": "markdown",
   "source": "",
   "id": "e4fc28a3bc2a8eee"
  },
  {
   "metadata": {},
   "cell_type": "markdown",
   "source": [
    "### Optional: Add custom labels to the models that are generated\n",
    "\n",
    "These labels can be used later to filter models based off custom parameters"
   ],
   "id": "8b11f97cded35718"
  },
  {
   "metadata": {
    "ExecuteTime": {
     "end_time": "2024-08-22T23:01:43.618048Z",
     "start_time": "2024-08-22T23:01:43.246259Z"
    }
   },
   "cell_type": "code",
   "source": [
    "usage = ['experimental', 'staging', 'production', 'improvement']\n",
    "i = 0\n",
    "async for model in (conn.list_models(labels={'workflow_id':workflow_id})):\n",
    "    await model.add_labels(conn, usage=usage[i])\n",
    "    i+=1"
   ],
   "id": "9eff405cb488d018",
   "outputs": [],
   "execution_count": 6
  }
 ],
 "metadata": {
  "kernelspec": {
   "display_name": "Python 3",
   "language": "python",
   "name": "python3"
  },
  "language_info": {
   "codemirror_mode": {
    "name": "ipython",
    "version": 2
   },
   "file_extension": ".py",
   "mimetype": "text/x-python",
   "name": "python",
   "nbconvert_exporter": "python",
   "pygments_lexer": "ipython2",
   "version": "2.7.6"
  }
 },
 "nbformat": 4,
 "nbformat_minor": 5
}
