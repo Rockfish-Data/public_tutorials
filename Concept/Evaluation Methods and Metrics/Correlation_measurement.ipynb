{
  "cells": [
    {
      "cell_type": "code",
      "execution_count": 1,
      "metadata": {
        "colab": {
          "background_save": true
        },
        "id": "QjpOYZGJGrhm"
      },
      "outputs": [],
      "source": [
        "%%capture\n",
        "%pip install -U 'rockfish[labs]' -f 'https://docs142.rockfish.ai/packages/index.html'"
      ]
    },
    {
      "cell_type": "code",
      "execution_count": 2,
      "metadata": {
        "id": "9Mk3PoHeG6GP"
      },
      "outputs": [],
      "source": [
        "import pandas as pd\n",
        "import numpy as np\n",
        "\n",
        "import rockfish as rf\n",
        "import rockfish.labs"
      ]
    },
    {
      "cell_type": "code",
      "execution_count": 3,
      "metadata": {
        "id": "LGAAbxn_G6Dm"
      },
      "outputs": [
        {
          "data": {
            "text/html": [
              "<div>\n",
              "<style scoped>\n",
              "    .dataframe tbody tr th:only-of-type {\n",
              "        vertical-align: middle;\n",
              "    }\n",
              "\n",
              "    .dataframe tbody tr th {\n",
              "        vertical-align: top;\n",
              "    }\n",
              "\n",
              "    .dataframe thead th {\n",
              "        text-align: right;\n",
              "    }\n",
              "</style>\n",
              "<table border=\"1\" class=\"dataframe\">\n",
              "  <thead>\n",
              "    <tr style=\"text-align: right;\">\n",
              "      <th></th>\n",
              "      <th>numerical_1</th>\n",
              "      <th>numerical_2</th>\n",
              "      <th>categorical_1</th>\n",
              "      <th>categorical_2</th>\n",
              "    </tr>\n",
              "  </thead>\n",
              "  <tbody>\n",
              "    <tr>\n",
              "      <th>0</th>\n",
              "      <td>37.454012</td>\n",
              "      <td>0.870471</td>\n",
              "      <td>B</td>\n",
              "      <td>Z</td>\n",
              "    </tr>\n",
              "    <tr>\n",
              "      <th>1</th>\n",
              "      <td>95.071431</td>\n",
              "      <td>-2.990074</td>\n",
              "      <td>A</td>\n",
              "      <td>Y</td>\n",
              "    </tr>\n",
              "    <tr>\n",
              "      <th>2</th>\n",
              "      <td>73.199394</td>\n",
              "      <td>0.917608</td>\n",
              "      <td>B</td>\n",
              "      <td>X</td>\n",
              "    </tr>\n",
              "    <tr>\n",
              "      <th>3</th>\n",
              "      <td>59.865848</td>\n",
              "      <td>-19.875689</td>\n",
              "      <td>A</td>\n",
              "      <td>Y</td>\n",
              "    </tr>\n",
              "    <tr>\n",
              "      <th>4</th>\n",
              "      <td>15.601864</td>\n",
              "      <td>-2.196719</td>\n",
              "      <td>C</td>\n",
              "      <td>Z</td>\n",
              "    </tr>\n",
              "    <tr>\n",
              "      <th>...</th>\n",
              "      <td>...</td>\n",
              "      <td>...</td>\n",
              "      <td>...</td>\n",
              "      <td>...</td>\n",
              "    </tr>\n",
              "    <tr>\n",
              "      <th>95</th>\n",
              "      <td>49.379560</td>\n",
              "      <td>-8.158103</td>\n",
              "      <td>C</td>\n",
              "      <td>X</td>\n",
              "    </tr>\n",
              "    <tr>\n",
              "      <th>96</th>\n",
              "      <td>52.273283</td>\n",
              "      <td>-0.771017</td>\n",
              "      <td>A</td>\n",
              "      <td>X</td>\n",
              "    </tr>\n",
              "    <tr>\n",
              "      <th>97</th>\n",
              "      <td>42.754102</td>\n",
              "      <td>3.411520</td>\n",
              "      <td>A</td>\n",
              "      <td>Y</td>\n",
              "    </tr>\n",
              "    <tr>\n",
              "      <th>98</th>\n",
              "      <td>2.541913</td>\n",
              "      <td>2.766908</td>\n",
              "      <td>A</td>\n",
              "      <td>Z</td>\n",
              "    </tr>\n",
              "    <tr>\n",
              "      <th>99</th>\n",
              "      <td>10.789143</td>\n",
              "      <td>8.271832</td>\n",
              "      <td>A</td>\n",
              "      <td>X</td>\n",
              "    </tr>\n",
              "  </tbody>\n",
              "</table>\n",
              "<p>100 rows × 4 columns</p>\n",
              "</div>"
            ],
            "text/plain": [
              "    numerical_1  numerical_2 categorical_1 categorical_2\n",
              "0     37.454012     0.870471             B             Z\n",
              "1     95.071431    -2.990074             A             Y\n",
              "2     73.199394     0.917608             B             X\n",
              "3     59.865848   -19.875689             A             Y\n",
              "4     15.601864    -2.196719             C             Z\n",
              "..          ...          ...           ...           ...\n",
              "95    49.379560    -8.158103             C             X\n",
              "96    52.273283    -0.771017             A             X\n",
              "97    42.754102     3.411520             A             Y\n",
              "98     2.541913     2.766908             A             Z\n",
              "99    10.789143     8.271832             A             X\n",
              "\n",
              "[100 rows x 4 columns]"
            ]
          },
          "execution_count": 3,
          "metadata": {},
          "output_type": "execute_result"
        }
      ],
      "source": [
        "# Create a random sample datasets with 2 numerical columns and 2 categorical columns\n",
        "np.random.seed(42)\n",
        "def generate_random_data(num_rows):\n",
        "    numerical_col1 = np.random.rand(num_rows) * 100\n",
        "    numerical_col2 = np.random.randn(num_rows) * 10\n",
        "    categorical_col1 = np.random.choice(['A', 'B', 'C'], num_rows)\n",
        "    categorical_col2 = np.random.choice(['X', 'Y', 'Z'], num_rows)\n",
        "\n",
        "    data = {\n",
        "        'numerical_1': numerical_col1,\n",
        "        'numerical_2': numerical_col2,\n",
        "        'categorical_1': categorical_col1,\n",
        "        'categorical_2': categorical_col2\n",
        "    }\n",
        "\n",
        "    return pd.DataFrame(data)\n",
        "\n",
        "dataset = rf.Dataset.from_pandas(\"sample\", generate_random_data(100))\n",
        "dataset.to_pandas()"
      ]
    },
    {
      "cell_type": "markdown",
      "metadata": {
        "id": "XCIGZlR4Ib4K"
      },
      "source": [
        "# Pearson correlation"
      ]
    },
    {
      "cell_type": "code",
      "execution_count": 4,
      "metadata": {
        "id": "_yA9-VjnG6BR"
      },
      "outputs": [
        {
          "data": {
            "text/html": [
              "<div>\n",
              "<style scoped>\n",
              "    .dataframe tbody tr th:only-of-type {\n",
              "        vertical-align: middle;\n",
              "    }\n",
              "\n",
              "    .dataframe tbody tr th {\n",
              "        vertical-align: top;\n",
              "    }\n",
              "\n",
              "    .dataframe thead th {\n",
              "        text-align: right;\n",
              "    }\n",
              "</style>\n",
              "<table border=\"1\" class=\"dataframe\">\n",
              "  <thead>\n",
              "    <tr style=\"text-align: right;\">\n",
              "      <th></th>\n",
              "      <th>statistic</th>\n",
              "      <th>pvalue</th>\n",
              "    </tr>\n",
              "  </thead>\n",
              "  <tbody>\n",
              "    <tr>\n",
              "      <th>0</th>\n",
              "      <td>-0.149823</td>\n",
              "      <td>0.136803</td>\n",
              "    </tr>\n",
              "  </tbody>\n",
              "</table>\n",
              "</div>"
            ],
            "text/plain": [
              "   statistic    pvalue\n",
              "0  -0.149823  0.136803"
            ]
          },
          "execution_count": 4,
          "metadata": {},
          "output_type": "execute_result"
        }
      ],
      "source": [
        "rf.labs.metrics.pearsonr(dataset, \"numerical_1\", \"numerical_2\").to_pandas()"
      ]
    },
    {
      "cell_type": "markdown",
      "metadata": {
        "id": "DVHPIE3lIflY"
      },
      "source": [
        "# Cramer's V"
      ]
    },
    {
      "cell_type": "code",
      "execution_count": 5,
      "metadata": {
        "id": "iU8BKegvHmFX"
      },
      "outputs": [
        {
          "data": {
            "text/plain": [
              "0.0"
            ]
          },
          "execution_count": 5,
          "metadata": {},
          "output_type": "execute_result"
        }
      ],
      "source": [
        "# with bias correction\n",
        "rf.labs.metrics.cramer_v(dataset, \"categorical_1\", \"categorical_2\", correction = True)"
      ]
    },
    {
      "cell_type": "code",
      "execution_count": 6,
      "metadata": {
        "id": "0l4CKZh6IXt-"
      },
      "outputs": [
        {
          "data": {
            "text/plain": [
              "0.111456636413722"
            ]
          },
          "execution_count": 6,
          "metadata": {},
          "output_type": "execute_result"
        }
      ],
      "source": [
        "# without bias correction\n",
        "rf.labs.metrics.cramer_v(dataset, \"categorical_1\", \"categorical_2\", correction = False)"
      ]
    }
  ],
  "metadata": {
    "colab": {
      "provenance": []
    },
    "kernelspec": {
      "display_name": "Python 3",
      "name": "python3"
    },
    "language_info": {
      "codemirror_mode": {
        "name": "ipython",
        "version": 3
      },
      "file_extension": ".py",
      "mimetype": "text/x-python",
      "name": "python",
      "nbconvert_exporter": "python",
      "pygments_lexer": "ipython3",
      "version": "3.12.4"
    }
  },
  "nbformat": 4,
  "nbformat_minor": 0
}
