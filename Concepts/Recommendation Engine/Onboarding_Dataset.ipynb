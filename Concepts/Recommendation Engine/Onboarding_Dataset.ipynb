{
  "cells": [
    {
      "cell_type": "markdown",
      "metadata": {
        "id": "CgJzHzDhcuJI"
      },
      "source": [
        "In this tutorial, we will guide you through the process of onboarding a dataset for synthetic data generation using the Rockfish Onboarding Module.\n",
        "\n",
        "We will cover the following:\n",
        "\n",
        "- Preparing your dataset for synthetic data generation.\n",
        "- Utilizing Rockfish Recommendation Engine to automatically determine the most suitable model for training, along with key configurations and settings required for successful onboarding.\n",
        "- Generating and then evaluating synthetic data using the Rockfish Synthetic Data Assessor, which will help you improve the quality of your synthetic datasets.\n"
      ]
    },
    {
      "cell_type": "markdown",
      "metadata": {
        "id": "72cj67zLabYj"
      },
      "source": [
        "### Install and Import Rockfish SDK\n"
      ]
    },
    {
      "cell_type": "code",
      "execution_count": 1,
      "metadata": {
        "id": "GUWjYJW7Vspw"
      },
      "outputs": [],
      "source": [
        "%%capture\n",
        "%pip install -U 'rockfish[labs]' -f 'https://packages.rockfish.ai'"
      ]
    },
    {
      "cell_type": "code",
      "execution_count": 2,
      "metadata": {
        "id": "I77DF8bPVx8j"
      },
      "outputs": [],
      "source": [
        "import rockfish as rf\n",
        "import rockfish.actions as ra\n",
        "from rockfish.labs.dataset_properties import (\n",
        "    DatasetPropertyExtractor,\n",
        "    FieldType,\n",
        "    EncoderType,\n",
        ")\n",
        "from rockfish.labs.steps import Recommender\n",
        "from rockfish.labs.metrics import marginal_dist_score"
      ]
    },
    {
      "cell_type": "markdown",
      "metadata": {
        "id": "GBGLOAALaZRt"
      },
      "source": [
        "### Connect to the Rockfish Platform\n",
        "\n",
        "❗❗ Replace API_KEY and API_URL.\n"
      ]
    },
    {
      "cell_type": "code",
      "execution_count": 3,
      "metadata": {
        "id": "_r56lqHPZfBT"
      },
      "outputs": [],
      "source": [
        "api_key = \"API_KEY\"\n",
        "api_url = \"API_URL\"\n",
        "\n",
        "conn = rf.Connection.remote(api_url, api_key)"
      ]
    },
    {
      "cell_type": "markdown",
      "metadata": {
        "id": "4fg-fmB4apMI"
      },
      "source": [
        "### Load the Dataset\n",
        "\n",
        "We support ingesting other data formats, refer documentation for more details.\n"
      ]
    },
    {
      "cell_type": "code",
      "execution_count": 4,
      "metadata": {
        "id": "3foo29nQaf6U"
      },
      "outputs": [
        {
          "name": "stderr",
          "output_type": "stream",
          "text": [
            "WARNING: All log messages before absl::InitializeLog() is called are written to STDERR\n",
            "I0000 00:00:1738890367.568470 19734524 fork_posix.cc:77] Other threads are currently calling into gRPC, skipping fork() handlers\n"
          ]
        }
      ],
      "source": [
        "%%capture\n",
        "!wget --no-clobber https://docs.rockfish.ai/tutorials/finance.csv\n",
        "dataset = rf.Dataset.from_csv(\"finance\", \"finance.csv\")"
      ]
    },
    {
      "cell_type": "code",
      "execution_count": 5,
      "metadata": {
        "colab": {
          "base_uri": "https://localhost:8080/",
          "height": 424
        },
        "id": "wa2qr_ZIfDrL",
        "outputId": "fcb0f460-c042-41af-98d0-bc6a2815479c"
      },
      "outputs": [
        {
          "data": {
            "text/html": [
              "<div>\n",
              "<style scoped>\n",
              "    .dataframe tbody tr th:only-of-type {\n",
              "        vertical-align: middle;\n",
              "    }\n",
              "\n",
              "    .dataframe tbody tr th {\n",
              "        vertical-align: top;\n",
              "    }\n",
              "\n",
              "    .dataframe thead th {\n",
              "        text-align: right;\n",
              "    }\n",
              "</style>\n",
              "<table border=\"1\" class=\"dataframe\">\n",
              "  <thead>\n",
              "    <tr style=\"text-align: right;\">\n",
              "      <th></th>\n",
              "      <th>customer</th>\n",
              "      <th>age</th>\n",
              "      <th>gender</th>\n",
              "      <th>merchant</th>\n",
              "      <th>category</th>\n",
              "      <th>amount</th>\n",
              "      <th>fraud</th>\n",
              "      <th>timestamp</th>\n",
              "    </tr>\n",
              "  </thead>\n",
              "  <tbody>\n",
              "    <tr>\n",
              "      <th>0</th>\n",
              "      <td>C1093826151</td>\n",
              "      <td>4</td>\n",
              "      <td>M</td>\n",
              "      <td>M348934600</td>\n",
              "      <td>transportation</td>\n",
              "      <td>4.55</td>\n",
              "      <td>0</td>\n",
              "      <td>2023-01-01</td>\n",
              "    </tr>\n",
              "    <tr>\n",
              "      <th>1</th>\n",
              "      <td>C575345520</td>\n",
              "      <td>2</td>\n",
              "      <td>F</td>\n",
              "      <td>M348934600</td>\n",
              "      <td>transportation</td>\n",
              "      <td>76.67</td>\n",
              "      <td>0</td>\n",
              "      <td>2023-01-01</td>\n",
              "    </tr>\n",
              "    <tr>\n",
              "      <th>2</th>\n",
              "      <td>C1787537369</td>\n",
              "      <td>2</td>\n",
              "      <td>M</td>\n",
              "      <td>M1823072687</td>\n",
              "      <td>transportation</td>\n",
              "      <td>48.02</td>\n",
              "      <td>0</td>\n",
              "      <td>2023-01-01</td>\n",
              "    </tr>\n",
              "    <tr>\n",
              "      <th>3</th>\n",
              "      <td>C1732307957</td>\n",
              "      <td>5</td>\n",
              "      <td>F</td>\n",
              "      <td>M348934600</td>\n",
              "      <td>transportation</td>\n",
              "      <td>55.06</td>\n",
              "      <td>0</td>\n",
              "      <td>2023-01-01</td>\n",
              "    </tr>\n",
              "    <tr>\n",
              "      <th>4</th>\n",
              "      <td>C842799656</td>\n",
              "      <td>1</td>\n",
              "      <td>F</td>\n",
              "      <td>M348934600</td>\n",
              "      <td>transportation</td>\n",
              "      <td>25.62</td>\n",
              "      <td>0</td>\n",
              "      <td>2023-01-01</td>\n",
              "    </tr>\n",
              "    <tr>\n",
              "      <th>...</th>\n",
              "      <td>...</td>\n",
              "      <td>...</td>\n",
              "      <td>...</td>\n",
              "      <td>...</td>\n",
              "      <td>...</td>\n",
              "      <td>...</td>\n",
              "      <td>...</td>\n",
              "      <td>...</td>\n",
              "    </tr>\n",
              "    <tr>\n",
              "      <th>49995</th>\n",
              "      <td>C1971105040</td>\n",
              "      <td>3</td>\n",
              "      <td>M</td>\n",
              "      <td>M348934600</td>\n",
              "      <td>transportation</td>\n",
              "      <td>67.91</td>\n",
              "      <td>0</td>\n",
              "      <td>2023-01-20</td>\n",
              "    </tr>\n",
              "    <tr>\n",
              "      <th>49996</th>\n",
              "      <td>C51444479</td>\n",
              "      <td>3</td>\n",
              "      <td>M</td>\n",
              "      <td>M348934600</td>\n",
              "      <td>transportation</td>\n",
              "      <td>32.27</td>\n",
              "      <td>0</td>\n",
              "      <td>2023-01-20</td>\n",
              "    </tr>\n",
              "    <tr>\n",
              "      <th>49997</th>\n",
              "      <td>C1096642744</td>\n",
              "      <td>5</td>\n",
              "      <td>M</td>\n",
              "      <td>M1535107174</td>\n",
              "      <td>wellnessandbeauty</td>\n",
              "      <td>149.70</td>\n",
              "      <td>0</td>\n",
              "      <td>2023-01-20</td>\n",
              "    </tr>\n",
              "    <tr>\n",
              "      <th>49998</th>\n",
              "      <td>C1166683343</td>\n",
              "      <td>2</td>\n",
              "      <td>F</td>\n",
              "      <td>M1823072687</td>\n",
              "      <td>transportation</td>\n",
              "      <td>24.78</td>\n",
              "      <td>0</td>\n",
              "      <td>2023-01-20</td>\n",
              "    </tr>\n",
              "    <tr>\n",
              "      <th>49999</th>\n",
              "      <td>C344209010</td>\n",
              "      <td>5</td>\n",
              "      <td>F</td>\n",
              "      <td>M348934600</td>\n",
              "      <td>transportation</td>\n",
              "      <td>19.80</td>\n",
              "      <td>0</td>\n",
              "      <td>2023-01-20</td>\n",
              "    </tr>\n",
              "  </tbody>\n",
              "</table>\n",
              "<p>50000 rows × 8 columns</p>\n",
              "</div>"
            ],
            "text/plain": [
              "          customer age gender     merchant           category  amount  fraud  \\\n",
              "0      C1093826151   4      M   M348934600     transportation    4.55      0   \n",
              "1       C575345520   2      F   M348934600     transportation   76.67      0   \n",
              "2      C1787537369   2      M  M1823072687     transportation   48.02      0   \n",
              "3      C1732307957   5      F   M348934600     transportation   55.06      0   \n",
              "4       C842799656   1      F   M348934600     transportation   25.62      0   \n",
              "...            ...  ..    ...          ...                ...     ...    ...   \n",
              "49995  C1971105040   3      M   M348934600     transportation   67.91      0   \n",
              "49996    C51444479   3      M   M348934600     transportation   32.27      0   \n",
              "49997  C1096642744   5      M  M1535107174  wellnessandbeauty  149.70      0   \n",
              "49998  C1166683343   2      F  M1823072687     transportation   24.78      0   \n",
              "49999   C344209010   5      F   M348934600     transportation   19.80      0   \n",
              "\n",
              "       timestamp  \n",
              "0     2023-01-01  \n",
              "1     2023-01-01  \n",
              "2     2023-01-01  \n",
              "3     2023-01-01  \n",
              "4     2023-01-01  \n",
              "...          ...  \n",
              "49995 2023-01-20  \n",
              "49996 2023-01-20  \n",
              "49997 2023-01-20  \n",
              "49998 2023-01-20  \n",
              "49999 2023-01-20  \n",
              "\n",
              "[50000 rows x 8 columns]"
            ]
          },
          "execution_count": 5,
          "metadata": {},
          "output_type": "execute_result"
        }
      ],
      "source": [
        "dataset.to_pandas()"
      ]
    },
    {
      "cell_type": "markdown",
      "metadata": {
        "id": "dd4qldYKbRo_"
      },
      "source": [
        "### Onboard the dataset onto Rockfish\n",
        "\n",
        "The onboarding workflow is a good starting point to get to a synthetic version of your dataset quickly.\n",
        "\n",
        "To ensure optimal synthetic data generation, it's crucial to provide domain-specific information related to your dataset. This helps Rockfish’s Recommendation Engine tailor the workflow to your specific needs.\n"
      ]
    },
    {
      "cell_type": "code",
      "execution_count": 6,
      "metadata": {
        "colab": {
          "base_uri": "https://localhost:8080/"
        },
        "id": "PuvZsn7tbbI0",
        "outputId": "133f5554-15ca-4c29-dcc4-6938cb6ac00e"
      },
      "outputs": [
        {
          "name": "stdout",
          "output_type": "stream",
          "text": [
            "# _________________________________________________________________________\n",
            "#\n",
            "# RECOMMENDED CONFIGURATIONS\n",
            "#\n",
            "# (Remove or change any actions or configurations that are inappropriate\n",
            "#  for your use case, or add missing ones)\n",
            "# _________________________________________________________________________\n",
            "\n",
            "\n",
            "We detected a timeseries dataset with the following properties:\n",
            "Dimensions of dataset: (50000 x 8)\n",
            "Metadata fields: ['age', 'gender']\n",
            "Measurement fields: ['merchant', 'category', 'fraud', 'amount']\n",
            "Timestamp field: timestamp\n",
            "Session key field: customer\n",
            "Number of sessions: 3765\n",
            "\n",
            "# _________________________________________________________________________\n",
            "#\n",
            "# ~~~~~ Pre-processing recommendations ~~~~~\n",
            "# _________________________________________________________________________\n",
            "\n",
            "\n",
            "merge the following associated fields: [['merchant', 'category']]\n",
            "\n",
            "# _________________________________________________________________________\n",
            "#\n",
            "# ~~~~~ Model recommendations ~~~~~\n",
            "# _________________________________________________________________________\n",
            "\n",
            "\n",
            "We recommend using the TimeGAN model.\n",
            "\n",
            "For training, we recommend the following model parameters:\n",
            "DGConfig(sample_len=1, activate_normalization_per_sample=True, generator_attribute_num_layers=5, generator_feature_num_layers=1, epoch=10, batch_size=32, g_lr=0.0001, d_lr=0.0001, attr_d_beta1=0.5, sessions=200, extras={})\n",
            "\n",
            "For generation, we recommend the following model parameters:\n",
            "sessions: 200\n",
            "\n",
            "# _________________________________________________________________________\n",
            "#\n",
            "# ~~~~~ Post-processing recommendations ~~~~~\n",
            "# _________________________________________________________________________\n",
            "\n",
            "\n",
            "split associated fields back to separate fields: ['merchant;category']\n"
          ]
        }
      ],
      "source": [
        "dataset_properties = DatasetPropertyExtractor(\n",
        "    dataset,\n",
        "    session_key=\"customer\",\n",
        "    metadata_fields=[\"age\", \"gender\"],\n",
        "    additional_property_keys=[\"association_rules\"],\n",
        ").extract()\n",
        "recommender_output = Recommender(dataset_properties).run()\n",
        "print(recommender_output.report)"
      ]
    },
    {
      "cell_type": "markdown",
      "metadata": {
        "id": "ZQQOTUnxb6XJ"
      },
      "source": [
        "#### Run the recommended workflow to get a synthetic dataset\n"
      ]
    },
    {
      "cell_type": "code",
      "execution_count": 7,
      "metadata": {
        "colab": {
          "base_uri": "https://localhost:8080/"
        },
        "id": "t4mY164eb9Ic",
        "outputId": "f7bcd58f-1d0c-4862-848c-169bee00b49a"
      },
      "outputs": [
        {
          "name": "stdout",
          "output_type": "stream",
          "text": [
            "Workflow: 3Gv9c3qdJMW8XzIlW9KDjj\n"
          ]
        }
      ],
      "source": [
        "rec_actions = recommender_output.actions\n",
        "save = ra.DatasetSave(name=\"synthetic\")\n",
        "\n",
        "# use recommended actions in a Rockfish workflow\n",
        "builder = rf.WorkflowBuilder()\n",
        "builder.add_path(dataset, *rec_actions, save)\n",
        "\n",
        "# run the Rockfish workflow\n",
        "workflow = await builder.start(conn)\n",
        "print(f\"Workflow: {workflow.id()}\")"
      ]
    },
    {
      "cell_type": "markdown",
      "metadata": {
        "id": "Q6bScF8ncLN4"
      },
      "source": [
        "View logs for the running workflow:\n"
      ]
    },
    {
      "cell_type": "code",
      "execution_count": 8,
      "metadata": {
        "colab": {
          "base_uri": "https://localhost:8080/"
        },
        "id": "_TeT2DFZcKj2",
        "outputId": "2c8df097-0640-4e90-caec-1c13fe77f36c"
      },
      "outputs": [
        {
          "name": "stdout",
          "output_type": "stream",
          "text": [
            "2025-02-07T01:06:09Z dataset-load: INFO Downloading dataset '3MJPgpwtdI105YLiyf5sL1'\n",
            "2025-02-07T01:06:09Z dataset-load: INFO Downloaded dataset '3MJPgpwtdI105YLiyf5sL1' with 50000 rows\n",
            "2025-02-07T01:06:10Z train-time-gan: WARN The `sessions` parameter is deprecated in the train config, set it in the generate configuration.\n",
            "2025-02-07T01:06:15Z train-time-gan: INFO Starting DG training job\n",
            "2025-02-07T01:06:26Z train-time-gan: INFO Epoch 1 completed.\n",
            "2025-02-07T01:06:37Z train-time-gan: INFO Epoch 2 completed.\n",
            "2025-02-07T01:06:48Z train-time-gan: INFO Epoch 3 completed.\n",
            "2025-02-07T01:06:59Z train-time-gan: INFO Epoch 4 completed.\n",
            "2025-02-07T01:07:10Z train-time-gan: INFO Epoch 5 completed.\n",
            "2025-02-07T01:07:21Z train-time-gan: INFO Epoch 6 completed.\n",
            "2025-02-07T01:07:32Z train-time-gan: INFO Epoch 7 completed.\n",
            "2025-02-07T01:07:43Z train-time-gan: INFO Epoch 8 completed.\n",
            "2025-02-07T01:07:53Z train-time-gan: INFO Epoch 9 completed.\n",
            "2025-02-07T01:08:05Z train-time-gan: INFO Epoch 10 completed.\n",
            "2025-02-07T01:08:06Z train-time-gan: INFO Training completed. Uploaded model fcf2ed34-e4ef-11ef-a0ee-0e92d88750cd\n",
            "2025-02-07T01:08:07Z generate-time-gan: INFO Downloading model with model_id='fcf2ed34-e4ef-11ef-a0ee-0e92d88750cd'...\n",
            "2025-02-07T01:08:08Z generate-time-gan: INFO Generating 200 sessions...\n",
            "2025-02-07T01:08:09Z dataset-save: INFO using field 'session_key' to concatenate tables\n",
            "2025-02-07T01:08:09Z dataset-save: INFO Saved dataset '1haFw78wIkKguiVNegIhwe' with 2562 rows\n"
          ]
        }
      ],
      "source": [
        "async for log in workflow.logs():\n",
        "    print(log)"
      ]
    },
    {
      "cell_type": "markdown",
      "metadata": {
        "id": "TEDizQAScg8J"
      },
      "source": [
        "Download and view the synthetic dataset locally:\n"
      ]
    },
    {
      "cell_type": "code",
      "execution_count": 12,
      "metadata": {
        "colab": {
          "base_uri": "https://localhost:8080/",
          "height": 424
        },
        "id": "G4_0TVMncghE",
        "outputId": "5ac69b4c-d4db-46f8-9f6b-63264954afc3"
      },
      "outputs": [
        {
          "data": {
            "text/html": [
              "<div>\n",
              "<style scoped>\n",
              "    .dataframe tbody tr th:only-of-type {\n",
              "        vertical-align: middle;\n",
              "    }\n",
              "\n",
              "    .dataframe tbody tr th {\n",
              "        vertical-align: top;\n",
              "    }\n",
              "\n",
              "    .dataframe thead th {\n",
              "        text-align: right;\n",
              "    }\n",
              "</style>\n",
              "<table border=\"1\" class=\"dataframe\">\n",
              "  <thead>\n",
              "    <tr style=\"text-align: right;\">\n",
              "      <th></th>\n",
              "      <th>timestamp</th>\n",
              "      <th>amount</th>\n",
              "      <th>age</th>\n",
              "      <th>gender</th>\n",
              "      <th>fraud</th>\n",
              "      <th>merchant</th>\n",
              "      <th>category</th>\n",
              "      <th>session_key</th>\n",
              "    </tr>\n",
              "  </thead>\n",
              "  <tbody>\n",
              "    <tr>\n",
              "      <th>0</th>\n",
              "      <td>2023-01-01 12:57:08.160</td>\n",
              "      <td>82.365322</td>\n",
              "      <td>3</td>\n",
              "      <td>F</td>\n",
              "      <td>1</td>\n",
              "      <td>M1748431652</td>\n",
              "      <td>wellnessandbeauty</td>\n",
              "      <td>0.0</td>\n",
              "    </tr>\n",
              "    <tr>\n",
              "      <th>1</th>\n",
              "      <td>2023-01-01 08:34:43.703</td>\n",
              "      <td>59.190336</td>\n",
              "      <td>1</td>\n",
              "      <td>M</td>\n",
              "      <td>0</td>\n",
              "      <td>M348934600</td>\n",
              "      <td>transportation</td>\n",
              "      <td>1.0</td>\n",
              "    </tr>\n",
              "    <tr>\n",
              "      <th>2</th>\n",
              "      <td>2023-01-02 18:22:12.907</td>\n",
              "      <td>54.033554</td>\n",
              "      <td>1</td>\n",
              "      <td>M</td>\n",
              "      <td>0</td>\n",
              "      <td>M348934600</td>\n",
              "      <td>transportation</td>\n",
              "      <td>1.0</td>\n",
              "    </tr>\n",
              "    <tr>\n",
              "      <th>3</th>\n",
              "      <td>2023-01-04 07:21:54.332</td>\n",
              "      <td>47.782675</td>\n",
              "      <td>1</td>\n",
              "      <td>M</td>\n",
              "      <td>0</td>\n",
              "      <td>M348934600</td>\n",
              "      <td>transportation</td>\n",
              "      <td>1.0</td>\n",
              "    </tr>\n",
              "    <tr>\n",
              "      <th>4</th>\n",
              "      <td>2023-01-05 23:00:27.081</td>\n",
              "      <td>45.394337</td>\n",
              "      <td>1</td>\n",
              "      <td>M</td>\n",
              "      <td>0</td>\n",
              "      <td>M348934600</td>\n",
              "      <td>transportation</td>\n",
              "      <td>1.0</td>\n",
              "    </tr>\n",
              "    <tr>\n",
              "      <th>...</th>\n",
              "      <td>...</td>\n",
              "      <td>...</td>\n",
              "      <td>...</td>\n",
              "      <td>...</td>\n",
              "      <td>...</td>\n",
              "      <td>...</td>\n",
              "      <td>...</td>\n",
              "      <td>...</td>\n",
              "    </tr>\n",
              "    <tr>\n",
              "      <th>2557</th>\n",
              "      <td>2023-01-16 18:46:23.662</td>\n",
              "      <td>34.619232</td>\n",
              "      <td>2</td>\n",
              "      <td>M</td>\n",
              "      <td>0</td>\n",
              "      <td>M348934600</td>\n",
              "      <td>transportation</td>\n",
              "      <td>199.0</td>\n",
              "    </tr>\n",
              "    <tr>\n",
              "      <th>2558</th>\n",
              "      <td>2023-01-18 10:25:54.740</td>\n",
              "      <td>34.352470</td>\n",
              "      <td>2</td>\n",
              "      <td>M</td>\n",
              "      <td>0</td>\n",
              "      <td>M348934600</td>\n",
              "      <td>transportation</td>\n",
              "      <td>199.0</td>\n",
              "    </tr>\n",
              "    <tr>\n",
              "      <th>2559</th>\n",
              "      <td>2023-01-20 01:56:54.299</td>\n",
              "      <td>34.192381</td>\n",
              "      <td>2</td>\n",
              "      <td>M</td>\n",
              "      <td>0</td>\n",
              "      <td>M348934600</td>\n",
              "      <td>transportation</td>\n",
              "      <td>199.0</td>\n",
              "    </tr>\n",
              "    <tr>\n",
              "      <th>2560</th>\n",
              "      <td>2023-01-21 16:25:18.600</td>\n",
              "      <td>34.115688</td>\n",
              "      <td>2</td>\n",
              "      <td>M</td>\n",
              "      <td>0</td>\n",
              "      <td>M348934600</td>\n",
              "      <td>transportation</td>\n",
              "      <td>199.0</td>\n",
              "    </tr>\n",
              "    <tr>\n",
              "      <th>2561</th>\n",
              "      <td>2023-01-23 04:52:19.894</td>\n",
              "      <td>32.520031</td>\n",
              "      <td>2</td>\n",
              "      <td>M</td>\n",
              "      <td>0</td>\n",
              "      <td>M348934600</td>\n",
              "      <td>transportation</td>\n",
              "      <td>199.0</td>\n",
              "    </tr>\n",
              "  </tbody>\n",
              "</table>\n",
              "<p>2562 rows × 8 columns</p>\n",
              "</div>"
            ],
            "text/plain": [
              "                   timestamp     amount age gender  fraud     merchant  \\\n",
              "0    2023-01-01 12:57:08.160  82.365322   3      F      1  M1748431652   \n",
              "1    2023-01-01 08:34:43.703  59.190336   1      M      0   M348934600   \n",
              "2    2023-01-02 18:22:12.907  54.033554   1      M      0   M348934600   \n",
              "3    2023-01-04 07:21:54.332  47.782675   1      M      0   M348934600   \n",
              "4    2023-01-05 23:00:27.081  45.394337   1      M      0   M348934600   \n",
              "...                      ...        ...  ..    ...    ...          ...   \n",
              "2557 2023-01-16 18:46:23.662  34.619232   2      M      0   M348934600   \n",
              "2558 2023-01-18 10:25:54.740  34.352470   2      M      0   M348934600   \n",
              "2559 2023-01-20 01:56:54.299  34.192381   2      M      0   M348934600   \n",
              "2560 2023-01-21 16:25:18.600  34.115688   2      M      0   M348934600   \n",
              "2561 2023-01-23 04:52:19.894  32.520031   2      M      0   M348934600   \n",
              "\n",
              "               category  session_key  \n",
              "0     wellnessandbeauty          0.0  \n",
              "1        transportation          1.0  \n",
              "2        transportation          1.0  \n",
              "3        transportation          1.0  \n",
              "4        transportation          1.0  \n",
              "...                 ...          ...  \n",
              "2557     transportation        199.0  \n",
              "2558     transportation        199.0  \n",
              "2559     transportation        199.0  \n",
              "2560     transportation        199.0  \n",
              "2561     transportation        199.0  \n",
              "\n",
              "[2562 rows x 8 columns]"
            ]
          },
          "execution_count": 12,
          "metadata": {},
          "output_type": "execute_result"
        }
      ],
      "source": [
        "syn = None\n",
        "async for sds in workflow.datasets():\n",
        "    syn = await sds.to_local(conn)\n",
        "syn.to_pandas()"
      ]
    },
    {
      "cell_type": "markdown",
      "metadata": {
        "id": "RmhdoeldtI00"
      },
      "source": [
        "### Evaluate the synthetic dataset\n"
      ]
    },
    {
      "cell_type": "code",
      "execution_count": 13,
      "metadata": {
        "cellView": "form",
        "id": "vmngYsA7cTBo"
      },
      "outputs": [],
      "source": [
        "# @title ##### Define a helper function `get_fidelity_score()` to calculate the marginal distribution score:\n",
        "\n",
        "import copy\n",
        "\n",
        "\n",
        "def get_fidelity_score(source, source_dataset_properties, syn):\n",
        "    source = copy.deepcopy(source)\n",
        "    syn = copy.deepcopy(syn)\n",
        "\n",
        "    columns_to_drop = [source_dataset_properties.session_key]\n",
        "    source.table = source.table.drop_columns(columns_to_drop)\n",
        "\n",
        "    columns_to_drop = [\"session_key\"]\n",
        "    syn.table = syn.table.drop_columns(columns_to_drop)\n",
        "\n",
        "    categorical_measurements = source_dataset_properties.filter_fields(\n",
        "        ftype=FieldType.MEASUREMENT, etype=EncoderType.CATEGORICAL\n",
        "    )\n",
        "\n",
        "    return marginal_dist_score(\n",
        "        source,\n",
        "        syn,\n",
        "        metadata=source_dataset_properties.metadata_fields,\n",
        "        other_categorical=categorical_measurements,\n",
        "    )"
      ]
    },
    {
      "cell_type": "code",
      "execution_count": 15,
      "metadata": {
        "colab": {
          "base_uri": "https://localhost:8080/"
        },
        "id": "oNMp4sEeq2oT",
        "outputId": "6e2a69f5-5104-4692-c4ab-e02d6f08a114"
      },
      "outputs": [
        {
          "data": {
            "text/plain": [
              "0.7060827985906382"
            ]
          },
          "execution_count": 15,
          "metadata": {},
          "output_type": "execute_result"
        }
      ],
      "source": [
        "get_fidelity_score(\n",
        "    source=dataset, source_dataset_properties=dataset_properties, syn=syn\n",
        ")"
      ]
    },
    {
      "cell_type": "markdown",
      "metadata": {
        "id": "XJItkMnpdJ-e"
      },
      "source": [
        "### Next Steps\n",
        "\n",
        "As you just saw, the onboarding workflow is a good starting point to get to a synthetic dataset quickly.\n",
        "\n",
        "You can now modify this workflow according to your requirements to get your final synthetic dataset!\n",
        "\n",
        "The following pages in the Rockfish documentation will be useful for this purpose:\n",
        "\n",
        "1. Adding more steps (i.e. Rockfish actions) to a Rockfish workflow: https://docs142.rockfish.ai/sdk-overview.html#actions-and-workflows\n",
        "2. Hyperparameters you can change to improve the performance of Rockfish models: https://docs142.rockfish.ai/models.html\n",
        "3. Using more metrics and plots to evaluate your synthetic dataset: https://docs142.rockfish.ai/data-eval.html\n"
      ]
    }
  ],
  "metadata": {
    "colab": {
      "provenance": []
    },
    "kernelspec": {
      "display_name": "colab",
      "language": "python",
      "name": "python3"
    },
    "language_info": {
      "codemirror_mode": {
        "name": "ipython",
        "version": 3
      },
      "file_extension": ".py",
      "mimetype": "text/x-python",
      "name": "python",
      "nbconvert_exporter": "python",
      "pygments_lexer": "ipython3",
      "version": "3.12.4"
    }
  },
  "nbformat": 4,
  "nbformat_minor": 0
}
